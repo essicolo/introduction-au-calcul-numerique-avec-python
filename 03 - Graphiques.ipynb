{
  "nbformat": 4,
  "nbformat_minor": 5,
  "metadata": {
    "selected_hardware_size": "small",
    "noteable": {
      "last_transaction_id": "316a6e06-b4db-48c9-b909-31b027d0718a"
    }
  },
  "cells": [
    {
      "id": "c2f348f7-4009-4ce2-aaf6-c70a2b00d923",
      "cell_type": "code",
      "metadata": {
        "noteable": {
          "cell_type": "python",
          "output_collection_id": "53471b84-8cf2-44b7-a1b3-0840830aa412"
        },
        "ExecuteTime": {
          "end_time": "2023-07-14T00:26:59.227499+00:00",
          "start_time": "2023-07-14T00:26:53.054036+00:00"
        }
      },
      "execution_count": null,
      "source": "!pip install polars==0.18.2",
      "outputs": []
    },
    {
      "id": "eba86448-663e-48c7-a4cc-c6ca988d52d8",
      "cell_type": "markdown",
      "source": "# Graphiques\n\nCréer des graphiques est une tâche essentielle dans un flux de travail en science. Un graphique bien conçu est dense en information. La visualisation des données permet d'explorer des tableaux jusqu'à créer des éléments visuels voués à la publication, dont l'information serait autrement difficile, voire impossible à transmettre.\n",
      "metadata": {
        "noteable": {
          "cell_type": "markdown"
        }
      }
    },
    {
      "id": "92c81d1d-782b-4740-8c4b-9a834f8af99b",
      "cell_type": "markdown",
      "source": "## Pourquoi explorer graphiquement ?\n\nLa plupart des graphiques que vous générerez ne seront pas destinés à être publiés. Ils viseront probablement d'abord à explorer des données. Cela vous permettra de mettre en évidence de nouvelles perspectives.\n\nPrenons par exemple deux variables, `x` et `y`. Vous calculez leur moyenne et leur écart-type.\n",
      "metadata": {
        "noteable": {
          "cell_type": "markdown"
        }
      }
    },
    {
      "id": "8d15f219",
      "cell_type": "code",
      "metadata": {
        "noteable": {
          "output_collection_id": "10af46d0-2797-4421-b18d-fabdc75a4b2b"
        },
        "ExecuteTime": {
          "end_time": "2023-07-14T00:29:17.572539+00:00",
          "start_time": "2023-07-14T00:29:17.333936+00:00"
        },
        "datalink": {
          "476e20ea-e944-4b1c-b874-0a7598100c5b": {
            "applied_filters": [],
            "dataframe_info": {
              "default_index_used": true,
              "orig_num_cols": 3,
              "orig_num_rows": 1846,
              "orig_size_bytes": 59072,
              "truncated_num_cols": 3,
              "truncated_num_rows": 1846,
              "truncated_size_bytes": 59072,
              "truncated_string_columns": []
            },
            "display_id": "476e20ea-e944-4b1c-b874-0a7598100c5b",
            "dx_settings": {
              "ALLOW_NOTEABLE_ATTRS": true,
              "COLUMN_SAMPLING_METHOD": "outer",
              "DB_LOCATION": ":memory:",
              "DEV_MODE": false,
              "DISPLAY_MAX_COLUMNS": 100,
              "DISPLAY_MAX_ROWS": 50000,
              "DISPLAY_MODE": "simple",
              "ENABLE_ASSIGNMENT": true,
              "ENABLE_DATALINK": true,
              "FLATTEN_COLUMN_VALUES": true,
              "FLATTEN_INDEX_VALUES": false,
              "GENERATE_DEX_METADATA": false,
              "HTML_TABLE_SCHEMA": false,
              "LOG_LEVEL": 30,
              "MAX_RENDER_SIZE_BYTES": 104857600,
              "MAX_STRING_LENGTH": 250,
              "NUM_PAST_SAMPLES_TRACKED": 3,
              "RANDOM_STATE": 12648430,
              "RESET_INDEX_VALUES": false,
              "ROW_SAMPLING_METHOD": "random",
              "SAMPLING_FACTOR": 0.1,
              "SAMPLING_METHOD": "random",
              "STRINGIFY_COLUMN_VALUES": true,
              "STRINGIFY_INDEX_VALUES": false
            },
            "sample_history": [],
            "sampling_time": "2023-06-07T18:34:26.825811",
            "user_variable_name": null,
            "variable_name": "unk_dataframe_6e5c27a7d68743e4813171e007c24ce5"
          },
          "bd816802-4cf4-4cdb-9e49-182c1e3fc269": {
            "applied_filters": [],
            "dataframe_info": {
              "default_index_used": true,
              "orig_num_cols": 5,
              "orig_num_rows": 13,
              "orig_size_bytes": 624,
              "truncated_num_cols": 5,
              "truncated_num_rows": 13,
              "truncated_size_bytes": 624,
              "truncated_string_columns": []
            },
            "display_id": "bd816802-4cf4-4cdb-9e49-182c1e3fc269",
            "dx_settings": {
              "ALLOW_NOTEABLE_ATTRS": true,
              "COLUMN_SAMPLING_METHOD": "outer",
              "DB_LOCATION": ":memory:",
              "DEV_MODE": false,
              "DISPLAY_MAX_COLUMNS": 100,
              "DISPLAY_MAX_ROWS": 50000,
              "DISPLAY_MODE": "simple",
              "ENABLE_ASSIGNMENT": true,
              "ENABLE_DATALINK": true,
              "FLATTEN_COLUMN_VALUES": true,
              "FLATTEN_INDEX_VALUES": false,
              "GENERATE_DEX_METADATA": false,
              "HTML_TABLE_SCHEMA": false,
              "LOG_LEVEL": 30,
              "MAX_RENDER_SIZE_BYTES": 104857600,
              "MAX_STRING_LENGTH": 250,
              "NUM_PAST_SAMPLES_TRACKED": 3,
              "RANDOM_STATE": 12648430,
              "RESET_INDEX_VALUES": false,
              "ROW_SAMPLING_METHOD": "random",
              "SAMPLING_FACTOR": 0.1,
              "SAMPLING_METHOD": "random",
              "STRINGIFY_COLUMN_VALUES": true,
              "STRINGIFY_INDEX_VALUES": false
            },
            "sample_history": [],
            "sampling_time": "2023-06-07T18:43:37.049648",
            "user_variable_name": null,
            "variable_name": "unk_dataframe_615c81d004144f2d9e6183147aea983a"
          },
          "26052d90-0cb4-4f85-98ff-d9fc44cef35c": {
            "applied_filters": [],
            "dataframe_info": {
              "default_index_used": true,
              "orig_num_cols": 5,
              "orig_num_rows": 13,
              "orig_size_bytes": 624,
              "truncated_num_cols": 5,
              "truncated_num_rows": 13,
              "truncated_size_bytes": 624,
              "truncated_string_columns": []
            },
            "display_id": "26052d90-0cb4-4f85-98ff-d9fc44cef35c",
            "dx_settings": {
              "ALLOW_NOTEABLE_ATTRS": true,
              "COLUMN_SAMPLING_METHOD": "outer",
              "DB_LOCATION": ":memory:",
              "DEV_MODE": false,
              "DISPLAY_MAX_COLUMNS": 100,
              "DISPLAY_MAX_ROWS": 50000,
              "DISPLAY_MODE": "simple",
              "ENABLE_ASSIGNMENT": true,
              "ENABLE_DATALINK": true,
              "FLATTEN_COLUMN_VALUES": true,
              "FLATTEN_INDEX_VALUES": false,
              "GENERATE_DEX_METADATA": false,
              "HTML_TABLE_SCHEMA": false,
              "LOG_LEVEL": 30,
              "MAX_RENDER_SIZE_BYTES": 104857600,
              "MAX_STRING_LENGTH": 250,
              "NUM_PAST_SAMPLES_TRACKED": 3,
              "RANDOM_STATE": 12648430,
              "RESET_INDEX_VALUES": false,
              "ROW_SAMPLING_METHOD": "random",
              "SAMPLING_FACTOR": 0.1,
              "SAMPLING_METHOD": "random",
              "STRINGIFY_COLUMN_VALUES": true,
              "STRINGIFY_INDEX_VALUES": false
            },
            "sample_history": [],
            "sampling_time": "2023-06-07T19:16:01.895781",
            "user_variable_name": null,
            "variable_name": "unk_dataframe_7a4732faccb74d2d9cdd6e7353e3835e"
          },
          "570d4979-7ccd-4ce0-8ca1-6353450e2fca": {
            "applied_filters": [],
            "dataframe_info": {
              "default_index_used": true,
              "orig_num_cols": 5,
              "orig_num_rows": 13,
              "orig_size_bytes": 624,
              "truncated_num_cols": 5,
              "truncated_num_rows": 13,
              "truncated_size_bytes": 624,
              "truncated_string_columns": []
            },
            "display_id": "570d4979-7ccd-4ce0-8ca1-6353450e2fca",
            "dx_settings": {
              "ALLOW_NOTEABLE_ATTRS": true,
              "COLUMN_SAMPLING_METHOD": "outer",
              "DB_LOCATION": ":memory:",
              "DEV_MODE": false,
              "DISPLAY_MAX_COLUMNS": 100,
              "DISPLAY_MAX_ROWS": 50000,
              "DISPLAY_MODE": "simple",
              "ENABLE_ASSIGNMENT": true,
              "ENABLE_DATALINK": true,
              "FLATTEN_COLUMN_VALUES": true,
              "FLATTEN_INDEX_VALUES": false,
              "GENERATE_DEX_METADATA": false,
              "HTML_TABLE_SCHEMA": false,
              "LOG_LEVEL": 30,
              "MAX_RENDER_SIZE_BYTES": 104857600,
              "MAX_STRING_LENGTH": 250,
              "NUM_PAST_SAMPLES_TRACKED": 3,
              "RANDOM_STATE": 12648430,
              "RESET_INDEX_VALUES": false,
              "ROW_SAMPLING_METHOD": "random",
              "SAMPLING_FACTOR": 0.1,
              "SAMPLING_METHOD": "random",
              "STRINGIFY_COLUMN_VALUES": true,
              "STRINGIFY_INDEX_VALUES": false
            },
            "sample_history": [],
            "sampling_time": "2023-07-10T20:36:23.790713",
            "user_variable_name": null,
            "variable_name": "unk_dataframe_a71bba1ce55347368cb2a1f9deb9dacd"
          },
          "ccc848e7-6361-4b69-9e75-67583e3693b4": {
            "applied_filters": [],
            "dataframe_info": {
              "default_index_used": true,
              "orig_num_cols": 5,
              "orig_num_rows": 13,
              "orig_size_bytes": 624,
              "truncated_num_cols": 5,
              "truncated_num_rows": 13,
              "truncated_size_bytes": 624,
              "truncated_string_columns": []
            },
            "display_id": "ccc848e7-6361-4b69-9e75-67583e3693b4",
            "dx_settings": {
              "ALLOW_NOTEABLE_ATTRS": true,
              "COLUMN_SAMPLING_METHOD": "outer",
              "DB_LOCATION": ":memory:",
              "DEV_MODE": false,
              "DISPLAY_MAX_COLUMNS": 100,
              "DISPLAY_MAX_ROWS": 50000,
              "DISPLAY_MODE": "simple",
              "ENABLE_ASSIGNMENT": true,
              "ENABLE_DATALINK": true,
              "FLATTEN_COLUMN_VALUES": true,
              "FLATTEN_INDEX_VALUES": false,
              "GENERATE_DEX_METADATA": false,
              "HTML_TABLE_SCHEMA": false,
              "LOG_LEVEL": 30,
              "MAX_RENDER_SIZE_BYTES": 104857600,
              "MAX_STRING_LENGTH": 250,
              "NUM_PAST_SAMPLES_TRACKED": 3,
              "RANDOM_STATE": 12648430,
              "RESET_INDEX_VALUES": false,
              "ROW_SAMPLING_METHOD": "random",
              "SAMPLING_FACTOR": 0.1,
              "SAMPLING_METHOD": "random",
              "STRINGIFY_COLUMN_VALUES": true,
              "STRINGIFY_INDEX_VALUES": false
            },
            "sample_history": [],
            "sampling_time": "2023-07-13T18:38:58.889644",
            "user_variable_name": null,
            "variable_name": "unk_dataframe_8b2f4a1004f94d0a85f2d8ee295f6963"
          },
          "17d97462-c4b0-4d7e-8338-6571732d0fdc": {
            "applied_filters": [],
            "dataframe_info": {
              "default_index_used": true,
              "orig_num_cols": 5,
              "orig_num_rows": 13,
              "orig_size_bytes": 624,
              "truncated_num_cols": 5,
              "truncated_num_rows": 13,
              "truncated_size_bytes": 624,
              "truncated_string_columns": []
            },
            "display_id": "17d97462-c4b0-4d7e-8338-6571732d0fdc",
            "dx_settings": {
              "ALLOW_NOTEABLE_ATTRS": true,
              "COLUMN_SAMPLING_METHOD": "outer",
              "DB_LOCATION": ":memory:",
              "DEV_MODE": false,
              "DISPLAY_MAX_COLUMNS": 100,
              "DISPLAY_MAX_ROWS": 50000,
              "DISPLAY_MODE": "simple",
              "ENABLE_ASSIGNMENT": true,
              "ENABLE_DATALINK": true,
              "FLATTEN_COLUMN_VALUES": true,
              "FLATTEN_INDEX_VALUES": false,
              "GENERATE_DEX_METADATA": false,
              "HTML_TABLE_SCHEMA": false,
              "LOG_LEVEL": 30,
              "MAX_RENDER_SIZE_BYTES": 104857600,
              "MAX_STRING_LENGTH": 250,
              "NUM_PAST_SAMPLES_TRACKED": 3,
              "RANDOM_STATE": 12648430,
              "RESET_INDEX_VALUES": false,
              "ROW_SAMPLING_METHOD": "random",
              "SAMPLING_FACTOR": 0.1,
              "SAMPLING_METHOD": "random",
              "STRINGIFY_COLUMN_VALUES": true,
              "STRINGIFY_INDEX_VALUES": false
            },
            "sample_history": [],
            "sampling_time": "2023-07-13T18:40:35.215607",
            "user_variable_name": null,
            "variable_name": "unk_dataframe_e722cc33ab534478a7c1a91dd0e0fc38"
          },
          "3d0072f6-ee88-4e08-88d0-28d688799e79": {
            "applied_filters": [],
            "dataframe_info": {
              "default_index_used": true,
              "orig_num_cols": 5,
              "orig_num_rows": 13,
              "orig_size_bytes": 624,
              "truncated_num_cols": 5,
              "truncated_num_rows": 13,
              "truncated_size_bytes": 624,
              "truncated_string_columns": []
            },
            "display_id": "3d0072f6-ee88-4e08-88d0-28d688799e79",
            "dx_settings": {
              "ALLOW_NOTEABLE_ATTRS": true,
              "COLUMN_SAMPLING_METHOD": "outer",
              "DB_LOCATION": ":memory:",
              "DEV_MODE": false,
              "DISPLAY_MAX_COLUMNS": 100,
              "DISPLAY_MAX_ROWS": 50000,
              "DISPLAY_MODE": "simple",
              "ENABLE_ASSIGNMENT": true,
              "ENABLE_DATALINK": true,
              "FLATTEN_COLUMN_VALUES": true,
              "FLATTEN_INDEX_VALUES": false,
              "GENERATE_DEX_METADATA": false,
              "HTML_TABLE_SCHEMA": false,
              "LOG_LEVEL": 30,
              "MAX_RENDER_SIZE_BYTES": 104857600,
              "MAX_STRING_LENGTH": 250,
              "NUM_PAST_SAMPLES_TRACKED": 3,
              "RANDOM_STATE": 12648430,
              "RESET_INDEX_VALUES": false,
              "ROW_SAMPLING_METHOD": "random",
              "SAMPLING_FACTOR": 0.1,
              "SAMPLING_METHOD": "random",
              "STRINGIFY_COLUMN_VALUES": true,
              "STRINGIFY_INDEX_VALUES": false
            },
            "sample_history": [],
            "sampling_time": "2023-07-13T19:44:17.951275",
            "user_variable_name": null,
            "variable_name": "unk_dataframe_09be8fef18d246f0b9c4290ec12257a9"
          },
          "48fbfc53-4715-4139-82c4-80591c34259c": {
            "applied_filters": [],
            "dataframe_info": {
              "default_index_used": true,
              "orig_num_cols": 5,
              "orig_num_rows": 13,
              "orig_size_bytes": 624,
              "truncated_num_cols": 5,
              "truncated_num_rows": 13,
              "truncated_size_bytes": 624,
              "truncated_string_columns": []
            },
            "display_id": "48fbfc53-4715-4139-82c4-80591c34259c",
            "dx_settings": {
              "ALLOW_NOTEABLE_ATTRS": true,
              "COLUMN_SAMPLING_METHOD": "outer",
              "DB_LOCATION": ":memory:",
              "DEV_MODE": false,
              "DISPLAY_MAX_COLUMNS": 100,
              "DISPLAY_MAX_ROWS": 50000,
              "DISPLAY_MODE": "simple",
              "ENABLE_ASSIGNMENT": true,
              "ENABLE_DATALINK": true,
              "FLATTEN_COLUMN_VALUES": true,
              "FLATTEN_INDEX_VALUES": false,
              "GENERATE_DEX_METADATA": false,
              "HTML_TABLE_SCHEMA": false,
              "LOG_LEVEL": 30,
              "MAX_RENDER_SIZE_BYTES": 104857600,
              "MAX_STRING_LENGTH": 250,
              "NUM_PAST_SAMPLES_TRACKED": 3,
              "RANDOM_STATE": 12648430,
              "RESET_INDEX_VALUES": false,
              "ROW_SAMPLING_METHOD": "random",
              "SAMPLING_FACTOR": 0.1,
              "SAMPLING_METHOD": "random",
              "STRINGIFY_COLUMN_VALUES": true,
              "STRINGIFY_INDEX_VALUES": false
            },
            "sample_history": [],
            "sampling_time": "2023-07-14T00:27:01.369394",
            "user_variable_name": null,
            "variable_name": "unk_dataframe_ed8a5349bca145b4967b0cb073e93df6"
          },
          "2af70db5-5bc0-4c65-bdc5-23e9d0869e50": {
            "applied_filters": [],
            "dataframe_info": {
              "default_index_used": true,
              "orig_num_cols": 5,
              "orig_num_rows": 13,
              "orig_size_bytes": 624,
              "truncated_num_cols": 5,
              "truncated_num_rows": 13,
              "truncated_size_bytes": 624,
              "truncated_string_columns": []
            },
            "display_id": "2af70db5-5bc0-4c65-bdc5-23e9d0869e50",
            "dx_settings": {
              "ALLOW_NOTEABLE_ATTRS": true,
              "COLUMN_SAMPLING_METHOD": "outer",
              "DB_LOCATION": ":memory:",
              "DEV_MODE": false,
              "DISPLAY_MAX_COLUMNS": 100,
              "DISPLAY_MAX_ROWS": 50000,
              "DISPLAY_MODE": "simple",
              "ENABLE_ASSIGNMENT": true,
              "ENABLE_DATALINK": true,
              "FLATTEN_COLUMN_VALUES": true,
              "FLATTEN_INDEX_VALUES": false,
              "GENERATE_DEX_METADATA": false,
              "HTML_TABLE_SCHEMA": false,
              "LOG_LEVEL": 30,
              "MAX_RENDER_SIZE_BYTES": 104857600,
              "MAX_STRING_LENGTH": 250,
              "NUM_PAST_SAMPLES_TRACKED": 3,
              "RANDOM_STATE": 12648430,
              "RESET_INDEX_VALUES": false,
              "ROW_SAMPLING_METHOD": "random",
              "SAMPLING_FACTOR": 0.1,
              "SAMPLING_METHOD": "random",
              "STRINGIFY_COLUMN_VALUES": true,
              "STRINGIFY_INDEX_VALUES": false
            },
            "sample_history": [],
            "sampling_time": "2023-07-14T00:28:12.446136",
            "user_variable_name": null,
            "variable_name": "unk_dataframe_2ff6ee2a63814166949a4056540bc874"
          },
          "dfac126e-4ed7-4c2f-a543-de89dc569164": {
            "applied_filters": [],
            "dataframe_info": {
              "default_index_used": true,
              "orig_num_cols": 5,
              "orig_num_rows": 13,
              "orig_size_bytes": 624,
              "truncated_num_cols": 5,
              "truncated_num_rows": 13,
              "truncated_size_bytes": 624,
              "truncated_string_columns": []
            },
            "display_id": "dfac126e-4ed7-4c2f-a543-de89dc569164",
            "dx_settings": {
              "ALLOW_NOTEABLE_ATTRS": true,
              "COLUMN_SAMPLING_METHOD": "outer",
              "DB_LOCATION": ":memory:",
              "DEV_MODE": false,
              "DISPLAY_MAX_COLUMNS": 100,
              "DISPLAY_MAX_ROWS": 50000,
              "DISPLAY_MODE": "simple",
              "ENABLE_ASSIGNMENT": true,
              "ENABLE_DATALINK": true,
              "FLATTEN_COLUMN_VALUES": true,
              "FLATTEN_INDEX_VALUES": false,
              "GENERATE_DEX_METADATA": false,
              "HTML_TABLE_SCHEMA": false,
              "LOG_LEVEL": 30,
              "MAX_RENDER_SIZE_BYTES": 104857600,
              "MAX_STRING_LENGTH": 250,
              "NUM_PAST_SAMPLES_TRACKED": 3,
              "RANDOM_STATE": 12648430,
              "RESET_INDEX_VALUES": false,
              "ROW_SAMPLING_METHOD": "random",
              "SAMPLING_FACTOR": 0.1,
              "SAMPLING_METHOD": "random",
              "STRINGIFY_COLUMN_VALUES": true,
              "STRINGIFY_INDEX_VALUES": false
            },
            "sample_history": [],
            "sampling_time": "2023-07-14T00:29:17.415029",
            "user_variable_name": null,
            "variable_name": "unk_dataframe_96718d9cace74633b850e0f10543761f"
          }
        }
      },
      "execution_count": null,
      "source": "import polars as pl\ndatasaurus = pl.read_csv('data/datasaurus.csv')\n(\n    datasaurus\n    .groupby('dataset')\n    .agg([\n        pl.col('x').mean().alias('moyenne_x'),\n        pl.col('x').std().alias('std_x'),\n        pl.col('y').mean().alias('moyenne_y'),\n        pl.col('y').std().alias('std_y'),\n    ])\n)",
      "outputs": []
    },
    {
      "id": "7d07d9c7-1ced-480c-9331-21d1a61e0121",
      "cell_type": "markdown",
      "source": "Les moyennes et écarts-type sont semblables pour tous les jeux de données. Si l'on effectuait des tests statistiques, ils ne seraint pas significatifs. On pourrait alors conclure que ces données proviennent de distributions statistiques identiques à un niveau de confiance très sévère.\n\nPour démontrer que ces statistiques ne vous apprendront pas grand-chose sur la structure des données, [Matejka et Fitzmaurice (2017)](https://www.autodeskresearch.com/publications/samestats) ont généré ces 12 jeux de données, ayant chacun pratiquement les mêmes statistiques... mais avec des structures bien différentes:\n\n![](https://app.noteable.io/api/image/d0f65326-0702-4a7a-9be2-d621648bf123)",
      "metadata": {
        "noteable": {
          "cell_type": "markdown"
        }
      }
    },
    {
      "id": "e9548656-2929-461b-b618-c78eff2e1cd0",
      "cell_type": "markdown",
      "source": "## Choisir le type de graphique le plus approprié\n\nDe nombreuses manières de présenter les données sont couramment utilisées, comme les nuages de point, les lignes, les histogrammes, les diagrammes en barre et en pointe de tarte. Noteable vous en propose une belle collection. Il existe de même de nombreux guides pour sélectionner le type de graphique approprié selon la situation. Je vous conseille le guide [*From data to viz*](https://www.data-to-viz.com/). En ce qui a trait aux couleurs, le choix n'est pas anodin, ne serait-ce que de sélectionner des couleurs robustes aux handicaps visuels : préférez donc les couleurs de [*Color brewer 2*](colorbrewer2.org).",
      "metadata": {
        "noteable": {
          "cell_type": "markdown"
        }
      }
    },
    {
      "id": "2377238b-e88b-4322-b729-9bf403af849b",
      "cell_type": "markdown",
      "source": "## Les graphiques avec Noteable\n\nLes données `datasaurus` vous permettront d'explorer [*Semiotic*](https://semiotic.nteract.io/), l'outil graphique de Noteable. Affichez le tableau `datasaurus` dans une cellule de code, cliquer sur *Visualize*, et lancez-vous. Remarquez que les attributs graphiques sont liés à des colonnes. Nous y reviendrons.",
      "metadata": {
        "noteable": {
          "cell_type": "markdown"
        }
      }
    },
    {
      "id": "c75b9d52-a451-49bd-a4c1-119faf2a947e",
      "cell_type": "code",
      "metadata": {
        "noteable": {
          "cell_type": "python",
          "output_collection_id": "19efcab5-8e6b-432a-843d-74340a245667"
        },
        "ExecuteTime": {
          "end_time": "2023-07-14T00:29:23.337695+00:00",
          "start_time": "2023-07-14T00:29:23.079741+00:00"
        },
        "datalink": {
          "dd9562cd-9851-4bdf-9352-21e545d4da70": {
            "applied_filters": [],
            "dataframe_info": {
              "default_index_used": true,
              "orig_num_cols": 3,
              "orig_num_rows": 1846,
              "orig_size_bytes": 59072,
              "truncated_num_cols": 3,
              "truncated_num_rows": 1846,
              "truncated_size_bytes": 59072,
              "truncated_string_columns": []
            },
            "display_id": "dd9562cd-9851-4bdf-9352-21e545d4da70",
            "dx_settings": {
              "ALLOW_NOTEABLE_ATTRS": true,
              "COLUMN_SAMPLING_METHOD": "outer",
              "DB_LOCATION": ":memory:",
              "DEV_MODE": false,
              "DISPLAY_MAX_COLUMNS": 100,
              "DISPLAY_MAX_ROWS": 50000,
              "DISPLAY_MODE": "simple",
              "ENABLE_ASSIGNMENT": true,
              "ENABLE_DATALINK": true,
              "FLATTEN_COLUMN_VALUES": true,
              "FLATTEN_INDEX_VALUES": false,
              "GENERATE_DEX_METADATA": false,
              "HTML_TABLE_SCHEMA": false,
              "LOG_LEVEL": 30,
              "MAX_RENDER_SIZE_BYTES": 104857600,
              "MAX_STRING_LENGTH": 250,
              "NUM_PAST_SAMPLES_TRACKED": 3,
              "RANDOM_STATE": 12648430,
              "RESET_INDEX_VALUES": false,
              "ROW_SAMPLING_METHOD": "random",
              "SAMPLING_FACTOR": 0.1,
              "SAMPLING_METHOD": "random",
              "STRINGIFY_COLUMN_VALUES": true,
              "STRINGIFY_INDEX_VALUES": false
            },
            "sample_history": [],
            "sampling_time": "2023-07-10T20:36:24.004380",
            "user_variable_name": null,
            "variable_name": "unk_dataframe_f461b7fc35f54c25abe8b02e0ebc8f8f"
          },
          "2f0bdf3b-f55c-416d-b71c-e4e0672ce8d3": {
            "applied_filters": [],
            "dataframe_info": {
              "default_index_used": true,
              "orig_num_cols": 3,
              "orig_num_rows": 1846,
              "orig_size_bytes": 59072,
              "truncated_num_cols": 3,
              "truncated_num_rows": 1846,
              "truncated_size_bytes": 59072,
              "truncated_string_columns": []
            },
            "display_id": "2f0bdf3b-f55c-416d-b71c-e4e0672ce8d3",
            "dx_settings": {
              "ALLOW_NOTEABLE_ATTRS": true,
              "COLUMN_SAMPLING_METHOD": "outer",
              "DB_LOCATION": ":memory:",
              "DEV_MODE": false,
              "DISPLAY_MAX_COLUMNS": 100,
              "DISPLAY_MAX_ROWS": 50000,
              "DISPLAY_MODE": "simple",
              "ENABLE_ASSIGNMENT": true,
              "ENABLE_DATALINK": true,
              "FLATTEN_COLUMN_VALUES": true,
              "FLATTEN_INDEX_VALUES": false,
              "GENERATE_DEX_METADATA": false,
              "HTML_TABLE_SCHEMA": false,
              "LOG_LEVEL": 30,
              "MAX_RENDER_SIZE_BYTES": 104857600,
              "MAX_STRING_LENGTH": 250,
              "NUM_PAST_SAMPLES_TRACKED": 3,
              "RANDOM_STATE": 12648430,
              "RESET_INDEX_VALUES": false,
              "ROW_SAMPLING_METHOD": "random",
              "SAMPLING_FACTOR": 0.1,
              "SAMPLING_METHOD": "random",
              "STRINGIFY_COLUMN_VALUES": true,
              "STRINGIFY_INDEX_VALUES": false
            },
            "sample_history": [],
            "sampling_time": "2023-07-13T18:40:50.119605",
            "user_variable_name": null,
            "variable_name": "unk_dataframe_8f7eee361574414aa8bdde5681b174c4"
          },
          "1338520d-a8f9-40b4-b35e-ce140ee45e1b": {
            "applied_filters": [],
            "dataframe_info": {
              "default_index_used": true,
              "orig_num_cols": 3,
              "orig_num_rows": 1846,
              "orig_size_bytes": 59072,
              "truncated_num_cols": 3,
              "truncated_num_rows": 1846,
              "truncated_size_bytes": 59072,
              "truncated_string_columns": []
            },
            "display_id": "1338520d-a8f9-40b4-b35e-ce140ee45e1b",
            "dx_settings": {
              "ALLOW_NOTEABLE_ATTRS": true,
              "COLUMN_SAMPLING_METHOD": "outer",
              "DB_LOCATION": ":memory:",
              "DEV_MODE": false,
              "DISPLAY_MAX_COLUMNS": 100,
              "DISPLAY_MAX_ROWS": 50000,
              "DISPLAY_MODE": "simple",
              "ENABLE_ASSIGNMENT": true,
              "ENABLE_DATALINK": true,
              "FLATTEN_COLUMN_VALUES": true,
              "FLATTEN_INDEX_VALUES": false,
              "GENERATE_DEX_METADATA": false,
              "HTML_TABLE_SCHEMA": false,
              "LOG_LEVEL": 30,
              "MAX_RENDER_SIZE_BYTES": 104857600,
              "MAX_STRING_LENGTH": 250,
              "NUM_PAST_SAMPLES_TRACKED": 3,
              "RANDOM_STATE": 12648430,
              "RESET_INDEX_VALUES": false,
              "ROW_SAMPLING_METHOD": "random",
              "SAMPLING_FACTOR": 0.1,
              "SAMPLING_METHOD": "random",
              "STRINGIFY_COLUMN_VALUES": true,
              "STRINGIFY_INDEX_VALUES": false
            },
            "sample_history": [],
            "sampling_time": "2023-07-13T18:41:11.042777",
            "user_variable_name": null,
            "variable_name": "unk_dataframe_c2c05a0d95cb4fc084e0e35ef91febf0"
          },
          "d37da7f4-f049-4813-9776-cc20a77a5570": {
            "applied_filters": [],
            "dataframe_info": {
              "default_index_used": true,
              "orig_num_cols": 3,
              "orig_num_rows": 1846,
              "orig_size_bytes": 59072,
              "truncated_num_cols": 3,
              "truncated_num_rows": 1846,
              "truncated_size_bytes": 59072,
              "truncated_string_columns": []
            },
            "display_id": "d37da7f4-f049-4813-9776-cc20a77a5570",
            "dx_settings": {
              "ALLOW_NOTEABLE_ATTRS": true,
              "COLUMN_SAMPLING_METHOD": "outer",
              "DB_LOCATION": ":memory:",
              "DEV_MODE": false,
              "DISPLAY_MAX_COLUMNS": 100,
              "DISPLAY_MAX_ROWS": 50000,
              "DISPLAY_MODE": "simple",
              "ENABLE_ASSIGNMENT": true,
              "ENABLE_DATALINK": true,
              "FLATTEN_COLUMN_VALUES": true,
              "FLATTEN_INDEX_VALUES": false,
              "GENERATE_DEX_METADATA": false,
              "HTML_TABLE_SCHEMA": false,
              "LOG_LEVEL": 30,
              "MAX_RENDER_SIZE_BYTES": 104857600,
              "MAX_STRING_LENGTH": 250,
              "NUM_PAST_SAMPLES_TRACKED": 3,
              "RANDOM_STATE": 12648430,
              "RESET_INDEX_VALUES": false,
              "ROW_SAMPLING_METHOD": "random",
              "SAMPLING_FACTOR": 0.1,
              "SAMPLING_METHOD": "random",
              "STRINGIFY_COLUMN_VALUES": true,
              "STRINGIFY_INDEX_VALUES": false
            },
            "sample_history": [],
            "sampling_time": "2023-07-14T00:27:07.326364",
            "user_variable_name": null,
            "variable_name": "unk_dataframe_8996ac06ce9f4434bb2f088f974d12b5"
          },
          "a8d70f66-2f80-476d-9d27-cec73a3c9e77": {
            "applied_filters": [],
            "dataframe_info": {
              "default_index_used": true,
              "orig_num_cols": 3,
              "orig_num_rows": 1846,
              "orig_size_bytes": 59072,
              "truncated_num_cols": 3,
              "truncated_num_rows": 1846,
              "truncated_size_bytes": 59072,
              "truncated_string_columns": []
            },
            "display_id": "a8d70f66-2f80-476d-9d27-cec73a3c9e77",
            "dx_settings": {
              "ALLOW_NOTEABLE_ATTRS": true,
              "COLUMN_SAMPLING_METHOD": "outer",
              "DB_LOCATION": ":memory:",
              "DEV_MODE": false,
              "DISPLAY_MAX_COLUMNS": 100,
              "DISPLAY_MAX_ROWS": 50000,
              "DISPLAY_MODE": "simple",
              "ENABLE_ASSIGNMENT": true,
              "ENABLE_DATALINK": true,
              "FLATTEN_COLUMN_VALUES": true,
              "FLATTEN_INDEX_VALUES": false,
              "GENERATE_DEX_METADATA": false,
              "HTML_TABLE_SCHEMA": false,
              "LOG_LEVEL": 30,
              "MAX_RENDER_SIZE_BYTES": 104857600,
              "MAX_STRING_LENGTH": 250,
              "NUM_PAST_SAMPLES_TRACKED": 3,
              "RANDOM_STATE": 12648430,
              "RESET_INDEX_VALUES": false,
              "ROW_SAMPLING_METHOD": "random",
              "SAMPLING_FACTOR": 0.1,
              "SAMPLING_METHOD": "random",
              "STRINGIFY_COLUMN_VALUES": true,
              "STRINGIFY_INDEX_VALUES": false
            },
            "sample_history": [],
            "sampling_time": "2023-07-14T00:28:19.059074",
            "user_variable_name": null,
            "variable_name": "unk_dataframe_611c9bf5a1ff430ca30300d844dc06f5"
          },
          "6053dbf4-c032-4ad9-bf04-a440884620b1": {
            "applied_filters": [],
            "dataframe_info": {
              "default_index_used": true,
              "orig_num_cols": 3,
              "orig_num_rows": 1846,
              "orig_size_bytes": 59072,
              "truncated_num_cols": 3,
              "truncated_num_rows": 1846,
              "truncated_size_bytes": 59072,
              "truncated_string_columns": []
            },
            "display_id": "6053dbf4-c032-4ad9-bf04-a440884620b1",
            "dx_settings": {
              "ALLOW_NOTEABLE_ATTRS": true,
              "COLUMN_SAMPLING_METHOD": "outer",
              "DB_LOCATION": ":memory:",
              "DEV_MODE": false,
              "DISPLAY_MAX_COLUMNS": 100,
              "DISPLAY_MAX_ROWS": 50000,
              "DISPLAY_MODE": "simple",
              "ENABLE_ASSIGNMENT": true,
              "ENABLE_DATALINK": true,
              "FLATTEN_COLUMN_VALUES": true,
              "FLATTEN_INDEX_VALUES": false,
              "GENERATE_DEX_METADATA": false,
              "HTML_TABLE_SCHEMA": false,
              "LOG_LEVEL": 30,
              "MAX_RENDER_SIZE_BYTES": 104857600,
              "MAX_STRING_LENGTH": 250,
              "NUM_PAST_SAMPLES_TRACKED": 3,
              "RANDOM_STATE": 12648430,
              "RESET_INDEX_VALUES": false,
              "ROW_SAMPLING_METHOD": "random",
              "SAMPLING_FACTOR": 0.1,
              "SAMPLING_METHOD": "random",
              "STRINGIFY_COLUMN_VALUES": true,
              "STRINGIFY_INDEX_VALUES": false
            },
            "sample_history": [],
            "sampling_time": "2023-07-14T00:29:23.172780",
            "user_variable_name": null,
            "variable_name": "unk_dataframe_604b0c18f5464a2c81e3ef593e866017"
          }
        },
        "dx": {
          "dashboard": {
            "multiViews": []
          },
          "fieldMetadata": {},
          "updated": 1689294169510,
          "views": [
            {
              "annotationRules": [],
              "chart": {},
              "chartMode": "grid",
              "confoRules": [],
              "decoration": {
                "footer": "",
                "subtitle": "",
                "title": "Table"
              },
              "facets": [],
              "filterSettings": {
                "SHOW_FILTER_PANEL": true,
                "filters": []
              },
              "id": "first-view",
              "isDefault": true,
              "type": "public",
              "userID": ""
            },
            {
              "annotationRules": [],
              "chart": {
                "barProjection": "horizontal",
                "facets": [],
                "lineType": "line",
                "showTotal": false,
                "summaryType": "violin"
              },
              "chartMode": "grid",
              "confoRules": [],
              "decoration": {
                "footer": "",
                "subtitle": "",
                "title": "Table"
              },
              "facets": [],
              "filterSettings": {
                "SHOW_FILTER_PANEL": true,
                "filters": []
              },
              "id": "first-view",
              "isDefault": true,
              "isTransitory": true,
              "type": "public",
              "userID": ""
            }
          ]
        }
      },
      "execution_count": null,
      "source": "datasaurus",
      "outputs": []
    },
    {
      "id": "15580edc-fcaf-4366-823e-0d9f8337d860",
      "cell_type": "markdown",
      "source": "## Les graphiques avec *Lets-Plot*\n\nLe module [*Lets-Plot*](lets-plot.org) est une adaptation pour Python du module graphique *ggplot2*, immensément populaire en langage R. Il fonctionne sur un mode déclaratif, tout comme l'outil de Noteable, c'est-à-dire que les attributs graphiques sont liés aux colonnes d'un tableau.\n",
      "metadata": {
        "noteable": {
          "cell_type": "markdown"
        }
      }
    },
    {
      "id": "02129e1d-cd88-4111-9886-617cf563e71c",
      "cell_type": "code",
      "metadata": {
        "noteable": {
          "cell_type": "python",
          "output_collection_id": "c90fb590-8f55-4a99-b11a-666b1f2700ac"
        },
        "ExecuteTime": {
          "end_time": "2023-07-14T00:28:30.810729+00:00",
          "start_time": "2023-07-14T00:28:26.274357+00:00"
        }
      },
      "execution_count": null,
      "source": "!pip install lets-plot==3.2",
      "outputs": []
    },
    {
      "id": "577d6f67-4f47-4334-97bb-23352a5a83b1",
      "cell_type": "markdown",
      "source": "\nSuivant la grammaire graphique de *Lest-plot*, on pourra créer ce graphique de points comprenant les attributs suivants.\n\n1. `data = datasaurus`, le fichier de données.\n1. `mapping = aes(...)`, spécifié comme attribut de la fonction `ggplot()`, cet encodage (ou `aes`*thetic*) reste l'encodage par défaut pour tous les marqueurs du graphique. Toutefois, l'encodage `mapping = aes()` peut aussi être spécifié dans la fonction du marqueur (par exemple `geom_point()`). Dans l'encodage global du graphique, on place en x la longueur de la coquille (`x = 'x'`) et on place en y le poids de la coquille (`y = 'y'`).\n1. Pour ajouter une fonction à `ggplot`, comme une nouvelle couche de marqueur ou des éléments de thème, on utilise le `+`. Généralement, on change aussi de ligne.\n1. Le marqueur ajouté est un point, `geom_point()`, dans lequel on spécifie un encodage de couleur sur la variable Type (`colour = 'dataset'`). L'argument `alpha = 0.75` se situe hors du mapping et de la fonction `aes()`: c'est un attribut identique pour tous les points.\n",
      "metadata": {
        "noteable": {
          "cell_type": "markdown"
        }
      }
    },
    {
      "id": "7f58a368-932e-4484-a9c7-316e8ecd7c12",
      "cell_type": "code",
      "metadata": {
        "noteable": {
          "cell_type": "python",
          "output_collection_id": "30231479-7554-402e-9a2d-758c73ae935f"
        },
        "ExecuteTime": {
          "end_time": "2023-07-14T00:29:28.799040+00:00",
          "start_time": "2023-07-14T00:29:28.635364+00:00"
        }
      },
      "execution_count": null,
      "source": "from lets_plot import *\nLetsPlot.setup_html() # permet l'affichage dans un notebook\n\n(\n    ggplot(data=datasaurus, mapping=aes(x='x', y='y'))\n    + geom_point(mapping=aes(color='dataset'), alpha=0.75)\n)",
      "outputs": []
    },
    {
      "id": "ac1c4b5b-2cf0-4201-a445-1904e7a52952",
      "cell_type": "markdown",
      "source": "Il existe plusieurs marqueurs et plusieurs types d'encodage présentés dans [l'API de *Lets-Plot*](https://lets-plot.org/pages/api.html). Le *facet* est marqueur qui permet de segmenter le graphique en plusieurs facettes, ou panneau. Le marqueur `facet_wrap()` permet de créer une collection de facettes selon une variable catégorielle, alors que `facet_grid()` créera une grille de facettes, selon deux variables catégorielles. Peut-être avez-vous trouvé ce marqueur dans l'outil de visualisation de Noteable. Voyons ce que l'on peut tirer de facettes selon la variable `dataset`.",
      "metadata": {
        "noteable": {
          "cell_type": "markdown"
        }
      }
    },
    {
      "id": "686ec5c8-fadc-49bc-b7f7-3dd49d5ee2ce",
      "cell_type": "code",
      "metadata": {
        "noteable": {
          "cell_type": "python",
          "output_collection_id": "3aabde46-59f1-4bca-b94d-2cfe4911553d"
        },
        "ExecuteTime": {
          "end_time": "2023-07-14T00:27:16.576524+00:00",
          "start_time": "2023-07-14T00:27:16.415101+00:00"
        },
        "jupyter": {
          "outputs_hidden": false
        }
      },
      "execution_count": null,
      "source": "(\n    ggplot(data=datasaurus, mapping=aes(x='x', y='y'))\n    + facet_wrap(facets='dataset', ncol=7)\n    + geom_point(colour='#ce2d40')\n    + coord_fixed()\n    + ggsize(900, 400)\n)",
      "outputs": []
    },
    {
      "id": "fe70a1bb-7c7e-498a-87e0-0f8099a60c30",
      "cell_type": "markdown",
      "source": "Les facettes vous permettent, dans ce cas, d'identifier d'un coup d'oeil la présence de structures pourtant invisibles avec les tests statistiques.",
      "metadata": {
        "noteable": {
          "cell_type": "markdown"
        }
      }
    },
    {
      "id": "49d9049c-f4c2-41a7-858a-3eab51f5d6a1",
      "cell_type": "markdown",
      "source": "Exercez-vous maintenant avec les données sur les manchots !",
      "metadata": {
        "noteable": {
          "cell_type": "markdown"
        }
      }
    },
    {
      "id": "39c8cf95-cdb6-461a-87d7-c1798450b3e3",
      "cell_type": "code",
      "metadata": {
        "noteable": {
          "cell_type": "python",
          "output_collection_id": "25d08ace-bfb7-4174-aefd-8ecf9e316caf"
        },
        "ExecuteTime": {
          "end_time": "2023-07-14T00:27:22.469909+00:00",
          "start_time": "2023-07-14T00:27:22.189220+00:00"
        },
        "datalink": {
          "7fb14cee-7eae-4dea-9c34-45e17a2d9cf9": {
            "applied_filters": [],
            "dataframe_info": {
              "default_index_used": true,
              "orig_num_cols": 9,
              "orig_num_rows": 344,
              "orig_size_bytes": 27520,
              "truncated_num_cols": 9,
              "truncated_num_rows": 344,
              "truncated_size_bytes": 27520,
              "truncated_string_columns": []
            },
            "display_id": "7fb14cee-7eae-4dea-9c34-45e17a2d9cf9",
            "dx_settings": {
              "ALLOW_NOTEABLE_ATTRS": true,
              "COLUMN_SAMPLING_METHOD": "outer",
              "DB_LOCATION": ":memory:",
              "DEV_MODE": false,
              "DISPLAY_MAX_COLUMNS": 100,
              "DISPLAY_MAX_ROWS": 50000,
              "DISPLAY_MODE": "simple",
              "ENABLE_ASSIGNMENT": true,
              "ENABLE_DATALINK": true,
              "FLATTEN_COLUMN_VALUES": true,
              "FLATTEN_INDEX_VALUES": false,
              "GENERATE_DEX_METADATA": false,
              "HTML_TABLE_SCHEMA": false,
              "LOG_LEVEL": 30,
              "MAX_RENDER_SIZE_BYTES": 104857600,
              "MAX_STRING_LENGTH": 250,
              "NUM_PAST_SAMPLES_TRACKED": 3,
              "RANDOM_STATE": 12648430,
              "RESET_INDEX_VALUES": false,
              "ROW_SAMPLING_METHOD": "random",
              "SAMPLING_FACTOR": 0.1,
              "SAMPLING_METHOD": "random",
              "STRINGIFY_COLUMN_VALUES": true,
              "STRINGIFY_INDEX_VALUES": false
            },
            "sample_history": [],
            "sampling_time": "2023-06-07T19:43:46.734584",
            "user_variable_name": null,
            "variable_name": "unk_dataframe_0bb33d542454402481bb7523668a6ddc"
          },
          "c02a1ef4-03df-4646-8b0b-ba3b47c660e3": {
            "applied_filters": [],
            "dataframe_info": {
              "default_index_used": true,
              "orig_num_cols": 9,
              "orig_num_rows": 344,
              "orig_size_bytes": 27520,
              "truncated_num_cols": 9,
              "truncated_num_rows": 344,
              "truncated_size_bytes": 27520,
              "truncated_string_columns": []
            },
            "display_id": "c02a1ef4-03df-4646-8b0b-ba3b47c660e3",
            "dx_settings": {
              "ALLOW_NOTEABLE_ATTRS": true,
              "COLUMN_SAMPLING_METHOD": "outer",
              "DB_LOCATION": ":memory:",
              "DEV_MODE": false,
              "DISPLAY_MAX_COLUMNS": 100,
              "DISPLAY_MAX_ROWS": 50000,
              "DISPLAY_MODE": "simple",
              "ENABLE_ASSIGNMENT": true,
              "ENABLE_DATALINK": true,
              "FLATTEN_COLUMN_VALUES": true,
              "FLATTEN_INDEX_VALUES": false,
              "GENERATE_DEX_METADATA": false,
              "HTML_TABLE_SCHEMA": false,
              "LOG_LEVEL": 30,
              "MAX_RENDER_SIZE_BYTES": 104857600,
              "MAX_STRING_LENGTH": 250,
              "NUM_PAST_SAMPLES_TRACKED": 3,
              "RANDOM_STATE": 12648430,
              "RESET_INDEX_VALUES": false,
              "ROW_SAMPLING_METHOD": "random",
              "SAMPLING_FACTOR": 0.1,
              "SAMPLING_METHOD": "random",
              "STRINGIFY_COLUMN_VALUES": true,
              "STRINGIFY_INDEX_VALUES": false
            },
            "sample_history": [],
            "sampling_time": "2023-07-10T20:36:31.583989",
            "user_variable_name": null,
            "variable_name": "unk_dataframe_2887be2f14eb40069d852ea644e52eb0"
          },
          "15645a89-7c71-4618-bdec-0515c6de1af7": {
            "applied_filters": [],
            "dataframe_info": {
              "default_index_used": true,
              "orig_num_cols": 9,
              "orig_num_rows": 344,
              "orig_size_bytes": 27520,
              "truncated_num_cols": 9,
              "truncated_num_rows": 344,
              "truncated_size_bytes": 27520,
              "truncated_string_columns": []
            },
            "display_id": "15645a89-7c71-4618-bdec-0515c6de1af7",
            "dx_settings": {
              "ALLOW_NOTEABLE_ATTRS": true,
              "COLUMN_SAMPLING_METHOD": "outer",
              "DB_LOCATION": ":memory:",
              "DEV_MODE": false,
              "DISPLAY_MAX_COLUMNS": 100,
              "DISPLAY_MAX_ROWS": 50000,
              "DISPLAY_MODE": "simple",
              "ENABLE_ASSIGNMENT": true,
              "ENABLE_DATALINK": true,
              "FLATTEN_COLUMN_VALUES": true,
              "FLATTEN_INDEX_VALUES": false,
              "GENERATE_DEX_METADATA": false,
              "HTML_TABLE_SCHEMA": false,
              "LOG_LEVEL": 30,
              "MAX_RENDER_SIZE_BYTES": 104857600,
              "MAX_STRING_LENGTH": 250,
              "NUM_PAST_SAMPLES_TRACKED": 3,
              "RANDOM_STATE": 12648430,
              "RESET_INDEX_VALUES": false,
              "ROW_SAMPLING_METHOD": "random",
              "SAMPLING_FACTOR": 0.1,
              "SAMPLING_METHOD": "random",
              "STRINGIFY_COLUMN_VALUES": true,
              "STRINGIFY_INDEX_VALUES": false
            },
            "sample_history": [],
            "sampling_time": "2023-07-14T00:27:22.307328",
            "user_variable_name": null,
            "variable_name": "unk_dataframe_c9abb2e09b544ac8a94abdf32ca60d1b"
          }
        }
      },
      "execution_count": null,
      "source": "penguins = pl.read_csv('data/penguins.csv')\npenguins",
      "outputs": []
    }
  ]
}