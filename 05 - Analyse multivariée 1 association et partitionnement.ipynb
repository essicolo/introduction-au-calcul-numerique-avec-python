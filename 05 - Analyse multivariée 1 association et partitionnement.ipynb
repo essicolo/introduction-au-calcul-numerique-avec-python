{
  "nbformat": 4,
  "nbformat_minor": 5,
  "metadata": {
    "selected_hardware_size": "small",
    "noteable": {
      "last_transaction_id": "e94ca734-73f7-4f4c-97ec-cf2fa6938211"
    }
  },
  "cells": [
    {
      "id": "781806bf",
      "cell_type": "code",
      "metadata": {
        "noteable": {
          "output_collection_id": "446affc8-62c0-4e81-a4e7-da16efcfa421"
        },
        "ExecuteTime": {
          "end_time": "2023-07-14T01:03:57.744920+00:00",
          "start_time": "2023-07-14T01:02:52.892415+00:00"
        },
        "scrolled": false,
        "jupyter": {
          "outputs_hidden": true
        }
      },
      "execution_count": null,
      "source": "!pip install lets-plot==3.2 polars==0.18.2 hdbscan==0.8.29\nimport polars as pl\nimport seaborn as sns\nfrom lets_plot import *\nLetsPlot.setup_html(isolated_frame=True)",
      "outputs": []
    },
    {
      "id": "40aa9da2-b726-4baf-9aae-c70bf36658e0",
      "cell_type": "markdown",
      "source": "# Analyse multivariée 1 : associations et partitionnements\n\nÀ la fin de la section 4, nous avons couvert l'analyse de régression, qui en fait était une analyse statistique multivariée. Dans ce chapitre, nous verrons d'autres techniques d'exploration des données en mode multivarié.\n\nLes données sont multivariées lorsqu'elles sont exprimées par plus d'une variable. Techniquement, une variable est un axe. C'est facile de visualiser un point sur un ou deux axes. C'est toujours possible avec 3. Mais, en tout cas pour les humains, cognitivement très difficile de voir des données en plus de 3 dimensions sans faire appel à sa capacité d'abstraction. Nous couvrirons les aspects multivariés suivants. Bien qu'il soit possible d'effectuer des tests statistiques sur leurs résultats, ce ne sont pas des stats, mais des techniques d'exploration (heuristiques).\n\n1. Les **associations** permettent de quantifier la ressemblance ou la différence entre deux observation (échantillons) ou variables (descripteurs). Lorsque l'on a plus de deux variables ou plus de deux site, nous obtenons des matrices d'association.\n2. Le **partitionnement** permet de regrouper des observations ou des variables selon des métriques d'association.",
      "metadata": {
        "noteable": {
          "cell_type": "markdown"
        }
      }
    },
    {
      "id": "ec076597-039d-4b8e-b88a-77963f244e96",
      "cell_type": "markdown",
      "source": "## Exploration graphique\n\nLa première étape d'une analyse multivariée est d'explorer les données. En outre, il se peut que les données comprennent des données manquantes ou aberrantes. Je vous réfère à la documentation du module scikit-learn pour l'[imputation](https://scikit-learn.org/stable/modules/impute.html) et la [détection d'oservations aberrantes](https://scikit-learn.org/stable/modules/outlier_detection.html).\n\nOn peut effectuer des explorations graphiques à l'aide de Semiotic, l'outil de création de Noteable.\n\nJe vais encore utiliser les données sur les manchots, mais on pourrait tout autant effectuer les opérations de ce carnet de calcul sur des données de sols.",
      "metadata": {
        "noteable": {
          "cell_type": "markdown"
        }
      }
    },
    {
      "id": "db1aa794-8be3-4cd6-b0f4-287d419cd4c8",
      "cell_type": "code",
      "metadata": {
        "noteable": {
          "cell_type": "python",
          "output_collection_id": "3b9714dd-5062-4b3e-804c-aebd650dd439"
        },
        "ExecuteTime": {
          "end_time": "2023-07-14T01:04:00.746534+00:00",
          "start_time": "2023-07-14T01:04:00.473450+00:00"
        },
        "datalink": {
          "12f76af6-eed6-4fd3-96a5-630890a3a2b6": {
            "applied_filters": [],
            "dataframe_info": {
              "default_index_used": true,
              "orig_num_cols": 9,
              "orig_num_rows": 344,
              "orig_size_bytes": 27520,
              "truncated_num_cols": 9,
              "truncated_num_rows": 344,
              "truncated_size_bytes": 27520,
              "truncated_string_columns": []
            },
            "display_id": "12f76af6-eed6-4fd3-96a5-630890a3a2b6",
            "dx_settings": {
              "ALLOW_NOTEABLE_ATTRS": true,
              "COLUMN_SAMPLING_METHOD": "outer",
              "DB_LOCATION": ":memory:",
              "DEV_MODE": false,
              "DISPLAY_MAX_COLUMNS": 100,
              "DISPLAY_MAX_ROWS": 50000,
              "DISPLAY_MODE": "simple",
              "ENABLE_ASSIGNMENT": true,
              "ENABLE_DATALINK": true,
              "FLATTEN_COLUMN_VALUES": true,
              "FLATTEN_INDEX_VALUES": false,
              "GENERATE_DEX_METADATA": false,
              "HTML_TABLE_SCHEMA": false,
              "LOG_LEVEL": 30,
              "MAX_RENDER_SIZE_BYTES": 104857600,
              "MAX_STRING_LENGTH": 250,
              "NUM_PAST_SAMPLES_TRACKED": 3,
              "RANDOM_STATE": 12648430,
              "RESET_INDEX_VALUES": false,
              "ROW_SAMPLING_METHOD": "random",
              "SAMPLING_FACTOR": 0.1,
              "SAMPLING_METHOD": "random",
              "STRINGIFY_COLUMN_VALUES": true,
              "STRINGIFY_INDEX_VALUES": false
            },
            "sample_history": [],
            "sampling_time": "2023-06-21T17:42:45.153898",
            "user_variable_name": null,
            "variable_name": "unk_dataframe_7ec685f43ced41c69ccf9fa726dae45a"
          },
          "ead5415e-7e48-4e6f-bc86-dc5490e3317d": {
            "applied_filters": [],
            "dataframe_info": {
              "default_index_used": true,
              "orig_num_cols": 9,
              "orig_num_rows": 344,
              "orig_size_bytes": 27520,
              "truncated_num_cols": 9,
              "truncated_num_rows": 344,
              "truncated_size_bytes": 27520,
              "truncated_string_columns": []
            },
            "display_id": "ead5415e-7e48-4e6f-bc86-dc5490e3317d",
            "dx_settings": {
              "ALLOW_NOTEABLE_ATTRS": true,
              "COLUMN_SAMPLING_METHOD": "outer",
              "DB_LOCATION": ":memory:",
              "DEV_MODE": false,
              "DISPLAY_MAX_COLUMNS": 100,
              "DISPLAY_MAX_ROWS": 50000,
              "DISPLAY_MODE": "simple",
              "ENABLE_ASSIGNMENT": true,
              "ENABLE_DATALINK": true,
              "FLATTEN_COLUMN_VALUES": true,
              "FLATTEN_INDEX_VALUES": false,
              "GENERATE_DEX_METADATA": false,
              "HTML_TABLE_SCHEMA": false,
              "LOG_LEVEL": 30,
              "MAX_RENDER_SIZE_BYTES": 104857600,
              "MAX_STRING_LENGTH": 250,
              "NUM_PAST_SAMPLES_TRACKED": 3,
              "RANDOM_STATE": 12648430,
              "RESET_INDEX_VALUES": false,
              "ROW_SAMPLING_METHOD": "random",
              "SAMPLING_FACTOR": 0.1,
              "SAMPLING_METHOD": "random",
              "STRINGIFY_COLUMN_VALUES": true,
              "STRINGIFY_INDEX_VALUES": false
            },
            "sample_history": [],
            "sampling_time": "2023-06-21T17:49:40.893761",
            "user_variable_name": null,
            "variable_name": "unk_dataframe_e2e796d6e0504eb795dbc61872050935"
          },
          "4c233e55-4782-41be-b3ce-a6d37834a36b": {
            "applied_filters": [],
            "dataframe_info": {
              "default_index_used": true,
              "orig_num_cols": 9,
              "orig_num_rows": 344,
              "orig_size_bytes": 27520,
              "truncated_num_cols": 9,
              "truncated_num_rows": 344,
              "truncated_size_bytes": 27520,
              "truncated_string_columns": []
            },
            "display_id": "4c233e55-4782-41be-b3ce-a6d37834a36b",
            "dx_settings": {
              "ALLOW_NOTEABLE_ATTRS": true,
              "COLUMN_SAMPLING_METHOD": "outer",
              "DB_LOCATION": ":memory:",
              "DEV_MODE": false,
              "DISPLAY_MAX_COLUMNS": 100,
              "DISPLAY_MAX_ROWS": 50000,
              "DISPLAY_MODE": "simple",
              "ENABLE_ASSIGNMENT": true,
              "ENABLE_DATALINK": true,
              "FLATTEN_COLUMN_VALUES": true,
              "FLATTEN_INDEX_VALUES": false,
              "GENERATE_DEX_METADATA": false,
              "HTML_TABLE_SCHEMA": false,
              "LOG_LEVEL": 30,
              "MAX_RENDER_SIZE_BYTES": 104857600,
              "MAX_STRING_LENGTH": 250,
              "NUM_PAST_SAMPLES_TRACKED": 3,
              "RANDOM_STATE": 12648430,
              "RESET_INDEX_VALUES": false,
              "ROW_SAMPLING_METHOD": "random",
              "SAMPLING_FACTOR": 0.1,
              "SAMPLING_METHOD": "random",
              "STRINGIFY_COLUMN_VALUES": true,
              "STRINGIFY_INDEX_VALUES": false
            },
            "sample_history": [],
            "sampling_time": "2023-06-21T20:15:09.791658",
            "user_variable_name": null,
            "variable_name": "unk_dataframe_7def3655de6045e18d0c03f8304f3839"
          },
          "7a38a13d-a2ce-4575-9360-469a9892d11c": {
            "applied_filters": [],
            "dataframe_info": {
              "default_index_used": true,
              "orig_num_cols": 9,
              "orig_num_rows": 344,
              "orig_size_bytes": 27520,
              "truncated_num_cols": 9,
              "truncated_num_rows": 344,
              "truncated_size_bytes": 27520,
              "truncated_string_columns": []
            },
            "display_id": "7a38a13d-a2ce-4575-9360-469a9892d11c",
            "dx_settings": {
              "ALLOW_NOTEABLE_ATTRS": true,
              "COLUMN_SAMPLING_METHOD": "outer",
              "DB_LOCATION": ":memory:",
              "DEV_MODE": false,
              "DISPLAY_MAX_COLUMNS": 100,
              "DISPLAY_MAX_ROWS": 50000,
              "DISPLAY_MODE": "simple",
              "ENABLE_ASSIGNMENT": true,
              "ENABLE_DATALINK": true,
              "FLATTEN_COLUMN_VALUES": true,
              "FLATTEN_INDEX_VALUES": false,
              "GENERATE_DEX_METADATA": false,
              "HTML_TABLE_SCHEMA": false,
              "LOG_LEVEL": 30,
              "MAX_RENDER_SIZE_BYTES": 104857600,
              "MAX_STRING_LENGTH": 250,
              "NUM_PAST_SAMPLES_TRACKED": 3,
              "RANDOM_STATE": 12648430,
              "RESET_INDEX_VALUES": false,
              "ROW_SAMPLING_METHOD": "random",
              "SAMPLING_FACTOR": 0.1,
              "SAMPLING_METHOD": "random",
              "STRINGIFY_COLUMN_VALUES": true,
              "STRINGIFY_INDEX_VALUES": false
            },
            "sample_history": [],
            "sampling_time": "2023-06-21T20:41:22.119011",
            "user_variable_name": null,
            "variable_name": "unk_dataframe_3c8eb72ee3914e7c888057a1476a3435"
          },
          "beca6c1c-d2da-4c9f-af2c-de2ec7e36cf6": {
            "applied_filters": [],
            "dataframe_info": {
              "default_index_used": true,
              "orig_num_cols": 9,
              "orig_num_rows": 344,
              "orig_size_bytes": 27520,
              "truncated_num_cols": 9,
              "truncated_num_rows": 344,
              "truncated_size_bytes": 27520,
              "truncated_string_columns": []
            },
            "display_id": "beca6c1c-d2da-4c9f-af2c-de2ec7e36cf6",
            "dx_settings": {
              "ALLOW_NOTEABLE_ATTRS": true,
              "COLUMN_SAMPLING_METHOD": "outer",
              "DB_LOCATION": ":memory:",
              "DEV_MODE": false,
              "DISPLAY_MAX_COLUMNS": 100,
              "DISPLAY_MAX_ROWS": 50000,
              "DISPLAY_MODE": "simple",
              "ENABLE_ASSIGNMENT": true,
              "ENABLE_DATALINK": true,
              "FLATTEN_COLUMN_VALUES": true,
              "FLATTEN_INDEX_VALUES": false,
              "GENERATE_DEX_METADATA": false,
              "HTML_TABLE_SCHEMA": false,
              "LOG_LEVEL": 30,
              "MAX_RENDER_SIZE_BYTES": 104857600,
              "MAX_STRING_LENGTH": 250,
              "NUM_PAST_SAMPLES_TRACKED": 3,
              "RANDOM_STATE": 12648430,
              "RESET_INDEX_VALUES": false,
              "ROW_SAMPLING_METHOD": "random",
              "SAMPLING_FACTOR": 0.1,
              "SAMPLING_METHOD": "random",
              "STRINGIFY_COLUMN_VALUES": true,
              "STRINGIFY_INDEX_VALUES": false
            },
            "sample_history": [],
            "sampling_time": "2023-06-21T20:44:56.551602",
            "user_variable_name": null,
            "variable_name": "unk_dataframe_42408665322940178cc066dded5eeee0"
          },
          "1053e90a-c23a-45e9-b78c-2c8e7b6ea8cb": {
            "applied_filters": [],
            "dataframe_info": {
              "default_index_used": true,
              "orig_num_cols": 9,
              "orig_num_rows": 344,
              "orig_size_bytes": 27520,
              "truncated_num_cols": 9,
              "truncated_num_rows": 344,
              "truncated_size_bytes": 27520,
              "truncated_string_columns": []
            },
            "display_id": "1053e90a-c23a-45e9-b78c-2c8e7b6ea8cb",
            "dx_settings": {
              "ALLOW_NOTEABLE_ATTRS": true,
              "COLUMN_SAMPLING_METHOD": "outer",
              "DB_LOCATION": ":memory:",
              "DEV_MODE": false,
              "DISPLAY_MAX_COLUMNS": 100,
              "DISPLAY_MAX_ROWS": 50000,
              "DISPLAY_MODE": "simple",
              "ENABLE_ASSIGNMENT": true,
              "ENABLE_DATALINK": true,
              "FLATTEN_COLUMN_VALUES": true,
              "FLATTEN_INDEX_VALUES": false,
              "GENERATE_DEX_METADATA": false,
              "HTML_TABLE_SCHEMA": false,
              "LOG_LEVEL": 30,
              "MAX_RENDER_SIZE_BYTES": 104857600,
              "MAX_STRING_LENGTH": 250,
              "NUM_PAST_SAMPLES_TRACKED": 3,
              "RANDOM_STATE": 12648430,
              "RESET_INDEX_VALUES": false,
              "ROW_SAMPLING_METHOD": "random",
              "SAMPLING_FACTOR": 0.1,
              "SAMPLING_METHOD": "random",
              "STRINGIFY_COLUMN_VALUES": true,
              "STRINGIFY_INDEX_VALUES": false
            },
            "sample_history": [],
            "sampling_time": "2023-06-21T21:09:52.844688",
            "user_variable_name": null,
            "variable_name": "unk_dataframe_f4fd2fcf9d9647bdac56eaf95251eca6"
          },
          "9dc1f07e-2838-4496-8225-7326f9c12583": {
            "applied_filters": [],
            "dataframe_info": {
              "default_index_used": true,
              "orig_num_cols": 9,
              "orig_num_rows": 344,
              "orig_size_bytes": 27520,
              "truncated_num_cols": 9,
              "truncated_num_rows": 344,
              "truncated_size_bytes": 27520,
              "truncated_string_columns": []
            },
            "display_id": "9dc1f07e-2838-4496-8225-7326f9c12583",
            "dx_settings": {
              "ALLOW_NOTEABLE_ATTRS": true,
              "COLUMN_SAMPLING_METHOD": "outer",
              "DB_LOCATION": ":memory:",
              "DEV_MODE": false,
              "DISPLAY_MAX_COLUMNS": 100,
              "DISPLAY_MAX_ROWS": 50000,
              "DISPLAY_MODE": "simple",
              "ENABLE_ASSIGNMENT": true,
              "ENABLE_DATALINK": true,
              "FLATTEN_COLUMN_VALUES": true,
              "FLATTEN_INDEX_VALUES": false,
              "GENERATE_DEX_METADATA": false,
              "HTML_TABLE_SCHEMA": false,
              "LOG_LEVEL": 30,
              "MAX_RENDER_SIZE_BYTES": 104857600,
              "MAX_STRING_LENGTH": 250,
              "NUM_PAST_SAMPLES_TRACKED": 3,
              "RANDOM_STATE": 12648430,
              "RESET_INDEX_VALUES": false,
              "ROW_SAMPLING_METHOD": "random",
              "SAMPLING_FACTOR": 0.1,
              "SAMPLING_METHOD": "random",
              "STRINGIFY_COLUMN_VALUES": true,
              "STRINGIFY_INDEX_VALUES": false
            },
            "sample_history": [],
            "sampling_time": "2023-06-22T14:48:07.041977",
            "user_variable_name": null,
            "variable_name": "unk_dataframe_66e1808e5f0b4f10a296657f587d2bbf"
          },
          "d16d958a-dc24-4256-886e-664124c8fb5f": {
            "applied_filters": [],
            "dataframe_info": {
              "default_index_used": true,
              "orig_num_cols": 9,
              "orig_num_rows": 344,
              "orig_size_bytes": 27520,
              "truncated_num_cols": 9,
              "truncated_num_rows": 344,
              "truncated_size_bytes": 27520,
              "truncated_string_columns": []
            },
            "display_id": "d16d958a-dc24-4256-886e-664124c8fb5f",
            "dx_settings": {
              "ALLOW_NOTEABLE_ATTRS": true,
              "COLUMN_SAMPLING_METHOD": "outer",
              "DB_LOCATION": ":memory:",
              "DEV_MODE": false,
              "DISPLAY_MAX_COLUMNS": 100,
              "DISPLAY_MAX_ROWS": 50000,
              "DISPLAY_MODE": "simple",
              "ENABLE_ASSIGNMENT": true,
              "ENABLE_DATALINK": true,
              "FLATTEN_COLUMN_VALUES": true,
              "FLATTEN_INDEX_VALUES": false,
              "GENERATE_DEX_METADATA": false,
              "HTML_TABLE_SCHEMA": false,
              "LOG_LEVEL": 30,
              "MAX_RENDER_SIZE_BYTES": 104857600,
              "MAX_STRING_LENGTH": 250,
              "NUM_PAST_SAMPLES_TRACKED": 3,
              "RANDOM_STATE": 12648430,
              "RESET_INDEX_VALUES": false,
              "ROW_SAMPLING_METHOD": "random",
              "SAMPLING_FACTOR": 0.1,
              "SAMPLING_METHOD": "random",
              "STRINGIFY_COLUMN_VALUES": true,
              "STRINGIFY_INDEX_VALUES": false
            },
            "sample_history": [],
            "sampling_time": "2023-06-22T16:06:42.129983",
            "user_variable_name": null,
            "variable_name": "unk_dataframe_da48b99e50284572b365318ef5c15036"
          },
          "705f4f12-db2f-4d48-9556-37f0e13ae09b": {
            "applied_filters": [],
            "dataframe_info": {
              "default_index_used": true,
              "orig_num_cols": 9,
              "orig_num_rows": 344,
              "orig_size_bytes": 27520,
              "truncated_num_cols": 9,
              "truncated_num_rows": 344,
              "truncated_size_bytes": 27520,
              "truncated_string_columns": []
            },
            "display_id": "705f4f12-db2f-4d48-9556-37f0e13ae09b",
            "dx_settings": {
              "ALLOW_NOTEABLE_ATTRS": true,
              "COLUMN_SAMPLING_METHOD": "outer",
              "DB_LOCATION": ":memory:",
              "DEV_MODE": false,
              "DISPLAY_MAX_COLUMNS": 100,
              "DISPLAY_MAX_ROWS": 50000,
              "DISPLAY_MODE": "simple",
              "ENABLE_ASSIGNMENT": true,
              "ENABLE_DATALINK": true,
              "FLATTEN_COLUMN_VALUES": true,
              "FLATTEN_INDEX_VALUES": false,
              "GENERATE_DEX_METADATA": false,
              "HTML_TABLE_SCHEMA": false,
              "LOG_LEVEL": 30,
              "MAX_RENDER_SIZE_BYTES": 104857600,
              "MAX_STRING_LENGTH": 250,
              "NUM_PAST_SAMPLES_TRACKED": 3,
              "RANDOM_STATE": 12648430,
              "RESET_INDEX_VALUES": false,
              "ROW_SAMPLING_METHOD": "random",
              "SAMPLING_FACTOR": 0.1,
              "SAMPLING_METHOD": "random",
              "STRINGIFY_COLUMN_VALUES": true,
              "STRINGIFY_INDEX_VALUES": false
            },
            "sample_history": [],
            "sampling_time": "2023-07-13T19:51:52.925417",
            "user_variable_name": null,
            "variable_name": "unk_dataframe_faf7e6db05674fedadb0e3d59d0376c6"
          },
          "b36f9d31-a4d3-4045-a3fb-07f1722cae46": {
            "applied_filters": [],
            "dataframe_info": {
              "default_index_used": true,
              "orig_num_cols": 9,
              "orig_num_rows": 344,
              "orig_size_bytes": 27520,
              "truncated_num_cols": 9,
              "truncated_num_rows": 344,
              "truncated_size_bytes": 27520,
              "truncated_string_columns": []
            },
            "display_id": "b36f9d31-a4d3-4045-a3fb-07f1722cae46",
            "dx_settings": {
              "ALLOW_NOTEABLE_ATTRS": true,
              "COLUMN_SAMPLING_METHOD": "outer",
              "DB_LOCATION": ":memory:",
              "DEV_MODE": false,
              "DISPLAY_MAX_COLUMNS": 100,
              "DISPLAY_MAX_ROWS": 50000,
              "DISPLAY_MODE": "simple",
              "ENABLE_ASSIGNMENT": true,
              "ENABLE_DATALINK": true,
              "FLATTEN_COLUMN_VALUES": true,
              "FLATTEN_INDEX_VALUES": false,
              "GENERATE_DEX_METADATA": false,
              "HTML_TABLE_SCHEMA": false,
              "LOG_LEVEL": 30,
              "MAX_RENDER_SIZE_BYTES": 104857600,
              "MAX_STRING_LENGTH": 250,
              "NUM_PAST_SAMPLES_TRACKED": 3,
              "RANDOM_STATE": 12648430,
              "RESET_INDEX_VALUES": false,
              "ROW_SAMPLING_METHOD": "random",
              "SAMPLING_FACTOR": 0.1,
              "SAMPLING_METHOD": "random",
              "STRINGIFY_COLUMN_VALUES": true,
              "STRINGIFY_INDEX_VALUES": false
            },
            "sample_history": [],
            "sampling_time": "2023-07-13T19:55:22.895469",
            "user_variable_name": null,
            "variable_name": "unk_dataframe_ca46d24d060644a395bb1c601f2e10de"
          },
          "6d6d86d4-ee57-4583-a78f-6c75bddc02eb": {
            "applied_filters": [],
            "dataframe_info": {
              "default_index_used": true,
              "orig_num_cols": 9,
              "orig_num_rows": 344,
              "orig_size_bytes": 27520,
              "truncated_num_cols": 9,
              "truncated_num_rows": 344,
              "truncated_size_bytes": 27520,
              "truncated_string_columns": []
            },
            "display_id": "6d6d86d4-ee57-4583-a78f-6c75bddc02eb",
            "dx_settings": {
              "ALLOW_NOTEABLE_ATTRS": true,
              "COLUMN_SAMPLING_METHOD": "outer",
              "DB_LOCATION": ":memory:",
              "DEV_MODE": false,
              "DISPLAY_MAX_COLUMNS": 100,
              "DISPLAY_MAX_ROWS": 50000,
              "DISPLAY_MODE": "simple",
              "ENABLE_ASSIGNMENT": true,
              "ENABLE_DATALINK": true,
              "FLATTEN_COLUMN_VALUES": true,
              "FLATTEN_INDEX_VALUES": false,
              "GENERATE_DEX_METADATA": false,
              "HTML_TABLE_SCHEMA": false,
              "LOG_LEVEL": 30,
              "MAX_RENDER_SIZE_BYTES": 104857600,
              "MAX_STRING_LENGTH": 250,
              "NUM_PAST_SAMPLES_TRACKED": 3,
              "RANDOM_STATE": 12648430,
              "RESET_INDEX_VALUES": false,
              "ROW_SAMPLING_METHOD": "random",
              "SAMPLING_FACTOR": 0.1,
              "SAMPLING_METHOD": "random",
              "STRINGIFY_COLUMN_VALUES": true,
              "STRINGIFY_INDEX_VALUES": false
            },
            "sample_history": [],
            "sampling_time": "2023-07-13T19:56:54.900668",
            "user_variable_name": null,
            "variable_name": "unk_dataframe_198eb64efb364b6695b903ca840bbda2"
          },
          "7f706306-a198-48e1-b1ff-ba40d3e4baf4": {
            "applied_filters": [],
            "dataframe_info": {
              "default_index_used": true,
              "orig_num_cols": 9,
              "orig_num_rows": 344,
              "orig_size_bytes": 27520,
              "truncated_num_cols": 9,
              "truncated_num_rows": 344,
              "truncated_size_bytes": 27520,
              "truncated_string_columns": []
            },
            "display_id": "7f706306-a198-48e1-b1ff-ba40d3e4baf4",
            "dx_settings": {
              "ALLOW_NOTEABLE_ATTRS": true,
              "COLUMN_SAMPLING_METHOD": "outer",
              "DB_LOCATION": ":memory:",
              "DEV_MODE": false,
              "DISPLAY_MAX_COLUMNS": 100,
              "DISPLAY_MAX_ROWS": 50000,
              "DISPLAY_MODE": "simple",
              "ENABLE_ASSIGNMENT": true,
              "ENABLE_DATALINK": true,
              "FLATTEN_COLUMN_VALUES": true,
              "FLATTEN_INDEX_VALUES": false,
              "GENERATE_DEX_METADATA": false,
              "HTML_TABLE_SCHEMA": false,
              "LOG_LEVEL": 30,
              "MAX_RENDER_SIZE_BYTES": 104857600,
              "MAX_STRING_LENGTH": 250,
              "NUM_PAST_SAMPLES_TRACKED": 3,
              "RANDOM_STATE": 12648430,
              "RESET_INDEX_VALUES": false,
              "ROW_SAMPLING_METHOD": "random",
              "SAMPLING_FACTOR": 0.1,
              "SAMPLING_METHOD": "random",
              "STRINGIFY_COLUMN_VALUES": true,
              "STRINGIFY_INDEX_VALUES": false
            },
            "sample_history": [],
            "sampling_time": "2023-07-14T01:04:00.582665",
            "user_variable_name": null,
            "variable_name": "unk_dataframe_cf673df6c2584e7d908af272dc2a4c8f"
          }
        }
      },
      "execution_count": null,
      "source": "penguins = pl.read_csv(\"data/penguins.csv\", null_values='NA')\npenguins",
      "outputs": []
    },
    {
      "id": "c3b9b467-6adf-4f41-9245-136f172875b3",
      "cell_type": "markdown",
      "source": "Une bonne manière d'explorer les données multivariées est le diagramme pairé. Puisque ce type de diagramme n'est en ce moment disponible ni sur Semiotic, ni sur Lets-plot, nous utilisons le module graphique [*Seaborn*](seaborn.pydata.org). ",
      "metadata": {
        "noteable": {
          "cell_type": "markdown"
        }
      }
    },
    {
      "id": "777e1398-dddd-48cd-a36f-1f68b900e1ab",
      "cell_type": "code",
      "metadata": {
        "noteable": {
          "cell_type": "python",
          "output_collection_id": "ac07b850-5241-4ffa-b601-9723dc70c5e9"
        },
        "ExecuteTime": {
          "end_time": "2023-07-14T01:04:55.432593+00:00",
          "start_time": "2023-07-14T01:04:48.798473+00:00"
        }
      },
      "execution_count": null,
      "source": "sns.pairplot(\n    penguins.to_pandas(), \n    vars = ['bill_length_mm', 'bill_depth_mm', 'flipper_length_mm', 'body_mass_g'], \n    hue = 'species',\n    diag_kind = 'kde'\n);",
      "outputs": []
    },
    {
      "id": "897f5b60-cc1f-4f3d-bc6c-f3c0b56585dd",
      "cell_type": "markdown",
      "source": "- Est-ce qu'une seule variable est apte à discriminer les trois espèces ? Sinon, quelles variables sélectionnerez-vous pour identifier l'espèce avec un point dans l'espace multivarié ?\n- Quelles variables sont corrélées, lesquelles le sont moins ?\n- Les distributions sont-elles normales ? Qu'est-ce qui pourrait faire en sorte que les distributions contiennent des bosses ?",
      "metadata": {
        "noteable": {
          "cell_type": "markdown"
        }
      }
    },
    {
      "id": "f9ddf5e6-466d-4ed4-8eb9-4100524e1a62",
      "cell_type": "markdown",
      "source": "## Ressemblance, dissemblance et association\n\nNous utiliserons le terme *association* comme une **mesure pour quantifier la ressemblance ou la différence entre deux objets (échantillons) ou variables (descripteurs)**.\n\nAlors que la corrélation et la covariance sont des mesures d'association entre des variables (analyse en *mode R*), la **similarité** et la **distance** sont deux types de une mesure d'association entre des objets (analyse en *mode Q*). Une distance de 0 est mesurée chez deux objets identiques. La distance augmente au fur et à mesure que les objets sont dissociés. Une similarité ayant une valeur de 0 indique aucune association, tandis qu'une valeur de 1 indique une association parfaite. À l'opposé, la dissimilarité est égale à 1-similarité.\n\nLa distance peut être liée à la similarité par la relation:\n\n$$distance=\\sqrt{1-similarité}$$\n\nou\n\n$$distance=\\sqrt{dissimilarité}$$\n\nLa racine carrée permet, pour certains indices de similarité, d'obtenir des propriétés euclédiennes. Pour plus de détails, voyez le tableau 7.2 de [Legendre et Legendre (2012)](https://www.elsevier.com/books/numerical-ecology/legendre/978-0-444-53868-0).\n\nLes matrices d'association sont généralement présentées comme des matrices carrées, dont les dimensions sont égales au nombre d'objets (*mode Q*) ou de variables (*mode R*) dans le tableau. Chaque élément (\"cellule\") de la matrice est un indice d'association entre un objet (ou une variable) et un autre. Ainsi, la diagonale de la matrice est un vecteur nul (distance ou dissimilarité) ou unitaire (similarité), car elle correspond à l'association entre un objet et lui-même. \n\nPuisque l'association entre A et B est la même qu'entre B et A, et puisque la diagonale retourne une valeur convenue, il est possible d'exprimer une matrice d'association en mode \"compact\", sous forme de vecteur. Le vecteur d'association entre des objets A, B et C contiendra toute l'information nécessaire en un vecteur de trois chiffres, `[AB, AC, BC]`, plutôt qu'une matrice de dimension 3 × 3. L'impact sur la mémoire vive peut être considérable pour les calculs comprenant de nombreuses dimensions.\n\nEn Python, les calculs de similarité et de distances peuvent être effectués avec le module *Scipy*. La fonction `squareform()` permet d'extraire un vecteur de distance et d'afficher des matrices carrées.\n\nEn géotechnique, une étude sur les associations pourrait permettre, par exemple, de voir quels échantillons de sols sont plus semblables ou inversement plus différents.\n\nIl existe plusieurs métriques de distance. Par exemple, la distance de Gower peut considérer différents types de variables, alors que des distances euclidiennes ne peuvent considérer que les variables numériques. Nous nous arrêterons aux distances euclidienne et de Mahalanobis.",
      "metadata": {
        "noteable": {
          "cell_type": "markdown"
        }
      }
    },
    {
      "id": "bb680dcb-c7d1-4430-8581-a12ce98172c5",
      "cell_type": "markdown",
      "source": "### La distance euclidienne\n\nLa distance euclidienne entre deux vecteurs est calculée avec la formule de Pythagore.\n\n$$\nd(\\vec{x},\\vec{y}) = \\sqrt{(\\vec{x}-\\vec{y})^2}\n$$\n\nPour éviter de surcharger les graphiques, prenons 10 manchots au hasard. ",
      "metadata": {
        "noteable": {
          "cell_type": "markdown"
        }
      }
    },
    {
      "id": "055579ea-c817-4232-8499-bf2759d8d92f",
      "cell_type": "code",
      "metadata": {
        "jupyter": {
          "outputs_hidden": false,
          "source_hidden": false
        },
        "noteable": {
          "cell_type": "code",
          "output_collection_id": "b6231442-4e2a-4d7d-b943-209f8b6b0079"
        },
        "ExecuteTime": {
          "end_time": "2023-07-14T01:09:05.731420+00:00",
          "start_time": "2023-07-14T01:09:05.572931+00:00"
        },
        "datalink": {
          "2123a283-9fd3-4c8f-8064-db01a8ab1b58": {
            "applied_filters": [],
            "dataframe_info": {
              "default_index_used": true,
              "orig_num_cols": 10,
              "orig_num_rows": 10,
              "orig_size_bytes": 880,
              "truncated_num_cols": 10,
              "truncated_num_rows": 10,
              "truncated_size_bytes": 880,
              "truncated_string_columns": []
            },
            "display_id": "2123a283-9fd3-4c8f-8064-db01a8ab1b58",
            "dx_settings": {
              "ALLOW_NOTEABLE_ATTRS": true,
              "COLUMN_SAMPLING_METHOD": "outer",
              "DB_LOCATION": ":memory:",
              "DEV_MODE": false,
              "DISPLAY_MAX_COLUMNS": 100,
              "DISPLAY_MAX_ROWS": 50000,
              "DISPLAY_MODE": "simple",
              "ENABLE_ASSIGNMENT": true,
              "ENABLE_DATALINK": true,
              "FLATTEN_COLUMN_VALUES": true,
              "FLATTEN_INDEX_VALUES": false,
              "GENERATE_DEX_METADATA": false,
              "HTML_TABLE_SCHEMA": false,
              "LOG_LEVEL": 30,
              "MAX_RENDER_SIZE_BYTES": 104857600,
              "MAX_STRING_LENGTH": 250,
              "NUM_PAST_SAMPLES_TRACKED": 3,
              "RANDOM_STATE": 12648430,
              "RESET_INDEX_VALUES": false,
              "ROW_SAMPLING_METHOD": "random",
              "SAMPLING_FACTOR": 0.1,
              "SAMPLING_METHOD": "random",
              "STRINGIFY_COLUMN_VALUES": true,
              "STRINGIFY_INDEX_VALUES": false
            },
            "sample_history": [],
            "sampling_time": "2023-06-13T16:40:24.789028",
            "user_variable_name": null,
            "variable_name": "unk_dataframe_6da3c9befff649b2a1de28015c54ea1d"
          },
          "3ebac05d-e08a-4507-b1d4-e7c2212e4753": {
            "applied_filters": [],
            "dataframe_info": {
              "default_index_used": true,
              "orig_num_cols": 1,
              "orig_num_rows": 10,
              "orig_size_bytes": 160,
              "truncated_num_cols": 1,
              "truncated_num_rows": 10,
              "truncated_size_bytes": 160,
              "truncated_string_columns": []
            },
            "display_id": "3ebac05d-e08a-4507-b1d4-e7c2212e4753",
            "dx_settings": {
              "ALLOW_NOTEABLE_ATTRS": true,
              "COLUMN_SAMPLING_METHOD": "outer",
              "DB_LOCATION": ":memory:",
              "DEV_MODE": false,
              "DISPLAY_MAX_COLUMNS": 100,
              "DISPLAY_MAX_ROWS": 50000,
              "DISPLAY_MODE": "simple",
              "ENABLE_ASSIGNMENT": true,
              "ENABLE_DATALINK": true,
              "FLATTEN_COLUMN_VALUES": true,
              "FLATTEN_INDEX_VALUES": false,
              "GENERATE_DEX_METADATA": false,
              "HTML_TABLE_SCHEMA": false,
              "LOG_LEVEL": 30,
              "MAX_RENDER_SIZE_BYTES": 104857600,
              "MAX_STRING_LENGTH": 250,
              "NUM_PAST_SAMPLES_TRACKED": 3,
              "RANDOM_STATE": 12648430,
              "RESET_INDEX_VALUES": false,
              "ROW_SAMPLING_METHOD": "random",
              "SAMPLING_FACTOR": 0.1,
              "SAMPLING_METHOD": "random",
              "STRINGIFY_COLUMN_VALUES": true,
              "STRINGIFY_INDEX_VALUES": false
            },
            "sample_history": [],
            "sampling_time": "2023-06-13T16:40:37.338453",
            "user_variable_name": null,
            "variable_name": "unk_dataframe_e1e6f06ad2624ea39987f91e2635591c"
          },
          "6ad5c870-4db6-4f60-b845-0220976f546a": {
            "applied_filters": [],
            "dataframe_info": {
              "default_index_used": true,
              "orig_num_cols": 10,
              "orig_num_rows": 10,
              "orig_size_bytes": 880,
              "truncated_num_cols": 10,
              "truncated_num_rows": 10,
              "truncated_size_bytes": 880,
              "truncated_string_columns": []
            },
            "display_id": "6ad5c870-4db6-4f60-b845-0220976f546a",
            "dx_settings": {
              "ALLOW_NOTEABLE_ATTRS": true,
              "COLUMN_SAMPLING_METHOD": "outer",
              "DB_LOCATION": ":memory:",
              "DEV_MODE": false,
              "DISPLAY_MAX_COLUMNS": 100,
              "DISPLAY_MAX_ROWS": 50000,
              "DISPLAY_MODE": "simple",
              "ENABLE_ASSIGNMENT": true,
              "ENABLE_DATALINK": true,
              "FLATTEN_COLUMN_VALUES": true,
              "FLATTEN_INDEX_VALUES": false,
              "GENERATE_DEX_METADATA": false,
              "HTML_TABLE_SCHEMA": false,
              "LOG_LEVEL": 30,
              "MAX_RENDER_SIZE_BYTES": 104857600,
              "MAX_STRING_LENGTH": 250,
              "NUM_PAST_SAMPLES_TRACKED": 3,
              "RANDOM_STATE": 12648430,
              "RESET_INDEX_VALUES": false,
              "ROW_SAMPLING_METHOD": "random",
              "SAMPLING_FACTOR": 0.1,
              "SAMPLING_METHOD": "random",
              "STRINGIFY_COLUMN_VALUES": true,
              "STRINGIFY_INDEX_VALUES": false
            },
            "sample_history": [],
            "sampling_time": "2023-06-13T16:43:25.766596",
            "user_variable_name": null,
            "variable_name": "unk_dataframe_62b2b0b644374f24b68612f92f3dff07"
          },
          "85533180-5426-4d55-b3a9-6d807bfa8836": {
            "applied_filters": [],
            "dataframe_info": {
              "default_index_used": true,
              "orig_num_cols": 10,
              "orig_num_rows": 10,
              "orig_size_bytes": 880,
              "truncated_num_cols": 10,
              "truncated_num_rows": 10,
              "truncated_size_bytes": 880,
              "truncated_string_columns": []
            },
            "display_id": "85533180-5426-4d55-b3a9-6d807bfa8836",
            "dx_settings": {
              "ALLOW_NOTEABLE_ATTRS": true,
              "COLUMN_SAMPLING_METHOD": "outer",
              "DB_LOCATION": ":memory:",
              "DEV_MODE": false,
              "DISPLAY_MAX_COLUMNS": 100,
              "DISPLAY_MAX_ROWS": 50000,
              "DISPLAY_MODE": "simple",
              "ENABLE_ASSIGNMENT": true,
              "ENABLE_DATALINK": true,
              "FLATTEN_COLUMN_VALUES": true,
              "FLATTEN_INDEX_VALUES": false,
              "GENERATE_DEX_METADATA": false,
              "HTML_TABLE_SCHEMA": false,
              "LOG_LEVEL": 30,
              "MAX_RENDER_SIZE_BYTES": 104857600,
              "MAX_STRING_LENGTH": 250,
              "NUM_PAST_SAMPLES_TRACKED": 3,
              "RANDOM_STATE": 12648430,
              "RESET_INDEX_VALUES": false,
              "ROW_SAMPLING_METHOD": "random",
              "SAMPLING_FACTOR": 0.1,
              "SAMPLING_METHOD": "random",
              "STRINGIFY_COLUMN_VALUES": true,
              "STRINGIFY_INDEX_VALUES": false
            },
            "sample_history": [],
            "sampling_time": "2023-06-13T16:43:49.125768",
            "user_variable_name": null,
            "variable_name": "unk_dataframe_7fe27dd5429640449524476cd98cfa8a"
          },
          "787a3cd6-a11a-42e5-bdd6-cb9e7f3cf5fa": {
            "applied_filters": [],
            "dataframe_info": {
              "default_index_used": true,
              "orig_num_cols": 9,
              "orig_num_rows": 10,
              "orig_size_bytes": 800,
              "truncated_num_cols": 9,
              "truncated_num_rows": 10,
              "truncated_size_bytes": 800,
              "truncated_string_columns": []
            },
            "display_id": "787a3cd6-a11a-42e5-bdd6-cb9e7f3cf5fa",
            "dx_settings": {
              "ALLOW_NOTEABLE_ATTRS": true,
              "COLUMN_SAMPLING_METHOD": "outer",
              "DB_LOCATION": ":memory:",
              "DEV_MODE": false,
              "DISPLAY_MAX_COLUMNS": 100,
              "DISPLAY_MAX_ROWS": 50000,
              "DISPLAY_MODE": "simple",
              "ENABLE_ASSIGNMENT": true,
              "ENABLE_DATALINK": true,
              "FLATTEN_COLUMN_VALUES": true,
              "FLATTEN_INDEX_VALUES": false,
              "GENERATE_DEX_METADATA": false,
              "HTML_TABLE_SCHEMA": false,
              "LOG_LEVEL": 30,
              "MAX_RENDER_SIZE_BYTES": 104857600,
              "MAX_STRING_LENGTH": 250,
              "NUM_PAST_SAMPLES_TRACKED": 3,
              "RANDOM_STATE": 12648430,
              "RESET_INDEX_VALUES": false,
              "ROW_SAMPLING_METHOD": "random",
              "SAMPLING_FACTOR": 0.1,
              "SAMPLING_METHOD": "random",
              "STRINGIFY_COLUMN_VALUES": true,
              "STRINGIFY_INDEX_VALUES": false
            },
            "sample_history": [],
            "sampling_time": "2023-06-13T16:44:39.596634",
            "user_variable_name": null,
            "variable_name": "unk_dataframe_e82349c358744c92b11ec45bd970e8de"
          },
          "c46d3de7-06b5-4eab-8582-f455185e4dfd": {
            "applied_filters": [],
            "dataframe_info": {
              "default_index_used": true,
              "orig_num_cols": 9,
              "orig_num_rows": 10,
              "orig_size_bytes": 800,
              "truncated_num_cols": 9,
              "truncated_num_rows": 10,
              "truncated_size_bytes": 800,
              "truncated_string_columns": []
            },
            "display_id": "c46d3de7-06b5-4eab-8582-f455185e4dfd",
            "dx_settings": {
              "ALLOW_NOTEABLE_ATTRS": true,
              "COLUMN_SAMPLING_METHOD": "outer",
              "DB_LOCATION": ":memory:",
              "DEV_MODE": false,
              "DISPLAY_MAX_COLUMNS": 100,
              "DISPLAY_MAX_ROWS": 50000,
              "DISPLAY_MODE": "simple",
              "ENABLE_ASSIGNMENT": true,
              "ENABLE_DATALINK": true,
              "FLATTEN_COLUMN_VALUES": true,
              "FLATTEN_INDEX_VALUES": false,
              "GENERATE_DEX_METADATA": false,
              "HTML_TABLE_SCHEMA": false,
              "LOG_LEVEL": 30,
              "MAX_RENDER_SIZE_BYTES": 104857600,
              "MAX_STRING_LENGTH": 250,
              "NUM_PAST_SAMPLES_TRACKED": 3,
              "RANDOM_STATE": 12648430,
              "RESET_INDEX_VALUES": false,
              "ROW_SAMPLING_METHOD": "random",
              "SAMPLING_FACTOR": 0.1,
              "SAMPLING_METHOD": "random",
              "STRINGIFY_COLUMN_VALUES": true,
              "STRINGIFY_INDEX_VALUES": false
            },
            "sample_history": [],
            "sampling_time": "2023-06-13T17:08:45.706226",
            "user_variable_name": null,
            "variable_name": "unk_dataframe_d5209b7d30d245ad99c4fd18c15e8e77"
          }
        }
      },
      "execution_count": null,
      "source": "penguins_sample = penguins.sample(10, seed=6270574)\npenguins_sample = (\n    penguins_sample\n    .with_columns(\n        pl.concat_str([pl.col('rowid'), pl.col('species'), pl.col('sex')], separator=' ').alias('sample_id')\n    )\n)",
      "outputs": []
    },
    {
      "id": "0d842efd-28b5-42f6-87eb-c5af1b666535",
      "cell_type": "markdown",
      "source": "Je calcule la distance euclidienne, puis je présence le graphique, toujours avec *Seaborn*.",
      "metadata": {
        "noteable": {
          "cell_type": "markdown"
        }
      }
    },
    {
      "id": "86181d9c-3891-4b7e-8de1-7688f40fbc75",
      "cell_type": "code",
      "metadata": {
        "noteable": {
          "cell_type": "python",
          "output_collection_id": "02a3810f-716d-4bbd-975b-0ecd90f834cb"
        },
        "ExecuteTime": {
          "end_time": "2023-07-14T01:09:12.057118+00:00",
          "start_time": "2023-07-14T01:09:11.131287+00:00"
        },
        "datalink": {
          "114568cb-66de-4412-a70a-e524888383e4": {
            "applied_filters": [],
            "dataframe_info": {
              "default_index_used": true,
              "orig_num_cols": 20,
              "orig_num_rows": 20,
              "orig_size_bytes": 3360,
              "truncated_num_cols": 20,
              "truncated_num_rows": 20,
              "truncated_size_bytes": 3360,
              "truncated_string_columns": []
            },
            "display_id": "114568cb-66de-4412-a70a-e524888383e4",
            "dx_settings": {
              "ALLOW_NOTEABLE_ATTRS": true,
              "COLUMN_SAMPLING_METHOD": "outer",
              "DB_LOCATION": ":memory:",
              "DEV_MODE": false,
              "DISPLAY_MAX_COLUMNS": 100,
              "DISPLAY_MAX_ROWS": 50000,
              "DISPLAY_MODE": "simple",
              "ENABLE_ASSIGNMENT": true,
              "ENABLE_DATALINK": true,
              "FLATTEN_COLUMN_VALUES": true,
              "FLATTEN_INDEX_VALUES": false,
              "GENERATE_DEX_METADATA": false,
              "HTML_TABLE_SCHEMA": false,
              "LOG_LEVEL": 30,
              "MAX_RENDER_SIZE_BYTES": 104857600,
              "MAX_STRING_LENGTH": 250,
              "NUM_PAST_SAMPLES_TRACKED": 3,
              "RANDOM_STATE": 12648430,
              "RESET_INDEX_VALUES": false,
              "ROW_SAMPLING_METHOD": "random",
              "SAMPLING_FACTOR": 0.1,
              "SAMPLING_METHOD": "random",
              "STRINGIFY_COLUMN_VALUES": true,
              "STRINGIFY_INDEX_VALUES": false
            },
            "sample_history": [],
            "sampling_time": "2023-06-13T16:28:56.956053",
            "user_variable_name": null,
            "variable_name": "unk_dataframe_9229e772f22d4ff294653f98e61dfda2"
          }
        }
      },
      "execution_count": null,
      "source": "from scipy.spatial.distance import pdist, squareform\n\npenguin_attributes = ['bill_length_mm', 'bill_depth_mm', 'flipper_length_mm', 'body_mass_g']\npenguins_num = penguins_sample.select(penguin_attributes)\neucl_distances = pdist(penguins_num, metric='euclidean')\neucl_dist_matrix = squareform(eucl_distances)\neucl_dist_df = pl.DataFrame(eucl_dist_matrix/1000) # /1000 pour pouvoir bien voir les chiffres\neucl_hm = sns.heatmap(eucl_dist_df, annot=True, square=True)\neucl_hm.set_xticklabels(penguins_sample['sample_id'].to_list(), rotation=90)\neucl_hm.set_yticklabels(penguins_sample['sample_id'].to_list(), rotation=0);",
      "outputs": []
    },
    {
      "id": "b66e7683-6149-40c5-ad44-0bebff6ac1e0",
      "cell_type": "markdown",
      "source": "- Quels individus sont les plus proches ? Les plus éloignés ?\n- Si je vous disais que la distance euclidienne n'est pas fiable dans ce cas, avez-vous une idée pourquoi ?\n\nParce que la distance euclidienne dépend des unités utilisées. Elle prendrait une autre forme si la masse avait été calculée en kg, par exemple. Une solution pour uniformiser les variables est de soustraire la moyenne et diviser par l'écart-type. On pourrait le faire. Mais tant qu'à y être, on pourrait aussi considérer la corrélation avec la distance de Mahalanobis.",
      "metadata": {
        "noteable": {
          "cell_type": "markdown"
        }
      }
    },
    {
      "id": "d7d1c1e8-c45b-482a-852c-9fb9ae972a0e",
      "cell_type": "markdown",
      "source": "### La distance de Mahalanobis\n\nLa distance de Mahalanobis est semblable à la distance euclidienne, mais elle tient compte de la covariance de la matrice des objets. Cette covariance peut être utilisée pour décrire la structure d'un nuage de points. La figure suivante montre deux points verts qui se trouvent aux extrêmes d'un nuage de point. Ces points ont des distances euclidiennes différentes par rapport au centre : les lignes d'équidistance euclidienne sont tracées en rose. Toutefois, les deux points ont un3 distance de Mahalanobis égale à partir du centre.\n\n![](images/mahalanobis.png)\n\nL'équation est semblable à celle de la distance euclidienne:\n\n$$\nd_M(\\vec{x} ,\\vec{y}; Q) = \\sqrt{(\\vec{x} - \\vec{y})^\\mathsf{T} S^{-1} (\\vec{x} - \\vec{y})}\n$$\n\nAttention ici, il se pourrait que l'inversion de la matrice de corrélation soit singulière. Dans ce cas, [des méthodes d'approximation existent](https://numpy.org/doc/stable/reference/generated/numpy.linalg.pinv.html) !",
      "metadata": {
        "noteable": {
          "cell_type": "markdown"
        }
      }
    },
    {
      "id": "2921e603-0f35-458d-85dd-44fd28164430",
      "cell_type": "code",
      "metadata": {
        "noteable": {
          "cell_type": "python",
          "output_collection_id": "98f4e296-c301-41c0-8d96-7572736f801f"
        },
        "ExecuteTime": {
          "end_time": "2023-07-14T01:11:05.622873+00:00",
          "start_time": "2023-07-14T01:11:04.535676+00:00"
        }
      },
      "execution_count": null,
      "source": "maha_distances = pdist(penguins_num, metric='mahalanobis')\nmaha_dist_matrix = squareform(maha_distances)\nmaha_dist_df = pl.DataFrame(maha_dist_matrix)\nmaha_hm = sns.heatmap(maha_dist_df, annot=True, square=True)\nmaha_hm.set_xticklabels(penguins_sample['sample_id'].to_list(), rotation=90)\nmaha_hm.set_yticklabels(penguins_sample['sample_id'].to_list(), rotation=0);",
      "outputs": []
    },
    {
      "id": "9ea89868-cced-441e-8263-ef4362945dcb",
      "cell_type": "markdown",
      "source": "- Quels individus sont les plus proches? Les plus éloignés?\n- Comment pourrait-on inclure le sexe dans le calcul de la distance ?\n\nIl existe de nombreuses manières de calculer des distances. Les résultats d'une étude sur les distances sont intimement liés à la métrique utilisée.\n\nLes distances peuvent être utiles pour assigner des catégories à des observations qui *a piori* n'en ont pas.",
      "metadata": {
        "noteable": {
          "cell_type": "markdown"
        }
      }
    },
    {
      "id": "7a48e4c7-61a0-416f-9d0d-cc08575dbcfd",
      "cell_type": "markdown",
      "source": "## Partitionnement\n\nLes données suivantes ont été générées par [Leland McInnes](https://github.com/scikit-learn-contrib/hdbscan/blob/master/notebooks/clusterable_data.npy) (Tutte institute of mathematics, Ottawa). Êtes-vous en mesure d'identifier des groupes ? Combien en trouvez-vous ?",
      "metadata": {
        "noteable": {
          "cell_type": "markdown"
        }
      }
    },
    {
      "id": "806dff65-cda2-45c1-8b5b-2ddc6b3360f4",
      "cell_type": "code",
      "metadata": {
        "noteable": {
          "cell_type": "python",
          "output_collection_id": "439da9f6-b2c9-4dac-94b5-b3534cb7be03"
        },
        "ExecuteTime": {
          "end_time": "2023-07-14T01:11:56.522022+00:00",
          "start_time": "2023-07-14T01:11:56.306912+00:00"
        },
        "datalink": {
          "057edc64-178b-4dfc-8adb-3572c2e8fdab": {
            "applied_filters": [],
            "dataframe_info": {
              "default_index_used": true,
              "orig_num_cols": 2,
              "orig_num_rows": 2309,
              "orig_size_bytes": 55416,
              "truncated_num_cols": 2,
              "truncated_num_rows": 2309,
              "truncated_size_bytes": 55416,
              "truncated_string_columns": []
            },
            "display_id": "057edc64-178b-4dfc-8adb-3572c2e8fdab",
            "dx_settings": {
              "ALLOW_NOTEABLE_ATTRS": true,
              "COLUMN_SAMPLING_METHOD": "outer",
              "DB_LOCATION": ":memory:",
              "DEV_MODE": false,
              "DISPLAY_MAX_COLUMNS": 100,
              "DISPLAY_MAX_ROWS": 50000,
              "DISPLAY_MODE": "simple",
              "ENABLE_ASSIGNMENT": true,
              "ENABLE_DATALINK": true,
              "FLATTEN_COLUMN_VALUES": true,
              "FLATTEN_INDEX_VALUES": false,
              "GENERATE_DEX_METADATA": false,
              "HTML_TABLE_SCHEMA": false,
              "LOG_LEVEL": 30,
              "MAX_RENDER_SIZE_BYTES": 104857600,
              "MAX_STRING_LENGTH": 250,
              "NUM_PAST_SAMPLES_TRACKED": 3,
              "RANDOM_STATE": 12648430,
              "RESET_INDEX_VALUES": false,
              "ROW_SAMPLING_METHOD": "random",
              "SAMPLING_FACTOR": 0.1,
              "SAMPLING_METHOD": "random",
              "STRINGIFY_COLUMN_VALUES": true,
              "STRINGIFY_INDEX_VALUES": false
            },
            "sample_history": [],
            "sampling_time": "2023-06-21T15:59:45.825111",
            "user_variable_name": null,
            "variable_name": "unk_dataframe_e2698ad691704d048aa77a45a555e187"
          },
          "034b3f6a-303b-4757-80d8-b4e6e7eefbb9": {
            "applied_filters": [],
            "dataframe_info": {
              "default_index_used": true,
              "orig_num_cols": 2,
              "orig_num_rows": 2309,
              "orig_size_bytes": 55416,
              "truncated_num_cols": 2,
              "truncated_num_rows": 2309,
              "truncated_size_bytes": 55416,
              "truncated_string_columns": []
            },
            "display_id": "034b3f6a-303b-4757-80d8-b4e6e7eefbb9",
            "dx_settings": {
              "ALLOW_NOTEABLE_ATTRS": true,
              "COLUMN_SAMPLING_METHOD": "outer",
              "DB_LOCATION": ":memory:",
              "DEV_MODE": false,
              "DISPLAY_MAX_COLUMNS": 100,
              "DISPLAY_MAX_ROWS": 50000,
              "DISPLAY_MODE": "simple",
              "ENABLE_ASSIGNMENT": true,
              "ENABLE_DATALINK": true,
              "FLATTEN_COLUMN_VALUES": true,
              "FLATTEN_INDEX_VALUES": false,
              "GENERATE_DEX_METADATA": false,
              "HTML_TABLE_SCHEMA": false,
              "LOG_LEVEL": 30,
              "MAX_RENDER_SIZE_BYTES": 104857600,
              "MAX_STRING_LENGTH": 250,
              "NUM_PAST_SAMPLES_TRACKED": 3,
              "RANDOM_STATE": 12648430,
              "RESET_INDEX_VALUES": false,
              "ROW_SAMPLING_METHOD": "random",
              "SAMPLING_FACTOR": 0.1,
              "SAMPLING_METHOD": "random",
              "STRINGIFY_COLUMN_VALUES": true,
              "STRINGIFY_INDEX_VALUES": false
            },
            "sample_history": [],
            "sampling_time": "2023-06-21T16:01:37.745970",
            "user_variable_name": null,
            "variable_name": "unk_dataframe_52c5d9cd485241ad8fa5d06b2dd193b9"
          },
          "84f93e17-d047-4031-91b0-d5fc2f7c9ab7": {
            "applied_filters": [],
            "dataframe_info": {
              "default_index_used": true,
              "orig_num_cols": 2,
              "orig_num_rows": 2309,
              "orig_size_bytes": 55416,
              "truncated_num_cols": 2,
              "truncated_num_rows": 2309,
              "truncated_size_bytes": 55416,
              "truncated_string_columns": []
            },
            "display_id": "84f93e17-d047-4031-91b0-d5fc2f7c9ab7",
            "dx_settings": {
              "ALLOW_NOTEABLE_ATTRS": true,
              "COLUMN_SAMPLING_METHOD": "outer",
              "DB_LOCATION": ":memory:",
              "DEV_MODE": false,
              "DISPLAY_MAX_COLUMNS": 100,
              "DISPLAY_MAX_ROWS": 50000,
              "DISPLAY_MODE": "simple",
              "ENABLE_ASSIGNMENT": true,
              "ENABLE_DATALINK": true,
              "FLATTEN_COLUMN_VALUES": true,
              "FLATTEN_INDEX_VALUES": false,
              "GENERATE_DEX_METADATA": false,
              "HTML_TABLE_SCHEMA": false,
              "LOG_LEVEL": 30,
              "MAX_RENDER_SIZE_BYTES": 104857600,
              "MAX_STRING_LENGTH": 250,
              "NUM_PAST_SAMPLES_TRACKED": 3,
              "RANDOM_STATE": 12648430,
              "RESET_INDEX_VALUES": false,
              "ROW_SAMPLING_METHOD": "random",
              "SAMPLING_FACTOR": 0.1,
              "SAMPLING_METHOD": "random",
              "STRINGIFY_COLUMN_VALUES": true,
              "STRINGIFY_INDEX_VALUES": false
            },
            "sample_history": [],
            "sampling_time": "2023-06-21T16:48:48.470582",
            "user_variable_name": null,
            "variable_name": "unk_dataframe_68e22adc198544669fe1b5152dc321f0"
          },
          "14163a17-9caa-4213-afb1-26ec651f3592": {
            "applied_filters": [],
            "dataframe_info": {
              "default_index_used": true,
              "orig_num_cols": 2,
              "orig_num_rows": 2309,
              "orig_size_bytes": 55416,
              "truncated_num_cols": 2,
              "truncated_num_rows": 2309,
              "truncated_size_bytes": 55416,
              "truncated_string_columns": []
            },
            "display_id": "14163a17-9caa-4213-afb1-26ec651f3592",
            "dx_settings": {
              "ALLOW_NOTEABLE_ATTRS": true,
              "COLUMN_SAMPLING_METHOD": "outer",
              "DB_LOCATION": ":memory:",
              "DEV_MODE": false,
              "DISPLAY_MAX_COLUMNS": 100,
              "DISPLAY_MAX_ROWS": 50000,
              "DISPLAY_MODE": "simple",
              "ENABLE_ASSIGNMENT": true,
              "ENABLE_DATALINK": true,
              "FLATTEN_COLUMN_VALUES": true,
              "FLATTEN_INDEX_VALUES": false,
              "GENERATE_DEX_METADATA": false,
              "HTML_TABLE_SCHEMA": false,
              "LOG_LEVEL": 30,
              "MAX_RENDER_SIZE_BYTES": 104857600,
              "MAX_STRING_LENGTH": 250,
              "NUM_PAST_SAMPLES_TRACKED": 3,
              "RANDOM_STATE": 12648430,
              "RESET_INDEX_VALUES": false,
              "ROW_SAMPLING_METHOD": "random",
              "SAMPLING_FACTOR": 0.1,
              "SAMPLING_METHOD": "random",
              "STRINGIFY_COLUMN_VALUES": true,
              "STRINGIFY_INDEX_VALUES": false
            },
            "sample_history": [],
            "sampling_time": "2023-06-21T17:03:10.375134",
            "user_variable_name": null,
            "variable_name": "unk_dataframe_80a670a4971b43669084cb8c4fe5ac90"
          },
          "4901d2c3-4b32-4429-b561-98cd43cbaca7": {
            "applied_filters": [],
            "dataframe_info": {
              "default_index_used": true,
              "orig_num_cols": 2,
              "orig_num_rows": 2309,
              "orig_size_bytes": 55416,
              "truncated_num_cols": 2,
              "truncated_num_rows": 2309,
              "truncated_size_bytes": 55416,
              "truncated_string_columns": []
            },
            "display_id": "4901d2c3-4b32-4429-b561-98cd43cbaca7",
            "dx_settings": {
              "ALLOW_NOTEABLE_ATTRS": true,
              "COLUMN_SAMPLING_METHOD": "outer",
              "DB_LOCATION": ":memory:",
              "DEV_MODE": false,
              "DISPLAY_MAX_COLUMNS": 100,
              "DISPLAY_MAX_ROWS": 50000,
              "DISPLAY_MODE": "simple",
              "ENABLE_ASSIGNMENT": true,
              "ENABLE_DATALINK": true,
              "FLATTEN_COLUMN_VALUES": true,
              "FLATTEN_INDEX_VALUES": false,
              "GENERATE_DEX_METADATA": false,
              "HTML_TABLE_SCHEMA": false,
              "LOG_LEVEL": 30,
              "MAX_RENDER_SIZE_BYTES": 104857600,
              "MAX_STRING_LENGTH": 250,
              "NUM_PAST_SAMPLES_TRACKED": 3,
              "RANDOM_STATE": 12648430,
              "RESET_INDEX_VALUES": false,
              "ROW_SAMPLING_METHOD": "random",
              "SAMPLING_FACTOR": 0.1,
              "SAMPLING_METHOD": "random",
              "STRINGIFY_COLUMN_VALUES": true,
              "STRINGIFY_INDEX_VALUES": false
            },
            "sample_history": [],
            "sampling_time": "2023-06-21T17:07:20.980811",
            "user_variable_name": null,
            "variable_name": "unk_dataframe_899572c75c7b40ef88929ecd063b5872"
          }
        },
        "dx": {
          "dashboard": {
            "multiViews": []
          },
          "fieldMetadata": {},
          "updated": 1687368854765,
          "views": [
            {
              "annotationRules": [],
              "chart": {},
              "chartMode": "grid",
              "confoRules": [],
              "decoration": {
                "footer": "",
                "subtitle": "",
                "title": "Table"
              },
              "facets": [],
              "filterSettings": {
                "SHOW_FILTER_PANEL": true,
                "filters": []
              },
              "id": "first-view",
              "isDefault": true,
              "type": "public",
              "userID": ""
            }
          ]
        }
      },
      "execution_count": null,
      "source": "df_mcinnes = pl.read_csv('data/clusterable_data.csv')\n(\n    ggplot(df_mcinnes, aes(x='X', y='Y'))\n    + geom_point()\n)",
      "outputs": []
    },
    {
      "id": "896d48ea-938a-49b0-80fe-da5ef7f6a243",
      "cell_type": "markdown",
      "source": "En 2D, l'oeil humain peut facilement détecter les groupes. En 3D, c'est toujours possible, mais au-delà de 3D, le partitionnement cognitive devient rapidement maladroite. Les algorithmes sont alors d'une aide précieuse. Mais, ils transportent en pratique tout un bagage de limitations. Quel est le critère d'association entre les groupes ? Combien de groupe devrions-nous créer ? Comment distinguer une donnée trop bruitée pour être classifiée ?\n\nLe partitionnement de données (clustering en anglais), et inversement leur regroupement, permet de créer des ensembles selon des critères d'association. On suppose donc que Le partitionnement permet d'attribuer des groupes selon l'information que l'on fait émerger des données. Il est conséquemment entendu que les données ne sont pas catégorisées *a priori* : il ne s'agit pas de prédire la catégorie d'un objet, mais bien de créer des catégories à partir des objets, par exemple selon leurs dimensions, leurs couleurs, leur signature chimique, leurs comportements, leurs gènes, etc.\n\nPlusieurs méthodes sont aujourd'hui offertes aux analystes pour partitionner leurs données. Nous couvrirons ici deux grandes tendances dans les algorithmes.\n\n- **Méthodes hiérarchiques et non hiérarchiques**. Dans un partitionnement hiérarchique, l'ensemble des objets forme un groupe, comprenant des sous-regroupements, des sous-sous-regroupements, etc., dont les objets forment l'ultime partitionnement. À l'inverse, le partitionnement non hiérarchique est... non hiérarchique...\n\n- **Membership exclusif ou flou**. Certaines techniques attribuent aux observations une classe exclusive : le jugement d'appartenance à une classe est binaire. D'autres techniques vont attribuer un membership flou où le degré d'appartenance est une variable continue de 0 à 1.\n\nNous n'explorerons pas le membership flou, mais couvrirons des méthodes hiérarchiques et non hiérarchiques.",
      "metadata": {
        "noteable": {
          "cell_type": "markdown"
        }
      }
    },
    {
      "id": "3e4f76bf-5291-4b63-9755-95a258efec24",
      "cell_type": "markdown",
      "source": "### Partitionnement non hiérarchique\n\nIl peut arriver que vous n'ayez pas besoin de comprendre la structure d'agglomération des objets (ou variables).  Plusieurs techniques de partitionnement non hiérarchique [sont disponibles dans le module *Scikit-Learn*](http://scikit-learn.org/stable/modules/clustering.html) (*Scikit-Learn* est un couteau suisse pour la modélisation empirique en Python). On s'intéressera en particulier à celles-ci.\n\n#### Kmeans (`sklearn.cluster.Kmeans`)\n\nL'objectif des kmeans est de minimiser la distance euclidienne entre un nombre prédéfini de *k* groupes exclusifs.\n\n1. L'algorithme commence par placer un nombre *k* de centroïdes au hasard dans l'espace d'un nombre *p* de variables (vous devez fixer *k*, et *p* est le nombre de colonnes de vos données).\n2. Ensuite, chaque objet est étiqueté comme appartenant au groupe du centroïde le plus près.\n3. La position du centroïde est déplacée à la moyenne de chaque groupe.\n4. Recommencer à partir de l'étape 2 jusqu'à ce que l'assignation des objets aux groupes ne change plus.\n\n![](https://media.giphy.com/media/12vVAGkaqHUqCQ/giphy.gif)\nSource: [David Sheehan](https://dashee87.github.io/data%20science/general/Clustering-with-Scikit-with-GIFs/)\n\nLa technique des kmeans suppose que les groupes ont des distributions multinormales - représentées par des cercles en 2D, des sphères en 3D, des hypersphères en plus de 3D. Cette limitation est problématique lorsque les groupes se présentent sous des formes irrégulières, comme celles du nuage de points de Leland McInnes, présenté plus haut. De plus, la technique classique des kmeans est basée sur des distances euclidiennes: l'utilisation des kmeans n'est appropriée pour les données comprenant beaucoup de zéros, comme les données d'abondance, qui devraient préalablement être transformées en variables centrées et réduites ([Legendre et Legendre, 2012](https://www.elsevier.com/books/numerical-ecology/legendre/978-0-444-53868-0)). La technique des **mixtures gaussiennes** (*gaussian mixtures*, `sklearn.mixture.GaussianMixture`) est une généralisation des kmeans permettant d'intégrer la covariance des groupes. Les groupes ne sont plus des hyper-sphères, mais des hyper-ellipsoïdes.\n\n",
      "metadata": {
        "noteable": {
          "cell_type": "markdown"
        }
      }
    },
    {
      "id": "d95b9928-a093-4fe9-9fc5-4de197b42d9b",
      "cell_type": "markdown",
      "source": "##### Application\n\nDans *Scikit-Learn*, on définit d'abord le modèle (par exemple `Kmeans(...)`), puis on l'applique à nos données (`fit(...)`). Enfin on applique le modèle sur des données (`predict(...)`). Certaines fonctions utilisent toutefois le raccourci `fit_predict()`. Chaque algorithme doit être ajusté avec les paramètres qui convient. De nombreux paramètres par défaut sont utilisés dans les exécutions ci-dessous. Lors de travaux de recherche, l'utilisation d'un argument ou d'un autre dans une fonction doit être justifié : qu'un paramètre soit utilisé par défaut dans une fonction n'est a priori pas une justification convaincante.\n\nNous allons classifier les données de Leland McInnes, présentée ci-dessus. Importons les fonctions nécessaires.",
      "metadata": {
        "noteable": {
          "cell_type": "markdown"
        }
      }
    },
    {
      "id": "a8be5991-9a1f-4c2c-9276-885ed0fc6d6d",
      "cell_type": "code",
      "metadata": {
        "noteable": {
          "cell_type": "python",
          "output_collection_id": "78d1448c-06dc-4a9d-a922-a204f1bebcb3"
        },
        "ExecuteTime": {
          "end_time": "2023-07-14T01:18:54.680228+00:00",
          "start_time": "2023-07-14T01:18:54.200693+00:00"
        }
      },
      "execution_count": null,
      "source": "from sklearn.cluster import KMeans\nfrom sklearn.mixture import GaussianMixture\nfrom sklearn import metrics",
      "outputs": []
    },
    {
      "id": "9d82b4c0-66f1-4655-b605-102004a91604",
      "cell_type": "markdown",
      "source": "Pour les *kmeans*, on doit fixer le nombre de groupes. Le graphique des données de Leland McInnes montrent 6 groupes. Toutefois, il est rare que l'on puisse visualiser de telles démarcations, qui plus est dans des cas où l'on doit traiter de plus de deux dimensions. Je vais donc lancer le partitionnement en boucle pour plusieurs nombres de groupes, de 3 à 10 et pour chaque groupe, évaluer le score silhouette et de Calinski-Habaraz. J'utilise un argument `random_state` pour m'assurer que les groupes seront les mêmes à chaque fois que la cellule sera lancée.",
      "metadata": {
        "noteable": {
          "cell_type": "markdown"
        }
      }
    },
    {
      "id": "63fcc662-01f3-4541-960c-0269af0a6197",
      "cell_type": "code",
      "metadata": {
        "noteable": {
          "cell_type": "python",
          "output_collection_id": "ee0e96f5-5c6d-4832-bcb5-ebaaec35189e"
        },
        "ExecuteTime": {
          "end_time": "2023-07-14T01:19:55.488769+00:00",
          "start_time": "2023-07-14T01:19:51.486032+00:00"
        },
        "datalink": {
          "32e9344b-a6de-4697-bfcd-648eb7512a26": {
            "applied_filters": [],
            "dataframe_info": {
              "default_index_used": true,
              "orig_num_cols": 3,
              "orig_num_rows": 14,
              "orig_size_bytes": 448,
              "truncated_num_cols": 3,
              "truncated_num_rows": 14,
              "truncated_size_bytes": 448,
              "truncated_string_columns": []
            },
            "display_id": "32e9344b-a6de-4697-bfcd-648eb7512a26",
            "dx_settings": {
              "ALLOW_NOTEABLE_ATTRS": true,
              "COLUMN_SAMPLING_METHOD": "outer",
              "DB_LOCATION": ":memory:",
              "DEV_MODE": false,
              "DISPLAY_MAX_COLUMNS": 100,
              "DISPLAY_MAX_ROWS": 50000,
              "DISPLAY_MODE": "simple",
              "ENABLE_ASSIGNMENT": true,
              "ENABLE_DATALINK": true,
              "FLATTEN_COLUMN_VALUES": true,
              "FLATTEN_INDEX_VALUES": false,
              "GENERATE_DEX_METADATA": false,
              "HTML_TABLE_SCHEMA": false,
              "LOG_LEVEL": 30,
              "MAX_RENDER_SIZE_BYTES": 104857600,
              "MAX_STRING_LENGTH": 250,
              "NUM_PAST_SAMPLES_TRACKED": 3,
              "RANDOM_STATE": 12648430,
              "RESET_INDEX_VALUES": false,
              "ROW_SAMPLING_METHOD": "random",
              "SAMPLING_FACTOR": 0.1,
              "SAMPLING_METHOD": "random",
              "STRINGIFY_COLUMN_VALUES": true,
              "STRINGIFY_INDEX_VALUES": false
            },
            "sample_history": [],
            "sampling_time": "2023-06-21T16:57:22.123557",
            "user_variable_name": null,
            "variable_name": "unk_dataframe_5d60310b290b49998c1ac3a3a273c0b3"
          }
        }
      },
      "execution_count": null,
      "source": "silouhette_score = []\ncalinski_index = []\nn_groups = list(range(3, 10))\nfor i in n_groups:\n    mcinnes_kmeans_labels = (\n        KMeans(n_clusters=i, random_state=5437925)\n        .fit_predict(df_mcinnes.select(['X', 'Y']))\n    )\n    silouhette_score.append(\n        metrics\n        .silhouette_score(df_mcinnes.select(['X', 'Y']), mcinnes_kmeans_labels, metric='euclidean')\n    )\n    calinski_index.append(\n        metrics\n        .calinski_harabasz_score(df_mcinnes.select(['X', 'Y']), mcinnes_kmeans_labels)\n    )",
      "outputs": []
    },
    {
      "id": "763faf2c-bc1d-4882-9f25-17ff3abe7258",
      "cell_type": "code",
      "metadata": {
        "jupyter": {
          "outputs_hidden": false,
          "source_hidden": false
        },
        "noteable": {
          "cell_type": "code",
          "output_collection_id": "300e23b4-8be5-4635-a76a-3ffb210aab0a"
        },
        "ExecuteTime": {
          "end_time": "2023-07-14T01:19:59.953248+00:00",
          "start_time": "2023-07-14T01:19:59.786926+00:00"
        },
        "datalink": {
          "5d7aead9-1182-42bd-a2e4-2d1ace767941": {
            "applied_filters": [],
            "dataframe_info": {
              "default_index_used": true,
              "orig_num_cols": 3,
              "orig_num_rows": 7,
              "orig_size_bytes": 224,
              "truncated_num_cols": 3,
              "truncated_num_rows": 7,
              "truncated_size_bytes": 224,
              "truncated_string_columns": []
            },
            "display_id": "5d7aead9-1182-42bd-a2e4-2d1ace767941",
            "dx_settings": {
              "ALLOW_NOTEABLE_ATTRS": true,
              "COLUMN_SAMPLING_METHOD": "outer",
              "DB_LOCATION": ":memory:",
              "DEV_MODE": false,
              "DISPLAY_MAX_COLUMNS": 100,
              "DISPLAY_MAX_ROWS": 50000,
              "DISPLAY_MODE": "simple",
              "ENABLE_ASSIGNMENT": true,
              "ENABLE_DATALINK": true,
              "FLATTEN_COLUMN_VALUES": true,
              "FLATTEN_INDEX_VALUES": false,
              "GENERATE_DEX_METADATA": false,
              "HTML_TABLE_SCHEMA": false,
              "LOG_LEVEL": 30,
              "MAX_RENDER_SIZE_BYTES": 104857600,
              "MAX_STRING_LENGTH": 250,
              "NUM_PAST_SAMPLES_TRACKED": 3,
              "RANDOM_STATE": 12648430,
              "RESET_INDEX_VALUES": false,
              "ROW_SAMPLING_METHOD": "random",
              "SAMPLING_FACTOR": 0.1,
              "SAMPLING_METHOD": "random",
              "STRINGIFY_COLUMN_VALUES": true,
              "STRINGIFY_INDEX_VALUES": false
            },
            "sample_history": [],
            "sampling_time": "2023-06-21T16:56:16.769903",
            "user_variable_name": null,
            "variable_name": "unk_dataframe_34a6b1786131445cabe59d1797c48bba"
          }
        }
      },
      "execution_count": null,
      "source": "kmeans_scores = pl.DataFrame({\n    'Number of groups': n_groups,\n    'silouhette_score': silouhette_score,\n    'calinski_index': calinski_index\n}).melt(id_vars = 'Number of groups')\n\n(\n    ggplot(kmeans_scores, aes(x='Number of groups', y='value'))\n    + geom_point()\n    + geom_line()\n    + facet_wrap(facets='variable', scales='free', ncol=2)\n)",
      "outputs": []
    },
    {
      "id": "bcdb2141-239d-44ef-8231-63b071df743d",
      "cell_type": "markdown",
      "source": "Considérant les deux scores, 6 groupes semble visuellement correspondre à un optimal. Ajoutons une colonne étiquetant le groupe au tableau `df_mcinnes`.",
      "metadata": {
        "noteable": {
          "cell_type": "markdown"
        }
      }
    },
    {
      "id": "c67b50e1-9e1e-4f86-927f-3188e2117160",
      "cell_type": "code",
      "metadata": {
        "jupyter": {
          "outputs_hidden": false,
          "source_hidden": false
        },
        "noteable": {
          "cell_type": "code",
          "output_collection_id": "accc8f57-560a-4ec4-8285-23deb9d162f2"
        },
        "ExecuteTime": {
          "end_time": "2023-07-14T01:23:23.318493+00:00",
          "start_time": "2023-07-14T01:23:23.044639+00:00"
        },
        "datalink": {
          "cfcf0405-24aa-4c5f-bb54-a76dc7aaa0e8": {
            "applied_filters": [],
            "dataframe_info": {
              "default_index_used": true,
              "orig_num_cols": 3,
              "orig_num_rows": 2309,
              "orig_size_bytes": 64652,
              "truncated_num_cols": 3,
              "truncated_num_rows": 2309,
              "truncated_size_bytes": 64652,
              "truncated_string_columns": []
            },
            "display_id": "cfcf0405-24aa-4c5f-bb54-a76dc7aaa0e8",
            "dx_settings": {
              "ALLOW_NOTEABLE_ATTRS": true,
              "COLUMN_SAMPLING_METHOD": "outer",
              "DB_LOCATION": ":memory:",
              "DEV_MODE": false,
              "DISPLAY_MAX_COLUMNS": 100,
              "DISPLAY_MAX_ROWS": 50000,
              "DISPLAY_MODE": "simple",
              "ENABLE_ASSIGNMENT": true,
              "ENABLE_DATALINK": true,
              "FLATTEN_COLUMN_VALUES": true,
              "FLATTEN_INDEX_VALUES": false,
              "GENERATE_DEX_METADATA": false,
              "HTML_TABLE_SCHEMA": false,
              "LOG_LEVEL": 30,
              "MAX_RENDER_SIZE_BYTES": 104857600,
              "MAX_STRING_LENGTH": 250,
              "NUM_PAST_SAMPLES_TRACKED": 3,
              "RANDOM_STATE": 12648430,
              "RESET_INDEX_VALUES": false,
              "ROW_SAMPLING_METHOD": "random",
              "SAMPLING_FACTOR": 0.1,
              "SAMPLING_METHOD": "random",
              "STRINGIFY_COLUMN_VALUES": true,
              "STRINGIFY_INDEX_VALUES": false
            },
            "sample_history": [],
            "sampling_time": "2023-06-21T17:04:40.103913",
            "user_variable_name": null,
            "variable_name": "unk_dataframe_8ab1799f12b542ccaa70c624644ffa69"
          },
          "8a54a1c2-16d2-4ecb-ad37-6539a429e243": {
            "applied_filters": [],
            "dataframe_info": {
              "default_index_used": true,
              "orig_num_cols": 2,
              "orig_num_rows": 6,
              "orig_size_bytes": 96,
              "truncated_num_cols": 2,
              "truncated_num_rows": 6,
              "truncated_size_bytes": 96,
              "truncated_string_columns": []
            },
            "display_id": "8a54a1c2-16d2-4ecb-ad37-6539a429e243",
            "dx_settings": {
              "ALLOW_NOTEABLE_ATTRS": true,
              "COLUMN_SAMPLING_METHOD": "outer",
              "DB_LOCATION": ":memory:",
              "DEV_MODE": false,
              "DISPLAY_MAX_COLUMNS": 100,
              "DISPLAY_MAX_ROWS": 50000,
              "DISPLAY_MODE": "simple",
              "ENABLE_ASSIGNMENT": true,
              "ENABLE_DATALINK": true,
              "FLATTEN_COLUMN_VALUES": true,
              "FLATTEN_INDEX_VALUES": false,
              "GENERATE_DEX_METADATA": false,
              "HTML_TABLE_SCHEMA": false,
              "LOG_LEVEL": 30,
              "MAX_RENDER_SIZE_BYTES": 104857600,
              "MAX_STRING_LENGTH": 250,
              "NUM_PAST_SAMPLES_TRACKED": 3,
              "RANDOM_STATE": 12648430,
              "RESET_INDEX_VALUES": false,
              "ROW_SAMPLING_METHOD": "random",
              "SAMPLING_FACTOR": 0.1,
              "SAMPLING_METHOD": "random",
              "STRINGIFY_COLUMN_VALUES": true,
              "STRINGIFY_INDEX_VALUES": false
            },
            "sample_history": [],
            "sampling_time": "2023-06-21T17:24:33.844177",
            "user_variable_name": null,
            "variable_name": "unk_dataframe_d2495a3dd68944c290566bd77f1d5455"
          },
          "5c612a67-1fc2-4d50-b976-332414b64ef5": {
            "applied_filters": [],
            "dataframe_info": {
              "default_index_used": true,
              "orig_num_cols": 2,
              "orig_num_rows": 6,
              "orig_size_bytes": 96,
              "truncated_num_cols": 2,
              "truncated_num_rows": 6,
              "truncated_size_bytes": 96,
              "truncated_string_columns": []
            },
            "display_id": "5c612a67-1fc2-4d50-b976-332414b64ef5",
            "dx_settings": {
              "ALLOW_NOTEABLE_ATTRS": true,
              "COLUMN_SAMPLING_METHOD": "outer",
              "DB_LOCATION": ":memory:",
              "DEV_MODE": false,
              "DISPLAY_MAX_COLUMNS": 100,
              "DISPLAY_MAX_ROWS": 50000,
              "DISPLAY_MODE": "simple",
              "ENABLE_ASSIGNMENT": true,
              "ENABLE_DATALINK": true,
              "FLATTEN_COLUMN_VALUES": true,
              "FLATTEN_INDEX_VALUES": false,
              "GENERATE_DEX_METADATA": false,
              "HTML_TABLE_SCHEMA": false,
              "LOG_LEVEL": 30,
              "MAX_RENDER_SIZE_BYTES": 104857600,
              "MAX_STRING_LENGTH": 250,
              "NUM_PAST_SAMPLES_TRACKED": 3,
              "RANDOM_STATE": 12648430,
              "RESET_INDEX_VALUES": false,
              "ROW_SAMPLING_METHOD": "random",
              "SAMPLING_FACTOR": 0.1,
              "SAMPLING_METHOD": "random",
              "STRINGIFY_COLUMN_VALUES": true,
              "STRINGIFY_INDEX_VALUES": false
            },
            "sample_history": [],
            "sampling_time": "2023-06-21T17:49:55.228054",
            "user_variable_name": null,
            "variable_name": "unk_dataframe_eade8bed248945d981ca03e3fd48ee63"
          },
          "200cad67-e3c1-4872-8759-7342309000ce": {
            "applied_filters": [],
            "dataframe_info": {
              "default_index_used": true,
              "orig_num_cols": 2,
              "orig_num_rows": 6,
              "orig_size_bytes": 96,
              "truncated_num_cols": 2,
              "truncated_num_rows": 6,
              "truncated_size_bytes": 96,
              "truncated_string_columns": []
            },
            "display_id": "200cad67-e3c1-4872-8759-7342309000ce",
            "dx_settings": {
              "ALLOW_NOTEABLE_ATTRS": true,
              "COLUMN_SAMPLING_METHOD": "outer",
              "DB_LOCATION": ":memory:",
              "DEV_MODE": false,
              "DISPLAY_MAX_COLUMNS": 100,
              "DISPLAY_MAX_ROWS": 50000,
              "DISPLAY_MODE": "simple",
              "ENABLE_ASSIGNMENT": true,
              "ENABLE_DATALINK": true,
              "FLATTEN_COLUMN_VALUES": true,
              "FLATTEN_INDEX_VALUES": false,
              "GENERATE_DEX_METADATA": false,
              "HTML_TABLE_SCHEMA": false,
              "LOG_LEVEL": 30,
              "MAX_RENDER_SIZE_BYTES": 104857600,
              "MAX_STRING_LENGTH": 250,
              "NUM_PAST_SAMPLES_TRACKED": 3,
              "RANDOM_STATE": 12648430,
              "RESET_INDEX_VALUES": false,
              "ROW_SAMPLING_METHOD": "random",
              "SAMPLING_FACTOR": 0.1,
              "SAMPLING_METHOD": "random",
              "STRINGIFY_COLUMN_VALUES": true,
              "STRINGIFY_INDEX_VALUES": false
            },
            "sample_history": [],
            "sampling_time": "2023-06-21T20:15:24.482928",
            "user_variable_name": null,
            "variable_name": "unk_dataframe_e87cafdff9fc4e7b82075290150f204f"
          },
          "c79169a3-98cd-4c97-acfa-bd414eeedd41": {
            "applied_filters": [],
            "dataframe_info": {
              "default_index_used": true,
              "orig_num_cols": 2,
              "orig_num_rows": 6,
              "orig_size_bytes": 96,
              "truncated_num_cols": 2,
              "truncated_num_rows": 6,
              "truncated_size_bytes": 96,
              "truncated_string_columns": []
            },
            "display_id": "c79169a3-98cd-4c97-acfa-bd414eeedd41",
            "dx_settings": {
              "ALLOW_NOTEABLE_ATTRS": true,
              "COLUMN_SAMPLING_METHOD": "outer",
              "DB_LOCATION": ":memory:",
              "DEV_MODE": false,
              "DISPLAY_MAX_COLUMNS": 100,
              "DISPLAY_MAX_ROWS": 50000,
              "DISPLAY_MODE": "simple",
              "ENABLE_ASSIGNMENT": true,
              "ENABLE_DATALINK": true,
              "FLATTEN_COLUMN_VALUES": true,
              "FLATTEN_INDEX_VALUES": false,
              "GENERATE_DEX_METADATA": false,
              "HTML_TABLE_SCHEMA": false,
              "LOG_LEVEL": 30,
              "MAX_RENDER_SIZE_BYTES": 104857600,
              "MAX_STRING_LENGTH": 250,
              "NUM_PAST_SAMPLES_TRACKED": 3,
              "RANDOM_STATE": 12648430,
              "RESET_INDEX_VALUES": false,
              "ROW_SAMPLING_METHOD": "random",
              "SAMPLING_FACTOR": 0.1,
              "SAMPLING_METHOD": "random",
              "STRINGIFY_COLUMN_VALUES": true,
              "STRINGIFY_INDEX_VALUES": false
            },
            "sample_history": [],
            "sampling_time": "2023-06-21T20:45:12.824055",
            "user_variable_name": null,
            "variable_name": "unk_dataframe_c703491239884f3f9a0b834a6b391e03"
          },
          "3719cc3c-bbc3-46cc-8a73-698fcd800ee0": {
            "applied_filters": [],
            "dataframe_info": {
              "default_index_used": true,
              "orig_num_cols": 2,
              "orig_num_rows": 6,
              "orig_size_bytes": 96,
              "truncated_num_cols": 2,
              "truncated_num_rows": 6,
              "truncated_size_bytes": 96,
              "truncated_string_columns": []
            },
            "display_id": "3719cc3c-bbc3-46cc-8a73-698fcd800ee0",
            "dx_settings": {
              "ALLOW_NOTEABLE_ATTRS": true,
              "COLUMN_SAMPLING_METHOD": "outer",
              "DB_LOCATION": ":memory:",
              "DEV_MODE": false,
              "DISPLAY_MAX_COLUMNS": 100,
              "DISPLAY_MAX_ROWS": 50000,
              "DISPLAY_MODE": "simple",
              "ENABLE_ASSIGNMENT": true,
              "ENABLE_DATALINK": true,
              "FLATTEN_COLUMN_VALUES": true,
              "FLATTEN_INDEX_VALUES": false,
              "GENERATE_DEX_METADATA": false,
              "HTML_TABLE_SCHEMA": false,
              "LOG_LEVEL": 30,
              "MAX_RENDER_SIZE_BYTES": 104857600,
              "MAX_STRING_LENGTH": 250,
              "NUM_PAST_SAMPLES_TRACKED": 3,
              "RANDOM_STATE": 12648430,
              "RESET_INDEX_VALUES": false,
              "ROW_SAMPLING_METHOD": "random",
              "SAMPLING_FACTOR": 0.1,
              "SAMPLING_METHOD": "random",
              "STRINGIFY_COLUMN_VALUES": true,
              "STRINGIFY_INDEX_VALUES": false
            },
            "sample_history": [],
            "sampling_time": "2023-06-21T21:10:08.940986",
            "user_variable_name": null,
            "variable_name": "unk_dataframe_22396378bbdb4286a37c34ea5a34258f"
          },
          "ddd3824c-f362-4fdd-b21f-ab2ee6cb2596": {
            "applied_filters": [],
            "dataframe_info": {
              "default_index_used": true,
              "orig_num_cols": 2,
              "orig_num_rows": 6,
              "orig_size_bytes": 96,
              "truncated_num_cols": 2,
              "truncated_num_rows": 6,
              "truncated_size_bytes": 96,
              "truncated_string_columns": []
            },
            "display_id": "ddd3824c-f362-4fdd-b21f-ab2ee6cb2596",
            "dx_settings": {
              "ALLOW_NOTEABLE_ATTRS": true,
              "COLUMN_SAMPLING_METHOD": "outer",
              "DB_LOCATION": ":memory:",
              "DEV_MODE": false,
              "DISPLAY_MAX_COLUMNS": 100,
              "DISPLAY_MAX_ROWS": 50000,
              "DISPLAY_MODE": "simple",
              "ENABLE_ASSIGNMENT": true,
              "ENABLE_DATALINK": true,
              "FLATTEN_COLUMN_VALUES": true,
              "FLATTEN_INDEX_VALUES": false,
              "GENERATE_DEX_METADATA": false,
              "HTML_TABLE_SCHEMA": false,
              "LOG_LEVEL": 30,
              "MAX_RENDER_SIZE_BYTES": 104857600,
              "MAX_STRING_LENGTH": 250,
              "NUM_PAST_SAMPLES_TRACKED": 3,
              "RANDOM_STATE": 12648430,
              "RESET_INDEX_VALUES": false,
              "ROW_SAMPLING_METHOD": "random",
              "SAMPLING_FACTOR": 0.1,
              "SAMPLING_METHOD": "random",
              "STRINGIFY_COLUMN_VALUES": true,
              "STRINGIFY_INDEX_VALUES": false
            },
            "sample_history": [],
            "sampling_time": "2023-06-22T14:48:21.233100",
            "user_variable_name": null,
            "variable_name": "unk_dataframe_984ca931b1eb4c9a937da0c175115e58"
          },
          "f40d9da4-385d-48a9-a0a3-1b5571f2d3b2": {
            "applied_filters": [],
            "dataframe_info": {
              "default_index_used": true,
              "orig_num_cols": 2,
              "orig_num_rows": 6,
              "orig_size_bytes": 96,
              "truncated_num_cols": 2,
              "truncated_num_rows": 6,
              "truncated_size_bytes": 96,
              "truncated_string_columns": []
            },
            "display_id": "f40d9da4-385d-48a9-a0a3-1b5571f2d3b2",
            "dx_settings": {
              "ALLOW_NOTEABLE_ATTRS": true,
              "COLUMN_SAMPLING_METHOD": "outer",
              "DB_LOCATION": ":memory:",
              "DEV_MODE": false,
              "DISPLAY_MAX_COLUMNS": 100,
              "DISPLAY_MAX_ROWS": 50000,
              "DISPLAY_MODE": "simple",
              "ENABLE_ASSIGNMENT": true,
              "ENABLE_DATALINK": true,
              "FLATTEN_COLUMN_VALUES": true,
              "FLATTEN_INDEX_VALUES": false,
              "GENERATE_DEX_METADATA": false,
              "HTML_TABLE_SCHEMA": false,
              "LOG_LEVEL": 30,
              "MAX_RENDER_SIZE_BYTES": 104857600,
              "MAX_STRING_LENGTH": 250,
              "NUM_PAST_SAMPLES_TRACKED": 3,
              "RANDOM_STATE": 12648430,
              "RESET_INDEX_VALUES": false,
              "ROW_SAMPLING_METHOD": "random",
              "SAMPLING_FACTOR": 0.1,
              "SAMPLING_METHOD": "random",
              "STRINGIFY_COLUMN_VALUES": true,
              "STRINGIFY_INDEX_VALUES": false
            },
            "sample_history": [],
            "sampling_time": "2023-06-22T16:06:58.009279",
            "user_variable_name": null,
            "variable_name": "unk_dataframe_796c316717354aaf883a985ab6a1a003"
          },
          "827f8a7a-69f6-48c5-ba30-7b929ef39511": {
            "applied_filters": [],
            "dataframe_info": {
              "default_index_used": true,
              "orig_num_cols": 2,
              "orig_num_rows": 6,
              "orig_size_bytes": 96,
              "truncated_num_cols": 2,
              "truncated_num_rows": 6,
              "truncated_size_bytes": 96,
              "truncated_string_columns": []
            },
            "display_id": "827f8a7a-69f6-48c5-ba30-7b929ef39511",
            "dx_settings": {
              "ALLOW_NOTEABLE_ATTRS": true,
              "COLUMN_SAMPLING_METHOD": "outer",
              "DB_LOCATION": ":memory:",
              "DEV_MODE": false,
              "DISPLAY_MAX_COLUMNS": 100,
              "DISPLAY_MAX_ROWS": 50000,
              "DISPLAY_MODE": "simple",
              "ENABLE_ASSIGNMENT": true,
              "ENABLE_DATALINK": true,
              "FLATTEN_COLUMN_VALUES": true,
              "FLATTEN_INDEX_VALUES": false,
              "GENERATE_DEX_METADATA": false,
              "HTML_TABLE_SCHEMA": false,
              "LOG_LEVEL": 30,
              "MAX_RENDER_SIZE_BYTES": 104857600,
              "MAX_STRING_LENGTH": 250,
              "NUM_PAST_SAMPLES_TRACKED": 3,
              "RANDOM_STATE": 12648430,
              "RESET_INDEX_VALUES": false,
              "ROW_SAMPLING_METHOD": "random",
              "SAMPLING_FACTOR": 0.1,
              "SAMPLING_METHOD": "random",
              "STRINGIFY_COLUMN_VALUES": true,
              "STRINGIFY_INDEX_VALUES": false
            },
            "sample_history": [],
            "sampling_time": "2023-07-13T19:55:37.506367",
            "user_variable_name": null,
            "variable_name": "unk_dataframe_1a314ad2f7d542bea4aa12755da977eb"
          },
          "6d96b2e5-3824-4d08-8955-9ffc443df21e": {
            "applied_filters": [],
            "dataframe_info": {
              "default_index_used": true,
              "orig_num_cols": 2,
              "orig_num_rows": 6,
              "orig_size_bytes": 96,
              "truncated_num_cols": 2,
              "truncated_num_rows": 6,
              "truncated_size_bytes": 96,
              "truncated_string_columns": []
            },
            "display_id": "6d96b2e5-3824-4d08-8955-9ffc443df21e",
            "dx_settings": {
              "ALLOW_NOTEABLE_ATTRS": true,
              "COLUMN_SAMPLING_METHOD": "outer",
              "DB_LOCATION": ":memory:",
              "DEV_MODE": false,
              "DISPLAY_MAX_COLUMNS": 100,
              "DISPLAY_MAX_ROWS": 50000,
              "DISPLAY_MODE": "simple",
              "ENABLE_ASSIGNMENT": true,
              "ENABLE_DATALINK": true,
              "FLATTEN_COLUMN_VALUES": true,
              "FLATTEN_INDEX_VALUES": false,
              "GENERATE_DEX_METADATA": false,
              "HTML_TABLE_SCHEMA": false,
              "LOG_LEVEL": 30,
              "MAX_RENDER_SIZE_BYTES": 104857600,
              "MAX_STRING_LENGTH": 250,
              "NUM_PAST_SAMPLES_TRACKED": 3,
              "RANDOM_STATE": 12648430,
              "RESET_INDEX_VALUES": false,
              "ROW_SAMPLING_METHOD": "random",
              "SAMPLING_FACTOR": 0.1,
              "SAMPLING_METHOD": "random",
              "STRINGIFY_COLUMN_VALUES": true,
              "STRINGIFY_INDEX_VALUES": false
            },
            "sample_history": [],
            "sampling_time": "2023-07-13T20:02:43.389001",
            "user_variable_name": null,
            "variable_name": "unk_dataframe_02fc20dfc9cf47c29c5596b9ab0faa6d"
          },
          "f7386a55-49dd-4a0a-9659-02e4b5db2c02": {
            "applied_filters": [],
            "dataframe_info": {
              "default_index_used": true,
              "orig_num_cols": 2,
              "orig_num_rows": 6,
              "orig_size_bytes": 96,
              "truncated_num_cols": 2,
              "truncated_num_rows": 6,
              "truncated_size_bytes": 96,
              "truncated_string_columns": []
            },
            "display_id": "f7386a55-49dd-4a0a-9659-02e4b5db2c02",
            "dx_settings": {
              "ALLOW_NOTEABLE_ATTRS": true,
              "COLUMN_SAMPLING_METHOD": "outer",
              "DB_LOCATION": ":memory:",
              "DEV_MODE": false,
              "DISPLAY_MAX_COLUMNS": 100,
              "DISPLAY_MAX_ROWS": 50000,
              "DISPLAY_MODE": "simple",
              "ENABLE_ASSIGNMENT": true,
              "ENABLE_DATALINK": true,
              "FLATTEN_COLUMN_VALUES": true,
              "FLATTEN_INDEX_VALUES": false,
              "GENERATE_DEX_METADATA": false,
              "HTML_TABLE_SCHEMA": false,
              "LOG_LEVEL": 30,
              "MAX_RENDER_SIZE_BYTES": 104857600,
              "MAX_STRING_LENGTH": 250,
              "NUM_PAST_SAMPLES_TRACKED": 3,
              "RANDOM_STATE": 12648430,
              "RESET_INDEX_VALUES": false,
              "ROW_SAMPLING_METHOD": "random",
              "SAMPLING_FACTOR": 0.1,
              "SAMPLING_METHOD": "random",
              "STRINGIFY_COLUMN_VALUES": true,
              "STRINGIFY_INDEX_VALUES": false
            },
            "sample_history": [],
            "sampling_time": "2023-07-14T01:23:23.162348",
            "user_variable_name": null,
            "variable_name": "unk_dataframe_0687f562d5a240308ec96a3579c5be76"
          }
        }
      },
      "execution_count": null,
      "source": "df_mcinnes = (\n    df_mcinnes\n    .with_columns((\n        pl.Series(KMeans(n_clusters=6, random_state=5437925).fit_predict(df_mcinnes)\n    )).alias('Kmeans_6groups'))\n)\n\n(\n    df_mcinnes\n    .groupby('Kmeans_6groups')\n    .count()\n)",
      "outputs": []
    },
    {
      "id": "2fac28a0-a9f6-4998-90d5-3e4bbb941603",
      "cell_type": "markdown",
      "source": "#### DBSCAN (`sklearn.cluster.DBSCAN`)\n\nLa technique DBSCAN (* **D**ensity-**B**ased **S**patial **C**lustering of **A**pplications with **N**oise*) sousentend que les groupes sont composés de zones où l'on retrouve plus de points (zones denses) séparées par des zones de faible densité. Pour lancer l'algorithme, nous devons spécifier une mesure d'association critique (distance ou dissimilarité) *d* ainsi qu'un nombre de points critique *k* dans le voisinage de cette distance.\n\n1. L'algorithme étiquette chaque point selon l'une de ces catégories:\n\n    - *Noyau*: le point a au moins *k* points dans son voisinage, c'est-à-dire à une distance inférieure ou égale à *d*.\n    - *Bordure*: le point a moins de *k* points dans son voisinage, mais l'un de des points voisins est un *noyau*.\n    - *Bruit*: le cas échéant. Ces points sont considérés comme des outliers.\n\n![](images/dbscan_1.png)\n\n2. Les noyaux distancés de *d* ou moins sont connectés entre eux en englobant les bordures.\n\n![](images/dbscan_2.png)\n\nLe nombre de groupes est prescrit par l'algorithme DBSCAN, qui permet du coup de détecter des données trop bruitées pour être classées.",
      "metadata": {
        "noteable": {
          "cell_type": "markdown"
        }
      }
    },
    {
      "id": "1138bdda-3902-45a6-93f3-165d96d8fcfb",
      "cell_type": "markdown",
      "source": "##### Application\n\nLa technique **DBSCAN** n'est pas basée sur le nombre de groupe, mais sur la densité des points. Il est possible de spécifier le type d'association à utiliser dans l'argument `metric`, mais dans ce cas on doit se limiter aux [métriques offertes par scikit-learn](http://scikit-learn.org/stable/modules/generated/sklearn.metrics.pairwise.pairwise_distances.html) (qui sont celles de *Scipy*). Si la métrique souhaitée n'est pas disponible parmi celles-là, la matrice d'association peut être spécifiée dans l'argument `X` plutôt que les données directes quand l'argument `metric` est égal à `\"precomputed\"`. L'argument `min_samples` spécifie le nombre minimal de points qui l'on doit retrouver à une distance critique *d* pour la formation des *noyaux* et la propagation des groupes, spécifiée dans l'argument `eps`. La distance *d* peut être estimée en prenant une fraction de la moyenne, mais on aura volontiers recours à son bon jugement.",
      "metadata": {
        "noteable": {
          "cell_type": "markdown"
        }
      }
    },
    {
      "id": "2ef9ce19-dbc7-4407-b875-32635f184204",
      "cell_type": "code",
      "metadata": {
        "jupyter": {
          "outputs_hidden": false,
          "source_hidden": false
        },
        "noteable": {
          "cell_type": "code",
          "output_collection_id": "05931bec-3675-4ead-9825-d219598cad7c"
        },
        "ExecuteTime": {
          "end_time": "2023-07-14T01:25:45.693471+00:00",
          "start_time": "2023-07-14T01:25:45.237741+00:00"
        },
        "datalink": {
          "fd76b2c0-9949-4521-92d8-7888ed234a08": {
            "applied_filters": [],
            "dataframe_info": {
              "default_index_used": true,
              "orig_num_cols": 1,
              "orig_num_rows": 17,
              "orig_size_bytes": 272,
              "truncated_num_cols": 1,
              "truncated_num_rows": 17,
              "truncated_size_bytes": 272,
              "truncated_string_columns": []
            },
            "display_id": "fd76b2c0-9949-4521-92d8-7888ed234a08",
            "dx_settings": {
              "ALLOW_NOTEABLE_ATTRS": true,
              "COLUMN_SAMPLING_METHOD": "outer",
              "DB_LOCATION": ":memory:",
              "DEV_MODE": false,
              "DISPLAY_MAX_COLUMNS": 100,
              "DISPLAY_MAX_ROWS": 50000,
              "DISPLAY_MODE": "simple",
              "ENABLE_ASSIGNMENT": true,
              "ENABLE_DATALINK": true,
              "FLATTEN_COLUMN_VALUES": true,
              "FLATTEN_INDEX_VALUES": false,
              "GENERATE_DEX_METADATA": false,
              "HTML_TABLE_SCHEMA": false,
              "LOG_LEVEL": 30,
              "MAX_RENDER_SIZE_BYTES": 104857600,
              "MAX_STRING_LENGTH": 250,
              "NUM_PAST_SAMPLES_TRACKED": 3,
              "RANDOM_STATE": 12648430,
              "RESET_INDEX_VALUES": false,
              "ROW_SAMPLING_METHOD": "random",
              "SAMPLING_FACTOR": 0.1,
              "SAMPLING_METHOD": "random",
              "STRINGIFY_COLUMN_VALUES": true,
              "STRINGIFY_INDEX_VALUES": false
            },
            "sample_history": [],
            "sampling_time": "2023-06-21T17:21:26.835968",
            "user_variable_name": null,
            "variable_name": "unk_dataframe_a9813abf1dc84a9f8487695c15c5e485"
          },
          "d416a691-1630-4b2d-9760-b9c4a77883d2": {
            "applied_filters": [],
            "dataframe_info": {
              "default_index_used": true,
              "orig_num_cols": 2,
              "orig_num_rows": 17,
              "orig_size_bytes": 340,
              "truncated_num_cols": 2,
              "truncated_num_rows": 17,
              "truncated_size_bytes": 340,
              "truncated_string_columns": []
            },
            "display_id": "d416a691-1630-4b2d-9760-b9c4a77883d2",
            "dx_settings": {
              "ALLOW_NOTEABLE_ATTRS": true,
              "COLUMN_SAMPLING_METHOD": "outer",
              "DB_LOCATION": ":memory:",
              "DEV_MODE": false,
              "DISPLAY_MAX_COLUMNS": 100,
              "DISPLAY_MAX_ROWS": 50000,
              "DISPLAY_MODE": "simple",
              "ENABLE_ASSIGNMENT": true,
              "ENABLE_DATALINK": true,
              "FLATTEN_COLUMN_VALUES": true,
              "FLATTEN_INDEX_VALUES": false,
              "GENERATE_DEX_METADATA": false,
              "HTML_TABLE_SCHEMA": false,
              "LOG_LEVEL": 30,
              "MAX_RENDER_SIZE_BYTES": 104857600,
              "MAX_STRING_LENGTH": 250,
              "NUM_PAST_SAMPLES_TRACKED": 3,
              "RANDOM_STATE": 12648430,
              "RESET_INDEX_VALUES": false,
              "ROW_SAMPLING_METHOD": "random",
              "SAMPLING_FACTOR": 0.1,
              "SAMPLING_METHOD": "random",
              "STRINGIFY_COLUMN_VALUES": true,
              "STRINGIFY_INDEX_VALUES": false
            },
            "sample_history": [],
            "sampling_time": "2023-06-21T17:23:04.381280",
            "user_variable_name": null,
            "variable_name": "unk_dataframe_f11a5fd54c0344a38cb539728fe8e992"
          },
          "f06cb9c3-607c-4db4-a5ef-8cf0e410c599": {
            "applied_filters": [],
            "dataframe_info": {
              "default_index_used": true,
              "orig_num_cols": 2,
              "orig_num_rows": 31,
              "orig_size_bytes": 620,
              "truncated_num_cols": 2,
              "truncated_num_rows": 31,
              "truncated_size_bytes": 620,
              "truncated_string_columns": []
            },
            "display_id": "f06cb9c3-607c-4db4-a5ef-8cf0e410c599",
            "dx_settings": {
              "ALLOW_NOTEABLE_ATTRS": true,
              "COLUMN_SAMPLING_METHOD": "outer",
              "DB_LOCATION": ":memory:",
              "DEV_MODE": false,
              "DISPLAY_MAX_COLUMNS": 100,
              "DISPLAY_MAX_ROWS": 50000,
              "DISPLAY_MODE": "simple",
              "ENABLE_ASSIGNMENT": true,
              "ENABLE_DATALINK": true,
              "FLATTEN_COLUMN_VALUES": true,
              "FLATTEN_INDEX_VALUES": false,
              "GENERATE_DEX_METADATA": false,
              "HTML_TABLE_SCHEMA": false,
              "LOG_LEVEL": 30,
              "MAX_RENDER_SIZE_BYTES": 104857600,
              "MAX_STRING_LENGTH": 250,
              "NUM_PAST_SAMPLES_TRACKED": 3,
              "RANDOM_STATE": 12648430,
              "RESET_INDEX_VALUES": false,
              "ROW_SAMPLING_METHOD": "random",
              "SAMPLING_FACTOR": 0.1,
              "SAMPLING_METHOD": "random",
              "STRINGIFY_COLUMN_VALUES": true,
              "STRINGIFY_INDEX_VALUES": false
            },
            "sample_history": [],
            "sampling_time": "2023-06-21T17:23:25.625333",
            "user_variable_name": null,
            "variable_name": "unk_dataframe_69bbca80319d4806ba0df7a549c57164"
          },
          "e36c63f2-ce7c-4f9a-a719-33654b950b5c": {
            "applied_filters": [],
            "dataframe_info": {
              "default_index_used": true,
              "orig_num_cols": 2,
              "orig_num_rows": 10,
              "orig_size_bytes": 200,
              "truncated_num_cols": 2,
              "truncated_num_rows": 10,
              "truncated_size_bytes": 200,
              "truncated_string_columns": []
            },
            "display_id": "e36c63f2-ce7c-4f9a-a719-33654b950b5c",
            "dx_settings": {
              "ALLOW_NOTEABLE_ATTRS": true,
              "COLUMN_SAMPLING_METHOD": "outer",
              "DB_LOCATION": ":memory:",
              "DEV_MODE": false,
              "DISPLAY_MAX_COLUMNS": 100,
              "DISPLAY_MAX_ROWS": 50000,
              "DISPLAY_MODE": "simple",
              "ENABLE_ASSIGNMENT": true,
              "ENABLE_DATALINK": true,
              "FLATTEN_COLUMN_VALUES": true,
              "FLATTEN_INDEX_VALUES": false,
              "GENERATE_DEX_METADATA": false,
              "HTML_TABLE_SCHEMA": false,
              "LOG_LEVEL": 30,
              "MAX_RENDER_SIZE_BYTES": 104857600,
              "MAX_STRING_LENGTH": 250,
              "NUM_PAST_SAMPLES_TRACKED": 3,
              "RANDOM_STATE": 12648430,
              "RESET_INDEX_VALUES": false,
              "ROW_SAMPLING_METHOD": "random",
              "SAMPLING_FACTOR": 0.1,
              "SAMPLING_METHOD": "random",
              "STRINGIFY_COLUMN_VALUES": true,
              "STRINGIFY_INDEX_VALUES": false
            },
            "sample_history": [],
            "sampling_time": "2023-06-21T17:28:51.847910",
            "user_variable_name": null,
            "variable_name": "unk_dataframe_d8f9167f3a2540cb91e56e3e1710bad5"
          },
          "ac15bc96-53da-4c64-bd18-0431e4855640": {
            "applied_filters": [],
            "dataframe_info": {
              "default_index_used": true,
              "orig_num_cols": 2,
              "orig_num_rows": 6,
              "orig_size_bytes": 120,
              "truncated_num_cols": 2,
              "truncated_num_rows": 6,
              "truncated_size_bytes": 120,
              "truncated_string_columns": []
            },
            "display_id": "ac15bc96-53da-4c64-bd18-0431e4855640",
            "dx_settings": {
              "ALLOW_NOTEABLE_ATTRS": true,
              "COLUMN_SAMPLING_METHOD": "outer",
              "DB_LOCATION": ":memory:",
              "DEV_MODE": false,
              "DISPLAY_MAX_COLUMNS": 100,
              "DISPLAY_MAX_ROWS": 50000,
              "DISPLAY_MODE": "simple",
              "ENABLE_ASSIGNMENT": true,
              "ENABLE_DATALINK": true,
              "FLATTEN_COLUMN_VALUES": true,
              "FLATTEN_INDEX_VALUES": false,
              "GENERATE_DEX_METADATA": false,
              "HTML_TABLE_SCHEMA": false,
              "LOG_LEVEL": 30,
              "MAX_RENDER_SIZE_BYTES": 104857600,
              "MAX_STRING_LENGTH": 250,
              "NUM_PAST_SAMPLES_TRACKED": 3,
              "RANDOM_STATE": 12648430,
              "RESET_INDEX_VALUES": false,
              "ROW_SAMPLING_METHOD": "random",
              "SAMPLING_FACTOR": 0.1,
              "SAMPLING_METHOD": "random",
              "STRINGIFY_COLUMN_VALUES": true,
              "STRINGIFY_INDEX_VALUES": false
            },
            "sample_history": [],
            "sampling_time": "2023-06-21T17:49:55.595458",
            "user_variable_name": null,
            "variable_name": "unk_dataframe_9a8c31a1f3bd4c67a391e66c8c75b17f"
          },
          "54ea3deb-9893-4073-b712-35817c09014c": {
            "applied_filters": [],
            "dataframe_info": {
              "default_index_used": true,
              "orig_num_cols": 2,
              "orig_num_rows": 6,
              "orig_size_bytes": 120,
              "truncated_num_cols": 2,
              "truncated_num_rows": 6,
              "truncated_size_bytes": 120,
              "truncated_string_columns": []
            },
            "display_id": "54ea3deb-9893-4073-b712-35817c09014c",
            "dx_settings": {
              "ALLOW_NOTEABLE_ATTRS": true,
              "COLUMN_SAMPLING_METHOD": "outer",
              "DB_LOCATION": ":memory:",
              "DEV_MODE": false,
              "DISPLAY_MAX_COLUMNS": 100,
              "DISPLAY_MAX_ROWS": 50000,
              "DISPLAY_MODE": "simple",
              "ENABLE_ASSIGNMENT": true,
              "ENABLE_DATALINK": true,
              "FLATTEN_COLUMN_VALUES": true,
              "FLATTEN_INDEX_VALUES": false,
              "GENERATE_DEX_METADATA": false,
              "HTML_TABLE_SCHEMA": false,
              "LOG_LEVEL": 30,
              "MAX_RENDER_SIZE_BYTES": 104857600,
              "MAX_STRING_LENGTH": 250,
              "NUM_PAST_SAMPLES_TRACKED": 3,
              "RANDOM_STATE": 12648430,
              "RESET_INDEX_VALUES": false,
              "ROW_SAMPLING_METHOD": "random",
              "SAMPLING_FACTOR": 0.1,
              "SAMPLING_METHOD": "random",
              "STRINGIFY_COLUMN_VALUES": true,
              "STRINGIFY_INDEX_VALUES": false
            },
            "sample_history": [],
            "sampling_time": "2023-06-21T17:59:32.877168",
            "user_variable_name": null,
            "variable_name": "unk_dataframe_b761bd4a89ed4dd7a92170ef33d28143"
          },
          "582d1fe7-65fc-424d-9e79-7229c48a9d6e": {
            "applied_filters": [],
            "dataframe_info": {
              "default_index_used": true,
              "orig_num_cols": 2,
              "orig_num_rows": 1,
              "orig_size_bytes": 20,
              "truncated_num_cols": 2,
              "truncated_num_rows": 1,
              "truncated_size_bytes": 20,
              "truncated_string_columns": []
            },
            "display_id": "582d1fe7-65fc-424d-9e79-7229c48a9d6e",
            "dx_settings": {
              "ALLOW_NOTEABLE_ATTRS": true,
              "COLUMN_SAMPLING_METHOD": "outer",
              "DB_LOCATION": ":memory:",
              "DEV_MODE": false,
              "DISPLAY_MAX_COLUMNS": 100,
              "DISPLAY_MAX_ROWS": 50000,
              "DISPLAY_MODE": "simple",
              "ENABLE_ASSIGNMENT": true,
              "ENABLE_DATALINK": true,
              "FLATTEN_COLUMN_VALUES": true,
              "FLATTEN_INDEX_VALUES": false,
              "GENERATE_DEX_METADATA": false,
              "HTML_TABLE_SCHEMA": false,
              "LOG_LEVEL": 30,
              "MAX_RENDER_SIZE_BYTES": 104857600,
              "MAX_STRING_LENGTH": 250,
              "NUM_PAST_SAMPLES_TRACKED": 3,
              "RANDOM_STATE": 12648430,
              "RESET_INDEX_VALUES": false,
              "ROW_SAMPLING_METHOD": "random",
              "SAMPLING_FACTOR": 0.1,
              "SAMPLING_METHOD": "random",
              "STRINGIFY_COLUMN_VALUES": true,
              "STRINGIFY_INDEX_VALUES": false
            },
            "sample_history": [],
            "sampling_time": "2023-06-21T17:59:54.952807",
            "user_variable_name": null,
            "variable_name": "unk_dataframe_ac3ef2c652714d3fb8199facbeae0baf"
          },
          "3cca2063-eeb1-4852-8994-0842f564b2a4": {
            "applied_filters": [],
            "dataframe_info": {
              "default_index_used": true,
              "orig_num_cols": 2,
              "orig_num_rows": 7,
              "orig_size_bytes": 140,
              "truncated_num_cols": 2,
              "truncated_num_rows": 7,
              "truncated_size_bytes": 140,
              "truncated_string_columns": []
            },
            "display_id": "3cca2063-eeb1-4852-8994-0842f564b2a4",
            "dx_settings": {
              "ALLOW_NOTEABLE_ATTRS": true,
              "COLUMN_SAMPLING_METHOD": "outer",
              "DB_LOCATION": ":memory:",
              "DEV_MODE": false,
              "DISPLAY_MAX_COLUMNS": 100,
              "DISPLAY_MAX_ROWS": 50000,
              "DISPLAY_MODE": "simple",
              "ENABLE_ASSIGNMENT": true,
              "ENABLE_DATALINK": true,
              "FLATTEN_COLUMN_VALUES": true,
              "FLATTEN_INDEX_VALUES": false,
              "GENERATE_DEX_METADATA": false,
              "HTML_TABLE_SCHEMA": false,
              "LOG_LEVEL": 30,
              "MAX_RENDER_SIZE_BYTES": 104857600,
              "MAX_STRING_LENGTH": 250,
              "NUM_PAST_SAMPLES_TRACKED": 3,
              "RANDOM_STATE": 12648430,
              "RESET_INDEX_VALUES": false,
              "ROW_SAMPLING_METHOD": "random",
              "SAMPLING_FACTOR": 0.1,
              "SAMPLING_METHOD": "random",
              "STRINGIFY_COLUMN_VALUES": true,
              "STRINGIFY_INDEX_VALUES": false
            },
            "sample_history": [],
            "sampling_time": "2023-06-21T18:00:08.200536",
            "user_variable_name": null,
            "variable_name": "unk_dataframe_bf52465f7a1e4c378c40fbd2499a66da"
          },
          "87846c7a-3cc1-4890-86d4-01af5bbeb32a": {
            "applied_filters": [],
            "dataframe_info": {
              "default_index_used": true,
              "orig_num_cols": 2,
              "orig_num_rows": 7,
              "orig_size_bytes": 140,
              "truncated_num_cols": 2,
              "truncated_num_rows": 7,
              "truncated_size_bytes": 140,
              "truncated_string_columns": []
            },
            "display_id": "87846c7a-3cc1-4890-86d4-01af5bbeb32a",
            "dx_settings": {
              "ALLOW_NOTEABLE_ATTRS": true,
              "COLUMN_SAMPLING_METHOD": "outer",
              "DB_LOCATION": ":memory:",
              "DEV_MODE": false,
              "DISPLAY_MAX_COLUMNS": 100,
              "DISPLAY_MAX_ROWS": 50000,
              "DISPLAY_MODE": "simple",
              "ENABLE_ASSIGNMENT": true,
              "ENABLE_DATALINK": true,
              "FLATTEN_COLUMN_VALUES": true,
              "FLATTEN_INDEX_VALUES": false,
              "GENERATE_DEX_METADATA": false,
              "HTML_TABLE_SCHEMA": false,
              "LOG_LEVEL": 30,
              "MAX_RENDER_SIZE_BYTES": 104857600,
              "MAX_STRING_LENGTH": 250,
              "NUM_PAST_SAMPLES_TRACKED": 3,
              "RANDOM_STATE": 12648430,
              "RESET_INDEX_VALUES": false,
              "ROW_SAMPLING_METHOD": "random",
              "SAMPLING_FACTOR": 0.1,
              "SAMPLING_METHOD": "random",
              "STRINGIFY_COLUMN_VALUES": true,
              "STRINGIFY_INDEX_VALUES": false
            },
            "sample_history": [],
            "sampling_time": "2023-06-21T18:00:48.980707",
            "user_variable_name": null,
            "variable_name": "unk_dataframe_1d5dd761835f488a8ef9edb1f64ff0d7"
          },
          "5d131bbe-28ce-4ce8-9050-ef9f83cef459": {
            "applied_filters": [],
            "dataframe_info": {
              "default_index_used": true,
              "orig_num_cols": 2,
              "orig_num_rows": 11,
              "orig_size_bytes": 220,
              "truncated_num_cols": 2,
              "truncated_num_rows": 11,
              "truncated_size_bytes": 220,
              "truncated_string_columns": []
            },
            "display_id": "5d131bbe-28ce-4ce8-9050-ef9f83cef459",
            "dx_settings": {
              "ALLOW_NOTEABLE_ATTRS": true,
              "COLUMN_SAMPLING_METHOD": "outer",
              "DB_LOCATION": ":memory:",
              "DEV_MODE": false,
              "DISPLAY_MAX_COLUMNS": 100,
              "DISPLAY_MAX_ROWS": 50000,
              "DISPLAY_MODE": "simple",
              "ENABLE_ASSIGNMENT": true,
              "ENABLE_DATALINK": true,
              "FLATTEN_COLUMN_VALUES": true,
              "FLATTEN_INDEX_VALUES": false,
              "GENERATE_DEX_METADATA": false,
              "HTML_TABLE_SCHEMA": false,
              "LOG_LEVEL": 30,
              "MAX_RENDER_SIZE_BYTES": 104857600,
              "MAX_STRING_LENGTH": 250,
              "NUM_PAST_SAMPLES_TRACKED": 3,
              "RANDOM_STATE": 12648430,
              "RESET_INDEX_VALUES": false,
              "ROW_SAMPLING_METHOD": "random",
              "SAMPLING_FACTOR": 0.1,
              "SAMPLING_METHOD": "random",
              "STRINGIFY_COLUMN_VALUES": true,
              "STRINGIFY_INDEX_VALUES": false
            },
            "sample_history": [],
            "sampling_time": "2023-06-21T18:01:26.199185",
            "user_variable_name": null,
            "variable_name": "unk_dataframe_5724f39505ac4c4e8b00ee4ff6db9199"
          },
          "14d5c919-8bd7-49f4-8321-57f9ce42056a": {
            "applied_filters": [],
            "dataframe_info": {
              "default_index_used": true,
              "orig_num_cols": 2,
              "orig_num_rows": 7,
              "orig_size_bytes": 140,
              "truncated_num_cols": 2,
              "truncated_num_rows": 7,
              "truncated_size_bytes": 140,
              "truncated_string_columns": []
            },
            "display_id": "14d5c919-8bd7-49f4-8321-57f9ce42056a",
            "dx_settings": {
              "ALLOW_NOTEABLE_ATTRS": true,
              "COLUMN_SAMPLING_METHOD": "outer",
              "DB_LOCATION": ":memory:",
              "DEV_MODE": false,
              "DISPLAY_MAX_COLUMNS": 100,
              "DISPLAY_MAX_ROWS": 50000,
              "DISPLAY_MODE": "simple",
              "ENABLE_ASSIGNMENT": true,
              "ENABLE_DATALINK": true,
              "FLATTEN_COLUMN_VALUES": true,
              "FLATTEN_INDEX_VALUES": false,
              "GENERATE_DEX_METADATA": false,
              "HTML_TABLE_SCHEMA": false,
              "LOG_LEVEL": 30,
              "MAX_RENDER_SIZE_BYTES": 104857600,
              "MAX_STRING_LENGTH": 250,
              "NUM_PAST_SAMPLES_TRACKED": 3,
              "RANDOM_STATE": 12648430,
              "RESET_INDEX_VALUES": false,
              "ROW_SAMPLING_METHOD": "random",
              "SAMPLING_FACTOR": 0.1,
              "SAMPLING_METHOD": "random",
              "STRINGIFY_COLUMN_VALUES": true,
              "STRINGIFY_INDEX_VALUES": false
            },
            "sample_history": [],
            "sampling_time": "2023-06-21T18:01:55.407299",
            "user_variable_name": null,
            "variable_name": "unk_dataframe_6158ea565d97466fa37efd863891e670"
          },
          "84c7fe0a-f85f-479b-8de2-027fff43dac4": {
            "applied_filters": [],
            "dataframe_info": {
              "default_index_used": true,
              "orig_num_cols": 2,
              "orig_num_rows": 8,
              "orig_size_bytes": 160,
              "truncated_num_cols": 2,
              "truncated_num_rows": 8,
              "truncated_size_bytes": 160,
              "truncated_string_columns": []
            },
            "display_id": "84c7fe0a-f85f-479b-8de2-027fff43dac4",
            "dx_settings": {
              "ALLOW_NOTEABLE_ATTRS": true,
              "COLUMN_SAMPLING_METHOD": "outer",
              "DB_LOCATION": ":memory:",
              "DEV_MODE": false,
              "DISPLAY_MAX_COLUMNS": 100,
              "DISPLAY_MAX_ROWS": 50000,
              "DISPLAY_MODE": "simple",
              "ENABLE_ASSIGNMENT": true,
              "ENABLE_DATALINK": true,
              "FLATTEN_COLUMN_VALUES": true,
              "FLATTEN_INDEX_VALUES": false,
              "GENERATE_DEX_METADATA": false,
              "HTML_TABLE_SCHEMA": false,
              "LOG_LEVEL": 30,
              "MAX_RENDER_SIZE_BYTES": 104857600,
              "MAX_STRING_LENGTH": 250,
              "NUM_PAST_SAMPLES_TRACKED": 3,
              "RANDOM_STATE": 12648430,
              "RESET_INDEX_VALUES": false,
              "ROW_SAMPLING_METHOD": "random",
              "SAMPLING_FACTOR": 0.1,
              "SAMPLING_METHOD": "random",
              "STRINGIFY_COLUMN_VALUES": true,
              "STRINGIFY_INDEX_VALUES": false
            },
            "sample_history": [],
            "sampling_time": "2023-06-21T18:03:59.792589",
            "user_variable_name": null,
            "variable_name": "unk_dataframe_28a3879988e944cf8481469a585322ec"
          },
          "fbe1b583-cd5e-4374-a9e4-ef6819817e6a": {
            "applied_filters": [],
            "dataframe_info": {
              "default_index_used": true,
              "orig_num_cols": 2,
              "orig_num_rows": 11,
              "orig_size_bytes": 220,
              "truncated_num_cols": 2,
              "truncated_num_rows": 11,
              "truncated_size_bytes": 220,
              "truncated_string_columns": []
            },
            "display_id": "fbe1b583-cd5e-4374-a9e4-ef6819817e6a",
            "dx_settings": {
              "ALLOW_NOTEABLE_ATTRS": true,
              "COLUMN_SAMPLING_METHOD": "outer",
              "DB_LOCATION": ":memory:",
              "DEV_MODE": false,
              "DISPLAY_MAX_COLUMNS": 100,
              "DISPLAY_MAX_ROWS": 50000,
              "DISPLAY_MODE": "simple",
              "ENABLE_ASSIGNMENT": true,
              "ENABLE_DATALINK": true,
              "FLATTEN_COLUMN_VALUES": true,
              "FLATTEN_INDEX_VALUES": false,
              "GENERATE_DEX_METADATA": false,
              "HTML_TABLE_SCHEMA": false,
              "LOG_LEVEL": 30,
              "MAX_RENDER_SIZE_BYTES": 104857600,
              "MAX_STRING_LENGTH": 250,
              "NUM_PAST_SAMPLES_TRACKED": 3,
              "RANDOM_STATE": 12648430,
              "RESET_INDEX_VALUES": false,
              "ROW_SAMPLING_METHOD": "random",
              "SAMPLING_FACTOR": 0.1,
              "SAMPLING_METHOD": "random",
              "STRINGIFY_COLUMN_VALUES": true,
              "STRINGIFY_INDEX_VALUES": false
            },
            "sample_history": [],
            "sampling_time": "2023-06-21T18:04:16.297144",
            "user_variable_name": null,
            "variable_name": "unk_dataframe_b7b32259010f441080c682a37bb863a5"
          },
          "2af86285-a089-4f85-a848-eb8c57f82a41": {
            "applied_filters": [],
            "dataframe_info": {
              "default_index_used": true,
              "orig_num_cols": 2,
              "orig_num_rows": 5,
              "orig_size_bytes": 100,
              "truncated_num_cols": 2,
              "truncated_num_rows": 5,
              "truncated_size_bytes": 100,
              "truncated_string_columns": []
            },
            "display_id": "2af86285-a089-4f85-a848-eb8c57f82a41",
            "dx_settings": {
              "ALLOW_NOTEABLE_ATTRS": true,
              "COLUMN_SAMPLING_METHOD": "outer",
              "DB_LOCATION": ":memory:",
              "DEV_MODE": false,
              "DISPLAY_MAX_COLUMNS": 100,
              "DISPLAY_MAX_ROWS": 50000,
              "DISPLAY_MODE": "simple",
              "ENABLE_ASSIGNMENT": true,
              "ENABLE_DATALINK": true,
              "FLATTEN_COLUMN_VALUES": true,
              "FLATTEN_INDEX_VALUES": false,
              "GENERATE_DEX_METADATA": false,
              "HTML_TABLE_SCHEMA": false,
              "LOG_LEVEL": 30,
              "MAX_RENDER_SIZE_BYTES": 104857600,
              "MAX_STRING_LENGTH": 250,
              "NUM_PAST_SAMPLES_TRACKED": 3,
              "RANDOM_STATE": 12648430,
              "RESET_INDEX_VALUES": false,
              "ROW_SAMPLING_METHOD": "random",
              "SAMPLING_FACTOR": 0.1,
              "SAMPLING_METHOD": "random",
              "STRINGIFY_COLUMN_VALUES": true,
              "STRINGIFY_INDEX_VALUES": false
            },
            "sample_history": [],
            "sampling_time": "2023-06-21T18:04:37.704072",
            "user_variable_name": null,
            "variable_name": "unk_dataframe_62a3ef636a984cc69529da85e68888e5"
          },
          "bf3432d7-7603-4bd7-a439-85ab0b6627f1": {
            "applied_filters": [],
            "dataframe_info": {
              "default_index_used": true,
              "orig_num_cols": 2,
              "orig_num_rows": 6,
              "orig_size_bytes": 120,
              "truncated_num_cols": 2,
              "truncated_num_rows": 6,
              "truncated_size_bytes": 120,
              "truncated_string_columns": []
            },
            "display_id": "bf3432d7-7603-4bd7-a439-85ab0b6627f1",
            "dx_settings": {
              "ALLOW_NOTEABLE_ATTRS": true,
              "COLUMN_SAMPLING_METHOD": "outer",
              "DB_LOCATION": ":memory:",
              "DEV_MODE": false,
              "DISPLAY_MAX_COLUMNS": 100,
              "DISPLAY_MAX_ROWS": 50000,
              "DISPLAY_MODE": "simple",
              "ENABLE_ASSIGNMENT": true,
              "ENABLE_DATALINK": true,
              "FLATTEN_COLUMN_VALUES": true,
              "FLATTEN_INDEX_VALUES": false,
              "GENERATE_DEX_METADATA": false,
              "HTML_TABLE_SCHEMA": false,
              "LOG_LEVEL": 30,
              "MAX_RENDER_SIZE_BYTES": 104857600,
              "MAX_STRING_LENGTH": 250,
              "NUM_PAST_SAMPLES_TRACKED": 3,
              "RANDOM_STATE": 12648430,
              "RESET_INDEX_VALUES": false,
              "ROW_SAMPLING_METHOD": "random",
              "SAMPLING_FACTOR": 0.1,
              "SAMPLING_METHOD": "random",
              "STRINGIFY_COLUMN_VALUES": true,
              "STRINGIFY_INDEX_VALUES": false
            },
            "sample_history": [],
            "sampling_time": "2023-06-21T18:04:50.598216",
            "user_variable_name": null,
            "variable_name": "unk_dataframe_8fe8803da26643d8a5aa4588828a7913"
          },
          "ac741021-c69a-444c-85c6-5963ae07b750": {
            "applied_filters": [],
            "dataframe_info": {
              "default_index_used": true,
              "orig_num_cols": 2,
              "orig_num_rows": 7,
              "orig_size_bytes": 140,
              "truncated_num_cols": 2,
              "truncated_num_rows": 7,
              "truncated_size_bytes": 140,
              "truncated_string_columns": []
            },
            "display_id": "ac741021-c69a-444c-85c6-5963ae07b750",
            "dx_settings": {
              "ALLOW_NOTEABLE_ATTRS": true,
              "COLUMN_SAMPLING_METHOD": "outer",
              "DB_LOCATION": ":memory:",
              "DEV_MODE": false,
              "DISPLAY_MAX_COLUMNS": 100,
              "DISPLAY_MAX_ROWS": 50000,
              "DISPLAY_MODE": "simple",
              "ENABLE_ASSIGNMENT": true,
              "ENABLE_DATALINK": true,
              "FLATTEN_COLUMN_VALUES": true,
              "FLATTEN_INDEX_VALUES": false,
              "GENERATE_DEX_METADATA": false,
              "HTML_TABLE_SCHEMA": false,
              "LOG_LEVEL": 30,
              "MAX_RENDER_SIZE_BYTES": 104857600,
              "MAX_STRING_LENGTH": 250,
              "NUM_PAST_SAMPLES_TRACKED": 3,
              "RANDOM_STATE": 12648430,
              "RESET_INDEX_VALUES": false,
              "ROW_SAMPLING_METHOD": "random",
              "SAMPLING_FACTOR": 0.1,
              "SAMPLING_METHOD": "random",
              "STRINGIFY_COLUMN_VALUES": true,
              "STRINGIFY_INDEX_VALUES": false
            },
            "sample_history": [],
            "sampling_time": "2023-06-21T18:05:03.219141",
            "user_variable_name": null,
            "variable_name": "unk_dataframe_8a68b1da2bdf45e69b2151f76784197e"
          },
          "f3c74159-ccd4-47d0-a7c3-0789712a2110": {
            "applied_filters": [],
            "dataframe_info": {
              "default_index_used": true,
              "orig_num_cols": 2,
              "orig_num_rows": 2,
              "orig_size_bytes": 40,
              "truncated_num_cols": 2,
              "truncated_num_rows": 2,
              "truncated_size_bytes": 40,
              "truncated_string_columns": []
            },
            "display_id": "f3c74159-ccd4-47d0-a7c3-0789712a2110",
            "dx_settings": {
              "ALLOW_NOTEABLE_ATTRS": true,
              "COLUMN_SAMPLING_METHOD": "outer",
              "DB_LOCATION": ":memory:",
              "DEV_MODE": false,
              "DISPLAY_MAX_COLUMNS": 100,
              "DISPLAY_MAX_ROWS": 50000,
              "DISPLAY_MODE": "simple",
              "ENABLE_ASSIGNMENT": true,
              "ENABLE_DATALINK": true,
              "FLATTEN_COLUMN_VALUES": true,
              "FLATTEN_INDEX_VALUES": false,
              "GENERATE_DEX_METADATA": false,
              "HTML_TABLE_SCHEMA": false,
              "LOG_LEVEL": 30,
              "MAX_RENDER_SIZE_BYTES": 104857600,
              "MAX_STRING_LENGTH": 250,
              "NUM_PAST_SAMPLES_TRACKED": 3,
              "RANDOM_STATE": 12648430,
              "RESET_INDEX_VALUES": false,
              "ROW_SAMPLING_METHOD": "random",
              "SAMPLING_FACTOR": 0.1,
              "SAMPLING_METHOD": "random",
              "STRINGIFY_COLUMN_VALUES": true,
              "STRINGIFY_INDEX_VALUES": false
            },
            "sample_history": [],
            "sampling_time": "2023-06-21T18:05:17.571741",
            "user_variable_name": null,
            "variable_name": "unk_dataframe_4f7e235b4d5d477e827629aae00a273d"
          },
          "0cce741a-497f-41c2-9213-ab64ffb5c125": {
            "applied_filters": [],
            "dataframe_info": {
              "default_index_used": true,
              "orig_num_cols": 2,
              "orig_num_rows": 9,
              "orig_size_bytes": 180,
              "truncated_num_cols": 2,
              "truncated_num_rows": 9,
              "truncated_size_bytes": 180,
              "truncated_string_columns": []
            },
            "display_id": "0cce741a-497f-41c2-9213-ab64ffb5c125",
            "dx_settings": {
              "ALLOW_NOTEABLE_ATTRS": true,
              "COLUMN_SAMPLING_METHOD": "outer",
              "DB_LOCATION": ":memory:",
              "DEV_MODE": false,
              "DISPLAY_MAX_COLUMNS": 100,
              "DISPLAY_MAX_ROWS": 50000,
              "DISPLAY_MODE": "simple",
              "ENABLE_ASSIGNMENT": true,
              "ENABLE_DATALINK": true,
              "FLATTEN_COLUMN_VALUES": true,
              "FLATTEN_INDEX_VALUES": false,
              "GENERATE_DEX_METADATA": false,
              "HTML_TABLE_SCHEMA": false,
              "LOG_LEVEL": 30,
              "MAX_RENDER_SIZE_BYTES": 104857600,
              "MAX_STRING_LENGTH": 250,
              "NUM_PAST_SAMPLES_TRACKED": 3,
              "RANDOM_STATE": 12648430,
              "RESET_INDEX_VALUES": false,
              "ROW_SAMPLING_METHOD": "random",
              "SAMPLING_FACTOR": 0.1,
              "SAMPLING_METHOD": "random",
              "STRINGIFY_COLUMN_VALUES": true,
              "STRINGIFY_INDEX_VALUES": false
            },
            "sample_history": [],
            "sampling_time": "2023-06-21T18:05:31.493061",
            "user_variable_name": null,
            "variable_name": "unk_dataframe_ea2fbf76bb5d43939b76dcbdf9a6c0f5"
          },
          "4dd8968a-e1f7-4bea-82bb-2892644f52ca": {
            "applied_filters": [],
            "dataframe_info": {
              "default_index_used": true,
              "orig_num_cols": 2,
              "orig_num_rows": 11,
              "orig_size_bytes": 220,
              "truncated_num_cols": 2,
              "truncated_num_rows": 11,
              "truncated_size_bytes": 220,
              "truncated_string_columns": []
            },
            "display_id": "4dd8968a-e1f7-4bea-82bb-2892644f52ca",
            "dx_settings": {
              "ALLOW_NOTEABLE_ATTRS": true,
              "COLUMN_SAMPLING_METHOD": "outer",
              "DB_LOCATION": ":memory:",
              "DEV_MODE": false,
              "DISPLAY_MAX_COLUMNS": 100,
              "DISPLAY_MAX_ROWS": 50000,
              "DISPLAY_MODE": "simple",
              "ENABLE_ASSIGNMENT": true,
              "ENABLE_DATALINK": true,
              "FLATTEN_COLUMN_VALUES": true,
              "FLATTEN_INDEX_VALUES": false,
              "GENERATE_DEX_METADATA": false,
              "HTML_TABLE_SCHEMA": false,
              "LOG_LEVEL": 30,
              "MAX_RENDER_SIZE_BYTES": 104857600,
              "MAX_STRING_LENGTH": 250,
              "NUM_PAST_SAMPLES_TRACKED": 3,
              "RANDOM_STATE": 12648430,
              "RESET_INDEX_VALUES": false,
              "ROW_SAMPLING_METHOD": "random",
              "SAMPLING_FACTOR": 0.1,
              "SAMPLING_METHOD": "random",
              "STRINGIFY_COLUMN_VALUES": true,
              "STRINGIFY_INDEX_VALUES": false
            },
            "sample_history": [],
            "sampling_time": "2023-06-21T18:05:51.308371",
            "user_variable_name": null,
            "variable_name": "unk_dataframe_09c0b9d0450549088653a716f6b9ad1d"
          },
          "c4f84b7b-d4ff-44ac-a5dc-c2f98dc27458": {
            "applied_filters": [],
            "dataframe_info": {
              "default_index_used": true,
              "orig_num_cols": 2,
              "orig_num_rows": 10,
              "orig_size_bytes": 200,
              "truncated_num_cols": 2,
              "truncated_num_rows": 10,
              "truncated_size_bytes": 200,
              "truncated_string_columns": []
            },
            "display_id": "c4f84b7b-d4ff-44ac-a5dc-c2f98dc27458",
            "dx_settings": {
              "ALLOW_NOTEABLE_ATTRS": true,
              "COLUMN_SAMPLING_METHOD": "outer",
              "DB_LOCATION": ":memory:",
              "DEV_MODE": false,
              "DISPLAY_MAX_COLUMNS": 100,
              "DISPLAY_MAX_ROWS": 50000,
              "DISPLAY_MODE": "simple",
              "ENABLE_ASSIGNMENT": true,
              "ENABLE_DATALINK": true,
              "FLATTEN_COLUMN_VALUES": true,
              "FLATTEN_INDEX_VALUES": false,
              "GENERATE_DEX_METADATA": false,
              "HTML_TABLE_SCHEMA": false,
              "LOG_LEVEL": 30,
              "MAX_RENDER_SIZE_BYTES": 104857600,
              "MAX_STRING_LENGTH": 250,
              "NUM_PAST_SAMPLES_TRACKED": 3,
              "RANDOM_STATE": 12648430,
              "RESET_INDEX_VALUES": false,
              "ROW_SAMPLING_METHOD": "random",
              "SAMPLING_FACTOR": 0.1,
              "SAMPLING_METHOD": "random",
              "STRINGIFY_COLUMN_VALUES": true,
              "STRINGIFY_INDEX_VALUES": false
            },
            "sample_history": [],
            "sampling_time": "2023-06-21T18:06:15.585117",
            "user_variable_name": null,
            "variable_name": "unk_dataframe_a8c925ff90b8437caf906b16f6655723"
          },
          "caef37e3-0e2d-45d3-9794-5dcc33b47506": {
            "applied_filters": [],
            "dataframe_info": {
              "default_index_used": true,
              "orig_num_cols": 2,
              "orig_num_rows": 3,
              "orig_size_bytes": 60,
              "truncated_num_cols": 2,
              "truncated_num_rows": 3,
              "truncated_size_bytes": 60,
              "truncated_string_columns": []
            },
            "display_id": "caef37e3-0e2d-45d3-9794-5dcc33b47506",
            "dx_settings": {
              "ALLOW_NOTEABLE_ATTRS": true,
              "COLUMN_SAMPLING_METHOD": "outer",
              "DB_LOCATION": ":memory:",
              "DEV_MODE": false,
              "DISPLAY_MAX_COLUMNS": 100,
              "DISPLAY_MAX_ROWS": 50000,
              "DISPLAY_MODE": "simple",
              "ENABLE_ASSIGNMENT": true,
              "ENABLE_DATALINK": true,
              "FLATTEN_COLUMN_VALUES": true,
              "FLATTEN_INDEX_VALUES": false,
              "GENERATE_DEX_METADATA": false,
              "HTML_TABLE_SCHEMA": false,
              "LOG_LEVEL": 30,
              "MAX_RENDER_SIZE_BYTES": 104857600,
              "MAX_STRING_LENGTH": 250,
              "NUM_PAST_SAMPLES_TRACKED": 3,
              "RANDOM_STATE": 12648430,
              "RESET_INDEX_VALUES": false,
              "ROW_SAMPLING_METHOD": "random",
              "SAMPLING_FACTOR": 0.1,
              "SAMPLING_METHOD": "random",
              "STRINGIFY_COLUMN_VALUES": true,
              "STRINGIFY_INDEX_VALUES": false
            },
            "sample_history": [],
            "sampling_time": "2023-06-21T19:49:15.852475",
            "user_variable_name": null,
            "variable_name": "unk_dataframe_1dbe3a765b8240a38a78e274a7237534"
          },
          "e71bb1f8-8d20-4a7d-906b-2df8bd7734e2": {
            "applied_filters": [],
            "dataframe_info": {
              "default_index_used": true,
              "orig_num_cols": 2,
              "orig_num_rows": 3,
              "orig_size_bytes": 60,
              "truncated_num_cols": 2,
              "truncated_num_rows": 3,
              "truncated_size_bytes": 60,
              "truncated_string_columns": []
            },
            "display_id": "e71bb1f8-8d20-4a7d-906b-2df8bd7734e2",
            "dx_settings": {
              "ALLOW_NOTEABLE_ATTRS": true,
              "COLUMN_SAMPLING_METHOD": "outer",
              "DB_LOCATION": ":memory:",
              "DEV_MODE": false,
              "DISPLAY_MAX_COLUMNS": 100,
              "DISPLAY_MAX_ROWS": 50000,
              "DISPLAY_MODE": "simple",
              "ENABLE_ASSIGNMENT": true,
              "ENABLE_DATALINK": true,
              "FLATTEN_COLUMN_VALUES": true,
              "FLATTEN_INDEX_VALUES": false,
              "GENERATE_DEX_METADATA": false,
              "HTML_TABLE_SCHEMA": false,
              "LOG_LEVEL": 30,
              "MAX_RENDER_SIZE_BYTES": 104857600,
              "MAX_STRING_LENGTH": 250,
              "NUM_PAST_SAMPLES_TRACKED": 3,
              "RANDOM_STATE": 12648430,
              "RESET_INDEX_VALUES": false,
              "ROW_SAMPLING_METHOD": "random",
              "SAMPLING_FACTOR": 0.1,
              "SAMPLING_METHOD": "random",
              "STRINGIFY_COLUMN_VALUES": true,
              "STRINGIFY_INDEX_VALUES": false
            },
            "sample_history": [],
            "sampling_time": "2023-06-21T20:15:25.005060",
            "user_variable_name": null,
            "variable_name": "unk_dataframe_cb4d74eb93084882852045bbaea492f4"
          },
          "814b307c-f24c-4c12-a495-8ad8be3ca4c5": {
            "applied_filters": [],
            "dataframe_info": {
              "default_index_used": true,
              "orig_num_cols": 2,
              "orig_num_rows": 3,
              "orig_size_bytes": 60,
              "truncated_num_cols": 2,
              "truncated_num_rows": 3,
              "truncated_size_bytes": 60,
              "truncated_string_columns": []
            },
            "display_id": "814b307c-f24c-4c12-a495-8ad8be3ca4c5",
            "dx_settings": {
              "ALLOW_NOTEABLE_ATTRS": true,
              "COLUMN_SAMPLING_METHOD": "outer",
              "DB_LOCATION": ":memory:",
              "DEV_MODE": false,
              "DISPLAY_MAX_COLUMNS": 100,
              "DISPLAY_MAX_ROWS": 50000,
              "DISPLAY_MODE": "simple",
              "ENABLE_ASSIGNMENT": true,
              "ENABLE_DATALINK": true,
              "FLATTEN_COLUMN_VALUES": true,
              "FLATTEN_INDEX_VALUES": false,
              "GENERATE_DEX_METADATA": false,
              "HTML_TABLE_SCHEMA": false,
              "LOG_LEVEL": 30,
              "MAX_RENDER_SIZE_BYTES": 104857600,
              "MAX_STRING_LENGTH": 250,
              "NUM_PAST_SAMPLES_TRACKED": 3,
              "RANDOM_STATE": 12648430,
              "RESET_INDEX_VALUES": false,
              "ROW_SAMPLING_METHOD": "random",
              "SAMPLING_FACTOR": 0.1,
              "SAMPLING_METHOD": "random",
              "STRINGIFY_COLUMN_VALUES": true,
              "STRINGIFY_INDEX_VALUES": false
            },
            "sample_history": [],
            "sampling_time": "2023-06-21T20:45:13.350239",
            "user_variable_name": null,
            "variable_name": "unk_dataframe_71d467d3540741a09f6e22d4199a958f"
          },
          "b856fdf8-4101-4b20-85c9-192b6afc6e02": {
            "applied_filters": [],
            "dataframe_info": {
              "default_index_used": true,
              "orig_num_cols": 2,
              "orig_num_rows": 3,
              "orig_size_bytes": 60,
              "truncated_num_cols": 2,
              "truncated_num_rows": 3,
              "truncated_size_bytes": 60,
              "truncated_string_columns": []
            },
            "display_id": "b856fdf8-4101-4b20-85c9-192b6afc6e02",
            "dx_settings": {
              "ALLOW_NOTEABLE_ATTRS": true,
              "COLUMN_SAMPLING_METHOD": "outer",
              "DB_LOCATION": ":memory:",
              "DEV_MODE": false,
              "DISPLAY_MAX_COLUMNS": 100,
              "DISPLAY_MAX_ROWS": 50000,
              "DISPLAY_MODE": "simple",
              "ENABLE_ASSIGNMENT": true,
              "ENABLE_DATALINK": true,
              "FLATTEN_COLUMN_VALUES": true,
              "FLATTEN_INDEX_VALUES": false,
              "GENERATE_DEX_METADATA": false,
              "HTML_TABLE_SCHEMA": false,
              "LOG_LEVEL": 30,
              "MAX_RENDER_SIZE_BYTES": 104857600,
              "MAX_STRING_LENGTH": 250,
              "NUM_PAST_SAMPLES_TRACKED": 3,
              "RANDOM_STATE": 12648430,
              "RESET_INDEX_VALUES": false,
              "ROW_SAMPLING_METHOD": "random",
              "SAMPLING_FACTOR": 0.1,
              "SAMPLING_METHOD": "random",
              "STRINGIFY_COLUMN_VALUES": true,
              "STRINGIFY_INDEX_VALUES": false
            },
            "sample_history": [],
            "sampling_time": "2023-06-21T21:10:09.463699",
            "user_variable_name": null,
            "variable_name": "unk_dataframe_4401980a2f334cdaa896c1bee629571f"
          },
          "f1042880-3f0e-41de-986f-2ae213534213": {
            "applied_filters": [],
            "dataframe_info": {
              "default_index_used": true,
              "orig_num_cols": 2,
              "orig_num_rows": 3,
              "orig_size_bytes": 60,
              "truncated_num_cols": 2,
              "truncated_num_rows": 3,
              "truncated_size_bytes": 60,
              "truncated_string_columns": []
            },
            "display_id": "f1042880-3f0e-41de-986f-2ae213534213",
            "dx_settings": {
              "ALLOW_NOTEABLE_ATTRS": true,
              "COLUMN_SAMPLING_METHOD": "outer",
              "DB_LOCATION": ":memory:",
              "DEV_MODE": false,
              "DISPLAY_MAX_COLUMNS": 100,
              "DISPLAY_MAX_ROWS": 50000,
              "DISPLAY_MODE": "simple",
              "ENABLE_ASSIGNMENT": true,
              "ENABLE_DATALINK": true,
              "FLATTEN_COLUMN_VALUES": true,
              "FLATTEN_INDEX_VALUES": false,
              "GENERATE_DEX_METADATA": false,
              "HTML_TABLE_SCHEMA": false,
              "LOG_LEVEL": 30,
              "MAX_RENDER_SIZE_BYTES": 104857600,
              "MAX_STRING_LENGTH": 250,
              "NUM_PAST_SAMPLES_TRACKED": 3,
              "RANDOM_STATE": 12648430,
              "RESET_INDEX_VALUES": false,
              "ROW_SAMPLING_METHOD": "random",
              "SAMPLING_FACTOR": 0.1,
              "SAMPLING_METHOD": "random",
              "STRINGIFY_COLUMN_VALUES": true,
              "STRINGIFY_INDEX_VALUES": false
            },
            "sample_history": [],
            "sampling_time": "2023-06-22T14:48:21.730966",
            "user_variable_name": null,
            "variable_name": "unk_dataframe_d69ced2221d64b3090c1095f526b2466"
          },
          "4de96d54-ace7-496c-9425-d02d317b02e3": {
            "applied_filters": [],
            "dataframe_info": {
              "default_index_used": true,
              "orig_num_cols": 2,
              "orig_num_rows": 3,
              "orig_size_bytes": 60,
              "truncated_num_cols": 2,
              "truncated_num_rows": 3,
              "truncated_size_bytes": 60,
              "truncated_string_columns": []
            },
            "display_id": "4de96d54-ace7-496c-9425-d02d317b02e3",
            "dx_settings": {
              "ALLOW_NOTEABLE_ATTRS": true,
              "COLUMN_SAMPLING_METHOD": "outer",
              "DB_LOCATION": ":memory:",
              "DEV_MODE": false,
              "DISPLAY_MAX_COLUMNS": 100,
              "DISPLAY_MAX_ROWS": 50000,
              "DISPLAY_MODE": "simple",
              "ENABLE_ASSIGNMENT": true,
              "ENABLE_DATALINK": true,
              "FLATTEN_COLUMN_VALUES": true,
              "FLATTEN_INDEX_VALUES": false,
              "GENERATE_DEX_METADATA": false,
              "HTML_TABLE_SCHEMA": false,
              "LOG_LEVEL": 30,
              "MAX_RENDER_SIZE_BYTES": 104857600,
              "MAX_STRING_LENGTH": 250,
              "NUM_PAST_SAMPLES_TRACKED": 3,
              "RANDOM_STATE": 12648430,
              "RESET_INDEX_VALUES": false,
              "ROW_SAMPLING_METHOD": "random",
              "SAMPLING_FACTOR": 0.1,
              "SAMPLING_METHOD": "random",
              "STRINGIFY_COLUMN_VALUES": true,
              "STRINGIFY_INDEX_VALUES": false
            },
            "sample_history": [],
            "sampling_time": "2023-06-22T16:06:58.514914",
            "user_variable_name": null,
            "variable_name": "unk_dataframe_5b02b6a9064942cd96ed3d662fe18fb3"
          },
          "276724cb-b09c-472b-8448-4852aadee8f9": {
            "applied_filters": [],
            "dataframe_info": {
              "default_index_used": true,
              "orig_num_cols": 2,
              "orig_num_rows": 9,
              "orig_size_bytes": 180,
              "truncated_num_cols": 2,
              "truncated_num_rows": 9,
              "truncated_size_bytes": 180,
              "truncated_string_columns": []
            },
            "display_id": "276724cb-b09c-472b-8448-4852aadee8f9",
            "dx_settings": {
              "ALLOW_NOTEABLE_ATTRS": true,
              "COLUMN_SAMPLING_METHOD": "outer",
              "DB_LOCATION": ":memory:",
              "DEV_MODE": false,
              "DISPLAY_MAX_COLUMNS": 100,
              "DISPLAY_MAX_ROWS": 50000,
              "DISPLAY_MODE": "simple",
              "ENABLE_ASSIGNMENT": true,
              "ENABLE_DATALINK": true,
              "FLATTEN_COLUMN_VALUES": true,
              "FLATTEN_INDEX_VALUES": false,
              "GENERATE_DEX_METADATA": false,
              "HTML_TABLE_SCHEMA": false,
              "LOG_LEVEL": 30,
              "MAX_RENDER_SIZE_BYTES": 104857600,
              "MAX_STRING_LENGTH": 250,
              "NUM_PAST_SAMPLES_TRACKED": 3,
              "RANDOM_STATE": 12648430,
              "RESET_INDEX_VALUES": false,
              "ROW_SAMPLING_METHOD": "random",
              "SAMPLING_FACTOR": 0.1,
              "SAMPLING_METHOD": "random",
              "STRINGIFY_COLUMN_VALUES": true,
              "STRINGIFY_INDEX_VALUES": false
            },
            "sample_history": [],
            "sampling_time": "2023-06-22T16:12:13.208488",
            "user_variable_name": null,
            "variable_name": "unk_dataframe_d6d6906218144b14b8dd8541242e96d4"
          },
          "aaf39f0d-71a9-448e-a907-f826fbc8388a": {
            "applied_filters": [],
            "dataframe_info": {
              "default_index_used": true,
              "orig_num_cols": 2,
              "orig_num_rows": 2,
              "orig_size_bytes": 40,
              "truncated_num_cols": 2,
              "truncated_num_rows": 2,
              "truncated_size_bytes": 40,
              "truncated_string_columns": []
            },
            "display_id": "aaf39f0d-71a9-448e-a907-f826fbc8388a",
            "dx_settings": {
              "ALLOW_NOTEABLE_ATTRS": true,
              "COLUMN_SAMPLING_METHOD": "outer",
              "DB_LOCATION": ":memory:",
              "DEV_MODE": false,
              "DISPLAY_MAX_COLUMNS": 100,
              "DISPLAY_MAX_ROWS": 50000,
              "DISPLAY_MODE": "simple",
              "ENABLE_ASSIGNMENT": true,
              "ENABLE_DATALINK": true,
              "FLATTEN_COLUMN_VALUES": true,
              "FLATTEN_INDEX_VALUES": false,
              "GENERATE_DEX_METADATA": false,
              "HTML_TABLE_SCHEMA": false,
              "LOG_LEVEL": 30,
              "MAX_RENDER_SIZE_BYTES": 104857600,
              "MAX_STRING_LENGTH": 250,
              "NUM_PAST_SAMPLES_TRACKED": 3,
              "RANDOM_STATE": 12648430,
              "RESET_INDEX_VALUES": false,
              "ROW_SAMPLING_METHOD": "random",
              "SAMPLING_FACTOR": 0.1,
              "SAMPLING_METHOD": "random",
              "STRINGIFY_COLUMN_VALUES": true,
              "STRINGIFY_INDEX_VALUES": false
            },
            "sample_history": [],
            "sampling_time": "2023-06-22T16:12:34.714450",
            "user_variable_name": null,
            "variable_name": "unk_dataframe_a45105e75fe24c29aa6e4d032f591f98"
          },
          "0c246336-aa75-4a32-aa83-61defaf346e2": {
            "applied_filters": [],
            "dataframe_info": {
              "default_index_used": true,
              "orig_num_cols": 2,
              "orig_num_rows": 6,
              "orig_size_bytes": 120,
              "truncated_num_cols": 2,
              "truncated_num_rows": 6,
              "truncated_size_bytes": 120,
              "truncated_string_columns": []
            },
            "display_id": "0c246336-aa75-4a32-aa83-61defaf346e2",
            "dx_settings": {
              "ALLOW_NOTEABLE_ATTRS": true,
              "COLUMN_SAMPLING_METHOD": "outer",
              "DB_LOCATION": ":memory:",
              "DEV_MODE": false,
              "DISPLAY_MAX_COLUMNS": 100,
              "DISPLAY_MAX_ROWS": 50000,
              "DISPLAY_MODE": "simple",
              "ENABLE_ASSIGNMENT": true,
              "ENABLE_DATALINK": true,
              "FLATTEN_COLUMN_VALUES": true,
              "FLATTEN_INDEX_VALUES": false,
              "GENERATE_DEX_METADATA": false,
              "HTML_TABLE_SCHEMA": false,
              "LOG_LEVEL": 30,
              "MAX_RENDER_SIZE_BYTES": 104857600,
              "MAX_STRING_LENGTH": 250,
              "NUM_PAST_SAMPLES_TRACKED": 3,
              "RANDOM_STATE": 12648430,
              "RESET_INDEX_VALUES": false,
              "ROW_SAMPLING_METHOD": "random",
              "SAMPLING_FACTOR": 0.1,
              "SAMPLING_METHOD": "random",
              "STRINGIFY_COLUMN_VALUES": true,
              "STRINGIFY_INDEX_VALUES": false
            },
            "sample_history": [],
            "sampling_time": "2023-06-22T16:12:59.739649",
            "user_variable_name": null,
            "variable_name": "unk_dataframe_54d8caf9328944fda913b5bb0224fb8f"
          },
          "b6ac29b6-1a91-4f90-b762-0a212e50066c": {
            "applied_filters": [],
            "dataframe_info": {
              "default_index_used": true,
              "orig_num_cols": 2,
              "orig_num_rows": 5,
              "orig_size_bytes": 100,
              "truncated_num_cols": 2,
              "truncated_num_rows": 5,
              "truncated_size_bytes": 100,
              "truncated_string_columns": []
            },
            "display_id": "b6ac29b6-1a91-4f90-b762-0a212e50066c",
            "dx_settings": {
              "ALLOW_NOTEABLE_ATTRS": true,
              "COLUMN_SAMPLING_METHOD": "outer",
              "DB_LOCATION": ":memory:",
              "DEV_MODE": false,
              "DISPLAY_MAX_COLUMNS": 100,
              "DISPLAY_MAX_ROWS": 50000,
              "DISPLAY_MODE": "simple",
              "ENABLE_ASSIGNMENT": true,
              "ENABLE_DATALINK": true,
              "FLATTEN_COLUMN_VALUES": true,
              "FLATTEN_INDEX_VALUES": false,
              "GENERATE_DEX_METADATA": false,
              "HTML_TABLE_SCHEMA": false,
              "LOG_LEVEL": 30,
              "MAX_RENDER_SIZE_BYTES": 104857600,
              "MAX_STRING_LENGTH": 250,
              "NUM_PAST_SAMPLES_TRACKED": 3,
              "RANDOM_STATE": 12648430,
              "RESET_INDEX_VALUES": false,
              "ROW_SAMPLING_METHOD": "random",
              "SAMPLING_FACTOR": 0.1,
              "SAMPLING_METHOD": "random",
              "STRINGIFY_COLUMN_VALUES": true,
              "STRINGIFY_INDEX_VALUES": false
            },
            "sample_history": [],
            "sampling_time": "2023-06-22T16:13:15.124546",
            "user_variable_name": null,
            "variable_name": "unk_dataframe_18eb1d296c4d457e8d2ab98a7a7cbf28"
          },
          "440f311e-415f-4dea-afe2-a8332c772c7f": {
            "applied_filters": [],
            "dataframe_info": {
              "default_index_used": true,
              "orig_num_cols": 2,
              "orig_num_rows": 6,
              "orig_size_bytes": 120,
              "truncated_num_cols": 2,
              "truncated_num_rows": 6,
              "truncated_size_bytes": 120,
              "truncated_string_columns": []
            },
            "display_id": "440f311e-415f-4dea-afe2-a8332c772c7f",
            "dx_settings": {
              "ALLOW_NOTEABLE_ATTRS": true,
              "COLUMN_SAMPLING_METHOD": "outer",
              "DB_LOCATION": ":memory:",
              "DEV_MODE": false,
              "DISPLAY_MAX_COLUMNS": 100,
              "DISPLAY_MAX_ROWS": 50000,
              "DISPLAY_MODE": "simple",
              "ENABLE_ASSIGNMENT": true,
              "ENABLE_DATALINK": true,
              "FLATTEN_COLUMN_VALUES": true,
              "FLATTEN_INDEX_VALUES": false,
              "GENERATE_DEX_METADATA": false,
              "HTML_TABLE_SCHEMA": false,
              "LOG_LEVEL": 30,
              "MAX_RENDER_SIZE_BYTES": 104857600,
              "MAX_STRING_LENGTH": 250,
              "NUM_PAST_SAMPLES_TRACKED": 3,
              "RANDOM_STATE": 12648430,
              "RESET_INDEX_VALUES": false,
              "ROW_SAMPLING_METHOD": "random",
              "SAMPLING_FACTOR": 0.1,
              "SAMPLING_METHOD": "random",
              "STRINGIFY_COLUMN_VALUES": true,
              "STRINGIFY_INDEX_VALUES": false
            },
            "sample_history": [],
            "sampling_time": "2023-06-22T16:13:34.923425",
            "user_variable_name": null,
            "variable_name": "unk_dataframe_2c6cf2328ce84f05b82495d26fdd63e5"
          },
          "cc77f39d-8658-4497-a188-ee9e39db3711": {
            "applied_filters": [],
            "dataframe_info": {
              "default_index_used": true,
              "orig_num_cols": 2,
              "orig_num_rows": 6,
              "orig_size_bytes": 120,
              "truncated_num_cols": 2,
              "truncated_num_rows": 6,
              "truncated_size_bytes": 120,
              "truncated_string_columns": []
            },
            "display_id": "cc77f39d-8658-4497-a188-ee9e39db3711",
            "dx_settings": {
              "ALLOW_NOTEABLE_ATTRS": true,
              "COLUMN_SAMPLING_METHOD": "outer",
              "DB_LOCATION": ":memory:",
              "DEV_MODE": false,
              "DISPLAY_MAX_COLUMNS": 100,
              "DISPLAY_MAX_ROWS": 50000,
              "DISPLAY_MODE": "simple",
              "ENABLE_ASSIGNMENT": true,
              "ENABLE_DATALINK": true,
              "FLATTEN_COLUMN_VALUES": true,
              "FLATTEN_INDEX_VALUES": false,
              "GENERATE_DEX_METADATA": false,
              "HTML_TABLE_SCHEMA": false,
              "LOG_LEVEL": 30,
              "MAX_RENDER_SIZE_BYTES": 104857600,
              "MAX_STRING_LENGTH": 250,
              "NUM_PAST_SAMPLES_TRACKED": 3,
              "RANDOM_STATE": 12648430,
              "RESET_INDEX_VALUES": false,
              "ROW_SAMPLING_METHOD": "random",
              "SAMPLING_FACTOR": 0.1,
              "SAMPLING_METHOD": "random",
              "STRINGIFY_COLUMN_VALUES": true,
              "STRINGIFY_INDEX_VALUES": false
            },
            "sample_history": [],
            "sampling_time": "2023-07-13T19:55:38.006428",
            "user_variable_name": null,
            "variable_name": "unk_dataframe_4ef2ca3f42464813bd51b7d573fdc222"
          },
          "dfbbb739-f0e7-49ea-8f8c-1b6a993b0900": {
            "applied_filters": [],
            "dataframe_info": {
              "default_index_used": true,
              "orig_num_cols": 2,
              "orig_num_rows": 6,
              "orig_size_bytes": 120,
              "truncated_num_cols": 2,
              "truncated_num_rows": 6,
              "truncated_size_bytes": 120,
              "truncated_string_columns": []
            },
            "display_id": "dfbbb739-f0e7-49ea-8f8c-1b6a993b0900",
            "dx_settings": {
              "ALLOW_NOTEABLE_ATTRS": true,
              "COLUMN_SAMPLING_METHOD": "outer",
              "DB_LOCATION": ":memory:",
              "DEV_MODE": false,
              "DISPLAY_MAX_COLUMNS": 100,
              "DISPLAY_MAX_ROWS": 50000,
              "DISPLAY_MODE": "simple",
              "ENABLE_ASSIGNMENT": true,
              "ENABLE_DATALINK": true,
              "FLATTEN_COLUMN_VALUES": true,
              "FLATTEN_INDEX_VALUES": false,
              "GENERATE_DEX_METADATA": false,
              "HTML_TABLE_SCHEMA": false,
              "LOG_LEVEL": 30,
              "MAX_RENDER_SIZE_BYTES": 104857600,
              "MAX_STRING_LENGTH": 250,
              "NUM_PAST_SAMPLES_TRACKED": 3,
              "RANDOM_STATE": 12648430,
              "RESET_INDEX_VALUES": false,
              "ROW_SAMPLING_METHOD": "random",
              "SAMPLING_FACTOR": 0.1,
              "SAMPLING_METHOD": "random",
              "STRINGIFY_COLUMN_VALUES": true,
              "STRINGIFY_INDEX_VALUES": false
            },
            "sample_history": [],
            "sampling_time": "2023-07-13T20:03:01.017786",
            "user_variable_name": null,
            "variable_name": "unk_dataframe_878b075c9409463f8824244d0e24042e"
          },
          "8cd9d8a8-3ad4-41ac-b4e4-21f266eda5db": {
            "applied_filters": [],
            "dataframe_info": {
              "default_index_used": true,
              "orig_num_cols": 2,
              "orig_num_rows": 6,
              "orig_size_bytes": 120,
              "truncated_num_cols": 2,
              "truncated_num_rows": 6,
              "truncated_size_bytes": 120,
              "truncated_string_columns": []
            },
            "display_id": "8cd9d8a8-3ad4-41ac-b4e4-21f266eda5db",
            "dx_settings": {
              "ALLOW_NOTEABLE_ATTRS": true,
              "COLUMN_SAMPLING_METHOD": "outer",
              "DB_LOCATION": ":memory:",
              "DEV_MODE": false,
              "DISPLAY_MAX_COLUMNS": 100,
              "DISPLAY_MAX_ROWS": 50000,
              "DISPLAY_MODE": "simple",
              "ENABLE_ASSIGNMENT": true,
              "ENABLE_DATALINK": true,
              "FLATTEN_COLUMN_VALUES": true,
              "FLATTEN_INDEX_VALUES": false,
              "GENERATE_DEX_METADATA": false,
              "HTML_TABLE_SCHEMA": false,
              "LOG_LEVEL": 30,
              "MAX_RENDER_SIZE_BYTES": 104857600,
              "MAX_STRING_LENGTH": 250,
              "NUM_PAST_SAMPLES_TRACKED": 3,
              "RANDOM_STATE": 12648430,
              "RESET_INDEX_VALUES": false,
              "ROW_SAMPLING_METHOD": "random",
              "SAMPLING_FACTOR": 0.1,
              "SAMPLING_METHOD": "random",
              "STRINGIFY_COLUMN_VALUES": true,
              "STRINGIFY_INDEX_VALUES": false
            },
            "sample_history": [],
            "sampling_time": "2023-07-14T01:25:45.537234",
            "user_variable_name": null,
            "variable_name": "unk_dataframe_5ccb5903a005496a90916b7ef5a88dae"
          }
        }
      },
      "execution_count": null,
      "source": "from sklearn.cluster import DBSCAN\nmcinnes_dbscan_distmat = squareform(pdist(df_mcinnes.select(['X', 'Y']), 'mahalanobis'))\nmcinnes_dbscan = DBSCAN(metric='precomputed', min_samples=50, eps=0.23)\n\ndf_mcinnes = (\n    df_mcinnes\n    .with_columns((\n        pl.Series(mcinnes_dbscan.fit_predict(mcinnes_dbscan_distmat))\n    ).alias('DBSCAN_groups'))\n)\n\n(\n    df_mcinnes\n    .groupby('DBSCAN_groups')\n    .count()\n)",
      "outputs": []
    },
    {
      "id": "059c287b-42ea-4062-b0ad-abd31d220e5b",
      "cell_type": "code",
      "metadata": {
        "jupyter": {
          "outputs_hidden": false,
          "source_hidden": false
        },
        "noteable": {
          "cell_type": "code",
          "output_collection_id": "4552baae-dfc9-467a-ac45-1ed6d6f3c7b1"
        },
        "ExecuteTime": {
          "end_time": "2023-07-14T01:25:51.234382+00:00",
          "start_time": "2023-07-14T01:25:50.871581+00:00"
        },
        "datalink": {
          "e73b730b-aa6d-4c4d-b084-a3aef565070d": {
            "applied_filters": [],
            "dataframe_info": {
              "default_index_used": true,
              "orig_num_cols": 4,
              "orig_num_rows": 2309,
              "orig_size_bytes": 83124,
              "truncated_num_cols": 4,
              "truncated_num_rows": 2309,
              "truncated_size_bytes": 83124,
              "truncated_string_columns": []
            },
            "display_id": "e73b730b-aa6d-4c4d-b084-a3aef565070d",
            "dx_settings": {
              "ALLOW_NOTEABLE_ATTRS": true,
              "COLUMN_SAMPLING_METHOD": "outer",
              "DB_LOCATION": ":memory:",
              "DEV_MODE": false,
              "DISPLAY_MAX_COLUMNS": 100,
              "DISPLAY_MAX_ROWS": 50000,
              "DISPLAY_MODE": "simple",
              "ENABLE_ASSIGNMENT": true,
              "ENABLE_DATALINK": true,
              "FLATTEN_COLUMN_VALUES": true,
              "FLATTEN_INDEX_VALUES": false,
              "GENERATE_DEX_METADATA": false,
              "HTML_TABLE_SCHEMA": false,
              "LOG_LEVEL": 30,
              "MAX_RENDER_SIZE_BYTES": 104857600,
              "MAX_STRING_LENGTH": 250,
              "NUM_PAST_SAMPLES_TRACKED": 3,
              "RANDOM_STATE": 12648430,
              "RESET_INDEX_VALUES": false,
              "ROW_SAMPLING_METHOD": "random",
              "SAMPLING_FACTOR": 0.1,
              "SAMPLING_METHOD": "random",
              "STRINGIFY_COLUMN_VALUES": true,
              "STRINGIFY_INDEX_VALUES": false
            },
            "sample_history": [],
            "sampling_time": "2023-06-21T17:25:07.700750",
            "user_variable_name": null,
            "variable_name": "unk_dataframe_bda7e1bb25a541838ca2629f1063410c"
          },
          "94a7dd04-33d1-4057-803d-a3b65472806b": {
            "applied_filters": [],
            "dataframe_info": {
              "default_index_used": true,
              "orig_num_cols": 4,
              "orig_num_rows": 4618,
              "orig_size_bytes": 184720,
              "truncated_num_cols": 4,
              "truncated_num_rows": 4618,
              "truncated_size_bytes": 184720,
              "truncated_string_columns": []
            },
            "display_id": "94a7dd04-33d1-4057-803d-a3b65472806b",
            "dx_settings": {
              "ALLOW_NOTEABLE_ATTRS": true,
              "COLUMN_SAMPLING_METHOD": "outer",
              "DB_LOCATION": ":memory:",
              "DEV_MODE": false,
              "DISPLAY_MAX_COLUMNS": 100,
              "DISPLAY_MAX_ROWS": 50000,
              "DISPLAY_MODE": "simple",
              "ENABLE_ASSIGNMENT": true,
              "ENABLE_DATALINK": true,
              "FLATTEN_COLUMN_VALUES": true,
              "FLATTEN_INDEX_VALUES": false,
              "GENERATE_DEX_METADATA": false,
              "HTML_TABLE_SCHEMA": false,
              "LOG_LEVEL": 30,
              "MAX_RENDER_SIZE_BYTES": 104857600,
              "MAX_STRING_LENGTH": 250,
              "NUM_PAST_SAMPLES_TRACKED": 3,
              "RANDOM_STATE": 12648430,
              "RESET_INDEX_VALUES": false,
              "ROW_SAMPLING_METHOD": "random",
              "SAMPLING_FACTOR": 0.1,
              "SAMPLING_METHOD": "random",
              "STRINGIFY_COLUMN_VALUES": true,
              "STRINGIFY_INDEX_VALUES": false
            },
            "sample_history": [],
            "sampling_time": "2023-06-21T17:25:35.440974",
            "user_variable_name": null,
            "variable_name": "unk_dataframe_eb974bf563b04fdc907c5c5f37e453d8"
          },
          "f4a92238-ec94-478f-8025-5d62e6816896": {
            "applied_filters": [],
            "dataframe_info": {
              "default_index_used": true,
              "orig_num_cols": 4,
              "orig_num_rows": 4618,
              "orig_size_bytes": 184720,
              "truncated_num_cols": 4,
              "truncated_num_rows": 4618,
              "truncated_size_bytes": 184720,
              "truncated_string_columns": []
            },
            "display_id": "f4a92238-ec94-478f-8025-5d62e6816896",
            "dx_settings": {
              "ALLOW_NOTEABLE_ATTRS": true,
              "COLUMN_SAMPLING_METHOD": "outer",
              "DB_LOCATION": ":memory:",
              "DEV_MODE": false,
              "DISPLAY_MAX_COLUMNS": 100,
              "DISPLAY_MAX_ROWS": 50000,
              "DISPLAY_MODE": "simple",
              "ENABLE_ASSIGNMENT": true,
              "ENABLE_DATALINK": true,
              "FLATTEN_COLUMN_VALUES": true,
              "FLATTEN_INDEX_VALUES": false,
              "GENERATE_DEX_METADATA": false,
              "HTML_TABLE_SCHEMA": false,
              "LOG_LEVEL": 30,
              "MAX_RENDER_SIZE_BYTES": 104857600,
              "MAX_STRING_LENGTH": 250,
              "NUM_PAST_SAMPLES_TRACKED": 3,
              "RANDOM_STATE": 12648430,
              "RESET_INDEX_VALUES": false,
              "ROW_SAMPLING_METHOD": "random",
              "SAMPLING_FACTOR": 0.1,
              "SAMPLING_METHOD": "random",
              "STRINGIFY_COLUMN_VALUES": true,
              "STRINGIFY_INDEX_VALUES": false
            },
            "sample_history": [],
            "sampling_time": "2023-06-21T17:28:55.717435",
            "user_variable_name": null,
            "variable_name": "unk_dataframe_dbc1cd91a3af4fbb9439594df615e946"
          }
        },
        "dx": {
          "dashboard": {
            "multiViews": []
          },
          "fieldMetadata": {},
          "updated": 1687368562675,
          "views": [
            {
              "annotationRules": [],
              "chart": {},
              "chartMode": "grid",
              "confoRules": [],
              "decoration": {
                "footer": "",
                "subtitle": "",
                "title": "Table"
              },
              "facets": [],
              "filterSettings": {
                "SHOW_FILTER_PANEL": true,
                "filters": []
              },
              "id": "first-view",
              "isDefault": true,
              "type": "public",
              "userID": ""
            },
            {
              "annotationRules": [],
              "chart": {
                "adjacencyList": "variable",
                "areaType": "hexbin",
                "barGrouping": "Clustered",
                "barLabel": "none",
                "barProjection": "vertical",
                "barSubcategory": "none",
                "baseLayer": "world",
                "baseLayerFill": "#FFFFFF",
                "baseLayerStroke": "#000000",
                "bgColor": "none",
                "bigNumberComparison": "raw",
                "bigNumberSecondMetric": "Y",
                "boundingSettings": {
                  "X": {
                    "lowerBoundingMetric": "none",
                    "upperBoundingMetric": "none"
                  },
                  "Y": {
                    "lowerBoundingMetric": "none",
                    "upperBoundingMetric": "none"
                  },
                  "index": {
                    "lowerBoundingMetric": "none",
                    "upperBoundingMetric": "none"
                  },
                  "value": {
                    "lowerBoundingMetric": "none",
                    "upperBoundingMetric": "none"
                  }
                },
                "boundingType": "absolute",
                "boxplotOutliers": false,
                "candleClose": "Y",
                "candleHigh": "Y",
                "candleLow": "Y",
                "candleOpen": "Y",
                "columnLine": false,
                "combinationMode": "AVG",
                "cspOrder": "value",
                "deselectedKeysHash": {},
                "dim1": "index",
                "dim2": "variable",
                "dim3": "none",
                "edgeMode": "edge list",
                "facetMetrics": [],
                "facets": [
                  {
                    "filtering": {
                      "filter": {
                        "column": "variable",
                        "predicate": "in",
                        "type": "DIMENSION_FILTER",
                        "value": [
                          "Kmeans_6groups"
                        ]
                      }
                    },
                    "name": "variable",
                    "title": "variable: Kmeans_6groups"
                  },
                  {
                    "filtering": {
                      "filter": {
                        "column": "variable",
                        "predicate": "in",
                        "type": "DIMENSION_FILTER",
                        "value": [
                          "DBSCAN_groups"
                        ]
                      }
                    },
                    "name": "variable",
                    "title": "variable: DBSCAN_groups"
                  }
                ],
                "filteredDataOnly": "All Data",
                "formulaDisplay": "none",
                "funnelColorMode": "node",
                "funnelData": "metric",
                "funnelDirection": "linear",
                "funnelMetricOrder": [
                  "X",
                  "Y",
                  "value",
                  "index"
                ],
                "funnelMode": "bar",
                "gridSize": 10,
                "groupOther": false,
                "hierarchyType": "dendrogram",
                "isBrushing": false,
                "labelType": "stem",
                "layerSettings": [
                  {
                    "color": "#000000",
                    "hoverOpts": {
                      "dims": [
                        "index",
                        "variable",
                        "value"
                      ],
                      "mets": [
                        "X",
                        "Y",
                        "value",
                        "index"
                      ]
                    },
                    "id": "7b60c9df-92fb-4cf5-be18-b84766bba8ef",
                    "latDim": "value",
                    "longDim": "X",
                    "pointSizeOpts": {
                      "max": 0.5996511678273684,
                      "met": "X",
                      "min": -0.49363217011552596,
                      "mode": "fixed",
                      "scale": "Linear",
                      "size": 2,
                      "sizeMax": 10,
                      "sizeMin": 1
                    },
                    "size": 2,
                    "stroke": "#000000",
                    "strokeWidth": 1,
                    "transparency": 0.9,
                    "type": "point"
                  }
                ],
                "lineInterpolator": "linear",
                "lineLabels": "none",
                "lineSmoothing": "none",
                "lineType": "line",
                "mapMode": "tile",
                "mapZoom": "basemap",
                "marginalGraphics": "none",
                "metric1": "X",
                "metric2": "Y",
                "metric3": "none",
                "metric4": "none",
                "multiAxisLine": false,
                "networkLabel": "none",
                "networkLabelContents": "id",
                "networkType": "force",
                "parCoordsColor": "none",
                "parcoordsColumns": [
                  "variable",
                  "index",
                  "X",
                  "Y",
                  "value"
                ],
                "pieLabelContents": "name",
                "pieLabelType": "rim",
                "primaryKey": [],
                "proBarMode": "Combined",
                "radarData": "row",
                "scatterplotColor": "none",
                "scatterplotSize": "none",
                "secondBarMetric": "none",
                "selectedDimensions": [
                  "variable"
                ],
                "selectedMetrics": [
                  "Y"
                ],
                "selectedMetricsDiverging": [],
                "showContours": false,
                "showTotal": true,
                "sortColumnsBy": "asc-val",
                "sparkchart": "none",
                "splitLinesBy": "none",
                "splomMode": "correlation",
                "summaryBins": 30,
                "summaryType": "violin",
                "surveyDataType": "row",
                "surveyResponses": {
                  "negative": [],
                  "neutral": [],
                  "positive": []
                },
                "tableSparklines": true,
                "tableStatistics": true,
                "textDataFormat": "sentence",
                "timeseriesSort": "X",
                "tokenMetric": "Y",
                "trendLine": "none",
                "violinIQR": false,
                "wordColor": "none",
                "wordData": "variable",
                "wordRotate": "none",
                "zeroBaseline": false
              },
              "chartMode": "scatter",
              "confoRules": [
                {
                  "colorOpts": {
                    "color": null,
                    "cond": null,
                    "gradient": "Viridis",
                    "max": 29,
                    "min": -1,
                    "mode": "threshold",
                    "scale": "Linear",
                    "thresholdColors": "blues5",
                    "thresholdValues": [
                      5.000000000000001,
                      11.000000000000002,
                      17,
                      23.000000000000004
                    ]
                  },
                  "columnType": "Metric",
                  "fieldName": "value",
                  "id": "cc09217d-1679-4386-a336-cbb34c2f5856",
                  "index": 0,
                  "name": ""
                },
                {
                  "colorOpts": {
                    "color": null,
                    "cond": null,
                    "gradient": "Viridis",
                    "max": 29,
                    "min": -1,
                    "mode": "gradient",
                    "scale": "Linear",
                    "thresholdColors": "blues5",
                    "thresholdValues": [
                      5.000000000000001,
                      11.000000000000002,
                      17,
                      23.000000000000004
                    ]
                  },
                  "columnType": "Metric",
                  "fieldName": "value",
                  "id": "f820a33e-18d1-465c-a744-7fc91549d1b2",
                  "index": 0,
                  "name": ""
                },
                {
                  "colorOpts": {
                    "color": null,
                    "cond": null,
                    "gradient": "Viridis",
                    "max": 8,
                    "min": -1,
                    "mode": "gradient",
                    "scale": "Linear",
                    "thresholdColors": "blues5",
                    "thresholdValues": [
                      0.8,
                      2.6,
                      4.3999999999999995,
                      6.2
                    ]
                  },
                  "columnType": "Metric",
                  "fieldName": "value",
                  "id": "2cfa234c-966b-4fa8-baff-20b89a179c04",
                  "index": 0,
                  "name": ""
                }
              ],
              "decoration": {
                "footer": "",
                "subtitle": "",
                "title": "Table"
              },
              "facets": [],
              "filterSettings": {
                "SHOW_FILTER_PANEL": true,
                "filters": []
              },
              "id": "first-view",
              "isDefault": true,
              "isTransitory": true,
              "type": "public",
              "userID": ""
            }
          ]
        }
      },
      "execution_count": null,
      "source": "df_mcinnes_tidy = (\n    df_mcinnes\n    .melt(id_vars=['X', 'Y'])\n    .with_columns(pl.col('value').cast(pl.Utf8).cast(pl.Categorical))\n)\n\n(\n    ggplot(data=df_mcinnes_tidy)\n    + geom_point(mapping = aes(x = 'X', y = 'Y', color = 'value'))\n    + facet_wrap(facets='variable', ncol=2)\n)",
      "outputs": []
    },
    {
      "id": "623783a4-3633-4be6-a900-e8663b49c7fc",
      "cell_type": "markdown",
      "source": "L'algorithme *kmeans* est loin d'être satisfaisant. Cela est attendu, puisque les *kmeans* recherchent des distributions gaussiennes sur des groupes vraisemblablement non gaussiens. *DBSCAN* ne fait qu'un peu mieux. Néanmoins, *DBSCAN* sait rejeter plusieurs points (étiquettés `-1`), que *kmeans* tente de classifier.",
      "metadata": {
        "noteable": {
          "cell_type": "markdown"
        }
      }
    },
    {
      "id": "07ae0adf-2aac-4307-967e-c652bd52b517",
      "cell_type": "markdown",
      "source": "### Partitionnement hiérarchique\n\nLes techniques de partitionnement hiérarchique sont basées sur les matrices d'association. La technique pour mesurer l'association (entre objets ou variables) déterminera en grande partie le partitionnement des données. Les partitionnements hiérarchiques ont l'avantage de pouvoir être représentés sous forme de dendrogramme (ou arbre) de partitions. Un tel dendrogramme présente des sous-groupes qui se joignent séquentiellement en groupes jusqu'à former un seul ensemble. Ou, inversement, un seul groupe qui se fragmente séquentiellement jusqu'à ce que chaque observation constitue elle-même un groupe.\n\nLe partitionnement hiérarchique est abondamment utilisé en phylogénie, pour étudier les relations de parenté entre organismes vivants, populations d'organismes et espèces.",
      "metadata": {
        "noteable": {
          "cell_type": "markdown"
        }
      }
    },
    {
      "id": "55dd25ad-467e-4e0a-94b0-e21628ba4909",
      "cell_type": "markdown",
      "source": "#### Techniques de partitionnement hiérarchique\n\nLe partitionnement hiérarchique est typiquement effectué avec une des quatres méthodes suivantes, dont chacune possède ses particularités, mais sont toutes agglomératives: à chaque étape d'agglomération, on fusionne les deux groupes ayant le plus d'affinité sur la base des deux sous-groupes les plus rapprochés.\n\n**Single link** (`single`). Les groupes sont agglomérés sur la base des deux points parmi les groupes, qui sont les plus proches.\n\n**Complete link** (`complete`). À la différence de la méthode *single*, on considère comme critère d'agglomération les éléments les plus éloignés de chaque groupe.\n\n**Agglomération centrale**. Il s'agit d'une fammille de méthode basées sur les différences entre les tendances centrales des objets ou des groupes.\n\n- **Average** (`average`). Appelée UPGMA (Unweighted Pair-Group Method unsing Average), les groupes sont agglomérés selon un centre calculés par la moyenne et le nombre d'objet pondère l'agglomération (le poids des groupes est retiré). Cette technique est historiquement utilisée en bioinformatique pour partitionner des groupes phylogénétiques ([Sneath et Sokal, 1973](https://www.cabdirect.org/cabdirect/abstract/19730310919)).\n- **Weighted** (`weighted`). La version de average, mais non pondérée (WPGMA).\n- **Centroid** (`centroid`). Tout comme average, mais le centroïde (centre géométrique) est utilisé au lieu de la moyenne. Accronyme: UPGMC.\n- **Median** (`median`). Appelée WPGMC. Devinez! ;)\n\n**Ward** (`ward`). L'optimisation vise à minimiser les sommes des carrés par regroupement.",
      "metadata": {
        "noteable": {
          "cell_type": "markdown"
        }
      }
    },
    {
      "id": "9759f6a7-547f-4fbd-a79b-da263bd527b9",
      "cell_type": "markdown",
      "source": "#### Quel outil de partitionnement hiérarchique utiliser?\n\nAlors que le choix de la matrice d'association dépend des données et de leur contexte, la technique de partitionnement hiérarchique peut, quant à elle, être basée sur un critère numérique. Il en existe plusieurs, mais le critère recommandé pour le choix d'une technique de partitionnement hiérarchique est la **corrélation cophénétique**. La distance cophénétique est la distance à laquelle deux objets ou deux sous-groupes deviennent membres d'un même groupe. La corrélation cophénétique est la corrélation de Pearson entre le vecteur d'association des objets et le vecteur de distances cophénétiques.",
      "metadata": {
        "noteable": {
          "cell_type": "markdown"
        }
      }
    },
    {
      "id": "6880053d-fa69-43b3-a2f7-262d2041b530",
      "cell_type": "markdown",
      "source": "#### Application\n\nLes techniques de partitionnement hiérarchique présentées ci-dessus, ainsi que la fonction `cophenet` pour calculer la corrélation cophénétique, sont disponibles dans `scipy.cluster.hierarchy`. Nous allons classifier les données de McInnes grâce à la distance de Mahalabonis.",
      "metadata": {
        "noteable": {
          "cell_type": "markdown"
        }
      }
    },
    {
      "id": "2a42fcb0-de2f-4039-a799-b6f48a08d6fb",
      "cell_type": "code",
      "metadata": {
        "noteable": {
          "cell_type": "python",
          "output_collection_id": "57d118e7-c745-4bd8-b1fa-2dbb578cba18"
        },
        "ExecuteTime": {
          "end_time": "2023-07-14T01:30:05.308095+00:00",
          "start_time": "2023-07-14T01:30:03.886392+00:00"
        },
        "datalink": {
          "dfd5b338-9fdf-44f3-9cfa-13b51af4fc50": {
            "applied_filters": [],
            "dataframe_info": {
              "default_index_used": true,
              "orig_num_cols": 2,
              "orig_num_rows": 7,
              "orig_size_bytes": 168,
              "truncated_num_cols": 2,
              "truncated_num_rows": 7,
              "truncated_size_bytes": 168,
              "truncated_string_columns": []
            },
            "display_id": "dfd5b338-9fdf-44f3-9cfa-13b51af4fc50",
            "dx_settings": {
              "ALLOW_NOTEABLE_ATTRS": true,
              "COLUMN_SAMPLING_METHOD": "outer",
              "DB_LOCATION": ":memory:",
              "DEV_MODE": false,
              "DISPLAY_MAX_COLUMNS": 100,
              "DISPLAY_MAX_ROWS": 50000,
              "DISPLAY_MODE": "simple",
              "ENABLE_ASSIGNMENT": true,
              "ENABLE_DATALINK": true,
              "FLATTEN_COLUMN_VALUES": true,
              "FLATTEN_INDEX_VALUES": false,
              "GENERATE_DEX_METADATA": false,
              "HTML_TABLE_SCHEMA": false,
              "LOG_LEVEL": 30,
              "MAX_RENDER_SIZE_BYTES": 104857600,
              "MAX_STRING_LENGTH": 250,
              "NUM_PAST_SAMPLES_TRACKED": 3,
              "RANDOM_STATE": 12648430,
              "RESET_INDEX_VALUES": false,
              "ROW_SAMPLING_METHOD": "random",
              "SAMPLING_FACTOR": 0.1,
              "SAMPLING_METHOD": "random",
              "STRINGIFY_COLUMN_VALUES": true,
              "STRINGIFY_INDEX_VALUES": false
            },
            "sample_history": [],
            "sampling_time": "2023-06-21T18:26:29.712260",
            "user_variable_name": null,
            "variable_name": "unk_dataframe_0cb0f5704c5040908499adde0b97773a"
          }
        }
      },
      "execution_count": null,
      "source": "from scipy.cluster.hierarchy import *\n\nmcinnes_hclust_distmat = pdist(df_mcinnes.select(['X', 'Y']), 'mahalanobis')\n\nclustering_methods = ['single', 'complete', 'average', 'weighted', 'centroid', 'median', 'ward']\nclust_l = []\ncoph_corr_l = []\nfor i in range(len(clustering_methods)):\n    clust_m = linkage(y=mcinnes_hclust_distmat, method=clustering_methods[i])\n    clust_l.append(clust_m)\n    coph_corr_l.append(cophenet(clust_m, mcinnes_hclust_distmat)[0])\n\n# créer un dictionnaire avec les listes\nclust_d = dict(zip(clustering_methods, clust_l))\ncoph_corr_d = dict(zip(clustering_methods, coph_corr_l))\n\n# créer un tableau grâce au dictionnaire\ncoph_corr_df = (\n    pl.DataFrame(coph_corr_d)\n    .melt()\n    .with_columns(pl.col('value').round(2).cast(pl.Utf8).alias('label'))\n)\n\n# graphique\n(\n    ggplot(coph_corr_df, aes(x='value', y='variable'))\n    + geom_vline(xintercept=0)\n    + geom_lollipop(orientation='y', size=7)\n    + geom_text(aes(label='label'), hjust='center', vjust='center')\n)\n",
      "outputs": []
    },
    {
      "id": "300d4858-90e0-4491-9e50-c18c09270e83",
      "cell_type": "markdown",
      "source": "La méthode `average` retourne la corrélation la plus élevée. Pour plus de flexibilité, enchâssons le nom de la méthode dans une variable. Ainsi, en changeant le nom de cette variable, le reste du code sera conséquent.",
      "metadata": {
        "noteable": {
          "cell_type": "markdown"
        }
      }
    },
    {
      "id": "2a41f461-63cf-4ce1-a897-af547a838ec7",
      "cell_type": "code",
      "metadata": {
        "jupyter": {
          "outputs_hidden": false,
          "source_hidden": false
        },
        "noteable": {
          "cell_type": "code",
          "output_collection_id": "a2a3192a-7eea-47bf-8ce7-f4d8be31098f"
        },
        "ExecuteTime": {
          "end_time": "2023-07-14T01:30:34.684183+00:00",
          "start_time": "2023-07-14T01:30:34.528034+00:00"
        }
      },
      "execution_count": null,
      "source": "best_method = 'average'",
      "outputs": []
    },
    {
      "id": "9c23e792-042a-4ecc-a117-c0cc68cf3402",
      "cell_type": "markdown",
      "source": "Le partitionnement hiérarchique peut être visualisé par un dendrogramme avec le module graphique *Matplotlib*.",
      "metadata": {
        "noteable": {
          "cell_type": "markdown"
        }
      }
    },
    {
      "id": "413c5992-16f4-40e0-9316-e635d6ab8ca5",
      "cell_type": "code",
      "metadata": {
        "jupyter": {
          "outputs_hidden": false,
          "source_hidden": false
        },
        "noteable": {
          "cell_type": "code",
          "output_collection_id": "f19616be-526f-4f38-a52f-f305e61678e9"
        },
        "ExecuteTime": {
          "end_time": "2023-07-14T01:31:12.460245+00:00",
          "start_time": "2023-07-14T01:30:39.960308+00:00"
        }
      },
      "execution_count": null,
      "source": "import matplotlib.pyplot as plt\n\nplt.figure(figsize=(20, 6))\ndnd = dendrogram(clust_d[best_method], color_threshold=0, leaf_font_size=8)\nplt.xlabel('Sample')\nplt.ylabel('Height');",
      "outputs": []
    },
    {
      "id": "c3b3821a-0674-456e-afd6-494ca18a37b1",
      "cell_type": "markdown",
      "source": "#### Combien de groupes utiliser ?\n\nLa longueur des lignes verticales est la distance séparant les groupes enfants. Bien que la sélection du nombre de groupes soit avant tout basée sur les besoins du problème, nous pouvons nous appuyer sur certains outils. La hauteur totale peut servir de critère pour définir un nombre de groupes adéquat. On pourra sélectionner le nombre de groupes où la hauteur se stabilise en fonction du nombre de groupes. On pourra aussi utiliser le *graphique silhouette*, comprenant une collection de *largeurs de silouhette*, représentant le degré d'appartenance à son groupe. La fonction `sklearn.metrics.silhouette_score`, du module scikit-learn, s'en occupe.\n",
      "metadata": {
        "noteable": {
          "cell_type": "markdown"
        }
      }
    },
    {
      "id": "8e5f7ef0-eca5-407c-a47f-ef47c05c9b2e",
      "cell_type": "code",
      "metadata": {
        "jupyter": {
          "outputs_hidden": false,
          "source_hidden": false
        },
        "noteable": {
          "cell_type": "code",
          "output_collection_id": "1b9f2756-7c66-4a94-be5d-fca0dca1bb68"
        },
        "ExecuteTime": {
          "end_time": "2023-07-14T01:32:33.685940+00:00",
          "start_time": "2023-07-14T01:32:26.616075+00:00"
        }
      },
      "execution_count": null,
      "source": "silouhette = []\nmax_clus = 20\nn_clust = list(range(3, max_clus))\nfor i in n_clust:\n    nodes_f = fcluster(Z=clust_d[best_method], t=i, criterion='maxclust')\n    silouhette.append(metrics.silhouette_score(df_mcinnes.select(['X', 'Y']), nodes_f, metric='euclidean'))\n\nsilouhette_scores_df = (\n    pl.DataFrame({\n        'Number of clusters': n_clust,\n        'score': silouhette\n    })\n    .with_columns(pl.Series(np.repeat('Silouhette', len(n_clust))).alias('variable'))\n)\n\n(\n    ggplot(silouhette_scores_df, aes(x='Number of clusters', y='score'))\n    + geom_point()\n    + geom_line()\n)",
      "outputs": []
    },
    {
      "id": "6c7dd7da-7a50-4b0e-8671-70e8e2dfaf4b",
      "cell_type": "markdown",
      "source": "Le maximum est atteint à 2 groupes, mais on peut se permettre d'en avoir davantage, disons 9. L'algorithme de la fonction `dendrogram()` demande non pas le nombre de groupes, mais la hauteur à laquelle trancher sur l'axe des y. Pour retrouver la hauteur à laquelle couper pour obtenir 12 groupes, on peut tester plusieurs hauteurs, calculer le nombre de groupes, puis extraire la hauteur que l'on recherche.",
      "metadata": {
        "noteable": {
          "cell_type": "markdown"
        }
      }
    },
    {
      "id": "d411f3a0-0eaf-4f68-8c80-0d269677b4cb",
      "cell_type": "code",
      "metadata": {
        "jupyter": {
          "outputs_hidden": false,
          "source_hidden": false
        },
        "noteable": {
          "cell_type": "code",
          "output_collection_id": "54da10cf-b8cc-487a-9d81-84a3fed0d6ae"
        },
        "ExecuteTime": {
          "end_time": "2023-07-14T01:33:37.079258+00:00",
          "start_time": "2023-07-14T01:33:04.035646+00:00"
        },
        "scrolled": false
      },
      "execution_count": null,
      "source": "number_of_groups_hclust = 9\nheights_test = np.logspace(-0.5, 0.5, 100)\nn_groups = []\nfor h in heights_test:\n    nodes_f = fcluster(Z=clust_d[best_method], t=h, criterion='distance')\n    n_groups.append(len(np.unique(nodes_f)))\n    \ncut_off = heights_test[np.array(n_groups) == number_of_groups_hclust].mean()\nplt.figure(figsize=(15, 5))\ndendrogram(\n    clust_d[best_method],\n    leaf_rotation=90,\n    color_threshold=cut_off,\n    above_threshold_color='black'\n)\nplt.axhline(y=cut_off, c='grey', linestyle='dashed')\nplt.ylabel('Height');",
      "outputs": []
    },
    {
      "id": "e236d8d6-eb7d-4d43-b9b6-8ad5e6b9ded4",
      "cell_type": "markdown",
      "source": "Intégrons les résultats à notre tableau.",
      "metadata": {
        "noteable": {
          "cell_type": "markdown"
        }
      }
    },
    {
      "id": "54ef0249-114c-4efa-a6b0-d19ac511284e",
      "cell_type": "code",
      "metadata": {
        "jupyter": {
          "outputs_hidden": false,
          "source_hidden": false
        },
        "noteable": {
          "cell_type": "code",
          "output_collection_id": "9b7be58b-ee94-4ffd-a44f-223d4cc378c4"
        },
        "ExecuteTime": {
          "end_time": "2023-07-14T01:33:44.843981+00:00",
          "start_time": "2023-07-14T01:33:44.680619+00:00"
        },
        "datalink": {
          "a7a0ac23-4ebf-4c0d-a238-553ff0f667d2": {
            "applied_filters": [],
            "dataframe_info": {
              "default_index_used": true,
              "orig_num_cols": 5,
              "orig_num_rows": 2309,
              "orig_size_bytes": 92360,
              "truncated_num_cols": 5,
              "truncated_num_rows": 2309,
              "truncated_size_bytes": 92360,
              "truncated_string_columns": []
            },
            "display_id": "a7a0ac23-4ebf-4c0d-a238-553ff0f667d2",
            "dx_settings": {
              "ALLOW_NOTEABLE_ATTRS": true,
              "COLUMN_SAMPLING_METHOD": "outer",
              "DB_LOCATION": ":memory:",
              "DEV_MODE": false,
              "DISPLAY_MAX_COLUMNS": 100,
              "DISPLAY_MAX_ROWS": 50000,
              "DISPLAY_MODE": "simple",
              "ENABLE_ASSIGNMENT": true,
              "ENABLE_DATALINK": true,
              "FLATTEN_COLUMN_VALUES": true,
              "FLATTEN_INDEX_VALUES": false,
              "GENERATE_DEX_METADATA": false,
              "HTML_TABLE_SCHEMA": false,
              "LOG_LEVEL": 30,
              "MAX_RENDER_SIZE_BYTES": 104857600,
              "MAX_STRING_LENGTH": 250,
              "NUM_PAST_SAMPLES_TRACKED": 3,
              "RANDOM_STATE": 12648430,
              "RESET_INDEX_VALUES": false,
              "ROW_SAMPLING_METHOD": "random",
              "SAMPLING_FACTOR": 0.1,
              "SAMPLING_METHOD": "random",
              "STRINGIFY_COLUMN_VALUES": true,
              "STRINGIFY_INDEX_VALUES": false
            },
            "sample_history": [],
            "sampling_time": "2023-06-21T19:39:41.233046",
            "user_variable_name": null,
            "variable_name": "unk_dataframe_996ef84b8c034d62ac5c90193b4ac12b"
          }
        }
      },
      "execution_count": null,
      "source": "df_mcinnes = (\n    df_mcinnes\n    .with_columns(\n        pl.Series(fcluster(Z=clust_d[best_method], t=number_of_groups_hclust, criterion='maxclust'))\n        .alias('hclust_groups')\n    )\n)",
      "outputs": []
    },
    {
      "id": "2f961fc1-3df0-4893-a75b-cc92ec21fdab",
      "cell_type": "markdown",
      "source": "### Partitionnement hiérarchique basée sur la densité des points\nLa tecchinque HDBSCAN, dont l'algorithme est relativement récent ([Campello et al., 2013](https://link.springer.com/chapter/10.1007%2F978-3-642-37456-2_14)), permet une partitionnement hiérarchique sur le même principe des zones de densité de la technique DBSCAN. Le HDBSCAN a été utilisée pour partitionner les lieux d'escale d'oiseaux migrateurs en Chine ([Xu et al., 2013](https://www.jstage.jst.go.jp/article/dsj/12/0/12_WDS-027/_article)).\n\nAvec *DBSCAN*, un rayon est fixé dans une métrique appropriée. Pour chaque point, on compte le nombre de points voisins, c'est-à-dire le nombre de points se situant à une distance (ou une dissimilarité) égale ou inférieure au rayon fixé. Avec *HDBSCAN*, on spécifie le nombre de points devant être recouverts et l'on calcule le rayon nécessaire pour les recouvrir. Ainsi, chaque point est associé à un rayon critique que l'on nommera d<sub>noyau</sub>. La métrique initiale est ensuite altérée : on remplace les associations entre deux objets A et B par la valeur maximale entre cette association, le rayon critique de A et le rayon critique de B. Cette nouvelle distance est appelée la *distance d'atteinte mutuelle* : elle accentue les distances pour les points se trouvant dans des zones peu denses. On applique par la suite un algorithme semblable à la partition hiérarchique *single link* : En s'élargissant, les rayons se superposent, chaque superposition de rayon forment graduellement des groupes qui s'agglomèrent ainsi de manière hiérarchique. Au lieu d'effectuer une tranche à une hauteur donnée dans un dendrogramme de partitionnement, la technique *HDBSCAN* se base sur un dendrogramme condensé qui écarte les sous-groupes comprenant moins de *n* objets (n<sub>grmin</sub>). Dans nouveau dendrogramme, on recherche des groupes qui occupent bien l'espace d'analyse. Pour ce faire, on utilise l'inverse de la distance pour créer un indicateur de *persistance* (semblable à la similarité), λ. Pour chaque groupe hiérarchique dans le dendrogramme condensé, on peut calculer la persistance duquel le groupe prend naissance. De plus, pour chaque objet d'un groupe, on peut aussi calculer une distance à laquelle il quitte le groupe. La *stabilité* d'un groupe est la somme des différences de persistance entre la persistance à la naissance et les persistances des objets. On descend dans le dendrogramme. Si la somme des stabilités des groupes enfants est plus grande que la stabilité du groupe parent, on accepte la division. Sinon, le parent forme le groupe. La [documentation du module `hdbscan`](http://hdbscan.readthedocs.io/en/latest/how_hdbscan_works.html) pour Python offre une description intuitive et plus exhaustive des principes et algorithme de *HDBSCAN*.",
      "metadata": {
        "noteable": {
          "cell_type": "markdown"
        }
      }
    },
    {
      "id": "882d0ff0-af63-40d5-b990-897e01455c53",
      "cell_type": "markdown",
      "source": "#### Paramètres\n\nOutre la métrique d'association dont nous avons discuté, HDBSCAN demande d'être nourri avec [quelques paramètres importants](http://hdbscan.readthedocs.io/en/latest/parameter_selection.html). En particulier, le **nombre minimum d'objets par groupe**, n<sub>grmin</sub> (ou `min_cluster_size` dans le module `hdbscan`) dépend de la quantité de données que vous avez à votre disposition, ainsi que de la quantité d'objets que vous jugez suffisante pour créer des groupes. Ce paramètre a évedemment une influence sur le nombre de groupes formés, mais aussi sur la quantité de valeurs aberrantes détectées. Un autre paramètre important est le **nombre de points devant être recouverts**, k (`min_samples` dans `hdbscan`). Plus k est élevé, plus la densité nécessaire pour créer un groupe sera élevée et plus HDBSCAN désignera de points somme du bruit. Parmi les **algorithmes de sélection des groupes** du module `hdbscan`, on retrouve l'*excess of mass* (`cluster_selection_method='eom'`, par défaut) qui a tendance à créer des groupes de tailles différentes, et *leaf* (`cluster_selection_method='leaf'`) qui permet de créer des groupes comprenant des quantités d'objets plus homogènes.",
      "metadata": {
        "noteable": {
          "cell_type": "markdown"
        }
      }
    },
    {
      "id": "9b8e6cb6-9567-4da4-a2ea-d190b3e43277",
      "cell_type": "markdown",
      "source": "#### Application\n\nUtilisons le module `hdbscan` ainsi que les données de Leland McInnes. La métrique utilisée sera la distance de Mahalanobis. Les métriques disponibles sont [celles de scikit-learn](http://hdbscan.readthedocs.io/en/latest/basic_hdbscan.html). Il est néamoins possible d'utiliser une métrique personalisée (Gower, par exemple) en utilisant la matrice d'association en guise de données et en spécifiant `metric='precomputed'`.",
      "metadata": {
        "noteable": {
          "cell_type": "markdown"
        }
      }
    },
    {
      "id": "c02409b9-fc77-4b05-870d-f21632cca0e5",
      "cell_type": "code",
      "metadata": {
        "noteable": {
          "cell_type": "python",
          "output_collection_id": "8eacf5da-3dbe-4987-8fc4-36aa0c6642a6"
        },
        "ExecuteTime": {
          "end_time": "2023-07-14T01:36:54.198077+00:00",
          "start_time": "2023-07-14T01:36:53.771563+00:00"
        }
      },
      "execution_count": null,
      "source": "import hdbscan\n\ncov_mcinnes = np.cov(df_mcinnes.select(['X', 'Y']).to_numpy().T) # pour utiliser la dist. de Mahalanobis\n\nhdbscan_clust = hdbscan.HDBSCAN(\n    min_cluster_size=20, # le nombre de point minimum par groupe\n    min_samples=5, # le nombre de points dans le voisinage pour calculer le \"rayon noyau\"\n    metric='mahalanobis',\n    V = cov_mcinnes,\n    gen_min_span_tree=True\n)\nhdbscan_clust.fit(df_mcinnes.select(['X', 'Y']))",
      "outputs": []
    },
    {
      "id": "a1d36eb2-6c60-4a17-92b0-3089b9dae8e5",
      "cell_type": "markdown",
      "source": "On peut ainsi créer un dendrogramme où les ellipses représentent les groupes.",
      "metadata": {
        "noteable": {
          "cell_type": "markdown"
        }
      }
    },
    {
      "id": "896a54de-cb37-4690-99c5-3e98e10a317b",
      "cell_type": "code",
      "metadata": {
        "jupyter": {
          "outputs_hidden": false,
          "source_hidden": false
        },
        "noteable": {
          "cell_type": "code",
          "output_collection_id": "403ade03-0a8f-4fa2-b5fa-6f72f29a9c16"
        },
        "ExecuteTime": {
          "end_time": "2023-07-14T01:37:05.405270+00:00",
          "start_time": "2023-07-14T01:37:04.115003+00:00"
        }
      },
      "execution_count": null,
      "source": "plt.figure(figsize=(15, 5))\nhdbscan_clust.condensed_tree_.plot(select_clusters=True);",
      "outputs": []
    },
    {
      "id": "980161a3-889d-405e-a999-c699768153e8",
      "cell_type": "markdown",
      "source": "On insère de regroupement dans notre tableau, puis on compare tous nos algorithmes de partitionnement!",
      "metadata": {
        "noteable": {
          "cell_type": "markdown"
        }
      }
    },
    {
      "id": "9fecbe2c-f234-4c99-a384-e4124c4265f7",
      "cell_type": "code",
      "metadata": {
        "jupyter": {
          "outputs_hidden": false,
          "source_hidden": false
        },
        "noteable": {
          "cell_type": "code",
          "output_collection_id": "6f784a41-af7b-4ca0-9ebb-efc8f7ec5e90"
        },
        "ExecuteTime": {
          "end_time": "2023-07-14T01:38:25.476466+00:00",
          "start_time": "2023-07-14T01:38:24.900274+00:00"
        },
        "datalink": {
          "93e095b5-ea96-411f-a4a9-7dbabf1ba9bd": {
            "applied_filters": [],
            "dataframe_info": {
              "default_index_used": true,
              "orig_num_cols": 6,
              "orig_num_rows": 2309,
              "orig_size_bytes": 110832,
              "truncated_num_cols": 6,
              "truncated_num_rows": 2309,
              "truncated_size_bytes": 110832,
              "truncated_string_columns": []
            },
            "display_id": "93e095b5-ea96-411f-a4a9-7dbabf1ba9bd",
            "dx_settings": {
              "ALLOW_NOTEABLE_ATTRS": true,
              "COLUMN_SAMPLING_METHOD": "outer",
              "DB_LOCATION": ":memory:",
              "DEV_MODE": false,
              "DISPLAY_MAX_COLUMNS": 100,
              "DISPLAY_MAX_ROWS": 50000,
              "DISPLAY_MODE": "simple",
              "ENABLE_ASSIGNMENT": true,
              "ENABLE_DATALINK": true,
              "FLATTEN_COLUMN_VALUES": true,
              "FLATTEN_INDEX_VALUES": false,
              "GENERATE_DEX_METADATA": false,
              "HTML_TABLE_SCHEMA": false,
              "LOG_LEVEL": 30,
              "MAX_RENDER_SIZE_BYTES": 104857600,
              "MAX_STRING_LENGTH": 250,
              "NUM_PAST_SAMPLES_TRACKED": 3,
              "RANDOM_STATE": 12648430,
              "RESET_INDEX_VALUES": false,
              "ROW_SAMPLING_METHOD": "random",
              "SAMPLING_FACTOR": 0.1,
              "SAMPLING_METHOD": "random",
              "STRINGIFY_COLUMN_VALUES": true,
              "STRINGIFY_INDEX_VALUES": false
            },
            "sample_history": [],
            "sampling_time": "2023-06-21T21:14:51.145575",
            "user_variable_name": null,
            "variable_name": "unk_dataframe_aa90334fc18f49f0ab237a42d972bb79"
          }
        }
      },
      "execution_count": null,
      "source": "df_mcinnes = (\n    df_mcinnes\n    .with_columns(pl.Series(hdbscan_clust.labels_).alias('hdbscan_groups'))\n)\n\ndf_mcinnes_tidy = (\n    df_mcinnes\n    .melt(id_vars=['X', 'Y'])\n    .with_columns(pl.col('value').cast(pl.Utf8).cast(pl.Categorical))\n)\n\n(\n    ggplot(data=df_mcinnes_tidy)\n    + geom_point(mapping = aes(x = 'X', y = 'Y', color = 'value'))\n    + facet_wrap(facets='variable', ncol=2)\n)",
      "outputs": []
    },
    {
      "id": "b3ca1f7f-30ff-45d9-9a26-ba38cc727a4c",
      "cell_type": "markdown",
      "source": "Le *DBSCAN* fonctionne bien, mais j'ai dû ajuster les paramètres pour avoir une disposition visuelle conforme à mes attentes, ce qui est difficile avec des données multi-dimensionnelles. À l'image des *kmeans* Le partitionnement hiérarchique performe plutôt mal, mais il a l'avantage de pouvoir être investigué à l'aide d'un dendrogramme. Le *HDBSCAN*, quant à lui, fonctionne très bien sans avoir besoin d'être scrupuleusement paramétré.",
      "metadata": {
        "noteable": {
          "cell_type": "markdown"
        }
      }
    }
  ]
}