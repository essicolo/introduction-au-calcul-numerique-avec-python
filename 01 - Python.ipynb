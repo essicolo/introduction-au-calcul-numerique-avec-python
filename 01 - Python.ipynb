{
  "cells": [
    {
      "cell_type": "markdown",
      "id": "6cb4449b",
      "metadata": {},
      "source": [
        "# Python\n",
        "\n",
        "Le python est une famille de reptile avec pas de pattes comprenant 10 espèces. Mais [Python](https://www.python.org/about/) est un langage de programmation lancé en 1991 par Guido van Rossum, un fan du groupe d'humoristes britanniques Mounty Python.\n",
        "\n",
        "[Selon le magasine Forbes](https://www.forbes.com/sites/forbestechcouncil/2022/12/28/what-your-software-partner-should-know-the-top-programming-languages-of-2023/?sh=2e55ee55182b), Python est le langage de programmation le plus en demande en 2023. Il s'agit d'un langage dynamique, c'est-à-dire que le code peut être exécuté ligne par ligne ou bloc par bloc: un avantage majeur pour des activités qui nécessitent des interactions fréquentes. Python s'impose non seulement pour créer des applications, mais aussi comme outil de calcul scientifique."
      ]
    },
    {
      "cell_type": "markdown",
      "id": "d1473424",
      "metadata": {},
      "source": [
        "## Installer Python\n",
        "\n",
        "Si vous devez installer Python localement, je suggère la distribution [Mambaforge](https://mamba.readthedocs.io/en/latest/installation.html). Si toutefois vous vous satisfaites d'une plateforme de calcul infonuagique, comme nous le ferons ici, [Hex](hex.tech) et [Deepnote](deepnote.com) sont de très bons choix (il y en a [tout plein](datasciencenotebook.org) d'autres)."
      ]
    },
    {
      "cell_type": "markdown",
      "id": "5843b4c7",
      "metadata": {},
      "source": [
        "## Premiers pas avec Python\n",
        "\n",
        "Ce que nous entreprendrons comme calculs sera effectué à même un *notebook* (ou feuille/carnet de calcul). Nous ne toucherons pas au Terminal. Pour lancer une cellule de code, appuyez sur `Ctrl+Enter` pour exécuter la cellule sélectionnée ou bien `Shift+Enter` pour exécuter et passer à la suivante."
      ]
    },
    {
      "cell_type": "markdown",
      "id": "8cea9ad9",
      "metadata": {},
      "source": [
        "> \"La liberté, c’est la liberté de dire que deux et deux font quatre. Si cela est accordé, tout le reste suit.\" - George Orwell, 1984"
      ]
    },
    {
      "cell_type": "code",
      "execution_count": 7,
      "id": "13b2e5cf",
      "metadata": {
        "ExecuteTime": {
          "end_time": "2023-07-13T18:19:18.304458+00:00",
          "start_time": "2023-07-13T18:19:18.145542+00:00"
        },
        "inputHidden": false,
        "noteable": {},
        "outputHidden": false
      },
      "outputs": [
        {
          "data": {
            "text/plain": [
              "4"
            ]
          },
          "execution_count": null,
          "metadata": {},
          "output_type": "execute_result"
        }
      ],
      "source": [
        "2 + 2"
      ]
    },
    {
      "cell_type": "markdown",
      "id": "54b00385-25d2-4d5a-94c7-d577be2ca2df",
      "metadata": {
        "noteable": {
          "cell_type": "markdown"
        }
      },
      "source": [
        "☑️ Test d'Orwell, check!"
      ]
    },
    {
      "cell_type": "code",
      "execution_count": 8,
      "id": "e9f1733b",
      "metadata": {
        "ExecuteTime": {
          "end_time": "2023-07-13T18:19:41.821624+00:00",
          "start_time": "2023-07-13T18:19:41.661088+00:00"
        },
        "inputHidden": false,
        "noteable": {},
        "outputHidden": false
      },
      "outputs": [
        {
          "data": {
            "text/plain": [
              "110.3"
            ]
          },
          "execution_count": null,
          "metadata": {},
          "output_type": "execute_result"
        }
      ],
      "source": [
        "67.1 + 43.2"
      ]
    },
    {
      "cell_type": "code",
      "execution_count": 9,
      "id": "0922e12a",
      "metadata": {
        "ExecuteTime": {
          "end_time": "2023-07-13T18:07:42.403388+00:00",
          "start_time": "2023-07-13T18:07:42.245005+00:00"
        },
        "inputHidden": false,
        "noteable": {},
        "outputHidden": false
      },
      "outputs": [
        {
          "data": {
            "text/plain": [
              "8"
            ]
          },
          "execution_count": null,
          "metadata": {},
          "output_type": "execute_result"
        }
      ],
      "source": [
        "2 * 4"
      ]
    },
    {
      "cell_type": "code",
      "execution_count": 10,
      "id": "da93ab44",
      "metadata": {
        "ExecuteTime": {
          "end_time": "2023-07-13T18:16:59.806168+00:00",
          "start_time": "2023-07-13T18:16:59.646413+00:00"
        },
        "inputHidden": false,
        "noteable": {},
        "outputHidden": false
      },
      "outputs": [
        {
          "data": {
            "text/plain": [
              "64"
            ]
          },
          "execution_count": null,
          "metadata": {},
          "output_type": "execute_result"
        }
      ],
      "source": [
        "2**6 # deux exposant 6"
      ]
    },
    {
      "cell_type": "code",
      "execution_count": 11,
      "id": "c71c078d",
      "metadata": {
        "ExecuteTime": {
          "end_time": "2023-07-13T18:18:13.544412+00:00",
          "start_time": "2023-07-13T18:18:13.385473+00:00"
        },
        "inputHidden": false,
        "noteable": {},
        "outputHidden": false
      },
      "outputs": [
        {
          "data": {
            "text/plain": [
              "0.5"
            ]
          },
          "execution_count": null,
          "metadata": {},
          "output_type": "execute_result"
        }
      ],
      "source": [
        "1 / 2"
      ]
    },
    {
      "cell_type": "markdown",
      "id": "46bf438f",
      "metadata": {},
      "source": [
        "Tout va bien pour l'instant. Remarquez que la dernière opération comporte des espaces entre les nombres et l'opérateur `/`. Dans ce cas (ce n'est pas toujours le cas), les espaces ne signifient rien - il est même suggéré de les placer pour éclaircir le code, ce qui est utile lorsque les équations sont complexes. Puis, après l'opération `2**4`, j'ai placé le symbole `#` suivi d'une note. Le symbole `#` est interprété par Python comme un ordre de ne pas considérer ce qui le suit. Cela est très utile pour insérer à même le code des commentaires pertinents pour mieux comprendre les opérations. Mais en programmation littéraire, mieux vaut commenter dans des cellules de texte.\n",
        "\n",
        "Assigner des objets à des variables est fondamental en programmation. Par exemple."
      ]
    },
    {
      "cell_type": "code",
      "execution_count": 5,
      "id": "5e05cc7b",
      "metadata": {
        "ExecuteTime": {
          "end_time": "2023-07-13T19:37:30.404345+00:00",
          "start_time": "2023-07-13T19:37:30.248044+00:00"
        },
        "collapsed": true,
        "inputHidden": false,
        "noteable": {},
        "outputHidden": false
      },
      "outputs": [],
      "source": [
        "a = 3"
      ]
    },
    {
      "cell_type": "markdown",
      "id": "420485a5",
      "metadata": {},
      "source": [
        "Techniquement, `a` pointe vers le nombre entier 3. Conséquemment, on peut effectuer des opérations sur `a`."
      ]
    },
    {
      "cell_type": "code",
      "execution_count": 6,
      "id": "931acb84",
      "metadata": {
        "ExecuteTime": {
          "end_time": "2023-07-13T18:20:22.419015+00:00",
          "start_time": "2023-07-13T18:20:22.261078+00:00"
        },
        "inputHidden": false,
        "noteable": {},
        "outputHidden": false
      },
      "outputs": [
        {
          "data": {
            "text/plain": [
              "13.200000000000001"
            ]
          },
          "execution_count": null,
          "metadata": {},
          "output_type": "execute_result"
        }
      ],
      "source": [
        "a * 6"
      ]
    },
    {
      "cell_type": "code",
      "execution_count": 7,
      "id": "23cd9cd3",
      "metadata": {
        "ExecuteTime": {
          "end_time": "2023-07-13T18:00:46.142664+00:00",
          "start_time": "2023-07-13T18:00:45.966944+00:00"
        },
        "inputHidden": false,
        "noteable": {},
        "outputHidden": false
      },
      "outputs": [
        {
          "ename": "NameError",
          "evalue": "name 'A' is not defined",
          "output_type": "error",
          "traceback": [
            "\u001b[0;31m---------------------------------------------------------------------------\u001b[0m",
            "\u001b[0;31mNameError\u001b[0m                                 Traceback (most recent call last)",
            "Cell \u001b[0;32mIn[19], line 1\u001b[0m\n\u001b[0;32m----> 1\u001b[0m \u001b[43mA\u001b[49m \u001b[38;5;241m+\u001b[39m \u001b[38;5;241m2\u001b[39m\n",
            "\u001b[0;31mNameError\u001b[0m: name 'A' is not defined"
          ]
        }
      ],
      "source": [
        "A + 2"
      ]
    },
    {
      "cell_type": "markdown",
      "id": "909f964f",
      "metadata": {},
      "source": [
        "Le message d'erreur nous dit que `A` n'est pas défini. Sa version minuscule, `a`, l'est pourtant. La raison est que Python considère la *case* dans la définition des objets. Utiliser la mauvaise case mène donc à des erreurs.\n",
        "\n",
        "Le nom d'une variable doit toujours commencer par une lettre, et ne doit pas contenir de caractères réservés (espaces, `+`, `*`, `.`). Par convention, les objets qui commencent par une lettre majuscules sont utilisés pour définir des classes (modules), utiles pour le développement de logiciels, mais rarement utilisés dans le cadre d'un feuille de calcul scientifique."
      ]
    },
    {
      "cell_type": "code",
      "execution_count": 8,
      "id": "12d1516e",
      "metadata": {
        "ExecuteTime": {
          "end_time": "2023-07-13T18:02:44.239844+00:00",
          "start_time": "2023-07-13T18:02:44.078790+00:00"
        },
        "noteable": {}
      },
      "outputs": [
        {
          "data": {
            "text/plain": [
              "15000"
            ]
          },
          "execution_count": null,
          "metadata": {},
          "output_type": "execute_result"
        }
      ],
      "source": [
        "rendement_arbre = 50 \n",
        "nombre_arbre = 300 \n",
        "nombre_pomme = rendement_arbre * nombre_arbre\n",
        "nombre_pomme"
      ]
    },
    {
      "cell_type": "markdown",
      "id": "741757af",
      "metadata": {},
      "source": [
        "## Types de données\n",
        "\n",
        "Jusqu'à maintenant, nous n'avons utilisé que des **nombres entiers** (*integer* ou `int`) et des **nombres réels** (*float* ou `float64`). Python inclue d'autres types. La **chaîne de caractère** (*string*) est un ou plusieurs symboles. Elle est définie entre des double-guillemets `\" \"` ou des apostrophes `' '`. Il n'existe pas de standard sur l'utilisation de l'un ou de l'autre, mais en règle générale, on utilise les apostrophe pour les experssions courtes, contenant un simple mot ou séquence de lettres, et les guillements pour les phrases. Une raison pour cela: les guillemets sont utiles pour insérer des apostrophes dans une chaîne de caractère."
      ]
    },
    {
      "cell_type": "code",
      "execution_count": 9,
      "id": "23aec014",
      "metadata": {
        "ExecuteTime": {
          "end_time": "2023-07-13T18:03:07.482005+00:00",
          "start_time": "2023-07-13T18:03:07.323383+00:00"
        },
        "inputHidden": false,
        "noteable": {},
        "outputHidden": false
      },
      "outputs": [
        {
          "data": {
            "text/plain": [
              "\"L'ours polaire ressemble à un faux zèbre.\""
            ]
          },
          "execution_count": null,
          "metadata": {},
          "output_type": "execute_result"
        }
      ],
      "source": [
        "a = \"L'ours\"\n",
        "b = \"polaire\"\n",
        "a + \" \" +  b + \" ressemble à un faux zèbre.\""
      ]
    },
    {
      "cell_type": "markdown",
      "id": "c2412e22",
      "metadata": {},
      "source": [
        "Notez que l'objet `a` a été défini précédemment. Il est possible en Python de réassigner une variable, mais cela peut porter à confusion, jusqu'à générer des erreurs de calcul si une variable n'est pas assigné à l'objet auquel on voulait référer.\n",
        "\n",
        "L'opérateur `+` sur des caractères retourne une concaténation.\n",
        "\n",
        "Combien de caractères contient la chaîne `\"L'ours polaire\"`? Python sait compter. Demandons-lui."
      ]
    },
    {
      "cell_type": "code",
      "execution_count": 10,
      "id": "002bda29",
      "metadata": {
        "ExecuteTime": {
          "end_time": "2023-07-13T18:02:10.087654+00:00",
          "start_time": "2023-07-13T18:02:09.927833+00:00"
        },
        "inputHidden": false,
        "noteable": {},
        "outputHidden": false
      },
      "outputs": [
        {
          "data": {
            "text/plain": [
              "14"
            ]
          },
          "execution_count": null,
          "metadata": {},
          "output_type": "execute_result"
        }
      ],
      "source": [
        "c = a + \" \" +  b\n",
        "len(c)"
      ]
    },
    {
      "cell_type": "markdown",
      "id": "f105fe2e",
      "metadata": {},
      "source": [
        "Quatorze, c'est bien cela (comptez \"L'ours polaire\", en incluant l'espace). `len`, pour *lenght* (longueur), est une fonction incluse par défaut dans l'environnement de travail de Python. La fonction est appelée en écrivant `len()`. Mais une fonction de quoi? Des arguments qui se trouvent entre les parenthèses. Dans ce cas, il y a un seul argument: `c`.\n",
        "\n",
        "En calcul scientifique, il est courant de lancer des requêtes testant si un résultat est vrai ou faux."
      ]
    },
    {
      "cell_type": "code",
      "execution_count": 11,
      "id": "23641631",
      "metadata": {
        "ExecuteTime": {
          "end_time": "2023-07-13T18:02:17.313949+00:00",
          "start_time": "2023-07-13T18:02:17.154205+00:00"
        },
        "inputHidden": false,
        "noteable": {},
        "outputHidden": false
      },
      "outputs": [
        {
          "name": "stdout",
          "output_type": "stream",
          "text": [
            "False\n",
            "True\n",
            "False\n",
            "True\n",
            "True\n",
            "False\n"
          ]
        }
      ],
      "source": [
        "a = 17\n",
        "print(a < 10)\n",
        "print(a > 10)\n",
        "print(a == 10)\n",
        "print(a != 10)\n",
        "print(a == 17)\n",
        "print(~a == 17)"
      ]
    },
    {
      "cell_type": "markdown",
      "id": "9a289ce6",
      "metadata": {},
      "source": [
        "Je viens d'introduire un nouveau type de donnée: les données booléennes (*boolean*, ou `bool`), qui ne peuvent prendre que deux états - `True` ou `False`. En même temps, j'ai utilisé la fonction `print` parce que dans mon carnet, seule la dernière opération permet d'afficher le résultat. Si l'on veut forcer une sortie, on utilise `print`. Puis, on a vu plus haut que le symbole `=` est réservé pour assigner des objets: pour les tests d'égalité, on utilise le double égal, `==`, ou `!=` pour la non égalité. Enfin, pour inverser une donnée de type booléenne, on utilise le symbole `~`.\n",
        "\n",
        "Pour les tests sur les chaînes de caractères, on utilisera `in` et son inverse `not in`."
      ]
    },
    {
      "cell_type": "code",
      "execution_count": 14,
      "id": "9feb205d",
      "metadata": {
        "ExecuteTime": {
          "end_time": "2023-07-13T18:02:32.502631+00:00",
          "start_time": "2023-07-13T18:02:32.345124+00:00"
        },
        "inputHidden": false,
        "noteable": {},
        "outputHidden": false
      },
      "outputs": [
        {
          "name": "stdout",
          "output_type": "stream",
          "text": [
            "False\n",
            "True\n",
            "False\n"
          ]
        }
      ],
      "source": [
        "print('o' in 'Ours')\n",
        "print('O' in 'Ours')\n",
        "print('O' not in 'Ours')"
      ]
    },
    {
      "cell_type": "markdown",
      "id": "b28bd8b3",
      "metadata": {},
      "source": [
        "## Les collections de données\n",
        "\n",
        "Les exercices précédents ont permis de présenter les types de données offerts par défaut sur Python qui sont les plus importants pour le calcul scientifique : `int` (*integer*, ou nombre entier), `float` (nombre réel), `str` (*string*, ou chaîne de caractère) et `bool` (booléen). D'autres s'ajouterons, comme les unités de temps (date-heure), les catégories et les géométries (points, linges, polygones) géoréférencées.\n",
        "\n",
        "Lorsque l'on procède à des opérations de calcul en science, nous utilisons rarement des valeurs uniques. Nous préférons les organiser et les traiter en collections. Par défaut, Python offre trois types importants : les **listes**, les **tuples** et les **dictionnaires**.\n",
        "\n",
        "D'abord, les **listes**, ou `list`, sont une série de variables sans restriction sur leur type. Elles peuvent même contenir d'autres listes. Une liste est délimitée par des crochets `[ ]`, et les éléments de la liste sont séparés par des virgules."
      ]
    },
    {
      "cell_type": "code",
      "execution_count": 15,
      "id": "12aa00b1",
      "metadata": {
        "ExecuteTime": {
          "end_time": "2023-07-13T18:03:28.307676+00:00",
          "start_time": "2023-07-13T18:03:28.147567+00:00"
        },
        "inputHidden": false,
        "noteable": {},
        "outputHidden": false
      },
      "outputs": [
        {
          "data": {
            "text/plain": [
              "['Impero', 'Protego', 'Expecto Patronum', 'Wingardium Leviosa']"
            ]
          },
          "execution_count": null,
          "metadata": {},
          "output_type": "execute_result"
        }
      ],
      "source": [
        "magie = ['Impero', 'Protego', 'Expecto Patronum', 'Wingardium Leviosa']\n",
        "magie"
      ]
    },
    {
      "cell_type": "markdown",
      "id": "b0d4585e",
      "metadata": {},
      "source": [
        "Pour accéder aux éléments d'une liste, appelle la liste suivie de la position de l'objet désiré entre crochets. Fait important : en Python, l'indice du premier élément est zéro."
      ]
    },
    {
      "cell_type": "code",
      "execution_count": 16,
      "id": "d8f2c9b0",
      "metadata": {
        "ExecuteTime": {
          "end_time": "2023-07-10T20:21:12.365137+00:00",
          "start_time": "2023-07-10T20:21:12.207525+00:00"
        },
        "inputHidden": false,
        "noteable": {},
        "outputHidden": false
      },
      "outputs": [
        {
          "name": "stdout",
          "output_type": "stream",
          "text": [
            "Impero\n",
            "Expecto Patronum\n",
            "['Impero', 'Protego']\n",
            "['Expecto Patronum', 'Wingardium Leviosa']\n"
          ]
        }
      ],
      "source": [
        "print(magie[0])\n",
        "print(magie[2])\n",
        "print(magie[:2])\n",
        "print(magie[2:])"
      ]
    },
    {
      "cell_type": "markdown",
      "id": "6ea2798b",
      "metadata": {},
      "source": [
        "Pour les deux dernières commandes, la position `:2` signifie jusqu'à 2 non inclusivement et `2:` signifie de 2 à la fin.\n",
        "\n",
        "Pour ajouter un élément à notre liste, on peut utiliser la méthode `append`. À la différence d'une fonction, la méthode est une propriété d'un objet."
      ]
    },
    {
      "cell_type": "code",
      "execution_count": 17,
      "id": "b3fbf44c",
      "metadata": {
        "ExecuteTime": {
          "end_time": "2023-07-10T20:21:16.253531+00:00",
          "start_time": "2023-07-10T20:21:16.095191+00:00"
        },
        "inputHidden": false,
        "noteable": {},
        "outputHidden": false
      },
      "outputs": [
        {
          "data": {
            "text/plain": [
              "['Impero', 'Protego', 'Expecto Patronum', 'Wingardium Leviosa', 'Endoloris']"
            ]
          },
          "execution_count": null,
          "metadata": {},
          "output_type": "execute_result"
        }
      ],
      "source": [
        "magie.append(\"Endoloris\")\n",
        "magie"
      ]
    },
    {
      "cell_type": "markdown",
      "id": "d8aa6db3",
      "metadata": {},
      "source": [
        "Notez que la méthode `append` est appelée après la variable et précédée un point. Cette manière de procéder est courante en programmation orientée objet. La fonction `append` est un attribut d'un objet `list` et prend un seul argument : l'objet qui est ajouté à la liste. C'est une manière de dire `grenouille.saute(longueur=0.8, hauteur=0.3)`."
      ]
    },
    {
      "cell_type": "markdown",
      "id": "71dc3aee",
      "metadata": {},
      "source": [
        " En lançant `magie[2] = \"Petrificus Totalus\"`, on note qu'il est possible de changer une élément de la liste."
      ]
    },
    {
      "cell_type": "code",
      "execution_count": 19,
      "id": "e535da01",
      "metadata": {
        "ExecuteTime": {
          "end_time": "2023-07-10T20:21:21.597271+00:00",
          "start_time": "2023-07-10T20:21:21.440802+00:00"
        },
        "inputHidden": false,
        "noteable": {},
        "outputHidden": false
      },
      "outputs": [
        {
          "name": "stdout",
          "output_type": "stream",
          "text": [
            "['Impero', 'Protego', 'Expecto Patronum', 'Wingardium Leviosa', 'Endoloris']\n",
            "['Impero', 'Protego', 'Petrificus Totalus', 'Wingardium Leviosa', 'Endoloris']\n"
          ]
        }
      ],
      "source": [
        "print(magie)\n",
        "magie[2] = \"Petrificus Totalus\"\n",
        "print(magie)"
      ]
    },
    {
      "cell_type": "markdown",
      "id": "fd258f5a",
      "metadata": {},
      "source": [
        "Si les données contenues dans une liste sont de même type, cette liste peut être considérée comme un vecteur. En créant une liste de vecteurs de dimensions cohérentes, on crée une matrice. Nous verrons plus tard que pour les vecteurs et les matrices, on utilisera un format offert par un module complémentaire. Pour l'instant, on pourrait définir une matrice comme suit."
      ]
    },
    {
      "cell_type": "code",
      "execution_count": 16,
      "id": "fa1d0303",
      "metadata": {
        "ExecuteTime": {
          "end_time": "2023-07-10T20:21:28.175647+00:00",
          "start_time": "2023-07-10T20:21:28.014661+00:00"
        },
        "inputHidden": false,
        "noteable": {},
        "outputHidden": false
      },
      "outputs": [
        {
          "data": {
            "text/plain": [
              "[[1, 2, 3], [4, 5, 6], [7, 8, 9], [10, 11, 12]]"
            ]
          },
          "execution_count": null,
          "metadata": {},
          "output_type": "execute_result"
        }
      ],
      "source": [
        "mat = [[1, 2, 3],\n",
        "       [4, 5, 6],\n",
        "       [7, 8, 9],\n",
        "       [10, 11, 12]]\n",
        "mat"
      ]
    },
    {
      "cell_type": "markdown",
      "id": "d41fb885",
      "metadata": {},
      "source": [
        "Les **tuples**, définis `tuple` par Python, différent des listes du fait que ses éléments ne peuvent pas être modifiés. Un tuple est délimité par des parenthèses `( )`, et comme chez la liste,  ses éléments sont séparés par des virgules. Les tuples sont moins polyvalents que les listes. Vous les utiliserez probablement rarement, et surtout comme arguments dans certaines fonctions en calcul scientifique, arguments qui souvent peuvent être définis en termes de listes."
      ]
    },
    {
      "cell_type": "code",
      "execution_count": 17,
      "id": "9f9504c2",
      "metadata": {
        "ExecuteTime": {
          "end_time": "2023-07-13T18:15:00.410816+00:00",
          "start_time": "2023-07-13T18:15:00.230495+00:00"
        },
        "inputHidden": false,
        "noteable": {},
        "outputHidden": false
      },
      "outputs": [
        {
          "ename": "TypeError",
          "evalue": "'tuple' object does not support item assignment",
          "output_type": "error",
          "traceback": [
            "\u001b[0;31m---------------------------------------------------------------------------\u001b[0m",
            "\u001b[0;31mTypeError\u001b[0m                                 Traceback (most recent call last)",
            "Cell \u001b[0;32mIn[66], line 2\u001b[0m\n\u001b[1;32m      1\u001b[0m magie \u001b[38;5;241m=\u001b[39m (\u001b[38;5;124m'\u001b[39m\u001b[38;5;124mImpero\u001b[39m\u001b[38;5;124m'\u001b[39m, \u001b[38;5;124m'\u001b[39m\u001b[38;5;124mProtego\u001b[39m\u001b[38;5;124m'\u001b[39m, \u001b[38;5;124m'\u001b[39m\u001b[38;5;124mExpecto Patronum\u001b[39m\u001b[38;5;124m'\u001b[39m, \u001b[38;5;124m'\u001b[39m\u001b[38;5;124mWingardium Leviosa\u001b[39m\u001b[38;5;124m'\u001b[39m)\n\u001b[0;32m----> 2\u001b[0m \u001b[43mmagie\u001b[49m\u001b[43m[\u001b[49m\u001b[38;5;241;43m2\u001b[39;49m\u001b[43m]\u001b[49m \u001b[38;5;241m=\u001b[39m \u001b[38;5;124m\"\u001b[39m\u001b[38;5;124mExpelliarmus\u001b[39m\u001b[38;5;124m\"\u001b[39m\n",
            "\u001b[0;31mTypeError\u001b[0m: 'tuple' object does not support item assignment"
          ]
        }
      ],
      "source": [
        "magie = ('Impero', 'Protego', 'Expecto Patronum', 'Wingardium Leviosa')\n",
        "magie[2] = \"Expelliarmus\""
      ]
    },
    {
      "cell_type": "markdown",
      "id": "d5d5308d",
      "metadata": {
        "inputHidden": false,
        "outputHidden": false
      },
      "source": [
        "Les **dictionnaires**, ou `dict`, sont des listes dont chaque élément est identifié par une clé. Un dictionnaire est délimité par des accolades sous forme `mon_dict = {'clé1': x, 'clé2': y, 'clé3': z }`. On appelle un élément par sa clé entre des crochets, par exemple `mon_dict['clé1']`.\n",
        "\n",
        "Le `dict` se rapproche d'un tableau: nous verrons plus tard que le format de tableau (offert dans un module complémentaire) est bâti à partir du format `dict`. Contrairement à un tableau où les colonnes contiennent toutes le même nombre de lignes, chaque élément du dictionnaire est indépendant des autres."
      ]
    },
    {
      "cell_type": "code",
      "execution_count": 21,
      "id": "af932b8a",
      "metadata": {
        "ExecuteTime": {
          "end_time": "2023-07-13T18:23:17.545254+00:00",
          "start_time": "2023-07-13T18:23:17.385687+00:00"
        },
        "inputHidden": false,
        "noteable": {},
        "outputHidden": false
      },
      "outputs": [
        {
          "name": "stdout",
          "output_type": "stream",
          "text": [
            "Mon tableau:  {'espece': ['Petromyzon marinus', 'Lepisosteus osseus', 'Amia calva', 'Hiodon tergisus'], 'poids': [10, 13, 21, 4], 'longueur': [35, 44, 50, 8]}\n",
            "Mes espèces: ['Petromyzon marinus', 'Lepisosteus osseus', 'Amia calva', 'Hiodon tergisus']\n",
            "Noms des clés (ou colonnes): dict_keys(['espece', 'poids', 'longueur'])\n"
          ]
        }
      ],
      "source": [
        "tableau = {'espece': ['Petromyzon marinus', 'Lepisosteus osseus', 'Amia calva', 'Hiodon tergisus'], 'poids': [10, 13, 21, 4], 'longueur': [35, 44, 50, 8]}\n",
        "print('Mon tableau: ', tableau)\n",
        "print('Mes espèces:',  tableau['espece'])\n",
        "print('Noms des clés (ou colonnes):',  tableau.keys())"
      ]
    },
    {
      "cell_type": "markdown",
      "id": "879e4b19",
      "metadata": {},
      "source": [
        "## Les fonctions\n",
        "\n",
        "Plus haut, j'ai présenté la fonction `len` et  la méthode `append`. Une myriade de fonctions sont livrées par défaut avec Python. Mais il en manque aussi cruellement.\n"
      ]
    },
    {
      "cell_type": "code",
      "execution_count": 18,
      "id": "d5f8cde4",
      "metadata": {
        "ExecuteTime": {
          "end_time": "2023-07-10T20:21:35.889112+00:00",
          "start_time": "2023-07-10T20:21:35.715101+00:00"
        },
        "inputHidden": false,
        "noteable": {},
        "outputHidden": false
      },
      "outputs": [
        {
          "ename": "NameError",
          "evalue": "name 'sqrt' is not defined",
          "output_type": "error",
          "traceback": [
            "\u001b[0;31m---------------------------------------------------------------------------\u001b[0m",
            "\u001b[0;31mNameError\u001b[0m                                 Traceback (most recent call last)",
            "Cell \u001b[0;32mIn[22], line 1\u001b[0m\n\u001b[0;32m----> 1\u001b[0m \u001b[43msqrt\u001b[49m(\u001b[38;5;241m2\u001b[39m)\n",
            "\u001b[0;31mNameError\u001b[0m: name 'sqrt' is not defined"
          ]
        }
      ],
      "source": [
        "sqrt(2)"
      ]
    },
    {
      "cell_type": "markdown",
      "id": "1e2743b6",
      "metadata": {},
      "source": [
        "Message d'erreur: la commande `sqrt` n'est pas définie. \n",
        "\n",
        "> Quoi, Python n'est pas foutu de calculer une racine carrée?\n",
        "\n",
        "Par défaut, non. 🤷\n",
        "\n",
        "Mais!\n",
        "\n",
        "De nombreuses extensions (les *modules*) permettent de combler ces manques. Nous aborderons ça un peu plus loin dans ce chapitre. Pour l'instant, exerçons-nous à créer notre propre fonction de racine carrée."
      ]
    },
    {
      "cell_type": "code",
      "execution_count": 20,
      "id": "26f8e23c",
      "metadata": {
        "ExecuteTime": {
          "end_time": "2023-07-13T18:27:18.404925+00:00",
          "start_time": "2023-07-13T18:27:18.247048+00:00"
        },
        "collapsed": true,
        "inputHidden": false,
        "noteable": {},
        "outputHidden": false
      },
      "outputs": [],
      "source": [
        "def racine(x, n=2):\n",
        "    r = x**(1 / n)\n",
        "    return r"
      ]
    },
    {
      "cell_type": "markdown",
      "id": "98ad098d",
      "metadata": {},
      "source": [
        "En Python, `def` est le mot-clé pour définir une fonction. Suit ensuite, après un espace, le nom que vous désirez donner à la fonction: `racine`. Les arguments de la fonction suivent entre les parenthèses. Dans ce cas, `x` est la valeur de laquelle on veut extraire la racine et `n` est l'ordre de la racine. L'agument `x` n'a pas de valeur par défaut: elle doit être spécifiée pour que la fonction fonctionne. La mention `n=2` signifie que si la valeur de `n` n'est pas spécifiée, elle prendra la valeur de 2 (la racine carrée). Pour marquer la fin de la définition et le début de la suite d'instructions, on utilise les deux points `:`, puis un retour de ligne. Une indentation (ou retrait) de quatre barres d'espacement signifie que l'on se trouve à l'intérieur de la suite d'instructions, où l'on calcule une valeur de `r` comme l'exposant de l'inverse de l'ordre de la racine. La dernière ligne indique ce que la fonction doit retourner."
      ]
    },
    {
      "cell_type": "code",
      "execution_count": 21,
      "id": "be81cd51",
      "metadata": {
        "ExecuteTime": {
          "end_time": "2023-07-13T18:27:22.612511+00:00",
          "start_time": "2023-07-13T18:27:22.454654+00:00"
        },
        "inputHidden": false,
        "noteable": {},
        "outputHidden": false
      },
      "outputs": [
        {
          "name": "stdout",
          "output_type": "stream",
          "text": [
            "3.0\n",
            "3.0\n",
            "2.0\n",
            "2.0\n"
          ]
        }
      ],
      "source": [
        "print(racine(9))\n",
        "print(racine(x=9))\n",
        "print(racine(8, 3))\n",
        "print(racine(x=8, n=3))"
      ]
    },
    {
      "cell_type": "markdown",
      "id": "70d0dcab",
      "metadata": {},
      "source": [
        "S'ils ne sont pas spécifiés, Python comprend que les arguments sont entrés dans l'ordre défini dans la fonction. En entrant `racine(9)`, Python comprend que le `9` est attribué à `x` et donne à `n` sa valeur par défaut, `2`. Ce qui est équivalent à entrer `racine(x=9)`. Les autres entrées sont aussi équivalentes, et extraient la racine cubique. S'il se peut qu'il y ait confusion entre les arguments nommés et ceux qui ne le sont pas, Python vous retournera un message d'erreur. Règle générale, il est préférable pour la lisibilité du code de nommer les arguments plutôt que de les spécifier dans l'ordre.\n",
        "\n",
        "Supposons maintenant que vous avez une liste de données dont vous voulez extraire la racine."
      ]
    },
    {
      "cell_type": "code",
      "execution_count": 22,
      "id": "d49a2fe8",
      "metadata": {
        "ExecuteTime": {
          "end_time": "2023-07-13T18:16:54.258747+00:00",
          "start_time": "2023-07-13T18:16:54.069111+00:00"
        },
        "inputHidden": false,
        "noteable": {},
        "outputHidden": false
      },
      "outputs": [
        {
          "ename": "TypeError",
          "evalue": "unsupported operand type(s) for ** or pow(): 'list' and 'float'",
          "output_type": "error",
          "traceback": [
            "\u001b[0;31m---------------------------------------------------------------------------\u001b[0m",
            "\u001b[0;31mTypeError\u001b[0m                                 Traceback (most recent call last)",
            "Cell \u001b[0;32mIn[73], line 2\u001b[0m\n\u001b[1;32m      1\u001b[0m data \u001b[38;5;241m=\u001b[39m [\u001b[38;5;241m3.5\u001b[39m, \u001b[38;5;241m8.1\u001b[39m, \u001b[38;5;241m10.2\u001b[39m, \u001b[38;5;241m0.5\u001b[39m, \u001b[38;5;241m5.6\u001b[39m]\n\u001b[0;32m----> 2\u001b[0m \u001b[43mracine\u001b[49m\u001b[43m(\u001b[49m\u001b[43mx\u001b[49m\u001b[38;5;241;43m=\u001b[39;49m\u001b[43mdata\u001b[49m\u001b[43m,\u001b[49m\u001b[43m \u001b[49m\u001b[43mn\u001b[49m\u001b[38;5;241;43m=\u001b[39;49m\u001b[38;5;241;43m2\u001b[39;49m\u001b[43m)\u001b[49m\n",
            "Cell \u001b[0;32mIn[69], line 2\u001b[0m, in \u001b[0;36mracine\u001b[0;34m(x, n)\u001b[0m\n\u001b[1;32m      1\u001b[0m \u001b[38;5;28;01mdef\u001b[39;00m \u001b[38;5;21mracine\u001b[39m(x, n\u001b[38;5;241m=\u001b[39m\u001b[38;5;241m2\u001b[39m):\n\u001b[0;32m----> 2\u001b[0m     r \u001b[38;5;241m=\u001b[39m \u001b[43mx\u001b[49m\u001b[38;5;241;43m*\u001b[39;49m\u001b[38;5;241;43m*\u001b[39;49m\u001b[43m(\u001b[49m\u001b[38;5;241;43m1\u001b[39;49m\u001b[43m \u001b[49m\u001b[38;5;241;43m/\u001b[39;49m\u001b[43m \u001b[49m\u001b[43mn\u001b[49m\u001b[43m)\u001b[49m\n\u001b[1;32m      3\u001b[0m     \u001b[38;5;28;01mreturn\u001b[39;00m r\n",
            "\u001b[0;31mTypeError\u001b[0m: unsupported operand type(s) for ** or pow(): 'list' and 'float'"
          ]
        }
      ],
      "source": [
        "data = [3.5, 8.1, 10.2, 0.5, 5.6]\n",
        "racine(x=data, n=2)"
      ]
    },
    {
      "cell_type": "markdown",
      "id": "d95e49ed",
      "metadata": {},
      "source": [
        "Oups. Python vous dit qu'il y a une erreur, et, dans le *Traceback*, il vous indique avec une flèche `---->` à quelle ligne de notre fonction l'erreur est encourue. Les exposants `**` ne sont pas applicables aux listes. Une solution est d'appliquer la fonction à chaque élément de la liste avec une **itération**. On verra plus tard des manières plus efficaces de procéder. Je me sers de ce cas d'étude pour introduire les boucles itératives."
      ]
    },
    {
      "cell_type": "markdown",
      "id": "3d2c8375",
      "metadata": {},
      "source": [
        "## Les boucles\n",
        "\n",
        "Les boucles permettent d'effectuer une même suite d'opérations sur plusieurs objets. Pour faire suite à notre exemple:"
      ]
    },
    {
      "cell_type": "code",
      "execution_count": 26,
      "id": "2b560b32",
      "metadata": {
        "ExecuteTime": {
          "end_time": "2023-07-10T20:22:20.127926+00:00",
          "start_time": "2023-07-10T20:22:19.966927+00:00"
        },
        "inputHidden": false,
        "noteable": {},
        "outputHidden": false
      },
      "outputs": [
        {
          "data": {
            "text/plain": [
              "[1.8708286933869707,\n",
              " 2.8460498941515415,\n",
              " 3.1937438845342623,\n",
              " 0.7071067811865476,\n",
              " 2.3664319132398464]"
            ]
          },
          "execution_count": null,
          "metadata": {},
          "output_type": "execute_result"
        }
      ],
      "source": [
        "racine_data = []\n",
        "for i in [0, 1, 2, 3, 4]:\n",
        "    r = racine(x=data[i], n=2)\n",
        "    racine_data.append(r)\n",
        "\n",
        "racine_data"
      ]
    },
    {
      "cell_type": "markdown",
      "id": "162e058c",
      "metadata": {},
      "source": [
        "Nous avons d'abord créé une liste vide, `racine_data`. Ensuite, pour (**`for`**) chaque indice de la liste (`i in [0, 1, 2, 3, 4]`), nous demandons à Python d'effectuer la suite d'opération qui suit le `:` et qui est indentée de quatre espaces. Dans la suite d'opération, calculer la racine carrée de `data` à l'indice `i`, puis l'ajouter à la liste `racine_data`. Au lieu d'entrer une liste `[0, 1, 2, 3, 4]`, on aurait pu utiliser la fonction `range` et lui assigner automatiquement la longueur de la liste. \n",
        "\n",
        "On peut aussi lancer des boucles en une seule ligne."
      ]
    },
    {
      "cell_type": "code",
      "execution_count": null,
      "id": "58ff6961-b18e-4055-9b93-8330170c0446",
      "metadata": {
        "ExecuteTime": {
          "end_time": "2023-07-10T20:22:20.800326+00:00",
          "start_time": "2023-07-10T20:22:20.639118+00:00"
        },
        "noteable": {
          "cell_type": "python"
        }
      },
      "outputs": [
        {
          "data": {
            "text/plain": [
              "[1.8708286933869707,\n",
              " 2.8460498941515415,\n",
              " 3.1937438845342623,\n",
              " 0.7071067811865476,\n",
              " 2.3664319132398464]"
            ]
          },
          "execution_count": null,
          "metadata": {},
          "output_type": "execute_result"
        }
      ],
      "source": [
        "racine_data = [racine(x=d, n=2) for d in data]\n",
        "racine_data"
      ]
    },
    {
      "cell_type": "markdown",
      "id": "3fc87463",
      "metadata": {},
      "source": [
        "La fonction `range` retourne une séquence calculée au besoin. Elle est calculée si elle est évoquée dans une boucle ou en lançant `list`."
      ]
    },
    {
      "cell_type": "code",
      "execution_count": 28,
      "id": "1c606d1a",
      "metadata": {
        "ExecuteTime": {
          "end_time": "2023-07-13T18:27:50.631234+00:00",
          "start_time": "2023-07-13T18:27:50.471412+00:00"
        },
        "inputHidden": false,
        "noteable": {},
        "outputHidden": false
      },
      "outputs": [
        {
          "name": "stdout",
          "output_type": "stream",
          "text": [
            "range(0, 5)\n",
            "[0, 1, 2, 3, 4]\n",
            "range(2, 5)\n",
            "[2, 3, 4]\n"
          ]
        }
      ],
      "source": [
        "print(range(len(data)))\n",
        "print(list(range(len(data))))\n",
        "print(range(2, len(data)))\n",
        "print(list(range(2, len(data))))"
      ]
    },
    {
      "cell_type": "markdown",
      "id": "ad8db35a",
      "metadata": {},
      "source": [
        "Première observation, si un seul argument est inclus, `range` retourne une séquence partant de zéro. Seconde observation, la séquence se termine en excluant l'argument. Ainsi, `range(2,5)` retourne la séquence [2, 3, 4]. En spécifiant la longueur de data comme argument, la séquence `range(5)` retourne la liste `[0, 1, 2, 3, 4]`, soit les indices dont nous avons besoin pour itérer dans la liste.\n",
        "\n",
        "Les boucles `for` vous permettront par exemple de générer en peu de temps 10, 100, 1000 graphiques (autant que vous voulez), chacun issu de simulations obtenues à partir de conditions initiales différentes, et de les enregistrer dans un répertoire sur votre ordinateur. Un travail qui pourrait prendre des semaines sur Excel peut être effectué en Python en quelques secondes.\n",
        "\n",
        "Un second outil est disponible pour les itérations : les boucles **`while`**. Elles effectuent une opération tant qu'un critère n'est pas atteint. Elles sont utiles pour les opérations dont on cherche une convergence. Je les couvre rapidement puisqu'elles sont rarement utilisées dans les flux de travail courants. En voici un petit exemple."
      ]
    },
    {
      "cell_type": "code",
      "execution_count": 29,
      "id": "3318c7f3",
      "metadata": {
        "ExecuteTime": {
          "end_time": "2023-07-10T20:22:23.199985+00:00",
          "start_time": "2023-07-10T20:22:23.042087+00:00"
        },
        "inputHidden": false,
        "noteable": {},
        "outputHidden": false
      },
      "outputs": [
        {
          "name": "stdout",
          "output_type": "stream",
          "text": [
            "10.0\n",
            "3.1622776601683795\n",
            "1.7782794100389228\n",
            "1.333521432163324\n",
            "1.1547819846894583\n",
            "1.0746078283213176\n"
          ]
        }
      ],
      "source": [
        "x = 100\n",
        "while (x > 1.1):\n",
        "    x=racine(x)\n",
        "    print(x)"
      ]
    },
    {
      "cell_type": "markdown",
      "id": "d5059080",
      "metadata": {},
      "source": [
        "Nous avons inité x à une valeur de 100. Puis, tant que (`while`) le test `x > 1.1` est vrai, attribuer à `x` la nouvelle valeur calculée en extrayant la racine de la valeur précédente de `x`. Enfin, indiquer la valeur avec `print`.\n",
        "\n",
        "Explorons maintenant comment Python réagit si on lui demande de calculer $\\sqrt{-1}$."
      ]
    },
    {
      "cell_type": "code",
      "execution_count": 30,
      "id": "1227470f",
      "metadata": {
        "ExecuteTime": {
          "end_time": "2023-07-10T20:22:30.972861+00:00",
          "start_time": "2023-07-10T20:22:30.813181+00:00"
        },
        "inputHidden": false,
        "noteable": {},
        "outputHidden": false
      },
      "outputs": [
        {
          "data": {
            "text/plain": [
              "(6.123233995736766e-17+1j)"
            ]
          },
          "execution_count": null,
          "metadata": {},
          "output_type": "execute_result"
        }
      ],
      "source": [
        "racine(x=-1, n=2)"
      ]
    },
    {
      "cell_type": "markdown",
      "id": "fcb3b7b3",
      "metadata": {},
      "source": [
        "D'abord, Python ne retourne pas de message d'erreur, mais un nouveau type de donnée: le nombre imaginaire. Puis, `6.123233995736766e-17` n'est pas zéro, mais très proche. La résolution des calculs étant numérique, on obeserve parfois de légères déviations par rapport aux solutions mathématiques.\n",
        "\n",
        "Si pour un cas particulier, on veut éviter que notre fonction retourne un nombre imaginaire, comment s'y prendre? Avec une **condition**."
      ]
    },
    {
      "cell_type": "markdown",
      "id": "eb3ff26c",
      "metadata": {},
      "source": [
        "## Conditions: `if`, `elif`, `else`\n",
        "\n",
        "> Si la condition 1 est remplie, effectuer une suite d'instruction 1. Si la condition 1 n'est pas remplie, et si la condition 2 est remplie, effectuer la suite d'instruction 2. Sinon, effectuer la suite d'instruction 3.\n",
        "\n",
        "Voilà comment on exprime une suite de conditions. Pour notre racine d'un nombre négatif, on pourrait procéder comme suit."
      ]
    },
    {
      "cell_type": "code",
      "execution_count": 31,
      "id": "a3d91500",
      "metadata": {
        "ExecuteTime": {
          "end_time": "2023-07-13T18:32:44.410912+00:00",
          "start_time": "2023-07-13T18:32:44.253441+00:00"
        },
        "collapsed": true,
        "inputHidden": false,
        "noteable": {},
        "outputHidden": false
      },
      "outputs": [],
      "source": [
        "def racine_positive_nn(x, n=2):\n",
        "    if x<0:\n",
        "        raise ValueError(\"x est négatif\")\n",
        "    elif x==0:\n",
        "        raise ValueError(\"x est nul\")\n",
        "    else:\n",
        "        r = x**(1/n)\n",
        "        return(r)"
      ]
    },
    {
      "cell_type": "markdown",
      "id": "8f1862b1",
      "metadata": {},
      "source": [
        "La racine positive et non-nulle (`racine_positive_nn`) comprend les mot-clés `if` (si), `elif` (une contration de *else if*) et `else` (sinon). `ValueError` est une fonction pour retourner un message d'erreur lorsqu'elle est précédée de `raise`. Comme c'est le cas pour `def` et `for`, les instructions des conditions sont indentées. Notez la double indentation (8 espaces) pour les instructions des conditions. Alors que la plupart des langages de programmation demandent d'emboîter les instructions dans des parenthèses, accolades et crochets, Python préfère nous forcer à bien indenter le code (ce que l'on devrait faire de toute manière pour améliorer la lisibilité) et s'y fier pour effectuer ses opérations."
      ]
    },
    {
      "cell_type": "code",
      "execution_count": 32,
      "id": "3e2fa3fa",
      "metadata": {
        "ExecuteTime": {
          "end_time": "2023-07-10T20:22:46.435287+00:00",
          "start_time": "2023-07-10T20:22:46.246635+00:00"
        },
        "inputHidden": false,
        "noteable": {},
        "outputHidden": false
      },
      "outputs": [
        {
          "ename": "ValueError",
          "evalue": "x est négatif",
          "output_type": "error",
          "traceback": [
            "\u001b[0;31m---------------------------------------------------------------------------\u001b[0m",
            "\u001b[0;31mValueError\u001b[0m                                Traceback (most recent call last)",
            "Cell \u001b[0;32mIn[33], line 1\u001b[0m\n\u001b[0;32m----> 1\u001b[0m \u001b[43mracine_positive_nn\u001b[49m\u001b[43m(\u001b[49m\u001b[43mx\u001b[49m\u001b[38;5;241;43m=\u001b[39;49m\u001b[38;5;241;43m-\u001b[39;49m\u001b[38;5;241;43m1\u001b[39;49m\u001b[43m,\u001b[49m\u001b[43m \u001b[49m\u001b[43mn\u001b[49m\u001b[38;5;241;43m=\u001b[39;49m\u001b[38;5;241;43m2\u001b[39;49m\u001b[43m)\u001b[49m\n",
            "Cell \u001b[0;32mIn[32], line 3\u001b[0m, in \u001b[0;36mracine_positive_nn\u001b[0;34m(x, n)\u001b[0m\n\u001b[1;32m      1\u001b[0m \u001b[38;5;28;01mdef\u001b[39;00m \u001b[38;5;21mracine_positive_nn\u001b[39m(x, n\u001b[38;5;241m=\u001b[39m\u001b[38;5;241m2\u001b[39m):\n\u001b[1;32m      2\u001b[0m     \u001b[38;5;28;01mif\u001b[39;00m x\u001b[38;5;241m<\u001b[39m\u001b[38;5;241m0\u001b[39m:\n\u001b[0;32m----> 3\u001b[0m         \u001b[38;5;28;01mraise\u001b[39;00m \u001b[38;5;167;01mValueError\u001b[39;00m(\u001b[38;5;124m\"\u001b[39m\u001b[38;5;124mx est négatif\u001b[39m\u001b[38;5;124m\"\u001b[39m)\n\u001b[1;32m      4\u001b[0m     \u001b[38;5;28;01melif\u001b[39;00m x\u001b[38;5;241m==\u001b[39m\u001b[38;5;241m0\u001b[39m:\n\u001b[1;32m      5\u001b[0m         \u001b[38;5;28;01mraise\u001b[39;00m \u001b[38;5;167;01mValueError\u001b[39;00m(\u001b[38;5;124m\"\u001b[39m\u001b[38;5;124mx est nul\u001b[39m\u001b[38;5;124m\"\u001b[39m)\n",
            "\u001b[0;31mValueError\u001b[0m: x est négatif"
          ]
        }
      ],
      "source": [
        "racine_positive_nn(x=-1, n=2)"
      ]
    },
    {
      "cell_type": "code",
      "execution_count": 33,
      "id": "3d8275a3",
      "metadata": {
        "ExecuteTime": {
          "end_time": "2023-07-13T18:35:06.768228+00:00",
          "start_time": "2023-07-13T18:35:06.580513+00:00"
        },
        "inputHidden": false,
        "noteable": {},
        "outputHidden": false
      },
      "outputs": [
        {
          "ename": "ValueError",
          "evalue": "x est nul",
          "output_type": "error",
          "traceback": [
            "\u001b[0;31m---------------------------------------------------------------------------\u001b[0m",
            "\u001b[0;31mValueError\u001b[0m                                Traceback (most recent call last)",
            "Cell \u001b[0;32mIn[88], line 1\u001b[0m\n\u001b[0;32m----> 1\u001b[0m \u001b[43mracine_positive_nn\u001b[49m\u001b[43m(\u001b[49m\u001b[43mx\u001b[49m\u001b[38;5;241;43m=\u001b[39;49m\u001b[38;5;241;43m0\u001b[39;49m\u001b[43m,\u001b[49m\u001b[43m \u001b[49m\u001b[43mn\u001b[49m\u001b[38;5;241;43m=\u001b[39;49m\u001b[38;5;241;43m2\u001b[39;49m\u001b[43m)\u001b[49m\n",
            "Cell \u001b[0;32mIn[87], line 5\u001b[0m, in \u001b[0;36mracine_positive_nn\u001b[0;34m(x, n)\u001b[0m\n\u001b[1;32m      3\u001b[0m     \u001b[38;5;28;01mraise\u001b[39;00m \u001b[38;5;167;01mValueError\u001b[39;00m(\u001b[38;5;124m\"\u001b[39m\u001b[38;5;124mx est négatif\u001b[39m\u001b[38;5;124m\"\u001b[39m)\n\u001b[1;32m      4\u001b[0m \u001b[38;5;28;01melif\u001b[39;00m x\u001b[38;5;241m==\u001b[39m\u001b[38;5;241m0\u001b[39m:\n\u001b[0;32m----> 5\u001b[0m     \u001b[38;5;28;01mraise\u001b[39;00m \u001b[38;5;167;01mValueError\u001b[39;00m(\u001b[38;5;124m\"\u001b[39m\u001b[38;5;124mx est nul\u001b[39m\u001b[38;5;124m\"\u001b[39m)\n\u001b[1;32m      6\u001b[0m \u001b[38;5;28;01melse\u001b[39;00m:\n\u001b[1;32m      7\u001b[0m     r \u001b[38;5;241m=\u001b[39m x\u001b[38;5;241m*\u001b[39m\u001b[38;5;241m*\u001b[39m(\u001b[38;5;241m1\u001b[39m\u001b[38;5;241m/\u001b[39mn)\n",
            "\u001b[0;31mValueError\u001b[0m: x est nul"
          ]
        }
      ],
      "source": [
        "racine_positive_nn(x=0, n=2)"
      ]
    },
    {
      "cell_type": "code",
      "execution_count": 34,
      "id": "714b8898",
      "metadata": {
        "ExecuteTime": {
          "end_time": "2023-07-10T20:22:46.657153+00:00",
          "start_time": "2023-07-10T20:22:46.498267+00:00"
        },
        "inputHidden": false,
        "noteable": {},
        "outputHidden": false
      },
      "outputs": [
        {
          "data": {
            "text/plain": [
              "2.0"
            ]
          },
          "execution_count": null,
          "metadata": {},
          "output_type": "execute_result"
        }
      ],
      "source": [
        "racine_positive_nn(x=4, n=2)"
      ]
    },
    {
      "cell_type": "markdown",
      "id": "a32bab39",
      "metadata": {},
      "source": [
        "## Charger un module\n",
        "\n",
        "Le module *Numpy* est une boîte d'outil de calcul numérique populée par de nombreuses foncions mathématiques. Un message d'erreur apparaîtra s'il n'est pas installé. Pour l'installer, utilisez préférablement `conda install numpy` si vous utilisez la distribution Anaconda, sinon `pip install numpy`."
      ]
    },
    {
      "cell_type": "code",
      "execution_count": 1,
      "id": "b6a6eea7",
      "metadata": {
        "ExecuteTime": {
          "end_time": "2023-07-10T20:22:49.584546+00:00",
          "start_time": "2023-07-10T20:22:49.426084+00:00"
        },
        "inputHidden": false,
        "noteable": {},
        "outputHidden": false
      },
      "outputs": [
        {
          "data": {
            "text/plain": [
              "3.0"
            ]
          },
          "execution_count": null,
          "metadata": {},
          "output_type": "execute_result"
        }
      ],
      "source": [
        "import numpy as np\n",
        "np.sqrt(9)"
      ]
    },
    {
      "cell_type": "code",
      "execution_count": 36,
      "id": "41918d0d",
      "metadata": {
        "ExecuteTime": {
          "end_time": "2023-07-10T20:23:08.753516+00:00",
          "start_time": "2023-07-10T20:23:08.594660+00:00"
        },
        "inputHidden": false,
        "noteable": {},
        "outputHidden": false
      },
      "outputs": [
        {
          "data": {
            "text/plain": [
              "3.0"
            ]
          },
          "execution_count": null,
          "metadata": {},
          "output_type": "execute_result"
        }
      ],
      "source": [
        "from numpy import sqrt\n",
        "sqrt(9)"
      ]
    },
    {
      "cell_type": "markdown",
      "id": "5ea64f3d",
      "metadata": {},
      "source": [
        "La plupart des fonctions que vous aurez à construire seront vouées à des instructions spécialisées à votre cas d'étude. Pour la plupart des opérations d'ordre générale (comme les racines carrées, les tests statistiques, la gestion de matrices et de tableau, les graphiques, les modèles d'apprentissage, etc.), des équipes ont déjà développé des fonctions nécessaires à leur utilisation, et les ont laissées disponibles au grand public. L'introduction à Python se termine là-dessus.\n",
        "\n",
        "Comme une langue, on n'apprend à s'exprimer en un langage informatique qu'en se mettant à l'épreuve, ce que vous ferez tout au long de ce cours."
      ]
    }
  ],
  "metadata": {
    "anaconda-cloud": {},
    "kernel_info": {
      "name": "python3"
    },
    "kernelspec": {
      "display_name": "Python 3",
      "language": "python",
      "name": "python3"
    },
    "language_info": {
      "codemirror_mode": {
        "name": "ipython",
        "version": 3
      },
      "file_extension": ".py",
      "mimetype": "text/x-python",
      "name": "python",
      "nbconvert_exporter": "python",
      "pygments_lexer": "ipython3",
      "version": "3.6.4"
    },
    "noteable": {
      "last_delta_id": "7590cb43-a0ed-4dc7-85e4-0bb359c141fe",
      "last_transaction_id": "4dab919a-3d07-4cbc-a1be-b0aca85794d7"
    },
    "nteract": {
      "version": "noteable@2.9.0"
    },
    "selected_hardware_size": "small"
  },
  "nbformat": 4,
  "nbformat_minor": 5
}
