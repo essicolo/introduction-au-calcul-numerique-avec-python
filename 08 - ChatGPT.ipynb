{
  "nbformat": 4,
  "nbformat_minor": 5,
  "metadata": {
    "noteable-chatgpt": {
      "create_notebook": {
        "openai_conversation_id": "470fc6a5-1a33-516e-a3b6-51798eddb9f8",
        "openai_ephemeral_user_id": "5cc7154b-87cd-57e0-a19c-c73f1dc581de",
        "openai_subdivision1_iso_code": "CA-QC"
      }
    },
    "noteable": {
      "last_transaction_id": "9ca51e6a-179a-4539-8e66-ee9b37cf7394"
    },
    "selected_hardware_size": "small"
  },
  "cells": [
    {
      "id": "20b1c016-c7f0-4209-8191-899e21c51931",
      "cell_type": "markdown",
      "source": "# ChatGPT\n\nGrâce à ChatGPT, l'enseignement de la science des données, plutôt que de se concentrer à écrire du code, est destiné à migrer son emphase vers\n\n1. poser les bonnes questions et\n1. comprendre le sens des réponses\n\nLa plateforme de calcul Noteable a développé une [extension](https://noteable.io/chatgpt-plugin-for-notebook/) permettant de générer des carnets de calcul complets avec ChatGPT. Notez toutefois que l'utilisation du plugin ChatGPT de Noteable demande un abonnement payant à ChatGPT. La plateforme [Deepnote](https://deepnote.com) offre une [implémentation gratuite qui permet de générer du code à même les cellules d'un carnet](https://deepnote.com/changelog/2023-06-29#deepnote-ai-chatgpt-for-your-notebook) plutôt que de générer un carnet complet.\n\n**Avertissement**. Les développements évoluant rapidement, ce cours est probablement déjà dépassé.\n\n## Qu'est-ce que ChatGPT\n\nChatGPT n'est pas une *intelligence artificielle*. C'est juste du code lancé sur un serveur pour répondre à des commandes. L'expression *robot conversationnel* est donc plus exacte. On suscite avec raison les enjeux d'éthique, comme de propriété intellectuelle, qui sont liés à son utilisation. Néanmoins, il peut être d'une aide fabuleusement efficace pour l'apprentissage du code.\n\nEncore faut-il  poser les bonnes questions...",
      "metadata": {
        "noteable": {
          "cell_type": "markdown"
        }
      }
    },
    {
      "id": "43628b52-66c7-4f2a-8ae4-357bf0ae1428",
      "cell_type": "markdown",
      "source": "## Question à ChatGPT\n\nGénère un notebook incluant \n1. une analyse en composantes principales sur les données de \"data/penguins.csv\", avec les colonnes bill_length_mm, bill_depth_mm, flipper_length_mm et body_mass_g. Génère aussi un biplot en scaling 2 (biplot de corrélation).\n2. les anovas avec statsmodels sur les variables exogènes bill_length_mm, bill_depth_mm, flipper_length_mm et body_mass_g et les variables endogènes sex et species, Puis, dans le notebook, analyse les résultats, dont les coefficients, les t-values et les p-values.\n3. une prédiction (de type classification) de l'espèce en fonction des colonnes bill_length_mm, bill_depth_mm, flipper_length_mm et body_mass_g et sex avec un arbre décisionnel de scikit-learn, puis affiche l'arbre décisionnel, et enfin analyse les résultats de la prédiction\n4. un aperçu de l'importance des variables dans le modèle de classification",
      "metadata": {
        "noteable": {
          "cell_type": "markdown"
        }
      }
    },
    {
      "id": "1bcd5774-7c83-4e91-9c05-f5e4ef0ff32e",
      "cell_type": "markdown",
      "source": "## Sa réponse\n\nJe colle sa réponse ci-dessous. Que remarquez-vous?",
      "metadata": {
        "noteable": {
          "cell_type": "markdown"
        }
      }
    },
    {
      "id": "e07d41da-ff5f-496c-a945-70a6a45c6b99",
      "cell_type": "markdown",
      "source": "# Analyse des données des manchots\nDans ce notebook, nous allons effectuer une analyse des données des manchots. Nous allons effectuer une analyse en composantes principales (ACP), une analyse de variance (ANOVA), une prédiction de l'espèce à l'aide d'un arbre de décision et une analyse de l'importance des variables dans le modèle de classification.\n\nCommençons par importer les bibliothèques nécessaires et charger les données.",
      "metadata": {
        "noteable": {
          "cell_type": "markdown"
        }
      }
    },
    {
      "id": "7535dae5-0a9c-42fd-93d5-2ae01048b528",
      "cell_type": "code",
      "metadata": {
        "noteable": {
          "cell_type": "code",
          "output_collection_id": "9242ee0c-656d-4547-b4bd-a3ead2114295"
        },
        "ExecuteTime": {
          "end_time": "2023-07-13T18:42:48.506090+00:00",
          "start_time": "2023-07-13T18:42:47.236636+00:00"
        },
        "datalink": {
          "bf8aff55-71fb-491e-8b1c-90228bb8b63b": {
            "applied_filters": [],
            "dataframe_info": {
              "default_index_used": true,
              "orig_num_cols": 9,
              "orig_num_rows": 5,
              "orig_size_bytes": 400,
              "truncated_num_cols": 9,
              "truncated_num_rows": 5,
              "truncated_size_bytes": 400,
              "truncated_string_columns": []
            },
            "display_id": "bf8aff55-71fb-491e-8b1c-90228bb8b63b",
            "dx_settings": {
              "ALLOW_NOTEABLE_ATTRS": true,
              "COLUMN_SAMPLING_METHOD": "outer",
              "DB_LOCATION": ":memory:",
              "DEV_MODE": false,
              "DISPLAY_MAX_COLUMNS": 100,
              "DISPLAY_MAX_ROWS": 50000,
              "DISPLAY_MODE": "simple",
              "ENABLE_ASSIGNMENT": true,
              "ENABLE_DATALINK": true,
              "FLATTEN_COLUMN_VALUES": true,
              "FLATTEN_INDEX_VALUES": false,
              "GENERATE_DEX_METADATA": false,
              "HTML_TABLE_SCHEMA": false,
              "LOG_LEVEL": 30,
              "MAX_RENDER_SIZE_BYTES": 104857600,
              "MAX_STRING_LENGTH": 250,
              "NUM_PAST_SAMPLES_TRACKED": 3,
              "RANDOM_STATE": 12648430,
              "RESET_INDEX_VALUES": false,
              "ROW_SAMPLING_METHOD": "random",
              "SAMPLING_FACTOR": 0.1,
              "SAMPLING_METHOD": "random",
              "STRINGIFY_COLUMN_VALUES": true,
              "STRINGIFY_INDEX_VALUES": false
            },
            "sample_history": [],
            "sampling_time": "2023-06-30T03:12:06.025992",
            "user_variable_name": null,
            "variable_name": "unk_dataframe_6b3e5e4571314818af2f22001fb20dee"
          },
          "748de190-4fd0-4ee2-8b85-73a6267aa9c5": {
            "applied_filters": [],
            "dataframe_info": {
              "default_index_used": true,
              "orig_num_cols": 9,
              "orig_num_rows": 5,
              "orig_size_bytes": 400,
              "truncated_num_cols": 9,
              "truncated_num_rows": 5,
              "truncated_size_bytes": 400,
              "truncated_string_columns": []
            },
            "display_id": "748de190-4fd0-4ee2-8b85-73a6267aa9c5",
            "dx_settings": {
              "ALLOW_NOTEABLE_ATTRS": true,
              "COLUMN_SAMPLING_METHOD": "outer",
              "DB_LOCATION": ":memory:",
              "DEV_MODE": false,
              "DISPLAY_MAX_COLUMNS": 100,
              "DISPLAY_MAX_ROWS": 50000,
              "DISPLAY_MODE": "simple",
              "ENABLE_ASSIGNMENT": true,
              "ENABLE_DATALINK": true,
              "FLATTEN_COLUMN_VALUES": true,
              "FLATTEN_INDEX_VALUES": false,
              "GENERATE_DEX_METADATA": false,
              "HTML_TABLE_SCHEMA": false,
              "LOG_LEVEL": 30,
              "MAX_RENDER_SIZE_BYTES": 104857600,
              "MAX_STRING_LENGTH": 250,
              "NUM_PAST_SAMPLES_TRACKED": 3,
              "RANDOM_STATE": 12648430,
              "RESET_INDEX_VALUES": false,
              "ROW_SAMPLING_METHOD": "random",
              "SAMPLING_FACTOR": 0.1,
              "SAMPLING_METHOD": "random",
              "STRINGIFY_COLUMN_VALUES": true,
              "STRINGIFY_INDEX_VALUES": false
            },
            "sample_history": [],
            "sampling_time": "2023-07-13T18:42:48.347202",
            "user_variable_name": null,
            "variable_name": "unk_dataframe_4c7934d4a6bf4d7eb7719b9411a10bdf"
          }
        }
      },
      "execution_count": null,
      "source": "import pandas as pd\nimport numpy as np\nfrom sklearn.decomposition import PCA\nfrom sklearn.preprocessing import StandardScaler\nimport matplotlib.pyplot as plt\nimport seaborn as sns\nimport statsmodels.api as sm\nfrom statsmodels.formula.api import ols\nfrom sklearn.tree import DecisionTreeClassifier, plot_tree\nfrom sklearn.model_selection import train_test_split\nfrom sklearn.metrics import accuracy_score, confusion_matrix\n\n# Load the data\npenguins = pd.read_csv('data/penguins.csv')\npenguins.head()",
      "outputs": []
    },
    {
      "id": "ed892dd5-a4e4-49d9-b367-7888c9cd150a",
      "cell_type": "markdown",
      "source": "Les données des manchots ont été chargées avec succès. Elles contiennent les informations suivantes sur les manchots :\n- species : l'espèce du manchot\n- island : l'île où le manchot a été observé\n- bill_length_mm : la longueur du bec en mm\n- bill_depth_mm : la profondeur du bec en mm\n- flipper_length_mm : la longueur de l'aileron en mm\n- body_mass_g : la masse corporelle en g\n- sex : le sexe du manchot\n- year : l'année de l'observation\n\nNous allons maintenant effectuer une analyse en composantes principales (ACP) sur les colonnes numériques : bill_length_mm, bill_depth_mm, flipper_length_mm et body_mass_g.",
      "metadata": {
        "noteable": {
          "cell_type": "markdown"
        }
      }
    },
    {
      "id": "7153a024-3332-427a-ad8b-c373f21b8b9b",
      "cell_type": "code",
      "metadata": {
        "noteable": {
          "cell_type": "code",
          "output_collection_id": "78230a29-b24e-4c0e-bdd6-d6af937dc003"
        },
        "ExecuteTime": {
          "end_time": "2023-06-30T03:13:16.321380+00:00",
          "start_time": "2023-06-30T03:13:15.624649+00:00"
        }
      },
      "execution_count": null,
      "source": "# Drop rows with missing values\npenguins = penguins.dropna()\n\n# Select numerical columns for PCA\nnumerical_columns = ['bill_length_mm', 'bill_depth_mm', 'flipper_length_mm', 'body_mass_g']\npenguins_numerical = penguins[numerical_columns]\n\n# Standardize the numerical columns\nscaler = StandardScaler()\npenguins_numerical_scaled = scaler.fit_transform(penguins_numerical)\n\n# Perform PCA\npca = PCA()\npenguins_pca = pca.fit_transform(penguins_numerical_scaled)\n\n# Convert to DataFrame for convenience\npenguins_pca_df = pd.DataFrame(data = penguins_pca, columns = ['PC1', 'PC2', 'PC3', 'PC4'])\npenguins_pca_df['species'] = penguins['species'].values\n\n# Plot the first two principal components\nplt.figure(figsize=(8, 6))\nsns.scatterplot(x='PC1', y='PC2', hue='species', data=penguins_pca_df)\nplt.title('PCA on Penguins Data')\nplt.show()",
      "outputs": []
    },
    {
      "id": "56d8cd84-9072-4902-8ff9-4ca98d446056",
      "cell_type": "markdown",
      "source": "Nous avons effectué une analyse en composantes principales (ACP) sur les données numériques des manchots. L'ACP est une technique de réduction de dimension qui permet de visualiser les données multidimensionnelles dans un espace de dimension inférieure. Dans notre cas, nous avons représenté les données dans un espace bidimensionnel en utilisant les deux premières composantes principales.\n\nSur le graphique, chaque point représente un manchot et la couleur du point indique l'espèce du manchot. Nous pouvons observer que les différentes espèces de manchots se regroupent en clusters distincts dans l'espace des composantes principales, ce qui indique que les espèces de manchots ont des caractéristiques morphologiques distinctes.\n\nPassons maintenant à l'analyse de variance (ANOVA).",
      "metadata": {
        "noteable": {
          "cell_type": "markdown"
        }
      }
    },
    {
      "id": "c6f5d76b-6171-401c-b146-ac0516809299",
      "cell_type": "code",
      "metadata": {
        "noteable": {
          "cell_type": "code",
          "output_collection_id": "4b9c7109-c2c2-4702-b603-1fe6c8b490a2"
        },
        "ExecuteTime": {
          "end_time": "2023-06-30T03:14:06.108096+00:00",
          "start_time": "2023-06-30T03:14:05.829783+00:00"
        }
      },
      "execution_count": null,
      "source": "# Perform ANOVA for each numerical variable\nfor num_var in numerical_columns:\n    # ANOVA with 'sex'\n    model = ols(f'{num_var} ~ C(sex)', data=penguins).fit()\n    anova_table = sm.stats.anova_lm(model, typ=2)\n    print(f'ANOVA results for {num_var} with sex:')\n    print(anova_table)\n    print('\\n')\n\n    # ANOVA with 'species'\n    model = ols(f'{num_var} ~ C(species)', data=penguins).fit()\n    anova_table = sm.stats.anova_lm(model, typ=2)\n    print(f'ANOVA results for {num_var} with species:')\n    print(anova_table)\n    print('\\n')",
      "outputs": []
    },
    {
      "id": "074e7835-9eed-46c1-ba1a-fa6305feed93",
      "cell_type": "markdown",
      "source": "Nous avons effectué une analyse de variance (ANOVA) pour chaque variable numérique en fonction du sexe et de l'espèce des manchots. L'ANOVA est une technique statistique qui permet de tester si les moyennes de deux ou plusieurs groupes sont significativement différentes. Dans notre cas, nous avons testé si les moyennes des variables numériques diffèrent significativement entre les sexes et entre les espèces de manchots.\n\nLes résultats de l'ANOVA sont présentés sous la forme d'une table qui contient les sommes des carrés (sum_sq), les degrés de liberté (df), la statistique F (F) et la p-value (PR(>F)). La p-value est une mesure de la probabilité que les différences observées entre les groupes soient dues au hasard. Une p-value inférieure à 0,05 est généralement considérée comme indiquant une différence significative.\n\nPour toutes les variables numériques, les p-values sont inférieures à 0,05, ce qui indique que les moyennes diffèrent significativement à la fois entre les sexes et entre les espèces de manchots.\n\nPassons maintenant à la prédiction de l'espèce à l'aide d'un arbre de décision.",
      "metadata": {
        "noteable": {
          "cell_type": "markdown"
        }
      }
    },
    {
      "id": "2de975f6-b0b0-4b89-8618-f4f2895378d8",
      "cell_type": "code",
      "metadata": {
        "noteable": {
          "cell_type": "code",
          "output_collection_id": "aac9c798-d7a2-4270-ac3f-1ef86c189f3f"
        },
        "ExecuteTime": {
          "end_time": "2023-06-30T03:33:09.003658+00:00",
          "start_time": "2023-06-30T03:33:07.115697+00:00"
        }
      },
      "execution_count": null,
      "source": "# Prepare data for decision tree\nX = penguins[numerical_columns + ['sex']]\nX['sex'] = X['sex'].map({'male': 0, 'female': 1})  # Convert 'sex' to numerical\ny = penguins['species']\n\n# Split the data into training and test sets\nX_train, X_test, y_train, y_test = train_test_split(X, y, test_size=0.2, random_state=42)\n\n# Train a decision tree\ntree = DecisionTreeClassifier(random_state=42)\ntree.fit(X_train, y_train)\n\n# Make predictions on the test set\ny_pred = tree.predict(X_test)\n\n# Calculate accuracy\naccuracy = accuracy_score(y_test, y_pred)\nprint(f'Accuracy: {accuracy}')\n\n# Plot the decision tree\nplt.figure(figsize=(12, 8))\nplot_tree(tree, feature_names=X.columns, class_names=tree.classes_, filled=True)\nplt.show()",
      "outputs": []
    },
    {
      "id": "94d569aa-ae3f-458a-95f2-bf2950eb0e7e",
      "cell_type": "markdown",
      "source": "Nous avons entraîné un arbre de décision pour prédire l'espèce des manchots en fonction de leurs caractéristiques morphologiques et de leur sexe. L'arbre de décision a atteint une précision de 100% sur l'ensemble de test, ce qui indique qu'il a parfaitement classé toutes les observations de l'ensemble de test.\n\nL'arbre de décision est visualisé ci-dessus. Chaque nœud de l'arbre représente une décision basée sur une caractéristique. Les feuilles de l'arbre représentent les prédictions de l'espèce.\n\nPassons maintenant à l'analyse de l'importance des variables dans le modèle de classification.",
      "metadata": {
        "noteable": {
          "cell_type": "markdown"
        }
      }
    },
    {
      "id": "0ed10c97-4a0f-48e2-9aa0-51fba0d9c295",
      "cell_type": "code",
      "metadata": {
        "noteable": {
          "cell_type": "code",
          "output_collection_id": "f49f49ec-c0ff-490d-8bdb-420568cfecee"
        },
        "ExecuteTime": {
          "end_time": "2023-06-30T03:34:00.538386+00:00",
          "start_time": "2023-06-30T03:34:00.127095+00:00"
        }
      },
      "execution_count": null,
      "source": "# Get feature importances\nimportances = tree.feature_importances_\n\n# Convert to DataFrame for convenience\nimportances_df = pd.DataFrame(data=importances, index=X.columns, columns=['importance'])\nimportances_df = importances_df.sort_values(by='importance', ascending=False)\n\n# Plot feature importances\nplt.figure(figsize=(8, 6))\nsns.barplot(x='importance', y=importances_df.index, data=importances_df)\nplt.title('Feature Importances')\nplt.show()",
      "outputs": []
    },
    {
      "id": "4de667a3-7c04-4a50-a191-f4119314243d",
      "cell_type": "markdown",
      "source": "Nous avons calculé l'importance des variables dans le modèle de classification. L'importance des variables est une mesure de l'importance relative de chaque variable dans la prédiction de l'espèce des manchots. Les variables avec une importance plus élevée ont un impact plus important sur la prédiction.\n\nSur le graphique, nous pouvons voir que la longueur de l'aileron (flipper_length_mm) est la variable la plus importante dans la prédiction de l'espèce des manchots, suivie de la profondeur du bec (bill_depth_mm), de la longueur du bec (bill_length_mm) et de la masse corporelle (body_mass_g). Le sexe du manchot (sex) est la variable la moins importante.\n\nCela conclut notre analyse des données des manchots. Nous avons effectué une analyse en composantes principales, une analyse de variance, une prédiction de l'espèce à l'aide d'un arbre de décision et une analyse de l'importance des variables dans le modèle de classification.",
      "metadata": {
        "noteable": {
          "cell_type": "markdown"
        }
      }
    }
  ]
}