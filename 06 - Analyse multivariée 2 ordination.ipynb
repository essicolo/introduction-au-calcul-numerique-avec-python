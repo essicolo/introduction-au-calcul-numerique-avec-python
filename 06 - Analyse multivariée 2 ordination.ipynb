{
  "cells": [
    {
      "cell_type": "code",
      "execution_count": null,
      "id": "1b31064b-33d6-404d-92c4-14471d388a8a",
      "metadata": {
        "ExecuteTime": {
          "end_time": "2023-07-06T16:29:04.769344+00:00",
          "start_time": "2023-07-06T16:29:00.161106+00:00"
        },
        "jupyter": {
          "outputs_hidden": true,
          "source_hidden": false
        },
        "noteable": {
          "cell_type": "code",
          "output_collection_id": "5441fe9f-cbe6-4701-9d01-5ddfaf58c6df"
        }
      },
      "outputs": [],
      "source": [
        "!pip install polars==0.19 lets-plot==4.1 prince\n",
        "import numpy as np\n",
        "import polars as pl\n",
        "import prince\n",
        "from lets_plot import *\n",
        "LetsPlot.setup_html()"
      ]
    },
    {
      "cell_type": "markdown",
      "id": "7647d78b-950e-45bf-a3c7-ca0e4fa2593a",
      "metadata": {
        "noteable": {
          "cell_type": "markdown"
        }
      },
      "source": [
        "# Analyse multivariée 2: ordination\n",
        "\n",
        "Littéralement, l'ordination vise à mettre de l'*ordre* dans des données, dont le nombre élevé de variables peut amener à des difficultés d'appréciation et d'interprétaion ([Legendre et Legendre, 2012](https://www.elsevier.com/books/numerical-ecology/legendre/978-0-444-53868-0)). En science des données, le terme ordination est utilisé pour désigner un ensemble de techniques de réduction d'axe. L'analyse en composante principale est probablement la plus connue de ces techniques, mais de nombreuses techniques d'ordination ont été développées au cours des dernières années, chacune ayant ses domaines d'application.\n",
        "\n",
        "Les techniques de réduction d'axe permettent de dégager l'information la plus importante en projetant une synthèse des relations entre les observations et entre les variables. Les techniques ne supposant aucune structure a priori sont dites *non contraignantes*. À l'inverse, les ordinations contraignantes lient des variables descriptives avec une ou plusieurs variables prédictives.\n",
        "\n",
        "La référence en la matière est indiscutablement [Legendre et Legendre (2012)](https://www.elsevier.com/books/numerical-ecology/legendre/978-0-444-53868-0). Je m'inspirerai toutefois de l'approche du module [*Prince*](https://maxhalford.github.io/prince/), qui offre des fonctions pour l'ordination non contraignante. Dans cette section, nous ne couvrirons que l'analyse en composantes principales et l'analyse discriminante."
      ]
    },
    {
      "cell_type": "markdown",
      "id": "dfb49540-aca5-4a09-9fd7-5ce052b3923e",
      "metadata": {
        "noteable": {
          "cell_type": "markdown"
        }
      },
      "source": [
        "![](images/ord_flow-chart.png)\n",
        "\n",
        "<small>Arbre de décision pour l'ordination, inspiré de [Max Halford](https://maxhalford.github.io/prince/)</small> "
      ]
    },
    {
      "cell_type": "markdown",
      "id": "ebdc008f-f207-411f-8e9f-d2a14ee484c9",
      "metadata": {
        "noteable": {
          "cell_type": "markdown"
        }
      },
      "source": [
        "Le module *Prince* vient avec des méthodes pour visualiser les résultats des ordinations. Jusqu'à présent, nous avons utilisé [*Lets-Plot*](https://lets-plot.org/), mais *Prince* utilise plutôt [*Altair*](https://altair-viz.github.io/) comme module graphique. Comme *Lets-Plot*, *Altair* fonctionne en mode de visualisation déclarative. Le vocabulaire est différent, mais les principes sont sensiblement les mêmes.\n",
        "\n",
        "Plusieurs modules en Python peuvent effectuer ces opérations d'ordination.\n",
        "\n",
        "- Analyse en composantes principales: [Prince](https://maxhalford.github.io/prince/pca/), [Scikit-Learn](https://scikit-learn.org/stable/modules/generated/sklearn.decomposition.PCA.html#sklearn.decomposition.PCA) et [Statsmodels](https://www.statsmodels.org/dev/generated/statsmodels.multivariate.pca.PCA.html).\n",
        "- Analyse procustéenne généralisée: [Prince](https://maxhalford.github.io/prince/gpa/).\n",
        "- Analyse factorielle multiple: [Prince](https://maxhalford.github.io/prince/mfa/).\n",
        "- Analyse de correspondance: [Prince](https://maxhalford.github.io/prince/ca/).\n",
        "- Analyse de correspondance multiple: [Prince](https://maxhalford.github.io/prince/mfa/).\n",
        "- Analyse de factorielle de données mixes: [Prince](https://maxhalford.github.io/prince/famd/).\n",
        "- Échelle multidimensionnelle: [Scikit-Learn](https://scikit-learn.org/stable/modules/generated/sklearn.manifold.MDS.html#sklearn.manifold.MDS).\n",
        "- Analyse de corrélations canoniques: [Scikit-Learn](https://scikit-learn.org/stable/modules/generated/sklearn.cross_decomposition.CCA.html#sklearn.cross_decomposition.CCA)\n",
        "- Analyse discriminante: [Scikit-Learn](https://scikit-learn.org/stable/modules/generated/sklearn.discriminant_analysis.LinearDiscriminantAnalysis.html#sklearn.discriminant_analysis.LinearDiscriminantAnalysis).\n"
      ]
    },
    {
      "cell_type": "markdown",
      "id": "5231740a-67f5-457c-aba9-66bdda3cd3ba",
      "metadata": {
        "noteable": {
          "cell_type": "markdown"
        }
      },
      "source": [
        "## Analyse en composantes principales (ACP)\n",
        "\n",
        "L'objectif d'une ACP est de représenter les données dans un nombre réduit de dimensions représentant le plus possible la variation d'un tableau de données : elle permet de projeter les données dans un espace dans lequel les variables sont combinées en axes orthogonaux dont le premier axe capte le maximum de variance. L'ACP peut par exemple être utilisée pour analyser des corrélations entre variables ou dégager l'information la plus pertinente d'un tableau de données météo ou de signal en un nombre plus retreint de variables.\n",
        "\n",
        "L'ACP effectue une rotation des axes à partir de sorte que le premier axe définisse la direction à travers laquelle on retrouve la variance maximale. Ce premier axe est une combinaison linéaire des variables et forme la première composante principale. Une fois cet axe définit, on trouve le deuxième axe, orthogonal au premier, où l'on retrouve la variance maximale — cet axe forme la deuxième composante principale, et ainsi de suite jusqu'à ce que le nombre d'axes corresponde au nombre de variables.\n",
        "\n",
        "Les projections des observations sur ces axes principaux sont appelées les **scores**. Les projections des variables sur les axes principaux sont les **vecteurs propres**  (*eigenvectors*, ou *loadings*). La variance des composantes principales diminue de la première à la dernière, et peut être calculée comme une proportion de la variance totale : c'est le **pourcentage d'inertie**. Par convention, on utilise les **valeurs propres** (*eigenvalues*) pour mesurer l'importance des axes. Si la première composante principale a une inertie de 50% et la deuxième a une inertie de 30%, la représentation en 2D des projections représentera 50% + 30% = 80% de la variance du nuage de points.\n",
        "\n",
        "L'hétérogénéité des échelles de mesure peut avoir une grande importance sur les résultats d'une ACP (les données doivent être dimensionnellement homogènes). En effet, la hauteur d'un cerisier aura une variance plus grande que le diamètre d'une cerise exprimé dans les mêmes unités, et cette dernière aura plus de variance que la teneur en cuivre d'une feuille. Il est conséquemment avisé d'homogénéiser les échelles en centrant la moyenne à zéro et l'écart-type à 1 avant de procéder à une ACP.\n",
        "\n",
        "L'ACP a été conçue pour projeter en un nombre moindre de dimensions des observations dont les distributions sont multinormales. Bien que l'ACP soit une technique robuste, il est préférable de transformer préalablement les variables dont la distribution est particulièrement asymétrique ([Legendre et Legendre, 2012, p. 450](https://www.elsevier.com/books/numerical-ecology/legendre/978-0-444-53868-0)). Le cas échéant, les valeurs extrêmes pourraient faire dévier les vecteurs propres et biaiser l'analyse. En particulier, les données ACP menées sur des données compositionnelles sont réputées pour générer des analyses biaisées ([Pawlowsky-Glahn and Egozcue, 2006](http://sp.lyellcollection.org/content/specpubgsl/264/1/1.full.pdf)). Le test de Mardia ([Korkmaz, 2014](https://journal.r-project.org/archive/2014-2/korkmaz-goksuluk-zararsiz.pdf)) peut être utilisé pour tester la multinormalité. Une distribution multinormale devrait générer des scores en forme d'hypersphère (en forme de cercle sur un biplot: voir plus loin).\n",
        "\n",
        "Voyons ce que nous dira une ACP sur nos données de manchots."
      ]
    },
    {
      "cell_type": "code",
      "execution_count": 2,
      "id": "35aa2297-1ee5-4133-97ec-fed67b8736dd",
      "metadata": {
        "ExecuteTime": {
          "end_time": "2023-07-06T16:29:04.985704+00:00",
          "start_time": "2023-07-06T16:29:04.825912+00:00"
        },
        "datalink": {
          "41d7a5a8-2778-41fd-acc1-ba3fa159e399": {
            "applied_filters": [],
            "dataframe_info": {
              "default_index_used": true,
              "orig_num_cols": 9,
              "orig_num_rows": 344,
              "orig_size_bytes": 27520,
              "truncated_num_cols": 9,
              "truncated_num_rows": 344,
              "truncated_size_bytes": 27520,
              "truncated_string_columns": []
            },
            "display_id": "41d7a5a8-2778-41fd-acc1-ba3fa159e399",
            "dx_settings": {
              "ALLOW_NOTEABLE_ATTRS": true,
              "COLUMN_SAMPLING_METHOD": "outer",
              "DB_LOCATION": ":memory:",
              "DEV_MODE": false,
              "DISPLAY_MAX_COLUMNS": 100,
              "DISPLAY_MAX_ROWS": 50000,
              "DISPLAY_MODE": "simple",
              "ENABLE_ASSIGNMENT": true,
              "ENABLE_DATALINK": true,
              "FLATTEN_COLUMN_VALUES": true,
              "FLATTEN_INDEX_VALUES": false,
              "GENERATE_DEX_METADATA": false,
              "HTML_TABLE_SCHEMA": false,
              "LOG_LEVEL": 30,
              "MAX_RENDER_SIZE_BYTES": 104857600,
              "MAX_STRING_LENGTH": 250,
              "NUM_PAST_SAMPLES_TRACKED": 3,
              "RANDOM_STATE": 12648430,
              "RESET_INDEX_VALUES": false,
              "ROW_SAMPLING_METHOD": "random",
              "SAMPLING_FACTOR": 0.1,
              "SAMPLING_METHOD": "random",
              "STRINGIFY_COLUMN_VALUES": true,
              "STRINGIFY_INDEX_VALUES": false
            },
            "sample_history": [],
            "sampling_time": "2023-06-22T19:46:27.635149",
            "user_variable_name": null,
            "variable_name": "unk_dataframe_6f722d7a21a1402483dcfd928b3c046d"
          },
          "782e676e-bc7e-4f1b-a043-65b98afc510d": {
            "applied_filters": [],
            "dataframe_info": {
              "default_index_used": true,
              "orig_num_cols": 9,
              "orig_num_rows": 344,
              "orig_size_bytes": 27520,
              "truncated_num_cols": 9,
              "truncated_num_rows": 344,
              "truncated_size_bytes": 27520,
              "truncated_string_columns": []
            },
            "display_id": "782e676e-bc7e-4f1b-a043-65b98afc510d",
            "dx_settings": {
              "ALLOW_NOTEABLE_ATTRS": true,
              "COLUMN_SAMPLING_METHOD": "outer",
              "DB_LOCATION": ":memory:",
              "DEV_MODE": false,
              "DISPLAY_MAX_COLUMNS": 100,
              "DISPLAY_MAX_ROWS": 50000,
              "DISPLAY_MODE": "simple",
              "ENABLE_ASSIGNMENT": true,
              "ENABLE_DATALINK": true,
              "FLATTEN_COLUMN_VALUES": true,
              "FLATTEN_INDEX_VALUES": false,
              "GENERATE_DEX_METADATA": false,
              "HTML_TABLE_SCHEMA": false,
              "LOG_LEVEL": 30,
              "MAX_RENDER_SIZE_BYTES": 104857600,
              "MAX_STRING_LENGTH": 250,
              "NUM_PAST_SAMPLES_TRACKED": 3,
              "RANDOM_STATE": 12648430,
              "RESET_INDEX_VALUES": false,
              "ROW_SAMPLING_METHOD": "random",
              "SAMPLING_FACTOR": 0.1,
              "SAMPLING_METHOD": "random",
              "STRINGIFY_COLUMN_VALUES": true,
              "STRINGIFY_INDEX_VALUES": false
            },
            "sample_history": [],
            "sampling_time": "2023-06-22T19:45:42.748679",
            "user_variable_name": null,
            "variable_name": "unk_dataframe_2fbddf02216046a5be1c25b6c5d084c5"
          }
        },
        "jupyter": {
          "outputs_hidden": false,
          "source_hidden": false
        },
        "noteable": {
          "cell_type": "code",
          "output_collection_id": "bc14ea5d-8823-447f-b92d-db58bb215500"
        }
      },
      "outputs": [],
      "source": [
        "penguins = pl.read_csv('data/penguins.csv', null_values='NA')\n",
        "penguins = (\n",
        "    penguins\n",
        "    .filter(pl.all_horizontal(pl.col(pl.Float32, pl.Float64).is_not_nan())) # enlever les NaN\n",
        "    .drop_nulls() # enlever les None\n",
        ")"
      ]
    },
    {
      "cell_type": "markdown",
      "id": "1b4de67f-e4f0-4f40-be3a-a84a180a35d4",
      "metadata": {
        "noteable": {
          "cell_type": "markdown"
        }
      },
      "source": [
        "J'ai pris la liberté de nettoyer le tableau `penguins` en enlevant les valeurs NaN (*not a number*) et les valeurs *None*. L'ACP est généralement effectuée sur les *features* (variables prédictives). J'inclus le nom des *features* de mon tableau dans une liste pour la convivialité. Je prends cette liste pour créer un nouveau tableau. Puisque le module *Prince* n'accepte que les tableaux de type *Pandas*, j'effectue la conversion. Prenez note qu'un tableau *Pandas* ne possède pas les mêmes propriétés qu'un tableau *Polars*."
      ]
    },
    {
      "cell_type": "code",
      "execution_count": 3,
      "id": "f784d201-2b87-4d88-ac5a-5bd246bd169e",
      "metadata": {
        "ExecuteTime": {
          "end_time": "2023-07-06T16:29:05.184844+00:00",
          "start_time": "2023-07-06T16:29:05.024756+00:00"
        },
        "jupyter": {
          "outputs_hidden": false,
          "source_hidden": false
        },
        "noteable": {
          "cell_type": "code",
          "output_collection_id": "597fe884-3626-4a50-875b-9a4ed3cfbe79"
        }
      },
      "outputs": [],
      "source": [
        "ordination_features = ['bill_length_mm', 'bill_depth_mm', 'flipper_length_mm', 'body_mass_g']\n",
        "penguins_ord_df = penguins.select(ordination_features).to_pandas()"
      ]
    },
    {
      "cell_type": "markdown",
      "id": "aea767f7-2738-4b86-a4e5-affe264b6fd8",
      "metadata": {
        "noteable": {
          "cell_type": "markdown"
        }
      },
      "source": [
        "*Prince* fonctionne comme *Scikit-Learn* (élaboré dans la prochaine section): instanciation de l'objet (l'objet étant le modèle), puis lissage sur les données."
      ]
    },
    {
      "cell_type": "code",
      "execution_count": 4,
      "id": "e7d2d986-0432-432d-abf4-82f1c9f78379",
      "metadata": {
        "ExecuteTime": {
          "end_time": "2023-07-06T16:29:05.468083+00:00",
          "start_time": "2023-07-06T16:29:05.250702+00:00"
        },
        "datalink": {
          "3d7ff123-1701-4ded-9448-011b7ec1d5d6": {
            "applied_filters": [],
            "dataframe_info": {
              "default_index_used": false,
              "orig_num_cols": 3,
              "orig_num_rows": 4,
              "orig_size_bytes": 128,
              "truncated_num_cols": 3,
              "truncated_num_rows": 4,
              "truncated_size_bytes": 128,
              "truncated_string_columns": []
            },
            "display_id": "3d7ff123-1701-4ded-9448-011b7ec1d5d6",
            "dx_settings": {
              "ALLOW_NOTEABLE_ATTRS": true,
              "COLUMN_SAMPLING_METHOD": "outer",
              "DB_LOCATION": ":memory:",
              "DEV_MODE": false,
              "DISPLAY_MAX_COLUMNS": 100,
              "DISPLAY_MAX_ROWS": 50000,
              "DISPLAY_MODE": "simple",
              "ENABLE_ASSIGNMENT": true,
              "ENABLE_DATALINK": true,
              "FLATTEN_COLUMN_VALUES": true,
              "FLATTEN_INDEX_VALUES": false,
              "GENERATE_DEX_METADATA": false,
              "HTML_TABLE_SCHEMA": false,
              "LOG_LEVEL": 30,
              "MAX_RENDER_SIZE_BYTES": 104857600,
              "MAX_STRING_LENGTH": 250,
              "NUM_PAST_SAMPLES_TRACKED": 3,
              "RANDOM_STATE": 12648430,
              "RESET_INDEX_VALUES": false,
              "ROW_SAMPLING_METHOD": "random",
              "SAMPLING_FACTOR": 0.1,
              "SAMPLING_METHOD": "random",
              "STRINGIFY_COLUMN_VALUES": true,
              "STRINGIFY_INDEX_VALUES": false
            },
            "sample_history": [],
            "sampling_time": "2023-06-28T14:26:07.661785",
            "user_variable_name": null,
            "variable_name": "unk_dataframe_81f434185ffd46f5ba038ca4cd4e9401"
          }
        },
        "jupyter": {
          "outputs_hidden": false,
          "source_hidden": false
        },
        "noteable": {
          "cell_type": "code",
          "output_collection_id": "4e124fe0-4545-4604-9b17-b793e5c88ac6"
        }
      },
      "outputs": [
        {
          "data": {
            "text/html": [
              "<style>#sk-container-id-1 {color: black;background-color: white;}#sk-container-id-1 pre{padding: 0;}#sk-container-id-1 div.sk-toggleable {background-color: white;}#sk-container-id-1 label.sk-toggleable__label {cursor: pointer;display: block;width: 100%;margin-bottom: 0;padding: 0.3em;box-sizing: border-box;text-align: center;}#sk-container-id-1 label.sk-toggleable__label-arrow:before {content: \"▸\";float: left;margin-right: 0.25em;color: #696969;}#sk-container-id-1 label.sk-toggleable__label-arrow:hover:before {color: black;}#sk-container-id-1 div.sk-estimator:hover label.sk-toggleable__label-arrow:before {color: black;}#sk-container-id-1 div.sk-toggleable__content {max-height: 0;max-width: 0;overflow: hidden;text-align: left;background-color: #f0f8ff;}#sk-container-id-1 div.sk-toggleable__content pre {margin: 0.2em;color: black;border-radius: 0.25em;background-color: #f0f8ff;}#sk-container-id-1 input.sk-toggleable__control:checked~div.sk-toggleable__content {max-height: 200px;max-width: 100%;overflow: auto;}#sk-container-id-1 input.sk-toggleable__control:checked~label.sk-toggleable__label-arrow:before {content: \"▾\";}#sk-container-id-1 div.sk-estimator input.sk-toggleable__control:checked~label.sk-toggleable__label {background-color: #d4ebff;}#sk-container-id-1 div.sk-label input.sk-toggleable__control:checked~label.sk-toggleable__label {background-color: #d4ebff;}#sk-container-id-1 input.sk-hidden--visually {border: 0;clip: rect(1px 1px 1px 1px);clip: rect(1px, 1px, 1px, 1px);height: 1px;margin: -1px;overflow: hidden;padding: 0;position: absolute;width: 1px;}#sk-container-id-1 div.sk-estimator {font-family: monospace;background-color: #f0f8ff;border: 1px dotted black;border-radius: 0.25em;box-sizing: border-box;margin-bottom: 0.5em;}#sk-container-id-1 div.sk-estimator:hover {background-color: #d4ebff;}#sk-container-id-1 div.sk-parallel-item::after {content: \"\";width: 100%;border-bottom: 1px solid gray;flex-grow: 1;}#sk-container-id-1 div.sk-label:hover label.sk-toggleable__label {background-color: #d4ebff;}#sk-container-id-1 div.sk-serial::before {content: \"\";position: absolute;border-left: 1px solid gray;box-sizing: border-box;top: 0;bottom: 0;left: 50%;z-index: 0;}#sk-container-id-1 div.sk-serial {display: flex;flex-direction: column;align-items: center;background-color: white;padding-right: 0.2em;padding-left: 0.2em;position: relative;}#sk-container-id-1 div.sk-item {position: relative;z-index: 1;}#sk-container-id-1 div.sk-parallel {display: flex;align-items: stretch;justify-content: center;background-color: white;position: relative;}#sk-container-id-1 div.sk-item::before, #sk-container-id-1 div.sk-parallel-item::before {content: \"\";position: absolute;border-left: 1px solid gray;box-sizing: border-box;top: 0;bottom: 0;left: 50%;z-index: -1;}#sk-container-id-1 div.sk-parallel-item {display: flex;flex-direction: column;z-index: 1;position: relative;background-color: white;}#sk-container-id-1 div.sk-parallel-item:first-child::after {align-self: flex-end;width: 50%;}#sk-container-id-1 div.sk-parallel-item:last-child::after {align-self: flex-start;width: 50%;}#sk-container-id-1 div.sk-parallel-item:only-child::after {width: 0;}#sk-container-id-1 div.sk-dashed-wrapped {border: 1px dashed gray;margin: 0 0.4em 0.5em 0.4em;box-sizing: border-box;padding-bottom: 0.4em;background-color: white;}#sk-container-id-1 div.sk-label label {font-family: monospace;font-weight: bold;display: inline-block;line-height: 1.2em;}#sk-container-id-1 div.sk-label-container {text-align: center;}#sk-container-id-1 div.sk-container {/* jupyter's `normalize.less` sets `[hidden] { display: none; }` but bootstrap.min.css set `[hidden] { display: none !important; }` so we also need the `!important` here to be able to override the default hidden behavior on the sphinx rendered scikit-learn.org. See: https://github.com/scikit-learn/scikit-learn/issues/21755 */display: inline-block !important;position: relative;}#sk-container-id-1 div.sk-text-repr-fallback {display: none;}</style><div id=\"sk-container-id-1\" class=\"sk-top-container\"><div class=\"sk-text-repr-fallback\"><pre>PCA(n_components=4, n_iter=10)</pre><b>In a Jupyter environment, please rerun this cell to show the HTML representation or trust the notebook. <br />On GitHub, the HTML representation is unable to render, please try loading this page with nbviewer.org.</b></div><div class=\"sk-container\" hidden><div class=\"sk-item\"><div class=\"sk-estimator sk-toggleable\"><input class=\"sk-toggleable__control sk-hidden--visually\" id=\"sk-estimator-id-1\" type=\"checkbox\" checked><label for=\"sk-estimator-id-1\" class=\"sk-toggleable__label sk-toggleable__label-arrow\">PCA</label><div class=\"sk-toggleable__content\"><pre>PCA(n_components=4, n_iter=10)</pre></div></div></div></div></div>"
            ],
            "text/plain": [
              "PCA(n_components=4, n_iter=10)"
            ]
          },
          "execution_count": 4,
          "metadata": {},
          "output_type": "execute_result"
        }
      ],
      "source": [
        "# instanciation de l'objet\n",
        "penguins_pca = prince.PCA(\n",
        "    n_components=len(ordination_features),\n",
        "    n_iter=10,\n",
        "    rescale_with_mean=True,\n",
        "    rescale_with_std=True,\n",
        "    copy=True,\n",
        "    check_input=True,\n",
        "    engine='sklearn'\n",
        ")\n",
        "\n",
        "#lissage\n",
        "## to_pandas parce que Prince ne prend pas les tableaux Polars, mais Pandas\n",
        "penguins_pca.fit(penguins_ord_df) "
      ]
    },
    {
      "cell_type": "markdown",
      "id": "47fba623-628d-4492-8166-bb7614f7d13f",
      "metadata": {
        "noteable": {
          "cell_type": "markdown"
        }
      },
      "source": [
        "L'objet lissé (ma traduction de *fitted*) contient toutes les informations nécessaires pour interpréter l'ACP. Le sommaire des valeurs propres permet de connaître le pourcentage cumulatif de la variance captée par les composantes, un indicateur important pour interpréter un biplot (voir plus loin) ou pour décider si l'information des variables peut être condensée en un nombre moindre de variables composites. On peut aller chercher les valeurs propres dans le sommaire par `penguins_pca.eigenvalues_summary`. Ou bien, en lançant la visualisation des valeurs propres. Le graphique étant interactif, vous verrez davantage d'informations et plaçant le curseur sur les barres."
      ]
    },
    {
      "cell_type": "code",
      "execution_count": 5,
      "id": "7d870fa0-5a00-47c7-8c1c-f19a50474575",
      "metadata": {
        "ExecuteTime": {
          "end_time": "2023-07-06T16:29:05.776198+00:00",
          "start_time": "2023-07-06T16:29:05.525462+00:00"
        },
        "jupyter": {
          "outputs_hidden": false,
          "source_hidden": false
        },
        "noteable": {
          "cell_type": "code",
          "output_collection_id": "707746fd-06be-4773-9f71-8343e907271e"
        }
      },
      "outputs": [
        {
          "data": {
            "text/html": [
              "\n",
              "<style>\n",
              "  #altair-viz-54b5aa58587b48fb8c39646bec1ab591.vega-embed {\n",
              "    width: 100%;\n",
              "    display: flex;\n",
              "  }\n",
              "\n",
              "  #altair-viz-54b5aa58587b48fb8c39646bec1ab591.vega-embed details,\n",
              "  #altair-viz-54b5aa58587b48fb8c39646bec1ab591.vega-embed details summary {\n",
              "    position: relative;\n",
              "  }\n",
              "</style>\n",
              "<div id=\"altair-viz-54b5aa58587b48fb8c39646bec1ab591\"></div>\n",
              "<script type=\"text/javascript\">\n",
              "  var VEGA_DEBUG = (typeof VEGA_DEBUG == \"undefined\") ? {} : VEGA_DEBUG;\n",
              "  (function(spec, embedOpt){\n",
              "    let outputDiv = document.currentScript.previousElementSibling;\n",
              "    if (outputDiv.id !== \"altair-viz-54b5aa58587b48fb8c39646bec1ab591\") {\n",
              "      outputDiv = document.getElementById(\"altair-viz-54b5aa58587b48fb8c39646bec1ab591\");\n",
              "    }\n",
              "    const paths = {\n",
              "      \"vega\": \"https://cdn.jsdelivr.net/npm/vega@5?noext\",\n",
              "      \"vega-lib\": \"https://cdn.jsdelivr.net/npm/vega-lib?noext\",\n",
              "      \"vega-lite\": \"https://cdn.jsdelivr.net/npm/vega-lite@5.8.0?noext\",\n",
              "      \"vega-embed\": \"https://cdn.jsdelivr.net/npm/vega-embed@6?noext\",\n",
              "    };\n",
              "\n",
              "    function maybeLoadScript(lib, version) {\n",
              "      var key = `${lib.replace(\"-\", \"\")}_version`;\n",
              "      return (VEGA_DEBUG[key] == version) ?\n",
              "        Promise.resolve(paths[lib]) :\n",
              "        new Promise(function(resolve, reject) {\n",
              "          var s = document.createElement('script');\n",
              "          document.getElementsByTagName(\"head\")[0].appendChild(s);\n",
              "          s.async = true;\n",
              "          s.onload = () => {\n",
              "            VEGA_DEBUG[key] = version;\n",
              "            return resolve(paths[lib]);\n",
              "          };\n",
              "          s.onerror = () => reject(`Error loading script: ${paths[lib]}`);\n",
              "          s.src = paths[lib];\n",
              "        });\n",
              "    }\n",
              "\n",
              "    function showError(err) {\n",
              "      outputDiv.innerHTML = `<div class=\"error\" style=\"color:red;\">${err}</div>`;\n",
              "      throw err;\n",
              "    }\n",
              "\n",
              "    function displayChart(vegaEmbed) {\n",
              "      vegaEmbed(outputDiv, spec, embedOpt)\n",
              "        .catch(err => showError(`Javascript Error: ${err.message}<br>This usually means there's a typo in your chart specification. See the javascript console for the full traceback.`));\n",
              "    }\n",
              "\n",
              "    if(typeof define === \"function\" && define.amd) {\n",
              "      requirejs.config({paths});\n",
              "      require([\"vega-embed\"], displayChart, err => showError(`Error loading script: ${err.message}`));\n",
              "    } else {\n",
              "      maybeLoadScript(\"vega\", \"5\")\n",
              "        .then(() => maybeLoadScript(\"vega-lite\", \"5.8.0\"))\n",
              "        .then(() => maybeLoadScript(\"vega-embed\", \"6\"))\n",
              "        .catch(showError)\n",
              "        .then(() => displayChart(vegaEmbed));\n",
              "    }\n",
              "  })({\"config\": {\"view\": {\"continuousWidth\": 300, \"continuousHeight\": 300}}, \"data\": {\"name\": \"data-e7a8e48720adc33a863d8d80f83c4096\"}, \"mark\": {\"type\": \"bar\", \"size\": 10}, \"encoding\": {\"tooltip\": [{\"field\": \"component\", \"type\": \"nominal\"}, {\"field\": \"eigenvalue\", \"type\": \"quantitative\"}, {\"field\": \"% of variance\", \"type\": \"quantitative\"}, {\"field\": \"% of variance (cumulative)\", \"type\": \"quantitative\"}], \"x\": {\"field\": \"component\", \"type\": \"nominal\"}, \"y\": {\"field\": \"eigenvalue\", \"type\": \"quantitative\"}}, \"$schema\": \"https://vega.github.io/schema/vega-lite/v5.8.0.json\", \"datasets\": {\"data-e7a8e48720adc33a863d8d80f83c4096\": [{\"component\": \"0\", \"eigenvalue\": 2.745355725439959, \"% of variance\": 68.63389313599897, \"% of variance (cumulative)\": 68.63389313599897}, {\"component\": \"1\", \"eigenvalue\": 0.7781171713800059, \"% of variance\": 19.452929284500147, \"% of variance (cumulative)\": 88.08682242049912}, {\"component\": \"2\", \"eigenvalue\": 0.3686425195235335, \"% of variance\": 9.216062988088337, \"% of variance (cumulative)\": 97.30288540858746}, {\"component\": \"3\", \"eigenvalue\": 0.10788458365649889, \"% of variance\": 2.6971145914124723, \"% of variance (cumulative)\": 99.99999999999993}]}}, {\"mode\": \"vega-lite\"});\n",
              "</script>"
            ],
            "text/plain": [
              "alt.Chart(...)"
            ]
          },
          "execution_count": 5,
          "metadata": {},
          "output_type": "execute_result"
        }
      ],
      "source": [
        "penguins_pca.scree_plot()"
      ]
    },
    {
      "cell_type": "markdown",
      "id": "e33d5a73-216b-4b76-8d09-a2a6a3b491c7",
      "metadata": {
        "noteable": {
          "cell_type": "markdown"
        }
      },
      "source": [
        "L'objet `penguins_pca` contient aussi les informations brutes:\n",
        "\n",
        "- valeurs propres\n",
        "- les scores, qui représentent les observations\n",
        "- loadings, qui représentent les variables "
      ]
    },
    {
      "cell_type": "code",
      "execution_count": 6,
      "id": "5e10e1a1-864f-4d62-8177-9ad1fb802fa9",
      "metadata": {
        "ExecuteTime": {
          "end_time": "2023-07-06T16:29:05.989197+00:00",
          "start_time": "2023-07-06T16:29:05.829899+00:00"
        },
        "noteable": {
          "cell_type": "python",
          "output_collection_id": "5b891bbb-4722-4fce-9df8-72d7318fa01e"
        }
      },
      "outputs": [],
      "source": [
        "# les valeurs propres\n",
        "penguins_ev = penguins_pca.eigenvalues_ \n",
        "\n",
        "# les scores\n",
        "penguins_scores = penguins_pca.transform(penguins_ord_df)\n",
        "\n",
        "# les loadings\n",
        "penguins_loadings = penguins_pca.column_coordinates_"
      ]
    },
    {
      "cell_type": "markdown",
      "id": "596278fe-ebe8-46a7-8d9f-4124c40c8b8f",
      "metadata": {
        "noteable": {
          "cell_type": "markdown"
        }
      },
      "source": [
        "### Représentation en biplot\n",
        "\n",
        "Les scores et les loadings permettent de représenter les données sous forme de biplot. Mais, préalablement, [Borcard et al. 2011](https://link.springer.com/article/10.1007/s13253-012-0094-x) proposent d'effectuer consciencieusement une mise à l'échelle (*scaling*). En gros, vous préférerez le **scaling 1** pour un biplot de distance, où la distance entre les objets (observations et variables) dans le biplot est proche des distances entre les objets dans les données de haute dimension. Vous préférerez le **scaling 2** pour les biplots de corrélation, où les angles entre les chargements (avec des segments reliant les chargements à l'origine) sont proches de leur corrélation (lisez [Borcard et al. 2011](https://link.springer.com/article/10.1007/s13253-012-0094-x) pour plus de détails). À ma connaissance, les autres échelles sont rarement utilisées. De plus, bien que peu d'articles scientifiques se soucient de l'échelle, elle affecte considérablement l'interprétation: mieux vaut spécifier le scaling lorsque vous présentez un biplot.\n"
      ]
    },
    {
      "cell_type": "markdown",
      "id": "a0843a8c-4cfa-4cb4-b1fa-f61881ed8dba",
      "metadata": {
        "noteable": {
          "cell_type": "markdown"
        }
      },
      "source": [
        "![](images/pca_scaling.png)\n",
        "\n",
        "Capture d'écran de https://rdrr.io/rforge/vegan/f/inst/doc/decision-vegan.pdf"
      ]
    },
    {
      "cell_type": "markdown",
      "id": "d12dd301-54d1-4d6c-9029-4664f320f6f8",
      "metadata": {
        "noteable": {
          "cell_type": "markdown"
        }
      },
      "source": [
        "La fonction suivante effectue le scaling."
      ]
    },
    {
      "cell_type": "code",
      "execution_count": 7,
      "id": "4f6a4ef2-c976-488b-a899-d6d2780fba78",
      "metadata": {
        "ExecuteTime": {
          "end_time": "2023-07-06T16:29:37.183783+00:00",
          "start_time": "2023-07-06T16:29:37.020461+00:00"
        },
        "jupyter": {
          "outputs_hidden": false,
          "source_hidden": false
        },
        "noteable": {
          "cell_type": "code",
          "output_collection_id": "62320d49-a95f-474f-9f8e-4939ae85acf4"
        }
      },
      "outputs": [],
      "source": [
        "def eigen_scaling(scores, loadings, eigenvalues, scaling = 0):\n",
        "    \"\"\"\n",
        "    pca is a PCA object obtained from statsmodels.multivariate.pca\n",
        "    scaling is one of [0, 1, 2, 3]\n",
        "    the eigenvalues of the pca object are n times the ones computed with R\n",
        "    we thus need to divide their sum by the number of rows\n",
        "    \"\"\"\n",
        "   \n",
        "    const = ((scores.shape[0]-1) * eigenvalues.sum()/ scores.shape[0])**0.25\n",
        "    if scaling == 0:\n",
        "        scores = scores\n",
        "        loadings = loadings\n",
        "    elif scaling == 1:\n",
        "        scaling_fac = (eigenvalues / eigenvalues.sum())**0.5\n",
        "        scores = scores * scaling_fac * const\n",
        "        loadings = loadings * const\n",
        "    elif scaling == 2:\n",
        "        scaling_fac = (eigenvalues / eigenvalues.sum())**0.5\n",
        "        scores = scores * const\n",
        "        loadings = loadings * scaling_fac * const\n",
        "    elif scaling == 3:\n",
        "        scaling_fac = (eigenvalues / eigenvalues.sum())**0.25\n",
        "        scores = scores * scaling_fac * const\n",
        "        loadings = loadings * scaling_fac * const\n",
        "    else:\n",
        "        sys.exit(\"Scaling should either be 0, 1, 2 or 3\")\n",
        "    return([scores, loadings])\n"
      ]
    },
    {
      "cell_type": "markdown",
      "id": "5555a5a1-567f-4ad6-a8b7-b2f3e0656faa",
      "metadata": {
        "noteable": {
          "cell_type": "markdown"
        }
      },
      "source": [
        "J'effectue un `scaling = 2` pour avoir une idée des corrélations entre les variables."
      ]
    },
    {
      "cell_type": "code",
      "execution_count": 8,
      "id": "7c0b7a9e-707b-4427-9021-586fdb9d8d06",
      "metadata": {
        "ExecuteTime": {
          "end_time": "2023-07-06T16:29:40.679499+00:00",
          "start_time": "2023-07-06T16:29:40.520430+00:00"
        },
        "jupyter": {
          "outputs_hidden": false,
          "source_hidden": false
        },
        "noteable": {
          "cell_type": "code",
          "output_collection_id": "31ffc243-1c14-4f52-bf95-c48015668a49"
        }
      },
      "outputs": [],
      "source": [
        "penguins_scores_sc, penguins_loadings_sc = eigen_scaling(\n",
        "    scores = penguins_scores,\n",
        "    loadings = penguins_loadings,\n",
        "    eigenvalues = penguins_ev,\n",
        "    scaling = 2\n",
        ")"
      ]
    },
    {
      "cell_type": "markdown",
      "id": "f28dbeac-4934-4284-bab8-7110f37472b6",
      "metadata": {
        "noteable": {
          "cell_type": "markdown"
        }
      },
      "source": [
        "Les entêtes des tableaux des scores et des loadings sont des valeurs numériques, ce qui complique leur utilisation subséquente pour les graphiques avec *Lets-Plot*. Les manipulations de la prochaine cellule consistent à transformer les tableaux de sortie de *Prince* en format *Polars*, à changer le nom des colonnes par PC0, PC1, PC2 et PC3. Pour les scores, j'ajoute une colonne identifiant l'espèce. Enfin, puis les loadings, j'ajoute une colonne identifiant l'attribut (*feature*)."
      ]
    },
    {
      "cell_type": "code",
      "execution_count": 9,
      "id": "d611c21f-a196-44da-a1ad-0ef1fb71ef6a",
      "metadata": {
        "ExecuteTime": {
          "end_time": "2023-07-06T16:29:44.194569+00:00",
          "start_time": "2023-07-06T16:29:44.034361+00:00"
        },
        "noteable": {
          "cell_type": "python",
          "output_collection_id": "b859b453-53d2-4382-a566-a04c8708048f"
        }
      },
      "outputs": [],
      "source": [
        "pca_colnames = ['PC' + str(i) for i in range(len(ordination_features))]\n",
        "penguins_scores_sc = (\n",
        "    pl.DataFrame(penguins_scores_sc, schema = pca_colnames)\n",
        "    .with_columns(penguins.select('species'))\n",
        ")\n",
        "penguins_loadings_sc = (\n",
        "    pl.DataFrame(penguins_loadings_sc, schema = pca_colnames)\n",
        "    .with_columns(pl.Series(ordination_features).alias('feature'))\n",
        ")"
      ]
    },
    {
      "cell_type": "markdown",
      "id": "8b22d4c5-2c83-46e2-be0a-15e12878078f",
      "metadata": {
        "noteable": {
          "cell_type": "markdown"
        }
      },
      "source": [
        "Nos tableaux nous permettent de créer un biplot avec *Lets-Plot*."
      ]
    },
    {
      "cell_type": "code",
      "execution_count": 10,
      "id": "0d6aa13b-ec7a-45b4-8bb4-c9c0b2649882",
      "metadata": {
        "ExecuteTime": {
          "end_time": "2023-07-06T16:30:15.199916+00:00",
          "start_time": "2023-07-06T16:30:15.019882+00:00"
        },
        "jupyter": {
          "outputs_hidden": false,
          "source_hidden": false
        },
        "noteable": {
          "cell_type": "code",
          "output_collection_id": "477bdfd3-d7ce-4db3-b293-b303c7be1199"
        }
      },
      "outputs": [
        {
          "data": {
            "text/html": [
              "   <div id=\"x2mJRO\"></div>\n",
              "   <script type=\"text/javascript\" data-lets-plot-script=\"plot\">\n",
              "       (function() {\n",
              "           var plotSpec={\n",
              "\"mapping\":{\n",
              "},\n",
              "\"data_meta\":{\n",
              "},\n",
              "\"kind\":\"plot\",\n",
              "\"scales\":[],\n",
              "\"layers\":[{\n",
              "\"geom\":\"point\",\n",
              "\"data\":{\n",
              "\"PC0\":[-2.619406162961206,-1.8600652682495642,-1.9453503709223998,-2.664196481067839,-2.713222016066665,-2.505544797567023,-1.156658501190917,-2.5421982681120654,-2.764333108656288,-2.2179726659334102,-2.4701890468113303,-2.226805628686719,-1.1371908538411952,-3.321155677268305,-1.4201972423579166,-3.4032178370716353,-2.98697404631944,-2.624301707067146,-2.1268064489313008,-2.2343859839967113,-2.72521468914013,-2.4913146877923174,-2.407462385577254,-3.8355375584657407,-2.3773831164651007,-2.6566520259228112,-2.7002675606681064,-2.341354025094003,-2.145732051207984,-2.044075538659102,-2.035818878700669,-2.310022809376334,-2.449486251383806,-3.4023849830386066,-1.6076672124263678,-3.245400505521513,-1.373368718060985,-3.2628329586108062,-0.817369082223512,-2.841393618512765,-1.2439436871642418,-2.726329171840074,-2.5196267971991078,-1.9916964899698848,-2.224198705791105,-1.6202392323696582,-2.6370569481129973,-1.1117734643601378,-3.4592404671887365,-1.7864803713459305,-2.188991806143444,-1.7246774496747477,-3.191975618092648,-2.153065808597694,-2.849133503141528,-1.6059297363688478,-2.2199375582320466,-1.3106008897764565,-3.1723759341494526,-1.2911401356828092,-1.8961752438501307,-1.7533933832110562,-2.5449907152197775,-0.836621441585685,-2.9837549044771405,-1.7937736866637526,-1.4500322808857842,-0.5715894390443003,-2.2220925807047722,-0.8290426324329752,-1.3289684697167998,-2.7236199921132824,-2.0580399971158885,-1.324851583033542,-2.7830526193967304,-0.06618183360117579,-2.532133201355903,-2.1561674412383844,-2.376654838359634,-2.2559513170194094,-2.605121115696439,-2.62463452024315,-2.197550033314521,-2.292273536532576,-1.7879659183712193,-0.28318674058604804,-2.8645911267725523,-1.4210935052680524,-2.6437235011054248,-0.37311091633997606,-2.232246229881262,-0.9677587748253388,-3.5742743930480247,-1.1017289651852047,-2.254878822548633,-0.5457240142226297,-2.545112089589355,-2.1376143371716396,-2.82974295489522,-2.624793292609664,-1.199497601495457,-2.4287873371110975,-2.8048126409377536,-0.30175664309481137,-1.0432444461587804,-0.9113055687331381,-2.0945697901818128,-1.0456475483969159,-2.4068937008456284,-0.8942532641478086,-2.6040584463696916,-2.2744197037481024,-2.4516015888225966,-2.300500416557322,-2.759963536159934,-2.3506244728939385,-2.5837557220907086,-0.9480185989741629,-2.6594223274040174,-1.2393320908216012,-2.2156107147588826,-0.8760368384250364,-2.2661072693911324,0.09917616813930824,-2.346817512880462,-1.602672359449744,-2.3747128167517646,-1.0010580228596577,-2.385877950917305,-1.3712579868412706,-2.659320795551406,-1.5676830508134758,-2.340225015002193,-1.1374931622763347,-1.6705533069504555,-1.9292790304270233,-2.79224596817895,-1.4439061948354237,-2.369760773097331,-2.494776610347464,-1.5717022548252477,-2.917890033698457,-2.1997157180968365,-1.9010333738865952,-2.223399480787194,-0.8737558514361953,2.251952474580423,4.086907833841146,2.1926045807075685,3.7034235491597722,3.157768417822834,2.2029467820985653,2.058080120992337,2.8624067632943477,1.652683903600112,2.5641786226165317,1.8175777004220757,3.0664678771045573,2.357756394625966,3.541298475688042,1.4671285746012275,3.5644990120359332,1.2880596054946198,4.363895756224322,2.0642107971892343,3.4742840112494764,3.9850230678855874,2.4777415430466667,1.9459737870499485,2.294133566767598,2.6209050821030577,2.5197089093047254,3.279390251413855,2.221450263800352,3.6463176821346934,3.155910372587605,1.6543732392234958,2.060077096077113,5.351627407386022,3.297575431344659,3.02671736406536,2.248801219574773,2.067038323283194,1.5709736585243423,2.486759304947813,1.0031836883400607,3.8347418003924467,1.7631398620601815,2.6794950142226033,3.649449819601943,2.493551822370659,1.6326544648605341,3.6792695896011454,2.778526984255137,2.406492586694474,2.3037734847750646,3.572791587889091,1.6355117707167914,3.503959520287183,2.690702877497028,2.547423279196161,1.4131433616407878,2.6725490234858027,1.3155289236230552,3.926275184578241,1.521354990143542,3.1315143892683883,2.082351685867027,4.773873065132629,2.5891272971601427,3.9200254211344587,4.095238548742348,2.3772843105776964,3.9892956988472568,2.456377727486214,2.664406860799109,2.972394006816971,2.8658243945964834,2.255412094111727,4.105156326448909,2.1096820741459137,3.9234560177700275,2.4487073077393764,3.3283714952453645,2.4104247862454997,3.8154887160517084,2.2787271275599674,3.5140017164382717,2.238739180906715,3.6809535941125806,2.0950771470648863,3.7564240129042026,2.6074651132393396,3.9878369036675485,2.742610167088154,3.7094886096558675,2.108442335921575,3.687766711090347,2.1467592274099796,3.6368777996586514,2.5956473021540765,2.9473949688572945,1.8326857124350768,3.4327327095614955,2.82167380414868,4.365885193287762,2.4133988763247993,4.044332822796093,2.701568747388072,1.4400500512138068,3.795631015012078,1.5914344142044297,2.7915425455069602,2.969355782967692,4.361424735090151,1.6344605847069607,4.069827311466258,2.2342940712796864,4.916758744575619,3.7985386682118603,2.823073055704946,2.5898120410505494,3.8882911062658403,2.421933395810938,2.8524966198092714,-1.1218110543778457,-0.5502370106863086,-0.727811252474554,-1.6892506559061564,-0.43003960236616273,-0.46155487626625663,-2.311802177462872,-0.11142017097588142,-0.6645961299005182,-0.5890279482241068,-0.7333037791435939,-0.8172987801760249,-1.105519094782974,0.5222842763651981,-1.0068679981472748,-0.08405009757736466,-1.1798352336537206,-0.19016925933209536,-1.4991081632281358,0.15346747448955364,-1.9752961054377174,-0.9270928814232994,-2.007409006666172,-0.7224515995645477,-1.1168116913822959,0.1277982201170303,-0.4261288234630761,-0.3291831359142125,-0.9698954047382292,0.7873719574477502,-1.987659730649534,0.2478223286787952,-1.6835314541328008,0.3688983481432623,-0.6754375510555194,0.10526715921657473,-0.5944708525281879,1.025436889712809,-1.4749113944330152,0.849945902405825,0.196088322859205,-1.1886354846710832,-0.6679778291496953,-0.7481422746707057,-0.20306041812623474,0.6531024867408483,-0.9121681064997019,0.6220468276984327,-1.296858500376299,-0.043665204063825805,-0.2650816718599148,0.09709982290096636,-0.8888202811879065,0.027249377139628363,-1.855607113161493,-0.46764731730065606,-1.2014182024553879,-0.1945113871493808,-0.07313075622593015,-1.5170413981398634,0.30365031843149115,-0.714891908035935,-0.6379832934481339,0.7821428751872409,-1.0456093293069588,-0.5198836510142693,0.6957782885874068,-0.30159014039235515],\n",
              "\"PC1\":[0.04531886007928669,-0.62677013322096,-0.2278429530234604,-0.01745415583888895,1.1553893166231226,-0.5175282066761849,0.7083319869936502,-0.34677861060208576,1.410724115078153,0.8169168764464085,-0.8623671124246082,0.12271196270044119,1.8279893816130517,-0.9117521780528441,2.787330136288547,-0.43661923919783213,-0.19288537432046388,-0.15423699880538602,-0.4085814146731004,-0.8534476248783742,-0.42026390805058117,0.19538187095702994,-0.2653929504461275,-0.2841935211892089,0.4035143277162013,-1.1059048405012808,-0.5747214039631026,-0.46391804057792907,0.46126401734670214,-1.3957480646863432,1.4966620009195561,0.7747222370930884,0.38493447079780674,0.09516884313680106,0.5056391774904794,-0.8391304679343778,0.16605931677199803,-0.6350757473249582,1.490289528194367,-1.4092941818797478,0.2996998581009989,0.48454325114440794,-0.9290207103414596,2.032479408139416,-0.47989523378049,0.39309695084589774,-1.0843496055565798,1.0049579530334984,-1.1232445191523952,0.3444800936218308,-0.6808132168978129,0.3492658795928714,-1.6811164577583146,0.04880452232657079,-1.591062439617124,1.8558670492188034,-1.1782394132470513,0.1166234515408943,-1.4087948854383905,0.06640794711792442,-1.9899458447156146,0.635987186006991,-1.742174444657619,0.9692611659894398,-0.6677613616574208,-0.0077248432461492975,-0.7534317512092252,1.2635726230365314,-1.2019671438832413,0.5809756953020635,-0.7631480860068265,0.1726481417232849,-1.9162325511269205,0.7819678692547138,-1.5812059334442672,0.14258911199616967,-0.26002366208391625,-0.10796365063717998,-0.7971684162015245,1.2832848479135395,0.08013965634048181,-0.3825479596818558,0.2387116557531818,0.05657425783521782,-0.897945933534331,0.1006002633421309,-1.707082303410017,-0.12333879950803066,-1.2631889065166555,0.5135166786225452,-0.16868973564436854,0.20667746968208583,-2.4903693946503997,0.6211945221769233,-1.0462219276997944,1.228200396850072,-1.8066351183311773,0.6597119539625271,-0.30215850407026085,0.22783096232323974,-0.8801281465323963,0.6748051312832574,-1.1600308996511626,1.0009348113212237,-1.3488388675166572,2.090560814465604,-0.5005896309494144,1.0645092659710325,1.293391510982266,0.42806767578518573,-1.115233854393659,0.8095710160670047,-1.5046252573343657,0.24631420983899002,-1.340568419893441,0.4336179200110343,-0.7998038672367469,0.3172083022893191,-2.2537840228749535,0.4940922193227403,-0.6886951410689943,0.2713274855341571,-0.9739693577619158,0.47197050484994235,-0.5574978940055587,0.9284882351093466,-0.45296315631266126,-0.2096905900494411,-0.7796039619025109,-0.3052462559555288,-1.2564073504534041,1.0586075326321758,-1.58441686177169,-0.24503407398444782,-0.7393673526258461,-0.6134427845219735,-2.9630154772672412,-0.676998041096763,-1.415824395255594,0.018684333421467636,0.07608950458062186,-0.5498693025372998,-0.9833185423944478,-0.4929162470317629,-1.3549369507826114,0.3489561384564277,-1.8961594949121743,0.6558290982044582,-0.9846267450793763,0.019393116849259744,-0.7960097202620342,-1.6562320211981536,-1.1634882067951247,-0.5025852417774254,-2.2312484743196266,-0.43888981382738174,-2.3958559821470837,0.35771783148980324,-1.6813430641575309,-0.5552174287412015,-1.182578347934498,0.21633875785717835,-2.408970199112273,-0.02247934998480847,-1.0976142480701394,-0.2844551348050071,-0.4645229701182634,-1.2380901077459134,-1.1024358287264697,-0.30111296945843957,-2.3808965799022537,-0.7260004311622414,-0.44524406114268505,-0.9276914719756456,0.05762296825409292,-0.40091471079868457,-1.8108326511665849,-1.236046139515579,2.5945663243764683,-0.42203222355812053,0.3611395032126747,-2.0920627232531235,0.2912822145986651,-2.0153820767370942,0.05068345841378002,-2.213847582628324,0.41911454283337773,-1.7617851241910871,-0.28602341095284173,0.4797776099812915,-1.826675281824539,-1.629718467840571,0.4613717291079216,-1.9435277875540888,-0.4383759107912718,-1.199839068250545,-0.8956117059864517,-1.3788699145310526,-0.16949984443475358,-1.0901204490281637,-0.7289989872946011,-1.8815070024573624,-0.8869351377058228,-1.611223789537122,0.12209242656535349,-1.7191734043307072,-0.7945220312488811,-1.5694357138492943,0.974286809997985,-1.3390012149581927,0.9108643558339604,0.5337995055676082,-1.6956731988966653,-0.003554001929929548,-0.5811483118615698,-0.40323341294887927,-0.11020186420014264,-0.8209210076055831,-0.7897956443219865,0.2801475602612932,-1.0942263810170394,0.8611647444626175,-1.6566975129697377,-0.0030218734839373785,-0.6689262171600407,0.6047507659901923,-0.8623255943297209,0.3764030377632986,-1.7050496067031837,1.3376858002474816,-1.6113741612232921,-0.4046395421622168,-1.1699546427729612,1.3624019234554685,-0.5841660660689486,1.4138267641566011,-1.2113108182325742,0.4534976169093087,-1.2375908113045582,0.3672353833367097,0.1641916590628368,-0.9139859853319694,-0.8401369266518595,0.8777310042017465,-0.4416922331590449,1.9582025438410782,-0.34305723878948685,-0.2558776276733659,0.008690018279475421,-1.6950089241743866,0.8645380049209653,-1.8649925149862383,-0.3650913416237416,0.0018118528135758064,0.42889685817090784,-1.134282219626494,0.8619433663040991,-1.378937310744194,1.296505147840334,0.44785702824594054,-1.3803252145476472,-1.1086307065914995,0.376683380513807,-1.0257709466667548,0.47560110597222216,0.7098214082106685,2.2250919084869674,2.220006581690398,0.9977432662652466,2.793205832244953,0.5146584055611662,0.7775689779360933,1.6635819459320769,1.2934694519669496,2.630190176994211,0.7090371775385387,2.928944317214209,0.46695236114011424,1.7577484775579286,0.1677731153140881,2.3830582447528292,2.4777388646112155,2.4593333449537504,1.0869412512373293,1.4235793087175963,-0.2633379944361711,0.7775743568850653,-0.6301862407984299,2.2458760757511045,0.7157615376995631,2.2838319807047838,1.6084742888325818,1.850224787070574,0.6633629110213881,3.0387311201184364,-0.9471240877086482,3.6780164884666378,-0.6212183419876719,2.010849752477712,1.6226082867710225,0.29357749758643165,1.158355828219552,3.3515306739731945,-0.07942602794400917,3.0835213707537554,2.084665432740852,0.4515788410688756,2.088968704077236,0.04184854721021349,1.4191256377650692,1.8539927820838833,1.2543969435109754,2.1900929709532835,1.9077063242769978,0.9061115591340122,0.08061666554874333,2.1660934690778846,0.25626106044936453,2.472513181242964,-0.2778970979806388,2.10638058354816,-0.27015216937765796,2.3694931426108052,1.8456835491647545,1.4328573469876273,2.5327813286394876,-0.026256945034500573,0.09248915723921425,3.3175288857190353,0.3506803504358327,1.4005448081815401,2.0983157134978203,1.7827655572646555],\n",
              "\"species\":[\"Adelie\",\"Adelie\",\"Adelie\",\"Adelie\",\"Adelie\",\"Adelie\",\"Adelie\",\"Adelie\",\"Adelie\",\"Adelie\",\"Adelie\",\"Adelie\",\"Adelie\",\"Adelie\",\"Adelie\",\"Adelie\",\"Adelie\",\"Adelie\",\"Adelie\",\"Adelie\",\"Adelie\",\"Adelie\",\"Adelie\",\"Adelie\",\"Adelie\",\"Adelie\",\"Adelie\",\"Adelie\",\"Adelie\",\"Adelie\",\"Adelie\",\"Adelie\",\"Adelie\",\"Adelie\",\"Adelie\",\"Adelie\",\"Adelie\",\"Adelie\",\"Adelie\",\"Adelie\",\"Adelie\",\"Adelie\",\"Adelie\",\"Adelie\",\"Adelie\",\"Adelie\",\"Adelie\",\"Adelie\",\"Adelie\",\"Adelie\",\"Adelie\",\"Adelie\",\"Adelie\",\"Adelie\",\"Adelie\",\"Adelie\",\"Adelie\",\"Adelie\",\"Adelie\",\"Adelie\",\"Adelie\",\"Adelie\",\"Adelie\",\"Adelie\",\"Adelie\",\"Adelie\",\"Adelie\",\"Adelie\",\"Adelie\",\"Adelie\",\"Adelie\",\"Adelie\",\"Adelie\",\"Adelie\",\"Adelie\",\"Adelie\",\"Adelie\",\"Adelie\",\"Adelie\",\"Adelie\",\"Adelie\",\"Adelie\",\"Adelie\",\"Adelie\",\"Adelie\",\"Adelie\",\"Adelie\",\"Adelie\",\"Adelie\",\"Adelie\",\"Adelie\",\"Adelie\",\"Adelie\",\"Adelie\",\"Adelie\",\"Adelie\",\"Adelie\",\"Adelie\",\"Adelie\",\"Adelie\",\"Adelie\",\"Adelie\",\"Adelie\",\"Adelie\",\"Adelie\",\"Adelie\",\"Adelie\",\"Adelie\",\"Adelie\",\"Adelie\",\"Adelie\",\"Adelie\",\"Adelie\",\"Adelie\",\"Adelie\",\"Adelie\",\"Adelie\",\"Adelie\",\"Adelie\",\"Adelie\",\"Adelie\",\"Adelie\",\"Adelie\",\"Adelie\",\"Adelie\",\"Adelie\",\"Adelie\",\"Adelie\",\"Adelie\",\"Adelie\",\"Adelie\",\"Adelie\",\"Adelie\",\"Adelie\",\"Adelie\",\"Adelie\",\"Adelie\",\"Adelie\",\"Adelie\",\"Adelie\",\"Adelie\",\"Adelie\",\"Adelie\",\"Adelie\",\"Adelie\",\"Adelie\",\"Gentoo\",\"Gentoo\",\"Gentoo\",\"Gentoo\",\"Gentoo\",\"Gentoo\",\"Gentoo\",\"Gentoo\",\"Gentoo\",\"Gentoo\",\"Gentoo\",\"Gentoo\",\"Gentoo\",\"Gentoo\",\"Gentoo\",\"Gentoo\",\"Gentoo\",\"Gentoo\",\"Gentoo\",\"Gentoo\",\"Gentoo\",\"Gentoo\",\"Gentoo\",\"Gentoo\",\"Gentoo\",\"Gentoo\",\"Gentoo\",\"Gentoo\",\"Gentoo\",\"Gentoo\",\"Gentoo\",\"Gentoo\",\"Gentoo\",\"Gentoo\",\"Gentoo\",\"Gentoo\",\"Gentoo\",\"Gentoo\",\"Gentoo\",\"Gentoo\",\"Gentoo\",\"Gentoo\",\"Gentoo\",\"Gentoo\",\"Gentoo\",\"Gentoo\",\"Gentoo\",\"Gentoo\",\"Gentoo\",\"Gentoo\",\"Gentoo\",\"Gentoo\",\"Gentoo\",\"Gentoo\",\"Gentoo\",\"Gentoo\",\"Gentoo\",\"Gentoo\",\"Gentoo\",\"Gentoo\",\"Gentoo\",\"Gentoo\",\"Gentoo\",\"Gentoo\",\"Gentoo\",\"Gentoo\",\"Gentoo\",\"Gentoo\",\"Gentoo\",\"Gentoo\",\"Gentoo\",\"Gentoo\",\"Gentoo\",\"Gentoo\",\"Gentoo\",\"Gentoo\",\"Gentoo\",\"Gentoo\",\"Gentoo\",\"Gentoo\",\"Gentoo\",\"Gentoo\",\"Gentoo\",\"Gentoo\",\"Gentoo\",\"Gentoo\",\"Gentoo\",\"Gentoo\",\"Gentoo\",\"Gentoo\",\"Gentoo\",\"Gentoo\",\"Gentoo\",\"Gentoo\",\"Gentoo\",\"Gentoo\",\"Gentoo\",\"Gentoo\",\"Gentoo\",\"Gentoo\",\"Gentoo\",\"Gentoo\",\"Gentoo\",\"Gentoo\",\"Gentoo\",\"Gentoo\",\"Gentoo\",\"Gentoo\",\"Gentoo\",\"Gentoo\",\"Gentoo\",\"Gentoo\",\"Gentoo\",\"Gentoo\",\"Gentoo\",\"Gentoo\",\"Gentoo\",\"Gentoo\",\"Gentoo\",\"Chinstrap\",\"Chinstrap\",\"Chinstrap\",\"Chinstrap\",\"Chinstrap\",\"Chinstrap\",\"Chinstrap\",\"Chinstrap\",\"Chinstrap\",\"Chinstrap\",\"Chinstrap\",\"Chinstrap\",\"Chinstrap\",\"Chinstrap\",\"Chinstrap\",\"Chinstrap\",\"Chinstrap\",\"Chinstrap\",\"Chinstrap\",\"Chinstrap\",\"Chinstrap\",\"Chinstrap\",\"Chinstrap\",\"Chinstrap\",\"Chinstrap\",\"Chinstrap\",\"Chinstrap\",\"Chinstrap\",\"Chinstrap\",\"Chinstrap\",\"Chinstrap\",\"Chinstrap\",\"Chinstrap\",\"Chinstrap\",\"Chinstrap\",\"Chinstrap\",\"Chinstrap\",\"Chinstrap\",\"Chinstrap\",\"Chinstrap\",\"Chinstrap\",\"Chinstrap\",\"Chinstrap\",\"Chinstrap\",\"Chinstrap\",\"Chinstrap\",\"Chinstrap\",\"Chinstrap\",\"Chinstrap\",\"Chinstrap\",\"Chinstrap\",\"Chinstrap\",\"Chinstrap\",\"Chinstrap\",\"Chinstrap\",\"Chinstrap\",\"Chinstrap\",\"Chinstrap\",\"Chinstrap\",\"Chinstrap\",\"Chinstrap\",\"Chinstrap\",\"Chinstrap\",\"Chinstrap\",\"Chinstrap\",\"Chinstrap\",\"Chinstrap\",\"Chinstrap\"]\n",
              "},\n",
              "\"mapping\":{\n",
              "\"x\":\"PC0\",\n",
              "\"y\":\"PC1\",\n",
              "\"color\":\"species\"\n",
              "},\n",
              "\"data_meta\":{\n",
              "}\n",
              "},{\n",
              "\"geom\":\"segment\",\n",
              "\"data\":{\n",
              "\"PC0\":[0.8801906675689039,-0.7740720642108583,1.1189254834566242,1.0662593370463471],\n",
              "\"PC1\":[0.3299861921139992,0.437732713285322,0.00318232643442447,0.042039596295647054]\n",
              "},\n",
              "\"mapping\":{\n",
              "\"xend\":\"PC0\",\n",
              "\"yend\":\"PC1\"\n",
              "},\n",
              "\"data_meta\":{\n",
              "},\n",
              "\"x\":0.0,\n",
              "\"y\":0.0,\n",
              "\"color\":\"black\"\n",
              "},{\n",
              "\"geom\":\"text\",\n",
              "\"data\":{\n",
              "\"PC0\":[0.8801906675689039,-0.7740720642108583,1.1189254834566242,1.0662593370463471],\n",
              "\"PC1\":[0.3299861921139992,0.437732713285322,0.00318232643442447,0.042039596295647054],\n",
              "\"feature\":[\"bill_length_mm\",\"bill_depth_mm\",\"flipper_length_mm\",\"body_mass_g\"]\n",
              "},\n",
              "\"mapping\":{\n",
              "\"x\":\"PC0\",\n",
              "\"y\":\"PC1\",\n",
              "\"label\":\"feature\"\n",
              "},\n",
              "\"data_meta\":{\n",
              "}\n",
              "}],\n",
              "\"metainfo_list\":[]\n",
              "};\n",
              "           var plotContainer = document.getElementById(\"x2mJRO\");\n",
              "           window.letsPlotCall(function() {{\n",
              "               LetsPlot.buildPlotFromProcessedSpecs(plotSpec, -1, -1, plotContainer);\n",
              "           }});\n",
              "       })();    \n",
              "   </script>"
            ],
            "text/plain": [
              "<lets_plot.plot.core.PlotSpec at 0x13517e980>"
            ]
          },
          "execution_count": 10,
          "metadata": {},
          "output_type": "execute_result"
        }
      ],
      "source": [
        "(\n",
        "    ggplot()\n",
        "    + geom_point(\n",
        "        data = penguins_scores_sc,\n",
        "        mapping = aes(x='PC0', y='PC1', color='species')\n",
        "    )\n",
        "    + geom_segment(\n",
        "        data = penguins_loadings_sc,\n",
        "        mapping = aes(xend = 'PC0', yend = 'PC1'),\n",
        "        x = 0, y = 0, color = 'black'\n",
        "    )\n",
        "    + geom_text(\n",
        "        data = penguins_loadings_sc,\n",
        "        mapping = aes(x = 'PC0', y = 'PC1', label = 'feature')\n",
        "    )\n",
        ")"
      ]
    },
    {
      "cell_type": "markdown",
      "id": "f9f93923-766f-4c14-8c4e-91b733a9ea4f",
      "metadata": {
        "noteable": {
          "cell_type": "markdown"
        }
      },
      "source": [
        "La représentation en biplot est ce qu'on retrouverait si on écrasait en 2D les données selon la perspective où les données sont le plus éclatées. Voici quelques interprétations du biplot:\n",
        "\n",
        "- Étant donnée qu'on est en scaling 2, nous pouvons conclure que la longueur des ailes et la masse du manchot sont positivement corrélés. Ces deux attributs sont positivement corrélés, mais dans une moindre mesure, avec la longueur du bec, mais négativement corrélés avec l'épaisseur du bec.\n",
        "- Les Gentoos sont différents des Adelie et Chinstrap, qui se ressemblent davantage. Les Gentoos se différencient des autres par leur masse plus élevée, leurs ailes plus longues, et leur bec plus long. Les Adelies et des Chinstraps se recoupent passablement, mais peuvent se différencier selon la longueur de leur bec."
      ]
    },
    {
      "cell_type": "markdown",
      "id": "022bd328-5060-47cb-845e-b3830f9dc36c",
      "metadata": {
        "noteable": {
          "cell_type": "markdown"
        }
      },
      "source": [
        "![](images/Penguin-heights.jpg)\n",
        "\n",
        "Source: https://www.bas.ac.uk/about/antarctica/wildlife/penguins/"
      ]
    },
    {
      "cell_type": "markdown",
      "id": "ec19c2e3-62f5-48ce-bffe-af04321d749d",
      "metadata": {
        "noteable": {
          "cell_type": "markdown"
        }
      },
      "source": [
        "## Analyse discriminante (DA)\n",
        "\n",
        "L'analyse discriminante est une technique d'ordination utilisée pour distinguer ou prédire des catégories. Elle cherche à trouver les combinaisons de variables qui permettent de séparer au mieux les différentes catégories.\n",
        "\n",
        "Nous allons utiliser la classe `LinearDiscriminantAnalysis` de `scikit-learn` pour effectuer une analyse discriminante sur un ensemble de données.\n",
        "\n",
        "Nous devons d'abord convertir la colonne `species` en valeurs numériques."
      ]
    },
    {
      "cell_type": "code",
      "execution_count": 11,
      "id": "e40d7478-91ff-4d13-a800-55f6a9e8ee8a",
      "metadata": {
        "ExecuteTime": {
          "end_time": "2023-07-06T16:30:17.575856+00:00",
          "start_time": "2023-07-06T16:30:17.414444+00:00"
        },
        "noteable": {
          "cell_type": "python",
          "output_collection_id": "d83ce604-24af-45cc-8951-0647cf6e7f37"
        }
      },
      "outputs": [],
      "source": [
        "penguins = (\n",
        "    penguins\n",
        "    .with_columns(pl.col('species').cast(pl.Categorical).cast(pl.UInt32).alias('species_int'))\n",
        ")"
      ]
    },
    {
      "cell_type": "markdown",
      "id": "6613f671-f7b8-4ec8-8381-ef535f19f256",
      "metadata": {
        "noteable": {
          "cell_type": "markdown"
        }
      },
      "source": [
        "À ce stade, je vous laisse interpréter mon code!"
      ]
    },
    {
      "cell_type": "code",
      "execution_count": 12,
      "id": "eaba15e7-def8-4076-be18-aaa6ec9dd46c",
      "metadata": {
        "ExecuteTime": {
          "end_time": "2023-07-06T16:31:07.785194+00:00",
          "start_time": "2023-07-06T16:31:07.620431+00:00"
        },
        "noteable": {
          "cell_type": "code",
          "output_collection_id": "ee43dae6-26ec-44f0-a85d-f25ffc6f0d2b"
        }
      },
      "outputs": [
        {
          "name": "stderr",
          "output_type": "stream",
          "text": [
            "/Users/essi/mambaforge/envs/dl/lib/python3.10/site-packages/sklearn/utils/validation.py:1143: DataConversionWarning: A column-vector y was passed when a 1d array was expected. Please change the shape of y to (n_samples, ), for example using ravel().\n",
            "  y = column_or_1d(y, warn=True)\n"
          ]
        }
      ],
      "source": [
        "from sklearn.discriminant_analysis import LinearDiscriminantAnalysis as LDA\n",
        "from sklearn.preprocessing import StandardScaler\n",
        "\n",
        "scaler = StandardScaler()\n",
        "penguins_sc = scaler.fit_transform(penguins.select(ordination_features))\n",
        "\n",
        "# Analyse discriminante\n",
        "penguins_lda = LDA(n_components=2)\n",
        "penguins_lda.fit(\n",
        "    penguins_sc,\n",
        "    penguins.select('species_int')\n",
        ")\n",
        "\n",
        "# L'extraction des attributs est différente qu'avec Prince\n",
        "lda_scores = penguins_lda.transform(penguins_sc)\n",
        "lda_loadings = penguins_lda.coef_.T[:, :lda_scores.shape[1]]\n",
        "lda_eigenvalues = penguins_lda.explained_variance_ratio_"
      ]
    },
    {
      "cell_type": "markdown",
      "id": "8061d06e-f534-4973-8520-3fae417faf39",
      "metadata": {
        "noteable": {
          "cell_type": "markdown"
        }
      },
      "source": [
        "Notez que `penguins_lda.explained_variance_ratio_` extrait un ratio, qu'il faudrait multiplier par la variance `penguins.select(ordination_features).std()**2`, mais celle-ci est unitaire étant donné que l'on a préalablement mis les données à l'échelle avec `StandardScaler()`."
      ]
    },
    {
      "cell_type": "code",
      "execution_count": 13,
      "id": "8bb3df1d-717a-4262-b8f6-e667187cdea6",
      "metadata": {
        "ExecuteTime": {
          "end_time": "2023-07-06T16:32:51.909740+00:00",
          "start_time": "2023-07-06T16:32:51.751178+00:00"
        },
        "jupyter": {
          "outputs_hidden": false,
          "source_hidden": false
        },
        "noteable": {
          "cell_type": "code",
          "output_collection_id": "efd5aeb8-8256-4f48-bcaf-861200bff0a7"
        }
      },
      "outputs": [],
      "source": [
        "# Scaling\n",
        "penguins_lda_scores, penguins_lda_loadings = eigen_scaling(\n",
        "    scores = lda_scores,\n",
        "    loadings = lda_loadings,\n",
        "    eigenvalues = lda_eigenvalues,\n",
        "    scaling = 2\n",
        ")\n",
        "\n",
        "# Transformer en format Polars, et renommer les variables\n",
        "lda_colnames = ['DA0', 'DA1']\n",
        "penguins_lda_scores = (\n",
        "    pl.DataFrame(penguins_lda_scores, schema = lda_colnames)\n",
        "    .with_columns(penguins.select('species'))\n",
        ")\n",
        "penguins_lda_loadings = (\n",
        "    pl.DataFrame(penguins_lda_loadings)\n",
        "    .with_columns(pl.Series(ordination_features).alias('features'))\n",
        ")"
      ]
    },
    {
      "cell_type": "markdown",
      "id": "a4b0fdb0-1997-4031-96c9-1396afb74dca",
      "metadata": {
        "noteable": {
          "cell_type": "markdown"
        }
      },
      "source": [
        "Et le biplot en scaling 2!"
      ]
    },
    {
      "cell_type": "code",
      "execution_count": 14,
      "id": "4502ff35-a6cd-4c2d-938b-e1d7d1059839",
      "metadata": {
        "ExecuteTime": {
          "end_time": "2023-07-06T16:34:00.914098+00:00",
          "start_time": "2023-07-06T16:34:00.740109+00:00"
        },
        "jupyter": {
          "outputs_hidden": false,
          "source_hidden": false
        },
        "noteable": {
          "cell_type": "code",
          "output_collection_id": "147b32ba-380b-4832-9cfd-a4ce6d0d954c"
        }
      },
      "outputs": [
        {
          "data": {
            "text/html": [
              "   <div id=\"kM6TQ6\"></div>\n",
              "   <script type=\"text/javascript\" data-lets-plot-script=\"plot\">\n",
              "       (function() {\n",
              "           var plotSpec={\n",
              "\"data\":{\n",
              "\"DA0\":[-4.320331353543699,-2.443098930861655,-2.9790229199616807,-4.5409558179166725,-5.6550328214747605,-3.5690215300009642,-2.8202878473940665,-3.6596665596291684,-6.053211062985186,-4.893331049045578,-3.3275701175245858,-3.8879938216207286,-3.748527812117707,-4.730360088156034,-4.938077879784402,-5.078258253637623,-4.726981895899163,-4.372289664208847,-3.16585941859964,-2.801965398761091,-4.280526365418656,-4.18774555698122,-3.6009965347989508,-5.88750023835739,-4.2235140766206705,-3.1309075630641456,-3.9104646799471268,-3.3636468015294114,-3.918530149089633,-2.172044215618464,-5.003934304275022,-4.669537021646538,-4.199747643615896,-5.679505679886229,-3.2113798968202687,-4.538295979009367,-2.4773022191812633,-4.831019896895914,-2.7894100204915113,-3.2989010638400336,-2.476675502746671,-4.813944557904491,-3.397317774948592,-5.264294557052419,-3.1506804226578575,-3.110717955178892,-3.4831799017768175,-2.8948171832378793,-4.728250613992891,-3.2411872471560477,-2.9267068352933014,-3.214434955346078,-3.5694844091010642,-3.767109293608591,-3.208567555858868,-4.571522675110747,-2.5436530825661063,-2.2948844115803406,-3.8450346772417943,-2.178416757562595,-1.3829699942520643,-3.50230096467002,-2.5913256939446967,-2.4383370786043166,-4.5549690679601005,-2.994197018382769,-1.718037481052138,-2.062854477673041,-2.6873128385818643,-1.9384377151109167,-1.4105633579903025,-4.756651949626247,-1.62542209091213,-2.959649976180391,-3.20999979542824,-0.30272191562650275,-4.056233001604706,-3.772650242806979,-3.231757513784612,-4.9677284232078724,-4.565714680302777,-4.0658177655697205,-3.96426628696325,-3.8831408105788126,-2.3786551140891574,-0.7558467753676172,-3.2261154892126314,-2.2879822395758413,-3.211049180728463,-1.360828627637299,-3.609021557627282,-1.9339675583381488,-3.5271334939065033,-2.359515013051759,-2.943951817661228,-2.338849137663652,-2.370021546217604,-4.351490602759048,-4.416156516944249,-4.492791337951837,-1.281159368255611,-4.788372388696091,-3.410882960001624,-1.5487062567731238,-0.5789978833978319,-3.4383092436557763,-2.9545777121241077,-2.828181224399723,-5.312280822979539,-1.8899751816809418,-3.1467763532602744,-4.793971834052399,-2.7054244105504623,-3.9408101512253424,-3.308917067331883,-4.485761071717551,-3.282769453113405,-1.9721053312484331,-2.2607816466957646,-2.646399612415923,-2.995768687462331,-1.7745676165261177,-2.7610957401112897,-0.37563609465376036,-3.3509576852595773,-3.4820765612566076,-3.632360424245738,-1.7526184102613556,-3.1918750711365975,-1.9372125645333274,-3.3010772889634508,-3.7748644654842334,-2.344010791201336,-1.749070574627977,-2.0178559673729017,-2.493556118095668,-1.9416301109693326,-1.686738802326602,-2.5776309959704897,-4.1255965803793915,-2.774074217637424,-4.339509136276081,-2.870784929003699,-2.7935622976366727,-2.4815041059642824,-1.879713183122154,5.549904900679925,5.8790199511090755,4.6845615712526705,6.0100986966507755,5.875257874514101,5.254819391662433,4.436500550053772,5.033975674275096,4.7977034072706,4.533200241998495,5.0384120585731065,4.616526236798579,5.433377841982941,6.276745424419633,3.5785390174155394,5.547028257518601,4.329895093314467,7.002693962433902,4.440298053894605,5.869294849112553,6.964048598306348,5.122057829822585,4.265469132074486,3.9392874516613983,6.3903705583626005,4.718037821029429,5.7085888233706585,4.635412008187542,5.8730366214146645,5.406278917138924,4.3259897995367105,4.513461585270469,6.445918301547315,5.777647910920492,4.492839083087282,5.503796927958711,2.822083148434067,4.4978267406507735,4.061926444452649,3.7435748618986917,5.734487799450637,4.6070216121965935,4.735904306452411,5.4604279511783425,5.652125359077809,4.281385083148127,5.511941554134759,6.319579637539231,4.1814295669134465,4.9387094462799155,6.65668961146247,3.995880664955131,5.875829452072445,5.38069359560748,4.666458691492911,4.101077065569199,5.058417208972151,3.6269957448035033,6.245338639898322,4.199320460160734,5.711004921660153,4.905787040076617,6.8899166149825355,5.428469099402304,5.341415594471248,5.990322163916547,5.315475499635478,6.498867144772008,4.5727662654787835,4.595664097529026,4.88485210772507,5.368256596305449,4.393827409649471,6.205708314218108,4.59490561372413,5.532483916954919,5.522658291523365,5.107960767275614,4.707152779176565,5.725285889754772,4.591736959219384,5.317203107829936,5.243431777660622,4.603231024245868,4.7951017486623595,6.62403859645088,5.426795762286683,5.128771440809436,4.993844787799798,4.662338410503779,4.566344349976503,5.4700078176226645,4.575924216420827,5.561089892819715,4.12165410938544,5.595653088044048,3.9907320492084173,4.7369862398472184,5.029560024660876,5.353387029833127,4.227845388141183,6.716616110584687,4.275822174885772,3.795598820691573,5.492728538467736,4.324309116140056,4.921371050678281,4.9415979028520365,6.53029423358618,3.615868502571851,5.738540777540936,4.960354161319821,6.83113022955419,5.608065995380623,5.94959295783033,5.274241945081581,5.92928687481487,4.834189371738297,4.23838000227185,-2.2594687684234263,-2.7478316092223034,-2.914010016159673,-3.4909063202460247,-2.9793870519454813,-1.154204576843561,-4.125513319814408,-1.4005528039577018,-2.2146606361835794,-3.152850169297649,-1.6583983318323627,-3.771830894907545,-1.9141720672388631,-0.4944972154554274,-1.5462964019321275,-2.1845861995143125,-3.9658327019393567,-1.828077771152937,-3.2329563597161104,-0.8747066717891083,-2.781731200306304,-1.8905244435925619,-2.4199543167707867,-2.980332004590444,-2.2581008310539827,-1.6345956775924833,-1.8951740387832128,-2.067009755517105,-1.9791855229794295,-1.3923107755485808,-2.2135286627599893,-2.779342510540021,-1.978281373231406,-1.0726673712359045,-2.325210608634651,0.10131337839119373,-1.8566714614475173,-1.4305682663386605,-1.949090351626372,-1.2954389914670041,-1.5835255579646241,-2.089374048286751,-2.725436786727491,-1.0705962512093574,-1.308104924292702,-0.475332585046089,-2.2539798776232383,-1.0474067236745448,-3.4218861387713484,-0.6090563624009494,-0.2049818464492434,-1.6174281497475278,-1.4845146785160597,-2.1025215765269176,-2.6027996907580264,-2.3517037530546343,-1.4390462586936348,-2.4309013265953054,-1.6297549103522915,-3.695402847032883,-1.6724825579151392,-0.8280143257692676,-0.9359588449239465,-1.498072039157661,-2.014971183941298,-1.850816541841742,-0.7065875255437793,-1.89728473732653],\n",
              "\"DA1\":[0.9667673016748897,0.9691814810862859,-0.16836239177192827,1.6251317063145787,0.8234024064639889,0.84885804910903,2.6730510427136953,-0.7664959835959303,1.3754386426568723,4.151871424323486,1.989585029781386,0.8241488441086583,1.0215558374581548,2.2533149089445286,-0.9917870285010568,0.8229515973497432,1.2826879450617037,2.491777673218504,1.7414796830856247,1.1772574913569263,2.7162055923842887,0.03498115312908607,-0.44867327436245075,0.32864796237994015,0.7045101848036194,-0.06378415042513487,1.973908306238338,0.15132378692909806,0.5107179236162851,1.5919017728996507,1.7873940909045503,1.5430924019568197,-0.6727433792386682,0.8270058551894556,2.229794338455591,1.0600489370790467,0.7141372021316105,1.2357088668862763,0.1832420594422777,0.6534171073718786,2.317369265066432,-0.40210420155225896,1.888410028137503,0.42468422638472686,0.4191313429212743,1.5744170769565669,2.30469850890831,0.5269571517931927,1.541677808514293,0.068477318311445,0.7552035455748297,0.5963270355874325,0.5550981316101692,1.7720866925270489,1.4472405449081427,1.3200341516847873,1.4131961807064275,0.8012775956399527,0.6342239894623838,0.42678405691140275,2.017001381067738,0.8191810694604732,1.2698491245411616,1.256515802062235,3.17032327086058,1.100880445189004,0.6509030937128252,-0.9229623215483623,2.5218009094392637,0.4700317148300023,0.2953683488138316,2.045777860769107,1.94962694564884,0.3341040337735437,2.0431888148803328,1.2099563165721603,2.1344432076449893,3.5533938498791198,1.1940790336105753,-0.11754309644854555,2.3363726330487826,1.5764412974182576,1.7453337319027837,0.9244484513778889,2.3515051649489025,1.408452394592091,2.5739286730958786,2.0150720022786492,1.5160483980138237,1.5677114835789712,1.4279944876970085,1.6934200089379288,2.0171980939671847,0.00816345851316558,2.7963568995372374,2.117660498743107,0.46924313784171584,2.4646777077960595,0.24860650389868127,0.4207511379614132,1.4467605760035491,1.7086493529078959,0.43227550284168414,1.2110479590084695,1.7742846238767895,-0.18174912749779704,-0.028150610117551392,0.7799676229660598,1.1327898786080386,0.23322187545492457,-0.13941377374976113,1.9956745545468342,1.8400028752463258,-0.4667268031090517,1.2644414738194396,1.3590260071465066,-0.0499156362547731,0.5208582766802785,1.5116022108271572,1.0165175119019798,0.44540508286692143,1.0975058540231204,-0.011617790389404295,-0.27349429865843855,0.637148482431972,-0.896917676134954,1.6760509024675647,3.1122725503489956,0.9325161633083073,0.5274499671683661,1.6101374346505235,1.1437032808745413,1.3313121608224523,1.7383053009422993,0.10681862958166134,-0.019822947747975314,2.8347320888921868,0.4044163198859312,0.629215771587159,0.8969031433615535,1.896454671474581,1.5901286637829684,1.960625602267827,1.685009062613115,2.275118170938894,0.675534955223613,-0.1996836276159444,0.4361539851207055,-1.3898580273480388,0.27679255096168154,0.7351740466477167,-0.29934216459045687,0.5824342972344011,0.8215764912095549,0.7669392325236444,0.637750748648845,2.2551618947016023,0.40258958982358456,0.34023488315588984,1.1305773769776923,-0.6089095623688853,0.801400641178204,0.9002268987869305,1.6631214371894867,0.22197536664138937,0.28643537035611705,0.20290824986601097,1.10216614848349,-0.519701009048702,0.6732967606521079,2.0325816429369197,0.8480610126964998,1.0677895963514226,-0.9311483511080835,0.05157228440382887,0.6987239917327733,1.4720483912588216,1.0725037487301086,-2.97799288607803,-0.24228974129452652,0.4545705577045812,2.038533485301564,1.8424263676971702,0.3750033646349096,0.08089900010374565,0.241407801205881,0.5346197566580332,-0.22295965190217945,-1.1831853270832333,-0.1343512517043715,1.5928851589720803,-0.4767325997588177,-0.34429521276429276,1.3378843454222555,1.5522947770570206,0.15703539402206818,0.2674221780810013,0.021439900895964432,-0.8421355254887236,0.38044112303757865,1.2898118248039772,0.3709204582581695,1.0016174002664975,0.8670930292158734,-0.05800383927209957,-0.42090304958101954,1.2307885942932952,-0.16618647723496485,-1.4176188725080758,0.36553112052738446,0.5142042395757066,0.799537171710654,1.3372294434583376,-0.19400073564194428,-0.3922372136186999,0.6349436546918759,0.054056664327232835,0.8815719947466824,0.06472167387194556,1.1905145982421435,-0.6529397433867833,0.3411853097602663,0.6467470312282078,2.7547341719310845,-1.2373132574095747,-1.146470840407397,-0.3622320534162227,-0.23460192704839378,0.7289291239851565,-0.1041935922332705,1.1798734055167464,-0.9276966907332862,-0.1449635589200931,-0.6979906554110323,0.05635466689728138,-1.0217790386783596,0.47186561714384495,0.4767561617257782,1.082973030573995,-0.7897285132033925,-0.8135030563578102,0.24090877108438077,-1.0729831869530608,-0.8529656437999878,-0.5141312717382385,-2.22414037914489,0.1754373867107679,0.4590187818704337,1.2199732928498568,1.9389930955656436,-1.46746694658558,1.0412119666164708,0.6038042482975395,-1.1388472488995958,0.9304235050331265,1.1429547024419195,-0.5251432860811269,-0.3758173115814409,-1.4311443892566968,1.3281599381891533,0.0957332221582471,0.143910295318568,0.2462251230979967,1.3515729339582385,-0.26742290687865294,-2.3699332481283677,-3.1129383755398736,-4.114774074553747,-1.9351790258758295,-4.520563402772371,-0.984362594235248,-2.8269104486099472,-3.8789876475002183,-1.0346896520187219,-3.966674269630676,-1.8909889656390855,-4.067970677663617,-2.3346077285358433,-3.6071120019991256,-2.0139736809963127,-2.9983016059404006,-4.239391194449043,-6.975927727346276,-2.448280590257715,-1.9384416845494512,-0.6450522606453355,-3.3810113484915614,-2.0644096490942427,-3.5728067021596317,-2.7473510428538575,-3.5049923906671996,-4.094848350668782,-3.011079699845725,-2.00463317882393,-3.0608304213261364,-0.6016493182529521,-4.129986157313349,-1.0161039632918596,-3.085428167779543,-3.4982100784766725,-2.001392536963086,-2.1997991162814516,-2.2428352817407995,-3.870367492201357,-3.435407007037276,-2.413146317044283,-2.059406423794073,-4.072945017454108,-1.887332103666676,-3.8499068135976056,-2.438002678342242,-4.065473688242282,-1.7962052084880802,-4.9519623320485815,-3.357270920394526,-3.2154852534474045,-3.535144583617943,-1.8479864412918197,-3.054131156118199,-1.0223528933308539,-4.765193035301374,-2.250534379423625,-2.4734102597187317,-3.2719290253894293,-1.9403182374602286,-3.6773221799120166,-2.270294994542034,-1.7321762044447202,-5.205520765268156,-1.149234885937439,-3.186128430066539,-2.9046097281983565,-3.3699348744376936],\n",
              "\"species\":[\"Adelie\",\"Adelie\",\"Adelie\",\"Adelie\",\"Adelie\",\"Adelie\",\"Adelie\",\"Adelie\",\"Adelie\",\"Adelie\",\"Adelie\",\"Adelie\",\"Adelie\",\"Adelie\",\"Adelie\",\"Adelie\",\"Adelie\",\"Adelie\",\"Adelie\",\"Adelie\",\"Adelie\",\"Adelie\",\"Adelie\",\"Adelie\",\"Adelie\",\"Adelie\",\"Adelie\",\"Adelie\",\"Adelie\",\"Adelie\",\"Adelie\",\"Adelie\",\"Adelie\",\"Adelie\",\"Adelie\",\"Adelie\",\"Adelie\",\"Adelie\",\"Adelie\",\"Adelie\",\"Adelie\",\"Adelie\",\"Adelie\",\"Adelie\",\"Adelie\",\"Adelie\",\"Adelie\",\"Adelie\",\"Adelie\",\"Adelie\",\"Adelie\",\"Adelie\",\"Adelie\",\"Adelie\",\"Adelie\",\"Adelie\",\"Adelie\",\"Adelie\",\"Adelie\",\"Adelie\",\"Adelie\",\"Adelie\",\"Adelie\",\"Adelie\",\"Adelie\",\"Adelie\",\"Adelie\",\"Adelie\",\"Adelie\",\"Adelie\",\"Adelie\",\"Adelie\",\"Adelie\",\"Adelie\",\"Adelie\",\"Adelie\",\"Adelie\",\"Adelie\",\"Adelie\",\"Adelie\",\"Adelie\",\"Adelie\",\"Adelie\",\"Adelie\",\"Adelie\",\"Adelie\",\"Adelie\",\"Adelie\",\"Adelie\",\"Adelie\",\"Adelie\",\"Adelie\",\"Adelie\",\"Adelie\",\"Adelie\",\"Adelie\",\"Adelie\",\"Adelie\",\"Adelie\",\"Adelie\",\"Adelie\",\"Adelie\",\"Adelie\",\"Adelie\",\"Adelie\",\"Adelie\",\"Adelie\",\"Adelie\",\"Adelie\",\"Adelie\",\"Adelie\",\"Adelie\",\"Adelie\",\"Adelie\",\"Adelie\",\"Adelie\",\"Adelie\",\"Adelie\",\"Adelie\",\"Adelie\",\"Adelie\",\"Adelie\",\"Adelie\",\"Adelie\",\"Adelie\",\"Adelie\",\"Adelie\",\"Adelie\",\"Adelie\",\"Adelie\",\"Adelie\",\"Adelie\",\"Adelie\",\"Adelie\",\"Adelie\",\"Adelie\",\"Adelie\",\"Adelie\",\"Adelie\",\"Adelie\",\"Adelie\",\"Adelie\",\"Adelie\",\"Adelie\",\"Adelie\",\"Adelie\",\"Gentoo\",\"Gentoo\",\"Gentoo\",\"Gentoo\",\"Gentoo\",\"Gentoo\",\"Gentoo\",\"Gentoo\",\"Gentoo\",\"Gentoo\",\"Gentoo\",\"Gentoo\",\"Gentoo\",\"Gentoo\",\"Gentoo\",\"Gentoo\",\"Gentoo\",\"Gentoo\",\"Gentoo\",\"Gentoo\",\"Gentoo\",\"Gentoo\",\"Gentoo\",\"Gentoo\",\"Gentoo\",\"Gentoo\",\"Gentoo\",\"Gentoo\",\"Gentoo\",\"Gentoo\",\"Gentoo\",\"Gentoo\",\"Gentoo\",\"Gentoo\",\"Gentoo\",\"Gentoo\",\"Gentoo\",\"Gentoo\",\"Gentoo\",\"Gentoo\",\"Gentoo\",\"Gentoo\",\"Gentoo\",\"Gentoo\",\"Gentoo\",\"Gentoo\",\"Gentoo\",\"Gentoo\",\"Gentoo\",\"Gentoo\",\"Gentoo\",\"Gentoo\",\"Gentoo\",\"Gentoo\",\"Gentoo\",\"Gentoo\",\"Gentoo\",\"Gentoo\",\"Gentoo\",\"Gentoo\",\"Gentoo\",\"Gentoo\",\"Gentoo\",\"Gentoo\",\"Gentoo\",\"Gentoo\",\"Gentoo\",\"Gentoo\",\"Gentoo\",\"Gentoo\",\"Gentoo\",\"Gentoo\",\"Gentoo\",\"Gentoo\",\"Gentoo\",\"Gentoo\",\"Gentoo\",\"Gentoo\",\"Gentoo\",\"Gentoo\",\"Gentoo\",\"Gentoo\",\"Gentoo\",\"Gentoo\",\"Gentoo\",\"Gentoo\",\"Gentoo\",\"Gentoo\",\"Gentoo\",\"Gentoo\",\"Gentoo\",\"Gentoo\",\"Gentoo\",\"Gentoo\",\"Gentoo\",\"Gentoo\",\"Gentoo\",\"Gentoo\",\"Gentoo\",\"Gentoo\",\"Gentoo\",\"Gentoo\",\"Gentoo\",\"Gentoo\",\"Gentoo\",\"Gentoo\",\"Gentoo\",\"Gentoo\",\"Gentoo\",\"Gentoo\",\"Gentoo\",\"Gentoo\",\"Gentoo\",\"Gentoo\",\"Gentoo\",\"Gentoo\",\"Gentoo\",\"Gentoo\",\"Gentoo\",\"Chinstrap\",\"Chinstrap\",\"Chinstrap\",\"Chinstrap\",\"Chinstrap\",\"Chinstrap\",\"Chinstrap\",\"Chinstrap\",\"Chinstrap\",\"Chinstrap\",\"Chinstrap\",\"Chinstrap\",\"Chinstrap\",\"Chinstrap\",\"Chinstrap\",\"Chinstrap\",\"Chinstrap\",\"Chinstrap\",\"Chinstrap\",\"Chinstrap\",\"Chinstrap\",\"Chinstrap\",\"Chinstrap\",\"Chinstrap\",\"Chinstrap\",\"Chinstrap\",\"Chinstrap\",\"Chinstrap\",\"Chinstrap\",\"Chinstrap\",\"Chinstrap\",\"Chinstrap\",\"Chinstrap\",\"Chinstrap\",\"Chinstrap\",\"Chinstrap\",\"Chinstrap\",\"Chinstrap\",\"Chinstrap\",\"Chinstrap\",\"Chinstrap\",\"Chinstrap\",\"Chinstrap\",\"Chinstrap\",\"Chinstrap\",\"Chinstrap\",\"Chinstrap\",\"Chinstrap\",\"Chinstrap\",\"Chinstrap\",\"Chinstrap\",\"Chinstrap\",\"Chinstrap\",\"Chinstrap\",\"Chinstrap\",\"Chinstrap\",\"Chinstrap\",\"Chinstrap\",\"Chinstrap\",\"Chinstrap\",\"Chinstrap\",\"Chinstrap\",\"Chinstrap\",\"Chinstrap\",\"Chinstrap\",\"Chinstrap\",\"Chinstrap\",\"Chinstrap\"]\n",
              "},\n",
              "\"mapping\":{\n",
              "},\n",
              "\"data_meta\":{\n",
              "},\n",
              "\"kind\":\"plot\",\n",
              "\"scales\":[],\n",
              "\"layers\":[{\n",
              "\"geom\":\"point\",\n",
              "\"mapping\":{\n",
              "\"x\":\"DA0\",\n",
              "\"y\":\"DA1\",\n",
              "\"color\":\"species\"\n",
              "},\n",
              "\"data_meta\":{\n",
              "},\n",
              "\"data\":{\n",
              "}\n",
              "},{\n",
              "\"geom\":\"segment\",\n",
              "\"data\":{\n",
              "\"column_0\":[-3.8408504607469887,6.202917667947445,-3.3845609515173405,-1.8536361935343137],\n",
              "\"column_1\":[0.6683914749484994,-3.855943251771324,2.2453857681261504,2.1662126102860593]\n",
              "},\n",
              "\"mapping\":{\n",
              "\"xend\":\"column_0\",\n",
              "\"yend\":\"column_1\"\n",
              "},\n",
              "\"data_meta\":{\n",
              "},\n",
              "\"x\":0.0,\n",
              "\"y\":0.0,\n",
              "\"color\":\"black\"\n",
              "},{\n",
              "\"geom\":\"text\",\n",
              "\"data\":{\n",
              "\"column_0\":[-3.8408504607469887,6.202917667947445,-3.3845609515173405,-1.8536361935343137],\n",
              "\"column_1\":[0.6683914749484994,-3.855943251771324,2.2453857681261504,2.1662126102860593],\n",
              "\"features\":[\"bill_length_mm\",\"bill_depth_mm\",\"flipper_length_mm\",\"body_mass_g\"]\n",
              "},\n",
              "\"mapping\":{\n",
              "\"x\":\"column_0\",\n",
              "\"y\":\"column_1\",\n",
              "\"label\":\"features\"\n",
              "},\n",
              "\"data_meta\":{\n",
              "}\n",
              "}],\n",
              "\"metainfo_list\":[]\n",
              "};\n",
              "           var plotContainer = document.getElementById(\"kM6TQ6\");\n",
              "           window.letsPlotCall(function() {{\n",
              "               LetsPlot.buildPlotFromProcessedSpecs(plotSpec, -1, -1, plotContainer);\n",
              "           }});\n",
              "       })();    \n",
              "   </script>"
            ],
            "text/plain": [
              "<lets_plot.plot.core.PlotSpec at 0x13517ee90>"
            ]
          },
          "execution_count": 14,
          "metadata": {},
          "output_type": "execute_result"
        }
      ],
      "source": [
        "(\n",
        "    ggplot(data=penguins_lda_scores)\n",
        "    + geom_point(aes(x='DA0', y='DA1', color='species'))\n",
        "    + geom_segment(\n",
        "        data = penguins_lda_loadings,\n",
        "        mapping = aes(xend = 'column_0', yend='column_1'),\n",
        "        x = 0, y = 0, color = 'black'\n",
        "    )\n",
        "    + geom_text(\n",
        "        data = penguins_lda_loadings,\n",
        "        mapping = aes(x = 'column_0', y = 'column_1', label='features')\n",
        "    )\n",
        ")"
      ]
    },
    {
      "cell_type": "markdown",
      "id": "e6422943-2a0a-4a52-8985-6b29111e879a",
      "metadata": {
        "noteable": {
          "cell_type": "markdown"
        }
      },
      "source": [
        "À la différence d'une analyse en composantes principales, l'analyse discriminante écrase en 2D la perspective où les groupes sont les plus éclatés. Pouvez-vous interpréter le biplot?"
      ]
    },
    {
      "cell_type": "markdown",
      "metadata": {},
      "source": []
    }
  ],
  "metadata": {
    "kernelspec": {
      "display_name": "dl",
      "language": "python",
      "name": "dl"
    },
    "language_info": {
      "codemirror_mode": {
        "name": "ipython",
        "version": 3
      },
      "file_extension": ".py",
      "mimetype": "text/x-python",
      "name": "python",
      "nbconvert_exporter": "python",
      "pygments_lexer": "ipython3",
      "version": "3.10.11"
    },
    "noteable": {
      "last_transaction_id": "aac727b5-ecab-47ab-bade-1d13346bece6"
    },
    "noteable-chatgpt": {
      "create_notebook": {
        "openai_conversation_id": "470fc6a5-1a33-516e-a3b6-51798eddb9f8",
        "openai_ephemeral_user_id": "143c5970-b006-576d-9fe7-646b1bae4c3f",
        "openai_subdivision1_iso_code": "CA-QC"
      }
    },
    "selected_hardware_size": "small"
  },
  "nbformat": 4,
  "nbformat_minor": 5
}
