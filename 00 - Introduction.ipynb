{
  "cells": [
    {
      "cell_type": "markdown",
      "source": [
        "# Introduction au calcul numérique avec Python\n",
        "\n",
        "![](images/midjourney-old-snake.png)\n",
        "\n",
        "<small>Créé avec Midjourney. A representation of a snake in a biology book of the 19th century, with subtile futuristic elements of numerical computing.</small>"
      ],
      "metadata": {
        "noteable": {
          "cell_type": "markdown"
        }
      },
      "id": "5c3669fe-9b2f-4de3-9914-3222b9759e17"
    },
    {
      "cell_type": "markdown",
      "source": [
        "Excel est utile pour consigner de petits ensembles de données, effectuer des analyses de base et générer des graphiques simples. Mais avec Excel, la probabilité de commettre des erreurs grandit rapidement avec la complexité des calculs. De plus, les journaux scientifiques demandent de plus en plus que les données et les calculs  fournis avec le manuscrit. D'autre part, les firmes de consultation demandent souvent que les calculs soient audités par des tiers pour s'assurer de leur exactitude. Or, Excel a aussi le défaut d'être difficile à auditer."
      ],
      "metadata": {
        "noteable": {
          "cell_type": "markdown"
        }
      },
      "id": "b48a4009-d193-46c3-a335-41b7c2e9503c"
    },
    {
      "cell_type": "markdown",
      "source": [
        "Tout cela peut être heureusement corrigé par des langages de programmation, dont l'utilisation s'est démocratisée avec les outils de calcul en ligne. Ainsi, des plateformes comme [Noteable](noteable.io), [Deepnote](deepnote.com), [Google colab](colab.research.google.com), [Obsersable](observablehq.com) et [plusieurs autres](datasciencenotebook.org) offrent des forfaits gratuits (avec options payantes pour une utilisation intensive) pour le calcul en différents langages de programmation."
      ],
      "metadata": {
        "noteable": {
          "cell_type": "markdown"
        }
      },
      "id": "748cb9a3-f2d7-4387-a6d7-4478c13bd4b3"
    },
    {
      "cell_type": "markdown",
      "source": [
        "En ce moment, les langages les plus utilisés pour le calcul numérique et la science des données sont [Python](python.org/) et [R](r-project.org). Alors que Python est un langage de programmation générique servant autant à programmer de l'apprentissage machine qu'un agenda, R est orienté vers l'analyse de données. Pour ce cours, nous utiliserons Python, dont l'utilisation est plus courante en génie. D'autres langages sont aussi utilisés en calcul numérique, comme SQL pour la gestion des données et Javascript pour la création d'interfaces interactifs pour l'exploration de données."
      ],
      "metadata": {
        "noteable": {
          "cell_type": "markdown"
        }
      },
      "id": "30f9f1a0-9eb2-4d6f-977a-c25418439f33"
    },
    {
      "cell_type": "markdown",
      "source": [
        "## Premiers pas\n",
        "\n",
        "Cette feuille de calcul comprend des cellules de texte et des cellules de code, ce qu'on appelle de la *programmation littéraire*. Les cellules de texte sont écrites en format Markdown, une manière [*très* simple](https://www.markdownguide.org/cheat-sheet/) d'écrire avec une mise en forme de base.\n",
        "\n",
        "Pour la partie code, c'est un peu comme dans Excel, sauf que des noms de variable remplacent les noms des cellules:"
      ],
      "metadata": {
        "noteable": {
          "cell_type": "markdown"
        }
      },
      "id": "eecf957b-296d-47cc-925c-edf2b1a3987c"
    },
    {
      "cell_type": "code",
      "source": [
        "a = 2\n",
        "b = 4\n",
        "a + b"
      ],
      "outputs": [
        {
          "output_type": "execute_result",
          "execution_count": null,
          "data": {
            "text/plain": "6"
          },
          "metadata": {}
        }
      ],
      "execution_count": null,
      "metadata": {
        "noteable": {},
        "ExecuteTime": {
          "end_time": "2023-06-06T14:41:13.391267+00:00",
          "start_time": "2023-06-06T14:41:13.232908+00:00"
        }
      },
      "id": "cb5ff6d4246a4beba8260bebe5725823"
    },
    {
      "cell_type": "markdown",
      "source": [
        "En Python, on peut créer des listes de nombres, de caractères, de n'importe quoi, en utilisant des crochets."
      ],
      "metadata": {
        "noteable": {
          "cell_type": "markdown"
        }
      },
      "id": "ab451db1-0bc9-455b-9fae-eb2e84b002a3"
    },
    {
      "cell_type": "code",
      "source": [
        "a = [1, 2, 3]"
      ],
      "outputs": [],
      "execution_count": null,
      "metadata": {
        "jupyter": {
          "outputs_hidden": false,
          "source_hidden": false
        },
        "noteable": {
          "cell_type": "code"
        },
        "ExecuteTime": {
          "end_time": "2023-06-06T14:48:03.071202+00:00",
          "start_time": "2023-06-06T14:48:02.915117+00:00"
        }
      },
      "id": "742d62c7-f950-4f42-9149-3037ee0b88de"
    },
    {
      "cell_type": "markdown",
      "source": [
        "Les messages d'erreur sont inévitables, même pour les pros. Ce qui fait la différence entre novices et experts, c'est que les experts savent rapidement comment régler un problème, et ça inclut la capacité à comprendre les messages d'erreur et à corriger la situation. Disons que vous voulez ajouter `1` à chaque élément de la liste.  "
      ],
      "metadata": {
        "noteable": {
          "cell_type": "markdown"
        }
      },
      "id": "161bdfc5-bada-4b47-9a99-7e23c9006b3b"
    },
    {
      "cell_type": "code",
      "source": [
        "a + 1"
      ],
      "outputs": [
        {
          "output_type": "error",
          "ename": "TypeError",
          "evalue": "can only concatenate list (not \"int\") to list",
          "traceback": [
            "\u001b[0;31m---------------------------------------------------------------------------\u001b[0m",
            "\u001b[0;31mTypeError\u001b[0m                                 Traceback (most recent call last)",
            "Cell \u001b[0;32mIn[36], line 1\u001b[0m\n\u001b[0;32m----> 1\u001b[0m \u001b[43ma\u001b[49m\u001b[43m \u001b[49m\u001b[38;5;241;43m+\u001b[39;49m\u001b[43m \u001b[49m\u001b[38;5;241;43m1\u001b[39;49m\n",
            "\u001b[0;31mTypeError\u001b[0m: can only concatenate list (not \"int\") to list"
          ]
        }
      ],
      "execution_count": null,
      "metadata": {
        "jupyter": {
          "outputs_hidden": false,
          "source_hidden": false
        },
        "noteable": {
          "cell_type": "code"
        },
        "ExecuteTime": {
          "end_time": "2023-07-10T19:49:10.519709+00:00",
          "start_time": "2023-07-10T19:49:09.947366+00:00"
        }
      },
      "id": "d308184c-b91e-4c60-8d26-2bb3cbf69744"
    },
    {
      "cell_type": "markdown",
      "source": [
        "La variable `a` étant une liste, Python s'attend à ce qu'on ajoute une liste à une liste. "
      ],
      "metadata": {
        "noteable": {
          "cell_type": "markdown"
        }
      },
      "id": "1ea101a3-98dd-4b63-8728-6f53489739ff"
    },
    {
      "cell_type": "code",
      "source": [
        "a + [1]"
      ],
      "outputs": [
        {
          "output_type": "execute_result",
          "execution_count": null,
          "data": {
            "text/plain": "[1, 2, 3, 1]"
          },
          "metadata": {}
        }
      ],
      "execution_count": null,
      "metadata": {
        "noteable": {
          "cell_type": "python"
        },
        "ExecuteTime": {
          "end_time": "2023-06-06T14:49:47.036423+00:00",
          "start_time": "2023-06-06T14:49:46.877663+00:00"
        }
      },
      "id": "8bf82a65-a219-4891-9324-b46df3e2e056"
    },
    {
      "cell_type": "markdown",
      "source": [
        "Le bogue le plus insidieux est celui qui ne génère pas d'erreur, mais effectue la mauvaise opération. Rappelez-vous que Python est un langage de programmation générique: il ne sait pas que vous voulez effectuer une opération mathématique. Pour ajouter de nouvelles capacités à Python, nous devons importer des modules (aussi appelés librairies, et *packages* en anglais). Pour les calculs sur des matrices et les opérations de mathématiques, nous avons besoin du module *Numpy*, que nous importons avec l'alias de notre choix: par convention, nous prenons `np`, puis nous spécifions que `a` est un vecteur, sur lequel nous effectuerons notre opération sans problème."
      ],
      "metadata": {
        "noteable": {
          "cell_type": "markdown"
        }
      },
      "id": "9d95d044-360b-48eb-b09b-a560d7e5c86e"
    },
    {
      "cell_type": "code",
      "source": [
        "import numpy as np\n",
        "np.array(a) + 1"
      ],
      "outputs": [
        {
          "output_type": "execute_result",
          "execution_count": null,
          "data": {
            "text/plain": "array([2, 3, 4])"
          },
          "metadata": {}
        }
      ],
      "execution_count": null,
      "metadata": {
        "noteable": {
          "cell_type": "python"
        },
        "ExecuteTime": {
          "end_time": "2023-06-06T14:54:34.918787+00:00",
          "start_time": "2023-06-06T14:54:34.760338+00:00"
        }
      },
      "id": "174abe37-2c91-4527-ae27-078a400963de"
    },
    {
      "cell_type": "markdown",
      "source": [
        "Il existe de nombreux modules en Python, certains très spécialisés, d'autres plus génériques. Certains sont offerts par Noteable lorsque vous démarrer votre feuille de calcul, d'autres devront être installés. Voici une liste bien personnelle de modules.\n",
        "\n",
        "- [Pandas](pandas.pydata.org). Vous trouverez ce module pour gérer des tableaux dans beaucoup de tutoriels. Pour effectuer des filtres et des sélections de colonnes, nous utiliserons l'interface de Noteable, ainsi que [Polars](pola.rs), un outil conçu pour moderniser *Pandas*.\n",
        "- [Matplotlib](matplotlib.org). Vous le verrezn également dans plein de tutoriels. Mais pour les graphiques, nous utiliserons d'abord les outils de Noteable, puis mon module graphique préféré: [Lets-plot](lets-P.org).\n",
        "- [Scipy](scipy.org). Une collection d'outils pour le calcul scientifique, complémentaire à Numpy. Nous ne l'utiliserons pas tellement de manière directe, mais vous le verrez dans bien des tutoriels. *Scipy* contient entre autre des [fonctions d'optimisation](https://docs.scipy.org/doc/scipy/reference/optimize.html) bien plus performantes que le *Solveur* de Excel.\n",
        "- [Statsmodels](statsmodels.org). Pour tout ce qui est statistiques fréquentielles (avec p-values). Je préfère les statistiques bayésiennes avec [PyMC](pymc.io), mais c'est plus compliqué.\n",
        "- [Scikit-Learn](lets-plot.org). Un trousse d'outils pour l'apprentissage machine que nous utiliserons. Elle est regardée de haut par les experts, mais reste utile tant dans le monde académique grâce à sa fantastique documentation que pour créer des modèles professionnels. Néanmoins, les experts utilisent davantage les modules [Tensorflow](tensorflow.org) et [Pytorch](pytorch.org)."
      ],
      "metadata": {
        "noteable": {
          "cell_type": "markdown"
        }
      },
      "id": "3829baba-e7ab-4ff2-bbc3-2a4af657f554"
    },
    {
      "cell_type": "markdown",
      "source": [
        "L'introduction ne fait qu'effleurer la programmation. Truc de pro, ayez toujours tout proche un onglet pour y rechercher vos messages d'erreur. Ça vous aidera, en particulier s'il vous dirige vers des sites comme [StackOverflow](stackoverflow.com) ou [Cross Validated](stats.stackexchange.com), où les réponses à des questions sont notées. De plus en plus, je pose des questions directement à ChatGPT, mais sachez qu'en ce moment (2023-07-07), il ne peut pas répondre à des questions sur des modules datant d'après 2021."
      ],
      "metadata": {
        "noteable": {
          "cell_type": "markdown"
        }
      },
      "id": "94b610c8-beaa-4187-94f8-428ee1b21719"
    }
  ],
  "metadata": {
    "selected_hardware_size": "small",
    "noteable": {
      "last_transaction_id": "891ef248-550b-4a34-a901-324f8c9960b1",
      "last_delta_id": "38773eee-80dd-4c7e-8846-d53f7a0e388b"
    },
    "nteract": {
      "version": "noteable@2.9.0"
    }
  },
  "nbformat": 4,
  "nbformat_minor": 5
}