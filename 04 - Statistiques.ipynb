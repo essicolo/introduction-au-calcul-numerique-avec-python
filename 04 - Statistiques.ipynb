{
  "cells": [
    {
      "cell_type": "markdown",
      "id": "9b7b5f14-2928-43f3-8d40-1304dc75b3d3",
      "metadata": {
        "noteable": {
          "cell_type": "markdown"
        }
      },
      "source": [
        "#### Importer les modules\n",
        "En général, je préfère importer les modules au haut de mes notebooks."
      ]
    },
    {
      "cell_type": "code",
      "execution_count": null,
      "id": "0290f351-d61e-4b34-91f3-3d60dfadbdfc",
      "metadata": {
        "ExecuteTime": {
          "end_time": "2023-07-14T00:44:24.678289+00:00",
          "start_time": "2023-07-14T00:44:16.681039+00:00"
        },
        "noteable": {
          "cell_type": "python",
          "output_collection_id": "6a6a297b-aa1b-4238-b896-b59e29abe499"
        },
        "scrolled": false
      },
      "outputs": [],
      "source": [
        "!pip install lets-plot==4.1 polars==0.19\n",
        "import polars as pl\n",
        "from lets_plot import *\n",
        "LetsPlot.setup_html() \n",
        "import numpy as np\n",
        "from scipy.stats import binom, poisson, uniform, norm"
      ]
    },
    {
      "cell_type": "markdown",
      "id": "3ea900a5",
      "metadata": {
        "noteable": {
          "cell_type": "markdown"
        }
      },
      "source": [
        "# Statistiques\n",
        "\n",
        "Aux chapitres précédents, nous avons vu comment visualiser, organiser et manipuler des tableaux de données. La statistique est une collection de disciplines liées à la collecte, l’organisation, l'analyse, l'interprétation et la présentation de données.\n",
        "\n",
        "Dans [*Principles and procedures of statistics: A biometrical approach*](https://www.amazon.com/Principles-Procedures-Statistics-Biometrical-Approach/dp/0070610282), Steel, Torie et Dickey (1997) définissent les statistiques ainsi :\n",
        "\n",
        "> Les statistiques forment la science, pure et appliquée, de la création, du développement, et de l'application de techniques par lesquelles l'incertitude de l'induction inférentielle peut être évaluée. (ma traduction)\n",
        "\n",
        "Alors que l'**inférence** consiste à généraliser des échantillons à l'ensemble d'une population, l'**induction** est un type de raisonnement qui permet de généraliser des observations sous forme de théories. En d'autres mots, les statistiques permettent d'évaluer l'incertitude sur des processus, de passer par inférence de l'échantillon à la population, puis par induction de passer de cette représentation d'une population en lois générales la concernant.\n",
        "\n",
        "La définition de Whitlock et Schuluter (2015), dans [The Analysis of Biological Data](http://whitlockschluter.zoology.ubc.ca/), est plus simple et n'insiste que sur l'inférence:\n",
        "\n",
        "> La statistique est l’étude des méthodes pour mesurer des aspects de populations à partir d’échantillons et pour quantifier l'incertitude des mesures. (ma traduction)\n",
        "\n",
        "Les statistiques consistent à *faire du sens* (anglicisme assumé) avec des observations dans l'objectif de répondre à une question que vous aurez formulée clairement, préalablement à votre expérience.\n",
        "\n",
        "<blockquote class=\"twitter-tweet\" data-lang=\"fr\"><p lang=\"en\" dir=\"ltr\">The more time I spend as The Statistician in the room, the more I think the best skill you can cultivate is the ability to remain calm and repeatedly ask &quot;What question are you trying to answer?&quot;</p>&mdash; Bryan Howie (@bryan_howie) <a href=\"https://twitter.com/bryan_howie/status/1073054519808876544?ref_src=twsrc%5Etfw\">13 décembre 2018</a></blockquote>\n",
        "<script async src=\"https://platform.twitter.com/widgets.js\" charset=\"utf-8\"></script>\n",
        "\n",
        "Le flux de travail conventionnel en statistiques consiste à collecter des échantillons, transformer (prétraiter) les données, effectuer des tests, analyser les résultats, les interpréter et les visualiser. Mais avant tout: **se demander à quelle question veut-on répondre**.\n",
        "\n",
        "Cette section à elle seule est trop courte pour permettre d'intégrer toutes les connaissances nécessaires à une utilisation raisonnée des statistiques, mais fournit les bases pour aller plus loin. Notez que les erreurs d'interprétation statistiques sont courantes et la consultation de spécialistes n'est souvent pas un luxe. Mais bien que les statistiques soient complexes, *la plupart des opérations statistiques peuvent être effectuées sans l'assistance de statisticien.nes*... à condition de comprendre suffisamment les concepts utilisés.\n",
        "\n",
        "Dans cette section, nous verrons comment répondre correctement à une question valide et adéquate avec l'aide d'outils de calcul scientifique. Nous couvrirons les notions de bases des distributions et des variables aléatoires qui nous permettront d'effectuer des tests statistiques communs avec Python. Nous couvrirons aussi les erreurs communément commises en recherche académique et les moyens simples de les éviter. Nous utiliserons évidemment les modules *Polars* et *Lets-Plot*. J'introduirai les modules *Scipy* et *Statsmodels*.\n",
        "\n",
        "Je vais d'abord rapidement présenter quelques notions importantes en statistiques : populations et échantillons, variables, probabilités et distributions. Puis nous allons effectuer des tests d'hypothèse univariés et détailler la notion de plus en plus controversée de *p-value*. Je vais m'attarder plus longuement aux modèles linéaires généralisés, qui fournissent une trousse d'analyse polyvalente en analyse multivariée.\n"
      ]
    },
    {
      "cell_type": "markdown",
      "id": "6eb8634d-9789-4bbd-8ce5-d8a21543da6b",
      "metadata": {
        "noteable": {
          "cell_type": "markdown"
        }
      },
      "source": [
        "## Populations et échantillons\n",
        "\n",
        "Le principe d'inférence consiste à généraliser des conclusions à l'échelle d'une population à partir d'échantillons issus de cette population. Alors qu'une **population** contient tous les éléments étudiés, un **échantillon** d'une population est une observation unique. Une expérience bien conçue fera en sorte que les échantillons soient représentatifs de la population qui, la plupart du temps, ne peut être observée entièrement pour des raisons pratiques.\n",
        "\n",
        "Je ne couvre pas les principes d'expérimentation et les dispositifs expérimentaux servant de base à la conception d'une bonne méthodologie. À ce titre, je recommande le livre *Principes d'expérimentation: planification des expériences et analyse de leurs résultats* de Pierre Dagnelie (2012), [disponible en ligne en format PDF](http://www.dagnelie.be/docpdf/ex2012.pdf). Un bon aperçu des dispositifs expérimentaux est aussi présenté dans [*Introductory Statistics with R*](https://www.springer.com/us/book/9780387790534), de Peter Dalgaard (2008).\n",
        "\n",
        "Une population est échantillonnée pour induire des **paramètres**: un rendement typique dans des conditions météorologiques, édaphiques et managériales données, la masse typique des faucons pèlerins, mâles et femelles, le microbiome typique d'un sol géotechnique, agricole ou forestier, etc. Une **statistique** est une estimation d'un paramètre calculée à partir des données, par exemple une moyenne et un écart-type, ou un intercept et une pente.\n",
        "\n",
        "Par exemple, la moyenne et l'écart-type d'une population sont estimés par les moyennes et écarts-types calculés sur les données issues de l'échantillonnage.\n",
        "\n",
        "Chaque paramètre est lié à une perspective que l'on désire connaître chez une population. Ces angles d'observations sont les **variables**."
      ]
    },
    {
      "cell_type": "markdown",
      "id": "dc9c4485-01e2-4c5e-a282-6ad0a1f774e6",
      "metadata": {
        "noteable": {
          "cell_type": "markdown"
        }
      },
      "source": [
        "## Les variables\n",
        "\n",
        "Nous avons abordé à la section 2 la notion de *variable* par l'intermédiaire d'une donnée. Une variable est l'observation d'une caractéristique décrivant un échantillon. Si la caractéristique varie d'un échantillon à un autre sans que vous en expliquiez la raison (i.e. si identifier la source de la variabilité ne fait pas partie de votre expérience), on parlera de variable aléatoire. Même le hasard est régi par certaines lois: ce qui est aléatoire dans une variable peut être décrit par des **lois de probabilité**, que nous verrons plus bas.\n",
        "\n",
        "Il existe plusieurs types de variables, qui se regroupe en deux grandes catégories: les **variables quantitatives** et les **variables qualitatives**.\n",
        "\n",
        "### Variables quantitatives\n",
        "\n",
        "Ces variables peuvent être continues dans un espace échantillonnal réel, ou bien discrètes dans un espace échantillonnal ne considérant que des valeurs fixes. Bien que les valeurs fixes des distributions discrètes ne soient pas toujours des valeurs entières, c'est bien souvent le cas en biostatistiques comme en démographie, où les décomptes d'individus sont souvent présents (et où la notion de fraction d'individus n'est pas acceptée).\n",
        "\n",
        "### Variables qualitatives\n",
        "\n",
        "On exprime parfois qu'une variable qualitative est une variable impossible à mesurer numériquement : une couleur, l'appartenance à espèce ou à une série de sol. Pourtant, dans bien des cas, les variables qualitatives peuvent être encodées en variables quantitatives. Par exemple, on peut accoler des pourcentages de sable, limon et argile à un loam sableux, qui autrement est décrit par la classe texturale d'un sol. Pour une couleur, on peut lui associer une longueur d'onde ou des pourcentages de rouge, vert et bleu, ainsi qu'un ton. En ce qui a trait aux variables ordonnées, il est possible de supposer un étalement. Par exemple, une variable d'intensité faible-moyenne-forte peut être transformée linéairement en valeurs quantitatives -1, 0 et 1. Attention toutefois, l'étalement peut parfois être quadratique ou logarithmique. Quant aux catégories difficilement transformables en quantités, on pourra passer par l'**encodage catégoriel**, souvent appelé *dummyfication*, que nous verrons plus loin. L'analyse qualitative consiste en l'analyse de verbatims, essentiellement utile en sciences sociales : nous n'en n'aurons pas besoin ici. Nous considérerons les variables qualitatives comme des variables quantitatives qui n'ont pas subi de prétraitement.\n"
      ]
    },
    {
      "cell_type": "markdown",
      "id": "bdda638a-d9b8-4473-ba28-a574801d30b4",
      "metadata": {
        "noteable": {
          "cell_type": "markdown"
        }
      },
      "source": [
        "## Les probabilités\n",
        "\n",
        "Une probabilité est la vraisemblance qu'un évènement se réalise chez un échantillon. Les probabilités forment le cadre des systèmes stochastiques, c'est-à-dire des systèmes trop complexes pour en connaître exactement les aboutissants, auxquels on attribue une part de hasard. Ces systèmes sont prédominants dans les processus vivants.\n",
        "\n",
        "On peut dégager deux perspectives sur les probabilités: l'une passe par une interprétation fréquentielle, l'autre bayésienne.\n",
        "\n",
        "- L'approche fréquentielle teste si les données concordent avec un modèle du réel. Il s'agit de l'interprétation communément utilisée.\n",
        "- L'approche bayésienne évalue la probabilité que le modèle soit réel.\n",
        "\n",
        "Techniquement, les statistiques fréquentielles sont davantage analytiques, alors que les statistiques bayésiennes sont davantage numériques. Je ne vais couvrir que les statistiques fréquentielles, qui sont plus communes est plus faciles à appréhender. En pratique, je préfère tiliser les statistiques bayésiennes, qui demandent néanmoins une bonne puissance de calcul."
      ]
    },
    {
      "cell_type": "markdown",
      "id": "b930ef88-cb77-4431-81fc-ac815f5b7a96",
      "metadata": {
        "noteable": {
          "cell_type": "markdown"
        }
      },
      "source": [
        "## Les distributions\n",
        "\n",
        "Une variable aléatoire peut prendre des valeurs selon des modèles de distribution des probabilités. Une distribution est une fonction mathématique décrivant la probabilité d'observer des évènements. Ces évènements peuvent être des valeurs continues, des nombres entiers, des catégories, des valeurs booléennes (Vrai/Faux), etc. Dépendamment du type de valeur et des observations obtenues, on peut associer des variables à différentes lois de probabilité. L'aire sous la courbe d'une distribution de probabilité est toujours égale à 1.\n",
        "\n",
        "En statistiques inférentielles, les distributions sont les modèles, comprenant certains paramètres comme la moyenne et la variance pour les distributions normales, à partir desquelles les données sont générées.\n",
        "\n",
        "Il existe deux grandes familles de distribution: **discrètes** et **continues**. Les distributions discrètes sont contraintes à des valeurs prédéfinies (finies ou infinies), alors que les distributions continues prennent nécessairement un nombre infini de valeur, dont la probabilité ne peut pas être évaluée ponctuellement, mais sur un intervalle.\n",
        "\n",
        "L'**espérance** mathématique est une fonction de tendance centrale, souvent décrite par un paramètre. Il s'agit de la moyenne d'une population pour une distribution normale. La **variance**, quant à elle, décrit la variabilité d'une population, i.e. son étalement autour de l'espérance. Pour une distribution normale, la variance d'une population est aussi appelée variance, représentée aussi par l'écart-type (égal à la racine carrée de la variance).\n",
        "\n",
        "Pour éviter de trop m'étaler, je ne présente que la distribution de Poisson et la distribution normale, mais il en existe [vraiment beaucoup](https://www.pymc.io/projects/docs/en/stable/api/distributions.html)."
      ]
    },
    {
      "cell_type": "markdown",
      "id": "5994354d-a6e4-4c9a-9141-8c492103890a",
      "metadata": {
        "noteable": {
          "cell_type": "markdown"
        }
      },
      "source": [
        "### Distribution de Poisson\n",
        "\n",
        "Les distributions de Poisson décrivent ce qui tient du décompte (avec un P majuscule, à moins que vous comptiez des poissons). Il peut s'agir du nombre de grenouilles traversant une rue quotidiennement, du nombre de plants d'asclépiades se trouvant sur une terre cultivée, ou du nombre d’évènements de précipitation au mois de juin, etc. La distribution de Poisson n'a qu'un seul paramètre, λ, qui décrit tant la moyenne des décomptes.\n",
        "\n",
        "Par exemple, en un mois de 30 jours, et une moyenne de 8 évènements de précipitation pour ce mois, on obtient la distribution suivante.\n"
      ]
    },
    {
      "cell_type": "code",
      "execution_count": 2,
      "id": "4f038242-4ed3-4eed-8db6-f3dc8321ae02",
      "metadata": {
        "ExecuteTime": {
          "end_time": "2023-07-14T00:45:19.744443+00:00",
          "start_time": "2023-07-14T00:45:19.578665+00:00"
        },
        "noteable": {
          "cell_type": "python",
          "output_collection_id": "5db34167-bae5-4857-b067-1e84a00d6bca"
        }
      },
      "outputs": [
        {
          "data": {
            "text/html": [
              "   <div id=\"7hOwGK\"></div>\n",
              "   <script type=\"text/javascript\" data-lets-plot-script=\"plot\">\n",
              "       (function() {\n",
              "           var plotSpec={\n",
              "\"data\":{\n",
              "\"x\":[0.0,1.0,2.0,3.0,4.0,5.0,6.0,7.0,8.0,9.0,10.0,11.0,12.0,13.0,14.0,15.0,16.0,17.0,18.0,19.0,20.0,21.0,22.0,23.0,24.0,25.0,26.0,27.0,28.0,29.0,30.0],\n",
              "\"prob\":[3.3546262790251185E-4,0.0026837010232200953,0.010734804092880374,0.028626144247680996,0.057252288495362,0.09160366159257921,0.12213821545677205,0.13958653195059664,0.13958653195059664,0.12407691728941919,0.09926153383153544,0.07219020642293475,0.04812680428195653,0.029616494942742554,0.0169237113958528,0.009025979411121507,0.0045129897055607455,0.002123759861440349,9.438932717512675E-4,3.974287460005353E-4,1.5897149840021397E-4,6.056057081912906E-5,2.202202575241045E-5,7.659835044316667E-6,2.553278348105562E-6,8.170490713937856E-7,2.513997142750102E-7,7.448880422963307E-8,2.1282515494180575E-8,5.871038757015402E-9,1.5656103352041123E-9]\n",
              "},\n",
              "\"mapping\":{\n",
              "\"x\":\"x\",\n",
              "\"y\":\"prob\"\n",
              "},\n",
              "\"data_meta\":{\n",
              "},\n",
              "\"kind\":\"plot\",\n",
              "\"scales\":[],\n",
              "\"layers\":[{\n",
              "\"geom\":\"lollipop\",\n",
              "\"mapping\":{\n",
              "},\n",
              "\"data_meta\":{\n",
              "},\n",
              "\"data\":{\n",
              "}\n",
              "}],\n",
              "\"metainfo_list\":[]\n",
              "};\n",
              "           var plotContainer = document.getElementById(\"7hOwGK\");\n",
              "           window.letsPlotCall(function() {{\n",
              "               LetsPlot.buildPlotFromProcessedSpecs(plotSpec, -1, -1, plotContainer);\n",
              "           }});\n",
              "       })();    \n",
              "   </script>"
            ],
            "text/plain": [
              "<lets_plot.plot.core.PlotSpec at 0x1079a32b0>"
            ]
          },
          "execution_count": 2,
          "metadata": {},
          "output_type": "execute_result"
        }
      ],
      "source": [
        "x = np.arange(0, 31)\n",
        "prob = poisson(mu=8).pmf(x)\n",
        "df_poisson = pl.DataFrame({'x':x, 'prob': prob})\n",
        "ggplot(data=df_poisson, mapping=aes(x='x', y='prob')) + geom_lollipop()"
      ]
    },
    {
      "cell_type": "markdown",
      "id": "927ddb12-412d-4115-a3f5-8e6628bf6369",
      "metadata": {
        "noteable": {
          "cell_type": "markdown"
        }
      },
      "source": [
        "Notez bien que, par réflexe, je crée mes graphiques avec *Lets-Plot*, non pas avec l'outil de *Noteable*.\n",
        "\n",
        "### Distribution normale\n",
        "\n",
        "La plus répandue de ces lois est probablement la loi normale, parfois nommée loi gaussienne et plus rarement loi laplacienne. Il s'agit de la distribution classique en forme de cloche.\n",
        "\n",
        "La loi normale est décrite par une moyenne, qui désigne la tendance centrale, et une variance, qui désigne l'étalement des probabilités autour de la moyenne. La racine carrée de la variance est l'écart-type.\n",
        "\n",
        "Les distributions de mesures exclusivement positives (comme le poids ou la taille) sont parfois avantageusement approximées par une loi **log-normale**, qui est une loi normale sur le logarithme des valeurs: la moyenne d'une loi log-normale est la moyenne géométrique."
      ]
    },
    {
      "cell_type": "code",
      "execution_count": 3,
      "id": "6493cafe-f41c-4c1a-9b72-b407dbd146be",
      "metadata": {
        "ExecuteTime": {
          "end_time": "2023-07-13T19:48:58.018990+00:00",
          "start_time": "2023-07-13T19:48:57.842673+00:00"
        },
        "jupyter": {
          "outputs_hidden": false,
          "source_hidden": false
        },
        "noteable": {
          "cell_type": "code",
          "output_collection_id": "647a2168-4572-4901-bdbf-c065f59def3a"
        }
      },
      "outputs": [
        {
          "data": {
            "text/html": [
              "   <div id=\"R9hiPg\"></div>\n",
              "   <script type=\"text/javascript\" data-lets-plot-script=\"plot\">\n",
              "       (function() {\n",
              "           var plotSpec={\n",
              "\"data\":{\n",
              "\"x\":[-10.0,-9.797979797979798,-9.595959595959595,-9.393939393939394,-9.191919191919192,-8.98989898989899,-8.787878787878787,-8.585858585858587,-8.383838383838384,-8.181818181818182,-7.979797979797979,-7.777777777777778,-7.575757575757576,-7.373737373737374,-7.171717171717171,-6.96969696969697,-6.767676767676768,-6.565656565656566,-6.363636363636363,-6.161616161616162,-5.959595959595959,-5.757575757575758,-5.555555555555555,-5.353535353535354,-5.151515151515151,-4.94949494949495,-4.747474747474747,-4.545454545454546,-4.343434343434343,-4.141414141414142,-3.9393939393939394,-3.737373737373738,-3.5353535353535355,-3.333333333333333,-3.1313131313131315,-2.929292929292929,-2.7272727272727275,-2.525252525252525,-2.3232323232323235,-2.121212121212121,-1.9191919191919187,-1.717171717171718,-1.5151515151515156,-1.3131313131313131,-1.1111111111111107,-0.9090909090909101,-0.7070707070707076,-0.5050505050505052,-0.30303030303030276,-0.10101010101010033,0.10101010101010033,0.30303030303030276,0.5050505050505052,0.7070707070707076,0.9090909090909083,1.1111111111111107,1.3131313131313131,1.5151515151515156,1.7171717171717162,1.9191919191919187,2.121212121212121,2.3232323232323235,2.525252525252524,2.7272727272727266,2.929292929292929,3.1313131313131315,3.333333333333334,3.5353535353535346,3.737373737373737,3.9393939393939394,4.141414141414142,4.3434343434343425,4.545454545454545,4.747474747474747,4.94949494949495,5.1515151515151505,5.353535353535353,5.555555555555555,5.757575757575758,5.9595959595959584,6.161616161616163,6.363636363636363,6.565656565656564,6.767676767676768,6.969696969696969,7.171717171717173,7.373737373737374,7.575757575757574,7.777777777777779,7.979797979797979,8.18181818181818,8.383838383838384,8.585858585858585,8.787878787878789,8.98989898989899,9.19191919191919,9.393939393939394,9.595959595959595,9.7979797979798,10.0,-10.0,-9.797979797979798,-9.595959595959595,-9.393939393939394,-9.191919191919192,-8.98989898989899,-8.787878787878787,-8.585858585858587,-8.383838383838384,-8.181818181818182,-7.979797979797979,-7.777777777777778,-7.575757575757576,-7.373737373737374,-7.171717171717171,-6.96969696969697,-6.767676767676768,-6.565656565656566,-6.363636363636363,-6.161616161616162,-5.959595959595959,-5.757575757575758,-5.555555555555555,-5.353535353535354,-5.151515151515151,-4.94949494949495,-4.747474747474747,-4.545454545454546,-4.343434343434343,-4.141414141414142,-3.9393939393939394,-3.737373737373738,-3.5353535353535355,-3.333333333333333,-3.1313131313131315,-2.929292929292929,-2.7272727272727275,-2.525252525252525,-2.3232323232323235,-2.121212121212121,-1.9191919191919187,-1.717171717171718,-1.5151515151515156,-1.3131313131313131,-1.1111111111111107,-0.9090909090909101,-0.7070707070707076,-0.5050505050505052,-0.30303030303030276,-0.10101010101010033,0.10101010101010033,0.30303030303030276,0.5050505050505052,0.7070707070707076,0.9090909090909083,1.1111111111111107,1.3131313131313131,1.5151515151515156,1.7171717171717162,1.9191919191919187,2.121212121212121,2.3232323232323235,2.525252525252524,2.7272727272727266,2.929292929292929,3.1313131313131315,3.333333333333334,3.5353535353535346,3.737373737373737,3.9393939393939394,4.141414141414142,4.3434343434343425,4.545454545454545,4.747474747474747,4.94949494949495,5.1515151515151505,5.353535353535353,5.555555555555555,5.757575757575758,5.9595959595959584,6.161616161616163,6.363636363636363,6.565656565656564,6.767676767676768,6.969696969696969,7.171717171717173,7.373737373737374,7.575757575757574,7.777777777777779,7.979797979797979,8.18181818181818,8.383838383838384,8.585858585858585,8.787878787878789,8.98989898989899,9.19191919191919,9.393939393939394,9.595959595959595,9.7979797979798,10.0,-10.0,-9.797979797979798,-9.595959595959595,-9.393939393939394,-9.191919191919192,-8.98989898989899,-8.787878787878787,-8.585858585858587,-8.383838383838384,-8.181818181818182,-7.979797979797979,-7.777777777777778,-7.575757575757576,-7.373737373737374,-7.171717171717171,-6.96969696969697,-6.767676767676768,-6.565656565656566,-6.363636363636363,-6.161616161616162,-5.959595959595959,-5.757575757575758,-5.555555555555555,-5.353535353535354,-5.151515151515151,-4.94949494949495,-4.747474747474747,-4.545454545454546,-4.343434343434343,-4.141414141414142,-3.9393939393939394,-3.737373737373738,-3.5353535353535355,-3.333333333333333,-3.1313131313131315,-2.929292929292929,-2.7272727272727275,-2.525252525252525,-2.3232323232323235,-2.121212121212121,-1.9191919191919187,-1.717171717171718,-1.5151515151515156,-1.3131313131313131,-1.1111111111111107,-0.9090909090909101,-0.7070707070707076,-0.5050505050505052,-0.30303030303030276,-0.10101010101010033,0.10101010101010033,0.30303030303030276,0.5050505050505052,0.7070707070707076,0.9090909090909083,1.1111111111111107,1.3131313131313131,1.5151515151515156,1.7171717171717162,1.9191919191919187,2.121212121212121,2.3232323232323235,2.525252525252524,2.7272727272727266,2.929292929292929,3.1313131313131315,3.333333333333334,3.5353535353535346,3.737373737373737,3.9393939393939394,4.141414141414142,4.3434343434343425,4.545454545454545,4.747474747474747,4.94949494949495,5.1515151515151505,5.353535353535353,5.555555555555555,5.757575757575758,5.9595959595959584,6.161616161616163,6.363636363636363,6.565656565656564,6.767676767676768,6.969696969696969,7.171717171717173,7.373737373737374,7.575757575757574,7.777777777777779,7.979797979797979,8.18181818181818,8.383838383838384,8.585858585858585,8.787878787878789,8.98989898989899,9.19191919191919,9.393939393939394,9.595959595959595,9.7979797979798,10.0],\n",
              "\"prob\":[0.0022159242059690038,0.0029849958244363337,0.003980168242015012,0.0052532492610751,0.0068631495420320545,0.008875397064681831,0.011361116072547722,0.014395378161138707,0.01805485625634431,0.02241474837929637,0.027544987309810143,0.03350581305923011,0.04034285426158181,0.048081937260190236,0.05672391130912997,0.06623983729237695,0.07656692759852911,0.08760563861355153,0.09921829848154264,0.111229597553187,0.12342917683000237,0.13557642416023907,0.14740743646743862,0.1586439401663733,0.16900379532180812,0.1782125578028573,0.18601545338060763,0.19218904222862948,0.1965518318188382,0.19897313593166377,0.1993795766768709,0.19775877818723295,0.1941599925560253,0.1886916138464966,0.18151575525295313,0.17284026794473015,0.16290874971884506,0.15198921295600418,0.1403621453166577,0.12830869992162205,0.11609969731250254,0.10398601761649183,0.09219082061683077,0.08090386902124001,0.07027806208069724,0.06042812783574951,0.05143128522098874,0.0433295811280867,0.03613353739116635,0.029826709563723932,0.024370760758150735,0.019710684352014153,0.01577986181779313,0.012504708270725834,0.009808730642873712,0.007615894663550844,0.005853261465708496,0.004452908756708017,0.003353192944815706,0.0024994368417264757,0.0018441433046038644,0.0013468401085927743,9.736576755690441E-4,6.967314558617415E-4,4.935071177191662E-4,3.4601131335977315E-4,2.4013532581040992E-4,1.6496457128398155E-4,1.1217451185612612E-4,7.550341058825045E-5,5.030461470055863E-5,3.3175536894658276E-5,2.1656933790771375E-5,1.3994096148379945E-5,8.950795068586947E-6,5.66692219806866E-6,3.551417760693811E-6,2.2030540390760864E-6,1.3527495989843329E-6,8.222020463909242E-7,4.946620223226091E-7,2.945828501959642E-7,1.7365017557178707E-7,1.01323893437913E-7,5.8521761253640905E-8,3.345736870929229E-8,1.893368086313868E-8,1.0605891955937015E-8,5.880689108355652E-9,3.2275881921475247E-9,1.7534641513288333E-9,9.429410453903983E-10,5.019275864866736E-10,2.644639416338321E-10,1.3793063739036854E-10,7.120719782799595E-11,3.638781046045653E-11,1.8405890243076843E-11,9.215663484162589E-12,4.567360204182298E-12,0.004382075123392135,0.004965478318170062,0.0056122186179759755,0.006327035764805956,0.007114726626703498,0.007980100571995332,0.008927929061224525,0.009962889554117388,0.0110895039481609,0.012312071894418417,0.013634599473127387,0.015060723854012486,0.01659363471130008,0.018235993307932196,0.01998985030391224,0.021856563476260627,0.02383671665871967,0.025930041314038445,0.0281353422363266,0.03045042894166962,0.032872054338297506,0.03539586226984705,0.038016345493938924,0.04072681559134817,0.04351938619719618,0.04638497080441878,0.049313296211811575,0.05229293247576304,0.05531133997894542,0.0583549339543575,0.061409166503821236,0.06445862583186891,0.06748715208529735,0.07047796885257565,0.07341382904337251,0.07627717354465548,0.07905030074417595,0.08171554473266586,0.08425545975038044,0.08665300823882023,0.08889174970085803,0.09095602746740429,0.0928311504203018,0.09450356673215872,0.0959610267556621,0.09719273232738689,0.09818946994249649,0.09894372550373257,0.09944977864595397,0.09970377498005942,0.09970377498005942,0.09944977864595397,0.09894372550373257,0.09818946994249649,0.0971927323273869,0.0959610267556621,0.09450356673215872,0.0928311504203018,0.09095602746740429,0.08889174970085803,0.08665300823882023,0.08425545975038044,0.08171554473266586,0.07905030074417595,0.07627717354465548,0.07341382904337251,0.07047796885257564,0.06748715208529736,0.06445862583186893,0.061409166503821236,0.0583549339543575,0.05531133997894543,0.05229293247576307,0.049313296211811575,0.04638497080441878,0.0435193861971962,0.04072681559134819,0.038016345493938924,0.03539586226984705,0.03287205433829751,0.03045042894166961,0.0281353422363266,0.025930041314038463,0.02383671665871967,0.021856563476260638,0.01998985030391222,0.018235993307932196,0.016593634711300095,0.01506072385401248,0.013634599473127387,0.012312071894418427,0.0110895039481609,0.009962889554117395,0.008927929061224513,0.007980100571995332,0.007114726626703505,0.006327035764805956,0.0056122186179759755,0.004965478318170058,0.004382075123392135,0.00437031484895158,0.004724830232356694,0.005102315905550361,0.005503717482160937,0.005929971059095843,0.006381998062189579,0.006860699775978988,0.007366951571739769,0.007901596851485235,0.008465440729300675,0.00905924347513388,0.009683713749949733,0.010339501664947945,0.011027191701297678,0.011747295530519586,0.01250024477919946,0.013286383785103564,0.014105962394936174,0.01495912885688738,0.015845922863717044,0.016766268804360676,0.017719969283880345,0.01870669897297435,0.019725998849161094,0.020777270892129,0.021859773295559697,0.022972616256956933,0.02411475840562542,0.02528500392692154,0.026482000438230985,0.02770423766881171,0.028950046991673445,0.030217601851061537,0.03150491912388538,0.032809861447609605,0.034130140540740865,0.03546332153513653,0.03680682833198378,0.03815794998550422,0.03951384811029573,0.040871565299798934,0.04222803453474875,0.043580089551722045,0.04492447613310871,0.04625786427110364,0.04757686114973417,0.04887802488059557,0.050157878919958515,0.051412927087331785,0.05263966909850043,0.0538346165196014,0.054994309043029516,0.05611533098096152,0.057194327868117734,0.058228023062109065,0.059213234227398055,0.060146889587577655,0.06102604383037615,0.06184789355055093,0.0626097921176504,0.06330926385849929,0.06394401744818577,0.0645119584082725,0.06501120061688112,0.06544007674216192,0.06579714751839576,0.06608120979251467,0.06629130327808865,0.06642671596372049,0.06648698813322085,0.06647191496579695,0.0663815476956734,0.06621619332195695,0.06597641287104448,0.06566301822533771,0.06527706754335165,0.06481985930737265,0.06429292504552395,0.06369802078532452,0.06303711730547905,0.062312389261620055,0.06152620326994957,0.06068110504012222,0.059779805655206075,0.05882516710209732,0.057820187160303405,0.05676798376051689,0.055671778926854466,0.05453488241802751,0.0533606751830426,0.05215259274631997,0.05091410863539118,0.04964871796163057,0.04835992126083815,0.04705120869598095,0.04572604471907953,0.04438785328317266,0.04304000368858263,0.0416857971404224,0.04032845408652389],\n",
              "\"catégorie\":[\"A\",\"A\",\"A\",\"A\",\"A\",\"A\",\"A\",\"A\",\"A\",\"A\",\"A\",\"A\",\"A\",\"A\",\"A\",\"A\",\"A\",\"A\",\"A\",\"A\",\"A\",\"A\",\"A\",\"A\",\"A\",\"A\",\"A\",\"A\",\"A\",\"A\",\"A\",\"A\",\"A\",\"A\",\"A\",\"A\",\"A\",\"A\",\"A\",\"A\",\"A\",\"A\",\"A\",\"A\",\"A\",\"A\",\"A\",\"A\",\"A\",\"A\",\"A\",\"A\",\"A\",\"A\",\"A\",\"A\",\"A\",\"A\",\"A\",\"A\",\"A\",\"A\",\"A\",\"A\",\"A\",\"A\",\"A\",\"A\",\"A\",\"A\",\"A\",\"A\",\"A\",\"A\",\"A\",\"A\",\"A\",\"A\",\"A\",\"A\",\"A\",\"A\",\"A\",\"A\",\"A\",\"A\",\"A\",\"A\",\"A\",\"A\",\"A\",\"A\",\"A\",\"A\",\"A\",\"A\",\"A\",\"A\",\"A\",\"A\",\"B\",\"B\",\"B\",\"B\",\"B\",\"B\",\"B\",\"B\",\"B\",\"B\",\"B\",\"B\",\"B\",\"B\",\"B\",\"B\",\"B\",\"B\",\"B\",\"B\",\"B\",\"B\",\"B\",\"B\",\"B\",\"B\",\"B\",\"B\",\"B\",\"B\",\"B\",\"B\",\"B\",\"B\",\"B\",\"B\",\"B\",\"B\",\"B\",\"B\",\"B\",\"B\",\"B\",\"B\",\"B\",\"B\",\"B\",\"B\",\"B\",\"B\",\"B\",\"B\",\"B\",\"B\",\"B\",\"B\",\"B\",\"B\",\"B\",\"B\",\"B\",\"B\",\"B\",\"B\",\"B\",\"B\",\"B\",\"B\",\"B\",\"B\",\"B\",\"B\",\"B\",\"B\",\"B\",\"B\",\"B\",\"B\",\"B\",\"B\",\"B\",\"B\",\"B\",\"B\",\"B\",\"B\",\"B\",\"B\",\"B\",\"B\",\"B\",\"B\",\"B\",\"B\",\"B\",\"B\",\"B\",\"B\",\"B\",\"B\",\"C\",\"C\",\"C\",\"C\",\"C\",\"C\",\"C\",\"C\",\"C\",\"C\",\"C\",\"C\",\"C\",\"C\",\"C\",\"C\",\"C\",\"C\",\"C\",\"C\",\"C\",\"C\",\"C\",\"C\",\"C\",\"C\",\"C\",\"C\",\"C\",\"C\",\"C\",\"C\",\"C\",\"C\",\"C\",\"C\",\"C\",\"C\",\"C\",\"C\",\"C\",\"C\",\"C\",\"C\",\"C\",\"C\",\"C\",\"C\",\"C\",\"C\",\"C\",\"C\",\"C\",\"C\",\"C\",\"C\",\"C\",\"C\",\"C\",\"C\",\"C\",\"C\",\"C\",\"C\",\"C\",\"C\",\"C\",\"C\",\"C\",\"C\",\"C\",\"C\",\"C\",\"C\",\"C\",\"C\",\"C\",\"C\",\"C\",\"C\",\"C\",\"C\",\"C\",\"C\",\"C\",\"C\",\"C\",\"C\",\"C\",\"C\",\"C\",\"C\",\"C\",\"C\",\"C\",\"C\",\"C\",\"C\",\"C\",\"C\"]\n",
              "},\n",
              "\"mapping\":{\n",
              "\"x\":\"x\",\n",
              "\"y\":\"prob\"\n",
              "},\n",
              "\"data_meta\":{\n",
              "},\n",
              "\"kind\":\"plot\",\n",
              "\"scales\":[],\n",
              "\"layers\":[{\n",
              "\"geom\":\"line\",\n",
              "\"mapping\":{\n",
              "\"color\":\"catégorie\"\n",
              "},\n",
              "\"data_meta\":{\n",
              "},\n",
              "\"data\":{\n",
              "}\n",
              "}],\n",
              "\"metainfo_list\":[]\n",
              "};\n",
              "           var plotContainer = document.getElementById(\"R9hiPg\");\n",
              "           window.letsPlotCall(function() {{\n",
              "               LetsPlot.buildPlotFromProcessedSpecs(plotSpec, -1, -1, plotContainer);\n",
              "           }});\n",
              "       })();    \n",
              "   </script>"
            ],
            "text/plain": [
              "<lets_plot.plot.core.PlotSpec at 0x1079c73a0>"
            ]
          },
          "execution_count": 3,
          "metadata": {},
          "output_type": "execute_result"
        }
      ],
      "source": [
        "n_points = 100\n",
        "x = np.linspace(-10, 10, n_points)\n",
        "prob1 = norm(-4, 2).pdf(x)\n",
        "prob2 = norm(0, 4).pdf(x)\n",
        "prob3 = norm(4, 6).pdf(x)\n",
        "df_norm = pl.DataFrame({\n",
        "    'x':np.hstack([x, x, x]),\n",
        "    'prob': np.hstack([prob1, prob2, prob3]),\n",
        "    'catégorie': np.hstack(\n",
        "        [np.repeat('A', n_points), np.repeat('B', n_points), np.repeat('C', n_points)]\n",
        "    )\n",
        "})\n",
        "ggplot(df_norm, aes(x='x', y='prob')) + geom_line(aes(color='catégorie'))"
      ]
    },
    {
      "cell_type": "markdown",
      "id": "c152f12b-3ca8-4012-b488-9edf97d23c51",
      "metadata": {
        "noteable": {
          "cell_type": "markdown"
        }
      },
      "source": [
        "Quelle est la probabilité de retrouver une valeur dans l’intervalle entre -1 et 2 sur la courbe de catégorie B?"
      ]
    },
    {
      "cell_type": "code",
      "execution_count": 4,
      "id": "d7845889-7a4d-4661-bbf2-f56352fef4eb",
      "metadata": {
        "ExecuteTime": {
          "end_time": "2023-07-13T19:49:02.116590+00:00",
          "start_time": "2023-07-13T19:49:01.955581+00:00"
        },
        "noteable": {
          "cell_type": "python",
          "output_collection_id": "a00a8b47-72c5-481d-99bf-fc4a080eb60a"
        }
      },
      "outputs": [
        {
          "data": {
            "text/plain": [
              "0.2901687869569368"
            ]
          },
          "execution_count": 4,
          "metadata": {},
          "output_type": "execute_result"
        }
      ],
      "source": [
        "norm(0, 4).cdf(2) - norm(0, 4).cdf(-1) "
      ]
    },
    {
      "cell_type": "markdown",
      "id": "654cb34b-4033-4904-aed0-0989613186fb",
      "metadata": {
        "noteable": {
          "cell_type": "markdown"
        }
      },
      "source": [
        "On pourrait aussi s'intéresser à l'intervalle de confiance sur la moyenne. En effet, la moyenne suit aussi une distribution normale, dont la tendance centrale est la moyenne de la distribution, et dont l'écart-type est noté *erreur standard*. On calcule cette erreur en divisant la variance par le nombre d'observation, ou en divisant l'écart-type par la racine carrée du nombre d'observations. Ainsi, pour 10 échantillons:"
      ]
    },
    {
      "cell_type": "code",
      "execution_count": 5,
      "id": "ec65e606-89c4-4ff9-b4c4-68d30c80f672",
      "metadata": {
        "ExecuteTime": {
          "end_time": "2023-07-13T19:49:05.289241+00:00",
          "start_time": "2023-07-13T19:49:05.127625+00:00"
        },
        "noteable": {
          "cell_type": "python",
          "output_collection_id": "f4c15c64-866b-49f8-9335-3553068749bc"
        }
      },
      "outputs": [
        {
          "data": {
            "text/plain": [
              "(-0.708793777294559, 0.7087937772945595)"
            ]
          },
          "execution_count": 5,
          "metadata": {},
          "output_type": "execute_result"
        }
      ],
      "source": [
        "alpha = 0.05\n",
        "moyenne = 0\n",
        "ecart_type = 1\n",
        "n_echantillon = 10\n",
        "norm.interval(\n",
        "    1-alpha/2,\n",
        "    loc = moyenne,\n",
        "    scale = ecart_type / np.sqrt(n_echantillon)\n",
        ")"
      ]
    },
    {
      "cell_type": "markdown",
      "id": "b954a365-c5a8-4a5a-85a3-9e5f6b546898",
      "metadata": {
        "noteable": {
          "cell_type": "markdown"
        }
      },
      "source": [
        "## Les modèles linéaires généralisés\n",
        "\n",
        "Il existe une panoplie de tests statistiques, et l'on peut facilement se perdre dans les détails et suppositions qu'ils sous-entendent. À mon expérience, la plupart des besoins en sciences peuvent être répondus par des modèles linéaires généralisés.\n",
        "\n",
        "- **Modèle**. Une maquette mathématique qui représente ce qui s'est passé dans le contexte dans lequel les données ont été recueillies.\n",
        "- **Linéaire**. Une combinaison linéaire de variable. Un modèle quadratique est linéaire dans le sens qu'il est une combinaison linéaire d'une variable et de sa représentation transformée au carré. Un phénomène qui semble non-linéaire à cause d'une courbure dans sa représentation graphique peut ainsi être exprimé de manière linéaire, mais sur des variables transformées, ou sur des variables non transformées mais e incluant des variables complémentaires, ou à l'extrême être une combinaison linéaire de fonctions non-linéaires. À ce titre, les modèles additifs généralisés (*generalized additive model, GAM*, voir [le cours de Noam Ross en langage R ](noamross.github.io/gams-in-r-course/), certaines implémentations en Python existent) sont très intéressants, mais s'écartent du sujet.\n",
        "- **Généralisé**. La (ou les) sortie(s) du modèle peuvent être décrits par différentes lois de probabilité. Un décompte du nombre de passages d'automobile sur une route pas s'approxime mieux par une loi de Poisson qu'une loi normale. Un modèle linéaire est généralisé si on tient compte du type de distribution ayant potentiellement généré les donnéerimentales."
      ]
    },
    {
      "cell_type": "markdown",
      "id": "4020c7ac-f7cd-40eb-93e8-53bc29bc5e73",
      "metadata": {
        "noteable": {
          "cell_type": "markdown"
        }
      },
      "source": [
        "Le module [*statsmodels*](statsmodels.org) facilite la composition d'un GLM en offrant la possibilité d'utiliser une interface par formule similaire à ce que l'on retrouve en langage R. Cette interface se présente, par exemple, comme suit.\n",
        "\n",
        "`y ~ v1 + v2 + v3 * v4`\n",
        "\n",
        "Le `y` est la sortie du modèle, aussi appelée variable dépendante ou endogène. Le `~` se lit non pas comme \"égal à\", mais comme \"en fonction de\". Les variables additionnées montrent un effet additif. Chacune des variables sera associé à un coefficient dans le modèle. L'astérisque entre `v3` et `v4` signifie que l'on désire entrer les effets additifs de v3 et v4, mais en ajoutant une interaction, c'est-à-dire une nouvelle variable constituée de la multiplication des variables `v3` et `v4`. Si l'on désirait ne garder que l'interaction entre `v3` et `v4`, nous pourrions utiliser un `:` au lieu de l'`*`, de sorte que l'équation précédente est l'équivalent de `y ~ v1 + v2 + v3 + v4 + v3:v4`. L'intercept du modèle est ajouté implicitement. Si on désire un modèle sans intercept, il faudra ajouter un `0 +` à droite du `~`. Davantage d'info sur l'interface formule peut être trouvée dans la documentation du module [*patsy*](https://patsy.readthedocs.io/en/latest/formulas.html), sur lequel repose *statsmodels*.\n",
        "\n"
      ]
    },
    {
      "cell_type": "markdown",
      "id": "ea382bca-422d-4aeb-b71e-5514bd8b5136",
      "metadata": {
        "noteable": {
          "cell_type": "markdown"
        }
      },
      "source": [
        "Les données `mtcars` sont souvent utilisées pour donner des exemples en stats."
      ]
    },
    {
      "cell_type": "code",
      "execution_count": 6,
      "id": "785c3853-3d2e-4b57-8e67-c00c53bc6c02",
      "metadata": {
        "ExecuteTime": {
          "end_time": "2023-07-14T00:53:03.097548+00:00",
          "start_time": "2023-07-14T00:53:02.733114+00:00"
        },
        "datalink": {
          "1a10cee5-07fc-4caf-91fc-cc27b5c5b30d": {
            "applied_filters": [],
            "dataframe_info": {
              "default_index_used": true,
              "orig_num_cols": 12,
              "orig_num_rows": 32,
              "orig_size_bytes": 3328,
              "truncated_num_cols": 12,
              "truncated_num_rows": 32,
              "truncated_size_bytes": 3328,
              "truncated_string_columns": []
            },
            "display_id": "1a10cee5-07fc-4caf-91fc-cc27b5c5b30d",
            "dx_settings": {
              "ALLOW_NOTEABLE_ATTRS": true,
              "COLUMN_SAMPLING_METHOD": "outer",
              "DB_LOCATION": ":memory:",
              "DEV_MODE": false,
              "DISPLAY_MAX_COLUMNS": 100,
              "DISPLAY_MAX_ROWS": 50000,
              "DISPLAY_MODE": "simple",
              "ENABLE_ASSIGNMENT": true,
              "ENABLE_DATALINK": true,
              "FLATTEN_COLUMN_VALUES": true,
              "FLATTEN_INDEX_VALUES": false,
              "GENERATE_DEX_METADATA": false,
              "HTML_TABLE_SCHEMA": false,
              "LOG_LEVEL": 30,
              "MAX_RENDER_SIZE_BYTES": 104857600,
              "MAX_STRING_LENGTH": 250,
              "NUM_PAST_SAMPLES_TRACKED": 3,
              "RANDOM_STATE": 12648430,
              "RESET_INDEX_VALUES": false,
              "ROW_SAMPLING_METHOD": "random",
              "SAMPLING_FACTOR": 0.1,
              "SAMPLING_METHOD": "random",
              "STRINGIFY_COLUMN_VALUES": true,
              "STRINGIFY_INDEX_VALUES": false
            },
            "sample_history": [],
            "sampling_time": "2023-07-13T18:09:09.495456",
            "user_variable_name": null,
            "variable_name": "unk_dataframe_f42d41352a374834b7ab6e6cd309c320"
          },
          "4f520ee7-a133-4da2-bf7a-55fc4819ef3f": {
            "applied_filters": [],
            "dataframe_info": {
              "default_index_used": true,
              "orig_num_cols": 12,
              "orig_num_rows": 32,
              "orig_size_bytes": 3328,
              "truncated_num_cols": 12,
              "truncated_num_rows": 32,
              "truncated_size_bytes": 3328,
              "truncated_string_columns": []
            },
            "display_id": "4f520ee7-a133-4da2-bf7a-55fc4819ef3f",
            "dx_settings": {
              "ALLOW_NOTEABLE_ATTRS": true,
              "COLUMN_SAMPLING_METHOD": "outer",
              "DB_LOCATION": ":memory:",
              "DEV_MODE": false,
              "DISPLAY_MAX_COLUMNS": 100,
              "DISPLAY_MAX_ROWS": 50000,
              "DISPLAY_MODE": "simple",
              "ENABLE_ASSIGNMENT": true,
              "ENABLE_DATALINK": true,
              "FLATTEN_COLUMN_VALUES": true,
              "FLATTEN_INDEX_VALUES": false,
              "GENERATE_DEX_METADATA": false,
              "HTML_TABLE_SCHEMA": false,
              "LOG_LEVEL": 30,
              "MAX_RENDER_SIZE_BYTES": 104857600,
              "MAX_STRING_LENGTH": 250,
              "NUM_PAST_SAMPLES_TRACKED": 3,
              "RANDOM_STATE": 12648430,
              "RESET_INDEX_VALUES": false,
              "ROW_SAMPLING_METHOD": "random",
              "SAMPLING_FACTOR": 0.1,
              "SAMPLING_METHOD": "random",
              "STRINGIFY_COLUMN_VALUES": true,
              "STRINGIFY_INDEX_VALUES": false
            },
            "sample_history": [],
            "sampling_time": "2023-07-14T00:53:02.938741",
            "user_variable_name": null,
            "variable_name": "unk_dataframe_bc84225741f2469bbb6dfb7cf46ee258"
          },
          "594722a3-1d9a-4a8e-8dcc-915766cb83bd": {
            "applied_filters": [],
            "dataframe_info": {
              "default_index_used": true,
              "orig_num_cols": 12,
              "orig_num_rows": 32,
              "orig_size_bytes": 3328,
              "truncated_num_cols": 12,
              "truncated_num_rows": 32,
              "truncated_size_bytes": 3328,
              "truncated_string_columns": []
            },
            "display_id": "594722a3-1d9a-4a8e-8dcc-915766cb83bd",
            "dx_settings": {
              "ALLOW_NOTEABLE_ATTRS": true,
              "COLUMN_SAMPLING_METHOD": "outer",
              "DB_LOCATION": ":memory:",
              "DEV_MODE": false,
              "DISPLAY_MAX_COLUMNS": 100,
              "DISPLAY_MAX_ROWS": 50000,
              "DISPLAY_MODE": "simple",
              "ENABLE_ASSIGNMENT": true,
              "ENABLE_DATALINK": true,
              "FLATTEN_COLUMN_VALUES": true,
              "FLATTEN_INDEX_VALUES": false,
              "GENERATE_DEX_METADATA": false,
              "HTML_TABLE_SCHEMA": false,
              "LOG_LEVEL": 30,
              "MAX_RENDER_SIZE_BYTES": 104857600,
              "MAX_STRING_LENGTH": 250,
              "NUM_PAST_SAMPLES_TRACKED": 3,
              "RANDOM_STATE": 12648430,
              "RESET_INDEX_VALUES": false,
              "ROW_SAMPLING_METHOD": "random",
              "SAMPLING_FACTOR": 0.1,
              "SAMPLING_METHOD": "random",
              "STRINGIFY_COLUMN_VALUES": true,
              "STRINGIFY_INDEX_VALUES": false
            },
            "sample_history": [],
            "sampling_time": "2023-07-13T19:49:10.451835",
            "user_variable_name": null,
            "variable_name": "unk_dataframe_87d80b5070fb4a89925b6c186ddee6e0"
          }
        },
        "dx": {
          "dashboard": {
            "multiViews": []
          },
          "fieldMetadata": {
            "am": {
              "columnPosition": 11
            },
            "carb": {
              "columnPosition": 13
            },
            "cyl": {
              "columnPosition": 4
            },
            "disp": {
              "columnPosition": 5
            },
            "drat": {
              "columnPosition": 7
            },
            "gear": {
              "columnPosition": 12
            },
            "hp": {
              "columnPosition": 6
            },
            "index": {
              "columnPosition": 1
            },
            "model": {
              "columnPosition": 2
            },
            "mpg": {
              "columnPosition": 3,
              "sort": "desc"
            },
            "qsec": {
              "columnPosition": 9
            },
            "vs": {
              "columnPosition": 10
            },
            "wt": {
              "columnPosition": 8
            }
          },
          "updated": 1689296052211,
          "views": [
            {
              "annotationRules": [],
              "chart": {},
              "chartMode": "grid",
              "confoRules": [],
              "decoration": {
                "footer": "",
                "subtitle": "",
                "title": "Table"
              },
              "facets": [],
              "filterSettings": {
                "SHOW_FILTER_PANEL": true,
                "filters": []
              },
              "id": "first-view",
              "isDefault": true,
              "type": "public",
              "userID": ""
            },
            {
              "annotationRules": [],
              "chart": {},
              "chartMode": "grid",
              "confoRules": [],
              "decoration": {
                "footer": "",
                "subtitle": "",
                "title": "Table"
              },
              "facets": [],
              "filterSettings": {
                "SHOW_FILTER_PANEL": true,
                "filters": []
              },
              "id": "first-view",
              "isDefault": true,
              "isTransitory": true,
              "type": "public",
              "userID": ""
            }
          ]
        },
        "noteable": {
          "cell_type": "python",
          "output_collection_id": "6543b9db-16b7-40c4-970e-f29e3b2e3c6d"
        }
      },
      "outputs": [
        {
          "data": {
            "text/html": [
              "<div><style>\n",
              ".dataframe > thead > tr > th,\n",
              ".dataframe > tbody > tr > td {\n",
              "  text-align: right;\n",
              "  white-space: pre-wrap;\n",
              "}\n",
              "</style>\n",
              "<small>shape: (32, 12)</small><table border=\"1\" class=\"dataframe\"><thead><tr><th>model</th><th>mpg</th><th>cyl</th><th>disp</th><th>hp</th><th>drat</th><th>wt</th><th>qsec</th><th>vs</th><th>am</th><th>gear</th><th>carb</th></tr><tr><td>str</td><td>f64</td><td>i64</td><td>f64</td><td>i64</td><td>f64</td><td>f64</td><td>f64</td><td>i64</td><td>i64</td><td>i64</td><td>i64</td></tr></thead><tbody><tr><td>&quot;Mazda RX4&quot;</td><td>21.0</td><td>6</td><td>160.0</td><td>110</td><td>3.9</td><td>2.62</td><td>16.46</td><td>0</td><td>1</td><td>4</td><td>4</td></tr><tr><td>&quot;Mazda RX4 Wag&quot;</td><td>21.0</td><td>6</td><td>160.0</td><td>110</td><td>3.9</td><td>2.875</td><td>17.02</td><td>0</td><td>1</td><td>4</td><td>4</td></tr><tr><td>&quot;Datsun 710&quot;</td><td>22.8</td><td>4</td><td>108.0</td><td>93</td><td>3.85</td><td>2.32</td><td>18.61</td><td>1</td><td>1</td><td>4</td><td>1</td></tr><tr><td>&quot;Hornet 4 Drive…</td><td>21.4</td><td>6</td><td>258.0</td><td>110</td><td>3.08</td><td>3.215</td><td>19.44</td><td>1</td><td>0</td><td>3</td><td>1</td></tr><tr><td>&quot;Hornet Sportab…</td><td>18.7</td><td>8</td><td>360.0</td><td>175</td><td>3.15</td><td>3.44</td><td>17.02</td><td>0</td><td>0</td><td>3</td><td>2</td></tr><tr><td>&quot;Valiant&quot;</td><td>18.1</td><td>6</td><td>225.0</td><td>105</td><td>2.76</td><td>3.46</td><td>20.22</td><td>1</td><td>0</td><td>3</td><td>1</td></tr><tr><td>&quot;Duster 360&quot;</td><td>14.3</td><td>8</td><td>360.0</td><td>245</td><td>3.21</td><td>3.57</td><td>15.84</td><td>0</td><td>0</td><td>3</td><td>4</td></tr><tr><td>&quot;Merc 240D&quot;</td><td>24.4</td><td>4</td><td>146.7</td><td>62</td><td>3.69</td><td>3.19</td><td>20.0</td><td>1</td><td>0</td><td>4</td><td>2</td></tr><tr><td>&quot;Merc 230&quot;</td><td>22.8</td><td>4</td><td>140.8</td><td>95</td><td>3.92</td><td>3.15</td><td>22.9</td><td>1</td><td>0</td><td>4</td><td>2</td></tr><tr><td>&quot;Merc 280&quot;</td><td>19.2</td><td>6</td><td>167.6</td><td>123</td><td>3.92</td><td>3.44</td><td>18.3</td><td>1</td><td>0</td><td>4</td><td>4</td></tr><tr><td>&quot;Merc 280C&quot;</td><td>17.8</td><td>6</td><td>167.6</td><td>123</td><td>3.92</td><td>3.44</td><td>18.9</td><td>1</td><td>0</td><td>4</td><td>4</td></tr><tr><td>&quot;Merc 450SE&quot;</td><td>16.4</td><td>8</td><td>275.8</td><td>180</td><td>3.07</td><td>4.07</td><td>17.4</td><td>0</td><td>0</td><td>3</td><td>3</td></tr><tr><td>&hellip;</td><td>&hellip;</td><td>&hellip;</td><td>&hellip;</td><td>&hellip;</td><td>&hellip;</td><td>&hellip;</td><td>&hellip;</td><td>&hellip;</td><td>&hellip;</td><td>&hellip;</td><td>&hellip;</td></tr><tr><td>&quot;Toyota Corona&quot;</td><td>21.5</td><td>4</td><td>120.1</td><td>97</td><td>3.7</td><td>2.465</td><td>20.01</td><td>1</td><td>0</td><td>3</td><td>1</td></tr><tr><td>&quot;Dodge Challeng…</td><td>15.5</td><td>8</td><td>318.0</td><td>150</td><td>2.76</td><td>3.52</td><td>16.87</td><td>0</td><td>0</td><td>3</td><td>2</td></tr><tr><td>&quot;AMC Javelin&quot;</td><td>15.2</td><td>8</td><td>304.0</td><td>150</td><td>3.15</td><td>3.435</td><td>17.3</td><td>0</td><td>0</td><td>3</td><td>2</td></tr><tr><td>&quot;Camaro Z28&quot;</td><td>13.3</td><td>8</td><td>350.0</td><td>245</td><td>3.73</td><td>3.84</td><td>15.41</td><td>0</td><td>0</td><td>3</td><td>4</td></tr><tr><td>&quot;Pontiac Firebi…</td><td>19.2</td><td>8</td><td>400.0</td><td>175</td><td>3.08</td><td>3.845</td><td>17.05</td><td>0</td><td>0</td><td>3</td><td>2</td></tr><tr><td>&quot;Fiat X1-9&quot;</td><td>27.3</td><td>4</td><td>79.0</td><td>66</td><td>4.08</td><td>1.935</td><td>18.9</td><td>1</td><td>1</td><td>4</td><td>1</td></tr><tr><td>&quot;Porsche 914-2&quot;</td><td>26.0</td><td>4</td><td>120.3</td><td>91</td><td>4.43</td><td>2.14</td><td>16.7</td><td>0</td><td>1</td><td>5</td><td>2</td></tr><tr><td>&quot;Lotus Europa&quot;</td><td>30.4</td><td>4</td><td>95.1</td><td>113</td><td>3.77</td><td>1.513</td><td>16.9</td><td>1</td><td>1</td><td>5</td><td>2</td></tr><tr><td>&quot;Ford Pantera L…</td><td>15.8</td><td>8</td><td>351.0</td><td>264</td><td>4.22</td><td>3.17</td><td>14.5</td><td>0</td><td>1</td><td>5</td><td>4</td></tr><tr><td>&quot;Ferrari Dino&quot;</td><td>19.7</td><td>6</td><td>145.0</td><td>175</td><td>3.62</td><td>2.77</td><td>15.5</td><td>0</td><td>1</td><td>5</td><td>6</td></tr><tr><td>&quot;Maserati Bora&quot;</td><td>15.0</td><td>8</td><td>301.0</td><td>335</td><td>3.54</td><td>3.57</td><td>14.6</td><td>0</td><td>1</td><td>5</td><td>8</td></tr><tr><td>&quot;Volvo 142E&quot;</td><td>21.4</td><td>4</td><td>121.0</td><td>109</td><td>4.11</td><td>2.78</td><td>18.6</td><td>1</td><td>1</td><td>4</td><td>2</td></tr></tbody></table></div>"
            ],
            "text/plain": [
              "shape: (32, 12)\n",
              "┌────────────────┬──────┬─────┬───────┬───┬─────┬─────┬──────┬──────┐\n",
              "│ model          ┆ mpg  ┆ cyl ┆ disp  ┆ … ┆ vs  ┆ am  ┆ gear ┆ carb │\n",
              "│ ---            ┆ ---  ┆ --- ┆ ---   ┆   ┆ --- ┆ --- ┆ ---  ┆ ---  │\n",
              "│ str            ┆ f64  ┆ i64 ┆ f64   ┆   ┆ i64 ┆ i64 ┆ i64  ┆ i64  │\n",
              "╞════════════════╪══════╪═════╪═══════╪═══╪═════╪═════╪══════╪══════╡\n",
              "│ Mazda RX4      ┆ 21.0 ┆ 6   ┆ 160.0 ┆ … ┆ 0   ┆ 1   ┆ 4    ┆ 4    │\n",
              "│ Mazda RX4 Wag  ┆ 21.0 ┆ 6   ┆ 160.0 ┆ … ┆ 0   ┆ 1   ┆ 4    ┆ 4    │\n",
              "│ Datsun 710     ┆ 22.8 ┆ 4   ┆ 108.0 ┆ … ┆ 1   ┆ 1   ┆ 4    ┆ 1    │\n",
              "│ Hornet 4 Drive ┆ 21.4 ┆ 6   ┆ 258.0 ┆ … ┆ 1   ┆ 0   ┆ 3    ┆ 1    │\n",
              "│ …              ┆ …    ┆ …   ┆ …     ┆ … ┆ …   ┆ …   ┆ …    ┆ …    │\n",
              "│ Ford Pantera L ┆ 15.8 ┆ 8   ┆ 351.0 ┆ … ┆ 0   ┆ 1   ┆ 5    ┆ 4    │\n",
              "│ Ferrari Dino   ┆ 19.7 ┆ 6   ┆ 145.0 ┆ … ┆ 0   ┆ 1   ┆ 5    ┆ 6    │\n",
              "│ Maserati Bora  ┆ 15.0 ┆ 8   ┆ 301.0 ┆ … ┆ 0   ┆ 1   ┆ 5    ┆ 8    │\n",
              "│ Volvo 142E     ┆ 21.4 ┆ 4   ┆ 121.0 ┆ … ┆ 1   ┆ 1   ┆ 4    ┆ 2    │\n",
              "└────────────────┴──────┴─────┴───────┴───┴─────┴─────┴──────┴──────┘"
            ]
          },
          "execution_count": 6,
          "metadata": {},
          "output_type": "execute_result"
        }
      ],
      "source": [
        "mtcars = pl.read_csv('https://gist.githubusercontent.com/seankross/a412dfbd88b3db70b74b/raw/5f23f993cd87c283ce766e7ac6b329ee7cc2e1d1/mtcars.csv')\n",
        "mtcars"
      ]
    },
    {
      "cell_type": "markdown",
      "id": "06f03ff0-be47-4fad-8dae-2d11e2a11d7e",
      "metadata": {
        "noteable": {
          "cell_type": "markdown"
        }
      },
      "source": [
        "Nous nous intéresserons aux colonnes suivantes.\n",
        "\n",
        "- `mpg`. Miles per gallon, la distance parcourue avec un gallon d'essence.\n",
        "- `cyl`. Le nombre de pistons dans le moteur.\n",
        "- `disp`. Le volume total des cylindres du moteur.\n",
        "- `hp`. La puissance du moteur.\n",
        "- `wt`. Le poids du véhicule.\n",
        "- `gear`. Le nombre de ratio d'engrenages.\n",
        "- `vs`. Si la forme des cylindres est en v (`vs = 1`) ou droite (`vs = 0`).\n",
        "\n",
        "Question posée. Lesquelles parmi ces variables influencent le plus la consommation d'essence ?\n",
        "\n",
        "On peut y répondre avec un modèle linéaire avec sortie normale."
      ]
    },
    {
      "cell_type": "code",
      "execution_count": 7,
      "id": "2ec741f9-297f-4cf5-835b-a8e6625a8692",
      "metadata": {
        "ExecuteTime": {
          "end_time": "2023-07-14T00:54:59.684564+00:00",
          "start_time": "2023-07-14T00:54:59.078668+00:00"
        },
        "noteable": {
          "cell_type": "python",
          "output_collection_id": "5102d344-5213-460c-89d2-39ea6c00450e"
        }
      },
      "outputs": [
        {
          "name": "stderr",
          "output_type": "stream",
          "text": [
            "/Users/essi/mambaforge/envs/dl/lib/python3.10/site-packages/statsmodels/compat/pandas.py:65: FutureWarning: pandas.Int64Index is deprecated and will be removed from pandas in a future version. Use pandas.Index with the appropriate dtype instead.\n",
            "  from pandas import Int64Index as NumericIndex\n"
          ]
        },
        {
          "data": {
            "text/html": [
              "<table class=\"simpletable\">\n",
              "<caption>Generalized Linear Model Regression Results</caption>\n",
              "<tr>\n",
              "  <th>Dep. Variable:</th>          <td>mpg</td>       <th>  No. Observations:  </th>  <td>    32</td> \n",
              "</tr>\n",
              "<tr>\n",
              "  <th>Model:</th>                  <td>GLM</td>       <th>  Df Residuals:      </th>  <td>    25</td> \n",
              "</tr>\n",
              "<tr>\n",
              "  <th>Model Family:</th>        <td>Gaussian</td>     <th>  Df Model:          </th>  <td>     6</td> \n",
              "</tr>\n",
              "<tr>\n",
              "  <th>Link Function:</th>       <td>identity</td>     <th>  Scale:             </th> <td>  6.6662</td>\n",
              "</tr>\n",
              "<tr>\n",
              "  <th>Method:</th>                <td>IRLS</td>       <th>  Log-Likelihood:    </th> <td> -71.809</td>\n",
              "</tr>\n",
              "<tr>\n",
              "  <th>Date:</th>            <td>Fri, 17 Nov 2023</td> <th>  Deviance:          </th> <td>  166.66</td>\n",
              "</tr>\n",
              "<tr>\n",
              "  <th>Time:</th>                <td>09:29:57</td>     <th>  Pearson chi2:      </th>  <td>  167.</td> \n",
              "</tr>\n",
              "<tr>\n",
              "  <th>No. Iterations:</th>          <td>3</td>        <th>  Pseudo R-squ. (CS):</th>  <td>0.9892</td> \n",
              "</tr>\n",
              "<tr>\n",
              "  <th>Covariance Type:</th>     <td>nonrobust</td>    <th>                     </th>     <td> </td>   \n",
              "</tr>\n",
              "</table>\n",
              "<table class=\"simpletable\">\n",
              "<tr>\n",
              "      <td></td>         <th>coef</th>     <th>std err</th>      <th>z</th>      <th>P>|z|</th>  <th>[0.025</th>    <th>0.975]</th>  \n",
              "</tr>\n",
              "<tr>\n",
              "  <th>Intercept</th> <td>   35.5081</td> <td>    7.715</td> <td>    4.602</td> <td> 0.000</td> <td>   20.387</td> <td>   50.630</td>\n",
              "</tr>\n",
              "<tr>\n",
              "  <th>cyl</th>       <td>   -0.9306</td> <td>    0.872</td> <td>   -1.067</td> <td> 0.286</td> <td>   -2.640</td> <td>    0.779</td>\n",
              "</tr>\n",
              "<tr>\n",
              "  <th>disp</th>      <td>    0.0146</td> <td>    0.013</td> <td>    1.149</td> <td> 0.250</td> <td>   -0.010</td> <td>    0.039</td>\n",
              "</tr>\n",
              "<tr>\n",
              "  <th>hp</th>        <td>   -0.0287</td> <td>    0.017</td> <td>   -1.687</td> <td> 0.092</td> <td>   -0.062</td> <td>    0.005</td>\n",
              "</tr>\n",
              "<tr>\n",
              "  <th>wt</th>        <td>   -3.7746</td> <td>    1.077</td> <td>   -3.505</td> <td> 0.000</td> <td>   -5.885</td> <td>   -1.664</td>\n",
              "</tr>\n",
              "<tr>\n",
              "  <th>gear</th>      <td>    0.8235</td> <td>    1.115</td> <td>    0.738</td> <td> 0.460</td> <td>   -1.363</td> <td>    3.010</td>\n",
              "</tr>\n",
              "<tr>\n",
              "  <th>vs</th>        <td>    0.6751</td> <td>    1.733</td> <td>    0.390</td> <td> 0.697</td> <td>   -2.721</td> <td>    4.071</td>\n",
              "</tr>\n",
              "</table>"
            ],
            "text/plain": [
              "<class 'statsmodels.iolib.summary.Summary'>\n",
              "\"\"\"\n",
              "                 Generalized Linear Model Regression Results                  \n",
              "==============================================================================\n",
              "Dep. Variable:                    mpg   No. Observations:                   32\n",
              "Model:                            GLM   Df Residuals:                       25\n",
              "Model Family:                Gaussian   Df Model:                            6\n",
              "Link Function:               identity   Scale:                          6.6662\n",
              "Method:                          IRLS   Log-Likelihood:                -71.809\n",
              "Date:                Fri, 17 Nov 2023   Deviance:                       166.66\n",
              "Time:                        09:29:57   Pearson chi2:                     167.\n",
              "No. Iterations:                     3   Pseudo R-squ. (CS):             0.9892\n",
              "Covariance Type:            nonrobust                                         \n",
              "==============================================================================\n",
              "                 coef    std err          z      P>|z|      [0.025      0.975]\n",
              "------------------------------------------------------------------------------\n",
              "Intercept     35.5081      7.715      4.602      0.000      20.387      50.630\n",
              "cyl           -0.9306      0.872     -1.067      0.286      -2.640       0.779\n",
              "disp           0.0146      0.013      1.149      0.250      -0.010       0.039\n",
              "hp            -0.0287      0.017     -1.687      0.092      -0.062       0.005\n",
              "wt            -3.7746      1.077     -3.505      0.000      -5.885      -1.664\n",
              "gear           0.8235      1.115      0.738      0.460      -1.363       3.010\n",
              "vs             0.6751      1.733      0.390      0.697      -2.721       4.071\n",
              "==============================================================================\n",
              "\"\"\""
            ]
          },
          "execution_count": 7,
          "metadata": {},
          "output_type": "execute_result"
        }
      ],
      "source": [
        "import statsmodels.api as sm\n",
        "import statsmodels.formula.api as smf\n",
        "\n",
        "mtcars_model = smf.glm(\n",
        "    formula = \"mpg ~ cyl + disp + hp + wt + gear + vs\",\n",
        "    data=mtcars,\n",
        "    family=sm.families.Gaussian()\n",
        ").fit()\n",
        "\n",
        "mtcars_model.summary()"
      ]
    },
    {
      "cell_type": "markdown",
      "id": "a8c7070f-0a3d-4fd0-84e3-96134129e903",
      "metadata": {
        "noteable": {
          "cell_type": "markdown"
        }
      },
      "source": [
        "L'intercept est la valeur, dans les unités de la variable réponse (miles par gallon), à laquelle on s'attendrait si toutes les autres variables étaient nulles. Cette valeur n'indique pas grand-chose, étant donné qu'elle correspond entre autres à une voiture dont le poids est nul... aurait du sens si les variables avaient été centrées, de sorte qu'il aurait exprimé le MPG alors que toutes les variables sont à leur moyenne. Le modèle nous informe que la distance de base par gallon est de 35.5 avec un intervalle de confiance à 95% entre 20.4 et 50.6. La p-value est bien sûr très faible: rappelez-vous bien que la p-value est la probabilité que le tableau de résultats ait été généré par le modèle que nous avons décrit et dont l'intercept serait nul.\n",
        "\n",
        "Les coefficients des autres variables nous indiquent comment l'augmentation d'une unité affecte le MPG. Si le poids du véhicule augmente d'une unité, ce qui équivaut à 1000 lbs, le MPG a diminué de -3.8. La valeur du coefficient n'indique toutefois pas l'importance dans le modèle, puisqu'elle dépend des unités utilisées pour exprimer les Si le"
      ]
    },
    {
      "cell_type": "markdown",
      "id": "746635cd-10e4-4f52-875c-4fa5c0e318b2",
      "metadata": {
        "noteable": {
          "cell_type": "markdown"
        }
      },
      "source": [
        "Mais comme on a en discuté, n'est pas nécessairement tirée d'une distribution normale. Reprenons nos données sur les manchots, et posons la question suivante.\n",
        "\n",
        "> Quelles variables les dimensions du du bec permettent d'expliquer l'espèce de manchot?\n",
        "\n",
        " Mais d'abord, il faut s'assurer que la colonne `species` soit exprimée en chiffres."
      ]
    },
    {
      "cell_type": "code",
      "execution_count": 8,
      "id": "f9b1698c-fc64-47a6-a180-3d7e92541a94",
      "metadata": {
        "ExecuteTime": {
          "end_time": "2023-07-14T01:00:32.190210+00:00",
          "start_time": "2023-07-14T01:00:32.026380+00:00"
        },
        "datalink": {
          "417a8c4a-0845-4f7c-b063-d4e5ed60f0aa": {
            "applied_filters": [],
            "dataframe_info": {
              "default_index_used": true,
              "orig_num_cols": 1,
              "orig_num_rows": 3,
              "orig_size_bytes": 48,
              "truncated_num_cols": 1,
              "truncated_num_rows": 3,
              "truncated_size_bytes": 48,
              "truncated_string_columns": []
            },
            "display_id": "417a8c4a-0845-4f7c-b063-d4e5ed60f0aa",
            "dx_settings": {
              "ALLOW_NOTEABLE_ATTRS": true,
              "COLUMN_SAMPLING_METHOD": "outer",
              "DB_LOCATION": ":memory:",
              "DEV_MODE": false,
              "DISPLAY_MAX_COLUMNS": 100,
              "DISPLAY_MAX_ROWS": 50000,
              "DISPLAY_MODE": "simple",
              "ENABLE_ASSIGNMENT": true,
              "ENABLE_DATALINK": true,
              "FLATTEN_COLUMN_VALUES": true,
              "FLATTEN_INDEX_VALUES": false,
              "GENERATE_DEX_METADATA": false,
              "HTML_TABLE_SCHEMA": false,
              "LOG_LEVEL": 30,
              "MAX_RENDER_SIZE_BYTES": 104857600,
              "MAX_STRING_LENGTH": 250,
              "NUM_PAST_SAMPLES_TRACKED": 3,
              "RANDOM_STATE": 12648430,
              "RESET_INDEX_VALUES": false,
              "ROW_SAMPLING_METHOD": "random",
              "SAMPLING_FACTOR": 0.1,
              "SAMPLING_METHOD": "random",
              "STRINGIFY_COLUMN_VALUES": true,
              "STRINGIFY_INDEX_VALUES": false
            },
            "sample_history": [],
            "sampling_time": "2023-06-08T16:34:54.988834",
            "user_variable_name": null,
            "variable_name": "unk_dataframe_3a780a3720b14973b4b20d6440569596"
          },
          "4b7c20a2-16ac-42cf-b1e3-490eca540eab": {
            "applied_filters": [],
            "dataframe_info": {
              "default_index_used": true,
              "orig_num_cols": 10,
              "orig_num_rows": 344,
              "orig_size_bytes": 30272,
              "truncated_num_cols": 10,
              "truncated_num_rows": 344,
              "truncated_size_bytes": 30272,
              "truncated_string_columns": []
            },
            "display_id": "4b7c20a2-16ac-42cf-b1e3-490eca540eab",
            "dx_settings": {
              "ALLOW_NOTEABLE_ATTRS": true,
              "COLUMN_SAMPLING_METHOD": "outer",
              "DB_LOCATION": ":memory:",
              "DEV_MODE": false,
              "DISPLAY_MAX_COLUMNS": 100,
              "DISPLAY_MAX_ROWS": 50000,
              "DISPLAY_MODE": "simple",
              "ENABLE_ASSIGNMENT": true,
              "ENABLE_DATALINK": true,
              "FLATTEN_COLUMN_VALUES": true,
              "FLATTEN_INDEX_VALUES": false,
              "GENERATE_DEX_METADATA": false,
              "HTML_TABLE_SCHEMA": false,
              "LOG_LEVEL": 30,
              "MAX_RENDER_SIZE_BYTES": 104857600,
              "MAX_STRING_LENGTH": 250,
              "NUM_PAST_SAMPLES_TRACKED": 3,
              "RANDOM_STATE": 12648430,
              "RESET_INDEX_VALUES": false,
              "ROW_SAMPLING_METHOD": "random",
              "SAMPLING_FACTOR": 0.1,
              "SAMPLING_METHOD": "random",
              "STRINGIFY_COLUMN_VALUES": true,
              "STRINGIFY_INDEX_VALUES": false
            },
            "sample_history": [],
            "sampling_time": "2023-06-08T16:40:39.339215",
            "user_variable_name": null,
            "variable_name": "unk_dataframe_d6a76ec8172b489ca83f8ffac775a3a2"
          },
          "6ea9ddec-a0ca-4771-9674-9eec47945818": {
            "applied_filters": [],
            "dataframe_info": {
              "default_index_used": true,
              "orig_num_cols": 2,
              "orig_num_rows": 3,
              "orig_size_bytes": 72,
              "truncated_num_cols": 2,
              "truncated_num_rows": 3,
              "truncated_size_bytes": 72,
              "truncated_string_columns": []
            },
            "display_id": "6ea9ddec-a0ca-4771-9674-9eec47945818",
            "dx_settings": {
              "ALLOW_NOTEABLE_ATTRS": true,
              "COLUMN_SAMPLING_METHOD": "outer",
              "DB_LOCATION": ":memory:",
              "DEV_MODE": false,
              "DISPLAY_MAX_COLUMNS": 100,
              "DISPLAY_MAX_ROWS": 50000,
              "DISPLAY_MODE": "simple",
              "ENABLE_ASSIGNMENT": true,
              "ENABLE_DATALINK": true,
              "FLATTEN_COLUMN_VALUES": true,
              "FLATTEN_INDEX_VALUES": false,
              "GENERATE_DEX_METADATA": false,
              "HTML_TABLE_SCHEMA": false,
              "LOG_LEVEL": 30,
              "MAX_RENDER_SIZE_BYTES": 104857600,
              "MAX_STRING_LENGTH": 250,
              "NUM_PAST_SAMPLES_TRACKED": 3,
              "RANDOM_STATE": 12648430,
              "RESET_INDEX_VALUES": false,
              "ROW_SAMPLING_METHOD": "random",
              "SAMPLING_FACTOR": 0.1,
              "SAMPLING_METHOD": "random",
              "STRINGIFY_COLUMN_VALUES": true,
              "STRINGIFY_INDEX_VALUES": false
            },
            "sample_history": [],
            "sampling_time": "2023-06-08T16:37:54.174489",
            "user_variable_name": null,
            "variable_name": "unk_dataframe_ea194051f59642fab619df902e31cbcc"
          },
          "94a3f70c-82fa-4de2-bd55-6723166c437c": {
            "applied_filters": [],
            "dataframe_info": {
              "default_index_used": true,
              "orig_num_cols": 10,
              "orig_num_rows": 333,
              "orig_size_bytes": 29304,
              "truncated_num_cols": 10,
              "truncated_num_rows": 333,
              "truncated_size_bytes": 29304,
              "truncated_string_columns": []
            },
            "display_id": "94a3f70c-82fa-4de2-bd55-6723166c437c",
            "dx_settings": {
              "ALLOW_NOTEABLE_ATTRS": true,
              "COLUMN_SAMPLING_METHOD": "outer",
              "DB_LOCATION": ":memory:",
              "DEV_MODE": false,
              "DISPLAY_MAX_COLUMNS": 100,
              "DISPLAY_MAX_ROWS": 50000,
              "DISPLAY_MODE": "simple",
              "ENABLE_ASSIGNMENT": true,
              "ENABLE_DATALINK": true,
              "FLATTEN_COLUMN_VALUES": true,
              "FLATTEN_INDEX_VALUES": false,
              "GENERATE_DEX_METADATA": false,
              "HTML_TABLE_SCHEMA": false,
              "LOG_LEVEL": 30,
              "MAX_RENDER_SIZE_BYTES": 104857600,
              "MAX_STRING_LENGTH": 250,
              "NUM_PAST_SAMPLES_TRACKED": 3,
              "RANDOM_STATE": 12648430,
              "RESET_INDEX_VALUES": false,
              "ROW_SAMPLING_METHOD": "random",
              "SAMPLING_FACTOR": 0.1,
              "SAMPLING_METHOD": "random",
              "STRINGIFY_COLUMN_VALUES": true,
              "STRINGIFY_INDEX_VALUES": false
            },
            "sample_history": [],
            "sampling_time": "2023-06-08T17:08:25.028769",
            "user_variable_name": null,
            "variable_name": "unk_dataframe_11eeac426fbc42e191ab9098bedab222"
          }
        },
        "jupyter": {
          "outputs_hidden": false,
          "source_hidden": false
        },
        "noteable": {
          "cell_type": "code",
          "output_collection_id": "6ea2d174-13ed-44ea-8a2e-048c22552441"
        }
      },
      "outputs": [],
      "source": [
        "penguins = pl.read_csv('data/penguins.csv', null_values='NA').drop_nulls()\n",
        "unique_species = penguins.select('species').unique()\n",
        "species_no = np.arange(unique_species.shape[0])\n",
        "unique_species = unique_species.with_columns(pl.lit(species_no).alias(\"species_no\"))\n",
        "penguins = penguins.join(unique_species, on='species', how='left')"
      ]
    },
    {
      "cell_type": "code",
      "execution_count": 9,
      "id": "0cc4f5ac-3c7e-4415-a9cd-5e6adfda32ac",
      "metadata": {
        "ExecuteTime": {
          "end_time": "2023-07-14T01:00:36.126614+00:00",
          "start_time": "2023-07-14T01:00:35.683704+00:00"
        },
        "jupyter": {
          "outputs_hidden": false,
          "source_hidden": false
        },
        "noteable": {
          "cell_type": "code",
          "output_collection_id": "0bcd0dfc-2476-4b48-b045-605adb1d3bcb"
        }
      },
      "outputs": [
        {
          "name": "stdout",
          "output_type": "stream",
          "text": [
            "Optimization terminated successfully.\n",
            "         Current function value: 0.071740\n",
            "         Iterations 12\n"
          ]
        },
        {
          "data": {
            "text/html": [
              "<table class=\"simpletable\">\n",
              "<caption>MNLogit Regression Results</caption>\n",
              "<tr>\n",
              "  <th>Dep. Variable:</th>      <td>species_no</td>    <th>  No. Observations:  </th>   <td>   333</td>  \n",
              "</tr>\n",
              "<tr>\n",
              "  <th>Model:</th>                <td>MNLogit</td>     <th>  Df Residuals:      </th>   <td>   327</td>  \n",
              "</tr>\n",
              "<tr>\n",
              "  <th>Method:</th>                 <td>MLE</td>       <th>  Df Model:          </th>   <td>     4</td>  \n",
              "</tr>\n",
              "<tr>\n",
              "  <th>Date:</th>            <td>Fri, 17 Nov 2023</td> <th>  Pseudo R-squ.:     </th>   <td>0.9319</td>  \n",
              "</tr>\n",
              "<tr>\n",
              "  <th>Time:</th>                <td>09:30:07</td>     <th>  Log-Likelihood:    </th>  <td> -23.889</td> \n",
              "</tr>\n",
              "<tr>\n",
              "  <th>converged:</th>             <td>True</td>       <th>  LL-Null:           </th>  <td> -350.86</td> \n",
              "</tr>\n",
              "<tr>\n",
              "  <th>Covariance Type:</th>     <td>nonrobust</td>    <th>  LLR p-value:       </th> <td>3.259e-140</td>\n",
              "</tr>\n",
              "</table>\n",
              "<table class=\"simpletable\">\n",
              "<tr>\n",
              "   <th>species_no=1</th>     <th>coef</th>     <th>std err</th>      <th>z</th>      <th>P>|z|</th>  <th>[0.025</th>    <th>0.975]</th>  \n",
              "</tr>\n",
              "<tr>\n",
              "  <th>Intercept</th>      <td>   24.3847</td> <td>   13.527</td> <td>    1.803</td> <td> 0.071</td> <td>   -2.127</td> <td>   50.897</td>\n",
              "</tr>\n",
              "<tr>\n",
              "  <th>bill_length_mm</th> <td>   -2.2063</td> <td>    0.686</td> <td>   -3.218</td> <td> 0.001</td> <td>   -3.550</td> <td>   -0.863</td>\n",
              "</tr>\n",
              "<tr>\n",
              "  <th>bill_depth_mm</th>  <td>    3.9759</td> <td>    1.486</td> <td>    2.676</td> <td> 0.007</td> <td>    1.063</td> <td>    6.888</td>\n",
              "</tr>\n",
              "<tr>\n",
              "   <th>species_no=2</th>     <th>coef</th>     <th>std err</th>      <th>z</th>      <th>P>|z|</th>  <th>[0.025</th>    <th>0.975]</th>  \n",
              "</tr>\n",
              "<tr>\n",
              "  <th>Intercept</th>      <td>   49.4000</td> <td>   14.922</td> <td>    3.310</td> <td> 0.001</td> <td>   20.153</td> <td>   78.647</td>\n",
              "</tr>\n",
              "<tr>\n",
              "  <th>bill_length_mm</th> <td>    0.4865</td> <td>    0.157</td> <td>    3.102</td> <td> 0.002</td> <td>    0.179</td> <td>    0.794</td>\n",
              "</tr>\n",
              "<tr>\n",
              "  <th>bill_depth_mm</th>  <td>   -4.3454</td> <td>    1.037</td> <td>   -4.192</td> <td> 0.000</td> <td>   -6.377</td> <td>   -2.314</td>\n",
              "</tr>\n",
              "</table>"
            ],
            "text/plain": [
              "<class 'statsmodels.iolib.summary.Summary'>\n",
              "\"\"\"\n",
              "                          MNLogit Regression Results                          \n",
              "==============================================================================\n",
              "Dep. Variable:             species_no   No. Observations:                  333\n",
              "Model:                        MNLogit   Df Residuals:                      327\n",
              "Method:                           MLE   Df Model:                            4\n",
              "Date:                Fri, 17 Nov 2023   Pseudo R-squ.:                  0.9319\n",
              "Time:                        09:30:07   Log-Likelihood:                -23.889\n",
              "converged:                       True   LL-Null:                       -350.86\n",
              "Covariance Type:            nonrobust   LLR p-value:                3.259e-140\n",
              "==================================================================================\n",
              "  species_no=1       coef    std err          z      P>|z|      [0.025      0.975]\n",
              "----------------------------------------------------------------------------------\n",
              "Intercept         24.3847     13.527      1.803      0.071      -2.127      50.897\n",
              "bill_length_mm    -2.2063      0.686     -3.218      0.001      -3.550      -0.863\n",
              "bill_depth_mm      3.9759      1.486      2.676      0.007       1.063       6.888\n",
              "----------------------------------------------------------------------------------\n",
              "  species_no=2       coef    std err          z      P>|z|      [0.025      0.975]\n",
              "----------------------------------------------------------------------------------\n",
              "Intercept         49.4000     14.922      3.310      0.001      20.153      78.647\n",
              "bill_length_mm     0.4865      0.157      3.102      0.002       0.179       0.794\n",
              "bill_depth_mm     -4.3454      1.037     -4.192      0.000      -6.377      -2.314\n",
              "==================================================================================\n",
              "\"\"\""
            ]
          },
          "execution_count": 9,
          "metadata": {},
          "output_type": "execute_result"
        }
      ],
      "source": [
        "penguin_model = smf.mnlogit(\n",
        "    formula = \"species_no ~ bill_length_mm + bill_depth_mm\",\n",
        "    data=penguins\n",
        ").fit()\n",
        "penguin_model.summary()"
      ]
    },
    {
      "cell_type": "markdown",
      "id": "aeeab41c-5836-4735-b547-1ad1a2018d69",
      "metadata": {
        "noteable": {
          "cell_type": "markdown"
        }
      },
      "source": [
        "Les résultats demanderaient qu'on s'y attarde longuement. Les coefficients montrent l'ampleur de l'écart entre l'espèce N et l'espèce de référence (Adelie, étiquetée par un `0`). Sans considérer le bec, les différences entre l'espèce `1` (Gentoo) sont l'Adelie hétérogène (p-value, `P>|z| = 0.214`), mais les dimensions du bec y contribuent significativement (`P>|z| > 0.000`). Idem pour l'espèce `2` (Chinstrap).\n",
        "\n",
        "Ce modèle est évidemment très simplifié. On aurait pu ajouter d'autres dimensions, la masse considérant le sexe, l'île, etc (à vrai dire, j'ai essayé, mais sans succès). Je voulais surtout montrer que la sortie d'un modèle linéaire généralisée pouvait être autre qu'une  continue, pour laquelle on suppose une distribution normale."
      ]
    },
    {
      "cell_type": "markdown",
      "id": "b3dd867b-98f1-42ef-8057-5c76e9f05f24",
      "metadata": {
        "noteable": {
          "cell_type": "markdown"
        }
      },
      "source": [
        "Les tests d’hypothèse évaluent des effets statistiques (qui ne sont pas nécessairement des effets de causalité). L’effet à évaluer peut être celui d’un traitement, d’indicateurs météorologiques, de caractéristiques d'un sol, etc. Par convention, l’hypothèse nulle (écrite H<sub>0</sub>) est l’hypothèse qu’il n’y ait pas d’effet (c’est l’hypothèse de l’avocat du diable 😈) à l’échelle de la population (et non pas à l’échelle de l’échantillon). À l’inverse, l’hypothèse alternative (écrite H<sub>1</sub>) est l’hypothèse qu’il y ait un effet à l’échelle de la population."
      ]
    }
  ],
  "metadata": {
    "kernelspec": {
      "display_name": "dl",
      "language": "python",
      "name": "dl"
    },
    "language_info": {
      "codemirror_mode": {
        "name": "ipython",
        "version": 3
      },
      "file_extension": ".py",
      "mimetype": "text/x-python",
      "name": "python",
      "nbconvert_exporter": "python",
      "pygments_lexer": "ipython3",
      "version": "3.10.11"
    },
    "noteable": {
      "last_transaction_id": "f8098283-e408-4fa6-bd2e-a312fcbaf026"
    },
    "selected_hardware_size": "small"
  },
  "nbformat": 4,
  "nbformat_minor": 5
}
