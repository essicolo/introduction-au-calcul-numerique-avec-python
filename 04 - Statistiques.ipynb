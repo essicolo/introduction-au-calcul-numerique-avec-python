{
  "nbformat": 4,
  "nbformat_minor": 5,
  "metadata": {
    "selected_hardware_size": "small",
    "noteable": {
      "last_transaction_id": "f8098283-e408-4fa6-bd2e-a312fcbaf026"
    }
  },
  "cells": [
    {
      "id": "9b7b5f14-2928-43f3-8d40-1304dc75b3d3",
      "cell_type": "markdown",
      "source": "#### Importer les modules\nEn général, je préfère importer les modules au haut de mes notebooks.",
      "metadata": {
        "noteable": {
          "cell_type": "markdown"
        }
      }
    },
    {
      "id": "0290f351-d61e-4b34-91f3-3d60dfadbdfc",
      "cell_type": "code",
      "metadata": {
        "noteable": {
          "cell_type": "python",
          "output_collection_id": "6a6a297b-aa1b-4238-b896-b59e29abe499"
        },
        "ExecuteTime": {
          "end_time": "2023-07-14T00:44:24.678289+00:00",
          "start_time": "2023-07-14T00:44:16.681039+00:00"
        },
        "scrolled": false
      },
      "execution_count": null,
      "source": "!pip install lets-plot==3.2 polars==0.18.2\nimport polars as pl\nfrom lets_plot import *\nLetsPlot.setup_html() \nimport numpy as np\nfrom scipy.stats import binom, poisson, uniform, norm",
      "outputs": []
    },
    {
      "id": "3ea900a5",
      "cell_type": "markdown",
      "source": "# Statistiques\n\nAux chapitres précédents, nous avons vu comment visualiser, organiser et manipuler des tableaux de données. La statistique est une collection de disciplines liées à la collecte, l’organisation, l'analyse, l'interprétation et la présentation de données.\n\nDans [*Principles and procedures of statistics: A biometrical approach*](https://www.amazon.com/Principles-Procedures-Statistics-Biometrical-Approach/dp/0070610282), Steel, Torie et Dickey (1997) définissent les statistiques ainsi :\n\n> Les statistiques forment la science, pure et appliquée, de la création, du développement, et de l'application de techniques par lesquelles l'incertitude de l'induction inférentielle peut être évaluée. (ma traduction)\n\nAlors que l'**inférence** consiste à généraliser des échantillons à l'ensemble d'une population, l'**induction** est un type de raisonnement qui permet de généraliser des observations sous forme de théories. En d'autres mots, les statistiques permettent d'évaluer l'incertitude sur des processus, de passer par inférence de l'échantillon à la population, puis par induction de passer de cette représentation d'une population en lois générales la concernant.\n\nLa définition de Whitlock et Schuluter (2015), dans [The Analysis of Biological Data](http://whitlockschluter.zoology.ubc.ca/), est plus simple et n'insiste que sur l'inférence:\n\n> La statistique est l’étude des méthodes pour mesurer des aspects de populations à partir d’échantillons et pour quantifier l'incertitude des mesures. (ma traduction)\n\nLes statistiques consistent à *faire du sens* (anglicisme assumé) avec des observations dans l'objectif de répondre à une question que vous aurez formulée clairement, préalablement à votre expérience.\n\n<blockquote class=\"twitter-tweet\" data-lang=\"fr\"><p lang=\"en\" dir=\"ltr\">The more time I spend as The Statistician in the room, the more I think the best skill you can cultivate is the ability to remain calm and repeatedly ask &quot;What question are you trying to answer?&quot;</p>&mdash; Bryan Howie (@bryan_howie) <a href=\"https://twitter.com/bryan_howie/status/1073054519808876544?ref_src=twsrc%5Etfw\">13 décembre 2018</a></blockquote>\n<script async src=\"https://platform.twitter.com/widgets.js\" charset=\"utf-8\"></script>\n\nLe flux de travail conventionnel en statistiques consiste à collecter des échantillons, transformer (prétraiter) les données, effectuer des tests, analyser les résultats, les interpréter et les visualiser. Mais avant tout: **se demander à quelle question veut-on répondre**.\n\nCette section à elle seule est trop courte pour permettre d'intégrer toutes les connaissances nécessaires à une utilisation raisonnée des statistiques, mais fournit les bases pour aller plus loin. Notez que les erreurs d'interprétation statistiques sont courantes et la consultation de spécialistes n'est souvent pas un luxe. Mais bien que les statistiques soient complexes, *la plupart des opérations statistiques peuvent être effectuées sans l'assistance de statisticien.nes*... à condition de comprendre suffisamment les concepts utilisés.\n\nDans cette section, nous verrons comment répondre correctement à une question valide et adéquate avec l'aide d'outils de calcul scientifique. Nous couvrirons les notions de bases des distributions et des variables aléatoires qui nous permettront d'effectuer des tests statistiques communs avec Python. Nous couvrirons aussi les erreurs communément commises en recherche académique et les moyens simples de les éviter. Nous utiliserons évidemment les modules *Polars* et *Lets-Plot*. J'introduirai les modules *Scipy* et *Statsmodels*.\n\nJe vais d'abord rapidement présenter quelques notions importantes en statistiques : populations et échantillons, variables, probabilités et distributions. Puis nous allons effectuer des tests d'hypothèse univariés et détailler la notion de plus en plus controversée de *p-value*. Je vais m'attarder plus longuement aux modèles linéaires généralisés, qui fournissent une trousse d'analyse polyvalente en analyse multivariée.\n",
      "metadata": {
        "noteable": {
          "cell_type": "markdown"
        }
      }
    },
    {
      "id": "6eb8634d-9789-4bbd-8ce5-d8a21543da6b",
      "cell_type": "markdown",
      "source": "## Populations et échantillons\n\nLe principe d'inférence consiste à généraliser des conclusions à l'échelle d'une population à partir d'échantillons issus de cette population. Alors qu'une **population** contient tous les éléments étudiés, un **échantillon** d'une population est une observation unique. Une expérience bien conçue fera en sorte que les échantillons soient représentatifs de la population qui, la plupart du temps, ne peut être observée entièrement pour des raisons pratiques.\n\nJe ne couvre pas les principes d'expérimentation et les dispositifs expérimentaux servant de base à la conception d'une bonne méthodologie. À ce titre, je recommande le livre *Principes d'expérimentation: planification des expériences et analyse de leurs résultats* de Pierre Dagnelie (2012), [disponible en ligne en format PDF](http://www.dagnelie.be/docpdf/ex2012.pdf). Un bon aperçu des dispositifs expérimentaux est aussi présenté dans [*Introductory Statistics with R*](https://www.springer.com/us/book/9780387790534), de Peter Dalgaard (2008).\n\nUne population est échantillonnée pour induire des **paramètres**: un rendement typique dans des conditions météorologiques, édaphiques et managériales données, la masse typique des faucons pèlerins, mâles et femelles, le microbiome typique d'un sol géotechnique, agricole ou forestier, etc. Une **statistique** est une estimation d'un paramètre calculée à partir des données, par exemple une moyenne et un écart-type, ou un intercept et une pente.\n\nPar exemple, la moyenne et l'écart-type d'une population sont estimés par les moyennes et écarts-types calculés sur les données issues de l'échantillonnage.\n\nChaque paramètre est lié à une perspective que l'on désire connaître chez une population. Ces angles d'observations sont les **variables**.",
      "metadata": {
        "noteable": {
          "cell_type": "markdown"
        }
      }
    },
    {
      "id": "dc9c4485-01e2-4c5e-a282-6ad0a1f774e6",
      "cell_type": "markdown",
      "source": "## Les variables\n\nNous avons abordé à la section 2 la notion de *variable* par l'intermédiaire d'une donnée. Une variable est l'observation d'une caractéristique décrivant un échantillon. Si la caractéristique varie d'un échantillon à un autre sans que vous en expliquiez la raison (i.e. si identifier la source de la variabilité ne fait pas partie de votre expérience), on parlera de variable aléatoire. Même le hasard est régi par certaines lois: ce qui est aléatoire dans une variable peut être décrit par des **lois de probabilité**, que nous verrons plus bas.\n\nIl existe plusieurs types de variables, qui se regroupe en deux grandes catégories: les **variables quantitatives** et les **variables qualitatives**.\n\n### Variables quantitatives\n\nCes variables peuvent être continues dans un espace échantillonnal réel, ou bien discrètes dans un espace échantillonnal ne considérant que des valeurs fixes. Bien que les valeurs fixes des distributions discrètes ne soient pas toujours des valeurs entières, c'est bien souvent le cas en biostatistiques comme en démographie, où les décomptes d'individus sont souvent présents (et où la notion de fraction d'individus n'est pas acceptée).\n\n### Variables qualitatives\n\nOn exprime parfois qu'une variable qualitative est une variable impossible à mesurer numériquement : une couleur, l'appartenance à espèce ou à une série de sol. Pourtant, dans bien des cas, les variables qualitatives peuvent être encodées en variables quantitatives. Par exemple, on peut accoler des pourcentages de sable, limon et argile à un loam sableux, qui autrement est décrit par la classe texturale d'un sol. Pour une couleur, on peut lui associer une longueur d'onde ou des pourcentages de rouge, vert et bleu, ainsi qu'un ton. En ce qui a trait aux variables ordonnées, il est possible de supposer un étalement. Par exemple, une variable d'intensité faible-moyenne-forte peut être transformée linéairement en valeurs quantitatives -1, 0 et 1. Attention toutefois, l'étalement peut parfois être quadratique ou logarithmique. Quant aux catégories difficilement transformables en quantités, on pourra passer par l'**encodage catégoriel**, souvent appelé *dummyfication*, que nous verrons plus loin. L'analyse qualitative consiste en l'analyse de verbatims, essentiellement utile en sciences sociales : nous n'en n'aurons pas besoin ici. Nous considérerons les variables qualitatives comme des variables quantitatives qui n'ont pas subi de prétraitement.\n",
      "metadata": {
        "noteable": {
          "cell_type": "markdown"
        }
      }
    },
    {
      "id": "bdda638a-d9b8-4473-ba28-a574801d30b4",
      "cell_type": "markdown",
      "source": "## Les probabilités\n\nUne probabilité est la vraisemblance qu'un évènement se réalise chez un échantillon. Les probabilités forment le cadre des systèmes stochastiques, c'est-à-dire des systèmes trop complexes pour en connaître exactement les aboutissants, auxquels on attribue une part de hasard. Ces systèmes sont prédominants dans les processus vivants.\n\nOn peut dégager deux perspectives sur les probabilités: l'une passe par une interprétation fréquentielle, l'autre bayésienne.\n\n- L'approche fréquentielle teste si les données concordent avec un modèle du réel. Il s'agit de l'interprétation communément utilisée.\n- L'approche bayésienne évalue la probabilité que le modèle soit réel.\n\nTechniquement, les statistiques fréquentielles sont davantage analytiques, alors que les statistiques bayésiennes sont davantage numériques. Je ne vais couvrir que les statistiques fréquentielles, qui sont plus communes est plus faciles à appréhender. En pratique, je préfère tiliser les statistiques bayésiennes, qui demandent néanmoins une bonne puissance de calcul.",
      "metadata": {
        "noteable": {
          "cell_type": "markdown"
        }
      }
    },
    {
      "id": "b930ef88-cb77-4431-81fc-ac815f5b7a96",
      "cell_type": "markdown",
      "source": "## Les distributions\n\nUne variable aléatoire peut prendre des valeurs selon des modèles de distribution des probabilités. Une distribution est une fonction mathématique décrivant la probabilité d'observer des évènements. Ces évènements peuvent être des valeurs continues, des nombres entiers, des catégories, des valeurs booléennes (Vrai/Faux), etc. Dépendamment du type de valeur et des observations obtenues, on peut associer des variables à différentes lois de probabilité. L'aire sous la courbe d'une distribution de probabilité est toujours égale à 1.\n\nEn statistiques inférentielles, les distributions sont les modèles, comprenant certains paramètres comme la moyenne et la variance pour les distributions normales, à partir desquelles les données sont générées.\n\nIl existe deux grandes familles de distribution: **discrètes** et **continues**. Les distributions discrètes sont contraintes à des valeurs prédéfinies (finies ou infinies), alors que les distributions continues prennent nécessairement un nombre infini de valeur, dont la probabilité ne peut pas être évaluée ponctuellement, mais sur un intervalle.\n\nL'**espérance** mathématique est une fonction de tendance centrale, souvent décrite par un paramètre. Il s'agit de la moyenne d'une population pour une distribution normale. La **variance**, quant à elle, décrit la variabilité d'une population, i.e. son étalement autour de l'espérance. Pour une distribution normale, la variance d'une population est aussi appelée variance, représentée aussi par l'écart-type (égal à la racine carrée de la variance).\n\nPour éviter de trop m'étaler, je ne présente que la distribution de Poisson et la distribution normale, mais il en existe [vraiment beaucoup](https://www.pymc.io/projects/docs/en/stable/api/distributions.html).",
      "metadata": {
        "noteable": {
          "cell_type": "markdown"
        }
      }
    },
    {
      "id": "5994354d-a6e4-4c9a-9141-8c492103890a",
      "cell_type": "markdown",
      "source": "### Distribution de Poisson\n\nLes distributions de Poisson décrivent ce qui tient du décompte (avec un P majuscule, à moins que vous comptiez des poissons). Il peut s'agir du nombre de grenouilles traversant une rue quotidiennement, du nombre de plants d'asclépiades se trouvant sur une terre cultivée, ou du nombre d’évènements de précipitation au mois de juin, etc. La distribution de Poisson n'a qu'un seul paramètre, λ, qui décrit tant la moyenne des décomptes.\n\nPar exemple, en un mois de 30 jours, et une moyenne de 8 évènements de précipitation pour ce mois, on obtient la distribution suivante.\n",
      "metadata": {
        "noteable": {
          "cell_type": "markdown"
        }
      }
    },
    {
      "id": "4f038242-4ed3-4eed-8db6-f3dc8321ae02",
      "cell_type": "code",
      "metadata": {
        "noteable": {
          "cell_type": "python",
          "output_collection_id": "5db34167-bae5-4857-b067-1e84a00d6bca"
        },
        "ExecuteTime": {
          "end_time": "2023-07-14T00:45:19.744443+00:00",
          "start_time": "2023-07-14T00:45:19.578665+00:00"
        }
      },
      "execution_count": null,
      "source": "x = np.arange(0, 31)\nprob = poisson(mu=8).pmf(x)\ndf_poisson = pl.DataFrame({'x':x, 'prob': prob})\nggplot(data=df_poisson, mapping=aes(x='x', y='prob')) + geom_lollipop()",
      "outputs": []
    },
    {
      "id": "927ddb12-412d-4115-a3f5-8e6628bf6369",
      "cell_type": "markdown",
      "source": "Notez bien que, par réflexe, je crée mes graphiques avec *Lets-Plot*, non pas avec l'outil de *Noteable*.\n\n### Distribution normale\n\nLa plus répandue de ces lois est probablement la loi normale, parfois nommée loi gaussienne et plus rarement loi laplacienne. Il s'agit de la distribution classique en forme de cloche.\n\nLa loi normale est décrite par une moyenne, qui désigne la tendance centrale, et une variance, qui désigne l'étalement des probabilités autour de la moyenne. La racine carrée de la variance est l'écart-type.\n\nLes distributions de mesures exclusivement positives (comme le poids ou la taille) sont parfois avantageusement approximées par une loi **log-normale**, qui est une loi normale sur le logarithme des valeurs: la moyenne d'une loi log-normale est la moyenne géométrique.",
      "metadata": {
        "noteable": {
          "cell_type": "markdown"
        }
      }
    },
    {
      "id": "6493cafe-f41c-4c1a-9b72-b407dbd146be",
      "cell_type": "code",
      "metadata": {
        "jupyter": {
          "outputs_hidden": false,
          "source_hidden": false
        },
        "noteable": {
          "cell_type": "code",
          "output_collection_id": "647a2168-4572-4901-bdbf-c065f59def3a"
        },
        "ExecuteTime": {
          "end_time": "2023-07-13T19:48:58.018990+00:00",
          "start_time": "2023-07-13T19:48:57.842673+00:00"
        }
      },
      "execution_count": null,
      "source": "n_points = 100\nx = np.linspace(-10, 10, n_points)\nprob1 = norm(-4, 2).pdf(x)\nprob2 = norm(0, 4).pdf(x)\nprob3 = norm(4, 6).pdf(x)\ndf_norm = pl.DataFrame({\n    'x':np.hstack([x, x, x]),\n    'prob': np.hstack([prob1, prob2, prob3]),\n    'catégorie': np.hstack(\n        [np.repeat('A', n_points), np.repeat('B', n_points), np.repeat('C', n_points)]\n    )\n})\nggplot(df_norm, aes(x='x', y='prob')) + geom_line(aes(color='catégorie'))",
      "outputs": []
    },
    {
      "id": "c152f12b-3ca8-4012-b488-9edf97d23c51",
      "cell_type": "markdown",
      "source": "Quelle est la probabilité de retrouver une valeur dans l’intervalle entre -1 et 2 sur la courbe de catégorie B?",
      "metadata": {
        "noteable": {
          "cell_type": "markdown"
        }
      }
    },
    {
      "id": "d7845889-7a4d-4661-bbf2-f56352fef4eb",
      "cell_type": "code",
      "metadata": {
        "noteable": {
          "cell_type": "python",
          "output_collection_id": "a00a8b47-72c5-481d-99bf-fc4a080eb60a"
        },
        "ExecuteTime": {
          "end_time": "2023-07-13T19:49:02.116590+00:00",
          "start_time": "2023-07-13T19:49:01.955581+00:00"
        }
      },
      "execution_count": null,
      "source": "norm(0, 4).cdf(2) - norm(0, 4).cdf(-1) ",
      "outputs": []
    },
    {
      "id": "654cb34b-4033-4904-aed0-0989613186fb",
      "cell_type": "markdown",
      "source": "On pourrait aussi s'intéresser à l'intervalle de confiance sur la moyenne. En effet, la moyenne suit aussi une distribution normale, dont la tendance centrale est la moyenne de la distribution, et dont l'écart-type est noté *erreur standard*. On calcule cette erreur en divisant la variance par le nombre d'observation, ou en divisant l'écart-type par la racine carrée du nombre d'observations. Ainsi, pour 10 échantillons:",
      "metadata": {
        "noteable": {
          "cell_type": "markdown"
        }
      }
    },
    {
      "id": "ec65e606-89c4-4ff9-b4c4-68d30c80f672",
      "cell_type": "code",
      "metadata": {
        "noteable": {
          "cell_type": "python",
          "output_collection_id": "f4c15c64-866b-49f8-9335-3553068749bc"
        },
        "ExecuteTime": {
          "end_time": "2023-07-13T19:49:05.289241+00:00",
          "start_time": "2023-07-13T19:49:05.127625+00:00"
        }
      },
      "execution_count": null,
      "source": "alpha = 0.05\nmoyenne = 0\necart_type = 1\nn_echantillon = 10\nnorm.interval(\n    1-alpha/2,\n    loc = moyenne,\n    scale = ecart_type / np.sqrt(n_echantillon)\n)",
      "outputs": []
    },
    {
      "id": "b954a365-c5a8-4a5a-85a3-9e5f6b546898",
      "cell_type": "markdown",
      "source": "## Les modèles linéaires généralisés\n\nIl existe une panoplie de tests statistiques, et l'on peut facilement se perdre dans les détails et suppositions qu'ils sous-entendent. À mon expérience, la plupart des besoins en sciences peuvent être répondus par des modèles linéaires généralisés.\n\n- **Modèle**. Une maquette mathématique qui représente ce qui s'est passé dans le contexte dans lequel les données ont été recueillies.\n- **Linéaire**. Une combinaison linéaire de variable. Un modèle quadratique est linéaire dans le sens qu'il est une combinaison linéaire d'une variable et de sa représentation transformée au carré. Un phénomène qui semble non-linéaire à cause d'une courbure dans sa représentation graphique peut ainsi être exprimé de manière linéaire, mais sur des variables transformées, ou sur des variables non transformées mais e incluant des variables complémentaires, ou à l'extrême être une combinaison linéaire de fonctions non-linéaires. À ce titre, les modèles additifs généralisés (*generalized additive model, GAM*, voir [le cours de Noam Ross en langage R ](noamross.github.io/gams-in-r-course/), certaines implémentations en Python existent) sont très intéressants, mais s'écartent du sujet.\n- **Généralisé**. La (ou les) sortie(s) du modèle peuvent être décrits par différentes lois de probabilité. Un décompte du nombre de passages d'automobile sur une route pas s'approxime mieux par une loi de Poisson qu'une loi normale. Un modèle linéaire est généralisé si on tient compte du type de distribution ayant potentiellement généré les donnéerimentales.",
      "metadata": {
        "noteable": {
          "cell_type": "markdown"
        }
      }
    },
    {
      "id": "4020c7ac-f7cd-40eb-93e8-53bc29bc5e73",
      "cell_type": "markdown",
      "source": "Le module [*statsmodels*](statsmodels.org) facilite la composition d'un GLM en offrant la possibilité d'utiliser une interface par formule similaire à ce que l'on retrouve en langage R. Cette interface se présente, par exemple, comme suit.\n\n`y ~ v1 + v2 + v3 * v4`\n\nLe `y` est la sortie du modèle, aussi appelée variable dépendante ou endogène. Le `~` se lit non pas comme \"égal à\", mais comme \"en fonction de\". Les variables additionnées montrent un effet additif. Chacune des variables sera associé à un coefficient dans le modèle. L'astérisque entre `v3` et `v4` signifie que l'on désire entrer les effets additifs de v3 et v4, mais en ajoutant une interaction, c'est-à-dire une nouvelle variable constituée de la multiplication des variables `v3` et `v4`. Si l'on désirait ne garder que l'interaction entre `v3` et `v4`, nous pourrions utiliser un `:` au lieu de l'`*`, de sorte que l'équation précédente est l'équivalent de `y ~ v1 + v2 + v3 + v4 + v3:v4`. L'intercept du modèle est ajouté implicitement. Si on désire un modèle sans intercept, il faudra ajouter un `0 +` à droite du `~`. Davantage d'info sur l'interface formule peut être trouvée dans la documentation du module [*patsy*](https://patsy.readthedocs.io/en/latest/formulas.html), sur lequel repose *statsmodels*.\n\n",
      "metadata": {
        "noteable": {
          "cell_type": "markdown"
        }
      }
    },
    {
      "id": "ea382bca-422d-4aeb-b71e-5514bd8b5136",
      "cell_type": "markdown",
      "source": "Les données `mtcars` sont souvent utilisées pour donner des exemples en stats.",
      "metadata": {
        "noteable": {
          "cell_type": "markdown"
        }
      }
    },
    {
      "id": "785c3853-3d2e-4b57-8e67-c00c53bc6c02",
      "cell_type": "code",
      "metadata": {
        "noteable": {
          "cell_type": "python",
          "output_collection_id": "6543b9db-16b7-40c4-970e-f29e3b2e3c6d"
        },
        "ExecuteTime": {
          "end_time": "2023-07-14T00:53:03.097548+00:00",
          "start_time": "2023-07-14T00:53:02.733114+00:00"
        },
        "datalink": {
          "1a10cee5-07fc-4caf-91fc-cc27b5c5b30d": {
            "applied_filters": [],
            "dataframe_info": {
              "default_index_used": true,
              "orig_num_cols": 12,
              "orig_num_rows": 32,
              "orig_size_bytes": 3328,
              "truncated_num_cols": 12,
              "truncated_num_rows": 32,
              "truncated_size_bytes": 3328,
              "truncated_string_columns": []
            },
            "display_id": "1a10cee5-07fc-4caf-91fc-cc27b5c5b30d",
            "dx_settings": {
              "ALLOW_NOTEABLE_ATTRS": true,
              "COLUMN_SAMPLING_METHOD": "outer",
              "DB_LOCATION": ":memory:",
              "DEV_MODE": false,
              "DISPLAY_MAX_COLUMNS": 100,
              "DISPLAY_MAX_ROWS": 50000,
              "DISPLAY_MODE": "simple",
              "ENABLE_ASSIGNMENT": true,
              "ENABLE_DATALINK": true,
              "FLATTEN_COLUMN_VALUES": true,
              "FLATTEN_INDEX_VALUES": false,
              "GENERATE_DEX_METADATA": false,
              "HTML_TABLE_SCHEMA": false,
              "LOG_LEVEL": 30,
              "MAX_RENDER_SIZE_BYTES": 104857600,
              "MAX_STRING_LENGTH": 250,
              "NUM_PAST_SAMPLES_TRACKED": 3,
              "RANDOM_STATE": 12648430,
              "RESET_INDEX_VALUES": false,
              "ROW_SAMPLING_METHOD": "random",
              "SAMPLING_FACTOR": 0.1,
              "SAMPLING_METHOD": "random",
              "STRINGIFY_COLUMN_VALUES": true,
              "STRINGIFY_INDEX_VALUES": false
            },
            "sample_history": [],
            "sampling_time": "2023-07-13T18:09:09.495456",
            "user_variable_name": null,
            "variable_name": "unk_dataframe_f42d41352a374834b7ab6e6cd309c320"
          },
          "594722a3-1d9a-4a8e-8dcc-915766cb83bd": {
            "applied_filters": [],
            "dataframe_info": {
              "default_index_used": true,
              "orig_num_cols": 12,
              "orig_num_rows": 32,
              "orig_size_bytes": 3328,
              "truncated_num_cols": 12,
              "truncated_num_rows": 32,
              "truncated_size_bytes": 3328,
              "truncated_string_columns": []
            },
            "display_id": "594722a3-1d9a-4a8e-8dcc-915766cb83bd",
            "dx_settings": {
              "ALLOW_NOTEABLE_ATTRS": true,
              "COLUMN_SAMPLING_METHOD": "outer",
              "DB_LOCATION": ":memory:",
              "DEV_MODE": false,
              "DISPLAY_MAX_COLUMNS": 100,
              "DISPLAY_MAX_ROWS": 50000,
              "DISPLAY_MODE": "simple",
              "ENABLE_ASSIGNMENT": true,
              "ENABLE_DATALINK": true,
              "FLATTEN_COLUMN_VALUES": true,
              "FLATTEN_INDEX_VALUES": false,
              "GENERATE_DEX_METADATA": false,
              "HTML_TABLE_SCHEMA": false,
              "LOG_LEVEL": 30,
              "MAX_RENDER_SIZE_BYTES": 104857600,
              "MAX_STRING_LENGTH": 250,
              "NUM_PAST_SAMPLES_TRACKED": 3,
              "RANDOM_STATE": 12648430,
              "RESET_INDEX_VALUES": false,
              "ROW_SAMPLING_METHOD": "random",
              "SAMPLING_FACTOR": 0.1,
              "SAMPLING_METHOD": "random",
              "STRINGIFY_COLUMN_VALUES": true,
              "STRINGIFY_INDEX_VALUES": false
            },
            "sample_history": [],
            "sampling_time": "2023-07-13T19:49:10.451835",
            "user_variable_name": null,
            "variable_name": "unk_dataframe_87d80b5070fb4a89925b6c186ddee6e0"
          },
          "4f520ee7-a133-4da2-bf7a-55fc4819ef3f": {
            "applied_filters": [],
            "dataframe_info": {
              "default_index_used": true,
              "orig_num_cols": 12,
              "orig_num_rows": 32,
              "orig_size_bytes": 3328,
              "truncated_num_cols": 12,
              "truncated_num_rows": 32,
              "truncated_size_bytes": 3328,
              "truncated_string_columns": []
            },
            "display_id": "4f520ee7-a133-4da2-bf7a-55fc4819ef3f",
            "dx_settings": {
              "ALLOW_NOTEABLE_ATTRS": true,
              "COLUMN_SAMPLING_METHOD": "outer",
              "DB_LOCATION": ":memory:",
              "DEV_MODE": false,
              "DISPLAY_MAX_COLUMNS": 100,
              "DISPLAY_MAX_ROWS": 50000,
              "DISPLAY_MODE": "simple",
              "ENABLE_ASSIGNMENT": true,
              "ENABLE_DATALINK": true,
              "FLATTEN_COLUMN_VALUES": true,
              "FLATTEN_INDEX_VALUES": false,
              "GENERATE_DEX_METADATA": false,
              "HTML_TABLE_SCHEMA": false,
              "LOG_LEVEL": 30,
              "MAX_RENDER_SIZE_BYTES": 104857600,
              "MAX_STRING_LENGTH": 250,
              "NUM_PAST_SAMPLES_TRACKED": 3,
              "RANDOM_STATE": 12648430,
              "RESET_INDEX_VALUES": false,
              "ROW_SAMPLING_METHOD": "random",
              "SAMPLING_FACTOR": 0.1,
              "SAMPLING_METHOD": "random",
              "STRINGIFY_COLUMN_VALUES": true,
              "STRINGIFY_INDEX_VALUES": false
            },
            "sample_history": [],
            "sampling_time": "2023-07-14T00:53:02.938741",
            "user_variable_name": null,
            "variable_name": "unk_dataframe_bc84225741f2469bbb6dfb7cf46ee258"
          }
        },
        "dx": {
          "dashboard": {
            "multiViews": []
          },
          "fieldMetadata": {
            "am": {
              "columnPosition": 11
            },
            "carb": {
              "columnPosition": 13
            },
            "cyl": {
              "columnPosition": 4
            },
            "disp": {
              "columnPosition": 5
            },
            "drat": {
              "columnPosition": 7
            },
            "gear": {
              "columnPosition": 12
            },
            "hp": {
              "columnPosition": 6
            },
            "index": {
              "columnPosition": 1
            },
            "model": {
              "columnPosition": 2
            },
            "mpg": {
              "columnPosition": 3,
              "sort": "desc"
            },
            "qsec": {
              "columnPosition": 9
            },
            "vs": {
              "columnPosition": 10
            },
            "wt": {
              "columnPosition": 8
            }
          },
          "updated": 1689296052211,
          "views": [
            {
              "annotationRules": [],
              "chart": {},
              "chartMode": "grid",
              "confoRules": [],
              "decoration": {
                "footer": "",
                "subtitle": "",
                "title": "Table"
              },
              "facets": [],
              "filterSettings": {
                "SHOW_FILTER_PANEL": true,
                "filters": []
              },
              "id": "first-view",
              "isDefault": true,
              "type": "public",
              "userID": ""
            },
            {
              "annotationRules": [],
              "chart": {},
              "chartMode": "grid",
              "confoRules": [],
              "decoration": {
                "footer": "",
                "subtitle": "",
                "title": "Table"
              },
              "facets": [],
              "filterSettings": {
                "SHOW_FILTER_PANEL": true,
                "filters": []
              },
              "id": "first-view",
              "isDefault": true,
              "isTransitory": true,
              "type": "public",
              "userID": ""
            }
          ]
        }
      },
      "execution_count": null,
      "source": "mtcars = pl.read_csv('https://gist.githubusercontent.com/seankross/a412dfbd88b3db70b74b/raw/5f23f993cd87c283ce766e7ac6b329ee7cc2e1d1/mtcars.csv')\nmtcars",
      "outputs": []
    },
    {
      "id": "06f03ff0-be47-4fad-8dae-2d11e2a11d7e",
      "cell_type": "markdown",
      "source": "Nous nous intéresserons aux colonnes suivantes.\n\n- `mpg`. Miles per gallon, la distance parcourue avec un gallon d'essence.\n- `cyl`. Le nombre de pistons dans le moteur.\n- `disp`. Le volume total des cylindres du moteur.\n- `hp`. La puissance du moteur.\n- `wt`. Le poids du véhicule.\n- `gear`. Le nombre de ratio d'engrenages.\n- `vs`. Si la forme des cylindres est en v (`vs = 1`) ou droite (`vs = 0`).\n\nQuestion posée. Lesquelles parmi ces variables influencent le plus la consommation d'essence ?\n\nOn peut y répondre avec un modèle linéaire avec sortie normale.",
      "metadata": {
        "noteable": {
          "cell_type": "markdown"
        }
      }
    },
    {
      "id": "2ec741f9-297f-4cf5-835b-a8e6625a8692",
      "cell_type": "code",
      "metadata": {
        "noteable": {
          "cell_type": "python",
          "output_collection_id": "5102d344-5213-460c-89d2-39ea6c00450e"
        },
        "ExecuteTime": {
          "end_time": "2023-07-14T00:54:59.684564+00:00",
          "start_time": "2023-07-14T00:54:59.078668+00:00"
        }
      },
      "execution_count": null,
      "source": "import statsmodels.api as sm\nimport statsmodels.formula.api as smf\n\nmtcars_model = smf.glm(\n    formula = \"mpg ~ cyl + disp + hp + wt + gear + vs\",\n    data=mtcars,\n    family=sm.families.Gaussian()\n).fit()\n\nmtcars_model.summary()",
      "outputs": []
    },
    {
      "id": "a8c7070f-0a3d-4fd0-84e3-96134129e903",
      "cell_type": "markdown",
      "source": "L'intercept est la valeur, dans les unités de la variable réponse (miles par gallon), à laquelle on s'attendrait si toutes les autres variables étaient nulles. Cette valeur n'indique pas grand-chose, étant donné qu'elle correspond entre autres à une voiture dont le poids est nul... aurait du sens si les variables avaient été centrées, de sorte qu'il aurait exprimé le MPG alors que toutes les variables sont à leur moyenne. Le modèle nous informe que la distance de base par gallon est de 35.5 avec un intervalle de confiance à 95% entre 20.4 et 50.6. La p-value est bien sûr très faible: rappelez-vous bien que la p-value est la probabilité que le tableau de résultats ait été généré par le modèle que nous avons décrit et dont l'intercept serait nul.\n\nLes coefficients des autres variables nous indiquent comment l'augmentation d'une unité affecte le MPG. Si le poids du véhicule augmente d'une unité, ce qui équivaut à 1000 lbs, le MPG a diminué de -3.8. La valeur du coefficient n'indique toutefois pas l'importance dans le modèle, puisqu'elle dépend des unités utilisées pour exprimer les Si le",
      "metadata": {
        "noteable": {
          "cell_type": "markdown"
        }
      }
    },
    {
      "id": "746635cd-10e4-4f52-875c-4fa5c0e318b2",
      "cell_type": "markdown",
      "source": "Mais comme on a en discuté, n'est pas nécessairement tirée d'une distribution normale. Reprenons nos données sur les manchots, et posons la question suivante.\n\n> Quelles variables les dimensions du du bec permettent d'expliquer l'espèce de manchot?\n\n Mais d'abord, il faut s'assurer que la colonne `species` soit exprimée en chiffres.",
      "metadata": {
        "noteable": {
          "cell_type": "markdown"
        }
      }
    },
    {
      "id": "f9b1698c-fc64-47a6-a180-3d7e92541a94",
      "cell_type": "code",
      "metadata": {
        "jupyter": {
          "outputs_hidden": false,
          "source_hidden": false
        },
        "noteable": {
          "cell_type": "code",
          "output_collection_id": "6ea2d174-13ed-44ea-8a2e-048c22552441"
        },
        "ExecuteTime": {
          "end_time": "2023-07-14T01:00:32.190210+00:00",
          "start_time": "2023-07-14T01:00:32.026380+00:00"
        },
        "datalink": {
          "417a8c4a-0845-4f7c-b063-d4e5ed60f0aa": {
            "applied_filters": [],
            "dataframe_info": {
              "default_index_used": true,
              "orig_num_cols": 1,
              "orig_num_rows": 3,
              "orig_size_bytes": 48,
              "truncated_num_cols": 1,
              "truncated_num_rows": 3,
              "truncated_size_bytes": 48,
              "truncated_string_columns": []
            },
            "display_id": "417a8c4a-0845-4f7c-b063-d4e5ed60f0aa",
            "dx_settings": {
              "ALLOW_NOTEABLE_ATTRS": true,
              "COLUMN_SAMPLING_METHOD": "outer",
              "DB_LOCATION": ":memory:",
              "DEV_MODE": false,
              "DISPLAY_MAX_COLUMNS": 100,
              "DISPLAY_MAX_ROWS": 50000,
              "DISPLAY_MODE": "simple",
              "ENABLE_ASSIGNMENT": true,
              "ENABLE_DATALINK": true,
              "FLATTEN_COLUMN_VALUES": true,
              "FLATTEN_INDEX_VALUES": false,
              "GENERATE_DEX_METADATA": false,
              "HTML_TABLE_SCHEMA": false,
              "LOG_LEVEL": 30,
              "MAX_RENDER_SIZE_BYTES": 104857600,
              "MAX_STRING_LENGTH": 250,
              "NUM_PAST_SAMPLES_TRACKED": 3,
              "RANDOM_STATE": 12648430,
              "RESET_INDEX_VALUES": false,
              "ROW_SAMPLING_METHOD": "random",
              "SAMPLING_FACTOR": 0.1,
              "SAMPLING_METHOD": "random",
              "STRINGIFY_COLUMN_VALUES": true,
              "STRINGIFY_INDEX_VALUES": false
            },
            "sample_history": [],
            "sampling_time": "2023-06-08T16:34:54.988834",
            "user_variable_name": null,
            "variable_name": "unk_dataframe_3a780a3720b14973b4b20d6440569596"
          },
          "6ea9ddec-a0ca-4771-9674-9eec47945818": {
            "applied_filters": [],
            "dataframe_info": {
              "default_index_used": true,
              "orig_num_cols": 2,
              "orig_num_rows": 3,
              "orig_size_bytes": 72,
              "truncated_num_cols": 2,
              "truncated_num_rows": 3,
              "truncated_size_bytes": 72,
              "truncated_string_columns": []
            },
            "display_id": "6ea9ddec-a0ca-4771-9674-9eec47945818",
            "dx_settings": {
              "ALLOW_NOTEABLE_ATTRS": true,
              "COLUMN_SAMPLING_METHOD": "outer",
              "DB_LOCATION": ":memory:",
              "DEV_MODE": false,
              "DISPLAY_MAX_COLUMNS": 100,
              "DISPLAY_MAX_ROWS": 50000,
              "DISPLAY_MODE": "simple",
              "ENABLE_ASSIGNMENT": true,
              "ENABLE_DATALINK": true,
              "FLATTEN_COLUMN_VALUES": true,
              "FLATTEN_INDEX_VALUES": false,
              "GENERATE_DEX_METADATA": false,
              "HTML_TABLE_SCHEMA": false,
              "LOG_LEVEL": 30,
              "MAX_RENDER_SIZE_BYTES": 104857600,
              "MAX_STRING_LENGTH": 250,
              "NUM_PAST_SAMPLES_TRACKED": 3,
              "RANDOM_STATE": 12648430,
              "RESET_INDEX_VALUES": false,
              "ROW_SAMPLING_METHOD": "random",
              "SAMPLING_FACTOR": 0.1,
              "SAMPLING_METHOD": "random",
              "STRINGIFY_COLUMN_VALUES": true,
              "STRINGIFY_INDEX_VALUES": false
            },
            "sample_history": [],
            "sampling_time": "2023-06-08T16:37:54.174489",
            "user_variable_name": null,
            "variable_name": "unk_dataframe_ea194051f59642fab619df902e31cbcc"
          },
          "4b7c20a2-16ac-42cf-b1e3-490eca540eab": {
            "applied_filters": [],
            "dataframe_info": {
              "default_index_used": true,
              "orig_num_cols": 10,
              "orig_num_rows": 344,
              "orig_size_bytes": 30272,
              "truncated_num_cols": 10,
              "truncated_num_rows": 344,
              "truncated_size_bytes": 30272,
              "truncated_string_columns": []
            },
            "display_id": "4b7c20a2-16ac-42cf-b1e3-490eca540eab",
            "dx_settings": {
              "ALLOW_NOTEABLE_ATTRS": true,
              "COLUMN_SAMPLING_METHOD": "outer",
              "DB_LOCATION": ":memory:",
              "DEV_MODE": false,
              "DISPLAY_MAX_COLUMNS": 100,
              "DISPLAY_MAX_ROWS": 50000,
              "DISPLAY_MODE": "simple",
              "ENABLE_ASSIGNMENT": true,
              "ENABLE_DATALINK": true,
              "FLATTEN_COLUMN_VALUES": true,
              "FLATTEN_INDEX_VALUES": false,
              "GENERATE_DEX_METADATA": false,
              "HTML_TABLE_SCHEMA": false,
              "LOG_LEVEL": 30,
              "MAX_RENDER_SIZE_BYTES": 104857600,
              "MAX_STRING_LENGTH": 250,
              "NUM_PAST_SAMPLES_TRACKED": 3,
              "RANDOM_STATE": 12648430,
              "RESET_INDEX_VALUES": false,
              "ROW_SAMPLING_METHOD": "random",
              "SAMPLING_FACTOR": 0.1,
              "SAMPLING_METHOD": "random",
              "STRINGIFY_COLUMN_VALUES": true,
              "STRINGIFY_INDEX_VALUES": false
            },
            "sample_history": [],
            "sampling_time": "2023-06-08T16:40:39.339215",
            "user_variable_name": null,
            "variable_name": "unk_dataframe_d6a76ec8172b489ca83f8ffac775a3a2"
          },
          "94a3f70c-82fa-4de2-bd55-6723166c437c": {
            "applied_filters": [],
            "dataframe_info": {
              "default_index_used": true,
              "orig_num_cols": 10,
              "orig_num_rows": 333,
              "orig_size_bytes": 29304,
              "truncated_num_cols": 10,
              "truncated_num_rows": 333,
              "truncated_size_bytes": 29304,
              "truncated_string_columns": []
            },
            "display_id": "94a3f70c-82fa-4de2-bd55-6723166c437c",
            "dx_settings": {
              "ALLOW_NOTEABLE_ATTRS": true,
              "COLUMN_SAMPLING_METHOD": "outer",
              "DB_LOCATION": ":memory:",
              "DEV_MODE": false,
              "DISPLAY_MAX_COLUMNS": 100,
              "DISPLAY_MAX_ROWS": 50000,
              "DISPLAY_MODE": "simple",
              "ENABLE_ASSIGNMENT": true,
              "ENABLE_DATALINK": true,
              "FLATTEN_COLUMN_VALUES": true,
              "FLATTEN_INDEX_VALUES": false,
              "GENERATE_DEX_METADATA": false,
              "HTML_TABLE_SCHEMA": false,
              "LOG_LEVEL": 30,
              "MAX_RENDER_SIZE_BYTES": 104857600,
              "MAX_STRING_LENGTH": 250,
              "NUM_PAST_SAMPLES_TRACKED": 3,
              "RANDOM_STATE": 12648430,
              "RESET_INDEX_VALUES": false,
              "ROW_SAMPLING_METHOD": "random",
              "SAMPLING_FACTOR": 0.1,
              "SAMPLING_METHOD": "random",
              "STRINGIFY_COLUMN_VALUES": true,
              "STRINGIFY_INDEX_VALUES": false
            },
            "sample_history": [],
            "sampling_time": "2023-06-08T17:08:25.028769",
            "user_variable_name": null,
            "variable_name": "unk_dataframe_11eeac426fbc42e191ab9098bedab222"
          }
        }
      },
      "execution_count": null,
      "source": "penguins = pl.read_csv('data/penguins.csv', null_values='NA').drop_nulls()\nunique_species = penguins.select('species').unique()\nspecies_no = np.arange(unique_species.shape[0])\nunique_species = unique_species.with_columns(pl.lit(species_no).alias(\"species_no\"))\npenguins = penguins.join(unique_species, on='species', how='left')",
      "outputs": []
    },
    {
      "id": "0cc4f5ac-3c7e-4415-a9cd-5e6adfda32ac",
      "cell_type": "code",
      "metadata": {
        "jupyter": {
          "outputs_hidden": false,
          "source_hidden": false
        },
        "noteable": {
          "cell_type": "code",
          "output_collection_id": "0bcd0dfc-2476-4b48-b045-605adb1d3bcb"
        },
        "ExecuteTime": {
          "end_time": "2023-07-14T01:00:36.126614+00:00",
          "start_time": "2023-07-14T01:00:35.683704+00:00"
        }
      },
      "execution_count": null,
      "source": "penguin_model = smf.mnlogit(\n    formula = \"species_no ~ bill_length_mm + bill_depth_mm\",\n    data=penguins\n).fit()\npenguin_model.summary()",
      "outputs": []
    },
    {
      "id": "aeeab41c-5836-4735-b547-1ad1a2018d69",
      "cell_type": "markdown",
      "source": "Les résultats demanderaient qu'on s'y attarde longuement. Les coefficients montrent l'ampleur de l'écart entre l'espèce N et l'espèce de référence (Adelie, étiquetée par un `0`). Sans considérer le bec, les différences entre l'espèce `1` (Gentoo) sont l'Adelie hétérogène (p-value, `P>|z| = 0.214`), mais les dimensions du bec y contribuent significativement (`P>|z| > 0.000`). Idem pour l'espèce `2` (Chinstrap).\n\nCe modèle est évidemment très simplifié. On aurait pu ajouter d'autres dimensions, la masse considérant le sexe, l'île, etc (à vrai dire, j'ai essayé, mais sans succès). Je voulais surtout montrer que la sortie d'un modèle linéaire généralisée pouvait être autre qu'une  continue, pour laquelle on suppose une distribution normale.",
      "metadata": {
        "noteable": {
          "cell_type": "markdown"
        }
      }
    },
    {
      "id": "b3dd867b-98f1-42ef-8057-5c76e9f05f24",
      "cell_type": "markdown",
      "source": "Les tests d’hypothèse évaluent des effets statistiques (qui ne sont pas nécessairement des effets de causalité). L’effet à évaluer peut être celui d’un traitement, d’indicateurs météorologiques, de caractéristiques d'un sol, etc. Par convention, l’hypothèse nulle (écrite H<sub>0</sub>) est l’hypothèse qu’il n’y ait pas d’effet (c’est l’hypothèse de l’avocat du diable 😈) à l’échelle de la population (et non pas à l’échelle de l’échantillon). À l’inverse, l’hypothèse alternative (écrite H<sub>1</sub>) est l’hypothèse qu’il y ait un effet à l’échelle de la population.",
      "metadata": {
        "noteable": {
          "cell_type": "markdown"
        }
      }
    }
  ]
}