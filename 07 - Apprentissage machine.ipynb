{
  "nbformat": 4,
  "nbformat_minor": 5,
  "metadata": {
    "noteable-chatgpt": {
      "create_notebook": {
        "openai_conversation_id": "470fc6a5-1a33-516e-a3b6-51798eddb9f8",
        "openai_ephemeral_user_id": "ec95c5f0-e954-5c07-ac1d-1cf61cefc451",
        "openai_subdivision1_iso_code": "CA-QC"
      }
    },
    "noteable": {
      "last_transaction_id": "566cd06b-a3c7-4e91-ae2c-36bb67e7b0ed"
    },
    "selected_hardware_size": "small"
  },
  "cells": [
    {
      "id": "d1eeb728-5e60-4f8e-8a19-ee58ff8a13f0",
      "cell_type": "markdown",
      "source": "# Apprentissage machine\n\nL'apprentissage machine est une branche empirique de l'intelligence artificielle. Ce carnet a pour but de donner une introduction à ses concepts en utilisant le module *Scikit-Learn*, ce véritable couteau suisse en science des données avec Python que nous avons introduit dans le carnet 6. *Scikit-Learn* est un module mature et [très bien documenté](https://scikit-learn.org/stable/user_guide.html).\n\n## Flux de travail en apprentissage machine \n\n![](images/ml_workflow.png)\n\nJe vais couvrir les concepts de base, y compris la séparation des données en ensembles d'entraînement et de test, la validation croisée, le prétraitement des données, et plusieurs types de modèles de machine learning. Je vais également discuter de l'importance des variables dans les modèles.\n\nJe vais utiliser deux jeux de données pour nos exemples : `concrete-data.csv` et `penguins.csv`. Le premier contient des données sur différents mélanges de béton et leur résistance à la compression, ce qui est un sujet important en génie civil. Le deuxième, eh bien c'est le même que dans les autres carnets!\n\nNous allons explorer les modèles suivants.\n\n- Les k proches voisins\n- Les arbres de décision\n- Les forêts aléatoires\n- Le gradient boosting\n- Les réseaux de neurones\n- Les processus gaussiens\n\nJe vais brièvement décrire chaque modèle, discuter de leurs avantages et inconvénients, puis montrer comment les utiliser avec *Scikit-Learn*.",
      "metadata": {
        "noteable": {
          "cell_type": "markdown"
        }
      }
    },
    {
      "id": "ce6663d6-3c48-4126-a376-c2e990374db7",
      "cell_type": "code",
      "metadata": {
        "noteable": {
          "cell_type": "code",
          "output_collection_id": "3ad27311-595b-4df3-b4d3-bf299e605988"
        },
        "ExecuteTime": {
          "end_time": "2023-07-14T13:53:51.814983+00:00",
          "start_time": "2023-07-14T13:53:42.848757+00:00"
        },
        "jupyter": {
          "outputs_hidden": true
        }
      },
      "execution_count": null,
      "source": "# Importation des modules nécessaires\n!pip install polars==0.18.4 lets-plot==3.2\nimport polars as pl\nfrom sklearn.model_selection import train_test_split\nfrom sklearn.preprocessing import StandardScaler\nfrom sklearn import metrics\nfrom lets_plot import *\nLetsPlot.setup_html(isolated_frame=True)\n\n# Importation des données\nconcrete_data = pl.read_csv('data/concrete-data.csv')\npenguins_data = pl.read_csv('data/penguins.csv', null_values='NA')",
      "outputs": []
    },
    {
      "id": "6458ec23-513c-4ff7-a870-e357b7a61329",
      "cell_type": "markdown",
      "source": "Avec les données `concrete_data`, nous désirons prédire la résistance en compression, qui est une variable continue. En langage de machine learning, il s'agit d'une **régression**. Lorsqu'au contraire on désire prédire une catégorie, comme une espèce de manchot, on parlera d'une **classification**. Listons les *features* (variables prédictives) et les *targets* (variables cibles).",
      "metadata": {
        "noteable": {
          "cell_type": "markdown"
        }
      }
    },
    {
      "id": "ced1077b-acc0-4182-b1e1-96bff5df9372",
      "cell_type": "code",
      "metadata": {
        "noteable": {
          "cell_type": "python",
          "output_collection_id": "ea36c6ad-b97f-45c1-991b-f435eca39563"
        },
        "ExecuteTime": {
          "end_time": "2023-07-14T13:54:00.027385+00:00",
          "start_time": "2023-07-14T13:53:59.869697+00:00"
        }
      },
      "execution_count": null,
      "source": "concrete_features = ['Cement (kg/m³)', 'Blast Furnace Slag (kg/m³)', 'Fly Ash (kg/m³)', 'Water (kg/m³)', 'Superplasticizer (kg/m³)', 'Coarse Aggregate (kg/m³)', 'Fine Aggregate (kg/m³)', 'Age (day)']\nconcrete_target = ['Compressive strength (MPa)']\n\npenguins_features = ['bill_length_mm', 'bill_depth_mm', 'flipper_length_mm', 'body_mass_g']\npenguins_target = ['species']\n",
      "outputs": []
    },
    {
      "id": "dff07bc4-e20b-4760-ba89-ea1256ca10b9",
      "cell_type": "markdown",
      "source": "## Séparation des données en ensembles d'entraînement et de test\n\nLa première étape de la plupart des projets de machine learning est de diviser notre ensemble de données en un ensemble d'entraînement et un ensemble de test. L'ensemble d'entraînement est utilisé pour entraîner notre modèle, tandis que l'ensemble de test est utilisé pour évaluer sa performance. C'est important car cela nous permet de voir comment notre modèle se comporte sur des données qu'il n'a jamais vues auparavant, ce qui est une bonne indication de sa capacité à généraliser à de nouvelles données.\n\nNous allons utiliser la fonction `train_test_split` de Scikit-Learn pour faire cela. Nous allons diviser nos données en 80% pour l'entraînement et 20% pour le test.",
      "metadata": {
        "noteable": {
          "cell_type": "markdown"
        }
      }
    },
    {
      "id": "5c157c5a-3a41-4cd4-a49b-c393ec3b2005",
      "cell_type": "code",
      "metadata": {
        "noteable": {
          "cell_type": "code",
          "output_collection_id": "8bb0c021-a0b7-44c7-98d3-9108d5785524"
        },
        "ExecuteTime": {
          "end_time": "2023-07-14T13:54:23.707818+00:00",
          "start_time": "2023-07-14T13:54:23.547797+00:00"
        }
      },
      "execution_count": null,
      "source": "# Séparation des données en ensembles d'entraînement et de test\n## béton\nX_concrete = concrete_data.drop('Compressive strength (MPa)')\ny_concrete = concrete_data.select('Compressive strength (MPa)')\nX_train_concrete, X_test_concrete, y_train_concrete, y_test_concrete = train_test_split(X_concrete, y_concrete, test_size=0.2, random_state=42)",
      "outputs": []
    },
    {
      "id": "5bd15f65-7f4f-438b-a470-041cf944a212",
      "cell_type": "markdown",
      "source": "Si les données sont trop peu nombreuses pour être séparées en lots d'entraînement et de test, on peut s'en sortir en faisant de la validation croisée. La technique de validation croisée la plus utilisée est le *k-fold*, qui consiste à séparer au hasard un tableau en un nombre *k* de tableaux. Itérativement, on met le tableau *i* de côté (*i* variant de 1 à *k*) pour lisser le modèle sur l'ensemble des autres tableaux. Enfin, on évalue la performance du modèle sur le tableau *i*. Le résultat est un nombre *k* d'indicateurs de performance du modèle. Nous n'utiliserons Si la performance est suffisante, on peut lisser le modèle final sur l'ensemble des données. Les *k-folds* demandent toutefois faire attention à la structure des données: voir la [fiche de *Scikit-Learn*](https://scikit-learn.org/stable/modules/cross_validation.html#cross-validation-iterators) pour plus de détails. Nous utiliserons la validation croisée plus loin pour les machots avec la fonction [`cross_val_score`](https://scikit-learn.org/stable/modules/generated/sklearn.model_selection.cross_val_score.html).",
      "metadata": {
        "noteable": {
          "cell_type": "markdown"
        }
      }
    },
    {
      "id": "6a81b560-fccb-4125-9554-263395fed83f",
      "cell_type": "code",
      "metadata": {
        "jupyter": {
          "outputs_hidden": false,
          "source_hidden": false
        },
        "noteable": {
          "cell_type": "code",
          "output_collection_id": "d05d05b9-3c95-4efd-8516-b7528aa384af"
        },
        "ExecuteTime": {
          "end_time": "2023-07-14T13:54:58.307666+00:00",
          "start_time": "2023-07-14T13:54:58.149161+00:00"
        }
      },
      "execution_count": null,
      "source": "penguins_dataml = (\n    penguins_data\n    .select(penguins_features + penguins_target)\n    .filter(pl.all(pl.col(pl.Float32, pl.Float64).is_not_nan())) # enlever les NaN\n    .drop_nulls() # enlever les None\n)\nX_penguins = penguins_dataml.select(penguins_features)\ny_penguins = penguins_dataml.select(penguins_target)",
      "outputs": []
    },
    {
      "id": "7b2f574e-1e9f-44e0-956c-6bdd9413e108",
      "cell_type": "markdown",
      "source": "## Prétraitement des données\n\nLe prétraitement des données est une étape importante du machine learning. Il s'agit de transformer les données brutes en un format qui peut être facilement et efficacement traité par un modèle de machine learning. Il existe de nombreuses techniques de prétraitement des données, mais dans ce carnet, nous allons nous concentrer sur la standardisation, que nous avons par ailleurs déjà utilisée dans le carnet 6.\n\nLa standardisation est une technique de mise à l'échelle des données de sorte que la distribution des colonnes numériques ait une moyenne de 0 et un écart type de 1. Elle est particulièrement utile lorsque nous travaillons avec des modèles de machine learning qui utilisent une mesure de distance, comme les k plus proches voisins, ou lorsque nous travaillons avec des données qui ont des caractéristiques de différentes échelles.\n\nSi l'on a préalablement séparé nos données en jeus d'entraînement et de test, la référence du prétraitement est le jeu d'entraînement. Nous allons utiliser la classe `StandardScaler` de Scikit-Learn pour standardiser nos données.",
      "metadata": {
        "noteable": {
          "cell_type": "markdown"
        }
      }
    },
    {
      "id": "b2509873-97a6-4be0-8bcd-3fe65c15cb25",
      "cell_type": "code",
      "metadata": {
        "noteable": {
          "cell_type": "code",
          "output_collection_id": "794c0333-c489-4d36-8160-7582f8c519ea"
        },
        "ExecuteTime": {
          "end_time": "2023-07-14T13:55:43.642595+00:00",
          "start_time": "2023-07-14T13:55:43.478784+00:00"
        }
      },
      "execution_count": null,
      "source": "# Standardisation des données concrete\nxscaler_concrete = StandardScaler()\nX_train_concrete_sc = xscaler_concrete.fit(X_train_concrete)\nX_train_concrete_sc = xscaler_concrete.transform(X_train_concrete)\nX_test_concrete_sc = xscaler_concrete.transform(X_test_concrete)\n\nyscaler_concrete = StandardScaler()\ny_train_concrete_sc = yscaler_concrete.fit(y_train_concrete)\ny_train_concrete_sc = yscaler_concrete.transform(y_train_concrete)\ny_test_concrete_sc = yscaler_concrete.transform(y_test_concrete)\n\n# Standardisation des données penguins\nxscaler_penguins = StandardScaler()\nX_penguins_sc = xscaler_penguins.fit_transform(X_penguins) # fit et transform d'un seul coup...",
      "outputs": []
    },
    {
      "id": "e48a612b-b66d-4abc-9c73-f534d49d1b6a",
      "cell_type": "markdown",
      "source": "## Les *k* proches voisins\n\nL'algorithme des *k* proches voisins (kNN, pour *k nearest neighbors*) est un type d'apprentissage basé sur l'instance, ou apprentissage paresseux, où la fonction n'est approximée qu'au niveau local et toutes les calculs sont différés jusqu'à la classification. L'algorithme kNN est parmi les plus simples de tous les algorithmes d'apprentissage automatique.\n\nLes kNN forment un type d'apprentissage basé sur l'instance, ou apprentissage non généralisé : les kNN ne tentent pas de construire un modèle interne général, mais stocke simplement des instances des données d'entraînement. La **classification** est calculée à partir d'un vote majoritaire simple des k voisins les plus proches de chaque point : un point de requête est attribué à la classe de données qui a le plus de représentants parmi les *k* voisins les plus proches du point. Quant à la **régression**, le résultat est la tendance centrale (souvent la moyenne) des *k* voisins.\n\n### Avantages\n\n- L'algorithme est simple et facile à implémenter.\n- Il n'y a pas besoin de construire un modèle, d'accorder plusieurs paramètres, ou de faire des hypothèses supplémentaires.\n- L'algorithme est utile dans les cas de classification multiclasse (e.g. Adelie, Chinstrap, Gentoo).\n\n### Inconvénients\n\n- L'algorithme devient significativement plus lent à mesure que le nombre d'exemples et/ou de prédicteurs/augmente.\n- L'algorithme est sensible aux variables non pertinentes et à l'échelle des données.\n- Un mauvais choix de *k* peut entraîner de mauvais résultats.\n- Les régressions ne donnent pas des réponses lisses.",
      "metadata": {
        "noteable": {
          "cell_type": "markdown"
        }
      }
    },
    {
      "id": "d2465fb2-8bf7-4e31-bfb4-971f6c17124c",
      "cell_type": "markdown",
      "source": "Utilsons les kNN pour classifier les manchots. J'introduis du même coup la validation croisée. Lors des classifications, il est courrant de tenir compte des déséquilibres de classe dans les partitionnements, de sorte que chaque partition inclue une proportion semblable de chaque catégorie - nous utiliserons la fonction `StratifiedShuffleSplit`. Le débalancement des classes est non seulement un enjeu technique, mais aussi un enjeu éthique par rapport aux modèles d'IA, qui parfois ne sont pas adaptés à certaines classes démographiques peu représentés dans les données.",
      "metadata": {
        "noteable": {
          "cell_type": "markdown"
        }
      }
    },
    {
      "id": "c80062df-ef5a-47b6-8069-3e7e1dede3c1",
      "cell_type": "markdown",
      "source": "Définissons d'abord une instance du modèle KNeighborsClassifier, qui prendra 10 voisins (on pourrait essayer plusieurs valeurs de nombre de voisins).",
      "metadata": {
        "noteable": {
          "cell_type": "markdown"
        }
      }
    },
    {
      "id": "abd15951-962e-472b-978a-1c75333bf0f5",
      "cell_type": "code",
      "metadata": {
        "jupyter": {
          "outputs_hidden": false,
          "source_hidden": false
        },
        "noteable": {
          "cell_type": "code",
          "output_collection_id": "caa763db-c612-482a-ad54-67ed64f3c423"
        },
        "ExecuteTime": {
          "end_time": "2023-07-14T13:56:27.337921+00:00",
          "start_time": "2023-07-14T13:56:27.147440+00:00"
        }
      },
      "execution_count": null,
      "source": "from sklearn.neighbors import KNeighborsClassifier\nknn_penguins = KNeighborsClassifier(n_neighbors=25)",
      "outputs": []
    },
    {
      "id": "e29bc4c8-e069-4508-bcc3-df9ce17dc981",
      "cell_type": "markdown",
      "source": "Puis créons notre *splitter* pour les *k-folds*.",
      "metadata": {
        "noteable": {
          "cell_type": "markdown"
        }
      }
    },
    {
      "id": "7458bf19-0172-41a7-b9fd-f4318d7d4f4d",
      "cell_type": "code",
      "metadata": {
        "noteable": {
          "cell_type": "python",
          "output_collection_id": "06ff8e09-3aa1-49f5-add2-2b1a4aadd53d"
        },
        "ExecuteTime": {
          "end_time": "2023-07-14T13:56:52.704684+00:00",
          "start_time": "2023-07-14T13:56:52.548064+00:00"
        }
      },
      "execution_count": null,
      "source": "from sklearn.model_selection import StratifiedShuffleSplit\npenguins_splitter = StratifiedShuffleSplit(n_splits = 5)",
      "outputs": []
    },
    {
      "id": "0b9f2ad2-8bb1-4708-a732-30349154466a",
      "cell_type": "markdown",
      "source": "Voyons voir les scores de notre validation croisée avec `cross_val_score`.",
      "metadata": {
        "noteable": {
          "cell_type": "markdown"
        }
      }
    },
    {
      "id": "258cc73d-074a-416f-9b9e-4b8bbbbb9341",
      "cell_type": "code",
      "metadata": {
        "jupyter": {
          "outputs_hidden": false,
          "source_hidden": false
        },
        "noteable": {
          "cell_type": "code",
          "output_collection_id": "481e58d5-9e70-4add-bff1-fd21deb9e362"
        },
        "ExecuteTime": {
          "end_time": "2023-07-14T13:56:57.368828+00:00",
          "start_time": "2023-07-14T13:56:57.182790+00:00"
        }
      },
      "execution_count": null,
      "source": "from sklearn.model_selection import cross_val_score\nknn_penguins_scores = cross_val_score(\n    estimator = knn_penguins,\n    X = X_penguins_sc,\n    y = y_penguins,\n    cv = penguins_splitter,\n    scoring = 'accuracy'\n)",
      "outputs": []
    },
    {
      "id": "7b5bcd42-d2c6-4f15-8f27-c38c512709af",
      "cell_type": "markdown",
      "source": "Le score *accuracy* est la proportion d'observations bien classifiées. Il existe une panoplie de scores disponibles dans *Scikit-Learn* pour la classification et la régression. Pour les lister, lancez \n\n```\nfrom sklearn.metrics import get_scorer_names\nget_scorer_names()\n```",
      "metadata": {
        "noteable": {
          "cell_type": "markdown"
        }
      }
    },
    {
      "id": "d270d8d5-834d-49d2-ab36-27db8094b756",
      "cell_type": "markdown",
      "source": "Voyons les scores de notre validation croisée.",
      "metadata": {
        "noteable": {
          "cell_type": "markdown"
        }
      }
    },
    {
      "id": "e88b68a2-79cd-4240-a8b2-f77e40c208b6",
      "cell_type": "code",
      "metadata": {
        "noteable": {
          "cell_type": "python",
          "output_collection_id": "68d6bac5-bd4c-4ded-80e5-c4f62aaa4fdb"
        },
        "ExecuteTime": {
          "end_time": "2023-07-14T13:57:16.007758+00:00",
          "start_time": "2023-07-14T13:57:15.849617+00:00"
        }
      },
      "execution_count": null,
      "source": "for i in range(len(knn_penguins_scores)):\n    print(f\"Accuracy du split {i}: {knn_penguins_scores[i]}\")\nprint(f\"Score moyen de la validation croisée: {knn_penguins_scores.mean()}\")",
      "outputs": []
    },
    {
      "id": "3cd74f4c-347a-48fc-a813-e89a2545779d",
      "cell_type": "markdown",
      "source": "Cela semble très bien! Nous pouvons maintenant modéliser...",
      "metadata": {
        "noteable": {
          "cell_type": "markdown"
        }
      }
    },
    {
      "id": "5f04f6ca-4abd-4518-b75e-5c9f39da5305",
      "cell_type": "code",
      "metadata": {
        "noteable": {
          "cell_type": "python",
          "output_collection_id": "624e0acc-04d5-4857-ab45-9eccf73f95d0"
        },
        "ExecuteTime": {
          "end_time": "2023-07-14T13:57:30.111826+00:00",
          "start_time": "2023-07-14T13:57:29.946957+00:00"
        }
      },
      "execution_count": null,
      "source": "knn_penguins.fit(X = X_penguins_sc, y = y_penguins)",
      "outputs": []
    },
    {
      "id": "671aab38-9b49-4a50-933c-58d2feb8ecf3",
      "cell_type": "markdown",
      "source": "L'objet `knn_penguins` est maintenant lissé aux données. Il peut maintenant être utilisé pour prédire. Une manière d'apprécier un modèle de classification est de générer un tableau de contingence, aussi appelée la \"matrice de confusion\". *Polars*",
      "metadata": {
        "noteable": {
          "cell_type": "markdown"
        }
      }
    },
    {
      "id": "325fe676-d1cf-4484-8cb1-bacbe8510119",
      "cell_type": "code",
      "metadata": {
        "noteable": {
          "cell_type": "python",
          "output_collection_id": "a5af0b6e-6b97-4ee7-8567-eddff1aa729a"
        },
        "ExecuteTime": {
          "end_time": "2023-07-14T13:57:39.967790+00:00",
          "start_time": "2023-07-14T13:57:39.698114+00:00"
        },
        "datalink": {
          "ae662015-0d27-42a5-83d4-6d93a198d9ee": {
            "applied_filters": [],
            "dataframe_info": {
              "default_index_used": true,
              "orig_num_cols": 3,
              "orig_num_rows": 3,
              "orig_size_bytes": 96,
              "truncated_num_cols": 3,
              "truncated_num_rows": 3,
              "truncated_size_bytes": 96,
              "truncated_string_columns": []
            },
            "display_id": "ae662015-0d27-42a5-83d4-6d93a198d9ee",
            "dx_settings": {
              "ALLOW_NOTEABLE_ATTRS": true,
              "COLUMN_SAMPLING_METHOD": "outer",
              "DB_LOCATION": ":memory:",
              "DEV_MODE": false,
              "DISPLAY_MAX_COLUMNS": 100,
              "DISPLAY_MAX_ROWS": 50000,
              "DISPLAY_MODE": "simple",
              "ENABLE_ASSIGNMENT": true,
              "ENABLE_DATALINK": true,
              "FLATTEN_COLUMN_VALUES": true,
              "FLATTEN_INDEX_VALUES": false,
              "GENERATE_DEX_METADATA": false,
              "HTML_TABLE_SCHEMA": false,
              "LOG_LEVEL": 30,
              "MAX_RENDER_SIZE_BYTES": 104857600,
              "MAX_STRING_LENGTH": 250,
              "NUM_PAST_SAMPLES_TRACKED": 3,
              "RANDOM_STATE": 12648430,
              "RESET_INDEX_VALUES": false,
              "ROW_SAMPLING_METHOD": "random",
              "SAMPLING_FACTOR": 0.1,
              "SAMPLING_METHOD": "random",
              "STRINGIFY_COLUMN_VALUES": true,
              "STRINGIFY_INDEX_VALUES": false
            },
            "sample_history": [],
            "sampling_time": "2023-07-06T19:17:27.594212",
            "user_variable_name": null,
            "variable_name": "unk_dataframe_5c2d2fbf1d4040c4b0e7c2e3d19d22f4"
          },
          "b6d9bcb5-5af1-40a3-9594-848784a5aebc": {
            "applied_filters": [],
            "dataframe_info": {
              "default_index_used": true,
              "orig_num_cols": 4,
              "orig_num_rows": 3,
              "orig_size_bytes": 120,
              "truncated_num_cols": 4,
              "truncated_num_rows": 3,
              "truncated_size_bytes": 120,
              "truncated_string_columns": []
            },
            "display_id": "b6d9bcb5-5af1-40a3-9594-848784a5aebc",
            "dx_settings": {
              "ALLOW_NOTEABLE_ATTRS": true,
              "COLUMN_SAMPLING_METHOD": "outer",
              "DB_LOCATION": ":memory:",
              "DEV_MODE": false,
              "DISPLAY_MAX_COLUMNS": 100,
              "DISPLAY_MAX_ROWS": 50000,
              "DISPLAY_MODE": "simple",
              "ENABLE_ASSIGNMENT": true,
              "ENABLE_DATALINK": true,
              "FLATTEN_COLUMN_VALUES": true,
              "FLATTEN_INDEX_VALUES": false,
              "GENERATE_DEX_METADATA": false,
              "HTML_TABLE_SCHEMA": false,
              "LOG_LEVEL": 30,
              "MAX_RENDER_SIZE_BYTES": 104857600,
              "MAX_STRING_LENGTH": 250,
              "NUM_PAST_SAMPLES_TRACKED": 3,
              "RANDOM_STATE": 12648430,
              "RESET_INDEX_VALUES": false,
              "ROW_SAMPLING_METHOD": "random",
              "SAMPLING_FACTOR": 0.1,
              "SAMPLING_METHOD": "random",
              "STRINGIFY_COLUMN_VALUES": true,
              "STRINGIFY_INDEX_VALUES": false
            },
            "sample_history": [],
            "sampling_time": "2023-07-06T19:17:53.644941",
            "user_variable_name": null,
            "variable_name": "unk_dataframe_f9093ec1a07a485ab9b41c1148e3f7d7"
          },
          "0ac35b62-adc2-4d1c-85db-5b5d893014cc": {
            "applied_filters": [],
            "dataframe_info": {
              "default_index_used": true,
              "orig_num_cols": 4,
              "orig_num_rows": 3,
              "orig_size_bytes": 120,
              "truncated_num_cols": 4,
              "truncated_num_rows": 3,
              "truncated_size_bytes": 120,
              "truncated_string_columns": []
            },
            "display_id": "0ac35b62-adc2-4d1c-85db-5b5d893014cc",
            "dx_settings": {
              "ALLOW_NOTEABLE_ATTRS": true,
              "COLUMN_SAMPLING_METHOD": "outer",
              "DB_LOCATION": ":memory:",
              "DEV_MODE": false,
              "DISPLAY_MAX_COLUMNS": 100,
              "DISPLAY_MAX_ROWS": 50000,
              "DISPLAY_MODE": "simple",
              "ENABLE_ASSIGNMENT": true,
              "ENABLE_DATALINK": true,
              "FLATTEN_COLUMN_VALUES": true,
              "FLATTEN_INDEX_VALUES": false,
              "GENERATE_DEX_METADATA": false,
              "HTML_TABLE_SCHEMA": false,
              "LOG_LEVEL": 30,
              "MAX_RENDER_SIZE_BYTES": 104857600,
              "MAX_STRING_LENGTH": 250,
              "NUM_PAST_SAMPLES_TRACKED": 3,
              "RANDOM_STATE": 12648430,
              "RESET_INDEX_VALUES": false,
              "ROW_SAMPLING_METHOD": "random",
              "SAMPLING_FACTOR": 0.1,
              "SAMPLING_METHOD": "random",
              "STRINGIFY_COLUMN_VALUES": true,
              "STRINGIFY_INDEX_VALUES": false
            },
            "sample_history": [],
            "sampling_time": "2023-07-07T19:05:52.500841",
            "user_variable_name": null,
            "variable_name": "unk_dataframe_62e2cee0f4014b988b7621d486384c36"
          },
          "ad58f902-e9ef-4f50-b0c6-504fd263330e": {
            "applied_filters": [],
            "dataframe_info": {
              "default_index_used": true,
              "orig_num_cols": 4,
              "orig_num_rows": 3,
              "orig_size_bytes": 120,
              "truncated_num_cols": 4,
              "truncated_num_rows": 3,
              "truncated_size_bytes": 120,
              "truncated_string_columns": []
            },
            "display_id": "ad58f902-e9ef-4f50-b0c6-504fd263330e",
            "dx_settings": {
              "ALLOW_NOTEABLE_ATTRS": true,
              "COLUMN_SAMPLING_METHOD": "outer",
              "DB_LOCATION": ":memory:",
              "DEV_MODE": false,
              "DISPLAY_MAX_COLUMNS": 100,
              "DISPLAY_MAX_ROWS": 50000,
              "DISPLAY_MODE": "simple",
              "ENABLE_ASSIGNMENT": true,
              "ENABLE_DATALINK": true,
              "FLATTEN_COLUMN_VALUES": true,
              "FLATTEN_INDEX_VALUES": false,
              "GENERATE_DEX_METADATA": false,
              "HTML_TABLE_SCHEMA": false,
              "LOG_LEVEL": 30,
              "MAX_RENDER_SIZE_BYTES": 104857600,
              "MAX_STRING_LENGTH": 250,
              "NUM_PAST_SAMPLES_TRACKED": 3,
              "RANDOM_STATE": 12648430,
              "RESET_INDEX_VALUES": false,
              "ROW_SAMPLING_METHOD": "random",
              "SAMPLING_FACTOR": 0.1,
              "SAMPLING_METHOD": "random",
              "STRINGIFY_COLUMN_VALUES": true,
              "STRINGIFY_INDEX_VALUES": false
            },
            "sample_history": [],
            "sampling_time": "2023-07-07T19:08:04.211374",
            "user_variable_name": null,
            "variable_name": "unk_dataframe_659574e0f3a44067b31984fcc2d25581"
          },
          "f7186614-edfa-499f-96ab-fd447aa58510": {
            "applied_filters": [],
            "dataframe_info": {
              "default_index_used": true,
              "orig_num_cols": 4,
              "orig_num_rows": 3,
              "orig_size_bytes": 120,
              "truncated_num_cols": 4,
              "truncated_num_rows": 3,
              "truncated_size_bytes": 120,
              "truncated_string_columns": []
            },
            "display_id": "f7186614-edfa-499f-96ab-fd447aa58510",
            "dx_settings": {
              "ALLOW_NOTEABLE_ATTRS": true,
              "COLUMN_SAMPLING_METHOD": "outer",
              "DB_LOCATION": ":memory:",
              "DEV_MODE": false,
              "DISPLAY_MAX_COLUMNS": 100,
              "DISPLAY_MAX_ROWS": 50000,
              "DISPLAY_MODE": "simple",
              "ENABLE_ASSIGNMENT": true,
              "ENABLE_DATALINK": true,
              "FLATTEN_COLUMN_VALUES": true,
              "FLATTEN_INDEX_VALUES": false,
              "GENERATE_DEX_METADATA": false,
              "HTML_TABLE_SCHEMA": false,
              "LOG_LEVEL": 30,
              "MAX_RENDER_SIZE_BYTES": 104857600,
              "MAX_STRING_LENGTH": 250,
              "NUM_PAST_SAMPLES_TRACKED": 3,
              "RANDOM_STATE": 12648430,
              "RESET_INDEX_VALUES": false,
              "ROW_SAMPLING_METHOD": "random",
              "SAMPLING_FACTOR": 0.1,
              "SAMPLING_METHOD": "random",
              "STRINGIFY_COLUMN_VALUES": true,
              "STRINGIFY_INDEX_VALUES": false
            },
            "sample_history": [],
            "sampling_time": "2023-07-07T20:00:30.436421",
            "user_variable_name": null,
            "variable_name": "unk_dataframe_37fe032b04454f1fbc5e044c1ab8a22f"
          },
          "bea92323-3ad1-4619-879c-868400204d5f": {
            "applied_filters": [],
            "dataframe_info": {
              "default_index_used": true,
              "orig_num_cols": 4,
              "orig_num_rows": 3,
              "orig_size_bytes": 120,
              "truncated_num_cols": 4,
              "truncated_num_rows": 3,
              "truncated_size_bytes": 120,
              "truncated_string_columns": []
            },
            "display_id": "bea92323-3ad1-4619-879c-868400204d5f",
            "dx_settings": {
              "ALLOW_NOTEABLE_ATTRS": true,
              "COLUMN_SAMPLING_METHOD": "outer",
              "DB_LOCATION": ":memory:",
              "DEV_MODE": false,
              "DISPLAY_MAX_COLUMNS": 100,
              "DISPLAY_MAX_ROWS": 50000,
              "DISPLAY_MODE": "simple",
              "ENABLE_ASSIGNMENT": true,
              "ENABLE_DATALINK": true,
              "FLATTEN_COLUMN_VALUES": true,
              "FLATTEN_INDEX_VALUES": false,
              "GENERATE_DEX_METADATA": false,
              "HTML_TABLE_SCHEMA": false,
              "LOG_LEVEL": 30,
              "MAX_RENDER_SIZE_BYTES": 104857600,
              "MAX_STRING_LENGTH": 250,
              "NUM_PAST_SAMPLES_TRACKED": 3,
              "RANDOM_STATE": 12648430,
              "RESET_INDEX_VALUES": false,
              "ROW_SAMPLING_METHOD": "random",
              "SAMPLING_FACTOR": 0.1,
              "SAMPLING_METHOD": "random",
              "STRINGIFY_COLUMN_VALUES": true,
              "STRINGIFY_INDEX_VALUES": false
            },
            "sample_history": [],
            "sampling_time": "2023-07-13T18:27:34.372091",
            "user_variable_name": null,
            "variable_name": "unk_dataframe_771ba964ae5940d1a7dafd8301651db1"
          },
          "32221aa4-9aa8-427d-9856-37a91f870ea7": {
            "applied_filters": [],
            "dataframe_info": {
              "default_index_used": true,
              "orig_num_cols": 4,
              "orig_num_rows": 3,
              "orig_size_bytes": 120,
              "truncated_num_cols": 4,
              "truncated_num_rows": 3,
              "truncated_size_bytes": 120,
              "truncated_string_columns": []
            },
            "display_id": "32221aa4-9aa8-427d-9856-37a91f870ea7",
            "dx_settings": {
              "ALLOW_NOTEABLE_ATTRS": true,
              "COLUMN_SAMPLING_METHOD": "outer",
              "DB_LOCATION": ":memory:",
              "DEV_MODE": false,
              "DISPLAY_MAX_COLUMNS": 100,
              "DISPLAY_MAX_ROWS": 50000,
              "DISPLAY_MODE": "simple",
              "ENABLE_ASSIGNMENT": true,
              "ENABLE_DATALINK": true,
              "FLATTEN_COLUMN_VALUES": true,
              "FLATTEN_INDEX_VALUES": false,
              "GENERATE_DEX_METADATA": false,
              "HTML_TABLE_SCHEMA": false,
              "LOG_LEVEL": 30,
              "MAX_RENDER_SIZE_BYTES": 104857600,
              "MAX_STRING_LENGTH": 250,
              "NUM_PAST_SAMPLES_TRACKED": 3,
              "RANDOM_STATE": 12648430,
              "RESET_INDEX_VALUES": false,
              "ROW_SAMPLING_METHOD": "random",
              "SAMPLING_FACTOR": 0.1,
              "SAMPLING_METHOD": "random",
              "STRINGIFY_COLUMN_VALUES": true,
              "STRINGIFY_INDEX_VALUES": false
            },
            "sample_history": [],
            "sampling_time": "2023-07-14T13:57:39.810669",
            "user_variable_name": null,
            "variable_name": "unk_dataframe_f761a968b06b43f4911766fc1ce03e1e"
          }
        }
      },
      "execution_count": null,
      "source": "from sklearn.metrics import confusion_matrix\ny_penguins_pred = knn_penguins.predict(X_penguins_sc)\npenguin_catnames = y_penguins.unique().sort(by = 'species').to_numpy().flatten().tolist()\n\n(\n    pl.DataFrame(confusion_matrix(y_penguins, y_penguins_pred), schema = penguin_catnames)\n    .with_columns(pl.Series(penguin_catnames).alias('species'))\n)",
      "outputs": []
    },
    {
      "id": "9af8e797-7f3f-4716-9ee0-08cb9d681446",
      "cell_type": "markdown",
      "source": "Six observations de l'espèce adelie ont été incorrectement classées comme chinstrap. Si vous vous souvenez bien, dans le carnet 6, nous avions conclu que les chinstrap et les adelie était semblables selon les attributs utilisés.\n\nComment aurions-nous pu améliorer le modèle?",
      "metadata": {
        "noteable": {
          "cell_type": "markdown"
        }
      }
    },
    {
      "id": "daebdfff-104a-486d-9790-1e66650b88cc",
      "cell_type": "markdown",
      "source": "## Arbres de décision\n\nUn arbre de décision est un type de modèle de machine learning qui fait des prédictions en divisant les données en différents sous-groupes basés sur les valeurs des variables d'entrée. C'est un type de modèle dit 'boîte blanche', ce qui signifie que les prédictions qu'il fait sont facilement interprétables et explicables.\n\n### Avantages\n\n- Facilité d'interprétation et de visualisation.\n- Peut gérer à la fois des variables numériques et catégorielles.\n- Peut gérer des problèmes de classification et de régression.\n\n### Inconvénients\n\n- Peut créer des modèles complexes qui ne généralisent pas bien les données (surapprentissage).\n- Peut être sensible aux petites variations des données d'entraînement.\n- Peut créer des arbres biaisés si certaines classes dominent.\n- Les régressions ne donnent pas des réponses lisses",
      "metadata": {
        "noteable": {
          "cell_type": "markdown"
        }
      }
    },
    {
      "id": "a7979dba-d329-47f1-83ad-1c6fe19d25bf",
      "cell_type": "markdown",
      "source": "Utilisons les arbres pour la classification des manchots, mais cette fois sans la validation croisée, étant donné que nous l'avons déjà couverte. De plus, je n'utilise pas `X_penguins_sc`, mais bien `X_penguins`, car les arbres de décision ne sont pas sensibles à l'échelle.",
      "metadata": {
        "noteable": {
          "cell_type": "markdown"
        }
      }
    },
    {
      "id": "bf6884d1-8e4e-4ab4-be79-e200b0f90e39",
      "cell_type": "code",
      "metadata": {
        "noteable": {
          "cell_type": "code",
          "output_collection_id": "c4f95c0e-8579-4db1-a10f-cb30c4ce1ac2"
        },
        "ExecuteTime": {
          "end_time": "2023-07-14T13:58:26.322738+00:00",
          "start_time": "2023-07-14T13:58:26.149943+00:00"
        }
      },
      "execution_count": null,
      "source": "from sklearn.tree import DecisionTreeClassifier\ndt_penguins = DecisionTreeClassifier(random_state=42)\ndt_penguins.fit(X = X_penguins, y = y_penguins)\ny_pred_penguins = dt_penguins.predict(X_penguins)\naccuracy_penguins = metrics.accuracy_score(y_penguins, y_pred_penguins)\naccuracy_penguins",
      "outputs": []
    },
    {
      "id": "21d7e475-c54f-4f26-981a-7a8db110135f",
      "cell_type": "markdown",
      "source": "Tous nos points sont bien classés. Un avantage des arbres de décision est que l'on peut les utiliser en imprimant un graphique, ce qui les rend facilement auditables.",
      "metadata": {
        "noteable": {
          "cell_type": "markdown"
        }
      }
    },
    {
      "id": "1fc03e31-f850-4d0c-8920-9f5df5b5d29b",
      "cell_type": "code",
      "metadata": {
        "noteable": {
          "cell_type": "code",
          "output_collection_id": "15364fe9-d5df-452d-8254-ecd6ce9ac338"
        },
        "ExecuteTime": {
          "end_time": "2023-07-14T13:58:50.239923+00:00",
          "start_time": "2023-07-14T13:58:47.793112+00:00"
        }
      },
      "execution_count": null,
      "source": "from sklearn import tree\nimport matplotlib.pyplot as plt # module graphique de base en Python\nfig, ax = plt.subplots(figsize=(10, 10))\ntree.plot_tree(\n    dt_penguins,\n    feature_names = penguins_features,\n    class_names = penguin_catnames,\n    filled = True,\n    ax = ax\n);",
      "outputs": []
    },
    {
      "id": "4a5329d1-5cbe-4870-b6a8-365d55b177d1",
      "cell_type": "markdown",
      "source": "## Forêts aléatoires\n\nUne forêt aléatoire fonctionne en créant un grand nombre d'arbres de décision et en faisant la moyenne de leurs prédictions. Les forêts aléatoires sont un exemple de méthode d'ensemble, ce qui signifie qu'elles fonctionnent en combinant les prédictions de plusieurs modèles plus simples.\n\n### Avantages\n\n- Peut gérer un grand nombre de caractéristiques et de grandes quantités de données.\n- Ne nécessite pas beaucoup de préparation des données (pas besoin de mise à l'échelle, etc.).\n- Fournit une estimation de l'importance des caractéristiques.\n\n### Inconvénients\n\n- Moins interprétable qu'un arbre de décision unique.\n- Peut surapprendre si le nombre d'arbres n'est pas bien réglé.\n- Les régressions ne donnent pas des réponses lisses.",
      "metadata": {
        "noteable": {
          "cell_type": "markdown"
        }
      }
    },
    {
      "id": "eec8af7c-25ad-40a1-8a46-5bb31042d8e3",
      "cell_type": "markdown",
      "source": "Nous allons, cette fois-ci, utiliser les données `concrete_data` pour prédire la résistence en compression d'un béton. Il s'agira donc d'une régression. Dans ce cas, nous lissons le modèle sur les données d'entraînement, puis l'évaluons sur les données test. Comme pour les arbres de décision, il est inutile de préalablement mettre les données à l'échelle.",
      "metadata": {
        "noteable": {
          "cell_type": "markdown"
        }
      }
    },
    {
      "id": "2df55c7a-3fda-42eb-8712-e4cd1bc825dc",
      "cell_type": "code",
      "metadata": {
        "noteable": {
          "cell_type": "code",
          "output_collection_id": "7c4e9ca4-8182-47b2-ab15-301537713727"
        },
        "ExecuteTime": {
          "end_time": "2023-07-14T13:59:13.247314+00:00",
          "start_time": "2023-07-14T13:59:12.639156+00:00"
        }
      },
      "execution_count": null,
      "source": "from sklearn.ensemble import RandomForestRegressor\nfrom sklearn.metrics import r2_score\n\nrf_concrete = RandomForestRegressor(random_state=42)\nrf_concrete.fit(X_train_concrete, y_train_concrete)\ny_pred_concrete = rf_concrete.predict(X_test_concrete)\nr2_concrete = r2_score(y_test_concrete, y_pred_concrete)\nprint(f\"Le R2 du modèle est de {r2_concrete}\")",
      "outputs": []
    },
    {
      "id": "e198f843-c8d8-4b2e-b354-91da1f517f90",
      "cell_type": "markdown",
      "source": "Une autre manière d'évaluer un modèle est de créer un graphique carré avec la valeur réelle en x et la valeur prédite en y. Si la prédiction est bonne, les points s'alligneront sur la pente de 45 degrés. Si les points s'allignent exactement, c'est un signe de surapprentissage.",
      "metadata": {
        "noteable": {
          "cell_type": "markdown"
        }
      }
    },
    {
      "id": "3c5c4678-ed6f-4225-8683-00bc977932d6",
      "cell_type": "code",
      "metadata": {
        "noteable": {
          "cell_type": "python",
          "output_collection_id": "78774b89-2a73-4b0e-8102-ebf64bc86575"
        },
        "ExecuteTime": {
          "end_time": "2023-07-14T14:17:58.815135+00:00",
          "start_time": "2023-07-14T14:17:58.649113+00:00"
        }
      },
      "execution_count": null,
      "source": "dt_concrete_true_pred = pl.DataFrame(dict(\n    observed = y_test_concrete.to_numpy().flatten(),\n    predicted = y_pred_concrete\n))\n\n(\n    ggplot(dt_concrete_true_pred, aes(x='observed', y='predicted'))\n    + geom_point()\n    + coord_fixed()\n)",
      "outputs": []
    },
    {
      "id": "6ebad4b0-0a89-40f2-b940-b44002695a25",
      "cell_type": "markdown",
      "source": "Un aspect intéressant des modèles de machine learning est qu'ils peuvent être conditionnés. Par exemple, je crée un tableau avec les mêmes caractéristiques répétées, à l'exception de l'âge. Je pourrais alors prédire comment la résistance en compression évoluera dans le temps.",
      "metadata": {
        "noteable": {
          "cell_type": "markdown"
        }
      }
    },
    {
      "id": "306920b5-df64-46a4-91f8-6b8010edb275",
      "cell_type": "code",
      "metadata": {
        "noteable": {
          "cell_type": "python",
          "output_collection_id": "07b752ca-8fea-4877-89ea-c455ebb96bf3"
        },
        "ExecuteTime": {
          "end_time": "2023-07-14T14:17:14.833044+00:00",
          "start_time": "2023-07-14T14:17:14.647179+00:00"
        },
        "datalink": {
          "d270df5b-88cc-496e-a686-d506f76cc633": {
            "applied_filters": [],
            "dataframe_info": {
              "default_index_used": true,
              "orig_num_cols": 9,
              "orig_num_rows": 74,
              "orig_size_bytes": 5920,
              "truncated_num_cols": 9,
              "truncated_num_rows": 74,
              "truncated_size_bytes": 5920,
              "truncated_string_columns": []
            },
            "display_id": "d270df5b-88cc-496e-a686-d506f76cc633",
            "dx_settings": {
              "ALLOW_NOTEABLE_ATTRS": true,
              "COLUMN_SAMPLING_METHOD": "outer",
              "DB_LOCATION": ":memory:",
              "DEV_MODE": false,
              "DISPLAY_MAX_COLUMNS": 100,
              "DISPLAY_MAX_ROWS": 50000,
              "DISPLAY_MODE": "simple",
              "ENABLE_ASSIGNMENT": true,
              "ENABLE_DATALINK": true,
              "FLATTEN_COLUMN_VALUES": true,
              "FLATTEN_INDEX_VALUES": false,
              "GENERATE_DEX_METADATA": false,
              "HTML_TABLE_SCHEMA": false,
              "LOG_LEVEL": 30,
              "MAX_RENDER_SIZE_BYTES": 104857600,
              "MAX_STRING_LENGTH": 250,
              "NUM_PAST_SAMPLES_TRACKED": 3,
              "RANDOM_STATE": 12648430,
              "RESET_INDEX_VALUES": false,
              "ROW_SAMPLING_METHOD": "random",
              "SAMPLING_FACTOR": 0.1,
              "SAMPLING_METHOD": "random",
              "STRINGIFY_COLUMN_VALUES": true,
              "STRINGIFY_INDEX_VALUES": false
            },
            "sample_history": [],
            "sampling_time": "2023-07-06T19:46:33.332528",
            "user_variable_name": null,
            "variable_name": "unk_dataframe_5a8b6f95e6494262a4f68b26f2c9ef6b"
          }
        }
      },
      "execution_count": null,
      "source": "conditioned_concrete = pl.DataFrame(\n  {\n    'Cement (kg/m³)': 420,\n    'Blast Furnace Slag (kg/m³)': 50,\n    'Fly Ash (kg/m³)': 10,\n    'Water (kg/m³)': 150,\n    'Superplasticizer (kg/m³)': 0,\n    'Coarse Aggregate (kg/m³)': 900,\n    'Fine Aggregate (kg/m³)': 800,\n    'Age (day)': np.linspace(0, 150, 151)\n  }\n)\n\nconditioned_concrete = (\n    conditioned_concrete\n    .with_columns(pl.Series(\n        rf_concrete.predict(conditioned_concrete)\n    ).alias('Predicted compressive strength with RF (MPa)'))\n)\n\n(\n    ggplot(\n        data = conditioned_concrete,\n        mapping = aes(x='Age (day)', y='Predicted compressive strength with RF (MPa)')\n    )\n    + geom_line()\n)",
      "outputs": []
    },
    {
      "id": "9de55355-47bc-498b-9abb-00f3aafe669f",
      "cell_type": "markdown",
      "source": "Dans les désavantages nommés plus haut, j'écrivais \"les régressions ne donnent pas des réponses lisses\". Vous voyez l'effet!",
      "metadata": {
        "noteable": {
          "cell_type": "markdown"
        }
      }
    },
    {
      "id": "0f0f179b-85c6-4e95-b631-d8dd0c7b3baa",
      "cell_type": "markdown",
      "source": "## Gradient Boosting\n\nLe *gradient boosting* est semblable au *random forest*, mais qui est construit de sorte à modéliser d'abord les données, puis les erreurs sur les données. Ainsi, chaque nouvel arbre se concentre de plus en plus sur les difficultés rencontrées par les arbres précédents.  Il est en général très apprécié par la communauté du machine learning. Je vous invite à l'essayer à même ce carnet de calcul, pour le béton, avec `GradientBoostingRegressor`.\n\n### Avantages\n\n- Peut gérer des données de types mixtes.\n- Peut gérer des problèmes de classification et de régression.\n- Fournit une estimation de l'importance des caractéristiques.\n\n### Inconvénients\n\n- Moins interprétable qu'un arbre de décision unique.\n- Peut surapprendre si le nombre d'arbres n'est pas bien réglé.\n- Peut être sensible aux valeurs aberrantes.",
      "metadata": {
        "noteable": {
          "cell_type": "markdown"
        }
      }
    },
    {
      "id": "1d2d228c-3ba2-4b95-9d76-5761c79bfa27",
      "cell_type": "code",
      "metadata": {
        "noteable": {
          "cell_type": "code",
          "output_collection_id": "a9511ce4-a99f-432f-8f4d-9ebb93854658"
        },
        "ExecuteTime": {
          "end_time": "2023-07-14T14:19:23.791688+00:00",
          "start_time": "2023-07-14T14:19:23.634993+00:00"
        }
      },
      "execution_count": null,
      "source": "from sklearn.ensemble import GradientBoostingRegressor",
      "outputs": []
    },
    {
      "id": "49137506-3d10-4bfc-852a-8b0a76d3923d",
      "cell_type": "markdown",
      "source": "## Réseaux de neurones\n\nLes réseaux de neurones sont un ensemble de techniques d'apprentissage automatique qui ont été inspirées par le fonctionnement du cerveau humain. Ils sont constitués de neurones artificiels, ou nœuds, qui sont connectés les uns aux autres et qui transmettent des signaux entre eux.\n\nLes principes sont simples...\n\nVOIR RAPPORT\n\n### Avantages\n\n- Peuvent modéliser des relations complexes et non linéaires.\n- Peuvent apprendre à partir de données brutes, ce qui signifie qu'ils peuvent souvent éviter le besoin d'un prétraitement manuel des données.\n- Sont particulièrement efficaces pour les problèmes de classification et de régression.\n\n### Inconvénients\n\n- Peuvent nécessiter beaucoup de temps et de ressources pour s'entraîner.\n- Sont souvent considérés comme une boîte noire, ce qui signifie qu'il peut être difficile de comprendre pourquoi ils font certaines prédictions.\n- Peuvent surapprendre si le nombre de neurones et de couches n'est pas bien réglé.",
      "metadata": {
        "noteable": {
          "cell_type": "markdown"
        }
      }
    },
    {
      "id": "08462b4c-d8c2-40e7-9f74-a3dff4f29205",
      "cell_type": "markdown",
      "source": "Nous allons, de nouveau, modéliser la résistance en compression du béton. Mais cette fois-ci, nous utiliserons le tableau mis à l'échelle `X_train_concrete_sc`.",
      "metadata": {
        "noteable": {
          "cell_type": "markdown"
        }
      }
    },
    {
      "id": "afe94374-4305-4cff-a38d-f4498454ef6b",
      "cell_type": "code",
      "metadata": {
        "noteable": {
          "cell_type": "code",
          "output_collection_id": "95624196-adac-43ac-be2d-c46d62f8ff52"
        },
        "ExecuteTime": {
          "end_time": "2023-07-14T14:00:40.861242+00:00",
          "start_time": "2023-07-14T14:00:39.646776+00:00"
        }
      },
      "execution_count": null,
      "source": "from sklearn.neural_network import MLPRegressor\n\nnn_concrete = MLPRegressor(\n    hidden_layer_sizes = (32, 32, 32),\n    activation = 'relu',\n    solver = 'adam'\n)\nnn_concrete.fit(X_train_concrete_sc, y_train_concrete_sc)\ny_pred_concrete_sc = nn_concrete.predict(X_test_concrete_sc)\n\nr2_concrete = r2_score(y_test_concrete_sc, y_pred_concrete_sc)\nprint(f\"Le R2 du modèle est de {r2_concrete}\")\n\nnn_concrete_true_pred = pl.DataFrame(dict(\n    observed = y_test_concrete_sc.flatten(),\n    predicted = y_pred_concrete_sc\n))\n\n(\n    ggplot(nn_concrete_true_pred, aes(x='observed', y='predicted'))\n    + geom_point()\n    + coord_fixed()\n)\n",
      "outputs": []
    },
    {
      "id": "5e604edc-f2a1-4842-8d8e-8d5b9e91584f",
      "cell_type": "code",
      "metadata": {
        "jupyter": {
          "outputs_hidden": false,
          "source_hidden": false
        },
        "noteable": {
          "cell_type": "code",
          "output_collection_id": "747b0c5f-41c0-4e76-b377-c8ffd96c635f"
        },
        "ExecuteTime": {
          "end_time": "2023-07-14T14:16:50.494171+00:00",
          "start_time": "2023-07-14T14:16:50.317688+00:00"
        },
        "datalink": {
          "a9c86543-5809-4928-8bf1-6869d4890c63": {
            "applied_filters": [],
            "dataframe_info": {
              "default_index_used": true,
              "orig_num_cols": 1,
              "orig_num_rows": 151,
              "orig_size_bytes": 2416,
              "truncated_num_cols": 1,
              "truncated_num_rows": 151,
              "truncated_size_bytes": 2416,
              "truncated_string_columns": []
            },
            "display_id": "a9c86543-5809-4928-8bf1-6869d4890c63",
            "dx_settings": {
              "ALLOW_NOTEABLE_ATTRS": true,
              "COLUMN_SAMPLING_METHOD": "outer",
              "DB_LOCATION": ":memory:",
              "DEV_MODE": false,
              "DISPLAY_MAX_COLUMNS": 100,
              "DISPLAY_MAX_ROWS": 50000,
              "DISPLAY_MODE": "simple",
              "ENABLE_ASSIGNMENT": true,
              "ENABLE_DATALINK": true,
              "FLATTEN_COLUMN_VALUES": true,
              "FLATTEN_INDEX_VALUES": false,
              "GENERATE_DEX_METADATA": false,
              "HTML_TABLE_SCHEMA": false,
              "LOG_LEVEL": 30,
              "MAX_RENDER_SIZE_BYTES": 104857600,
              "MAX_STRING_LENGTH": 250,
              "NUM_PAST_SAMPLES_TRACKED": 3,
              "RANDOM_STATE": 12648430,
              "RESET_INDEX_VALUES": false,
              "ROW_SAMPLING_METHOD": "random",
              "SAMPLING_FACTOR": 0.1,
              "SAMPLING_METHOD": "random",
              "STRINGIFY_COLUMN_VALUES": true,
              "STRINGIFY_INDEX_VALUES": false
            },
            "sample_history": [],
            "sampling_time": "2023-07-06T20:19:20.477906",
            "user_variable_name": null,
            "variable_name": "unk_dataframe_22e56835330e43a8b30ef206729c48e0"
          }
        }
      },
      "execution_count": null,
      "source": "# Mettre X à l'échelle transformée\nconditioned_concrete_sc = (\n    xscaler_concrete\n    .transform(conditioned_concrete.select(concrete_features))\n)\n\n# Prédire y\ny_pred_sc = nn_concrete.predict(conditioned_concrete_sc)\ny_pred = yscaler_concrete.inverse_transform(y_pred_sc.reshape(-1, 1))\nconditioned_concrete = (\n    conditioned_concrete\n    .with_columns(\n        pl.Series(y_pred.flatten()).alias('Predicted compressive strength with NN (MPa)')\n    )\n)\n\n(\n    ggplot(\n        data = conditioned_concrete,\n        mapping = aes(x='Age (day)', y='Predicted compressive strength with NN (MPa)')\n    )\n    + geom_line()\n)",
      "outputs": []
    },
    {
      "id": "33b047ca-f687-4f97-aa01-ca53cd3900cd",
      "cell_type": "markdown",
      "source": "## Processus gaussiens\n\nUn processus gaussien est une généralisation de la distribution normale multivariée à un nombre infini de dimensions, défini par une fonction de moyenne et une fonction de covariance. En centrant la variable de sortie, on peut dans la plupart des cas supposer que la moyenne est toujours nulle, et on ne définira qu'une fonction de covariance (aussi appelée noyau, ou *kernel*). Chaque point dans un certain espace continu est associé à une variable aléatoire normalement distribuée. Une fois conditionnée aux observations, on aura une idée de la prédiction en échantillonnant plusieurs observations aléatoires. Le résultat sera une distribution de probabilité, de laquelle on pourra extraire la moyenne pour avoir une estimation ponctuelle.\n\n### Avantages\n\n- Peut modéliser des relations complexes et non linéaires.\n- Fournit des mesures d'incertitude avec les prédictions.\n- Très flexible grâce à la sélection du noyau.\n\n### Inconvénients\n\n- Le temps de calcul peut être très long pour les grands ensembles de données.\n- Le choix du noyau et des paramètres du noyau peut avoir un grand impact sur les performances du modèle.\n\n**Important**. La valeur par défaut de `alpha` de la fonction `GaussianProcessRgressor` est de 1E-10.  C'est très faible. Cette valeur doit être ramenée à environ 0.5 pour que le modèle fonctionne. Donc n'oubliez jamais de spécifier `alpha`!",
      "metadata": {
        "noteable": {
          "cell_type": "markdown"
        }
      }
    },
    {
      "id": "6a5bfb02-e555-4cb4-8dc3-9777ed8cf0eb",
      "cell_type": "code",
      "metadata": {
        "noteable": {
          "cell_type": "python",
          "output_collection_id": "74e20ade-507a-4cf4-a827-a56aa3aa9e7f"
        },
        "ExecuteTime": {
          "end_time": "2023-07-14T14:16:20.101129+00:00",
          "start_time": "2023-07-14T14:16:14.347642+00:00"
        }
      },
      "execution_count": null,
      "source": "from sklearn.gaussian_process import GaussianProcessRegressor\nfrom sklearn.gaussian_process.kernels import RBF\n\n# Noyau\n## le multiplicateur (0.5) défini l'amplitude possible du signal\n## lenght_scale est optimisée, elle défini la fréquence possible du signal\ngp_kernel = RBF(length_scale = 1.0)\ngp_concrete = GaussianProcessRegressor(alpha = 0.5, kernel = gp_kernel)\ngp_concrete.fit(X_train_concrete_sc, y_train_concrete_sc)\ny_pred_concrete_sc = gp_concrete.predict(X_test_concrete_sc)\nr2_concrete = r2_score(y_test_concrete_sc, y_pred_concrete_sc)\nprint(f\"Le R2 du modèle est de {r2_concrete}\")\n\ngp_concrete_true_pred = pl.DataFrame(dict(\n    observed = y_test_concrete_sc.flatten(),\n    predicted = y_pred_concrete_sc\n))\n\n(\n    ggplot(gp_concrete_true_pred, aes(x='observed', y='predicted'))\n    + geom_point()\n    + coord_fixed()\n)",
      "outputs": []
    },
    {
      "id": "28919e9b-25c4-418f-a212-925c76749e33",
      "cell_type": "markdown",
      "source": "Rappelons-nous que les processus gaussiens génèrent des distributions. Les points que vous voyez sur le graphique précédent sont les tendances centrales obtenues par la méthode `.predict()`. Des échantillons pris au hasard dans la distribution sont accessibles par la méthode `.sample_y()`.",
      "metadata": {
        "noteable": {
          "cell_type": "markdown"
        }
      }
    },
    {
      "id": "86136570-0f57-4aa8-b7d1-cf97e1f27eec",
      "cell_type": "code",
      "metadata": {
        "jupyter": {
          "outputs_hidden": false,
          "source_hidden": false
        },
        "noteable": {
          "cell_type": "code",
          "output_collection_id": "3b9087c9-e9be-44be-baad-03184f72dd7d"
        },
        "ExecuteTime": {
          "end_time": "2023-07-14T14:04:36.395332+00:00",
          "start_time": "2023-07-14T14:04:34.542928+00:00"
        }
      },
      "execution_count": null,
      "source": "# Prédire y\ny_pred_sc = gp_concrete.predict(conditioned_concrete_sc)\ny_samples_sc = gp_concrete.sample_y(conditioned_concrete_sc, n_samples=50)\ny_samples_sc.shape",
      "outputs": []
    },
    {
      "id": "6427e1ee-b8c3-43ab-8153-2f5e6dc09f07",
      "cell_type": "markdown",
      "source": "Remettons la résistance en compression dans son échelle originale, puis mettons en forme un tableau propre à être représenté graphiquement sur *Lets-Plot*.",
      "metadata": {
        "noteable": {
          "cell_type": "markdown"
        }
      }
    },
    {
      "id": "3a0f908a-3272-46e7-a4c9-a9c357af422f",
      "cell_type": "code",
      "metadata": {
        "jupyter": {
          "outputs_hidden": false,
          "source_hidden": false
        },
        "noteable": {
          "cell_type": "code",
          "output_collection_id": "8b69f226-b16b-4ea7-b9e9-f17457c22ce8"
        },
        "ExecuteTime": {
          "end_time": "2023-07-14T14:16:20.299839+00:00",
          "start_time": "2023-07-14T14:16:20.116164+00:00"
        },
        "datalink": {
          "5ca1953a-337a-48e7-8e0d-e83325f485ff": {
            "applied_filters": [],
            "dataframe_info": {
              "default_index_used": true,
              "orig_num_cols": 20,
              "orig_num_rows": 151,
              "orig_size_bytes": 25368,
              "truncated_num_cols": 20,
              "truncated_num_rows": 151,
              "truncated_size_bytes": 25368,
              "truncated_string_columns": []
            },
            "display_id": "5ca1953a-337a-48e7-8e0d-e83325f485ff",
            "dx_settings": {
              "ALLOW_NOTEABLE_ATTRS": true,
              "COLUMN_SAMPLING_METHOD": "outer",
              "DB_LOCATION": ":memory:",
              "DEV_MODE": false,
              "DISPLAY_MAX_COLUMNS": 100,
              "DISPLAY_MAX_ROWS": 50000,
              "DISPLAY_MODE": "simple",
              "ENABLE_ASSIGNMENT": true,
              "ENABLE_DATALINK": true,
              "FLATTEN_COLUMN_VALUES": true,
              "FLATTEN_INDEX_VALUES": false,
              "GENERATE_DEX_METADATA": false,
              "HTML_TABLE_SCHEMA": false,
              "LOG_LEVEL": 30,
              "MAX_RENDER_SIZE_BYTES": 104857600,
              "MAX_STRING_LENGTH": 250,
              "NUM_PAST_SAMPLES_TRACKED": 3,
              "RANDOM_STATE": 12648430,
              "RESET_INDEX_VALUES": false,
              "ROW_SAMPLING_METHOD": "random",
              "SAMPLING_FACTOR": 0.1,
              "SAMPLING_METHOD": "random",
              "STRINGIFY_COLUMN_VALUES": true,
              "STRINGIFY_INDEX_VALUES": false
            },
            "sample_history": [],
            "sampling_time": "2023-07-07T19:29:18.033957",
            "user_variable_name": null,
            "variable_name": "unk_dataframe_a62b12eae4a14c5684a60f14a881dac7"
          }
        }
      },
      "execution_count": null,
      "source": "y_pred = yscaler_concrete.inverse_transform(y_pred_sc.reshape(-1, 1))\nsample_name = ['sample ' + str(i) for i in range(y_samples_sc.shape[1])]\ny_samples = pl.DataFrame(\n    yscaler_concrete.inverse_transform(y_samples_sc),\n    schema = sample_name\n)",
      "outputs": []
    },
    {
      "id": "a386fd6f-7da4-4abf-83f3-199d47b5e7e6",
      "cell_type": "code",
      "metadata": {
        "jupyter": {
          "outputs_hidden": false,
          "source_hidden": false
        },
        "noteable": {
          "cell_type": "code",
          "output_collection_id": "7b592bd7-310f-4727-834c-0bdb853c61c7"
        },
        "ExecuteTime": {
          "end_time": "2023-07-14T14:16:20.708726+00:00",
          "start_time": "2023-07-14T14:16:20.309250+00:00"
        },
        "datalink": {
          "944a2985-37e3-4e41-95e3-87748c8a1cb5": {
            "applied_filters": [],
            "dataframe_info": {
              "default_index_used": true,
              "orig_num_cols": 11,
              "orig_num_rows": 151,
              "orig_size_bytes": 14496,
              "truncated_num_cols": 11,
              "truncated_num_rows": 151,
              "truncated_size_bytes": 14496,
              "truncated_string_columns": []
            },
            "display_id": "944a2985-37e3-4e41-95e3-87748c8a1cb5",
            "dx_settings": {
              "ALLOW_NOTEABLE_ATTRS": true,
              "COLUMN_SAMPLING_METHOD": "outer",
              "DB_LOCATION": ":memory:",
              "DEV_MODE": false,
              "DISPLAY_MAX_COLUMNS": 100,
              "DISPLAY_MAX_ROWS": 50000,
              "DISPLAY_MODE": "simple",
              "ENABLE_ASSIGNMENT": true,
              "ENABLE_DATALINK": true,
              "FLATTEN_COLUMN_VALUES": true,
              "FLATTEN_INDEX_VALUES": false,
              "GENERATE_DEX_METADATA": false,
              "HTML_TABLE_SCHEMA": false,
              "LOG_LEVEL": 30,
              "MAX_RENDER_SIZE_BYTES": 104857600,
              "MAX_STRING_LENGTH": 250,
              "NUM_PAST_SAMPLES_TRACKED": 3,
              "RANDOM_STATE": 12648430,
              "RESET_INDEX_VALUES": false,
              "ROW_SAMPLING_METHOD": "random",
              "SAMPLING_FACTOR": 0.1,
              "SAMPLING_METHOD": "random",
              "STRINGIFY_COLUMN_VALUES": true,
              "STRINGIFY_INDEX_VALUES": false
            },
            "sample_history": [],
            "sampling_time": "2023-07-07T19:31:12.260338",
            "user_variable_name": null,
            "variable_name": "unk_dataframe_1473203392dc4eaca13779ec43960da9"
          },
          "b06caa41-04b3-48b9-a52f-a0e095bc9efc": {
            "applied_filters": [],
            "dataframe_info": {
              "default_index_used": true,
              "orig_num_cols": 11,
              "orig_num_rows": 151,
              "orig_size_bytes": 14496,
              "truncated_num_cols": 11,
              "truncated_num_rows": 151,
              "truncated_size_bytes": 14496,
              "truncated_string_columns": []
            },
            "display_id": "b06caa41-04b3-48b9-a52f-a0e095bc9efc",
            "dx_settings": {
              "ALLOW_NOTEABLE_ATTRS": true,
              "COLUMN_SAMPLING_METHOD": "outer",
              "DB_LOCATION": ":memory:",
              "DEV_MODE": false,
              "DISPLAY_MAX_COLUMNS": 100,
              "DISPLAY_MAX_ROWS": 50000,
              "DISPLAY_MODE": "simple",
              "ENABLE_ASSIGNMENT": true,
              "ENABLE_DATALINK": true,
              "FLATTEN_COLUMN_VALUES": true,
              "FLATTEN_INDEX_VALUES": false,
              "GENERATE_DEX_METADATA": false,
              "HTML_TABLE_SCHEMA": false,
              "LOG_LEVEL": 30,
              "MAX_RENDER_SIZE_BYTES": 104857600,
              "MAX_STRING_LENGTH": 250,
              "NUM_PAST_SAMPLES_TRACKED": 3,
              "RANDOM_STATE": 12648430,
              "RESET_INDEX_VALUES": false,
              "ROW_SAMPLING_METHOD": "random",
              "SAMPLING_FACTOR": 0.1,
              "SAMPLING_METHOD": "random",
              "STRINGIFY_COLUMN_VALUES": true,
              "STRINGIFY_INDEX_VALUES": false
            },
            "sample_history": [],
            "sampling_time": "2023-07-07T19:31:22.114598",
            "user_variable_name": null,
            "variable_name": "unk_dataframe_46667da8c0b642cca519f616fea8f8d0"
          },
          "c125a3aa-d64f-4eac-97a4-41ae10f89406": {
            "applied_filters": [],
            "dataframe_info": {
              "default_index_used": true,
              "orig_num_cols": 31,
              "orig_num_rows": 151,
              "orig_size_bytes": 38656,
              "truncated_num_cols": 31,
              "truncated_num_rows": 151,
              "truncated_size_bytes": 38656,
              "truncated_string_columns": []
            },
            "display_id": "c125a3aa-d64f-4eac-97a4-41ae10f89406",
            "dx_settings": {
              "ALLOW_NOTEABLE_ATTRS": true,
              "COLUMN_SAMPLING_METHOD": "outer",
              "DB_LOCATION": ":memory:",
              "DEV_MODE": false,
              "DISPLAY_MAX_COLUMNS": 100,
              "DISPLAY_MAX_ROWS": 50000,
              "DISPLAY_MODE": "simple",
              "ENABLE_ASSIGNMENT": true,
              "ENABLE_DATALINK": true,
              "FLATTEN_COLUMN_VALUES": true,
              "FLATTEN_INDEX_VALUES": false,
              "GENERATE_DEX_METADATA": false,
              "HTML_TABLE_SCHEMA": false,
              "LOG_LEVEL": 30,
              "MAX_RENDER_SIZE_BYTES": 104857600,
              "MAX_STRING_LENGTH": 250,
              "NUM_PAST_SAMPLES_TRACKED": 3,
              "RANDOM_STATE": 12648430,
              "RESET_INDEX_VALUES": false,
              "ROW_SAMPLING_METHOD": "random",
              "SAMPLING_FACTOR": 0.1,
              "SAMPLING_METHOD": "random",
              "STRINGIFY_COLUMN_VALUES": true,
              "STRINGIFY_INDEX_VALUES": false
            },
            "sample_history": [],
            "sampling_time": "2023-07-07T19:35:00.361251",
            "user_variable_name": null,
            "variable_name": "unk_dataframe_690aaf5165654305a2c9b714b1f6ffc0"
          },
          "4aeac642-22f2-42d6-87ff-7d0cfba98ecf": {
            "applied_filters": [],
            "dataframe_info": {
              "default_index_used": true,
              "orig_num_cols": 21,
              "orig_num_rows": 151,
              "orig_size_bytes": 26576,
              "truncated_num_cols": 21,
              "truncated_num_rows": 151,
              "truncated_size_bytes": 26576,
              "truncated_string_columns": []
            },
            "display_id": "4aeac642-22f2-42d6-87ff-7d0cfba98ecf",
            "dx_settings": {
              "ALLOW_NOTEABLE_ATTRS": true,
              "COLUMN_SAMPLING_METHOD": "outer",
              "DB_LOCATION": ":memory:",
              "DEV_MODE": false,
              "DISPLAY_MAX_COLUMNS": 100,
              "DISPLAY_MAX_ROWS": 50000,
              "DISPLAY_MODE": "simple",
              "ENABLE_ASSIGNMENT": true,
              "ENABLE_DATALINK": true,
              "FLATTEN_COLUMN_VALUES": true,
              "FLATTEN_INDEX_VALUES": false,
              "GENERATE_DEX_METADATA": false,
              "HTML_TABLE_SCHEMA": false,
              "LOG_LEVEL": 30,
              "MAX_RENDER_SIZE_BYTES": 104857600,
              "MAX_STRING_LENGTH": 250,
              "NUM_PAST_SAMPLES_TRACKED": 3,
              "RANDOM_STATE": 12648430,
              "RESET_INDEX_VALUES": false,
              "ROW_SAMPLING_METHOD": "random",
              "SAMPLING_FACTOR": 0.1,
              "SAMPLING_METHOD": "random",
              "STRINGIFY_COLUMN_VALUES": true,
              "STRINGIFY_INDEX_VALUES": false
            },
            "sample_history": [],
            "sampling_time": "2023-07-07T19:39:23.237126",
            "user_variable_name": null,
            "variable_name": "unk_dataframe_c6ce8ad51fce4c78ad6751af6f26ae3f"
          },
          "54f6ee65-b204-478c-88ad-e4b2bb31940f": {
            "applied_filters": [],
            "dataframe_info": {
              "default_index_used": true,
              "orig_num_cols": 3,
              "orig_num_rows": 3020,
              "orig_size_bytes": 96640,
              "truncated_num_cols": 3,
              "truncated_num_rows": 3020,
              "truncated_size_bytes": 96640,
              "truncated_string_columns": []
            },
            "display_id": "54f6ee65-b204-478c-88ad-e4b2bb31940f",
            "dx_settings": {
              "ALLOW_NOTEABLE_ATTRS": true,
              "COLUMN_SAMPLING_METHOD": "outer",
              "DB_LOCATION": ":memory:",
              "DEV_MODE": false,
              "DISPLAY_MAX_COLUMNS": 100,
              "DISPLAY_MAX_ROWS": 50000,
              "DISPLAY_MODE": "simple",
              "ENABLE_ASSIGNMENT": true,
              "ENABLE_DATALINK": true,
              "FLATTEN_COLUMN_VALUES": true,
              "FLATTEN_INDEX_VALUES": false,
              "GENERATE_DEX_METADATA": false,
              "HTML_TABLE_SCHEMA": false,
              "LOG_LEVEL": 30,
              "MAX_RENDER_SIZE_BYTES": 104857600,
              "MAX_STRING_LENGTH": 250,
              "NUM_PAST_SAMPLES_TRACKED": 3,
              "RANDOM_STATE": 12648430,
              "RESET_INDEX_VALUES": false,
              "ROW_SAMPLING_METHOD": "random",
              "SAMPLING_FACTOR": 0.1,
              "SAMPLING_METHOD": "random",
              "STRINGIFY_COLUMN_VALUES": true,
              "STRINGIFY_INDEX_VALUES": false
            },
            "sample_history": [],
            "sampling_time": "2023-07-07T19:39:50.332958",
            "user_variable_name": null,
            "variable_name": "unk_dataframe_757514fa8cb347539b867fe74035f27d"
          },
          "975dbd10-92c7-4a37-952b-a715c50f90ec": {
            "applied_filters": [],
            "dataframe_info": {
              "default_index_used": true,
              "orig_num_cols": 3,
              "orig_num_rows": 3020,
              "orig_size_bytes": 96640,
              "truncated_num_cols": 3,
              "truncated_num_rows": 3020,
              "truncated_size_bytes": 96640,
              "truncated_string_columns": []
            },
            "display_id": "975dbd10-92c7-4a37-952b-a715c50f90ec",
            "dx_settings": {
              "ALLOW_NOTEABLE_ATTRS": true,
              "COLUMN_SAMPLING_METHOD": "outer",
              "DB_LOCATION": ":memory:",
              "DEV_MODE": false,
              "DISPLAY_MAX_COLUMNS": 100,
              "DISPLAY_MAX_ROWS": 50000,
              "DISPLAY_MODE": "simple",
              "ENABLE_ASSIGNMENT": true,
              "ENABLE_DATALINK": true,
              "FLATTEN_COLUMN_VALUES": true,
              "FLATTEN_INDEX_VALUES": false,
              "GENERATE_DEX_METADATA": false,
              "HTML_TABLE_SCHEMA": false,
              "LOG_LEVEL": 30,
              "MAX_RENDER_SIZE_BYTES": 104857600,
              "MAX_STRING_LENGTH": 250,
              "NUM_PAST_SAMPLES_TRACKED": 3,
              "RANDOM_STATE": 12648430,
              "RESET_INDEX_VALUES": false,
              "ROW_SAMPLING_METHOD": "random",
              "SAMPLING_FACTOR": 0.1,
              "SAMPLING_METHOD": "random",
              "STRINGIFY_COLUMN_VALUES": true,
              "STRINGIFY_INDEX_VALUES": false
            },
            "sample_history": [],
            "sampling_time": "2023-07-07T19:41:01.316249",
            "user_variable_name": null,
            "variable_name": "unk_dataframe_ddc4ade18c424ac28926517694087c21"
          }
        }
      },
      "execution_count": null,
      "source": "conditioned_concrete = (\n    conditioned_concrete\n    .with_columns(\n        pl.Series(y_pred.flatten()).alias('Predicted compressive strength with GP (MPa)')\n    )\n)\n\ny_samples_tidy = (\n    y_samples\n    .with_columns(conditioned_concrete['Age (day)'])\n    .melt(id_vars='Age (day)', value_name='Predicted compressive strength with GP (MPa)')\n)\n\n(\n    ggplot()\n    + geom_line(\n        data=y_samples_tidy,\n        mapping=aes(x='Age (day)', y='Predicted compressive strength with GP (MPa)', group='variable'),\n        color='#CCCCCC'\n    )\n    + geom_line(\n        data = conditioned_concrete,\n        mapping = aes(x='Age (day)', y='Predicted compressive strength with GP (MPa)'),\n        size=2\n    )\n)",
      "outputs": []
    },
    {
      "id": "cd35d050-10d2-4994-9959-d987a78d2866",
      "cell_type": "markdown",
      "source": "## Importance des variables\n\nL'importance des variables est une technique qui attribue un score à chaque variable d'entrée en fonction de la quantité d'information que cette variable apporte pour prédire la variable cible. C'est une technique très utile pour comprendre quels sont les facteurs les plus influents dans notre modèle. La manière de calculer les scores d'importance diffère d'un modèle à l'autre. Certains modèles, comme les réseaux de neurones et les processus gaussiens, n'offrent pas la méthode `.feature_importances_`.\n\nNous allons calculer l'importance des variables pour notre modèle d'arbre de décision.",
      "metadata": {
        "noteable": {
          "cell_type": "markdown"
        }
      }
    },
    {
      "id": "6d083a15-5b3c-4c9c-a8bf-62fab5ef3b21",
      "cell_type": "code",
      "metadata": {
        "noteable": {
          "cell_type": "python",
          "output_collection_id": "a73c7b81-86f8-4f5a-aafe-215af4b77f31"
        },
        "ExecuteTime": {
          "end_time": "2023-07-14T14:05:29.312533+00:00",
          "start_time": "2023-07-14T14:05:29.147987+00:00"
        },
        "datalink": {
          "ba8b1b94-3641-44e9-b9d3-a5921ce43873": {
            "applied_filters": [],
            "dataframe_info": {
              "default_index_used": true,
              "orig_num_cols": 2,
              "orig_num_rows": 4,
              "orig_size_bytes": 96,
              "truncated_num_cols": 2,
              "truncated_num_rows": 4,
              "truncated_size_bytes": 96,
              "truncated_string_columns": []
            },
            "display_id": "ba8b1b94-3641-44e9-b9d3-a5921ce43873",
            "dx_settings": {
              "ALLOW_NOTEABLE_ATTRS": true,
              "COLUMN_SAMPLING_METHOD": "outer",
              "DB_LOCATION": ":memory:",
              "DEV_MODE": false,
              "DISPLAY_MAX_COLUMNS": 100,
              "DISPLAY_MAX_ROWS": 50000,
              "DISPLAY_MODE": "simple",
              "ENABLE_ASSIGNMENT": true,
              "ENABLE_DATALINK": true,
              "FLATTEN_COLUMN_VALUES": true,
              "FLATTEN_INDEX_VALUES": false,
              "GENERATE_DEX_METADATA": false,
              "HTML_TABLE_SCHEMA": false,
              "LOG_LEVEL": 30,
              "MAX_RENDER_SIZE_BYTES": 104857600,
              "MAX_STRING_LENGTH": 250,
              "NUM_PAST_SAMPLES_TRACKED": 3,
              "RANDOM_STATE": 12648430,
              "RESET_INDEX_VALUES": false,
              "ROW_SAMPLING_METHOD": "random",
              "SAMPLING_FACTOR": 0.1,
              "SAMPLING_METHOD": "random",
              "STRINGIFY_COLUMN_VALUES": true,
              "STRINGIFY_INDEX_VALUES": false
            },
            "sample_history": [],
            "sampling_time": "2023-07-07T20:21:26.831056",
            "user_variable_name": null,
            "variable_name": "unk_dataframe_d0a7aed78a04492f99987da7525075ff"
          }
        }
      },
      "execution_count": null,
      "source": "fi_penguins = pl.DataFrame({\n    'Feature': penguins_features,\n    'Importance': dt_penguins.feature_importances_\n}).sort(by = 'Importance')\n\nggplot(fi_penguins, aes(x='Feature', y='Importance')) + geom_lollipop() + coord_flip()",
      "outputs": []
    }
  ]
}