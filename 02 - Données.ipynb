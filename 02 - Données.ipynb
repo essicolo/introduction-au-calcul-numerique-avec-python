{
  "cells": [
    {
      "cell_type": "markdown",
      "id": "aa146535-6f9e-4a35-ad0a-d1a4a4146b68",
      "metadata": {
        "noteable": {
          "cell_type": "markdown"
        },
        "tags": []
      },
      "source": [
        "# Données\n",
        "\n",
        "> **Dicton**. Proportions de temps voué aux calcul scientifique: 80% de nettoyage de données mal organisées, 20% de calcul.\n",
        "\n",
        "Une donnée est une valeur associée à une variable. Une variable peut être une dimension, une date, une couleur, le résultat d'un test statistique, à laquelle on attribue la valeur quantitative ou qualitative d'un chiffre, d'une chaîne de caractère, d'un symbole conventionné, etc.\n",
        "\n",
        "Ce chapitre traite de l'importation, l'utilisation et l'exportation de données structurées, en Python, sous forme de vecteurs, matrices, tableaux et ensemble de tableaux (bases de données).\n",
        "\n",
        "Bien qu'il soit toujours préférable d'organiser les structures qui accueilleront les données d'une expérience avant-même de procéder à la collecte de données, l'analyste doit s'attendre à réorganiser ses données en cours de route. Or, des données bien organisées au départ faciliteront aussi leur réorganisation.\n",
        "\n",
        "Ce chapitre débute avec quelques définitions : les données et leurs types, les vecteurs, les matrices, les tableaux et les bases de données, ainsi que leur signification en Python. Puis, nous verrons comment organiser un tableau selon quelques règles simples, mais importantes pour éviter les erreurs et les opérations fastidieuses pour reconstruire un tableau mal conçu. Ensuite, nous traiterons des formats de tableau courant, pour enfin passer à l'utilisation de pandas, une bibliothèque Python utile pour effectuer des opérations sur les tableaux."
      ]
    },
    {
      "cell_type": "markdown",
      "id": "6e868e51",
      "metadata": {
        "tags": []
      },
      "source": [
        "## Types de données\n",
        "\n",
        "Dans la section précédente, nous avons survolé différents types d'objets : réels, entiers, chaînes de caractères et booléens. Les données peuvent appartenir à d'autres types : dates, catégories ordinales (ordonnées : faible, moyen, élevé) et nominales (non-ordonnées : espèces, cultivars, couleurs, etc.).\n"
      ]
    },
    {
      "cell_type": "markdown",
      "id": "5bcdc338",
      "metadata": {
        "tags": []
      },
      "source": [
        "## Vecteurs\n",
        "\n",
        "Dans la section d'introduction à Python, nous avons vu comment Python permet d'organiser des collections d'objets. Bien qu'il soit important de connaître leur existence pour apprendre à maîtriser Python, les listes et les dictionnaires sont peu pratiques pour le calcul. Par exemple, Python ne permet pas d'effectuer les opérations entre les scalaires et les listes."
      ]
    },
    {
      "cell_type": "code",
      "execution_count": 2,
      "id": "93ca4d90",
      "metadata": {
        "ExecuteTime": {
          "end_time": "2023-07-13T18:36:45.461829+00:00",
          "start_time": "2023-07-13T18:36:44.900181+00:00"
        },
        "inputHidden": false,
        "noteable": {
          "output_collection_id": "ab919ea9-29cf-47f0-9efe-a862cc461f93"
        },
        "outputHidden": false,
        "tags": []
      },
      "outputs": [
        {
          "ename": "TypeError",
          "evalue": "can only concatenate list (not \"int\") to list",
          "output_type": "error",
          "traceback": [
            "\u001b[0;31m---------------------------------------------------------------------------\u001b[0m",
            "\u001b[0;31mTypeError\u001b[0m                                 Traceback (most recent call last)",
            "\u001b[1;32m/Users/essi/Documents/GitHub/introduction-au-calcul-numerique-avec-python/02 - Données.ipynb Cellule 4\u001b[0m line \u001b[0;36m2\n\u001b[1;32m      <a href='vscode-notebook-cell:/Users/essi/Documents/GitHub/introduction-au-calcul-numerique-avec-python/02%20-%20Donn%C3%A9es.ipynb#W3sZmlsZQ%3D%3D?line=0'>1</a>\u001b[0m ma_liste \u001b[39m=\u001b[39m [\u001b[39m1\u001b[39m, \u001b[39m2\u001b[39m, \u001b[39m3\u001b[39m, \u001b[39m4\u001b[39m]\n\u001b[0;32m----> <a href='vscode-notebook-cell:/Users/essi/Documents/GitHub/introduction-au-calcul-numerique-avec-python/02%20-%20Donn%C3%A9es.ipynb#W3sZmlsZQ%3D%3D?line=1'>2</a>\u001b[0m ma_liste \u001b[39m+\u001b[39;49m \u001b[39m1\u001b[39;49m\n",
            "\u001b[0;31mTypeError\u001b[0m: can only concatenate list (not \"int\") to list"
          ]
        }
      ],
      "source": [
        "ma_liste = [1, 2, 3, 4]\n",
        "ma_liste + 1"
      ]
    },
    {
      "cell_type": "markdown",
      "id": "2d29b425",
      "metadata": {
        "tags": []
      },
      "source": [
        "Pour les listes, il faudrait passer par des boucles... ce qui est loin d'être pratique. On préférera généralement utiliser des vecteurs, qui, grâce à la *vectorisation*, peuvent être soumis à des opérations avec des scalaires. Les vecteurs sont accessibles via le module Numpy. Par convention, les fonctions de Numpy sont importés avec l'alias `np`."
      ]
    },
    {
      "cell_type": "code",
      "execution_count": 3,
      "id": "84706afc",
      "metadata": {
        "ExecuteTime": {
          "end_time": "2023-07-13T18:37:20.773219+00:00",
          "start_time": "2023-07-13T18:37:20.612478+00:00"
        },
        "inputHidden": false,
        "noteable": {
          "output_collection_id": "13c24592-462e-4c00-9247-4c772c96316f"
        },
        "outputHidden": false,
        "tags": []
      },
      "outputs": [
        {
          "data": {
            "text/plain": [
              "array([2, 3, 4, 5])"
            ]
          },
          "execution_count": 3,
          "metadata": {},
          "output_type": "execute_result"
        }
      ],
      "source": [
        "import numpy as np\n",
        "mon_vecteur = np.array([1, 2, 3, 4])\n",
        "mon_vecteur + 1"
      ]
    },
    {
      "cell_type": "markdown",
      "id": "1c69098b",
      "metadata": {
        "tags": []
      },
      "source": [
        "Contrairement à une liste, un vecteur contient obligatoirement des valeurs même type. À défaut de définir un même type, Numpy transformera chaque valeur en chaîne de caractère."
      ]
    },
    {
      "cell_type": "code",
      "execution_count": 4,
      "id": "bbcf8dbb",
      "metadata": {
        "inputHidden": false,
        "noteable": {
          "output_collection_id": "72831cd3-91c1-4a87-bc38-09b056bd5a92"
        },
        "outputHidden": false,
        "tags": []
      },
      "outputs": [
        {
          "data": {
            "text/plain": [
              "[1, 2, 3, 'grenouille']"
            ]
          },
          "execution_count": 4,
          "metadata": {},
          "output_type": "execute_result"
        }
      ],
      "source": [
        "[1, 2, 3, 'grenouille'] # liste"
      ]
    },
    {
      "cell_type": "code",
      "execution_count": 5,
      "id": "817daa8a",
      "metadata": {
        "inputHidden": false,
        "noteable": {
          "output_collection_id": "2174eaf1-7730-4f46-97f2-948bb121d5ee"
        },
        "outputHidden": false,
        "tags": []
      },
      "outputs": [
        {
          "data": {
            "text/plain": [
              "array(['1', '2', '3', 'grenouille'], dtype='<U21')"
            ]
          },
          "execution_count": 5,
          "metadata": {},
          "output_type": "execute_result"
        }
      ],
      "source": [
        "np.array([1, 2, 3, 'grenouille']) # vecteur"
      ]
    },
    {
      "cell_type": "markdown",
      "id": "187d59a7",
      "metadata": {
        "tags": []
      },
      "source": [
        "## Matrices\n",
        "La matrice est une généralisation du vecteur. Alors que le vecteur a une seule dimension, la matrice accepte un nombre le dimension N (naturel positif) nécessaire pour l'application."
      ]
    },
    {
      "cell_type": "code",
      "execution_count": 6,
      "id": "4272c933",
      "metadata": {
        "inputHidden": false,
        "noteable": {
          "output_collection_id": "50d215d6-ce9f-48ae-9baf-df056dbdbae9"
        },
        "outputHidden": false,
        "tags": []
      },
      "outputs": [
        {
          "data": {
            "text/plain": [
              "array([[1, 2, 3],\n",
              "       [4, 5, 6],\n",
              "       [7, 8, 9]])"
            ]
          },
          "execution_count": 6,
          "metadata": {},
          "output_type": "execute_result"
        }
      ],
      "source": [
        "np.array([[1, 2, 3], [4, 5, 6], [7, 8, 9]])"
      ]
    },
    {
      "cell_type": "code",
      "execution_count": 7,
      "id": "1fa56f6d",
      "metadata": {
        "inputHidden": false,
        "noteable": {
          "output_collection_id": "92e8fc9d-49a0-4e1b-9650-8d794f988685"
        },
        "outputHidden": false,
        "tags": []
      },
      "outputs": [
        {
          "data": {
            "text/plain": [
              "array([[[ 1,  2,  3],\n",
              "        [ 4,  5,  6],\n",
              "        [ 7,  8,  9]],\n",
              "\n",
              "       [[10, 11, 12],\n",
              "        [13, 14, 15],\n",
              "        [16, 17, 18]]])"
            ]
          },
          "execution_count": 7,
          "metadata": {},
          "output_type": "execute_result"
        }
      ],
      "source": [
        "np.array([[[1, 2, 3], [4, 5, 6], [7, 8, 9]],\n",
        "         [[10, 11, 12], [13, 14, 15], [16, 17, 18]]])"
      ]
    },
    {
      "cell_type": "markdown",
      "id": "5b18ff32",
      "metadata": {
        "tags": []
      },
      "source": [
        "Une matrice 2D peut indiquer l'élévation d'un point dans l'espace x, y. En 3D, vous pouvez inclure non seulement l'élévation, mais aussi l'épaisseur de sol et d'autres variables. Ajouter une évolution dans le temps et vous obtenez une matrice 4D.\n",
        "\n",
        "Vous ne pourrez toutefois pas ajouter une couche d'une variable catégorielle dans une matrice numérique: comme les vecteurs, les matrices ne contiennent qu'un seul type de données.\n",
        "\n",
        "Elles sont utilisées surtout en modélisation. En analyse de données, on préférera les tableaux."
      ]
    },
    {
      "cell_type": "markdown",
      "id": "f0ff0e8f",
      "metadata": {
        "tags": []
      },
      "source": [
        "## Tableaux\n",
        "De manière générale, un tableau de données est une organisation de données en deux dimensions, comportant des *lignes* et des *colonnes*. Il est préférable de respecter la convention selon laquelle les lignes sont des observations et les colonnes sont des variables. Ainsi, un tableau est une collection de vecteurs de même longueur, chaque vecteur représentant une variable. Chaque variable est libre de prendre le type de données approprié. La position d'une donnée dans le vecteur correspond à une observation.\n",
        "\n",
        "## Base de données\n",
        "Imaginez que vous consignez des données de différents sites (A, B et C), et que chaque site possède ses propres caractéristiques. Il est redondant de décrire le site pour chaque observation. Vous préférerez créer deux tableaux: un pour décrire vos observations, et un autre pour décrire les sites. De cette manière, vous créez une collection de tableaux intereliés: une *base de données*.\n",
        "\n",
        "Dans Python, les données structurées en tableaux, ainsi que les opérations sur les tableaux, peuvent être gérés grâce aux modules *Pandas* ou *Polars*. Mais avant de se lancer dans l'utilisation de ces outils, voyons quelques règles à suivre pour bien structurer ses données."
      ]
    },
    {
      "cell_type": "markdown",
      "id": "30c9da7c",
      "metadata": {
        "tags": []
      },
      "source": [
        "## Organiser un tableau de données\n",
        "\n",
        "Afin de repérer chaque cellule d'un tableau, on attribue à chaque ligne et à chaque colonne colonnes un identifiant *unique*, que l'on nomme *indice* pour les lignes et *entête* pour les colonnes.\n",
        "\n",
        "***Règle no 1.** Une variable par colonne, une observation par ligne.* \n",
        "\n",
        "Les unités expérimentales sont décrites par une ou plusieurs variables par des chiffres ou des lettres. Chaque variable devrait être présente en une seule colonne, et chaque ligne devrait correspondre à une unité expérimentale où ces variables ont été mesurées. La règle parait simple, mais elle est rarement respectée. Prenez par exemple le tableau suivant.\n",
        "\n",
        "| Site | Traitement A | Traitement B | Traitement C |\n",
        "| --- | --- | --- | --- |\n",
        "| Sainte-Patente | 4.1 | 8.2 | 6.8 |\n",
        "| Sainte-Affaire | 5.8 | 5.9 | NA |\n",
        "| Saint-Gréement | 2.9 | 3.4 | 4.6 |\n",
        "\n",
        "*Tableau 1. Rendements obtenus sur les sites expérimentaux selon les traitements.*\n",
        "\n",
        "Qu'est-ce qui cloche avec ce tableau ? Chaque ligne est une observation, mais contient plusieurs observations d'une même variable, le rendement, qui devient étalé sur plusieurs colonnes. *À bien y penser*, le type de traitement est une variable et le rendement en est une autre :\n",
        "\n",
        "| Site | Traitement | Rendement |\n",
        "| --- | --- | --- |\n",
        "| Sainte-Patente | A | 4.1 |\n",
        "| Sainte-Patente | B | 8.2 |\n",
        "| Sainte-Patente | C | 6.8 |\n",
        "| Sainte-Affaire | A | 5.8 |\n",
        "| Sainte-Affaire | B | 5.9 |\n",
        "| Sainte-Affaire | C | NA |\n",
        "| Saint-Gréement | A | 2.9 |\n",
        "| Saint-Gréement | B | 3.4 |\n",
        "| Saint-Gréement | C | 4.6 |\n",
        "\n",
        "*Tableau 2. Rendements obtenus sur les sites expérimentaux selon les traitements.*\n",
        "\n",
        "Plus précisément, l'expression *à bien y penser* suggère une réflexion sur la signification des données. Certaines variables peuvent parfois être intégrées dans une même colonne, parfois pas. Par exemple, les concentrations en cuivre, zinc et plomb dans un sol contaminé peuvent être placés dans la même colonne \"Concentration\" ou déclinées en plusieurs colonnes Cu, Zn et Pb. La première version trouvera son utilité pour des créer des graphiques (chapitre 5), alors que la deuxième favorise le traitement statistique.\n",
        "\n",
        "***Règle no 2.** Ne pas répéter les informations.*\n",
        "\n",
        "Rerpenons la même expérience. Supposons que vous mesurez la précipitation à l'échelle du site.\n",
        "\n",
        "| Site | Traitement | Rendement | Précipitations |\n",
        "| --- | --- | --- | --- |\n",
        "| Sainte-Patente | A | 4.1 | 813 |\n",
        "| Sainte-Patente | B | 8.2 | 813 |\n",
        "| Sainte-Patente | C | 6.8 | 813 |\n",
        "| Sainte-Affaire | A | 5.8 | 642 |\n",
        "| Sainte-Affaire | B | 5.9 | 642 |\n",
        "| Sainte-Affaire | C | NA | 642 |\n",
        "| Saint-Gréement | A | 2.9 | 1028 |\n",
        "| Saint-Gréement | B | 3.4 | 1028 |\n",
        "| Saint-Gréement | C | 4.6 | 1028 |\n",
        "\n",
        "*Tableau 3. Rendements obtenus sur les sites expérimentaux selon les traitements.*\n",
        "\n",
        "Segmenter l'information en deux tableaux serait préférable.\n",
        "\n",
        "| Site | Précipitations |\n",
        "| --- | --- |\n",
        "| Sainte-Patente | 813 |\n",
        "| Sainte-Affaire | 642 |\n",
        "| Saint-Gréement | 1028 |\n",
        "\n",
        "*Tableau 4. Précipitations sur les sites expérimentaux.*\n",
        "\n",
        "Les tableaux 2 et 4, ensemble, forment une base de données (collection organisée de tableaux).\n",
        "\n",
        "***Règle no 3.** Ne pas bousiller les données.*\n",
        "\n",
        "Par exemple.\n",
        "\n",
        "- *Ajouter des commentaires dans des cellules*. Si une cellule mérite d'être commentée, il est préférable de placer les commentaires soit dans un fichier décrivant le tableau de données, soit dans une colonne de commentaire juxtaposée à la colonne de la variable à commenter. Par exemple, si vous n'avez pas mesuré le pH pour une observation, n'écrivez pas \"échantillon contaminé\" dans la cellule, mais annoter dans un fichier d'explication que l'échantillon no X a été sont systématiquessystématique, il peut être pratique de les inscrire dans une colonne `commentaire_pH`.\n",
        "- *Inscriptions non systématiques*. Il arrive souvent que des catégories d'une variable ou que des valeurs manquantes soient annotées différemment. Il arrive même que le séparateur décimal soit non systématique, parfois noté par un point, parfois par une virgule. Par exemple, une fois importés dans votre session, les catégories `St-Ours` et `Saint-Ours` seront traitées comme deux catégories distinctes. De même, les cellules correspondant à des valeurs manquantes ne devraient pas être inscrites parfois avec une cellule vide, parfois avec un point, parfois avec un tiret ou avec la mention `NA`. Le plus simple est de laisser systématiquement ces cellules vides.\n",
        "- *Inclure des notes dans un tableau*. La règle \"une colonne, une variable\" n'est pas respectée si on ajoute des notes un peu n'importe où sous ou à côté du tableau.\n",
        "- *Ajouter des sommaires*. Si vous ajoutez une ligne sous un tableau comprenant la moyenne de chaque colonne, qu'est-ce qui arrivera lorsque vous importerez votre tableau dans votre session de travail ? La ligne sera considérée comme une observation supplémentaire.\n",
        "- *Inclure une hiérarchie dans les entêtes*. Afin de consigner des données de texture du sol, comprenant la proportion de sable, de limon et d'argile, vous organisez votre entête en plusieurs lignes. Une ligne pour la catégorie de donnée, *Texture*, fusionnée sur trois colonnes, puis trois colonnes intitulées *Sable*, *Limon* et *Argile*. Votre tableau est joli, mais il ne pourra pas être importé conformément dans un votre session de calcul : on recherche *un entête unique par colonne*. Votre tableau de données devrait plutôt porter les entêtes *Texture sable*, *Texture limon* et *Texture argile*. Un conseil : réserver le travail esthétique à la toute fin d'un flux de travail."
      ]
    },
    {
      "cell_type": "markdown",
      "id": "da128f47",
      "metadata": {
        "tags": []
      },
      "source": [
        "## Formats de tableau\n",
        "\n",
        "Plusieurs outils sont à votre disposition pour créer des tableaux. Je vous présente ici les plus communs.\n",
        "\n",
        "### *.xls* ou *.xlsx*\n",
        "Microsoft Excel est un logiciel de type *tableur*, ou chiffrier électronique. L'ancien format *xls* a été remplacé par le format *xlsx* avec l'arrivée de Microsoft Office 2010. Il s'agit d'un format propriétaire, dont l'alternative libre la plus connue est le format *ods*, popularisé par la suite bureautique LibreOffice. Les formats *xls*, *xlsx* ou *ods* sont davantage utilisés comme outils de calcul que d'entreposage de données. Ils contiennent des formules, des graphiques, du formatage de cellule, etc. **Je ne les recommande pas pour stocker des données**.\n",
        "\n",
        "### *.csv* et *.json*\n",
        "Le format *csv*, pour *comma separated values*, est un fichier texte, que vous pouvez ouvrir avec n'importe quel éditeur de texte brut (Bloc note, [Visual studio code](https://code.visualstudio.com/), etc.). Chaque colonne doit être délimitée par un caractère cohérent (conventionnellement une virgule, mais en français un point-virgule ou une tabulation pour éviter la confusion avec le séparateur décimal) et chaque ligne du tableau est un retour de ligne. Il est possible d'ouvrir et d'éditer les fichiers csv dans un éditeur texte, mais il est parfois plus pratique de les ouvrir avec des tableurs (LibreOffice Calc, Microsoft Excel, Google Sheets, etc.).\n",
        "\n",
        "Comme le format *csv*, le format *json* indique un fichier en texte clair. Il est utilisé davantage pour le partage de données des applications web. En analyse et modélisation, ce format est surtout utilisé pour les données géoréférencées. L'encodage est géré de la même manière qu'un fichier *csv*.\n",
        "\n",
        "**Encodage**. Puisque les formats *csv* et *json* sont des fichiers texte, un souci particulier doit être porté sur la manière dont le texte est encodé. Les caractères accentués pourraient être importés incorrectement si vous importez votre tableau en spécifiant le mauvais encodage. Pour les fichiers en langues occidentales, l'encodage UTF-8 devrait être utilisé. Toutefois, par défaut, Excel utilise un encodage de Microsoft. Si le *csv* a été généré par Excel, il est préférable de l'ouvrir avec votre éditeur texte, de l'enregistrer dans l'encodage UTF-8, puis de s'assurer que le délimiteur décimal est un point et que le délimiteur de colonne est une virgule.\n",
        "\n",
        "### Autres formats\n",
        "D'autres formats existent comme [Parquet](parquet.apache.org) pour le stockage de données massives, ou bien [Arrow](arrow.apache.org) pour le partage de données entre applications. L'extension .db est utilisée avec [SQLite](sqlite.org), un format de base de données utilisé surtout pour entreposer des données génériques, en format ligne. L'extension .db est aussi utilisée avec [DuckDB](duckdb.org), un format pour les bases de données stockées en format de colonnes.\n",
        "\n",
        "### Entreposer ses données\n",
        "La manière la plus sécure pour entreposer ses données est de les confiner dans une base de données sécurisée sur un serveur sécurisé dans un environnement sécurisé. C'est aussi la manière la moins accessible. Des espaces de stockage nuagiques, comme Onedrive ou [autre](https://alternativeto.net/software/microsoft-onedrive/), peuvent être pratiques pour les backups et le partage des données avec une équipe de travail (qui risque en retour de bousiller vos données). Le suivi de version est possible chez certains fournisseurs d'espace de stockage. Mais pour un suivi de version plus rigoureux, les espaces de développement (comme GitHub) sont plus appropriés. Dans tous les cas, il est important de garder (1) des copies anciennes pour y revenir en cas d'erreurs et (2) un petit fichier décrivant les changements effectués sur les données.\n",
        "\n",
        "### Suggestion\n",
        "En *csv* pour les petits tableaux, en *db* avec [DuckDB](https://duckdb.org/) pour les bases de données plus complexes, puis migrer vers [PostgreSQL](postgresql.org) ou [MariaDB](mariadb.org) si vous devez gérer des droits d'utilisation. Ce cours se concentre toutefois sur les données de type *csv*."
      ]
    },
    {
      "cell_type": "markdown",
      "id": "d3d8892a",
      "metadata": {
        "tags": []
      },
      "source": [
        "## Jouer avec les données avec *Polars*\n",
        "\n",
        "Pour démarrer, j'ai créé un dossier `data`, et j'y ai déposé le jeu de données *Palmer penguins*, [arrangé par Allison Horst](https://allisonhorst.github.io/palmerpenguins/) à partir de recherches sur le dimorphisme sexuel chez les manchots ([Gorman et al., 2014](https://doi.org/10.1371/journal.pone.0090081)).\n",
        "\n",
        "<center>\n",
        "    <img src=\"https://github.com/allisonhorst/palmerpenguins/raw/main/man/figures/lter_penguins.png\" width=50%>\n",
        "    <img src=\"https://github.com/allisonhorst/palmerpenguins/raw/main/man/figures/culmen_depth.png\" width=50%>\n",
        "    <p><a href=\"https://github.com/allisonhorst/palmerpenguins\">Images par Allison Horst</a></p>\n",
        "</center>\n",
        "\n",
        "Le module *Polars* est d'une aide précieuse pour l'analyse de données en Python. Il permet d'importer des données dans votre session de travail, de les explorer, de les transformer et de les exporter. Les tableaux de classe `polars` peuvent faire le pont vers d'autres modules que nous utiliserons plus loin.\n",
        "\n",
        "*Polars* n'est pas installé par défaut dans mon environnement Python. Installons-le avec le gestionnaire de modules *pip*. Le point d'exclamation dit que c'est une commande destinée au terminal, pas à Python. Écrire la version à installer n'est pas obligatoire : je le fais pour m'assurer que les codes qui suivent fonctionneront même si *Polars* est modifié à la suite d'une mis à jour."
      ]
    },
    {
      "cell_type": "code",
      "execution_count": null,
      "id": "d09438c2-7f43-4fdf-9506-f0d63e0c1422",
      "metadata": {
        "ExecuteTime": {
          "end_time": "2023-07-13T18:50:17.920899+00:00",
          "start_time": "2023-07-13T18:50:11.665649+00:00"
        },
        "noteable": {
          "cell_type": "python",
          "output_collection_id": "b32875ec-7d0f-4927-aa79-052e3f37a60c"
        },
        "scrolled": false,
        "tags": []
      },
      "outputs": [],
      "source": [
        "!pip install polars==0.19"
      ]
    },
    {
      "cell_type": "markdown",
      "id": "fd92a4d7-0390-4c79-a9d4-b1ade6a0cfcd",
      "metadata": {
        "noteable": {
          "cell_type": "markdown"
        },
        "tags": []
      },
      "source": [
        "Puis, importez le module *Polars* avec son alias conventionnellement adopté et importez vos données dans une session Python. Dans le *csv*, les valeurs manquantes sont inscrites comme `NA`."
      ]
    },
    {
      "cell_type": "code",
      "execution_count": 9,
      "id": "3b08d6d0-b580-4af8-9b71-8d26f42865a3",
      "metadata": {
        "ExecuteTime": {
          "end_time": "2023-07-13T18:50:37.636775+00:00",
          "start_time": "2023-07-13T18:50:37.412212+00:00"
        },
        "datalink": {
          "24b42d02-7a4f-4d93-9adf-d12cad0643e3": {
            "applied_filters": [],
            "dataframe_info": {
              "default_index_used": true,
              "orig_num_cols": 9,
              "orig_num_rows": 344,
              "orig_size_bytes": 27520,
              "truncated_num_cols": 9,
              "truncated_num_rows": 344,
              "truncated_size_bytes": 27520,
              "truncated_string_columns": []
            },
            "display_id": "24b42d02-7a4f-4d93-9adf-d12cad0643e3",
            "dx_settings": {
              "ALLOW_NOTEABLE_ATTRS": true,
              "COLUMN_SAMPLING_METHOD": "outer",
              "DB_LOCATION": ":memory:",
              "DEV_MODE": false,
              "DISPLAY_MAX_COLUMNS": 100,
              "DISPLAY_MAX_ROWS": 50000,
              "DISPLAY_MODE": "simple",
              "ENABLE_ASSIGNMENT": true,
              "ENABLE_DATALINK": true,
              "FLATTEN_COLUMN_VALUES": true,
              "FLATTEN_INDEX_VALUES": false,
              "GENERATE_DEX_METADATA": false,
              "HTML_TABLE_SCHEMA": false,
              "LOG_LEVEL": 30,
              "MAX_RENDER_SIZE_BYTES": 104857600,
              "MAX_STRING_LENGTH": 250,
              "NUM_PAST_SAMPLES_TRACKED": 3,
              "RANDOM_STATE": 12648430,
              "RESET_INDEX_VALUES": false,
              "ROW_SAMPLING_METHOD": "random",
              "SAMPLING_FACTOR": 0.1,
              "SAMPLING_METHOD": "random",
              "STRINGIFY_COLUMN_VALUES": true,
              "STRINGIFY_INDEX_VALUES": false
            },
            "sample_history": [],
            "sampling_time": "2023-06-07T18:28:47.113649",
            "user_variable_name": null,
            "variable_name": "unk_dataframe_31913590acdf48d29a38c460e362c1a5"
          },
          "46c55915-0a80-43d2-8058-07c62812eb64": {
            "applied_filters": [],
            "dataframe_info": {
              "default_index_used": true,
              "orig_num_cols": 9,
              "orig_num_rows": 344,
              "orig_size_bytes": 27520,
              "truncated_num_cols": 9,
              "truncated_num_rows": 344,
              "truncated_size_bytes": 27520,
              "truncated_string_columns": []
            },
            "display_id": "46c55915-0a80-43d2-8058-07c62812eb64",
            "dx_settings": {
              "ALLOW_NOTEABLE_ATTRS": true,
              "COLUMN_SAMPLING_METHOD": "outer",
              "DB_LOCATION": ":memory:",
              "DEV_MODE": false,
              "DISPLAY_MAX_COLUMNS": 100,
              "DISPLAY_MAX_ROWS": 50000,
              "DISPLAY_MODE": "simple",
              "ENABLE_ASSIGNMENT": true,
              "ENABLE_DATALINK": true,
              "FLATTEN_COLUMN_VALUES": true,
              "FLATTEN_INDEX_VALUES": false,
              "GENERATE_DEX_METADATA": false,
              "HTML_TABLE_SCHEMA": false,
              "LOG_LEVEL": 30,
              "MAX_RENDER_SIZE_BYTES": 104857600,
              "MAX_STRING_LENGTH": 250,
              "NUM_PAST_SAMPLES_TRACKED": 3,
              "RANDOM_STATE": 12648430,
              "RESET_INDEX_VALUES": false,
              "ROW_SAMPLING_METHOD": "random",
              "SAMPLING_FACTOR": 0.1,
              "SAMPLING_METHOD": "random",
              "STRINGIFY_COLUMN_VALUES": true,
              "STRINGIFY_INDEX_VALUES": false
            },
            "sample_history": [],
            "sampling_time": "2023-06-07T16:10:07.469547",
            "user_variable_name": "sql_df_1",
            "variable_name": "sql_df_1"
          },
          "4a5f2d37-f70b-4c4c-89d8-9afd08b0782f": {
            "applied_filters": [],
            "dataframe_info": {
              "default_index_used": true,
              "orig_num_cols": 9,
              "orig_num_rows": 344,
              "orig_size_bytes": 27520,
              "truncated_num_cols": 9,
              "truncated_num_rows": 344,
              "truncated_size_bytes": 27520,
              "truncated_string_columns": []
            },
            "display_id": "4a5f2d37-f70b-4c4c-89d8-9afd08b0782f",
            "dx_settings": {
              "ALLOW_NOTEABLE_ATTRS": true,
              "COLUMN_SAMPLING_METHOD": "outer",
              "DB_LOCATION": ":memory:",
              "DEV_MODE": false,
              "DISPLAY_MAX_COLUMNS": 100,
              "DISPLAY_MAX_ROWS": 50000,
              "DISPLAY_MODE": "simple",
              "ENABLE_ASSIGNMENT": true,
              "ENABLE_DATALINK": true,
              "FLATTEN_COLUMN_VALUES": true,
              "FLATTEN_INDEX_VALUES": false,
              "GENERATE_DEX_METADATA": false,
              "HTML_TABLE_SCHEMA": false,
              "LOG_LEVEL": 30,
              "MAX_RENDER_SIZE_BYTES": 104857600,
              "MAX_STRING_LENGTH": 250,
              "NUM_PAST_SAMPLES_TRACKED": 3,
              "RANDOM_STATE": 12648430,
              "RESET_INDEX_VALUES": false,
              "ROW_SAMPLING_METHOD": "random",
              "SAMPLING_FACTOR": 0.1,
              "SAMPLING_METHOD": "random",
              "STRINGIFY_COLUMN_VALUES": true,
              "STRINGIFY_INDEX_VALUES": false
            },
            "sample_history": [],
            "sampling_time": "2023-07-13T18:50:37.475058",
            "user_variable_name": null,
            "variable_name": "unk_dataframe_11204141e38244e48f4bf9eaf98686ef"
          },
          "615e433c-5090-482c-85dc-7950ee0f10d6": {
            "applied_filters": [],
            "dataframe_info": {
              "default_index_used": true,
              "orig_num_cols": 9,
              "orig_num_rows": 344,
              "orig_size_bytes": 27520,
              "truncated_num_cols": 9,
              "truncated_num_rows": 344,
              "truncated_size_bytes": 27520,
              "truncated_string_columns": []
            },
            "display_id": "615e433c-5090-482c-85dc-7950ee0f10d6",
            "dx_settings": {
              "ALLOW_NOTEABLE_ATTRS": true,
              "COLUMN_SAMPLING_METHOD": "outer",
              "DB_LOCATION": ":memory:",
              "DEV_MODE": false,
              "DISPLAY_MAX_COLUMNS": 100,
              "DISPLAY_MAX_ROWS": 50000,
              "DISPLAY_MODE": "simple",
              "ENABLE_ASSIGNMENT": true,
              "ENABLE_DATALINK": true,
              "FLATTEN_COLUMN_VALUES": true,
              "FLATTEN_INDEX_VALUES": false,
              "GENERATE_DEX_METADATA": false,
              "HTML_TABLE_SCHEMA": false,
              "LOG_LEVEL": 30,
              "MAX_RENDER_SIZE_BYTES": 104857600,
              "MAX_STRING_LENGTH": 250,
              "NUM_PAST_SAMPLES_TRACKED": 3,
              "RANDOM_STATE": 12648430,
              "RESET_INDEX_VALUES": false,
              "ROW_SAMPLING_METHOD": "random",
              "SAMPLING_FACTOR": 0.1,
              "SAMPLING_METHOD": "random",
              "STRINGIFY_COLUMN_VALUES": true,
              "STRINGIFY_INDEX_VALUES": false
            },
            "sample_history": [],
            "sampling_time": "2023-07-13T18:50:34.584534",
            "user_variable_name": null,
            "variable_name": "unk_dataframe_464173f8d5df434bacabd63a4df5358a"
          },
          "61a1f151-5f6a-43c5-b41c-30a6ff6badc0": {
            "applied_filters": [],
            "dataframe_info": {
              "default_index_used": true,
              "orig_num_cols": 9,
              "orig_num_rows": 344,
              "orig_size_bytes": 27520,
              "truncated_num_cols": 9,
              "truncated_num_rows": 344,
              "truncated_size_bytes": 27520,
              "truncated_string_columns": []
            },
            "display_id": "61a1f151-5f6a-43c5-b41c-30a6ff6badc0",
            "dx_settings": {
              "ALLOW_NOTEABLE_ATTRS": true,
              "COLUMN_SAMPLING_METHOD": "outer",
              "DB_LOCATION": ":memory:",
              "DEV_MODE": false,
              "DISPLAY_MAX_COLUMNS": 100,
              "DISPLAY_MAX_ROWS": 50000,
              "DISPLAY_MODE": "simple",
              "ENABLE_ASSIGNMENT": true,
              "ENABLE_DATALINK": true,
              "FLATTEN_COLUMN_VALUES": true,
              "FLATTEN_INDEX_VALUES": false,
              "GENERATE_DEX_METADATA": false,
              "HTML_TABLE_SCHEMA": false,
              "LOG_LEVEL": 30,
              "MAX_RENDER_SIZE_BYTES": 104857600,
              "MAX_STRING_LENGTH": 250,
              "NUM_PAST_SAMPLES_TRACKED": 3,
              "RANDOM_STATE": 12648430,
              "RESET_INDEX_VALUES": false,
              "ROW_SAMPLING_METHOD": "random",
              "SAMPLING_FACTOR": 0.1,
              "SAMPLING_METHOD": "random",
              "STRINGIFY_COLUMN_VALUES": true,
              "STRINGIFY_INDEX_VALUES": false
            },
            "sample_history": [],
            "sampling_time": "2023-06-07T16:36:06.457531",
            "user_variable_name": null,
            "variable_name": "unk_dataframe_f9f31ec8d0ee4f48accec42eafdf94c6"
          },
          "8f146cbf-d6ab-452b-937b-0d07a79db8d2": {
            "applied_filters": [],
            "dataframe_info": {
              "default_index_used": true,
              "orig_num_cols": 9,
              "orig_num_rows": 344,
              "orig_size_bytes": 27520,
              "truncated_num_cols": 9,
              "truncated_num_rows": 344,
              "truncated_size_bytes": 27520,
              "truncated_string_columns": []
            },
            "display_id": "8f146cbf-d6ab-452b-937b-0d07a79db8d2",
            "dx_settings": {
              "ALLOW_NOTEABLE_ATTRS": true,
              "COLUMN_SAMPLING_METHOD": "outer",
              "DB_LOCATION": ":memory:",
              "DEV_MODE": false,
              "DISPLAY_MAX_COLUMNS": 100,
              "DISPLAY_MAX_ROWS": 50000,
              "DISPLAY_MODE": "simple",
              "ENABLE_ASSIGNMENT": true,
              "ENABLE_DATALINK": true,
              "FLATTEN_COLUMN_VALUES": true,
              "FLATTEN_INDEX_VALUES": false,
              "GENERATE_DEX_METADATA": false,
              "HTML_TABLE_SCHEMA": false,
              "LOG_LEVEL": 30,
              "MAX_RENDER_SIZE_BYTES": 104857600,
              "MAX_STRING_LENGTH": 250,
              "NUM_PAST_SAMPLES_TRACKED": 3,
              "RANDOM_STATE": 12648430,
              "RESET_INDEX_VALUES": false,
              "ROW_SAMPLING_METHOD": "random",
              "SAMPLING_FACTOR": 0.1,
              "SAMPLING_METHOD": "random",
              "STRINGIFY_COLUMN_VALUES": true,
              "STRINGIFY_INDEX_VALUES": false
            },
            "sample_history": [],
            "sampling_time": "2023-06-07T16:21:46.290740",
            "user_variable_name": "sql_df_1",
            "variable_name": "sql_df_1"
          },
          "ba058684-c572-41eb-9d50-768e55d213a8": {
            "applied_filters": [],
            "dataframe_info": {
              "default_index_used": true,
              "orig_num_cols": 9,
              "orig_num_rows": 344,
              "orig_size_bytes": 27520,
              "truncated_num_cols": 9,
              "truncated_num_rows": 344,
              "truncated_size_bytes": 27520,
              "truncated_string_columns": []
            },
            "display_id": "ba058684-c572-41eb-9d50-768e55d213a8",
            "dx_settings": {
              "ALLOW_NOTEABLE_ATTRS": true,
              "COLUMN_SAMPLING_METHOD": "outer",
              "DB_LOCATION": ":memory:",
              "DEV_MODE": false,
              "DISPLAY_MAX_COLUMNS": 100,
              "DISPLAY_MAX_ROWS": 50000,
              "DISPLAY_MODE": "simple",
              "ENABLE_ASSIGNMENT": true,
              "ENABLE_DATALINK": true,
              "FLATTEN_COLUMN_VALUES": true,
              "FLATTEN_INDEX_VALUES": false,
              "GENERATE_DEX_METADATA": false,
              "HTML_TABLE_SCHEMA": false,
              "LOG_LEVEL": 30,
              "MAX_RENDER_SIZE_BYTES": 104857600,
              "MAX_STRING_LENGTH": 250,
              "NUM_PAST_SAMPLES_TRACKED": 3,
              "RANDOM_STATE": 12648430,
              "RESET_INDEX_VALUES": false,
              "ROW_SAMPLING_METHOD": "random",
              "SAMPLING_FACTOR": 0.1,
              "SAMPLING_METHOD": "random",
              "STRINGIFY_COLUMN_VALUES": true,
              "STRINGIFY_INDEX_VALUES": false
            },
            "sample_history": [],
            "sampling_time": "2023-07-13T18:50:32.085984",
            "user_variable_name": null,
            "variable_name": "unk_dataframe_cbda09ccfc434f30ac4bfb7fdfda4739"
          },
          "d3b952d8-b6ac-4ef7-b42a-b432e0750226": {
            "applied_filters": [],
            "dataframe_info": {
              "default_index_used": true,
              "orig_num_cols": 9,
              "orig_num_rows": 344,
              "orig_size_bytes": 27520,
              "truncated_num_cols": 9,
              "truncated_num_rows": 344,
              "truncated_size_bytes": 27520,
              "truncated_string_columns": []
            },
            "display_id": "d3b952d8-b6ac-4ef7-b42a-b432e0750226",
            "dx_settings": {
              "ALLOW_NOTEABLE_ATTRS": true,
              "COLUMN_SAMPLING_METHOD": "outer",
              "DB_LOCATION": ":memory:",
              "DEV_MODE": false,
              "DISPLAY_MAX_COLUMNS": 100,
              "DISPLAY_MAX_ROWS": 50000,
              "DISPLAY_MODE": "simple",
              "ENABLE_ASSIGNMENT": true,
              "ENABLE_DATALINK": true,
              "FLATTEN_COLUMN_VALUES": true,
              "FLATTEN_INDEX_VALUES": false,
              "GENERATE_DEX_METADATA": false,
              "HTML_TABLE_SCHEMA": false,
              "LOG_LEVEL": 30,
              "MAX_RENDER_SIZE_BYTES": 104857600,
              "MAX_STRING_LENGTH": 250,
              "NUM_PAST_SAMPLES_TRACKED": 3,
              "RANDOM_STATE": 12648430,
              "RESET_INDEX_VALUES": false,
              "ROW_SAMPLING_METHOD": "random",
              "SAMPLING_FACTOR": 0.1,
              "SAMPLING_METHOD": "random",
              "STRINGIFY_COLUMN_VALUES": true,
              "STRINGIFY_INDEX_VALUES": false
            },
            "sample_history": [],
            "sampling_time": "2023-06-07T15:52:57.683971",
            "user_variable_name": "sql_df_1",
            "variable_name": "sql_df_1"
          }
        },
        "dx": {
          "dashboard": {
            "multiViews": []
          },
          "fieldMetadata": {},
          "updated": 1689273778776,
          "views": [
            {
              "annotationRules": [],
              "chart": {},
              "chartMode": "grid",
              "confoRules": [],
              "decoration": {
                "footer": "",
                "subtitle": "",
                "title": "Table"
              },
              "facets": [],
              "filterSettings": {
                "SHOW_FILTER_PANEL": true,
                "filters": [
                  {
                    "column": "species",
                    "predicate": "in",
                    "type": "DIMENSION_FILTER",
                    "value": [
                      "Chinstrap"
                    ]
                  }
                ]
              },
              "id": "first-view",
              "isComment": false,
              "isDefault": true,
              "isTransitory": false,
              "type": "public",
              "userID": ""
            },
            {
              "annotationRules": [],
              "chart": {},
              "chartMode": "grid",
              "confoRules": [],
              "decoration": {
                "footer": "",
                "subtitle": "",
                "title": "Table"
              },
              "facets": [],
              "filterSettings": {
                "SHOW_FILTER_PANEL": true,
                "filters": []
              },
              "id": "first-view",
              "isComment": false,
              "isDefault": true,
              "isTransitory": true,
              "type": "public",
              "userID": ""
            }
          ]
        },
        "noteable": {
          "cell_type": "python",
          "output_collection_id": "d99600c7-0dac-4c18-b06b-baec98ddaf24"
        },
        "tags": []
      },
      "outputs": [
        {
          "data": {
            "text/html": [
              "<div><style>\n",
              ".dataframe > thead > tr > th,\n",
              ".dataframe > tbody > tr > td {\n",
              "  text-align: right;\n",
              "  white-space: pre-wrap;\n",
              "}\n",
              "</style>\n",
              "<small>shape: (344, 9)</small><table border=\"1\" class=\"dataframe\"><thead><tr><th>rowid</th><th>species</th><th>island</th><th>bill_length_mm</th><th>bill_depth_mm</th><th>flipper_length_mm</th><th>body_mass_g</th><th>sex</th><th>year</th></tr><tr><td>i64</td><td>str</td><td>str</td><td>f64</td><td>f64</td><td>i64</td><td>i64</td><td>str</td><td>i64</td></tr></thead><tbody><tr><td>1</td><td>&quot;Adelie&quot;</td><td>&quot;Torgersen&quot;</td><td>39.1</td><td>18.7</td><td>181</td><td>3750</td><td>&quot;male&quot;</td><td>2007</td></tr><tr><td>2</td><td>&quot;Adelie&quot;</td><td>&quot;Torgersen&quot;</td><td>39.5</td><td>17.4</td><td>186</td><td>3800</td><td>&quot;female&quot;</td><td>2007</td></tr><tr><td>3</td><td>&quot;Adelie&quot;</td><td>&quot;Torgersen&quot;</td><td>40.3</td><td>18.0</td><td>195</td><td>3250</td><td>&quot;female&quot;</td><td>2007</td></tr><tr><td>4</td><td>&quot;Adelie&quot;</td><td>&quot;Torgersen&quot;</td><td>null</td><td>null</td><td>null</td><td>null</td><td>null</td><td>2007</td></tr><tr><td>5</td><td>&quot;Adelie&quot;</td><td>&quot;Torgersen&quot;</td><td>36.7</td><td>19.3</td><td>193</td><td>3450</td><td>&quot;female&quot;</td><td>2007</td></tr><tr><td>6</td><td>&quot;Adelie&quot;</td><td>&quot;Torgersen&quot;</td><td>39.3</td><td>20.6</td><td>190</td><td>3650</td><td>&quot;male&quot;</td><td>2007</td></tr><tr><td>7</td><td>&quot;Adelie&quot;</td><td>&quot;Torgersen&quot;</td><td>38.9</td><td>17.8</td><td>181</td><td>3625</td><td>&quot;female&quot;</td><td>2007</td></tr><tr><td>8</td><td>&quot;Adelie&quot;</td><td>&quot;Torgersen&quot;</td><td>39.2</td><td>19.6</td><td>195</td><td>4675</td><td>&quot;male&quot;</td><td>2007</td></tr><tr><td>9</td><td>&quot;Adelie&quot;</td><td>&quot;Torgersen&quot;</td><td>34.1</td><td>18.1</td><td>193</td><td>3475</td><td>null</td><td>2007</td></tr><tr><td>10</td><td>&quot;Adelie&quot;</td><td>&quot;Torgersen&quot;</td><td>42.0</td><td>20.2</td><td>190</td><td>4250</td><td>null</td><td>2007</td></tr><tr><td>11</td><td>&quot;Adelie&quot;</td><td>&quot;Torgersen&quot;</td><td>37.8</td><td>17.1</td><td>186</td><td>3300</td><td>null</td><td>2007</td></tr><tr><td>12</td><td>&quot;Adelie&quot;</td><td>&quot;Torgersen&quot;</td><td>37.8</td><td>17.3</td><td>180</td><td>3700</td><td>null</td><td>2007</td></tr><tr><td>&hellip;</td><td>&hellip;</td><td>&hellip;</td><td>&hellip;</td><td>&hellip;</td><td>&hellip;</td><td>&hellip;</td><td>&hellip;</td><td>&hellip;</td></tr><tr><td>333</td><td>&quot;Chinstrap&quot;</td><td>&quot;Dream&quot;</td><td>45.2</td><td>16.6</td><td>191</td><td>3250</td><td>&quot;female&quot;</td><td>2009</td></tr><tr><td>334</td><td>&quot;Chinstrap&quot;</td><td>&quot;Dream&quot;</td><td>49.3</td><td>19.9</td><td>203</td><td>4050</td><td>&quot;male&quot;</td><td>2009</td></tr><tr><td>335</td><td>&quot;Chinstrap&quot;</td><td>&quot;Dream&quot;</td><td>50.2</td><td>18.8</td><td>202</td><td>3800</td><td>&quot;male&quot;</td><td>2009</td></tr><tr><td>336</td><td>&quot;Chinstrap&quot;</td><td>&quot;Dream&quot;</td><td>45.6</td><td>19.4</td><td>194</td><td>3525</td><td>&quot;female&quot;</td><td>2009</td></tr><tr><td>337</td><td>&quot;Chinstrap&quot;</td><td>&quot;Dream&quot;</td><td>51.9</td><td>19.5</td><td>206</td><td>3950</td><td>&quot;male&quot;</td><td>2009</td></tr><tr><td>338</td><td>&quot;Chinstrap&quot;</td><td>&quot;Dream&quot;</td><td>46.8</td><td>16.5</td><td>189</td><td>3650</td><td>&quot;female&quot;</td><td>2009</td></tr><tr><td>339</td><td>&quot;Chinstrap&quot;</td><td>&quot;Dream&quot;</td><td>45.7</td><td>17.0</td><td>195</td><td>3650</td><td>&quot;female&quot;</td><td>2009</td></tr><tr><td>340</td><td>&quot;Chinstrap&quot;</td><td>&quot;Dream&quot;</td><td>55.8</td><td>19.8</td><td>207</td><td>4000</td><td>&quot;male&quot;</td><td>2009</td></tr><tr><td>341</td><td>&quot;Chinstrap&quot;</td><td>&quot;Dream&quot;</td><td>43.5</td><td>18.1</td><td>202</td><td>3400</td><td>&quot;female&quot;</td><td>2009</td></tr><tr><td>342</td><td>&quot;Chinstrap&quot;</td><td>&quot;Dream&quot;</td><td>49.6</td><td>18.2</td><td>193</td><td>3775</td><td>&quot;male&quot;</td><td>2009</td></tr><tr><td>343</td><td>&quot;Chinstrap&quot;</td><td>&quot;Dream&quot;</td><td>50.8</td><td>19.0</td><td>210</td><td>4100</td><td>&quot;male&quot;</td><td>2009</td></tr><tr><td>344</td><td>&quot;Chinstrap&quot;</td><td>&quot;Dream&quot;</td><td>50.2</td><td>18.7</td><td>198</td><td>3775</td><td>&quot;female&quot;</td><td>2009</td></tr></tbody></table></div>"
            ],
            "text/plain": [
              "shape: (344, 9)\n",
              "┌───────┬───────────┬───────────┬────────────────┬───┬───────────────┬─────────────┬────────┬──────┐\n",
              "│ rowid ┆ species   ┆ island    ┆ bill_length_mm ┆ … ┆ flipper_lengt ┆ body_mass_g ┆ sex    ┆ year │\n",
              "│ ---   ┆ ---       ┆ ---       ┆ ---            ┆   ┆ h_mm          ┆ ---         ┆ ---    ┆ ---  │\n",
              "│ i64   ┆ str       ┆ str       ┆ f64            ┆   ┆ ---           ┆ i64         ┆ str    ┆ i64  │\n",
              "│       ┆           ┆           ┆                ┆   ┆ i64           ┆             ┆        ┆      │\n",
              "╞═══════╪═══════════╪═══════════╪════════════════╪═══╪═══════════════╪═════════════╪════════╪══════╡\n",
              "│ 1     ┆ Adelie    ┆ Torgersen ┆ 39.1           ┆ … ┆ 181           ┆ 3750        ┆ male   ┆ 2007 │\n",
              "│ 2     ┆ Adelie    ┆ Torgersen ┆ 39.5           ┆ … ┆ 186           ┆ 3800        ┆ female ┆ 2007 │\n",
              "│ 3     ┆ Adelie    ┆ Torgersen ┆ 40.3           ┆ … ┆ 195           ┆ 3250        ┆ female ┆ 2007 │\n",
              "│ 4     ┆ Adelie    ┆ Torgersen ┆ null           ┆ … ┆ null          ┆ null        ┆ null   ┆ 2007 │\n",
              "│ …     ┆ …         ┆ …         ┆ …              ┆ … ┆ …             ┆ …           ┆ …      ┆ …    │\n",
              "│ 341   ┆ Chinstrap ┆ Dream     ┆ 43.5           ┆ … ┆ 202           ┆ 3400        ┆ female ┆ 2009 │\n",
              "│ 342   ┆ Chinstrap ┆ Dream     ┆ 49.6           ┆ … ┆ 193           ┆ 3775        ┆ male   ┆ 2009 │\n",
              "│ 343   ┆ Chinstrap ┆ Dream     ┆ 50.8           ┆ … ┆ 210           ┆ 4100        ┆ male   ┆ 2009 │\n",
              "│ 344   ┆ Chinstrap ┆ Dream     ┆ 50.2           ┆ … ┆ 198           ┆ 3775        ┆ female ┆ 2009 │\n",
              "└───────┴───────────┴───────────┴────────────────┴───┴───────────────┴─────────────┴────────┴──────┘"
            ]
          },
          "execution_count": 9,
          "metadata": {},
          "output_type": "execute_result"
        }
      ],
      "source": [
        "import polars as pl\n",
        "penguins = pl.read_csv(\"data/penguins.csv\", null_values='NA')\n",
        "penguins"
      ]
    },
    {
      "cell_type": "markdown",
      "id": "b51e234e",
      "metadata": {
        "tags": []
      },
      "source": [
        "Conformément aux règles de construction d'un tableau, *Polars* demande à ce que chaque colonne possède un entête unique, et qu'une colonne ne contienne qu'un type de données."
      ]
    },
    {
      "cell_type": "markdown",
      "id": "38c53bc1",
      "metadata": {
        "tags": []
      },
      "source": [
        "### Sélectionner et filtrer des données\n",
        "\n",
        "On utilise le terme *sélectionner* lorsque l'on désire choisir une ou plusieurs lignes et colonnes d'un tableau (la plupart du temps des colonnes). L'action de *filtrer* signifie de sélectionner des axes (la plupart du temps des lignes) selon certains critères."
      ]
    },
    {
      "cell_type": "markdown",
      "id": "fa39575a",
      "metadata": {
        "tags": []
      },
      "source": [
        "#### Sélectionner\n",
        "\n",
        "Il y a plusieurs manières de sélectionner une colonne. La plus rapide consiste à fournir une liste entre crochets directement après avoir appelé le tableau, i.e. `penguins[[\"bill_depth_mm\", \"bill_length_mm\"]]`. La plus longue, et aussi celle que je trouve la plus claire, consiste à appeler les méthodes dans une chaîne. S'il ne s'agit que de sélectionner, ça peut paraître long pour rien, mais en enchaînant plusieurs opérations, le code devient ainsi plus clair."
      ]
    },
    {
      "cell_type": "code",
      "execution_count": 10,
      "id": "1c55194b-b56d-4750-b7e4-8d8277c69a71",
      "metadata": {
        "ExecuteTime": {
          "end_time": "2023-06-07T16:11:51.971743+00:00",
          "start_time": "2023-06-07T16:11:51.776528+00:00"
        },
        "datalink": {
          "c1005e81-cb8a-4b7e-8017-f489f2894072": {
            "applied_filters": [],
            "dataframe_info": {
              "default_index_used": true,
              "orig_num_cols": 1,
              "orig_num_rows": 344,
              "orig_size_bytes": 5504,
              "truncated_num_cols": 1,
              "truncated_num_rows": 344,
              "truncated_size_bytes": 5504,
              "truncated_string_columns": []
            },
            "display_id": "c1005e81-cb8a-4b7e-8017-f489f2894072",
            "dx_settings": {
              "ALLOW_NOTEABLE_ATTRS": true,
              "COLUMN_SAMPLING_METHOD": "outer",
              "DB_LOCATION": ":memory:",
              "DEV_MODE": false,
              "DISPLAY_MAX_COLUMNS": 100,
              "DISPLAY_MAX_ROWS": 50000,
              "DISPLAY_MODE": "simple",
              "ENABLE_ASSIGNMENT": true,
              "ENABLE_DATALINK": true,
              "FLATTEN_COLUMN_VALUES": true,
              "FLATTEN_INDEX_VALUES": false,
              "GENERATE_DEX_METADATA": false,
              "HTML_TABLE_SCHEMA": false,
              "LOG_LEVEL": 30,
              "MAX_RENDER_SIZE_BYTES": 104857600,
              "MAX_STRING_LENGTH": 250,
              "NUM_PAST_SAMPLES_TRACKED": 3,
              "RANDOM_STATE": 12648430,
              "RESET_INDEX_VALUES": false,
              "ROW_SAMPLING_METHOD": "random",
              "SAMPLING_FACTOR": 0.1,
              "SAMPLING_METHOD": "random",
              "STRINGIFY_COLUMN_VALUES": true,
              "STRINGIFY_INDEX_VALUES": false
            },
            "sample_history": [],
            "sampling_time": "2023-06-07T16:11:51.814071",
            "user_variable_name": null,
            "variable_name": "unk_dataframe_47e293f55716454daf1123babd8309cd"
          }
        },
        "dx": {
          "dashboard": {
            "multiViews": []
          },
          "fieldMetadata": {
            "bill_depth_mm": {
              "columnPosition": 2,
              "overrideType": "integer",
              "sort": "asc"
            },
            "bill_length_mm": {
              "columnPosition": 3,
              "overrideType": "number"
            },
            "index": {
              "columnPosition": 1
            }
          },
          "updated": 1689274687475,
          "views": [
            {
              "annotationRules": [],
              "chart": {},
              "chartMode": "grid",
              "confoRules": [],
              "decoration": {
                "footer": "",
                "subtitle": "",
                "title": "Table"
              },
              "facets": [],
              "filterSettings": {
                "SHOW_FILTER_PANEL": true,
                "filters": []
              },
              "id": "first-view",
              "isDefault": true,
              "type": "public",
              "userID": ""
            },
            {
              "annotationRules": [],
              "chart": {},
              "chartMode": "grid",
              "confoRules": [],
              "decoration": {
                "footer": "",
                "subtitle": "",
                "title": "Table"
              },
              "facets": [],
              "filterSettings": {
                "SHOW_FILTER_PANEL": true,
                "filters": []
              },
              "id": "first-view",
              "isDefault": true,
              "isTransitory": true,
              "type": "public",
              "userID": ""
            }
          ]
        },
        "noteable": {
          "cell_type": "python",
          "output_collection_id": "885fecaf-a9df-4c32-9736-9263c3dd0278"
        },
        "tags": []
      },
      "outputs": [
        {
          "data": {
            "text/html": [
              "<div><style>\n",
              ".dataframe > thead > tr > th,\n",
              ".dataframe > tbody > tr > td {\n",
              "  text-align: right;\n",
              "  white-space: pre-wrap;\n",
              "}\n",
              "</style>\n",
              "<small>shape: (344, 2)</small><table border=\"1\" class=\"dataframe\"><thead><tr><th>bill_depth_mm</th><th>bill_length_mm</th></tr><tr><td>f64</td><td>f64</td></tr></thead><tbody><tr><td>18.7</td><td>39.1</td></tr><tr><td>17.4</td><td>39.5</td></tr><tr><td>18.0</td><td>40.3</td></tr><tr><td>null</td><td>null</td></tr><tr><td>19.3</td><td>36.7</td></tr><tr><td>20.6</td><td>39.3</td></tr><tr><td>17.8</td><td>38.9</td></tr><tr><td>19.6</td><td>39.2</td></tr><tr><td>18.1</td><td>34.1</td></tr><tr><td>20.2</td><td>42.0</td></tr><tr><td>17.1</td><td>37.8</td></tr><tr><td>17.3</td><td>37.8</td></tr><tr><td>&hellip;</td><td>&hellip;</td></tr><tr><td>16.6</td><td>45.2</td></tr><tr><td>19.9</td><td>49.3</td></tr><tr><td>18.8</td><td>50.2</td></tr><tr><td>19.4</td><td>45.6</td></tr><tr><td>19.5</td><td>51.9</td></tr><tr><td>16.5</td><td>46.8</td></tr><tr><td>17.0</td><td>45.7</td></tr><tr><td>19.8</td><td>55.8</td></tr><tr><td>18.1</td><td>43.5</td></tr><tr><td>18.2</td><td>49.6</td></tr><tr><td>19.0</td><td>50.8</td></tr><tr><td>18.7</td><td>50.2</td></tr></tbody></table></div>"
            ],
            "text/plain": [
              "shape: (344, 2)\n",
              "┌───────────────┬────────────────┐\n",
              "│ bill_depth_mm ┆ bill_length_mm │\n",
              "│ ---           ┆ ---            │\n",
              "│ f64           ┆ f64            │\n",
              "╞═══════════════╪════════════════╡\n",
              "│ 18.7          ┆ 39.1           │\n",
              "│ 17.4          ┆ 39.5           │\n",
              "│ 18.0          ┆ 40.3           │\n",
              "│ null          ┆ null           │\n",
              "│ …             ┆ …              │\n",
              "│ 18.1          ┆ 43.5           │\n",
              "│ 18.2          ┆ 49.6           │\n",
              "│ 19.0          ┆ 50.8           │\n",
              "│ 18.7          ┆ 50.2           │\n",
              "└───────────────┴────────────────┘"
            ]
          },
          "execution_count": 10,
          "metadata": {},
          "output_type": "execute_result"
        }
      ],
      "source": [
        "(\n",
        "    penguins\n",
        "    .select(['bill_depth_mm', 'bill_length_mm'])\n",
        ")"
      ]
    },
    {
      "cell_type": "markdown",
      "id": "c28aa5c7-a41d-4352-ad11-ad7bfc5d517f",
      "metadata": {
        "noteable": {
          "cell_type": "markdown"
        },
        "tags": []
      },
      "source": [
        "Puisque, par défaut, Python termine une commande à la fin d'une ligne, les parenthèses autour de la chaîne de commande sont nécessaires."
      ]
    },
    {
      "cell_type": "markdown",
      "id": "9deffa92",
      "metadata": {
        "tags": []
      },
      "source": [
        "On peut travailler en exclusion avec la méthode `drop`."
      ]
    },
    {
      "cell_type": "code",
      "execution_count": 11,
      "id": "378b5db6",
      "metadata": {
        "ExecuteTime": {
          "end_time": "2023-06-07T16:23:54.236426+00:00",
          "start_time": "2023-06-07T16:23:54.003284+00:00"
        },
        "datalink": {
          "a0445bb0-e11e-48b9-a946-b1b0caa95276": {
            "applied_filters": [],
            "dataframe_info": {
              "default_index_used": true,
              "orig_num_cols": 7,
              "orig_num_rows": 344,
              "orig_size_bytes": 22016,
              "truncated_num_cols": 7,
              "truncated_num_rows": 344,
              "truncated_size_bytes": 22016,
              "truncated_string_columns": []
            },
            "display_id": "a0445bb0-e11e-48b9-a946-b1b0caa95276",
            "dx_settings": {
              "ALLOW_NOTEABLE_ATTRS": true,
              "COLUMN_SAMPLING_METHOD": "outer",
              "DB_LOCATION": ":memory:",
              "DEV_MODE": false,
              "DISPLAY_MAX_COLUMNS": 100,
              "DISPLAY_MAX_ROWS": 50000,
              "DISPLAY_MODE": "simple",
              "ENABLE_ASSIGNMENT": true,
              "ENABLE_DATALINK": true,
              "FLATTEN_COLUMN_VALUES": true,
              "FLATTEN_INDEX_VALUES": false,
              "GENERATE_DEX_METADATA": false,
              "HTML_TABLE_SCHEMA": false,
              "LOG_LEVEL": 30,
              "MAX_RENDER_SIZE_BYTES": 104857600,
              "MAX_STRING_LENGTH": 250,
              "NUM_PAST_SAMPLES_TRACKED": 3,
              "RANDOM_STATE": 12648430,
              "RESET_INDEX_VALUES": false,
              "ROW_SAMPLING_METHOD": "random",
              "SAMPLING_FACTOR": 0.1,
              "SAMPLING_METHOD": "random",
              "STRINGIFY_COLUMN_VALUES": true,
              "STRINGIFY_INDEX_VALUES": false
            },
            "sample_history": [],
            "sampling_time": "2023-06-07T16:23:54.075583",
            "user_variable_name": null,
            "variable_name": "unk_dataframe_bbe9e9ed36eb422bba7b53ac478e37e5"
          }
        },
        "inputHidden": false,
        "noteable": {
          "output_collection_id": "f2ce52a7-44d3-4b61-8bf4-7c7dd41890d0"
        },
        "outputHidden": false,
        "tags": []
      },
      "outputs": [
        {
          "data": {
            "text/html": [
              "<div><style>\n",
              ".dataframe > thead > tr > th,\n",
              ".dataframe > tbody > tr > td {\n",
              "  text-align: right;\n",
              "  white-space: pre-wrap;\n",
              "}\n",
              "</style>\n",
              "<small>shape: (344, 7)</small><table border=\"1\" class=\"dataframe\"><thead><tr><th>rowid</th><th>species</th><th>island</th><th>flipper_length_mm</th><th>body_mass_g</th><th>sex</th><th>year</th></tr><tr><td>i64</td><td>str</td><td>str</td><td>i64</td><td>i64</td><td>str</td><td>i64</td></tr></thead><tbody><tr><td>1</td><td>&quot;Adelie&quot;</td><td>&quot;Torgersen&quot;</td><td>181</td><td>3750</td><td>&quot;male&quot;</td><td>2007</td></tr><tr><td>2</td><td>&quot;Adelie&quot;</td><td>&quot;Torgersen&quot;</td><td>186</td><td>3800</td><td>&quot;female&quot;</td><td>2007</td></tr><tr><td>3</td><td>&quot;Adelie&quot;</td><td>&quot;Torgersen&quot;</td><td>195</td><td>3250</td><td>&quot;female&quot;</td><td>2007</td></tr><tr><td>4</td><td>&quot;Adelie&quot;</td><td>&quot;Torgersen&quot;</td><td>null</td><td>null</td><td>null</td><td>2007</td></tr><tr><td>5</td><td>&quot;Adelie&quot;</td><td>&quot;Torgersen&quot;</td><td>193</td><td>3450</td><td>&quot;female&quot;</td><td>2007</td></tr><tr><td>6</td><td>&quot;Adelie&quot;</td><td>&quot;Torgersen&quot;</td><td>190</td><td>3650</td><td>&quot;male&quot;</td><td>2007</td></tr><tr><td>7</td><td>&quot;Adelie&quot;</td><td>&quot;Torgersen&quot;</td><td>181</td><td>3625</td><td>&quot;female&quot;</td><td>2007</td></tr><tr><td>8</td><td>&quot;Adelie&quot;</td><td>&quot;Torgersen&quot;</td><td>195</td><td>4675</td><td>&quot;male&quot;</td><td>2007</td></tr><tr><td>9</td><td>&quot;Adelie&quot;</td><td>&quot;Torgersen&quot;</td><td>193</td><td>3475</td><td>null</td><td>2007</td></tr><tr><td>10</td><td>&quot;Adelie&quot;</td><td>&quot;Torgersen&quot;</td><td>190</td><td>4250</td><td>null</td><td>2007</td></tr><tr><td>11</td><td>&quot;Adelie&quot;</td><td>&quot;Torgersen&quot;</td><td>186</td><td>3300</td><td>null</td><td>2007</td></tr><tr><td>12</td><td>&quot;Adelie&quot;</td><td>&quot;Torgersen&quot;</td><td>180</td><td>3700</td><td>null</td><td>2007</td></tr><tr><td>&hellip;</td><td>&hellip;</td><td>&hellip;</td><td>&hellip;</td><td>&hellip;</td><td>&hellip;</td><td>&hellip;</td></tr><tr><td>333</td><td>&quot;Chinstrap&quot;</td><td>&quot;Dream&quot;</td><td>191</td><td>3250</td><td>&quot;female&quot;</td><td>2009</td></tr><tr><td>334</td><td>&quot;Chinstrap&quot;</td><td>&quot;Dream&quot;</td><td>203</td><td>4050</td><td>&quot;male&quot;</td><td>2009</td></tr><tr><td>335</td><td>&quot;Chinstrap&quot;</td><td>&quot;Dream&quot;</td><td>202</td><td>3800</td><td>&quot;male&quot;</td><td>2009</td></tr><tr><td>336</td><td>&quot;Chinstrap&quot;</td><td>&quot;Dream&quot;</td><td>194</td><td>3525</td><td>&quot;female&quot;</td><td>2009</td></tr><tr><td>337</td><td>&quot;Chinstrap&quot;</td><td>&quot;Dream&quot;</td><td>206</td><td>3950</td><td>&quot;male&quot;</td><td>2009</td></tr><tr><td>338</td><td>&quot;Chinstrap&quot;</td><td>&quot;Dream&quot;</td><td>189</td><td>3650</td><td>&quot;female&quot;</td><td>2009</td></tr><tr><td>339</td><td>&quot;Chinstrap&quot;</td><td>&quot;Dream&quot;</td><td>195</td><td>3650</td><td>&quot;female&quot;</td><td>2009</td></tr><tr><td>340</td><td>&quot;Chinstrap&quot;</td><td>&quot;Dream&quot;</td><td>207</td><td>4000</td><td>&quot;male&quot;</td><td>2009</td></tr><tr><td>341</td><td>&quot;Chinstrap&quot;</td><td>&quot;Dream&quot;</td><td>202</td><td>3400</td><td>&quot;female&quot;</td><td>2009</td></tr><tr><td>342</td><td>&quot;Chinstrap&quot;</td><td>&quot;Dream&quot;</td><td>193</td><td>3775</td><td>&quot;male&quot;</td><td>2009</td></tr><tr><td>343</td><td>&quot;Chinstrap&quot;</td><td>&quot;Dream&quot;</td><td>210</td><td>4100</td><td>&quot;male&quot;</td><td>2009</td></tr><tr><td>344</td><td>&quot;Chinstrap&quot;</td><td>&quot;Dream&quot;</td><td>198</td><td>3775</td><td>&quot;female&quot;</td><td>2009</td></tr></tbody></table></div>"
            ],
            "text/plain": [
              "shape: (344, 7)\n",
              "┌───────┬───────────┬───────────┬───────────────────┬─────────────┬────────┬──────┐\n",
              "│ rowid ┆ species   ┆ island    ┆ flipper_length_mm ┆ body_mass_g ┆ sex    ┆ year │\n",
              "│ ---   ┆ ---       ┆ ---       ┆ ---               ┆ ---         ┆ ---    ┆ ---  │\n",
              "│ i64   ┆ str       ┆ str       ┆ i64               ┆ i64         ┆ str    ┆ i64  │\n",
              "╞═══════╪═══════════╪═══════════╪═══════════════════╪═════════════╪════════╪══════╡\n",
              "│ 1     ┆ Adelie    ┆ Torgersen ┆ 181               ┆ 3750        ┆ male   ┆ 2007 │\n",
              "│ 2     ┆ Adelie    ┆ Torgersen ┆ 186               ┆ 3800        ┆ female ┆ 2007 │\n",
              "│ 3     ┆ Adelie    ┆ Torgersen ┆ 195               ┆ 3250        ┆ female ┆ 2007 │\n",
              "│ 4     ┆ Adelie    ┆ Torgersen ┆ null              ┆ null        ┆ null   ┆ 2007 │\n",
              "│ …     ┆ …         ┆ …         ┆ …                 ┆ …           ┆ …      ┆ …    │\n",
              "│ 341   ┆ Chinstrap ┆ Dream     ┆ 202               ┆ 3400        ┆ female ┆ 2009 │\n",
              "│ 342   ┆ Chinstrap ┆ Dream     ┆ 193               ┆ 3775        ┆ male   ┆ 2009 │\n",
              "│ 343   ┆ Chinstrap ┆ Dream     ┆ 210               ┆ 4100        ┆ male   ┆ 2009 │\n",
              "│ 344   ┆ Chinstrap ┆ Dream     ┆ 198               ┆ 3775        ┆ female ┆ 2009 │\n",
              "└───────┴───────────┴───────────┴───────────────────┴─────────────┴────────┴──────┘"
            ]
          },
          "execution_count": 11,
          "metadata": {},
          "output_type": "execute_result"
        }
      ],
      "source": [
        "(\n",
        "    penguins\n",
        "    .drop(['bill_depth_mm', 'bill_length_mm'])\n",
        ")"
      ]
    },
    {
      "cell_type": "markdown",
      "id": "1313a191",
      "metadata": {
        "tags": []
      },
      "source": [
        "🤔 Que feriez-vous si vous désiriez enregistrer votre nouveau tableau?"
      ]
    },
    {
      "cell_type": "markdown",
      "id": "419f6320-0be8-4d1a-8e00-2a3db07eddd1",
      "metadata": {
        "noteable": {
          "cell_type": "markdown"
        },
        "tags": []
      },
      "source": [
        "#### Filtrer\n",
        "\n",
        "Pour filtrer, il vous faudmoins une colonne. Dans *Polars*, une colonne est appelée avec `pl.col('nom_de_la_colonne')`. À partir de ça, vous appliquez les filtres que vous voulez, `&` pour les ET et des `|`pour les OU, et chaque condition doit être entre parenthèse pour que Python "
      ]
    },
    {
      "cell_type": "code",
      "execution_count": 12,
      "id": "2bd2b2c2",
      "metadata": {
        "ExecuteTime": {
          "end_time": "2023-06-07T16:38:35.328630+00:00",
          "start_time": "2023-06-07T16:38:35.097162+00:00"
        },
        "datalink": {
          "6ca48254-f528-426d-bd6f-06feadf242e3": {
            "applied_filters": [],
            "dataframe_info": {
              "default_index_used": true,
              "orig_num_cols": 9,
              "orig_num_rows": 152,
              "orig_size_bytes": 12160,
              "truncated_num_cols": 9,
              "truncated_num_rows": 152,
              "truncated_size_bytes": 12160,
              "truncated_string_columns": []
            },
            "display_id": "6ca48254-f528-426d-bd6f-06feadf242e3",
            "dx_settings": {
              "ALLOW_NOTEABLE_ATTRS": true,
              "COLUMN_SAMPLING_METHOD": "outer",
              "DB_LOCATION": ":memory:",
              "DEV_MODE": false,
              "DISPLAY_MAX_COLUMNS": 100,
              "DISPLAY_MAX_ROWS": 50000,
              "DISPLAY_MODE": "simple",
              "ENABLE_ASSIGNMENT": true,
              "ENABLE_DATALINK": true,
              "FLATTEN_COLUMN_VALUES": true,
              "FLATTEN_INDEX_VALUES": false,
              "GENERATE_DEX_METADATA": false,
              "HTML_TABLE_SCHEMA": false,
              "LOG_LEVEL": 30,
              "MAX_RENDER_SIZE_BYTES": 104857600,
              "MAX_STRING_LENGTH": 250,
              "NUM_PAST_SAMPLES_TRACKED": 3,
              "RANDOM_STATE": 12648430,
              "RESET_INDEX_VALUES": false,
              "ROW_SAMPLING_METHOD": "random",
              "SAMPLING_FACTOR": 0.1,
              "SAMPLING_METHOD": "random",
              "STRINGIFY_COLUMN_VALUES": true,
              "STRINGIFY_INDEX_VALUES": false
            },
            "sample_history": [],
            "sampling_time": "2023-06-07T16:26:17.874075",
            "user_variable_name": null,
            "variable_name": "unk_dataframe_b465fbb1870e45f284101b65f83c7bca"
          },
          "6e8ad748-a553-4012-b941-a4c1241ddf62": {
            "applied_filters": [],
            "dataframe_info": {
              "default_index_used": true,
              "orig_num_cols": 9,
              "orig_num_rows": 67,
              "orig_size_bytes": 5360,
              "truncated_num_cols": 9,
              "truncated_num_rows": 67,
              "truncated_size_bytes": 5360,
              "truncated_string_columns": []
            },
            "display_id": "6e8ad748-a553-4012-b941-a4c1241ddf62",
            "dx_settings": {
              "ALLOW_NOTEABLE_ATTRS": true,
              "COLUMN_SAMPLING_METHOD": "outer",
              "DB_LOCATION": ":memory:",
              "DEV_MODE": false,
              "DISPLAY_MAX_COLUMNS": 100,
              "DISPLAY_MAX_ROWS": 50000,
              "DISPLAY_MODE": "simple",
              "ENABLE_ASSIGNMENT": true,
              "ENABLE_DATALINK": true,
              "FLATTEN_COLUMN_VALUES": true,
              "FLATTEN_INDEX_VALUES": false,
              "GENERATE_DEX_METADATA": false,
              "HTML_TABLE_SCHEMA": false,
              "LOG_LEVEL": 30,
              "MAX_RENDER_SIZE_BYTES": 104857600,
              "MAX_STRING_LENGTH": 250,
              "NUM_PAST_SAMPLES_TRACKED": 3,
              "RANDOM_STATE": 12648430,
              "RESET_INDEX_VALUES": false,
              "ROW_SAMPLING_METHOD": "random",
              "SAMPLING_FACTOR": 0.1,
              "SAMPLING_METHOD": "random",
              "STRINGIFY_COLUMN_VALUES": true,
              "STRINGIFY_INDEX_VALUES": false
            },
            "sample_history": [],
            "sampling_time": "2023-06-07T16:37:08.058648",
            "user_variable_name": null,
            "variable_name": "unk_dataframe_ab79fe0ef1b341febcc1785493825def"
          },
          "aac9f6fe-90b6-43e0-b6b7-fcf4cec98aca": {
            "applied_filters": [],
            "dataframe_info": {
              "default_index_used": true,
              "orig_num_cols": 9,
              "orig_num_rows": 0,
              "orig_size_bytes": 0,
              "truncated_num_cols": 9,
              "truncated_num_rows": 0,
              "truncated_size_bytes": 0,
              "truncated_string_columns": []
            },
            "display_id": "aac9f6fe-90b6-43e0-b6b7-fcf4cec98aca",
            "dx_settings": {
              "ALLOW_NOTEABLE_ATTRS": true,
              "COLUMN_SAMPLING_METHOD": "outer",
              "DB_LOCATION": ":memory:",
              "DEV_MODE": false,
              "DISPLAY_MAX_COLUMNS": 100,
              "DISPLAY_MAX_ROWS": 50000,
              "DISPLAY_MODE": "simple",
              "ENABLE_ASSIGNMENT": true,
              "ENABLE_DATALINK": true,
              "FLATTEN_COLUMN_VALUES": true,
              "FLATTEN_INDEX_VALUES": false,
              "GENERATE_DEX_METADATA": false,
              "HTML_TABLE_SCHEMA": false,
              "LOG_LEVEL": 30,
              "MAX_RENDER_SIZE_BYTES": 104857600,
              "MAX_STRING_LENGTH": 250,
              "NUM_PAST_SAMPLES_TRACKED": 3,
              "RANDOM_STATE": 12648430,
              "RESET_INDEX_VALUES": false,
              "ROW_SAMPLING_METHOD": "random",
              "SAMPLING_FACTOR": 0.1,
              "SAMPLING_METHOD": "random",
              "STRINGIFY_COLUMN_VALUES": true,
              "STRINGIFY_INDEX_VALUES": false
            },
            "sample_history": [],
            "sampling_time": "2023-06-07T16:26:09.267468",
            "user_variable_name": null,
            "variable_name": "unk_dataframe_26c41c52bc39449f9b49cdcf70fa6366"
          },
          "ebe2bdbc-98ab-44a2-a4dc-cb44b590d426": {
            "applied_filters": [],
            "dataframe_info": {
              "default_index_used": true,
              "orig_num_cols": 9,
              "orig_num_rows": 136,
              "orig_size_bytes": 10880,
              "truncated_num_cols": 9,
              "truncated_num_rows": 136,
              "truncated_size_bytes": 10880,
              "truncated_string_columns": []
            },
            "display_id": "ebe2bdbc-98ab-44a2-a4dc-cb44b590d426",
            "dx_settings": {
              "ALLOW_NOTEABLE_ATTRS": true,
              "COLUMN_SAMPLING_METHOD": "outer",
              "DB_LOCATION": ":memory:",
              "DEV_MODE": false,
              "DISPLAY_MAX_COLUMNS": 100,
              "DISPLAY_MAX_ROWS": 50000,
              "DISPLAY_MODE": "simple",
              "ENABLE_ASSIGNMENT": true,
              "ENABLE_DATALINK": true,
              "FLATTEN_COLUMN_VALUES": true,
              "FLATTEN_INDEX_VALUES": false,
              "GENERATE_DEX_METADATA": false,
              "HTML_TABLE_SCHEMA": false,
              "LOG_LEVEL": 30,
              "MAX_RENDER_SIZE_BYTES": 104857600,
              "MAX_STRING_LENGTH": 250,
              "NUM_PAST_SAMPLES_TRACKED": 3,
              "RANDOM_STATE": 12648430,
              "RESET_INDEX_VALUES": false,
              "ROW_SAMPLING_METHOD": "random",
              "SAMPLING_FACTOR": 0.1,
              "SAMPLING_METHOD": "random",
              "STRINGIFY_COLUMN_VALUES": true,
              "STRINGIFY_INDEX_VALUES": false
            },
            "sample_history": [],
            "sampling_time": "2023-06-07T16:38:35.167945",
            "user_variable_name": null,
            "variable_name": "unk_dataframe_a1b28e38587b4a74bb3ce3a1350ab3d1"
          }
        },
        "noteable": {
          "output_collection_id": "89bf5c48-70ea-4e2b-ae2c-e722cffecdb1"
        },
        "tags": []
      },
      "outputs": [
        {
          "data": {
            "text/html": [
              "<div><style>\n",
              ".dataframe > thead > tr > th,\n",
              ".dataframe > tbody > tr > td {\n",
              "  text-align: right;\n",
              "  white-space: pre-wrap;\n",
              "}\n",
              "</style>\n",
              "<small>shape: (136, 9)</small><table border=\"1\" class=\"dataframe\"><thead><tr><th>rowid</th><th>species</th><th>island</th><th>bill_length_mm</th><th>bill_depth_mm</th><th>flipper_length_mm</th><th>body_mass_g</th><th>sex</th><th>year</th></tr><tr><td>i64</td><td>str</td><td>str</td><td>f64</td><td>f64</td><td>i64</td><td>i64</td><td>str</td><td>i64</td></tr></thead><tbody><tr><td>3</td><td>&quot;Adelie&quot;</td><td>&quot;Torgersen&quot;</td><td>40.3</td><td>18.0</td><td>195</td><td>3250</td><td>&quot;female&quot;</td><td>2007</td></tr><tr><td>5</td><td>&quot;Adelie&quot;</td><td>&quot;Torgersen&quot;</td><td>36.7</td><td>19.3</td><td>193</td><td>3450</td><td>&quot;female&quot;</td><td>2007</td></tr><tr><td>8</td><td>&quot;Adelie&quot;</td><td>&quot;Torgersen&quot;</td><td>39.2</td><td>19.6</td><td>195</td><td>4675</td><td>&quot;male&quot;</td><td>2007</td></tr><tr><td>9</td><td>&quot;Adelie&quot;</td><td>&quot;Torgersen&quot;</td><td>34.1</td><td>18.1</td><td>193</td><td>3475</td><td>null</td><td>2007</td></tr><tr><td>11</td><td>&quot;Adelie&quot;</td><td>&quot;Torgersen&quot;</td><td>37.8</td><td>17.1</td><td>186</td><td>3300</td><td>null</td><td>2007</td></tr><tr><td>13</td><td>&quot;Adelie&quot;</td><td>&quot;Torgersen&quot;</td><td>41.1</td><td>17.6</td><td>182</td><td>3200</td><td>&quot;female&quot;</td><td>2007</td></tr><tr><td>14</td><td>&quot;Adelie&quot;</td><td>&quot;Torgersen&quot;</td><td>38.6</td><td>21.2</td><td>191</td><td>3800</td><td>&quot;male&quot;</td><td>2007</td></tr><tr><td>15</td><td>&quot;Adelie&quot;</td><td>&quot;Torgersen&quot;</td><td>34.6</td><td>21.1</td><td>198</td><td>4400</td><td>&quot;male&quot;</td><td>2007</td></tr><tr><td>17</td><td>&quot;Adelie&quot;</td><td>&quot;Torgersen&quot;</td><td>38.7</td><td>19.0</td><td>195</td><td>3450</td><td>&quot;female&quot;</td><td>2007</td></tr><tr><td>18</td><td>&quot;Adelie&quot;</td><td>&quot;Torgersen&quot;</td><td>42.5</td><td>20.7</td><td>197</td><td>4500</td><td>&quot;male&quot;</td><td>2007</td></tr><tr><td>19</td><td>&quot;Adelie&quot;</td><td>&quot;Torgersen&quot;</td><td>34.4</td><td>18.4</td><td>184</td><td>3325</td><td>&quot;female&quot;</td><td>2007</td></tr><tr><td>20</td><td>&quot;Adelie&quot;</td><td>&quot;Torgersen&quot;</td><td>46.0</td><td>21.5</td><td>194</td><td>4200</td><td>&quot;male&quot;</td><td>2007</td></tr><tr><td>&hellip;</td><td>&hellip;</td><td>&hellip;</td><td>&hellip;</td><td>&hellip;</td><td>&hellip;</td><td>&hellip;</td><td>&hellip;</td><td>&hellip;</td></tr><tr><td>309</td><td>&quot;Chinstrap&quot;</td><td>&quot;Dream&quot;</td><td>42.5</td><td>16.7</td><td>187</td><td>3350</td><td>&quot;female&quot;</td><td>2008</td></tr><tr><td>315</td><td>&quot;Chinstrap&quot;</td><td>&quot;Dream&quot;</td><td>46.9</td><td>16.6</td><td>192</td><td>2700</td><td>&quot;female&quot;</td><td>2008</td></tr><tr><td>319</td><td>&quot;Chinstrap&quot;</td><td>&quot;Dream&quot;</td><td>50.9</td><td>19.1</td><td>196</td><td>3550</td><td>&quot;male&quot;</td><td>2008</td></tr><tr><td>320</td><td>&quot;Chinstrap&quot;</td><td>&quot;Dream&quot;</td><td>45.5</td><td>17.0</td><td>196</td><td>3500</td><td>&quot;female&quot;</td><td>2008</td></tr><tr><td>323</td><td>&quot;Chinstrap&quot;</td><td>&quot;Dream&quot;</td><td>50.1</td><td>17.9</td><td>190</td><td>3400</td><td>&quot;female&quot;</td><td>2009</td></tr><tr><td>325</td><td>&quot;Chinstrap&quot;</td><td>&quot;Dream&quot;</td><td>51.5</td><td>18.7</td><td>187</td><td>3250</td><td>&quot;male&quot;</td><td>2009</td></tr><tr><td>327</td><td>&quot;Chinstrap&quot;</td><td>&quot;Dream&quot;</td><td>48.1</td><td>16.4</td><td>199</td><td>3325</td><td>&quot;female&quot;</td><td>2009</td></tr><tr><td>331</td><td>&quot;Chinstrap&quot;</td><td>&quot;Dream&quot;</td><td>42.5</td><td>17.3</td><td>187</td><td>3350</td><td>&quot;female&quot;</td><td>2009</td></tr><tr><td>332</td><td>&quot;Chinstrap&quot;</td><td>&quot;Dream&quot;</td><td>52.2</td><td>18.8</td><td>197</td><td>3450</td><td>&quot;male&quot;</td><td>2009</td></tr><tr><td>333</td><td>&quot;Chinstrap&quot;</td><td>&quot;Dream&quot;</td><td>45.2</td><td>16.6</td><td>191</td><td>3250</td><td>&quot;female&quot;</td><td>2009</td></tr><tr><td>336</td><td>&quot;Chinstrap&quot;</td><td>&quot;Dream&quot;</td><td>45.6</td><td>19.4</td><td>194</td><td>3525</td><td>&quot;female&quot;</td><td>2009</td></tr><tr><td>341</td><td>&quot;Chinstrap&quot;</td><td>&quot;Dream&quot;</td><td>43.5</td><td>18.1</td><td>202</td><td>3400</td><td>&quot;female&quot;</td><td>2009</td></tr></tbody></table></div>"
            ],
            "text/plain": [
              "shape: (136, 9)\n",
              "┌───────┬───────────┬───────────┬────────────────┬───┬───────────────┬─────────────┬────────┬──────┐\n",
              "│ rowid ┆ species   ┆ island    ┆ bill_length_mm ┆ … ┆ flipper_lengt ┆ body_mass_g ┆ sex    ┆ year │\n",
              "│ ---   ┆ ---       ┆ ---       ┆ ---            ┆   ┆ h_mm          ┆ ---         ┆ ---    ┆ ---  │\n",
              "│ i64   ┆ str       ┆ str       ┆ f64            ┆   ┆ ---           ┆ i64         ┆ str    ┆ i64  │\n",
              "│       ┆           ┆           ┆                ┆   ┆ i64           ┆             ┆        ┆      │\n",
              "╞═══════╪═══════════╪═══════════╪════════════════╪═══╪═══════════════╪═════════════╪════════╪══════╡\n",
              "│ 3     ┆ Adelie    ┆ Torgersen ┆ 40.3           ┆ … ┆ 195           ┆ 3250        ┆ female ┆ 2007 │\n",
              "│ 5     ┆ Adelie    ┆ Torgersen ┆ 36.7           ┆ … ┆ 193           ┆ 3450        ┆ female ┆ 2007 │\n",
              "│ 8     ┆ Adelie    ┆ Torgersen ┆ 39.2           ┆ … ┆ 195           ┆ 4675        ┆ male   ┆ 2007 │\n",
              "│ 9     ┆ Adelie    ┆ Torgersen ┆ 34.1           ┆ … ┆ 193           ┆ 3475        ┆ null   ┆ 2007 │\n",
              "│ …     ┆ …         ┆ …         ┆ …              ┆ … ┆ …             ┆ …           ┆ …      ┆ …    │\n",
              "│ 332   ┆ Chinstrap ┆ Dream     ┆ 52.2           ┆ … ┆ 197           ┆ 3450        ┆ male   ┆ 2009 │\n",
              "│ 333   ┆ Chinstrap ┆ Dream     ┆ 45.2           ┆ … ┆ 191           ┆ 3250        ┆ female ┆ 2009 │\n",
              "│ 336   ┆ Chinstrap ┆ Dream     ┆ 45.6           ┆ … ┆ 194           ┆ 3525        ┆ female ┆ 2009 │\n",
              "│ 341   ┆ Chinstrap ┆ Dream     ┆ 43.5           ┆ … ┆ 202           ┆ 3400        ┆ female ┆ 2009 │\n",
              "└───────┴───────────┴───────────┴────────────────┴───┴───────────────┴─────────────┴────────┴──────┘"
            ]
          },
          "execution_count": 12,
          "metadata": {},
          "output_type": "execute_result"
        }
      ],
      "source": [
        "(\n",
        "    penguins\n",
        "    .filter(\n",
        "        (pl.col('species') == 'Adelie') &\n",
        "        (pl.col('flipper_length_mm') > 190) |\n",
        "        (pl.col('body_mass_g') < 3600)\n",
        "    )\n",
        ")"
      ]
    },
    {
      "cell_type": "markdown",
      "id": "0191cb71",
      "metadata": {
        "tags": []
      },
      "source": [
        "Les opérations de sélection et de filtre peuvent bien sûr être combinées!"
      ]
    },
    {
      "cell_type": "code",
      "execution_count": 13,
      "id": "75c4aba7",
      "metadata": {
        "ExecuteTime": {
          "end_time": "2023-06-07T16:42:09.594266+00:00",
          "start_time": "2023-06-07T16:42:09.398163+00:00"
        },
        "datalink": {
          "7e7ebc42-e0ab-4dc4-aa54-b8789b68b664": {
            "applied_filters": [],
            "dataframe_info": {
              "default_index_used": true,
              "orig_num_cols": 2,
              "orig_num_rows": 56,
              "orig_size_bytes": 1344,
              "truncated_num_cols": 2,
              "truncated_num_rows": 56,
              "truncated_size_bytes": 1344,
              "truncated_string_columns": []
            },
            "display_id": "7e7ebc42-e0ab-4dc4-aa54-b8789b68b664",
            "dx_settings": {
              "ALLOW_NOTEABLE_ATTRS": true,
              "COLUMN_SAMPLING_METHOD": "outer",
              "DB_LOCATION": ":memory:",
              "DEV_MODE": false,
              "DISPLAY_MAX_COLUMNS": 100,
              "DISPLAY_MAX_ROWS": 50000,
              "DISPLAY_MODE": "simple",
              "ENABLE_ASSIGNMENT": true,
              "ENABLE_DATALINK": true,
              "FLATTEN_COLUMN_VALUES": true,
              "FLATTEN_INDEX_VALUES": false,
              "GENERATE_DEX_METADATA": false,
              "HTML_TABLE_SCHEMA": false,
              "LOG_LEVEL": 30,
              "MAX_RENDER_SIZE_BYTES": 104857600,
              "MAX_STRING_LENGTH": 250,
              "NUM_PAST_SAMPLES_TRACKED": 3,
              "RANDOM_STATE": 12648430,
              "RESET_INDEX_VALUES": false,
              "ROW_SAMPLING_METHOD": "random",
              "SAMPLING_FACTOR": 0.1,
              "SAMPLING_METHOD": "random",
              "STRINGIFY_COLUMN_VALUES": true,
              "STRINGIFY_INDEX_VALUES": false
            },
            "sample_history": [],
            "sampling_time": "2023-06-07T16:42:09.438136",
            "user_variable_name": null,
            "variable_name": "unk_dataframe_df638eeb66964c45ad77fd8b4af83a85"
          },
          "c8c4ca51-0b45-4f93-b3bb-b8b67022ba33": {
            "applied_filters": [],
            "dataframe_info": {
              "default_index_used": true,
              "orig_num_cols": 2,
              "orig_num_rows": 152,
              "orig_size_bytes": 3648,
              "truncated_num_cols": 2,
              "truncated_num_rows": 152,
              "truncated_size_bytes": 3648,
              "truncated_string_columns": []
            },
            "display_id": "c8c4ca51-0b45-4f93-b3bb-b8b67022ba33",
            "dx_settings": {
              "ALLOW_NOTEABLE_ATTRS": true,
              "COLUMN_SAMPLING_METHOD": "outer",
              "DB_LOCATION": ":memory:",
              "DEV_MODE": false,
              "DISPLAY_MAX_COLUMNS": 100,
              "DISPLAY_MAX_ROWS": 50000,
              "DISPLAY_MODE": "simple",
              "ENABLE_ASSIGNMENT": true,
              "ENABLE_DATALINK": true,
              "FLATTEN_COLUMN_VALUES": true,
              "FLATTEN_INDEX_VALUES": false,
              "GENERATE_DEX_METADATA": false,
              "HTML_TABLE_SCHEMA": false,
              "LOG_LEVEL": 30,
              "MAX_RENDER_SIZE_BYTES": 104857600,
              "MAX_STRING_LENGTH": 250,
              "NUM_PAST_SAMPLES_TRACKED": 3,
              "RANDOM_STATE": 12648430,
              "RESET_INDEX_VALUES": false,
              "ROW_SAMPLING_METHOD": "random",
              "SAMPLING_FACTOR": 0.1,
              "SAMPLING_METHOD": "random",
              "STRINGIFY_COLUMN_VALUES": true,
              "STRINGIFY_INDEX_VALUES": false
            },
            "sample_history": [],
            "sampling_time": "2023-06-07T16:41:28.647632",
            "user_variable_name": null,
            "variable_name": "unk_dataframe_367a5abc7ff043498ddfb50fc1359edc"
          }
        },
        "noteable": {
          "output_collection_id": "1221a664-1daf-4303-9cbb-94890ce13849"
        },
        "tags": []
      },
      "outputs": [
        {
          "data": {
            "text/html": [
              "<div><style>\n",
              ".dataframe > thead > tr > th,\n",
              ".dataframe > tbody > tr > td {\n",
              "  text-align: right;\n",
              "  white-space: pre-wrap;\n",
              "}\n",
              "</style>\n",
              "<small>shape: (56, 2)</small><table border=\"1\" class=\"dataframe\"><thead><tr><th>flipper_length_mm</th><th>body_mass_g</th></tr><tr><td>i64</td><td>i64</td></tr></thead><tbody><tr><td>178</td><td>3250</td></tr><tr><td>178</td><td>3900</td></tr><tr><td>188</td><td>3300</td></tr><tr><td>184</td><td>3900</td></tr><tr><td>195</td><td>3325</td></tr><tr><td>196</td><td>4150</td></tr><tr><td>190</td><td>3950</td></tr><tr><td>180</td><td>3550</td></tr><tr><td>181</td><td>3300</td></tr><tr><td>184</td><td>4650</td></tr><tr><td>182</td><td>3150</td></tr><tr><td>195</td><td>3900</td></tr><tr><td>&hellip;</td><td>&hellip;</td></tr><tr><td>193</td><td>3400</td></tr><tr><td>187</td><td>3475</td></tr><tr><td>188</td><td>3050</td></tr><tr><td>190</td><td>3725</td></tr><tr><td>192</td><td>3000</td></tr><tr><td>185</td><td>3650</td></tr><tr><td>190</td><td>4250</td></tr><tr><td>184</td><td>3475</td></tr><tr><td>195</td><td>3450</td></tr><tr><td>193</td><td>3750</td></tr><tr><td>187</td><td>3700</td></tr><tr><td>201</td><td>4000</td></tr></tbody></table></div>"
            ],
            "text/plain": [
              "shape: (56, 2)\n",
              "┌───────────────────┬─────────────┐\n",
              "│ flipper_length_mm ┆ body_mass_g │\n",
              "│ ---               ┆ ---         │\n",
              "│ i64               ┆ i64         │\n",
              "╞═══════════════════╪═════════════╡\n",
              "│ 178               ┆ 3250        │\n",
              "│ 178               ┆ 3900        │\n",
              "│ 188               ┆ 3300        │\n",
              "│ 184               ┆ 3900        │\n",
              "│ …                 ┆ …           │\n",
              "│ 195               ┆ 3450        │\n",
              "│ 193               ┆ 3750        │\n",
              "│ 187               ┆ 3700        │\n",
              "│ 201               ┆ 4000        │\n",
              "└───────────────────┴─────────────┘"
            ]
          },
          "execution_count": 13,
          "metadata": {},
          "output_type": "execute_result"
        }
      ],
      "source": [
        "(\n",
        "    penguins\n",
        "    .filter((pl.col('species') == 'Adelie') & (pl.col('island') == 'Dream'))\n",
        "    .select(['flipper_length_mm', 'body_mass_g'])\n",
        ")"
      ]
    },
    {
      "cell_type": "markdown",
      "id": "35060b94",
      "metadata": {
        "tags": []
      },
      "source": [
        "### Effectuer un sommaire avec `groupby`\n",
        "\n",
        "La méthode `groupby` permet d'effectuer des calculs par groupe et sous-groupes."
      ]
    },
    {
      "cell_type": "code",
      "execution_count": 14,
      "id": "1972ff7a",
      "metadata": {
        "ExecuteTime": {
          "end_time": "2023-06-07T16:53:32.270078+00:00",
          "start_time": "2023-06-07T16:53:32.047731+00:00"
        },
        "datalink": {
          "b9ab7f58-7a92-43a7-813a-819fa5f178b3": {
            "applied_filters": [],
            "dataframe_info": {
              "default_index_used": true,
              "orig_num_cols": 9,
              "orig_num_rows": 5,
              "orig_size_bytes": 400,
              "truncated_num_cols": 9,
              "truncated_num_rows": 5,
              "truncated_size_bytes": 400,
              "truncated_string_columns": []
            },
            "display_id": "b9ab7f58-7a92-43a7-813a-819fa5f178b3",
            "dx_settings": {
              "ALLOW_NOTEABLE_ATTRS": true,
              "COLUMN_SAMPLING_METHOD": "outer",
              "DB_LOCATION": ":memory:",
              "DEV_MODE": false,
              "DISPLAY_MAX_COLUMNS": 100,
              "DISPLAY_MAX_ROWS": 50000,
              "DISPLAY_MODE": "simple",
              "ENABLE_ASSIGNMENT": true,
              "ENABLE_DATALINK": true,
              "FLATTEN_COLUMN_VALUES": true,
              "FLATTEN_INDEX_VALUES": false,
              "GENERATE_DEX_METADATA": false,
              "HTML_TABLE_SCHEMA": false,
              "LOG_LEVEL": 30,
              "MAX_RENDER_SIZE_BYTES": 104857600,
              "MAX_STRING_LENGTH": 250,
              "NUM_PAST_SAMPLES_TRACKED": 3,
              "RANDOM_STATE": 12648430,
              "RESET_INDEX_VALUES": false,
              "ROW_SAMPLING_METHOD": "random",
              "SAMPLING_FACTOR": 0.1,
              "SAMPLING_METHOD": "random",
              "STRINGIFY_COLUMN_VALUES": true,
              "STRINGIFY_INDEX_VALUES": false
            },
            "sample_history": [],
            "sampling_time": "2023-06-07T16:53:32.111434",
            "user_variable_name": null,
            "variable_name": "unk_dataframe_89f1c8c988d74d478c6852ec1ceca543"
          },
          "d34a68a4-6639-42da-a381-223eab93a7b2": {
            "applied_filters": [],
            "dataframe_info": {
              "default_index_used": true,
              "orig_num_cols": 9,
              "orig_num_rows": 5,
              "orig_size_bytes": 400,
              "truncated_num_cols": 9,
              "truncated_num_rows": 5,
              "truncated_size_bytes": 400,
              "truncated_string_columns": []
            },
            "display_id": "d34a68a4-6639-42da-a381-223eab93a7b2",
            "dx_settings": {
              "ALLOW_NOTEABLE_ATTRS": true,
              "COLUMN_SAMPLING_METHOD": "outer",
              "DB_LOCATION": ":memory:",
              "DEV_MODE": false,
              "DISPLAY_MAX_COLUMNS": 100,
              "DISPLAY_MAX_ROWS": 50000,
              "DISPLAY_MODE": "simple",
              "ENABLE_ASSIGNMENT": true,
              "ENABLE_DATALINK": true,
              "FLATTEN_COLUMN_VALUES": true,
              "FLATTEN_INDEX_VALUES": false,
              "GENERATE_DEX_METADATA": false,
              "HTML_TABLE_SCHEMA": false,
              "LOG_LEVEL": 30,
              "MAX_RENDER_SIZE_BYTES": 104857600,
              "MAX_STRING_LENGTH": 250,
              "NUM_PAST_SAMPLES_TRACKED": 3,
              "RANDOM_STATE": 12648430,
              "RESET_INDEX_VALUES": false,
              "ROW_SAMPLING_METHOD": "random",
              "SAMPLING_FACTOR": 0.1,
              "SAMPLING_METHOD": "random",
              "STRINGIFY_COLUMN_VALUES": true,
              "STRINGIFY_INDEX_VALUES": false
            },
            "sample_history": [],
            "sampling_time": "2023-06-07T16:52:12.363067",
            "user_variable_name": null,
            "variable_name": "unk_dataframe_22ada11ca32a4af589c83693a5e5f47a"
          }
        },
        "noteable": {
          "output_collection_id": "99dc20c7-11e5-4ae1-858e-761b5fd60625"
        },
        "tags": []
      },
      "outputs": [
        {
          "name": "stderr",
          "output_type": "stream",
          "text": [
            "/var/folders/7p/wk_02tlx73db7yv0wvbxc1jh0000gn/T/ipykernel_93939/1986216463.py:4: DeprecationWarning: `groupby` is deprecated. It has been renamed to `group_by`.\n",
            "  .groupby(['species', 'sex'])\n"
          ]
        },
        {
          "data": {
            "text/html": [
              "<div><style>\n",
              ".dataframe > thead > tr > th,\n",
              ".dataframe > tbody > tr > td {\n",
              "  text-align: right;\n",
              "  white-space: pre-wrap;\n",
              "}\n",
              "</style>\n",
              "<small>shape: (5, 9)</small><table border=\"1\" class=\"dataframe\"><thead><tr><th>species</th><th>sex</th><th>rowid</th><th>island</th><th>bill_length_mm</th><th>bill_depth_mm</th><th>flipper_length_mm</th><th>body_mass_g</th><th>year</th></tr><tr><td>str</td><td>str</td><td>f64</td><td>str</td><td>f64</td><td>f64</td><td>f64</td><td>f64</td><td>f64</td></tr></thead><tbody><tr><td>&quot;Adelie&quot;</td><td>&quot;female&quot;</td><td>93.074074</td><td>null</td><td>36.911111</td><td>17.618519</td><td>187.851852</td><td>3344.444444</td><td>2008.037037</td></tr><tr><td>&quot;Adelie&quot;</td><td>&quot;male&quot;</td><td>92.107143</td><td>null</td><td>40.071429</td><td>18.839286</td><td>191.928571</td><td>4045.535714</td><td>2008.0</td></tr><tr><td>&quot;Adelie&quot;</td><td>null</td><td>48.0</td><td>null</td><td>37.5</td><td>18.9</td><td>179.0</td><td>2975.0</td><td>2007.0</td></tr><tr><td>&quot;Chinstrap&quot;</td><td>&quot;female&quot;</td><td>310.294118</td><td>null</td><td>46.573529</td><td>17.588235</td><td>191.735294</td><td>3527.205882</td><td>2007.970588</td></tr><tr><td>&quot;Chinstrap&quot;</td><td>&quot;male&quot;</td><td>310.705882</td><td>null</td><td>51.094118</td><td>19.252941</td><td>199.911765</td><td>3938.970588</td><td>2007.970588</td></tr></tbody></table></div>"
            ],
            "text/plain": [
              "shape: (5, 9)\n",
              "┌───────────┬────────┬────────────┬────────┬───┬────────────┬────────────┬────────────┬────────────┐\n",
              "│ species   ┆ sex    ┆ rowid      ┆ island ┆ … ┆ bill_depth ┆ flipper_le ┆ body_mass_ ┆ year       │\n",
              "│ ---       ┆ ---    ┆ ---        ┆ ---    ┆   ┆ _mm        ┆ ngth_mm    ┆ g          ┆ ---        │\n",
              "│ str       ┆ str    ┆ f64        ┆ str    ┆   ┆ ---        ┆ ---        ┆ ---        ┆ f64        │\n",
              "│           ┆        ┆            ┆        ┆   ┆ f64        ┆ f64        ┆ f64        ┆            │\n",
              "╞═══════════╪════════╪════════════╪════════╪═══╪════════════╪════════════╪════════════╪════════════╡\n",
              "│ Adelie    ┆ female ┆ 93.074074  ┆ null   ┆ … ┆ 17.618519  ┆ 187.851852 ┆ 3344.44444 ┆ 2008.03703 │\n",
              "│           ┆        ┆            ┆        ┆   ┆            ┆            ┆ 4          ┆ 7          │\n",
              "│ Adelie    ┆ male   ┆ 92.107143  ┆ null   ┆ … ┆ 18.839286  ┆ 191.928571 ┆ 4045.53571 ┆ 2008.0     │\n",
              "│           ┆        ┆            ┆        ┆   ┆            ┆            ┆ 4          ┆            │\n",
              "│ Adelie    ┆ null   ┆ 48.0       ┆ null   ┆ … ┆ 18.9       ┆ 179.0      ┆ 2975.0     ┆ 2007.0     │\n",
              "│ Chinstrap ┆ female ┆ 310.294118 ┆ null   ┆ … ┆ 17.588235  ┆ 191.735294 ┆ 3527.20588 ┆ 2007.97058 │\n",
              "│           ┆        ┆            ┆        ┆   ┆            ┆            ┆ 2          ┆ 8          │\n",
              "│ Chinstrap ┆ male   ┆ 310.705882 ┆ null   ┆ … ┆ 19.252941  ┆ 199.911765 ┆ 3938.97058 ┆ 2007.97058 │\n",
              "│           ┆        ┆            ┆        ┆   ┆            ┆            ┆ 8          ┆ 8          │\n",
              "└───────────┴────────┴────────────┴────────┴───┴────────────┴────────────┴────────────┴────────────┘"
            ]
          },
          "execution_count": 14,
          "metadata": {},
          "output_type": "execute_result"
        }
      ],
      "source": [
        "(\n",
        "    penguins\n",
        "    .filter(pl.col('island') == 'Dream')\n",
        "    .groupby(['species', 'sex'])\n",
        "    .mean()\n",
        ")"
      ]
    },
    {
      "cell_type": "markdown",
      "id": "a1a6c4b4",
      "metadata": {
        "tags": []
      },
      "source": [
        "### Effectuer des calculs avec `with_columns`\n",
        "\n",
        "`with_columns` est super pratique pour effectuer des opérations sur des colonnes. On utilise `pl.col()` comme auparavant pour faire référence à une colonne. Pour créer une au lieu de remplacer l'ancienne, on n'a qu'à lui donner un nouveau nom avec la méthode `alias('nom_de_la_nouvelle_colonne')`.\n"
      ]
    },
    {
      "cell_type": "code",
      "execution_count": 15,
      "id": "0e122c1e",
      "metadata": {
        "ExecuteTime": {
          "end_time": "2023-06-07T17:03:56.139084+00:00",
          "start_time": "2023-06-07T17:03:55.899859+00:00"
        },
        "datalink": {
          "f86f5751-5deb-47b9-b74b-981a2cfc18cf": {
            "applied_filters": [],
            "dataframe_info": {
              "default_index_used": true,
              "orig_num_cols": 10,
              "orig_num_rows": 344,
              "orig_size_bytes": 30272,
              "truncated_num_cols": 10,
              "truncated_num_rows": 344,
              "truncated_size_bytes": 30272,
              "truncated_string_columns": []
            },
            "display_id": "f86f5751-5deb-47b9-b74b-981a2cfc18cf",
            "dx_settings": {
              "ALLOW_NOTEABLE_ATTRS": true,
              "COLUMN_SAMPLING_METHOD": "outer",
              "DB_LOCATION": ":memory:",
              "DEV_MODE": false,
              "DISPLAY_MAX_COLUMNS": 100,
              "DISPLAY_MAX_ROWS": 50000,
              "DISPLAY_MODE": "simple",
              "ENABLE_ASSIGNMENT": true,
              "ENABLE_DATALINK": true,
              "FLATTEN_COLUMN_VALUES": true,
              "FLATTEN_INDEX_VALUES": false,
              "GENERATE_DEX_METADATA": false,
              "HTML_TABLE_SCHEMA": false,
              "LOG_LEVEL": 30,
              "MAX_RENDER_SIZE_BYTES": 104857600,
              "MAX_STRING_LENGTH": 250,
              "NUM_PAST_SAMPLES_TRACKED": 3,
              "RANDOM_STATE": 12648430,
              "RESET_INDEX_VALUES": false,
              "ROW_SAMPLING_METHOD": "random",
              "SAMPLING_FACTOR": 0.1,
              "SAMPLING_METHOD": "random",
              "STRINGIFY_COLUMN_VALUES": true,
              "STRINGIFY_INDEX_VALUES": false
            },
            "sample_history": [],
            "sampling_time": "2023-06-07T17:03:55.977893",
            "user_variable_name": null,
            "variable_name": "unk_dataframe_10bc375785794eea91f2c76aace5302d"
          }
        },
        "noteable": {
          "output_collection_id": "00e7c33a-9a89-4192-80ae-9d0001537a30"
        },
        "tags": []
      },
      "outputs": [
        {
          "data": {
            "text/html": [
              "<div><style>\n",
              ".dataframe > thead > tr > th,\n",
              ".dataframe > tbody > tr > td {\n",
              "  text-align: right;\n",
              "  white-space: pre-wrap;\n",
              "}\n",
              "</style>\n",
              "<small>shape: (344, 10)</small><table border=\"1\" class=\"dataframe\"><thead><tr><th>rowid</th><th>species</th><th>island</th><th>bill_length_mm</th><th>bill_depth_mm</th><th>flipper_length_mm</th><th>body_mass_g</th><th>sex</th><th>year</th><th>flipper_length_inches</th></tr><tr><td>i64</td><td>str</td><td>str</td><td>f64</td><td>f64</td><td>i64</td><td>i64</td><td>str</td><td>i64</td><td>f64</td></tr></thead><tbody><tr><td>1</td><td>&quot;Adelie&quot;</td><td>&quot;Torgersen&quot;</td><td>39.1</td><td>18.7</td><td>181</td><td>3750</td><td>&quot;male&quot;</td><td>2007</td><td>7.125984</td></tr><tr><td>2</td><td>&quot;Adelie&quot;</td><td>&quot;Torgersen&quot;</td><td>39.5</td><td>17.4</td><td>186</td><td>3800</td><td>&quot;female&quot;</td><td>2007</td><td>7.322835</td></tr><tr><td>3</td><td>&quot;Adelie&quot;</td><td>&quot;Torgersen&quot;</td><td>40.3</td><td>18.0</td><td>195</td><td>3250</td><td>&quot;female&quot;</td><td>2007</td><td>7.677165</td></tr><tr><td>4</td><td>&quot;Adelie&quot;</td><td>&quot;Torgersen&quot;</td><td>null</td><td>null</td><td>null</td><td>null</td><td>null</td><td>2007</td><td>null</td></tr><tr><td>5</td><td>&quot;Adelie&quot;</td><td>&quot;Torgersen&quot;</td><td>36.7</td><td>19.3</td><td>193</td><td>3450</td><td>&quot;female&quot;</td><td>2007</td><td>7.598425</td></tr><tr><td>6</td><td>&quot;Adelie&quot;</td><td>&quot;Torgersen&quot;</td><td>39.3</td><td>20.6</td><td>190</td><td>3650</td><td>&quot;male&quot;</td><td>2007</td><td>7.480315</td></tr><tr><td>7</td><td>&quot;Adelie&quot;</td><td>&quot;Torgersen&quot;</td><td>38.9</td><td>17.8</td><td>181</td><td>3625</td><td>&quot;female&quot;</td><td>2007</td><td>7.125984</td></tr><tr><td>8</td><td>&quot;Adelie&quot;</td><td>&quot;Torgersen&quot;</td><td>39.2</td><td>19.6</td><td>195</td><td>4675</td><td>&quot;male&quot;</td><td>2007</td><td>7.677165</td></tr><tr><td>9</td><td>&quot;Adelie&quot;</td><td>&quot;Torgersen&quot;</td><td>34.1</td><td>18.1</td><td>193</td><td>3475</td><td>null</td><td>2007</td><td>7.598425</td></tr><tr><td>10</td><td>&quot;Adelie&quot;</td><td>&quot;Torgersen&quot;</td><td>42.0</td><td>20.2</td><td>190</td><td>4250</td><td>null</td><td>2007</td><td>7.480315</td></tr><tr><td>11</td><td>&quot;Adelie&quot;</td><td>&quot;Torgersen&quot;</td><td>37.8</td><td>17.1</td><td>186</td><td>3300</td><td>null</td><td>2007</td><td>7.322835</td></tr><tr><td>12</td><td>&quot;Adelie&quot;</td><td>&quot;Torgersen&quot;</td><td>37.8</td><td>17.3</td><td>180</td><td>3700</td><td>null</td><td>2007</td><td>7.086614</td></tr><tr><td>&hellip;</td><td>&hellip;</td><td>&hellip;</td><td>&hellip;</td><td>&hellip;</td><td>&hellip;</td><td>&hellip;</td><td>&hellip;</td><td>&hellip;</td><td>&hellip;</td></tr><tr><td>333</td><td>&quot;Chinstrap&quot;</td><td>&quot;Dream&quot;</td><td>45.2</td><td>16.6</td><td>191</td><td>3250</td><td>&quot;female&quot;</td><td>2009</td><td>7.519685</td></tr><tr><td>334</td><td>&quot;Chinstrap&quot;</td><td>&quot;Dream&quot;</td><td>49.3</td><td>19.9</td><td>203</td><td>4050</td><td>&quot;male&quot;</td><td>2009</td><td>7.992126</td></tr><tr><td>335</td><td>&quot;Chinstrap&quot;</td><td>&quot;Dream&quot;</td><td>50.2</td><td>18.8</td><td>202</td><td>3800</td><td>&quot;male&quot;</td><td>2009</td><td>7.952756</td></tr><tr><td>336</td><td>&quot;Chinstrap&quot;</td><td>&quot;Dream&quot;</td><td>45.6</td><td>19.4</td><td>194</td><td>3525</td><td>&quot;female&quot;</td><td>2009</td><td>7.637795</td></tr><tr><td>337</td><td>&quot;Chinstrap&quot;</td><td>&quot;Dream&quot;</td><td>51.9</td><td>19.5</td><td>206</td><td>3950</td><td>&quot;male&quot;</td><td>2009</td><td>8.110236</td></tr><tr><td>338</td><td>&quot;Chinstrap&quot;</td><td>&quot;Dream&quot;</td><td>46.8</td><td>16.5</td><td>189</td><td>3650</td><td>&quot;female&quot;</td><td>2009</td><td>7.440945</td></tr><tr><td>339</td><td>&quot;Chinstrap&quot;</td><td>&quot;Dream&quot;</td><td>45.7</td><td>17.0</td><td>195</td><td>3650</td><td>&quot;female&quot;</td><td>2009</td><td>7.677165</td></tr><tr><td>340</td><td>&quot;Chinstrap&quot;</td><td>&quot;Dream&quot;</td><td>55.8</td><td>19.8</td><td>207</td><td>4000</td><td>&quot;male&quot;</td><td>2009</td><td>8.149606</td></tr><tr><td>341</td><td>&quot;Chinstrap&quot;</td><td>&quot;Dream&quot;</td><td>43.5</td><td>18.1</td><td>202</td><td>3400</td><td>&quot;female&quot;</td><td>2009</td><td>7.952756</td></tr><tr><td>342</td><td>&quot;Chinstrap&quot;</td><td>&quot;Dream&quot;</td><td>49.6</td><td>18.2</td><td>193</td><td>3775</td><td>&quot;male&quot;</td><td>2009</td><td>7.598425</td></tr><tr><td>343</td><td>&quot;Chinstrap&quot;</td><td>&quot;Dream&quot;</td><td>50.8</td><td>19.0</td><td>210</td><td>4100</td><td>&quot;male&quot;</td><td>2009</td><td>8.267717</td></tr><tr><td>344</td><td>&quot;Chinstrap&quot;</td><td>&quot;Dream&quot;</td><td>50.2</td><td>18.7</td><td>198</td><td>3775</td><td>&quot;female&quot;</td><td>2009</td><td>7.795276</td></tr></tbody></table></div>"
            ],
            "text/plain": [
              "shape: (344, 10)\n",
              "┌───────┬───────────┬───────────┬────────────────┬───┬─────────────┬────────┬──────┬───────────────┐\n",
              "│ rowid ┆ species   ┆ island    ┆ bill_length_mm ┆ … ┆ body_mass_g ┆ sex    ┆ year ┆ flipper_lengt │\n",
              "│ ---   ┆ ---       ┆ ---       ┆ ---            ┆   ┆ ---         ┆ ---    ┆ ---  ┆ h_inches      │\n",
              "│ i64   ┆ str       ┆ str       ┆ f64            ┆   ┆ i64         ┆ str    ┆ i64  ┆ ---           │\n",
              "│       ┆           ┆           ┆                ┆   ┆             ┆        ┆      ┆ f64           │\n",
              "╞═══════╪═══════════╪═══════════╪════════════════╪═══╪═════════════╪════════╪══════╪═══════════════╡\n",
              "│ 1     ┆ Adelie    ┆ Torgersen ┆ 39.1           ┆ … ┆ 3750        ┆ male   ┆ 2007 ┆ 7.125984      │\n",
              "│ 2     ┆ Adelie    ┆ Torgersen ┆ 39.5           ┆ … ┆ 3800        ┆ female ┆ 2007 ┆ 7.322835      │\n",
              "│ 3     ┆ Adelie    ┆ Torgersen ┆ 40.3           ┆ … ┆ 3250        ┆ female ┆ 2007 ┆ 7.677165      │\n",
              "│ 4     ┆ Adelie    ┆ Torgersen ┆ null           ┆ … ┆ null        ┆ null   ┆ 2007 ┆ null          │\n",
              "│ …     ┆ …         ┆ …         ┆ …              ┆ … ┆ …           ┆ …      ┆ …    ┆ …             │\n",
              "│ 341   ┆ Chinstrap ┆ Dream     ┆ 43.5           ┆ … ┆ 3400        ┆ female ┆ 2009 ┆ 7.952756      │\n",
              "│ 342   ┆ Chinstrap ┆ Dream     ┆ 49.6           ┆ … ┆ 3775        ┆ male   ┆ 2009 ┆ 7.598425      │\n",
              "│ 343   ┆ Chinstrap ┆ Dream     ┆ 50.8           ┆ … ┆ 4100        ┆ male   ┆ 2009 ┆ 8.267717      │\n",
              "│ 344   ┆ Chinstrap ┆ Dream     ┆ 50.2           ┆ … ┆ 3775        ┆ female ┆ 2009 ┆ 7.795276      │\n",
              "└───────┴───────────┴───────────┴────────────────┴───┴─────────────┴────────┴──────┴───────────────┘"
            ]
          },
          "execution_count": 15,
          "metadata": {},
          "output_type": "execute_result"
        }
      ],
      "source": [
        "(\n",
        "    penguins\n",
        "    .with_columns((pl.col('flipper_length_mm') / 25.4).alias('flipper_length_inches'))\n",
        ")"
      ]
    },
    {
      "cell_type": "markdown",
      "id": "186cd673",
      "metadata": {
        "tags": []
      },
      "source": [
        "### Tableau large - tableau long\n",
        "\n",
        "Le tableau de la chicouté est formatté correctement selon les règles établies précédemment. Ce n'est pas toujours le cas. Reprenons l'exemple des traitements appliqués sur différents site, évoqué précement dans ce carnet."
      ]
    },
    {
      "cell_type": "code",
      "execution_count": 16,
      "id": "c2d9e66f",
      "metadata": {
        "ExecuteTime": {
          "end_time": "2023-06-07T17:08:24.318493+00:00",
          "start_time": "2023-06-07T17:08:24.098734+00:00"
        },
        "datalink": {
          "2cffc72f-75ef-47f0-a99b-c43e05a7eed6": {
            "applied_filters": [],
            "dataframe_info": {
              "default_index_used": true,
              "orig_num_cols": 4,
              "orig_num_rows": 3,
              "orig_size_bytes": 120,
              "truncated_num_cols": 4,
              "truncated_num_rows": 3,
              "truncated_size_bytes": 120,
              "truncated_string_columns": []
            },
            "display_id": "2cffc72f-75ef-47f0-a99b-c43e05a7eed6",
            "dx_settings": {
              "ALLOW_NOTEABLE_ATTRS": true,
              "COLUMN_SAMPLING_METHOD": "outer",
              "DB_LOCATION": ":memory:",
              "DEV_MODE": false,
              "DISPLAY_MAX_COLUMNS": 100,
              "DISPLAY_MAX_ROWS": 50000,
              "DISPLAY_MODE": "simple",
              "ENABLE_ASSIGNMENT": true,
              "ENABLE_DATALINK": true,
              "FLATTEN_COLUMN_VALUES": true,
              "FLATTEN_INDEX_VALUES": false,
              "GENERATE_DEX_METADATA": false,
              "HTML_TABLE_SCHEMA": false,
              "LOG_LEVEL": 30,
              "MAX_RENDER_SIZE_BYTES": 104857600,
              "MAX_STRING_LENGTH": 250,
              "NUM_PAST_SAMPLES_TRACKED": 3,
              "RANDOM_STATE": 12648430,
              "RESET_INDEX_VALUES": false,
              "ROW_SAMPLING_METHOD": "random",
              "SAMPLING_FACTOR": 0.1,
              "SAMPLING_METHOD": "random",
              "STRINGIFY_COLUMN_VALUES": true,
              "STRINGIFY_INDEX_VALUES": false
            },
            "sample_history": [],
            "sampling_time": "2023-06-07T17:08:24.160791",
            "user_variable_name": null,
            "variable_name": "unk_dataframe_5671a5c676ff4275b86c607cc9b116ec"
          }
        },
        "noteable": {
          "output_collection_id": "da24ddcd-67ac-450e-8f9e-7c0275129206"
        },
        "tags": []
      },
      "outputs": [
        {
          "data": {
            "text/html": [
              "<div><style>\n",
              ".dataframe > thead > tr > th,\n",
              ".dataframe > tbody > tr > td {\n",
              "  text-align: right;\n",
              "  white-space: pre-wrap;\n",
              "}\n",
              "</style>\n",
              "<small>shape: (3, 4)</small><table border=\"1\" class=\"dataframe\"><thead><tr><th>Site</th><th>Traitement A</th><th>Traitement B</th><th>Traitement C</th></tr><tr><td>str</td><td>f64</td><td>f64</td><td>f64</td></tr></thead><tbody><tr><td>&quot;Sainte-Patente…</td><td>4.1</td><td>8.2</td><td>6.8</td></tr><tr><td>&quot;Sainte-Affaire…</td><td>5.8</td><td>5.9</td><td>NaN</td></tr><tr><td>&quot;Saint-Gréement…</td><td>2.9</td><td>3.4</td><td>4.6</td></tr></tbody></table></div>"
            ],
            "text/plain": [
              "shape: (3, 4)\n",
              "┌────────────────┬──────────────┬──────────────┬──────────────┐\n",
              "│ Site           ┆ Traitement A ┆ Traitement B ┆ Traitement C │\n",
              "│ ---            ┆ ---          ┆ ---          ┆ ---          │\n",
              "│ str            ┆ f64          ┆ f64          ┆ f64          │\n",
              "╞════════════════╪══════════════╪══════════════╪══════════════╡\n",
              "│ Sainte-Patente ┆ 4.1          ┆ 8.2          ┆ 6.8          │\n",
              "│ Sainte-Affaire ┆ 5.8          ┆ 5.9          ┆ NaN          │\n",
              "│ Saint-Gréement ┆ 2.9          ┆ 3.4          ┆ 4.6          │\n",
              "└────────────────┴──────────────┴──────────────┴──────────────┘"
            ]
          },
          "execution_count": 16,
          "metadata": {},
          "output_type": "execute_result"
        }
      ],
      "source": [
        "experience = pl.DataFrame({\n",
        "    'Site': ['Sainte-Patente', 'Sainte-Affaire', 'Saint-Gréement'],\n",
        "    'Traitement A': [4.1, 5.8, 2.9], 'Traitement B': [8.2, 5.9, 3.4],\n",
        "    'Traitement C': [6.8, np.NaN, 4.6]\n",
        "})\n",
        "experience"
      ]
    },
    {
      "cell_type": "markdown",
      "id": "d2f764bf",
      "metadata": {
        "tags": []
      },
      "source": [
        "Pour transformer ce tableau en mode *tidy* (organisé), utilisons la méthode `.melt()`. Cette méthode prend, comme argument `id_var`, les colonnes qui ne doivent *pas* être fusionnées. Dans ce cas-ci, les sites."
      ]
    },
    {
      "cell_type": "code",
      "execution_count": 17,
      "id": "075bf8e0",
      "metadata": {
        "ExecuteTime": {
          "end_time": "2023-06-07T17:08:52.311382+00:00",
          "start_time": "2023-06-07T17:08:52.098464+00:00"
        },
        "datalink": {
          "646dd07f-23d3-4e1d-b6b9-2e52dfcbb8f1": {
            "applied_filters": [],
            "dataframe_info": {
              "default_index_used": true,
              "orig_num_cols": 3,
              "orig_num_rows": 9,
              "orig_size_bytes": 288,
              "truncated_num_cols": 3,
              "truncated_num_rows": 9,
              "truncated_size_bytes": 288,
              "truncated_string_columns": []
            },
            "display_id": "646dd07f-23d3-4e1d-b6b9-2e52dfcbb8f1",
            "dx_settings": {
              "ALLOW_NOTEABLE_ATTRS": true,
              "COLUMN_SAMPLING_METHOD": "outer",
              "DB_LOCATION": ":memory:",
              "DEV_MODE": false,
              "DISPLAY_MAX_COLUMNS": 100,
              "DISPLAY_MAX_ROWS": 50000,
              "DISPLAY_MODE": "simple",
              "ENABLE_ASSIGNMENT": true,
              "ENABLE_DATALINK": true,
              "FLATTEN_COLUMN_VALUES": true,
              "FLATTEN_INDEX_VALUES": false,
              "GENERATE_DEX_METADATA": false,
              "HTML_TABLE_SCHEMA": false,
              "LOG_LEVEL": 30,
              "MAX_RENDER_SIZE_BYTES": 104857600,
              "MAX_STRING_LENGTH": 250,
              "NUM_PAST_SAMPLES_TRACKED": 3,
              "RANDOM_STATE": 12648430,
              "RESET_INDEX_VALUES": false,
              "ROW_SAMPLING_METHOD": "random",
              "SAMPLING_FACTOR": 0.1,
              "SAMPLING_METHOD": "random",
              "STRINGIFY_COLUMN_VALUES": true,
              "STRINGIFY_INDEX_VALUES": false
            },
            "sample_history": [],
            "sampling_time": "2023-06-07T17:08:52.152556",
            "user_variable_name": null,
            "variable_name": "unk_dataframe_ed0692af3bcc4673ad69dad2771b2e95"
          }
        },
        "noteable": {
          "output_collection_id": "06668305-e44e-43e3-aa02-5ebc423cd37c"
        },
        "tags": []
      },
      "outputs": [
        {
          "data": {
            "text/html": [
              "<div><style>\n",
              ".dataframe > thead > tr > th,\n",
              ".dataframe > tbody > tr > td {\n",
              "  text-align: right;\n",
              "  white-space: pre-wrap;\n",
              "}\n",
              "</style>\n",
              "<small>shape: (9, 3)</small><table border=\"1\" class=\"dataframe\"><thead><tr><th>Site</th><th>variable</th><th>value</th></tr><tr><td>str</td><td>str</td><td>f64</td></tr></thead><tbody><tr><td>&quot;Sainte-Patente…</td><td>&quot;Traitement A&quot;</td><td>4.1</td></tr><tr><td>&quot;Sainte-Affaire…</td><td>&quot;Traitement A&quot;</td><td>5.8</td></tr><tr><td>&quot;Saint-Gréement…</td><td>&quot;Traitement A&quot;</td><td>2.9</td></tr><tr><td>&quot;Sainte-Patente…</td><td>&quot;Traitement B&quot;</td><td>8.2</td></tr><tr><td>&quot;Sainte-Affaire…</td><td>&quot;Traitement B&quot;</td><td>5.9</td></tr><tr><td>&quot;Saint-Gréement…</td><td>&quot;Traitement B&quot;</td><td>3.4</td></tr><tr><td>&quot;Sainte-Patente…</td><td>&quot;Traitement C&quot;</td><td>6.8</td></tr><tr><td>&quot;Sainte-Affaire…</td><td>&quot;Traitement C&quot;</td><td>NaN</td></tr><tr><td>&quot;Saint-Gréement…</td><td>&quot;Traitement C&quot;</td><td>4.6</td></tr></tbody></table></div>"
            ],
            "text/plain": [
              "shape: (9, 3)\n",
              "┌────────────────┬──────────────┬───────┐\n",
              "│ Site           ┆ variable     ┆ value │\n",
              "│ ---            ┆ ---          ┆ ---   │\n",
              "│ str            ┆ str          ┆ f64   │\n",
              "╞════════════════╪══════════════╪═══════╡\n",
              "│ Sainte-Patente ┆ Traitement A ┆ 4.1   │\n",
              "│ Sainte-Affaire ┆ Traitement A ┆ 5.8   │\n",
              "│ Saint-Gréement ┆ Traitement A ┆ 2.9   │\n",
              "│ Sainte-Patente ┆ Traitement B ┆ 8.2   │\n",
              "│ Sainte-Affaire ┆ Traitement B ┆ 5.9   │\n",
              "│ Saint-Gréement ┆ Traitement B ┆ 3.4   │\n",
              "│ Sainte-Patente ┆ Traitement C ┆ 6.8   │\n",
              "│ Sainte-Affaire ┆ Traitement C ┆ NaN   │\n",
              "│ Saint-Gréement ┆ Traitement C ┆ 4.6   │\n",
              "└────────────────┴──────────────┴───────┘"
            ]
          },
          "execution_count": 17,
          "metadata": {},
          "output_type": "execute_result"
        }
      ],
      "source": [
        "experience_tidy = experience.melt(id_vars='Site')\n",
        "experience_tidy"
      ]
    },
    {
      "cell_type": "markdown",
      "id": "ab660fce",
      "metadata": {
        "tags": []
      },
      "source": [
        "La méthode `.rename()` permet de renommer les indices et les colonnes. Dans notre cas, nous allons renommer les colonnes `variable` et `value`.\n"
      ]
    },
    {
      "cell_type": "code",
      "execution_count": 18,
      "id": "9c8867de",
      "metadata": {
        "ExecuteTime": {
          "end_time": "2023-06-07T17:09:37.406675+00:00",
          "start_time": "2023-06-07T17:09:37.198314+00:00"
        },
        "datalink": {
          "6bab822a-1cc0-4040-b1be-9d6c1d1328a4": {
            "applied_filters": [],
            "dataframe_info": {
              "default_index_used": true,
              "orig_num_cols": 3,
              "orig_num_rows": 9,
              "orig_size_bytes": 288,
              "truncated_num_cols": 3,
              "truncated_num_rows": 9,
              "truncated_size_bytes": 288,
              "truncated_string_columns": []
            },
            "display_id": "6bab822a-1cc0-4040-b1be-9d6c1d1328a4",
            "dx_settings": {
              "ALLOW_NOTEABLE_ATTRS": true,
              "COLUMN_SAMPLING_METHOD": "outer",
              "DB_LOCATION": ":memory:",
              "DEV_MODE": false,
              "DISPLAY_MAX_COLUMNS": 100,
              "DISPLAY_MAX_ROWS": 50000,
              "DISPLAY_MODE": "simple",
              "ENABLE_ASSIGNMENT": true,
              "ENABLE_DATALINK": true,
              "FLATTEN_COLUMN_VALUES": true,
              "FLATTEN_INDEX_VALUES": false,
              "GENERATE_DEX_METADATA": false,
              "HTML_TABLE_SCHEMA": false,
              "LOG_LEVEL": 30,
              "MAX_RENDER_SIZE_BYTES": 104857600,
              "MAX_STRING_LENGTH": 250,
              "NUM_PAST_SAMPLES_TRACKED": 3,
              "RANDOM_STATE": 12648430,
              "RESET_INDEX_VALUES": false,
              "ROW_SAMPLING_METHOD": "random",
              "SAMPLING_FACTOR": 0.1,
              "SAMPLING_METHOD": "random",
              "STRINGIFY_COLUMN_VALUES": true,
              "STRINGIFY_INDEX_VALUES": false
            },
            "sample_history": [],
            "sampling_time": "2023-06-07T17:09:37.250632",
            "user_variable_name": null,
            "variable_name": "unk_dataframe_37c6a16dbc254d808cbbc62378b3f404"
          }
        },
        "dx": {
          "dashboard": {
            "multiViews": []
          },
          "fieldMetadata": {},
          "updated": 1689274628195,
          "views": [
            {
              "annotationRules": [],
              "chart": {},
              "chartMode": "grid",
              "confoRules": [],
              "decoration": {
                "footer": "",
                "subtitle": "",
                "title": "Table"
              },
              "facets": [],
              "filterSettings": {
                "SHOW_FILTER_PANEL": true,
                "filters": []
              },
              "id": "first-view",
              "isDefault": true,
              "type": "public",
              "userID": ""
            },
            {
              "annotationRules": [],
              "chart": {},
              "chartMode": "grid",
              "confoRules": [],
              "decoration": {
                "footer": "",
                "subtitle": "",
                "title": "Table"
              },
              "facets": [],
              "filterSettings": {
                "SHOW_FILTER_PANEL": true,
                "filters": []
              },
              "id": "first-view",
              "isDefault": true,
              "isTransitory": true,
              "type": "public",
              "userID": ""
            }
          ]
        },
        "noteable": {
          "output_collection_id": "27841082-0236-45f9-a69b-5a93691802b2"
        },
        "tags": []
      },
      "outputs": [
        {
          "data": {
            "text/html": [
              "<div><style>\n",
              ".dataframe > thead > tr > th,\n",
              ".dataframe > tbody > tr > td {\n",
              "  text-align: right;\n",
              "  white-space: pre-wrap;\n",
              "}\n",
              "</style>\n",
              "<small>shape: (9, 3)</small><table border=\"1\" class=\"dataframe\"><thead><tr><th>Site</th><th>Traitement</th><th>Rendement</th></tr><tr><td>str</td><td>str</td><td>f64</td></tr></thead><tbody><tr><td>&quot;Sainte-Patente…</td><td>&quot;Traitement A&quot;</td><td>4.1</td></tr><tr><td>&quot;Sainte-Affaire…</td><td>&quot;Traitement A&quot;</td><td>5.8</td></tr><tr><td>&quot;Saint-Gréement…</td><td>&quot;Traitement A&quot;</td><td>2.9</td></tr><tr><td>&quot;Sainte-Patente…</td><td>&quot;Traitement B&quot;</td><td>8.2</td></tr><tr><td>&quot;Sainte-Affaire…</td><td>&quot;Traitement B&quot;</td><td>5.9</td></tr><tr><td>&quot;Saint-Gréement…</td><td>&quot;Traitement B&quot;</td><td>3.4</td></tr><tr><td>&quot;Sainte-Patente…</td><td>&quot;Traitement C&quot;</td><td>6.8</td></tr><tr><td>&quot;Sainte-Affaire…</td><td>&quot;Traitement C&quot;</td><td>NaN</td></tr><tr><td>&quot;Saint-Gréement…</td><td>&quot;Traitement C&quot;</td><td>4.6</td></tr></tbody></table></div>"
            ],
            "text/plain": [
              "shape: (9, 3)\n",
              "┌────────────────┬──────────────┬───────────┐\n",
              "│ Site           ┆ Traitement   ┆ Rendement │\n",
              "│ ---            ┆ ---          ┆ ---       │\n",
              "│ str            ┆ str          ┆ f64       │\n",
              "╞════════════════╪══════════════╪═══════════╡\n",
              "│ Sainte-Patente ┆ Traitement A ┆ 4.1       │\n",
              "│ Sainte-Affaire ┆ Traitement A ┆ 5.8       │\n",
              "│ Saint-Gréement ┆ Traitement A ┆ 2.9       │\n",
              "│ Sainte-Patente ┆ Traitement B ┆ 8.2       │\n",
              "│ Sainte-Affaire ┆ Traitement B ┆ 5.9       │\n",
              "│ Saint-Gréement ┆ Traitement B ┆ 3.4       │\n",
              "│ Sainte-Patente ┆ Traitement C ┆ 6.8       │\n",
              "│ Sainte-Affaire ┆ Traitement C ┆ NaN       │\n",
              "│ Saint-Gréement ┆ Traitement C ┆ 4.6       │\n",
              "└────────────────┴──────────────┴───────────┘"
            ]
          },
          "execution_count": 18,
          "metadata": {},
          "output_type": "execute_result"
        }
      ],
      "source": [
        "experience_tidy = experience_tidy.rename({'variable': 'Traitement', 'value':'Rendement'})\n",
        "experience_tidy"
      ]
    },
    {
      "cell_type": "markdown",
      "id": "7590379c",
      "metadata": {
        "tags": []
      },
      "source": [
        "L'opération inverse avec la méthode `.pivot()`."
      ]
    },
    {
      "cell_type": "code",
      "execution_count": 19,
      "id": "7de01979",
      "metadata": {
        "ExecuteTime": {
          "end_time": "2023-06-07T17:10:06.410358+00:00",
          "start_time": "2023-06-07T17:10:06.198530+00:00"
        },
        "datalink": {
          "9bd1f524-f830-4f5e-8864-8ba6949f02be": {
            "applied_filters": [],
            "dataframe_info": {
              "default_index_used": true,
              "orig_num_cols": 4,
              "orig_num_rows": 3,
              "orig_size_bytes": 120,
              "truncated_num_cols": 4,
              "truncated_num_rows": 3,
              "truncated_size_bytes": 120,
              "truncated_string_columns": []
            },
            "display_id": "9bd1f524-f830-4f5e-8864-8ba6949f02be",
            "dx_settings": {
              "ALLOW_NOTEABLE_ATTRS": true,
              "COLUMN_SAMPLING_METHOD": "outer",
              "DB_LOCATION": ":memory:",
              "DEV_MODE": false,
              "DISPLAY_MAX_COLUMNS": 100,
              "DISPLAY_MAX_ROWS": 50000,
              "DISPLAY_MODE": "simple",
              "ENABLE_ASSIGNMENT": true,
              "ENABLE_DATALINK": true,
              "FLATTEN_COLUMN_VALUES": true,
              "FLATTEN_INDEX_VALUES": false,
              "GENERATE_DEX_METADATA": false,
              "HTML_TABLE_SCHEMA": false,
              "LOG_LEVEL": 30,
              "MAX_RENDER_SIZE_BYTES": 104857600,
              "MAX_STRING_LENGTH": 250,
              "NUM_PAST_SAMPLES_TRACKED": 3,
              "RANDOM_STATE": 12648430,
              "RESET_INDEX_VALUES": false,
              "ROW_SAMPLING_METHOD": "random",
              "SAMPLING_FACTOR": 0.1,
              "SAMPLING_METHOD": "random",
              "STRINGIFY_COLUMN_VALUES": true,
              "STRINGIFY_INDEX_VALUES": false
            },
            "sample_history": [],
            "sampling_time": "2023-06-07T17:10:06.253442",
            "user_variable_name": null,
            "variable_name": "unk_dataframe_073573941e8d4d839dafbb5b6dd447e1"
          }
        },
        "noteable": {
          "output_collection_id": "73da08ce-8a11-4e0e-80e4-7f6818c9892d"
        },
        "tags": []
      },
      "outputs": [
        {
          "data": {
            "text/html": [
              "<div><style>\n",
              ".dataframe > thead > tr > th,\n",
              ".dataframe > tbody > tr > td {\n",
              "  text-align: right;\n",
              "  white-space: pre-wrap;\n",
              "}\n",
              "</style>\n",
              "<small>shape: (3, 4)</small><table border=\"1\" class=\"dataframe\"><thead><tr><th>Site</th><th>Traitement A</th><th>Traitement B</th><th>Traitement C</th></tr><tr><td>str</td><td>f64</td><td>f64</td><td>f64</td></tr></thead><tbody><tr><td>&quot;Sainte-Patente…</td><td>4.1</td><td>8.2</td><td>6.8</td></tr><tr><td>&quot;Sainte-Affaire…</td><td>5.8</td><td>5.9</td><td>NaN</td></tr><tr><td>&quot;Saint-Gréement…</td><td>2.9</td><td>3.4</td><td>4.6</td></tr></tbody></table></div>"
            ],
            "text/plain": [
              "shape: (3, 4)\n",
              "┌────────────────┬──────────────┬──────────────┬──────────────┐\n",
              "│ Site           ┆ Traitement A ┆ Traitement B ┆ Traitement C │\n",
              "│ ---            ┆ ---          ┆ ---          ┆ ---          │\n",
              "│ str            ┆ f64          ┆ f64          ┆ f64          │\n",
              "╞════════════════╪══════════════╪══════════════╪══════════════╡\n",
              "│ Sainte-Patente ┆ 4.1          ┆ 8.2          ┆ 6.8          │\n",
              "│ Sainte-Affaire ┆ 5.8          ┆ 5.9          ┆ NaN          │\n",
              "│ Saint-Gréement ┆ 2.9          ┆ 3.4          ┆ 4.6          │\n",
              "└────────────────┴──────────────┴──────────────┴──────────────┘"
            ]
          },
          "execution_count": 19,
          "metadata": {},
          "output_type": "execute_result"
        }
      ],
      "source": [
        "experience_tidy.pivot(index='Site', columns='Traitement', values='Rendement')"
      ]
    },
    {
      "cell_type": "markdown",
      "id": "08b88feb",
      "metadata": {
        "tags": []
      },
      "source": [
        "### Combiner des tableaux\n",
        "\n",
        "Nous avons introduit plus haut la notion de base de données. Nous voudrions peut-être utiliser le nom de l'espèce de manchot pour lui attribuer certaines caractéristiques."
      ]
    },
    {
      "cell_type": "code",
      "execution_count": 20,
      "id": "d84870e6",
      "metadata": {
        "ExecuteTime": {
          "end_time": "2023-06-07T17:18:30.306350+00:00",
          "start_time": "2023-06-07T17:18:30.098674+00:00"
        },
        "datalink": {
          "40b0de11-c652-4499-b442-ee373ba46941": {
            "applied_filters": [],
            "dataframe_info": {
              "default_index_used": true,
              "orig_num_cols": 3,
              "orig_num_rows": 3,
              "orig_size_bytes": 96,
              "truncated_num_cols": 3,
              "truncated_num_rows": 3,
              "truncated_size_bytes": 96,
              "truncated_string_columns": []
            },
            "display_id": "40b0de11-c652-4499-b442-ee373ba46941",
            "dx_settings": {
              "ALLOW_NOTEABLE_ATTRS": true,
              "COLUMN_SAMPLING_METHOD": "outer",
              "DB_LOCATION": ":memory:",
              "DEV_MODE": false,
              "DISPLAY_MAX_COLUMNS": 100,
              "DISPLAY_MAX_ROWS": 50000,
              "DISPLAY_MODE": "simple",
              "ENABLE_ASSIGNMENT": true,
              "ENABLE_DATALINK": true,
              "FLATTEN_COLUMN_VALUES": true,
              "FLATTEN_INDEX_VALUES": false,
              "GENERATE_DEX_METADATA": false,
              "HTML_TABLE_SCHEMA": false,
              "LOG_LEVEL": 30,
              "MAX_RENDER_SIZE_BYTES": 104857600,
              "MAX_STRING_LENGTH": 250,
              "NUM_PAST_SAMPLES_TRACKED": 3,
              "RANDOM_STATE": 12648430,
              "RESET_INDEX_VALUES": false,
              "ROW_SAMPLING_METHOD": "random",
              "SAMPLING_FACTOR": 0.1,
              "SAMPLING_METHOD": "random",
              "STRINGIFY_COLUMN_VALUES": true,
              "STRINGIFY_INDEX_VALUES": false
            },
            "sample_history": [],
            "sampling_time": "2023-06-07T17:18:30.150422",
            "user_variable_name": null,
            "variable_name": "unk_dataframe_8f10dbf667d64ab99a0c486ff5d8686a"
          }
        },
        "noteable": {
          "output_collection_id": "95e6a45e-b231-4cfb-ae41-a618cc482a27"
        },
        "tags": []
      },
      "outputs": [
        {
          "data": {
            "text/html": [
              "<div><style>\n",
              ".dataframe > thead > tr > th,\n",
              ".dataframe > tbody > tr > td {\n",
              "  text-align: right;\n",
              "  white-space: pre-wrap;\n",
              "}\n",
              "</style>\n",
              "<small>shape: (3, 3)</small><table border=\"1\" class=\"dataframe\"><thead><tr><th>species</th><th>binomial nomenclature</th><th>status</th></tr><tr><td>str</td><td>str</td><td>str</td></tr></thead><tbody><tr><td>&quot;Adelie&quot;</td><td>&quot;Pygoscelis ade…</td><td>&quot;least concern&quot;</td></tr><tr><td>&quot;Chinstrap&quot;</td><td>&quot;Pygoscelis ant…</td><td>&quot;least concern&quot;</td></tr><tr><td>&quot;Gentoo&quot;</td><td>&quot;Pygoscelis pap…</td><td>&quot;least concern&quot;</td></tr></tbody></table></div>"
            ],
            "text/plain": [
              "shape: (3, 3)\n",
              "┌───────────┬────────────────────────┬───────────────┐\n",
              "│ species   ┆ binomial nomenclature  ┆ status        │\n",
              "│ ---       ┆ ---                    ┆ ---           │\n",
              "│ str       ┆ str                    ┆ str           │\n",
              "╞═══════════╪════════════════════════╪═══════════════╡\n",
              "│ Adelie    ┆ Pygoscelis adeliae     ┆ least concern │\n",
              "│ Chinstrap ┆ Pygoscelis antarcticus ┆ least concern │\n",
              "│ Gentoo    ┆ Pygoscelis papua       ┆ least concern │\n",
              "└───────────┴────────────────────────┴───────────────┘"
            ]
          },
          "execution_count": 20,
          "metadata": {},
          "output_type": "execute_result"
        }
      ],
      "source": [
        "penguins_meta = pl.read_csv('data/penguins_meta.csv')\n",
        "penguins_meta"
      ]
    },
    {
      "cell_type": "markdown",
      "id": "19e5117e",
      "metadata": {
        "tags": []
      },
      "source": [
        "Notre information est organisée en deux tableaux, liés par la colonne `species`. Comment fusionner l'information pour que l'info soit être utilisée dans son ensemble ? Par des opérations de jointure. La plus commune est la jointure à gauche, où le tableau de droit vient se coller au tableau de gauche."
      ]
    },
    {
      "cell_type": "code",
      "execution_count": 21,
      "id": "255fcc92-d3b0-48df-ba8e-b529aabc5914",
      "metadata": {
        "ExecuteTime": {
          "end_time": "2023-06-07T17:24:09.644235+00:00",
          "start_time": "2023-06-07T17:24:09.398946+00:00"
        },
        "datalink": {
          "483d5a8f-a53f-40f7-820a-a3c61e0513d3": {
            "applied_filters": [],
            "dataframe_info": {
              "default_index_used": true,
              "orig_num_cols": 9,
              "orig_num_rows": 344,
              "orig_size_bytes": 27520,
              "truncated_num_cols": 9,
              "truncated_num_rows": 344,
              "truncated_size_bytes": 27520,
              "truncated_string_columns": []
            },
            "display_id": "483d5a8f-a53f-40f7-820a-a3c61e0513d3",
            "dx_settings": {
              "ALLOW_NOTEABLE_ATTRS": true,
              "COLUMN_SAMPLING_METHOD": "outer",
              "DB_LOCATION": ":memory:",
              "DEV_MODE": false,
              "DISPLAY_MAX_COLUMNS": 100,
              "DISPLAY_MAX_ROWS": 50000,
              "DISPLAY_MODE": "simple",
              "ENABLE_ASSIGNMENT": true,
              "ENABLE_DATALINK": true,
              "FLATTEN_COLUMN_VALUES": true,
              "FLATTEN_INDEX_VALUES": false,
              "GENERATE_DEX_METADATA": false,
              "HTML_TABLE_SCHEMA": false,
              "LOG_LEVEL": 30,
              "MAX_RENDER_SIZE_BYTES": 104857600,
              "MAX_STRING_LENGTH": 250,
              "NUM_PAST_SAMPLES_TRACKED": 3,
              "RANDOM_STATE": 12648430,
              "RESET_INDEX_VALUES": false,
              "ROW_SAMPLING_METHOD": "random",
              "SAMPLING_FACTOR": 0.1,
              "SAMPLING_METHOD": "random",
              "STRINGIFY_COLUMN_VALUES": true,
              "STRINGIFY_INDEX_VALUES": false
            },
            "sample_history": [],
            "sampling_time": "2023-06-07T17:23:09.570678",
            "user_variable_name": null,
            "variable_name": "unk_dataframe_e59b90eb85454fa3951ea5bcdebe0755"
          },
          "f4ca89bc-8ed2-4927-b9c8-877461e69606": {
            "applied_filters": [],
            "dataframe_info": {
              "default_index_used": true,
              "orig_num_cols": 11,
              "orig_num_rows": 344,
              "orig_size_bytes": 33024,
              "truncated_num_cols": 11,
              "truncated_num_rows": 344,
              "truncated_size_bytes": 33024,
              "truncated_string_columns": []
            },
            "display_id": "f4ca89bc-8ed2-4927-b9c8-877461e69606",
            "dx_settings": {
              "ALLOW_NOTEABLE_ATTRS": true,
              "COLUMN_SAMPLING_METHOD": "outer",
              "DB_LOCATION": ":memory:",
              "DEV_MODE": false,
              "DISPLAY_MAX_COLUMNS": 100,
              "DISPLAY_MAX_ROWS": 50000,
              "DISPLAY_MODE": "simple",
              "ENABLE_ASSIGNMENT": true,
              "ENABLE_DATALINK": true,
              "FLATTEN_COLUMN_VALUES": true,
              "FLATTEN_INDEX_VALUES": false,
              "GENERATE_DEX_METADATA": false,
              "HTML_TABLE_SCHEMA": false,
              "LOG_LEVEL": 30,
              "MAX_RENDER_SIZE_BYTES": 104857600,
              "MAX_STRING_LENGTH": 250,
              "NUM_PAST_SAMPLES_TRACKED": 3,
              "RANDOM_STATE": 12648430,
              "RESET_INDEX_VALUES": false,
              "ROW_SAMPLING_METHOD": "random",
              "SAMPLING_FACTOR": 0.1,
              "SAMPLING_METHOD": "random",
              "STRINGIFY_COLUMN_VALUES": true,
              "STRINGIFY_INDEX_VALUES": false
            },
            "sample_history": [],
            "sampling_time": "2023-06-07T17:24:09.482174",
            "user_variable_name": null,
            "variable_name": "unk_dataframe_985f984240b04973af14f467a319d3e4"
          }
        },
        "noteable": {
          "cell_type": "python",
          "output_collection_id": "e2782d01-e27e-42de-a0f7-de6fa3b9cf3f"
        }
      },
      "outputs": [
        {
          "data": {
            "text/html": [
              "<div><style>\n",
              ".dataframe > thead > tr > th,\n",
              ".dataframe > tbody > tr > td {\n",
              "  text-align: right;\n",
              "  white-space: pre-wrap;\n",
              "}\n",
              "</style>\n",
              "<small>shape: (344, 11)</small><table border=\"1\" class=\"dataframe\"><thead><tr><th>rowid</th><th>species</th><th>island</th><th>bill_length_mm</th><th>bill_depth_mm</th><th>flipper_length_mm</th><th>body_mass_g</th><th>sex</th><th>year</th><th>binomial nomenclature</th><th>status</th></tr><tr><td>i64</td><td>str</td><td>str</td><td>f64</td><td>f64</td><td>i64</td><td>i64</td><td>str</td><td>i64</td><td>str</td><td>str</td></tr></thead><tbody><tr><td>1</td><td>&quot;Adelie&quot;</td><td>&quot;Torgersen&quot;</td><td>39.1</td><td>18.7</td><td>181</td><td>3750</td><td>&quot;male&quot;</td><td>2007</td><td>&quot;Pygoscelis ade…</td><td>&quot;least concern&quot;</td></tr><tr><td>2</td><td>&quot;Adelie&quot;</td><td>&quot;Torgersen&quot;</td><td>39.5</td><td>17.4</td><td>186</td><td>3800</td><td>&quot;female&quot;</td><td>2007</td><td>&quot;Pygoscelis ade…</td><td>&quot;least concern&quot;</td></tr><tr><td>3</td><td>&quot;Adelie&quot;</td><td>&quot;Torgersen&quot;</td><td>40.3</td><td>18.0</td><td>195</td><td>3250</td><td>&quot;female&quot;</td><td>2007</td><td>&quot;Pygoscelis ade…</td><td>&quot;least concern&quot;</td></tr><tr><td>4</td><td>&quot;Adelie&quot;</td><td>&quot;Torgersen&quot;</td><td>null</td><td>null</td><td>null</td><td>null</td><td>null</td><td>2007</td><td>&quot;Pygoscelis ade…</td><td>&quot;least concern&quot;</td></tr><tr><td>5</td><td>&quot;Adelie&quot;</td><td>&quot;Torgersen&quot;</td><td>36.7</td><td>19.3</td><td>193</td><td>3450</td><td>&quot;female&quot;</td><td>2007</td><td>&quot;Pygoscelis ade…</td><td>&quot;least concern&quot;</td></tr><tr><td>6</td><td>&quot;Adelie&quot;</td><td>&quot;Torgersen&quot;</td><td>39.3</td><td>20.6</td><td>190</td><td>3650</td><td>&quot;male&quot;</td><td>2007</td><td>&quot;Pygoscelis ade…</td><td>&quot;least concern&quot;</td></tr><tr><td>7</td><td>&quot;Adelie&quot;</td><td>&quot;Torgersen&quot;</td><td>38.9</td><td>17.8</td><td>181</td><td>3625</td><td>&quot;female&quot;</td><td>2007</td><td>&quot;Pygoscelis ade…</td><td>&quot;least concern&quot;</td></tr><tr><td>8</td><td>&quot;Adelie&quot;</td><td>&quot;Torgersen&quot;</td><td>39.2</td><td>19.6</td><td>195</td><td>4675</td><td>&quot;male&quot;</td><td>2007</td><td>&quot;Pygoscelis ade…</td><td>&quot;least concern&quot;</td></tr><tr><td>9</td><td>&quot;Adelie&quot;</td><td>&quot;Torgersen&quot;</td><td>34.1</td><td>18.1</td><td>193</td><td>3475</td><td>null</td><td>2007</td><td>&quot;Pygoscelis ade…</td><td>&quot;least concern&quot;</td></tr><tr><td>10</td><td>&quot;Adelie&quot;</td><td>&quot;Torgersen&quot;</td><td>42.0</td><td>20.2</td><td>190</td><td>4250</td><td>null</td><td>2007</td><td>&quot;Pygoscelis ade…</td><td>&quot;least concern&quot;</td></tr><tr><td>11</td><td>&quot;Adelie&quot;</td><td>&quot;Torgersen&quot;</td><td>37.8</td><td>17.1</td><td>186</td><td>3300</td><td>null</td><td>2007</td><td>&quot;Pygoscelis ade…</td><td>&quot;least concern&quot;</td></tr><tr><td>12</td><td>&quot;Adelie&quot;</td><td>&quot;Torgersen&quot;</td><td>37.8</td><td>17.3</td><td>180</td><td>3700</td><td>null</td><td>2007</td><td>&quot;Pygoscelis ade…</td><td>&quot;least concern&quot;</td></tr><tr><td>&hellip;</td><td>&hellip;</td><td>&hellip;</td><td>&hellip;</td><td>&hellip;</td><td>&hellip;</td><td>&hellip;</td><td>&hellip;</td><td>&hellip;</td><td>&hellip;</td><td>&hellip;</td></tr><tr><td>333</td><td>&quot;Chinstrap&quot;</td><td>&quot;Dream&quot;</td><td>45.2</td><td>16.6</td><td>191</td><td>3250</td><td>&quot;female&quot;</td><td>2009</td><td>&quot;Pygoscelis ant…</td><td>&quot;least concern&quot;</td></tr><tr><td>334</td><td>&quot;Chinstrap&quot;</td><td>&quot;Dream&quot;</td><td>49.3</td><td>19.9</td><td>203</td><td>4050</td><td>&quot;male&quot;</td><td>2009</td><td>&quot;Pygoscelis ant…</td><td>&quot;least concern&quot;</td></tr><tr><td>335</td><td>&quot;Chinstrap&quot;</td><td>&quot;Dream&quot;</td><td>50.2</td><td>18.8</td><td>202</td><td>3800</td><td>&quot;male&quot;</td><td>2009</td><td>&quot;Pygoscelis ant…</td><td>&quot;least concern&quot;</td></tr><tr><td>336</td><td>&quot;Chinstrap&quot;</td><td>&quot;Dream&quot;</td><td>45.6</td><td>19.4</td><td>194</td><td>3525</td><td>&quot;female&quot;</td><td>2009</td><td>&quot;Pygoscelis ant…</td><td>&quot;least concern&quot;</td></tr><tr><td>337</td><td>&quot;Chinstrap&quot;</td><td>&quot;Dream&quot;</td><td>51.9</td><td>19.5</td><td>206</td><td>3950</td><td>&quot;male&quot;</td><td>2009</td><td>&quot;Pygoscelis ant…</td><td>&quot;least concern&quot;</td></tr><tr><td>338</td><td>&quot;Chinstrap&quot;</td><td>&quot;Dream&quot;</td><td>46.8</td><td>16.5</td><td>189</td><td>3650</td><td>&quot;female&quot;</td><td>2009</td><td>&quot;Pygoscelis ant…</td><td>&quot;least concern&quot;</td></tr><tr><td>339</td><td>&quot;Chinstrap&quot;</td><td>&quot;Dream&quot;</td><td>45.7</td><td>17.0</td><td>195</td><td>3650</td><td>&quot;female&quot;</td><td>2009</td><td>&quot;Pygoscelis ant…</td><td>&quot;least concern&quot;</td></tr><tr><td>340</td><td>&quot;Chinstrap&quot;</td><td>&quot;Dream&quot;</td><td>55.8</td><td>19.8</td><td>207</td><td>4000</td><td>&quot;male&quot;</td><td>2009</td><td>&quot;Pygoscelis ant…</td><td>&quot;least concern&quot;</td></tr><tr><td>341</td><td>&quot;Chinstrap&quot;</td><td>&quot;Dream&quot;</td><td>43.5</td><td>18.1</td><td>202</td><td>3400</td><td>&quot;female&quot;</td><td>2009</td><td>&quot;Pygoscelis ant…</td><td>&quot;least concern&quot;</td></tr><tr><td>342</td><td>&quot;Chinstrap&quot;</td><td>&quot;Dream&quot;</td><td>49.6</td><td>18.2</td><td>193</td><td>3775</td><td>&quot;male&quot;</td><td>2009</td><td>&quot;Pygoscelis ant…</td><td>&quot;least concern&quot;</td></tr><tr><td>343</td><td>&quot;Chinstrap&quot;</td><td>&quot;Dream&quot;</td><td>50.8</td><td>19.0</td><td>210</td><td>4100</td><td>&quot;male&quot;</td><td>2009</td><td>&quot;Pygoscelis ant…</td><td>&quot;least concern&quot;</td></tr><tr><td>344</td><td>&quot;Chinstrap&quot;</td><td>&quot;Dream&quot;</td><td>50.2</td><td>18.7</td><td>198</td><td>3775</td><td>&quot;female&quot;</td><td>2009</td><td>&quot;Pygoscelis ant…</td><td>&quot;least concern&quot;</td></tr></tbody></table></div>"
            ],
            "text/plain": [
              "shape: (344, 11)\n",
              "┌───────┬───────────┬───────────┬────────────────┬───┬────────┬──────┬──────────────┬─────────┐\n",
              "│ rowid ┆ species   ┆ island    ┆ bill_length_mm ┆ … ┆ sex    ┆ year ┆ binomial     ┆ status  │\n",
              "│ ---   ┆ ---       ┆ ---       ┆ ---            ┆   ┆ ---    ┆ ---  ┆ nomenclature ┆ ---     │\n",
              "│ i64   ┆ str       ┆ str       ┆ f64            ┆   ┆ str    ┆ i64  ┆ ---          ┆ str     │\n",
              "│       ┆           ┆           ┆                ┆   ┆        ┆      ┆ str          ┆         │\n",
              "╞═══════╪═══════════╪═══════════╪════════════════╪═══╪════════╪══════╪══════════════╪═════════╡\n",
              "│ 1     ┆ Adelie    ┆ Torgersen ┆ 39.1           ┆ … ┆ male   ┆ 2007 ┆ Pygoscelis   ┆ least   │\n",
              "│       ┆           ┆           ┆                ┆   ┆        ┆      ┆ adeliae      ┆ concern │\n",
              "│ 2     ┆ Adelie    ┆ Torgersen ┆ 39.5           ┆ … ┆ female ┆ 2007 ┆ Pygoscelis   ┆ least   │\n",
              "│       ┆           ┆           ┆                ┆   ┆        ┆      ┆ adeliae      ┆ concern │\n",
              "│ 3     ┆ Adelie    ┆ Torgersen ┆ 40.3           ┆ … ┆ female ┆ 2007 ┆ Pygoscelis   ┆ least   │\n",
              "│       ┆           ┆           ┆                ┆   ┆        ┆      ┆ adeliae      ┆ concern │\n",
              "│ 4     ┆ Adelie    ┆ Torgersen ┆ null           ┆ … ┆ null   ┆ 2007 ┆ Pygoscelis   ┆ least   │\n",
              "│       ┆           ┆           ┆                ┆   ┆        ┆      ┆ adeliae      ┆ concern │\n",
              "│ …     ┆ …         ┆ …         ┆ …              ┆ … ┆ …      ┆ …    ┆ …            ┆ …       │\n",
              "│ 341   ┆ Chinstrap ┆ Dream     ┆ 43.5           ┆ … ┆ female ┆ 2009 ┆ Pygoscelis   ┆ least   │\n",
              "│       ┆           ┆           ┆                ┆   ┆        ┆      ┆ antarcticus  ┆ concern │\n",
              "│ 342   ┆ Chinstrap ┆ Dream     ┆ 49.6           ┆ … ┆ male   ┆ 2009 ┆ Pygoscelis   ┆ least   │\n",
              "│       ┆           ┆           ┆                ┆   ┆        ┆      ┆ antarcticus  ┆ concern │\n",
              "│ 343   ┆ Chinstrap ┆ Dream     ┆ 50.8           ┆ … ┆ male   ┆ 2009 ┆ Pygoscelis   ┆ least   │\n",
              "│       ┆           ┆           ┆                ┆   ┆        ┆      ┆ antarcticus  ┆ concern │\n",
              "│ 344   ┆ Chinstrap ┆ Dream     ┆ 50.2           ┆ … ┆ female ┆ 2009 ┆ Pygoscelis   ┆ least   │\n",
              "│       ┆           ┆           ┆                ┆   ┆        ┆      ┆ antarcticus  ┆ concern │\n",
              "└───────┴───────────┴───────────┴────────────────┴───┴────────┴──────┴──────────────┴─────────┘"
            ]
          },
          "execution_count": 21,
          "metadata": {},
          "output_type": "execute_result"
        }
      ],
      "source": [
        "(\n",
        "    penguins # tableau de gauche\n",
        "    .join(penguins_meta, on='species', how='left')\n",
        ")"
      ]
    },
    {
      "cell_type": "markdown",
      "id": "56e713cc-bb2f-4389-a8cf-fd08b968b72b",
      "metadata": {
        "noteable": {
          "cell_type": "markdown"
        }
      },
      "source": [
        "Ainsi, les informations sont combinées. Plusieurs [types de jointure](https://en.wikipedia.org/wiki/Join_(SQL)) peuvent être effectuées.\n",
        "\n",
        "Par ailleurs, je n'ai présenté que les opérations les plus importantes. Pour aller plus loin, le [guide d'utilisation de *Polars*](https://pola-rs.github.io/polars-book/user-guide/index.html#) est bourré d'exemples!"
      ]
    },
    {
      "cell_type": "markdown",
      "metadata": {},
      "source": []
    }
  ],
  "metadata": {
    "kernel_info": {
      "name": "python3"
    },
    "kernelspec": {
      "display_name": "dl",
      "language": "python",
      "name": "dl"
    },
    "language_info": {
      "codemirror_mode": {
        "name": "ipython",
        "version": 3
      },
      "file_extension": ".py",
      "mimetype": "text/x-python",
      "name": "python",
      "nbconvert_exporter": "python",
      "pygments_lexer": "ipython3",
      "version": "3.10.11"
    },
    "noteable": {
      "db_connection": "@noteable",
      "last_transaction_id": "2663ae24-8ef1-4b2e-b60e-c2539780d2f8"
    },
    "selected_hardware_size": "small"
  },
  "nbformat": 4,
  "nbformat_minor": 5
}
