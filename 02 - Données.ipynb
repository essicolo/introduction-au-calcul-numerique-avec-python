{
  "cells": [
    {
      "id": "aa146535-6f9e-4a35-ad0a-d1a4a4146b68",
      "cell_type": "markdown",
      "source": "# Données\n\n> **Dicton**. Proportions de temps voué aux calcul scientifique: 80% de nettoyage de données mal organisées, 20% de calcul.\n\nUne donnée est une valeur associée à une variable. Une variable peut être une dimension, une date, une couleur, le résultat d'un test statistique, à laquelle on attribue la valeur quantitative ou qualitative d'un chiffre, d'une chaîne de caractère, d'un symbole conventionné, etc.\n\nCe chapitre traite de l'importation, l'utilisation et l'exportation de données structurées, en Python, sous forme de vecteurs, matrices, tableaux et ensemble de tableaux (bases de données).\n\nBien qu'il soit toujours préférable d'organiser les structures qui accueilleront les données d'une expérience avant-même de procéder à la collecte de données, l'analyste doit s'attendre à réorganiser ses données en cours de route. Or, des données bien organisées au départ faciliteront aussi leur réorganisation.\n\nCe chapitre débute avec quelques définitions : les données et leurs types, les vecteurs, les matrices, les tableaux et les bases de données, ainsi que leur signification en Python. Puis, nous verrons comment organiser un tableau selon quelques règles simples, mais importantes pour éviter les erreurs et les opérations fastidieuses pour reconstruire un tableau mal conçu. Ensuite, nous traiterons des formats de tableau courant, pour enfin passer à l'utilisation de pandas, une bibliothèque Python utile pour effectuer des opérations sur les tableaux.",
      "metadata": {
        "noteable": {
          "cell_type": "markdown"
        },
        "tags": []
      }
    },
    {
      "cell_type": "markdown",
      "metadata": {
        "tags": []
      },
      "source": "## Types de données\n\nDans la section précédente, nous avons survolé différents types d'objets : réels, entiers, chaînes de caractères et booléens. Les données peuvent appartenir à d'autres types : dates, catégories ordinales (ordonnées : faible, moyen, élevé) et nominales (non-ordonnées : espèces, cultivars, couleurs, etc.).\n",
      "id": "6e868e51"
    },
    {
      "cell_type": "markdown",
      "metadata": {
        "tags": []
      },
      "source": "## Vecteurs\n\nDans la section d'introduction à Python, nous avons vu comment Python permet d'organiser des collections d'objets. Bien qu'il soit important de connaître leur existence pour apprendre à maîtriser Python, les listes et les dictionnaires sont peu pratiques pour le calcul. Par exemple, Python ne permet pas d'effectuer les opérations entre les scalaires et les listes.",
      "id": "5bcdc338"
    },
    {
      "cell_type": "code",
      "execution_count": 1,
      "metadata": {
        "inputHidden": false,
        "outputHidden": false,
        "noteable": {
          "output_collection_id": "ab919ea9-29cf-47f0-9efe-a862cc461f93"
        },
        "tags": [],
        "ExecuteTime": {
          "end_time": "2023-07-13T18:36:45.461829+00:00",
          "start_time": "2023-07-13T18:36:44.900181+00:00"
        }
      },
      "outputs": [],
      "source": [
        "ma_liste = [1, 2, 3, 4]\n",
        "ma_liste + 1"
      ],
      "id": "93ca4d90"
    },
    {
      "cell_type": "markdown",
      "metadata": {
        "tags": []
      },
      "source": "Pour les listes, il faudrait passer par des boucles... ce qui est loin d'être pratique. On préférera généralement utiliser des vecteurs, qui, grâce à la *vectorisation*, peuvent être soumis à des opérations avec des scalaires. Les vecteurs sont accessibles via le module Numpy. Par convention, les fonctions de Numpy sont importés avec l'alias `np`.",
      "id": "2d29b425"
    },
    {
      "cell_type": "code",
      "execution_count": 3,
      "metadata": {
        "inputHidden": false,
        "outputHidden": false,
        "noteable": {
          "output_collection_id": "13c24592-462e-4c00-9247-4c772c96316f"
        },
        "tags": [],
        "ExecuteTime": {
          "end_time": "2023-07-13T18:37:20.773219+00:00",
          "start_time": "2023-07-13T18:37:20.612478+00:00"
        }
      },
      "outputs": [],
      "source": [
        "import numpy as np\n",
        "mon_vecteur = np.array([1, 2, 3, 4])\n",
        "mon_vecteur + 1"
      ],
      "id": "84706afc"
    },
    {
      "cell_type": "markdown",
      "metadata": {
        "tags": []
      },
      "source": "Contrairement à une liste, un vecteur contient obligatoirement des valeurs même type. À défaut de définir un même type, Numpy transformera chaque valeur en chaîne de caractère.",
      "id": "1c69098b"
    },
    {
      "cell_type": "code",
      "execution_count": 4,
      "metadata": {
        "inputHidden": false,
        "outputHidden": false,
        "noteable": {
          "output_collection_id": "72831cd3-91c1-4a87-bc38-09b056bd5a92"
        },
        "tags": []
      },
      "outputs": [],
      "source": [
        "[1, 2, 3, 'grenouille'] # liste"
      ],
      "id": "bbcf8dbb"
    },
    {
      "cell_type": "code",
      "execution_count": 5,
      "metadata": {
        "inputHidden": false,
        "outputHidden": false,
        "noteable": {
          "output_collection_id": "2174eaf1-7730-4f46-97f2-948bb121d5ee"
        },
        "tags": []
      },
      "outputs": [],
      "source": [
        "np.array([1, 2, 3, 'grenouille']) # vecteur"
      ],
      "id": "817daa8a"
    },
    {
      "cell_type": "markdown",
      "metadata": {
        "tags": []
      },
      "source": "## Matrices\nLa matrice est une généralisation du vecteur. Alors que le vecteur a une seule dimension, la matrice accepte un nombre le dimension N (naturel positif) nécessaire pour l'application.",
      "id": "187d59a7"
    },
    {
      "cell_type": "code",
      "execution_count": 6,
      "metadata": {
        "inputHidden": false,
        "outputHidden": false,
        "noteable": {
          "output_collection_id": "50d215d6-ce9f-48ae-9baf-df056dbdbae9"
        },
        "tags": []
      },
      "outputs": [],
      "source": [
        "np.array([[1, 2, 3], [4, 5, 6], [7, 8, 9]])"
      ],
      "id": "4272c933"
    },
    {
      "cell_type": "code",
      "execution_count": 7,
      "metadata": {
        "inputHidden": false,
        "outputHidden": false,
        "noteable": {
          "output_collection_id": "92e8fc9d-49a0-4e1b-9650-8d794f988685"
        },
        "tags": []
      },
      "outputs": [],
      "source": [
        "np.array([[[1, 2, 3], [4, 5, 6], [7, 8, 9]],\n",
        "         [[10, 11, 12], [13, 14, 15], [16, 17, 18]]])"
      ],
      "id": "1fa56f6d"
    },
    {
      "cell_type": "markdown",
      "metadata": {
        "tags": []
      },
      "source": "Une matrice 2D peut indiquer l'élévation d'un point dans l'espace x, y. En 3D, vous pouvez inclure non seulement l'élévation, mais aussi l'épaisseur de sol et d'autres variables. Ajouter une évolution dans le temps et vous obtenez une matrice 4D.\n\nVous ne pourrez toutefois pas ajouter une couche d'une variable catégorielle dans une matrice numérique: comme les vecteurs, les matrices ne contiennent qu'un seul type de données.\n\nElles sont utilisées surtout en modélisation. En analyse de données, on préférera les tableaux.",
      "id": "5b18ff32"
    },
    {
      "cell_type": "markdown",
      "metadata": {
        "tags": []
      },
      "source": "## Tableaux\nDe manière générale, un tableau de données est une organisation de données en deux dimensions, comportant des *lignes* et des *colonnes*. Il est préférable de respecter la convention selon laquelle les lignes sont des observations et les colonnes sont des variables. Ainsi, un tableau est une collection de vecteurs de même longueur, chaque vecteur représentant une variable. Chaque variable est libre de prendre le type de données approprié. La position d'une donnée dans le vecteur correspond à une observation.\n\n## Base de données\nImaginez que vous consignez des données de différents sites (A, B et C), et que chaque site possède ses propres caractéristiques. Il est redondant de décrire le site pour chaque observation. Vous préférerez créer deux tableaux: un pour décrire vos observations, et un autre pour décrire les sites. De cette manière, vous créez une collection de tableaux intereliés: une *base de données*.\n\nDans Python, les données structurées en tableaux, ainsi que les opérations sur les tableaux, peuvent être gérés grâce à l'interface de Noteable, ou bien grâce aux modules *Pandas* ou *Polars*. Mais avant de se lancer dans l'utilisation de ces outils, voyons quelques règles à suivre pour bien structurer ses données.",
      "id": "f0ff0e8f"
    },
    {
      "cell_type": "markdown",
      "metadata": {
        "tags": []
      },
      "source": "## Organiser un tableau de données\n\nAfin de repérer chaque cellule d'un tableau, on attribue à chaque ligne et à chaque colonne colonnes un identifiant *unique*, que l'on nomme *indice* pour les lignes et *entête* pour les colonnes.\n\n***Règle no 1.** Une variable par colonne, une observation par ligne.* \n\nLes unités expérimentales sont décrites par une ou plusieurs variables par des chiffres ou des lettres. Chaque variable devrait être présente en une seule colonne, et chaque ligne devrait correspondre à une unité expérimentale où ces variables ont été mesurées. La règle parait simple, mais elle est rarement respectée. Prenez par exemple le tableau suivant.\n\n| Site | Traitement A | Traitement B | Traitement C |\n| --- | --- | --- | --- |\n| Sainte-Patente | 4.1 | 8.2 | 6.8 |\n| Sainte-Affaire | 5.8 | 5.9 | NA |\n| Saint-Gréement | 2.9 | 3.4 | 4.6 |\n\n*Tableau 1. Rendements obtenus sur les sites expérimentaux selon les traitements.*\n\nQu'est-ce qui cloche avec ce tableau ? Chaque ligne est une observation, mais contient plusieurs observations d'une même variable, le rendement, qui devient étalé sur plusieurs colonnes. *À bien y penser*, le type de traitement est une variable et le rendement en est une autre :\n\n| Site | Traitement | Rendement |\n| --- | --- | --- |\n| Sainte-Patente | A | 4.1 |\n| Sainte-Patente | B | 8.2 |\n| Sainte-Patente | C | 6.8 |\n| Sainte-Affaire | A | 5.8 |\n| Sainte-Affaire | B | 5.9 |\n| Sainte-Affaire | C | NA |\n| Saint-Gréement | A | 2.9 |\n| Saint-Gréement | B | 3.4 |\n| Saint-Gréement | C | 4.6 |\n\n*Tableau 2. Rendements obtenus sur les sites expérimentaux selon les traitements.*\n\nPlus précisément, l'expression *à bien y penser* suggère une réflexion sur la signification des données. Certaines variables peuvent parfois être intégrées dans une même colonne, parfois pas. Par exemple, les concentrations en cuivre, zinc et plomb dans un sol contaminé peuvent être placés dans la même colonne \"Concentration\" ou déclinées en plusieurs colonnes Cu, Zn et Pb. La première version trouvera son utilité pour des créer des graphiques (chapitre 5), alors que la deuxième favorise le traitement statistique.\n\n***Règle no 2.** Ne pas répéter les informations.*\n\nRerpenons la même expérience. Supposons que vous mesurez la précipitation à l'échelle du site.\n\n| Site | Traitement | Rendement | Précipitations |\n| --- | --- | --- | --- |\n| Sainte-Patente | A | 4.1 | 813 |\n| Sainte-Patente | B | 8.2 | 813 |\n| Sainte-Patente | C | 6.8 | 813 |\n| Sainte-Affaire | A | 5.8 | 642 |\n| Sainte-Affaire | B | 5.9 | 642 |\n| Sainte-Affaire | C | NA | 642 |\n| Saint-Gréement | A | 2.9 | 1028 |\n| Saint-Gréement | B | 3.4 | 1028 |\n| Saint-Gréement | C | 4.6 | 1028 |\n\n*Tableau 3. Rendements obtenus sur les sites expérimentaux selon les traitements.*\n\nSegmenter l'information en deux tableaux serait préférable.\n\n| Site | Précipitations |\n| --- | --- |\n| Sainte-Patente | 813 |\n| Sainte-Affaire | 642 |\n| Saint-Gréement | 1028 |\n\n*Tableau 4. Précipitations sur les sites expérimentaux.*\n\nLes tableaux 2 et 4, ensemble, forment une base de données (collection organisée de tableaux).\n\n***Règle no 3.** Ne pas bousiller les données.*\n\nPar exemple.\n\n- *Ajouter des commentaires dans des cellules*. Si une cellule mérite d'être commentée, il est préférable de placer les commentaires soit dans un fichier décrivant le tableau de données, soit dans une colonne de commentaire juxtaposée à la colonne de la variable à commenter. Par exemple, si vous n'avez pas mesuré le pH pour une observation, n'écrivez pas \"échantillon contaminé\" dans la cellule, mais annoter dans un fichier d'explication que l'échantillon no X a été sont systématiquessystématique, il peut être pratique de les inscrire dans une colonne `commentaire_pH`.\n- *Inscriptions non systématiques*. Il arrive souvent que des catégories d'une variable ou que des valeurs manquantes soient annotées différemment. Il arrive même que le séparateur décimal soit non systématique, parfois noté par un point, parfois par une virgule. Par exemple, une fois importés dans votre session, les catégories `St-Ours` et `Saint-Ours` seront traitées comme deux catégories distinctes. De même, les cellules correspondant à des valeurs manquantes ne devraient pas être inscrites parfois avec une cellule vide, parfois avec un point, parfois avec un tiret ou avec la mention `NA`. Le plus simple est de laisser systématiquement ces cellules vides.\n- *Inclure des notes dans un tableau*. La règle \"une colonne, une variable\" n'est pas respectée si on ajoute des notes un peu n'importe où sous ou à côté du tableau.\n- *Ajouter des sommaires*. Si vous ajoutez une ligne sous un tableau comprenant la moyenne de chaque colonne, qu'est-ce qui arrivera lorsque vous importerez votre tableau dans votre session de travail ? La ligne sera considérée comme une observation supplémentaire.\n- *Inclure une hiérarchie dans les entêtes*. Afin de consigner des données de texture du sol, comprenant la proportion de sable, de limon et d'argile, vous organisez votre entête en plusieurs lignes. Une ligne pour la catégorie de donnée, *Texture*, fusionnée sur trois colonnes, puis trois colonnes intitulées *Sable*, *Limon* et *Argile*. Votre tableau est joli, mais il ne pourra pas être importé conformément dans un votre session de calcul : on recherche *un entête unique par colonne*. Votre tableau de données devrait plutôt porter les entêtes *Texture sable*, *Texture limon* et *Texture argile*. Un conseil : réserver le travail esthétique à la toute fin d'un flux de travail.",
      "id": "30c9da7c"
    },
    {
      "cell_type": "markdown",
      "metadata": {
        "tags": []
      },
      "source": "## Formats de tableau\n\nPlusieurs outils sont à votre disposition pour créer des tableaux. Je vous présente ici les plus communs.\n\n### *.xls* ou *.xlsx*\nMicrosoft Excel est un logiciel de type *tableur*, ou chiffrier électronique. L'ancien format *xls* a été remplacé par le format *xlsx* avec l'arrivée de Microsoft Office 2010. Il s'agit d'un format propriétaire, dont l'alternative libre la plus connue est le format *ods*, popularisé par la suite bureautique LibreOffice. Les formats *xls*, *xlsx* ou *ods* sont davantage utilisés comme outils de calcul que d'entreposage de données. Ils contiennent des formules, des graphiques, du formatage de cellule, etc. **Je ne les recommande pas pour stocker des données**.\n\n### *.csv* et *.json*\nLe format *csv*, pour *comma separated values*, est un fichier texte, que vous pouvez ouvrir avec n'importe quel éditeur de texte brut (Bloc note, [Visual studio code](https://code.visualstudio.com/), etc.). Chaque colonne doit être délimitée par un caractère cohérent (conventionnellement une virgule, mais en français un point-virgule ou une tabulation pour éviter la confusion avec le séparateur décimal) et chaque ligne du tableau est un retour de ligne. Il est possible d'ouvrir et d'éditer les fichiers csv dans un éditeur texte, mais il est parfois plus pratique de les ouvrir avec des tableurs (LibreOffice Calc, Microsoft Excel, Google Sheets, etc.).\n\nComme le format *csv*, le format *json* indique un fichier en texte clair. Il est utilisé davantage pour le partage de données des applications web. En analyse et modélisation, ce format est surtout utilisé pour les données géoréférencées. L'encodage est géré de la même manière qu'un fichier *csv*.\n\n**Encodage**. Puisque les formats *csv* et *json* sont des fichiers texte, un souci particulier doit être porté sur la manière dont le texte est encodé. Les caractères accentués pourraient être importés incorrectement si vous importez votre tableau en spécifiant le mauvais encodage. Pour les fichiers en langues occidentales, l'encodage UTF-8 devrait être utilisé. Toutefois, par défaut, Excel utilise un encodage de Microsoft. Si le *csv* a été généré par Excel, il est préférable de l'ouvrir avec votre éditeur texte, de l'enregistrer dans l'encodage UTF-8, puis de s'assurer que le délimiteur décimal est un point et que le délimiteur de colonne est une virgule.\n\n### Autres formats\nD'autres formats existent comme [Parquet](parquet.apache.org) pour le stockage de données massives, ou bien [Arrow](arrow.apache.org) pour le partage de données entre applications. L'extension .db est utilisée avec [SQLite](sqlite.org), un format de base de données utilisé surtout pour entreposer des données génériques, en format ligne. L'extension .db est aussi utilisée avec [DuckDB](duckdb.org), un format pour les bases de données stockées en format de colonnes.\n\n### Entreposer ses données\nLa manière la plus sécure pour entreposer ses données est de les confiner dans une base de données sécurisée sur un serveur sécurisé dans un environnement sécurisé. C'est aussi la manière la moins accessible. Des espaces de stockage nuagiques, comme Onedrive ou [autre](https://alternativeto.net/software/microsoft-onedrive/), peuvent être pratiques pour les backups et le partage des données avec une équipe de travail (qui risque en retour de bousiller vos données). Le suivi de version est possible chez certains fournisseurs d'espace de stockage. Mais pour un suivi de version plus rigoureux, les espaces de développement (comme GitHub) sont plus appropriés. Dans tous les cas, il est important de garder (1) des copies anciennes pour y revenir en cas d'erreurs et (2) un petit fichier décrivant les changements effectués sur les données.\n\n### Suggestion\nEn *csv* pour les petits tableaux, en *db* avec [DuckDB](https://duckdb.org/) pour les bases de données plus complexes, puis migrer vers [PostgreSQL](postgresql.org) ou [MariaDB](mariadb.org) si vous devez gérer des droits d'utilisation. Ce cours se concentre toutefois sur les données de type *csv*.",
      "id": "da128f47"
    },
    {
      "id": "d33f70e7-ae43-46ba-b4e7-b757e71f49ad",
      "cell_type": "markdown",
      "source": "## Jouer avec les données avec Noteable\n\nJ'ai créé ce document sur la plateforme de calcul infonuagique Noteable. Il se peut toutefois que vous le lisiez sur une autre plateforme. Si vous désirez jouer avec des données avec du code, vous pouvez sauter dire section *Jouer avec les données avec Polars*. Si vous vous sentez plus à l'aise à débuter avec une interface graphique, celle de Noteable est un super beau départ.\n\nPour démarrer, j'ai créé un dossier `data`, et j'y ai déposé (*drag & drop*) le jeu de données *Palmer penguins*, [arrangé par Allison Horst](https://allisonhorst.github.io/palmerpenguins/) à partir de recherches sur le dimorphisme sexuel chez les manchots ([Gorman et al., 2014](https://doi.org/10.1371/journal.pone.0090081)).\n\n<center>\n    <img src=\"https://github.com/allisonhorst/palmerpenguins/raw/main/man/figures/lter_penguins.png\" width=50%>\n    <img src=\"https://github.com/allisonhorst/palmerpenguins/raw/main/man/figures/culmen_depth.png\" width=50%>\n    <p><a href=\"https://github.com/allisonhorst/palmerpenguins\">Images par Allison Horst</a></p>\n</center>",
      "metadata": {
        "noteable": {
          "cell_type": "markdown"
        },
        "tags": []
      }
    },
    {
      "id": "fb72342c-77c3-4a92-95da-efa485110afd",
      "cell_type": "markdown",
      "source": "Dans le menu en haut à gauche, il s'agit de changer Python pour SQL, puis d'importer nos données en disant `SELECT`ionne toute (`*`) les colonnes du tableau `\"data/penguins.csv\"`.",
      "metadata": {
        "noteable": {
          "cell_type": "markdown"
        },
        "tags": []
      }
    },
    {
      "id": "43c7aa1a-9930-4a51-9be1-44fae7733b67",
      "cell_type": "code",
      "metadata": {
        "noteable": {
          "assign_results_to": "sql_df_1",
          "cell_type": "sql",
          "db_connection": "@noteable",
          "output_collection_id": "cf8eed6c-3af8-4b3e-8514-a5cfc2e3df06"
        },
        "ExecuteTime": {
          "end_time": "2023-07-13T18:50:03.860485+00:00",
          "start_time": "2023-07-13T18:50:03.513013+00:00"
        },
        "datalink": {
          "56e71e50-884e-4a71-9fb6-f2c93a78348f": {
            "applied_filters": [],
            "dataframe_info": {
              "default_index_used": true,
              "orig_num_cols": 11,
              "orig_num_rows": 2108,
              "orig_size_bytes": 202368,
              "truncated_num_cols": 11,
              "truncated_num_rows": 2108,
              "truncated_size_bytes": 202368,
              "truncated_string_columns": []
            },
            "display_id": "56e71e50-884e-4a71-9fb6-f2c93a78348f",
            "dx_settings": {
              "ALLOW_NOTEABLE_ATTRS": true,
              "COLUMN_SAMPLING_METHOD": "outer",
              "DB_LOCATION": ":memory:",
              "DEV_MODE": false,
              "DISPLAY_MAX_COLUMNS": 100,
              "DISPLAY_MAX_ROWS": 50000,
              "DISPLAY_MODE": "simple",
              "ENABLE_ASSIGNMENT": true,
              "ENABLE_DATALINK": true,
              "FLATTEN_COLUMN_VALUES": true,
              "FLATTEN_INDEX_VALUES": false,
              "GENERATE_DEX_METADATA": false,
              "HTML_TABLE_SCHEMA": false,
              "LOG_LEVEL": 30,
              "MAX_RENDER_SIZE_BYTES": 104857600,
              "MAX_STRING_LENGTH": 250,
              "NUM_PAST_SAMPLES_TRACKED": 3,
              "RANDOM_STATE": 12648430,
              "RESET_INDEX_VALUES": false,
              "ROW_SAMPLING_METHOD": "random",
              "SAMPLING_FACTOR": 0.1,
              "SAMPLING_METHOD": "random",
              "STRINGIFY_COLUMN_VALUES": true,
              "STRINGIFY_INDEX_VALUES": false
            },
            "sample_history": [],
            "sampling_time": "2023-06-07T15:15:04.063056",
            "user_variable_name": "sql_df_1",
            "variable_name": "sql_df_1"
          },
          "1d068379-54cd-4996-be58-85f63e109fd4": {
            "applied_filters": [],
            "dataframe_info": {
              "default_index_used": true,
              "orig_num_cols": 3,
              "orig_num_rows": 1846,
              "orig_size_bytes": 59072,
              "truncated_num_cols": 3,
              "truncated_num_rows": 1846,
              "truncated_size_bytes": 59072,
              "truncated_string_columns": []
            },
            "display_id": "1d068379-54cd-4996-be58-85f63e109fd4",
            "dx_settings": {
              "ALLOW_NOTEABLE_ATTRS": true,
              "COLUMN_SAMPLING_METHOD": "outer",
              "DB_LOCATION": ":memory:",
              "DEV_MODE": false,
              "DISPLAY_MAX_COLUMNS": 100,
              "DISPLAY_MAX_ROWS": 50000,
              "DISPLAY_MODE": "simple",
              "ENABLE_ASSIGNMENT": true,
              "ENABLE_DATALINK": true,
              "FLATTEN_COLUMN_VALUES": true,
              "FLATTEN_INDEX_VALUES": false,
              "GENERATE_DEX_METADATA": false,
              "HTML_TABLE_SCHEMA": false,
              "LOG_LEVEL": 30,
              "MAX_RENDER_SIZE_BYTES": 104857600,
              "MAX_STRING_LENGTH": 250,
              "NUM_PAST_SAMPLES_TRACKED": 3,
              "RANDOM_STATE": 12648430,
              "RESET_INDEX_VALUES": false,
              "ROW_SAMPLING_METHOD": "random",
              "SAMPLING_FACTOR": 0.1,
              "SAMPLING_METHOD": "random",
              "STRINGIFY_COLUMN_VALUES": true,
              "STRINGIFY_INDEX_VALUES": false
            },
            "sample_history": [],
            "sampling_time": "2023-06-07T15:38:49.519016",
            "user_variable_name": "sql_df_1",
            "variable_name": "sql_df_1"
          },
          "7a746998-8e54-4067-828c-83b824606c9c": {
            "applied_filters": [],
            "dataframe_info": {
              "default_index_used": true,
              "orig_num_cols": 9,
              "orig_num_rows": 344,
              "orig_size_bytes": 27520,
              "truncated_num_cols": 9,
              "truncated_num_rows": 344,
              "truncated_size_bytes": 27520,
              "truncated_string_columns": []
            },
            "display_id": "7a746998-8e54-4067-828c-83b824606c9c",
            "dx_settings": {
              "ALLOW_NOTEABLE_ATTRS": true,
              "COLUMN_SAMPLING_METHOD": "outer",
              "DB_LOCATION": ":memory:",
              "DEV_MODE": false,
              "DISPLAY_MAX_COLUMNS": 100,
              "DISPLAY_MAX_ROWS": 50000,
              "DISPLAY_MODE": "simple",
              "ENABLE_ASSIGNMENT": true,
              "ENABLE_DATALINK": true,
              "FLATTEN_COLUMN_VALUES": true,
              "FLATTEN_INDEX_VALUES": false,
              "GENERATE_DEX_METADATA": false,
              "HTML_TABLE_SCHEMA": false,
              "LOG_LEVEL": 30,
              "MAX_RENDER_SIZE_BYTES": 104857600,
              "MAX_STRING_LENGTH": 250,
              "NUM_PAST_SAMPLES_TRACKED": 3,
              "RANDOM_STATE": 12648430,
              "RESET_INDEX_VALUES": false,
              "ROW_SAMPLING_METHOD": "random",
              "SAMPLING_FACTOR": 0.1,
              "SAMPLING_METHOD": "random",
              "STRINGIFY_COLUMN_VALUES": true,
              "STRINGIFY_INDEX_VALUES": false
            },
            "sample_history": [],
            "sampling_time": "2023-06-07T15:39:08.847640",
            "user_variable_name": "sql_df_1",
            "variable_name": "sql_df_1"
          },
          "67a841d2-1a2a-4c8c-acc4-5b98b9910a51": {
            "applied_filters": [],
            "dataframe_info": {
              "default_index_used": true,
              "orig_num_cols": 9,
              "orig_num_rows": 344,
              "orig_size_bytes": 27520,
              "truncated_num_cols": 9,
              "truncated_num_rows": 344,
              "truncated_size_bytes": 27520,
              "truncated_string_columns": []
            },
            "display_id": "67a841d2-1a2a-4c8c-acc4-5b98b9910a51",
            "dx_settings": {
              "ALLOW_NOTEABLE_ATTRS": true,
              "COLUMN_SAMPLING_METHOD": "outer",
              "DB_LOCATION": ":memory:",
              "DEV_MODE": false,
              "DISPLAY_MAX_COLUMNS": 100,
              "DISPLAY_MAX_ROWS": 50000,
              "DISPLAY_MODE": "simple",
              "ENABLE_ASSIGNMENT": true,
              "ENABLE_DATALINK": true,
              "FLATTEN_COLUMN_VALUES": true,
              "FLATTEN_INDEX_VALUES": false,
              "GENERATE_DEX_METADATA": false,
              "HTML_TABLE_SCHEMA": false,
              "LOG_LEVEL": 30,
              "MAX_RENDER_SIZE_BYTES": 104857600,
              "MAX_STRING_LENGTH": 250,
              "NUM_PAST_SAMPLES_TRACKED": 3,
              "RANDOM_STATE": 12648430,
              "RESET_INDEX_VALUES": false,
              "ROW_SAMPLING_METHOD": "random",
              "SAMPLING_FACTOR": 0.1,
              "SAMPLING_METHOD": "random",
              "STRINGIFY_COLUMN_VALUES": true,
              "STRINGIFY_INDEX_VALUES": false
            },
            "sample_history": [],
            "sampling_time": "2023-07-13T18:50:03.694997",
            "user_variable_name": "sql_df_1",
            "variable_name": "sql_df_1"
          }
        },
        "dx": {
          "dashboard": {
            "multiViews": []
          },
          "fieldMetadata": {
            "bill_depth_mm": {
              "columnPosition": 6,
              "overrideType": "integer"
            },
            "bill_length_mm": {
              "columnPosition": 5,
              "overrideType": "integer"
            },
            "body_mass_g": {
              "columnPosition": 8
            },
            "flipper_length_mm": {
              "columnPosition": 7
            },
            "index": {
              "columnPosition": 1
            },
            "island": {
              "columnPosition": 4
            },
            "rowid": {
              "columnPosition": 2
            },
            "sex": {
              "columnPosition": 9
            },
            "species": {
              "columnPosition": 3
            },
            "year": {
              "columnPosition": 10
            }
          },
          "updated": 1689274652843,
          "views": [
            {
              "annotationRules": [],
              "chart": {
                "tableSparklines": true
              },
              "chartMode": "grid",
              "confoRules": [],
              "decoration": {
                "footer": "",
                "subtitle": "",
                "title": "Table"
              },
              "facets": [],
              "filterSettings": {
                "SHOW_FILTER_PANEL": true,
                "filters": []
              },
              "id": "first-view",
              "isComment": false,
              "isDefault": true,
              "isTransitory": false,
              "type": "public",
              "userID": ""
            },
            {
              "annotationRules": [],
              "chart": {
                "facets": [],
                "tableSparklines": true
              },
              "chartMode": "grid",
              "confoRules": [],
              "decoration": {
                "footer": "",
                "subtitle": "",
                "title": "Table"
              },
              "facets": [],
              "filterSettings": {
                "SHOW_FILTER_PANEL": true,
                "filters": []
              },
              "id": "first-view",
              "isComment": false,
              "isDefault": true,
              "isTransitory": true,
              "type": "public",
              "userID": ""
            }
          ]
        },
        "scrolled": false,
        "tags": []
      },
      "execution_count": null,
      "source": "SELECT * FROM \"data/penguins.csv\"",
      "outputs": []
    },
    {
      "id": "ce2e3c30-a014-4c0e-a429-2a4c6bf01b17",
      "cell_type": "markdown",
      "source": "Jouez avec l'interface en inspectant les distributions des variables, en masquant des colonnes (*Manage columns*), en les filtrant et en générant des statistiques au bas de la colonne. Vous pouvez aussi jouer avec les visualisation, mais nous verrons ça à la prochaine section.",
      "metadata": {
        "noteable": {
          "cell_type": "markdown"
        },
        "tags": []
      }
    },
    {
      "id": "9165101d-3858-475a-9f53-668c2f791db8",
      "cell_type": "markdown",
      "source": "Dans le menu *More options* pour les données déposées dans Noteable [**···**], vous avez l'option *Add to notebook*. Cette option insère une ligne de commande en Python pour l'importer avec le format de tableau *Pandas*, qui est le module le plus utilisé en Python aujourd'hui. Le hic, c'est que ce format est voué à disparaître pour laisser sa place à *Polars*, que je préfère et dont l'avenir est plus certain.",
      "metadata": {
        "noteable": {
          "cell_type": "markdown"
        },
        "tags": []
      }
    },
    {
      "cell_type": "markdown",
      "metadata": {
        "tags": []
      },
      "source": "## Jouer avec les données avec *Polars*\n\nLe module *Polars* est d'une aide précieuse pour l'analyse de données en Python. Il permet d'importer des données dans votre session de travail, de les explorer, de les transformer et de les exporter. Les tableaux de classe `polars` peuvent faire le pont vers d'autres modules que nous utiliserons plus loin.\n\n*Polars* n'est pas installé par défaut dans l'environnement Python de Noteable. Installons-le avec le gestionnaire de modules *pip*. Le point d'exclamation dit que c'est une commande destinée au terminal, pas à Python. Écrire la version à installer n'est pas obligatoire : je le fais pour m'assurer que les codes qui suivent fonctionneront même si *Polars* est modifié à la suite d'une mis à jour.",
      "id": "d3d8892a"
    },
    {
      "id": "d09438c2-7f43-4fdf-9506-f0d63e0c1422",
      "cell_type": "code",
      "metadata": {
        "noteable": {
          "cell_type": "python",
          "output_collection_id": "b32875ec-7d0f-4927-aa79-052e3f37a60c"
        },
        "ExecuteTime": {
          "end_time": "2023-07-13T18:50:17.920899+00:00",
          "start_time": "2023-07-13T18:50:11.665649+00:00"
        },
        "scrolled": false,
        "tags": []
      },
      "execution_count": null,
      "source": "!pip install polars==0.18.1",
      "outputs": []
    },
    {
      "id": "fd92a4d7-0390-4c79-a9d4-b1ade6a0cfcd",
      "cell_type": "markdown",
      "source": "Puis, importez le module *Polars* avec son alias conventionnellement adopté et importez vos données dans une session Python. Dans le *csv*, les valeurs manquantes sont inscrites comme `NA`.",
      "metadata": {
        "noteable": {
          "cell_type": "markdown"
        },
        "tags": []
      }
    },
    {
      "id": "3b08d6d0-b580-4af8-9b71-8d26f42865a3",
      "cell_type": "code",
      "metadata": {
        "noteable": {
          "cell_type": "python",
          "output_collection_id": "d99600c7-0dac-4c18-b06b-baec98ddaf24"
        },
        "ExecuteTime": {
          "end_time": "2023-07-13T18:50:37.636775+00:00",
          "start_time": "2023-07-13T18:50:37.412212+00:00"
        },
        "datalink": {
          "d3b952d8-b6ac-4ef7-b42a-b432e0750226": {
            "applied_filters": [],
            "dataframe_info": {
              "default_index_used": true,
              "orig_num_cols": 9,
              "orig_num_rows": 344,
              "orig_size_bytes": 27520,
              "truncated_num_cols": 9,
              "truncated_num_rows": 344,
              "truncated_size_bytes": 27520,
              "truncated_string_columns": []
            },
            "display_id": "d3b952d8-b6ac-4ef7-b42a-b432e0750226",
            "dx_settings": {
              "ALLOW_NOTEABLE_ATTRS": true,
              "COLUMN_SAMPLING_METHOD": "outer",
              "DB_LOCATION": ":memory:",
              "DEV_MODE": false,
              "DISPLAY_MAX_COLUMNS": 100,
              "DISPLAY_MAX_ROWS": 50000,
              "DISPLAY_MODE": "simple",
              "ENABLE_ASSIGNMENT": true,
              "ENABLE_DATALINK": true,
              "FLATTEN_COLUMN_VALUES": true,
              "FLATTEN_INDEX_VALUES": false,
              "GENERATE_DEX_METADATA": false,
              "HTML_TABLE_SCHEMA": false,
              "LOG_LEVEL": 30,
              "MAX_RENDER_SIZE_BYTES": 104857600,
              "MAX_STRING_LENGTH": 250,
              "NUM_PAST_SAMPLES_TRACKED": 3,
              "RANDOM_STATE": 12648430,
              "RESET_INDEX_VALUES": false,
              "ROW_SAMPLING_METHOD": "random",
              "SAMPLING_FACTOR": 0.1,
              "SAMPLING_METHOD": "random",
              "STRINGIFY_COLUMN_VALUES": true,
              "STRINGIFY_INDEX_VALUES": false
            },
            "sample_history": [],
            "sampling_time": "2023-06-07T15:52:57.683971",
            "user_variable_name": "sql_df_1",
            "variable_name": "sql_df_1"
          },
          "46c55915-0a80-43d2-8058-07c62812eb64": {
            "applied_filters": [],
            "dataframe_info": {
              "default_index_used": true,
              "orig_num_cols": 9,
              "orig_num_rows": 344,
              "orig_size_bytes": 27520,
              "truncated_num_cols": 9,
              "truncated_num_rows": 344,
              "truncated_size_bytes": 27520,
              "truncated_string_columns": []
            },
            "display_id": "46c55915-0a80-43d2-8058-07c62812eb64",
            "dx_settings": {
              "ALLOW_NOTEABLE_ATTRS": true,
              "COLUMN_SAMPLING_METHOD": "outer",
              "DB_LOCATION": ":memory:",
              "DEV_MODE": false,
              "DISPLAY_MAX_COLUMNS": 100,
              "DISPLAY_MAX_ROWS": 50000,
              "DISPLAY_MODE": "simple",
              "ENABLE_ASSIGNMENT": true,
              "ENABLE_DATALINK": true,
              "FLATTEN_COLUMN_VALUES": true,
              "FLATTEN_INDEX_VALUES": false,
              "GENERATE_DEX_METADATA": false,
              "HTML_TABLE_SCHEMA": false,
              "LOG_LEVEL": 30,
              "MAX_RENDER_SIZE_BYTES": 104857600,
              "MAX_STRING_LENGTH": 250,
              "NUM_PAST_SAMPLES_TRACKED": 3,
              "RANDOM_STATE": 12648430,
              "RESET_INDEX_VALUES": false,
              "ROW_SAMPLING_METHOD": "random",
              "SAMPLING_FACTOR": 0.1,
              "SAMPLING_METHOD": "random",
              "STRINGIFY_COLUMN_VALUES": true,
              "STRINGIFY_INDEX_VALUES": false
            },
            "sample_history": [],
            "sampling_time": "2023-06-07T16:10:07.469547",
            "user_variable_name": "sql_df_1",
            "variable_name": "sql_df_1"
          },
          "8f146cbf-d6ab-452b-937b-0d07a79db8d2": {
            "applied_filters": [],
            "dataframe_info": {
              "default_index_used": true,
              "orig_num_cols": 9,
              "orig_num_rows": 344,
              "orig_size_bytes": 27520,
              "truncated_num_cols": 9,
              "truncated_num_rows": 344,
              "truncated_size_bytes": 27520,
              "truncated_string_columns": []
            },
            "display_id": "8f146cbf-d6ab-452b-937b-0d07a79db8d2",
            "dx_settings": {
              "ALLOW_NOTEABLE_ATTRS": true,
              "COLUMN_SAMPLING_METHOD": "outer",
              "DB_LOCATION": ":memory:",
              "DEV_MODE": false,
              "DISPLAY_MAX_COLUMNS": 100,
              "DISPLAY_MAX_ROWS": 50000,
              "DISPLAY_MODE": "simple",
              "ENABLE_ASSIGNMENT": true,
              "ENABLE_DATALINK": true,
              "FLATTEN_COLUMN_VALUES": true,
              "FLATTEN_INDEX_VALUES": false,
              "GENERATE_DEX_METADATA": false,
              "HTML_TABLE_SCHEMA": false,
              "LOG_LEVEL": 30,
              "MAX_RENDER_SIZE_BYTES": 104857600,
              "MAX_STRING_LENGTH": 250,
              "NUM_PAST_SAMPLES_TRACKED": 3,
              "RANDOM_STATE": 12648430,
              "RESET_INDEX_VALUES": false,
              "ROW_SAMPLING_METHOD": "random",
              "SAMPLING_FACTOR": 0.1,
              "SAMPLING_METHOD": "random",
              "STRINGIFY_COLUMN_VALUES": true,
              "STRINGIFY_INDEX_VALUES": false
            },
            "sample_history": [],
            "sampling_time": "2023-06-07T16:21:46.290740",
            "user_variable_name": "sql_df_1",
            "variable_name": "sql_df_1"
          },
          "61a1f151-5f6a-43c5-b41c-30a6ff6badc0": {
            "applied_filters": [],
            "dataframe_info": {
              "default_index_used": true,
              "orig_num_cols": 9,
              "orig_num_rows": 344,
              "orig_size_bytes": 27520,
              "truncated_num_cols": 9,
              "truncated_num_rows": 344,
              "truncated_size_bytes": 27520,
              "truncated_string_columns": []
            },
            "display_id": "61a1f151-5f6a-43c5-b41c-30a6ff6badc0",
            "dx_settings": {
              "ALLOW_NOTEABLE_ATTRS": true,
              "COLUMN_SAMPLING_METHOD": "outer",
              "DB_LOCATION": ":memory:",
              "DEV_MODE": false,
              "DISPLAY_MAX_COLUMNS": 100,
              "DISPLAY_MAX_ROWS": 50000,
              "DISPLAY_MODE": "simple",
              "ENABLE_ASSIGNMENT": true,
              "ENABLE_DATALINK": true,
              "FLATTEN_COLUMN_VALUES": true,
              "FLATTEN_INDEX_VALUES": false,
              "GENERATE_DEX_METADATA": false,
              "HTML_TABLE_SCHEMA": false,
              "LOG_LEVEL": 30,
              "MAX_RENDER_SIZE_BYTES": 104857600,
              "MAX_STRING_LENGTH": 250,
              "NUM_PAST_SAMPLES_TRACKED": 3,
              "RANDOM_STATE": 12648430,
              "RESET_INDEX_VALUES": false,
              "ROW_SAMPLING_METHOD": "random",
              "SAMPLING_FACTOR": 0.1,
              "SAMPLING_METHOD": "random",
              "STRINGIFY_COLUMN_VALUES": true,
              "STRINGIFY_INDEX_VALUES": false
            },
            "sample_history": [],
            "sampling_time": "2023-06-07T16:36:06.457531",
            "user_variable_name": null,
            "variable_name": "unk_dataframe_f9f31ec8d0ee4f48accec42eafdf94c6"
          },
          "24b42d02-7a4f-4d93-9adf-d12cad0643e3": {
            "applied_filters": [],
            "dataframe_info": {
              "default_index_used": true,
              "orig_num_cols": 9,
              "orig_num_rows": 344,
              "orig_size_bytes": 27520,
              "truncated_num_cols": 9,
              "truncated_num_rows": 344,
              "truncated_size_bytes": 27520,
              "truncated_string_columns": []
            },
            "display_id": "24b42d02-7a4f-4d93-9adf-d12cad0643e3",
            "dx_settings": {
              "ALLOW_NOTEABLE_ATTRS": true,
              "COLUMN_SAMPLING_METHOD": "outer",
              "DB_LOCATION": ":memory:",
              "DEV_MODE": false,
              "DISPLAY_MAX_COLUMNS": 100,
              "DISPLAY_MAX_ROWS": 50000,
              "DISPLAY_MODE": "simple",
              "ENABLE_ASSIGNMENT": true,
              "ENABLE_DATALINK": true,
              "FLATTEN_COLUMN_VALUES": true,
              "FLATTEN_INDEX_VALUES": false,
              "GENERATE_DEX_METADATA": false,
              "HTML_TABLE_SCHEMA": false,
              "LOG_LEVEL": 30,
              "MAX_RENDER_SIZE_BYTES": 104857600,
              "MAX_STRING_LENGTH": 250,
              "NUM_PAST_SAMPLES_TRACKED": 3,
              "RANDOM_STATE": 12648430,
              "RESET_INDEX_VALUES": false,
              "ROW_SAMPLING_METHOD": "random",
              "SAMPLING_FACTOR": 0.1,
              "SAMPLING_METHOD": "random",
              "STRINGIFY_COLUMN_VALUES": true,
              "STRINGIFY_INDEX_VALUES": false
            },
            "sample_history": [],
            "sampling_time": "2023-06-07T18:28:47.113649",
            "user_variable_name": null,
            "variable_name": "unk_dataframe_31913590acdf48d29a38c460e362c1a5"
          },
          "ba058684-c572-41eb-9d50-768e55d213a8": {
            "applied_filters": [],
            "dataframe_info": {
              "default_index_used": true,
              "orig_num_cols": 9,
              "orig_num_rows": 344,
              "orig_size_bytes": 27520,
              "truncated_num_cols": 9,
              "truncated_num_rows": 344,
              "truncated_size_bytes": 27520,
              "truncated_string_columns": []
            },
            "display_id": "ba058684-c572-41eb-9d50-768e55d213a8",
            "dx_settings": {
              "ALLOW_NOTEABLE_ATTRS": true,
              "COLUMN_SAMPLING_METHOD": "outer",
              "DB_LOCATION": ":memory:",
              "DEV_MODE": false,
              "DISPLAY_MAX_COLUMNS": 100,
              "DISPLAY_MAX_ROWS": 50000,
              "DISPLAY_MODE": "simple",
              "ENABLE_ASSIGNMENT": true,
              "ENABLE_DATALINK": true,
              "FLATTEN_COLUMN_VALUES": true,
              "FLATTEN_INDEX_VALUES": false,
              "GENERATE_DEX_METADATA": false,
              "HTML_TABLE_SCHEMA": false,
              "LOG_LEVEL": 30,
              "MAX_RENDER_SIZE_BYTES": 104857600,
              "MAX_STRING_LENGTH": 250,
              "NUM_PAST_SAMPLES_TRACKED": 3,
              "RANDOM_STATE": 12648430,
              "RESET_INDEX_VALUES": false,
              "ROW_SAMPLING_METHOD": "random",
              "SAMPLING_FACTOR": 0.1,
              "SAMPLING_METHOD": "random",
              "STRINGIFY_COLUMN_VALUES": true,
              "STRINGIFY_INDEX_VALUES": false
            },
            "sample_history": [],
            "sampling_time": "2023-07-13T18:50:32.085984",
            "user_variable_name": null,
            "variable_name": "unk_dataframe_cbda09ccfc434f30ac4bfb7fdfda4739"
          },
          "615e433c-5090-482c-85dc-7950ee0f10d6": {
            "applied_filters": [],
            "dataframe_info": {
              "default_index_used": true,
              "orig_num_cols": 9,
              "orig_num_rows": 344,
              "orig_size_bytes": 27520,
              "truncated_num_cols": 9,
              "truncated_num_rows": 344,
              "truncated_size_bytes": 27520,
              "truncated_string_columns": []
            },
            "display_id": "615e433c-5090-482c-85dc-7950ee0f10d6",
            "dx_settings": {
              "ALLOW_NOTEABLE_ATTRS": true,
              "COLUMN_SAMPLING_METHOD": "outer",
              "DB_LOCATION": ":memory:",
              "DEV_MODE": false,
              "DISPLAY_MAX_COLUMNS": 100,
              "DISPLAY_MAX_ROWS": 50000,
              "DISPLAY_MODE": "simple",
              "ENABLE_ASSIGNMENT": true,
              "ENABLE_DATALINK": true,
              "FLATTEN_COLUMN_VALUES": true,
              "FLATTEN_INDEX_VALUES": false,
              "GENERATE_DEX_METADATA": false,
              "HTML_TABLE_SCHEMA": false,
              "LOG_LEVEL": 30,
              "MAX_RENDER_SIZE_BYTES": 104857600,
              "MAX_STRING_LENGTH": 250,
              "NUM_PAST_SAMPLES_TRACKED": 3,
              "RANDOM_STATE": 12648430,
              "RESET_INDEX_VALUES": false,
              "ROW_SAMPLING_METHOD": "random",
              "SAMPLING_FACTOR": 0.1,
              "SAMPLING_METHOD": "random",
              "STRINGIFY_COLUMN_VALUES": true,
              "STRINGIFY_INDEX_VALUES": false
            },
            "sample_history": [],
            "sampling_time": "2023-07-13T18:50:34.584534",
            "user_variable_name": null,
            "variable_name": "unk_dataframe_464173f8d5df434bacabd63a4df5358a"
          },
          "4a5f2d37-f70b-4c4c-89d8-9afd08b0782f": {
            "applied_filters": [],
            "dataframe_info": {
              "default_index_used": true,
              "orig_num_cols": 9,
              "orig_num_rows": 344,
              "orig_size_bytes": 27520,
              "truncated_num_cols": 9,
              "truncated_num_rows": 344,
              "truncated_size_bytes": 27520,
              "truncated_string_columns": []
            },
            "display_id": "4a5f2d37-f70b-4c4c-89d8-9afd08b0782f",
            "dx_settings": {
              "ALLOW_NOTEABLE_ATTRS": true,
              "COLUMN_SAMPLING_METHOD": "outer",
              "DB_LOCATION": ":memory:",
              "DEV_MODE": false,
              "DISPLAY_MAX_COLUMNS": 100,
              "DISPLAY_MAX_ROWS": 50000,
              "DISPLAY_MODE": "simple",
              "ENABLE_ASSIGNMENT": true,
              "ENABLE_DATALINK": true,
              "FLATTEN_COLUMN_VALUES": true,
              "FLATTEN_INDEX_VALUES": false,
              "GENERATE_DEX_METADATA": false,
              "HTML_TABLE_SCHEMA": false,
              "LOG_LEVEL": 30,
              "MAX_RENDER_SIZE_BYTES": 104857600,
              "MAX_STRING_LENGTH": 250,
              "NUM_PAST_SAMPLES_TRACKED": 3,
              "RANDOM_STATE": 12648430,
              "RESET_INDEX_VALUES": false,
              "ROW_SAMPLING_METHOD": "random",
              "SAMPLING_FACTOR": 0.1,
              "SAMPLING_METHOD": "random",
              "STRINGIFY_COLUMN_VALUES": true,
              "STRINGIFY_INDEX_VALUES": false
            },
            "sample_history": [],
            "sampling_time": "2023-07-13T18:50:37.475058",
            "user_variable_name": null,
            "variable_name": "unk_dataframe_11204141e38244e48f4bf9eaf98686ef"
          }
        },
        "dx": {
          "dashboard": {
            "multiViews": []
          },
          "fieldMetadata": {},
          "updated": 1689273778776,
          "views": [
            {
              "annotationRules": [],
              "chart": {},
              "chartMode": "grid",
              "confoRules": [],
              "decoration": {
                "footer": "",
                "subtitle": "",
                "title": "Table"
              },
              "facets": [],
              "filterSettings": {
                "SHOW_FILTER_PANEL": true,
                "filters": [
                  {
                    "column": "species",
                    "predicate": "in",
                    "type": "DIMENSION_FILTER",
                    "value": [
                      "Chinstrap"
                    ]
                  }
                ]
              },
              "id": "first-view",
              "isComment": false,
              "isDefault": true,
              "isTransitory": false,
              "type": "public",
              "userID": ""
            },
            {
              "annotationRules": [],
              "chart": {},
              "chartMode": "grid",
              "confoRules": [],
              "decoration": {
                "footer": "",
                "subtitle": "",
                "title": "Table"
              },
              "facets": [],
              "filterSettings": {
                "SHOW_FILTER_PANEL": true,
                "filters": []
              },
              "id": "first-view",
              "isComment": false,
              "isDefault": true,
              "isTransitory": true,
              "type": "public",
              "userID": ""
            }
          ]
        },
        "tags": []
      },
      "execution_count": null,
      "source": "import polars as pl\npenguins = pl.read_csv(\"data/penguins.csv\", null_values='NA')\npenguins",
      "outputs": []
    },
    {
      "cell_type": "markdown",
      "metadata": {
        "tags": []
      },
      "source": "Conformément aux règles de construction d'un tableau, *Polars* demande à ce que chaque colonne possède un entête unique, et qu'une colonne ne contienne qu'un type de données. de données est affiché dans Noteable en haut à gauche de la colonne. ",
      "id": "b51e234e"
    },
    {
      "cell_type": "markdown",
      "metadata": {
        "tags": []
      },
      "source": "### Sélectionner et filtrer des données\n\nOn utilise le terme *sélectionner* lorsque l'on désire choisir une ou plusieurs lignes et colonnes d'un tableau (la plupart du temps des colonnes). L'action de *filtrer* signifie de sélectionner des axes (la plupart du temps des lignes) selon certains critères.",
      "id": "38c53bc1"
    },
    {
      "cell_type": "markdown",
      "metadata": {
        "tags": []
      },
      "source": "#### Sélectionner\n\nIl y a plusieurs manières de sélectionner une colonne. La plus rapide consiste à fournir une liste entre crochets directement après avoir appelé le tableau, i.e. `penguins[[\"bill_depth_mm\", \"bill_length_mm\"]]`. La plus longue, et aussi celle que je trouve la plus claire, consiste à appeler les méthodes dans une chaîne. S'il ne s'agit que de sélectionner, ça peut paraître long pour rien, mais en enchaînant plusieurs opérations, le code devient ainsi plus clair.",
      "id": "fa39575a"
    },
    {
      "id": "1c55194b-b56d-4750-b7e4-8d8277c69a71",
      "cell_type": "code",
      "metadata": {
        "noteable": {
          "cell_type": "python",
          "output_collection_id": "885fecaf-a9df-4c32-9736-9263c3dd0278"
        },
        "ExecuteTime": {
          "end_time": "2023-06-07T16:11:51.971743+00:00",
          "start_time": "2023-06-07T16:11:51.776528+00:00"
        },
        "datalink": {
          "c1005e81-cb8a-4b7e-8017-f489f2894072": {
            "applied_filters": [],
            "dataframe_info": {
              "default_index_used": true,
              "orig_num_cols": 1,
              "orig_num_rows": 344,
              "orig_size_bytes": 5504,
              "truncated_num_cols": 1,
              "truncated_num_rows": 344,
              "truncated_size_bytes": 5504,
              "truncated_string_columns": []
            },
            "display_id": "c1005e81-cb8a-4b7e-8017-f489f2894072",
            "dx_settings": {
              "ALLOW_NOTEABLE_ATTRS": true,
              "COLUMN_SAMPLING_METHOD": "outer",
              "DB_LOCATION": ":memory:",
              "DEV_MODE": false,
              "DISPLAY_MAX_COLUMNS": 100,
              "DISPLAY_MAX_ROWS": 50000,
              "DISPLAY_MODE": "simple",
              "ENABLE_ASSIGNMENT": true,
              "ENABLE_DATALINK": true,
              "FLATTEN_COLUMN_VALUES": true,
              "FLATTEN_INDEX_VALUES": false,
              "GENERATE_DEX_METADATA": false,
              "HTML_TABLE_SCHEMA": false,
              "LOG_LEVEL": 30,
              "MAX_RENDER_SIZE_BYTES": 104857600,
              "MAX_STRING_LENGTH": 250,
              "NUM_PAST_SAMPLES_TRACKED": 3,
              "RANDOM_STATE": 12648430,
              "RESET_INDEX_VALUES": false,
              "ROW_SAMPLING_METHOD": "random",
              "SAMPLING_FACTOR": 0.1,
              "SAMPLING_METHOD": "random",
              "STRINGIFY_COLUMN_VALUES": true,
              "STRINGIFY_INDEX_VALUES": false
            },
            "sample_history": [],
            "sampling_time": "2023-06-07T16:11:51.814071",
            "user_variable_name": null,
            "variable_name": "unk_dataframe_47e293f55716454daf1123babd8309cd"
          }
        },
        "tags": [],
        "dx": {
          "dashboard": {
            "multiViews": []
          },
          "fieldMetadata": {
            "bill_depth_mm": {
              "columnPosition": 2,
              "overrideType": "integer",
              "sort": "asc"
            },
            "bill_length_mm": {
              "columnPosition": 3,
              "overrideType": "number"
            },
            "index": {
              "columnPosition": 1
            }
          },
          "updated": 1689274687475,
          "views": [
            {
              "annotationRules": [],
              "chart": {},
              "chartMode": "grid",
              "confoRules": [],
              "decoration": {
                "footer": "",
                "subtitle": "",
                "title": "Table"
              },
              "facets": [],
              "filterSettings": {
                "SHOW_FILTER_PANEL": true,
                "filters": []
              },
              "id": "first-view",
              "isDefault": true,
              "type": "public",
              "userID": ""
            },
            {
              "annotationRules": [],
              "chart": {},
              "chartMode": "grid",
              "confoRules": [],
              "decoration": {
                "footer": "",
                "subtitle": "",
                "title": "Table"
              },
              "facets": [],
              "filterSettings": {
                "SHOW_FILTER_PANEL": true,
                "filters": []
              },
              "id": "first-view",
              "isDefault": true,
              "isTransitory": true,
              "type": "public",
              "userID": ""
            }
          ]
        }
      },
      "execution_count": null,
      "source": "(\n    penguins\n    .select(['bill_depth_mm', 'bill_length_mm'])\n)",
      "outputs": []
    },
    {
      "id": "c28aa5c7-a41d-4352-ad11-ad7bfc5d517f",
      "cell_type": "markdown",
      "source": "Puisque, par défaut, Python termine une commande à la fin d'une ligne, les parenthèses autour de la chaîne de commande sont nécessaires.",
      "metadata": {
        "noteable": {
          "cell_type": "markdown"
        },
        "tags": []
      }
    },
    {
      "cell_type": "markdown",
      "metadata": {
        "tags": []
      },
      "source": "On peut travailler en exclusion avec la méthode `drop`.",
      "id": "9deffa92"
    },
    {
      "cell_type": "code",
      "execution_count": 24,
      "metadata": {
        "inputHidden": false,
        "outputHidden": false,
        "noteable": {
          "output_collection_id": "f2ce52a7-44d3-4b61-8bf4-7c7dd41890d0"
        },
        "ExecuteTime": {
          "end_time": "2023-06-07T16:23:54.236426+00:00",
          "start_time": "2023-06-07T16:23:54.003284+00:00"
        },
        "datalink": {
          "a0445bb0-e11e-48b9-a946-b1b0caa95276": {
            "applied_filters": [],
            "dataframe_info": {
              "default_index_used": true,
              "orig_num_cols": 7,
              "orig_num_rows": 344,
              "orig_size_bytes": 22016,
              "truncated_num_cols": 7,
              "truncated_num_rows": 344,
              "truncated_size_bytes": 22016,
              "truncated_string_columns": []
            },
            "display_id": "a0445bb0-e11e-48b9-a946-b1b0caa95276",
            "dx_settings": {
              "ALLOW_NOTEABLE_ATTRS": true,
              "COLUMN_SAMPLING_METHOD": "outer",
              "DB_LOCATION": ":memory:",
              "DEV_MODE": false,
              "DISPLAY_MAX_COLUMNS": 100,
              "DISPLAY_MAX_ROWS": 50000,
              "DISPLAY_MODE": "simple",
              "ENABLE_ASSIGNMENT": true,
              "ENABLE_DATALINK": true,
              "FLATTEN_COLUMN_VALUES": true,
              "FLATTEN_INDEX_VALUES": false,
              "GENERATE_DEX_METADATA": false,
              "HTML_TABLE_SCHEMA": false,
              "LOG_LEVEL": 30,
              "MAX_RENDER_SIZE_BYTES": 104857600,
              "MAX_STRING_LENGTH": 250,
              "NUM_PAST_SAMPLES_TRACKED": 3,
              "RANDOM_STATE": 12648430,
              "RESET_INDEX_VALUES": false,
              "ROW_SAMPLING_METHOD": "random",
              "SAMPLING_FACTOR": 0.1,
              "SAMPLING_METHOD": "random",
              "STRINGIFY_COLUMN_VALUES": true,
              "STRINGIFY_INDEX_VALUES": false
            },
            "sample_history": [],
            "sampling_time": "2023-06-07T16:23:54.075583",
            "user_variable_name": null,
            "variable_name": "unk_dataframe_bbe9e9ed36eb422bba7b53ac478e37e5"
          }
        },
        "tags": []
      },
      "outputs": [],
      "source": "(\n    penguins\n    .drop(['bill_depth_mm', 'bill_length_mm'])\n)",
      "id": "378b5db6"
    },
    {
      "cell_type": "markdown",
      "metadata": {
        "tags": []
      },
      "source": "🤔 Que feriez-vous si vous désiriez enregistrer votre nouveau tableau?",
      "id": "1313a191"
    },
    {
      "id": "419f6320-0be8-4d1a-8e00-2a3db07eddd1",
      "cell_type": "markdown",
      "source": "#### Filtrer\n\nPour filtrer, il vous faudmoins une colonne. Dans *Polars*, une colonne est appelée avec `pl.col('nom_de_la_colonne')`. À partir de ça, vous appliquez les filtres que vous voulez, `&` pour les ET et des `|`pour les OU, et chaque condition doit être entre parenthèse pour que Python ",
      "metadata": {
        "noteable": {
          "cell_type": "markdown"
        },
        "tags": []
      }
    },
    {
      "cell_type": "code",
      "execution_count": 25,
      "metadata": {
        "noteable": {
          "output_collection_id": "89bf5c48-70ea-4e2b-ae2c-e722cffecdb1"
        },
        "ExecuteTime": {
          "end_time": "2023-06-07T16:38:35.328630+00:00",
          "start_time": "2023-06-07T16:38:35.097162+00:00"
        },
        "datalink": {
          "aac9f6fe-90b6-43e0-b6b7-fcf4cec98aca": {
            "applied_filters": [],
            "dataframe_info": {
              "default_index_used": true,
              "orig_num_cols": 9,
              "orig_num_rows": 0,
              "orig_size_bytes": 0,
              "truncated_num_cols": 9,
              "truncated_num_rows": 0,
              "truncated_size_bytes": 0,
              "truncated_string_columns": []
            },
            "display_id": "aac9f6fe-90b6-43e0-b6b7-fcf4cec98aca",
            "dx_settings": {
              "ALLOW_NOTEABLE_ATTRS": true,
              "COLUMN_SAMPLING_METHOD": "outer",
              "DB_LOCATION": ":memory:",
              "DEV_MODE": false,
              "DISPLAY_MAX_COLUMNS": 100,
              "DISPLAY_MAX_ROWS": 50000,
              "DISPLAY_MODE": "simple",
              "ENABLE_ASSIGNMENT": true,
              "ENABLE_DATALINK": true,
              "FLATTEN_COLUMN_VALUES": true,
              "FLATTEN_INDEX_VALUES": false,
              "GENERATE_DEX_METADATA": false,
              "HTML_TABLE_SCHEMA": false,
              "LOG_LEVEL": 30,
              "MAX_RENDER_SIZE_BYTES": 104857600,
              "MAX_STRING_LENGTH": 250,
              "NUM_PAST_SAMPLES_TRACKED": 3,
              "RANDOM_STATE": 12648430,
              "RESET_INDEX_VALUES": false,
              "ROW_SAMPLING_METHOD": "random",
              "SAMPLING_FACTOR": 0.1,
              "SAMPLING_METHOD": "random",
              "STRINGIFY_COLUMN_VALUES": true,
              "STRINGIFY_INDEX_VALUES": false
            },
            "sample_history": [],
            "sampling_time": "2023-06-07T16:26:09.267468",
            "user_variable_name": null,
            "variable_name": "unk_dataframe_26c41c52bc39449f9b49cdcf70fa6366"
          },
          "6ca48254-f528-426d-bd6f-06feadf242e3": {
            "applied_filters": [],
            "dataframe_info": {
              "default_index_used": true,
              "orig_num_cols": 9,
              "orig_num_rows": 152,
              "orig_size_bytes": 12160,
              "truncated_num_cols": 9,
              "truncated_num_rows": 152,
              "truncated_size_bytes": 12160,
              "truncated_string_columns": []
            },
            "display_id": "6ca48254-f528-426d-bd6f-06feadf242e3",
            "dx_settings": {
              "ALLOW_NOTEABLE_ATTRS": true,
              "COLUMN_SAMPLING_METHOD": "outer",
              "DB_LOCATION": ":memory:",
              "DEV_MODE": false,
              "DISPLAY_MAX_COLUMNS": 100,
              "DISPLAY_MAX_ROWS": 50000,
              "DISPLAY_MODE": "simple",
              "ENABLE_ASSIGNMENT": true,
              "ENABLE_DATALINK": true,
              "FLATTEN_COLUMN_VALUES": true,
              "FLATTEN_INDEX_VALUES": false,
              "GENERATE_DEX_METADATA": false,
              "HTML_TABLE_SCHEMA": false,
              "LOG_LEVEL": 30,
              "MAX_RENDER_SIZE_BYTES": 104857600,
              "MAX_STRING_LENGTH": 250,
              "NUM_PAST_SAMPLES_TRACKED": 3,
              "RANDOM_STATE": 12648430,
              "RESET_INDEX_VALUES": false,
              "ROW_SAMPLING_METHOD": "random",
              "SAMPLING_FACTOR": 0.1,
              "SAMPLING_METHOD": "random",
              "STRINGIFY_COLUMN_VALUES": true,
              "STRINGIFY_INDEX_VALUES": false
            },
            "sample_history": [],
            "sampling_time": "2023-06-07T16:26:17.874075",
            "user_variable_name": null,
            "variable_name": "unk_dataframe_b465fbb1870e45f284101b65f83c7bca"
          },
          "6e8ad748-a553-4012-b941-a4c1241ddf62": {
            "applied_filters": [],
            "dataframe_info": {
              "default_index_used": true,
              "orig_num_cols": 9,
              "orig_num_rows": 67,
              "orig_size_bytes": 5360,
              "truncated_num_cols": 9,
              "truncated_num_rows": 67,
              "truncated_size_bytes": 5360,
              "truncated_string_columns": []
            },
            "display_id": "6e8ad748-a553-4012-b941-a4c1241ddf62",
            "dx_settings": {
              "ALLOW_NOTEABLE_ATTRS": true,
              "COLUMN_SAMPLING_METHOD": "outer",
              "DB_LOCATION": ":memory:",
              "DEV_MODE": false,
              "DISPLAY_MAX_COLUMNS": 100,
              "DISPLAY_MAX_ROWS": 50000,
              "DISPLAY_MODE": "simple",
              "ENABLE_ASSIGNMENT": true,
              "ENABLE_DATALINK": true,
              "FLATTEN_COLUMN_VALUES": true,
              "FLATTEN_INDEX_VALUES": false,
              "GENERATE_DEX_METADATA": false,
              "HTML_TABLE_SCHEMA": false,
              "LOG_LEVEL": 30,
              "MAX_RENDER_SIZE_BYTES": 104857600,
              "MAX_STRING_LENGTH": 250,
              "NUM_PAST_SAMPLES_TRACKED": 3,
              "RANDOM_STATE": 12648430,
              "RESET_INDEX_VALUES": false,
              "ROW_SAMPLING_METHOD": "random",
              "SAMPLING_FACTOR": 0.1,
              "SAMPLING_METHOD": "random",
              "STRINGIFY_COLUMN_VALUES": true,
              "STRINGIFY_INDEX_VALUES": false
            },
            "sample_history": [],
            "sampling_time": "2023-06-07T16:37:08.058648",
            "user_variable_name": null,
            "variable_name": "unk_dataframe_ab79fe0ef1b341febcc1785493825def"
          },
          "ebe2bdbc-98ab-44a2-a4dc-cb44b590d426": {
            "applied_filters": [],
            "dataframe_info": {
              "default_index_used": true,
              "orig_num_cols": 9,
              "orig_num_rows": 136,
              "orig_size_bytes": 10880,
              "truncated_num_cols": 9,
              "truncated_num_rows": 136,
              "truncated_size_bytes": 10880,
              "truncated_string_columns": []
            },
            "display_id": "ebe2bdbc-98ab-44a2-a4dc-cb44b590d426",
            "dx_settings": {
              "ALLOW_NOTEABLE_ATTRS": true,
              "COLUMN_SAMPLING_METHOD": "outer",
              "DB_LOCATION": ":memory:",
              "DEV_MODE": false,
              "DISPLAY_MAX_COLUMNS": 100,
              "DISPLAY_MAX_ROWS": 50000,
              "DISPLAY_MODE": "simple",
              "ENABLE_ASSIGNMENT": true,
              "ENABLE_DATALINK": true,
              "FLATTEN_COLUMN_VALUES": true,
              "FLATTEN_INDEX_VALUES": false,
              "GENERATE_DEX_METADATA": false,
              "HTML_TABLE_SCHEMA": false,
              "LOG_LEVEL": 30,
              "MAX_RENDER_SIZE_BYTES": 104857600,
              "MAX_STRING_LENGTH": 250,
              "NUM_PAST_SAMPLES_TRACKED": 3,
              "RANDOM_STATE": 12648430,
              "RESET_INDEX_VALUES": false,
              "ROW_SAMPLING_METHOD": "random",
              "SAMPLING_FACTOR": 0.1,
              "SAMPLING_METHOD": "random",
              "STRINGIFY_COLUMN_VALUES": true,
              "STRINGIFY_INDEX_VALUES": false
            },
            "sample_history": [],
            "sampling_time": "2023-06-07T16:38:35.167945",
            "user_variable_name": null,
            "variable_name": "unk_dataframe_a1b28e38587b4a74bb3ce3a1350ab3d1"
          }
        },
        "tags": []
      },
      "outputs": [],
      "source": "(\n    penguins\n    .filter(\n        (pl.col('species') == 'Adelie') &\n        (pl.col('flipper_length_mm') > 190) |\n        (pl.col('body_mass_g') < 3600)\n    )\n)",
      "id": "2bd2b2c2"
    },
    {
      "cell_type": "markdown",
      "metadata": {
        "tags": []
      },
      "source": "Les opérations de sélection et de filtre peuvent bien sûr être combinées!",
      "id": "0191cb71"
    },
    {
      "cell_type": "code",
      "execution_count": 26,
      "metadata": {
        "noteable": {
          "output_collection_id": "1221a664-1daf-4303-9cbb-94890ce13849"
        },
        "ExecuteTime": {
          "end_time": "2023-06-07T16:42:09.594266+00:00",
          "start_time": "2023-06-07T16:42:09.398163+00:00"
        },
        "datalink": {
          "c8c4ca51-0b45-4f93-b3bb-b8b67022ba33": {
            "applied_filters": [],
            "dataframe_info": {
              "default_index_used": true,
              "orig_num_cols": 2,
              "orig_num_rows": 152,
              "orig_size_bytes": 3648,
              "truncated_num_cols": 2,
              "truncated_num_rows": 152,
              "truncated_size_bytes": 3648,
              "truncated_string_columns": []
            },
            "display_id": "c8c4ca51-0b45-4f93-b3bb-b8b67022ba33",
            "dx_settings": {
              "ALLOW_NOTEABLE_ATTRS": true,
              "COLUMN_SAMPLING_METHOD": "outer",
              "DB_LOCATION": ":memory:",
              "DEV_MODE": false,
              "DISPLAY_MAX_COLUMNS": 100,
              "DISPLAY_MAX_ROWS": 50000,
              "DISPLAY_MODE": "simple",
              "ENABLE_ASSIGNMENT": true,
              "ENABLE_DATALINK": true,
              "FLATTEN_COLUMN_VALUES": true,
              "FLATTEN_INDEX_VALUES": false,
              "GENERATE_DEX_METADATA": false,
              "HTML_TABLE_SCHEMA": false,
              "LOG_LEVEL": 30,
              "MAX_RENDER_SIZE_BYTES": 104857600,
              "MAX_STRING_LENGTH": 250,
              "NUM_PAST_SAMPLES_TRACKED": 3,
              "RANDOM_STATE": 12648430,
              "RESET_INDEX_VALUES": false,
              "ROW_SAMPLING_METHOD": "random",
              "SAMPLING_FACTOR": 0.1,
              "SAMPLING_METHOD": "random",
              "STRINGIFY_COLUMN_VALUES": true,
              "STRINGIFY_INDEX_VALUES": false
            },
            "sample_history": [],
            "sampling_time": "2023-06-07T16:41:28.647632",
            "user_variable_name": null,
            "variable_name": "unk_dataframe_367a5abc7ff043498ddfb50fc1359edc"
          },
          "7e7ebc42-e0ab-4dc4-aa54-b8789b68b664": {
            "applied_filters": [],
            "dataframe_info": {
              "default_index_used": true,
              "orig_num_cols": 2,
              "orig_num_rows": 56,
              "orig_size_bytes": 1344,
              "truncated_num_cols": 2,
              "truncated_num_rows": 56,
              "truncated_size_bytes": 1344,
              "truncated_string_columns": []
            },
            "display_id": "7e7ebc42-e0ab-4dc4-aa54-b8789b68b664",
            "dx_settings": {
              "ALLOW_NOTEABLE_ATTRS": true,
              "COLUMN_SAMPLING_METHOD": "outer",
              "DB_LOCATION": ":memory:",
              "DEV_MODE": false,
              "DISPLAY_MAX_COLUMNS": 100,
              "DISPLAY_MAX_ROWS": 50000,
              "DISPLAY_MODE": "simple",
              "ENABLE_ASSIGNMENT": true,
              "ENABLE_DATALINK": true,
              "FLATTEN_COLUMN_VALUES": true,
              "FLATTEN_INDEX_VALUES": false,
              "GENERATE_DEX_METADATA": false,
              "HTML_TABLE_SCHEMA": false,
              "LOG_LEVEL": 30,
              "MAX_RENDER_SIZE_BYTES": 104857600,
              "MAX_STRING_LENGTH": 250,
              "NUM_PAST_SAMPLES_TRACKED": 3,
              "RANDOM_STATE": 12648430,
              "RESET_INDEX_VALUES": false,
              "ROW_SAMPLING_METHOD": "random",
              "SAMPLING_FACTOR": 0.1,
              "SAMPLING_METHOD": "random",
              "STRINGIFY_COLUMN_VALUES": true,
              "STRINGIFY_INDEX_VALUES": false
            },
            "sample_history": [],
            "sampling_time": "2023-06-07T16:42:09.438136",
            "user_variable_name": null,
            "variable_name": "unk_dataframe_df638eeb66964c45ad77fd8b4af83a85"
          }
        },
        "tags": []
      },
      "outputs": [],
      "source": "(\n    penguins\n    .filter((pl.col('species') == 'Adelie') & (pl.col('island') == 'Dream'))\n    .select(['flipper_length_mm', 'body_mass_g'])\n)",
      "id": "75c4aba7"
    },
    {
      "cell_type": "markdown",
      "metadata": {
        "tags": []
      },
      "source": "### Effectuer un sommaire avec `groupby`\n\nNoteable permet d'obtenir plusieurs statistiques en jouant avec les tableaux. Mais si vous désirez plutôt passer par Python, la méthode `groupby` permet d'effectuer des calculs par groupe et sous-groupes.",
      "id": "35060b94"
    },
    {
      "cell_type": "code",
      "execution_count": 43,
      "metadata": {
        "noteable": {
          "output_collection_id": "99dc20c7-11e5-4ae1-858e-761b5fd60625"
        },
        "ExecuteTime": {
          "end_time": "2023-06-07T16:53:32.270078+00:00",
          "start_time": "2023-06-07T16:53:32.047731+00:00"
        },
        "datalink": {
          "d34a68a4-6639-42da-a381-223eab93a7b2": {
            "applied_filters": [],
            "dataframe_info": {
              "default_index_used": true,
              "orig_num_cols": 9,
              "orig_num_rows": 5,
              "orig_size_bytes": 400,
              "truncated_num_cols": 9,
              "truncated_num_rows": 5,
              "truncated_size_bytes": 400,
              "truncated_string_columns": []
            },
            "display_id": "d34a68a4-6639-42da-a381-223eab93a7b2",
            "dx_settings": {
              "ALLOW_NOTEABLE_ATTRS": true,
              "COLUMN_SAMPLING_METHOD": "outer",
              "DB_LOCATION": ":memory:",
              "DEV_MODE": false,
              "DISPLAY_MAX_COLUMNS": 100,
              "DISPLAY_MAX_ROWS": 50000,
              "DISPLAY_MODE": "simple",
              "ENABLE_ASSIGNMENT": true,
              "ENABLE_DATALINK": true,
              "FLATTEN_COLUMN_VALUES": true,
              "FLATTEN_INDEX_VALUES": false,
              "GENERATE_DEX_METADATA": false,
              "HTML_TABLE_SCHEMA": false,
              "LOG_LEVEL": 30,
              "MAX_RENDER_SIZE_BYTES": 104857600,
              "MAX_STRING_LENGTH": 250,
              "NUM_PAST_SAMPLES_TRACKED": 3,
              "RANDOM_STATE": 12648430,
              "RESET_INDEX_VALUES": false,
              "ROW_SAMPLING_METHOD": "random",
              "SAMPLING_FACTOR": 0.1,
              "SAMPLING_METHOD": "random",
              "STRINGIFY_COLUMN_VALUES": true,
              "STRINGIFY_INDEX_VALUES": false
            },
            "sample_history": [],
            "sampling_time": "2023-06-07T16:52:12.363067",
            "user_variable_name": null,
            "variable_name": "unk_dataframe_22ada11ca32a4af589c83693a5e5f47a"
          },
          "b9ab7f58-7a92-43a7-813a-819fa5f178b3": {
            "applied_filters": [],
            "dataframe_info": {
              "default_index_used": true,
              "orig_num_cols": 9,
              "orig_num_rows": 5,
              "orig_size_bytes": 400,
              "truncated_num_cols": 9,
              "truncated_num_rows": 5,
              "truncated_size_bytes": 400,
              "truncated_string_columns": []
            },
            "display_id": "b9ab7f58-7a92-43a7-813a-819fa5f178b3",
            "dx_settings": {
              "ALLOW_NOTEABLE_ATTRS": true,
              "COLUMN_SAMPLING_METHOD": "outer",
              "DB_LOCATION": ":memory:",
              "DEV_MODE": false,
              "DISPLAY_MAX_COLUMNS": 100,
              "DISPLAY_MAX_ROWS": 50000,
              "DISPLAY_MODE": "simple",
              "ENABLE_ASSIGNMENT": true,
              "ENABLE_DATALINK": true,
              "FLATTEN_COLUMN_VALUES": true,
              "FLATTEN_INDEX_VALUES": false,
              "GENERATE_DEX_METADATA": false,
              "HTML_TABLE_SCHEMA": false,
              "LOG_LEVEL": 30,
              "MAX_RENDER_SIZE_BYTES": 104857600,
              "MAX_STRING_LENGTH": 250,
              "NUM_PAST_SAMPLES_TRACKED": 3,
              "RANDOM_STATE": 12648430,
              "RESET_INDEX_VALUES": false,
              "ROW_SAMPLING_METHOD": "random",
              "SAMPLING_FACTOR": 0.1,
              "SAMPLING_METHOD": "random",
              "STRINGIFY_COLUMN_VALUES": true,
              "STRINGIFY_INDEX_VALUES": false
            },
            "sample_history": [],
            "sampling_time": "2023-06-07T16:53:32.111434",
            "user_variable_name": null,
            "variable_name": "unk_dataframe_89f1c8c988d74d478c6852ec1ceca543"
          }
        },
        "tags": []
      },
      "outputs": [],
      "source": "(\n    penguins\n    .filter(pl.col('island') == 'Dream')\n    .groupby(['species', 'sex'])\n    .mean()\n)",
      "id": "1972ff7a"
    },
    {
      "cell_type": "markdown",
      "metadata": {
        "tags": []
      },
      "source": "### Effectuer des calculs avec `with_columns`\n\n`with_columns` est super pratique pour effectuer des opérations sur des colonnes. On utilise `pl.col()` comme auparavant pour faire référence à une colonne. Pour créer une au lieu de remplacer l'ancienne, on n'a qu'à lui donner un nouveau nom avec la méthode `alias('nom_de_la_nouvelle_colonne')`.\n",
      "id": "a1a6c4b4"
    },
    {
      "cell_type": "code",
      "execution_count": 46,
      "metadata": {
        "noteable": {
          "output_collection_id": "00e7c33a-9a89-4192-80ae-9d0001537a30"
        },
        "tags": [],
        "ExecuteTime": {
          "end_time": "2023-06-07T17:03:56.139084+00:00",
          "start_time": "2023-06-07T17:03:55.899859+00:00"
        },
        "datalink": {
          "f86f5751-5deb-47b9-b74b-981a2cfc18cf": {
            "applied_filters": [],
            "dataframe_info": {
              "default_index_used": true,
              "orig_num_cols": 10,
              "orig_num_rows": 344,
              "orig_size_bytes": 30272,
              "truncated_num_cols": 10,
              "truncated_num_rows": 344,
              "truncated_size_bytes": 30272,
              "truncated_string_columns": []
            },
            "display_id": "f86f5751-5deb-47b9-b74b-981a2cfc18cf",
            "dx_settings": {
              "ALLOW_NOTEABLE_ATTRS": true,
              "COLUMN_SAMPLING_METHOD": "outer",
              "DB_LOCATION": ":memory:",
              "DEV_MODE": false,
              "DISPLAY_MAX_COLUMNS": 100,
              "DISPLAY_MAX_ROWS": 50000,
              "DISPLAY_MODE": "simple",
              "ENABLE_ASSIGNMENT": true,
              "ENABLE_DATALINK": true,
              "FLATTEN_COLUMN_VALUES": true,
              "FLATTEN_INDEX_VALUES": false,
              "GENERATE_DEX_METADATA": false,
              "HTML_TABLE_SCHEMA": false,
              "LOG_LEVEL": 30,
              "MAX_RENDER_SIZE_BYTES": 104857600,
              "MAX_STRING_LENGTH": 250,
              "NUM_PAST_SAMPLES_TRACKED": 3,
              "RANDOM_STATE": 12648430,
              "RESET_INDEX_VALUES": false,
              "ROW_SAMPLING_METHOD": "random",
              "SAMPLING_FACTOR": 0.1,
              "SAMPLING_METHOD": "random",
              "STRINGIFY_COLUMN_VALUES": true,
              "STRINGIFY_INDEX_VALUES": false
            },
            "sample_history": [],
            "sampling_time": "2023-06-07T17:03:55.977893",
            "user_variable_name": null,
            "variable_name": "unk_dataframe_10bc375785794eea91f2c76aace5302d"
          }
        }
      },
      "outputs": [],
      "source": "(\n    penguins\n    .with_columns((pl.col('flipper_length_mm') / 25.4).alias('flipper_length_inches'))\n)",
      "id": "0e122c1e"
    },
    {
      "cell_type": "markdown",
      "metadata": {
        "tags": []
      },
      "source": [
        "### Tableau large - tableau long\n",
        "\n",
        "Le tableau de la chicouté est formatté correctement selon les règles établies précédemment. Ce n'est pas toujours le cas. Reprenons l'exemple des traitements appliqués sur différents site, évoqué précement dans ce carnet."
      ],
      "id": "186cd673"
    },
    {
      "cell_type": "code",
      "execution_count": 53,
      "metadata": {
        "noteable": {
          "output_collection_id": "da24ddcd-67ac-450e-8f9e-7c0275129206"
        },
        "tags": [],
        "ExecuteTime": {
          "end_time": "2023-06-07T17:08:24.318493+00:00",
          "start_time": "2023-06-07T17:08:24.098734+00:00"
        },
        "datalink": {
          "2cffc72f-75ef-47f0-a99b-c43e05a7eed6": {
            "applied_filters": [],
            "dataframe_info": {
              "default_index_used": true,
              "orig_num_cols": 4,
              "orig_num_rows": 3,
              "orig_size_bytes": 120,
              "truncated_num_cols": 4,
              "truncated_num_rows": 3,
              "truncated_size_bytes": 120,
              "truncated_string_columns": []
            },
            "display_id": "2cffc72f-75ef-47f0-a99b-c43e05a7eed6",
            "dx_settings": {
              "ALLOW_NOTEABLE_ATTRS": true,
              "COLUMN_SAMPLING_METHOD": "outer",
              "DB_LOCATION": ":memory:",
              "DEV_MODE": false,
              "DISPLAY_MAX_COLUMNS": 100,
              "DISPLAY_MAX_ROWS": 50000,
              "DISPLAY_MODE": "simple",
              "ENABLE_ASSIGNMENT": true,
              "ENABLE_DATALINK": true,
              "FLATTEN_COLUMN_VALUES": true,
              "FLATTEN_INDEX_VALUES": false,
              "GENERATE_DEX_METADATA": false,
              "HTML_TABLE_SCHEMA": false,
              "LOG_LEVEL": 30,
              "MAX_RENDER_SIZE_BYTES": 104857600,
              "MAX_STRING_LENGTH": 250,
              "NUM_PAST_SAMPLES_TRACKED": 3,
              "RANDOM_STATE": 12648430,
              "RESET_INDEX_VALUES": false,
              "ROW_SAMPLING_METHOD": "random",
              "SAMPLING_FACTOR": 0.1,
              "SAMPLING_METHOD": "random",
              "STRINGIFY_COLUMN_VALUES": true,
              "STRINGIFY_INDEX_VALUES": false
            },
            "sample_history": [],
            "sampling_time": "2023-06-07T17:08:24.160791",
            "user_variable_name": null,
            "variable_name": "unk_dataframe_5671a5c676ff4275b86c607cc9b116ec"
          }
        }
      },
      "outputs": [],
      "source": "experience = pl.DataFrame({\n    'Site': ['Sainte-Patente', 'Sainte-Affaire', 'Saint-Gréement'],\n    'Traitement A': [4.1, 5.8, 2.9], 'Traitement B': [8.2, 5.9, 3.4],\n    'Traitement C': [6.8, np.NaN, 4.6]\n})\nexperience",
      "id": "c2d9e66f"
    },
    {
      "cell_type": "markdown",
      "metadata": {
        "tags": []
      },
      "source": "Pour transformer ce tableau en mode *tidy* (organisé), utilisons la méthode `.melt()`. Cette méthode prend, comme argument `id_var`, les colonnes qui ne doivent *pas* être fusionnées. Dans ce cas-ci, les sites.",
      "id": "d2f764bf"
    },
    {
      "cell_type": "code",
      "execution_count": 54,
      "metadata": {
        "noteable": {
          "output_collection_id": "06668305-e44e-43e3-aa02-5ebc423cd37c"
        },
        "tags": [],
        "ExecuteTime": {
          "end_time": "2023-06-07T17:08:52.311382+00:00",
          "start_time": "2023-06-07T17:08:52.098464+00:00"
        },
        "datalink": {
          "646dd07f-23d3-4e1d-b6b9-2e52dfcbb8f1": {
            "applied_filters": [],
            "dataframe_info": {
              "default_index_used": true,
              "orig_num_cols": 3,
              "orig_num_rows": 9,
              "orig_size_bytes": 288,
              "truncated_num_cols": 3,
              "truncated_num_rows": 9,
              "truncated_size_bytes": 288,
              "truncated_string_columns": []
            },
            "display_id": "646dd07f-23d3-4e1d-b6b9-2e52dfcbb8f1",
            "dx_settings": {
              "ALLOW_NOTEABLE_ATTRS": true,
              "COLUMN_SAMPLING_METHOD": "outer",
              "DB_LOCATION": ":memory:",
              "DEV_MODE": false,
              "DISPLAY_MAX_COLUMNS": 100,
              "DISPLAY_MAX_ROWS": 50000,
              "DISPLAY_MODE": "simple",
              "ENABLE_ASSIGNMENT": true,
              "ENABLE_DATALINK": true,
              "FLATTEN_COLUMN_VALUES": true,
              "FLATTEN_INDEX_VALUES": false,
              "GENERATE_DEX_METADATA": false,
              "HTML_TABLE_SCHEMA": false,
              "LOG_LEVEL": 30,
              "MAX_RENDER_SIZE_BYTES": 104857600,
              "MAX_STRING_LENGTH": 250,
              "NUM_PAST_SAMPLES_TRACKED": 3,
              "RANDOM_STATE": 12648430,
              "RESET_INDEX_VALUES": false,
              "ROW_SAMPLING_METHOD": "random",
              "SAMPLING_FACTOR": 0.1,
              "SAMPLING_METHOD": "random",
              "STRINGIFY_COLUMN_VALUES": true,
              "STRINGIFY_INDEX_VALUES": false
            },
            "sample_history": [],
            "sampling_time": "2023-06-07T17:08:52.152556",
            "user_variable_name": null,
            "variable_name": "unk_dataframe_ed0692af3bcc4673ad69dad2771b2e95"
          }
        }
      },
      "outputs": [],
      "source": [
        "experience_tidy = experience.melt(id_vars='Site')\n",
        "experience_tidy"
      ],
      "id": "075bf8e0"
    },
    {
      "cell_type": "markdown",
      "metadata": {
        "tags": []
      },
      "source": "La méthode `.rename()` permet de renommer les indices et les colonnes. Dans notre cas, nous allons renommer les colonnes `variable` et `value`.\n",
      "id": "ab660fce"
    },
    {
      "cell_type": "code",
      "execution_count": 55,
      "metadata": {
        "noteable": {
          "output_collection_id": "27841082-0236-45f9-a69b-5a93691802b2"
        },
        "tags": [],
        "ExecuteTime": {
          "end_time": "2023-06-07T17:09:37.406675+00:00",
          "start_time": "2023-06-07T17:09:37.198314+00:00"
        },
        "datalink": {
          "6bab822a-1cc0-4040-b1be-9d6c1d1328a4": {
            "applied_filters": [],
            "dataframe_info": {
              "default_index_used": true,
              "orig_num_cols": 3,
              "orig_num_rows": 9,
              "orig_size_bytes": 288,
              "truncated_num_cols": 3,
              "truncated_num_rows": 9,
              "truncated_size_bytes": 288,
              "truncated_string_columns": []
            },
            "display_id": "6bab822a-1cc0-4040-b1be-9d6c1d1328a4",
            "dx_settings": {
              "ALLOW_NOTEABLE_ATTRS": true,
              "COLUMN_SAMPLING_METHOD": "outer",
              "DB_LOCATION": ":memory:",
              "DEV_MODE": false,
              "DISPLAY_MAX_COLUMNS": 100,
              "DISPLAY_MAX_ROWS": 50000,
              "DISPLAY_MODE": "simple",
              "ENABLE_ASSIGNMENT": true,
              "ENABLE_DATALINK": true,
              "FLATTEN_COLUMN_VALUES": true,
              "FLATTEN_INDEX_VALUES": false,
              "GENERATE_DEX_METADATA": false,
              "HTML_TABLE_SCHEMA": false,
              "LOG_LEVEL": 30,
              "MAX_RENDER_SIZE_BYTES": 104857600,
              "MAX_STRING_LENGTH": 250,
              "NUM_PAST_SAMPLES_TRACKED": 3,
              "RANDOM_STATE": 12648430,
              "RESET_INDEX_VALUES": false,
              "ROW_SAMPLING_METHOD": "random",
              "SAMPLING_FACTOR": 0.1,
              "SAMPLING_METHOD": "random",
              "STRINGIFY_COLUMN_VALUES": true,
              "STRINGIFY_INDEX_VALUES": false
            },
            "sample_history": [],
            "sampling_time": "2023-06-07T17:09:37.250632",
            "user_variable_name": null,
            "variable_name": "unk_dataframe_37c6a16dbc254d808cbbc62378b3f404"
          }
        },
        "dx": {
          "dashboard": {
            "multiViews": []
          },
          "fieldMetadata": {},
          "updated": 1689274628195,
          "views": [
            {
              "annotationRules": [],
              "chart": {},
              "chartMode": "grid",
              "confoRules": [],
              "decoration": {
                "footer": "",
                "subtitle": "",
                "title": "Table"
              },
              "facets": [],
              "filterSettings": {
                "SHOW_FILTER_PANEL": true,
                "filters": []
              },
              "id": "first-view",
              "isDefault": true,
              "type": "public",
              "userID": ""
            },
            {
              "annotationRules": [],
              "chart": {},
              "chartMode": "grid",
              "confoRules": [],
              "decoration": {
                "footer": "",
                "subtitle": "",
                "title": "Table"
              },
              "facets": [],
              "filterSettings": {
                "SHOW_FILTER_PANEL": true,
                "filters": []
              },
              "id": "first-view",
              "isDefault": true,
              "isTransitory": true,
              "type": "public",
              "userID": ""
            }
          ]
        }
      },
      "outputs": [],
      "source": "experience_tidy = experience_tidy.rename({'variable': 'Traitement', 'value':'Rendement'})\nexperience_tidy",
      "id": "9c8867de"
    },
    {
      "cell_type": "markdown",
      "metadata": {
        "tags": []
      },
      "source": [
        "L'opération inverse avec la méthode `.pivot()`."
      ],
      "id": "7590379c"
    },
    {
      "cell_type": "code",
      "execution_count": 56,
      "metadata": {
        "noteable": {
          "output_collection_id": "73da08ce-8a11-4e0e-80e4-7f6818c9892d"
        },
        "tags": [],
        "ExecuteTime": {
          "end_time": "2023-06-07T17:10:06.410358+00:00",
          "start_time": "2023-06-07T17:10:06.198530+00:00"
        },
        "datalink": {
          "9bd1f524-f830-4f5e-8864-8ba6949f02be": {
            "applied_filters": [],
            "dataframe_info": {
              "default_index_used": true,
              "orig_num_cols": 4,
              "orig_num_rows": 3,
              "orig_size_bytes": 120,
              "truncated_num_cols": 4,
              "truncated_num_rows": 3,
              "truncated_size_bytes": 120,
              "truncated_string_columns": []
            },
            "display_id": "9bd1f524-f830-4f5e-8864-8ba6949f02be",
            "dx_settings": {
              "ALLOW_NOTEABLE_ATTRS": true,
              "COLUMN_SAMPLING_METHOD": "outer",
              "DB_LOCATION": ":memory:",
              "DEV_MODE": false,
              "DISPLAY_MAX_COLUMNS": 100,
              "DISPLAY_MAX_ROWS": 50000,
              "DISPLAY_MODE": "simple",
              "ENABLE_ASSIGNMENT": true,
              "ENABLE_DATALINK": true,
              "FLATTEN_COLUMN_VALUES": true,
              "FLATTEN_INDEX_VALUES": false,
              "GENERATE_DEX_METADATA": false,
              "HTML_TABLE_SCHEMA": false,
              "LOG_LEVEL": 30,
              "MAX_RENDER_SIZE_BYTES": 104857600,
              "MAX_STRING_LENGTH": 250,
              "NUM_PAST_SAMPLES_TRACKED": 3,
              "RANDOM_STATE": 12648430,
              "RESET_INDEX_VALUES": false,
              "ROW_SAMPLING_METHOD": "random",
              "SAMPLING_FACTOR": 0.1,
              "SAMPLING_METHOD": "random",
              "STRINGIFY_COLUMN_VALUES": true,
              "STRINGIFY_INDEX_VALUES": false
            },
            "sample_history": [],
            "sampling_time": "2023-06-07T17:10:06.253442",
            "user_variable_name": null,
            "variable_name": "unk_dataframe_073573941e8d4d839dafbb5b6dd447e1"
          }
        }
      },
      "outputs": [],
      "source": [
        "experience_tidy.pivot(index='Site', columns='Traitement', values='Rendement')"
      ],
      "id": "7de01979"
    },
    {
      "cell_type": "markdown",
      "metadata": {
        "tags": []
      },
      "source": "### Combiner des tableaux\n\nNous avons introduit plus haut la notion de base de données. Nous voudrions peut-être utiliser le nom de l'espèce de manchot pour lui attribuer certaines caractéristiques.",
      "id": "08b88feb"
    },
    {
      "cell_type": "code",
      "execution_count": 57,
      "metadata": {
        "noteable": {
          "output_collection_id": "95e6a45e-b231-4cfb-ae41-a618cc482a27"
        },
        "tags": [],
        "ExecuteTime": {
          "end_time": "2023-06-07T17:18:30.306350+00:00",
          "start_time": "2023-06-07T17:18:30.098674+00:00"
        },
        "datalink": {
          "40b0de11-c652-4499-b442-ee373ba46941": {
            "applied_filters": [],
            "dataframe_info": {
              "default_index_used": true,
              "orig_num_cols": 3,
              "orig_num_rows": 3,
              "orig_size_bytes": 96,
              "truncated_num_cols": 3,
              "truncated_num_rows": 3,
              "truncated_size_bytes": 96,
              "truncated_string_columns": []
            },
            "display_id": "40b0de11-c652-4499-b442-ee373ba46941",
            "dx_settings": {
              "ALLOW_NOTEABLE_ATTRS": true,
              "COLUMN_SAMPLING_METHOD": "outer",
              "DB_LOCATION": ":memory:",
              "DEV_MODE": false,
              "DISPLAY_MAX_COLUMNS": 100,
              "DISPLAY_MAX_ROWS": 50000,
              "DISPLAY_MODE": "simple",
              "ENABLE_ASSIGNMENT": true,
              "ENABLE_DATALINK": true,
              "FLATTEN_COLUMN_VALUES": true,
              "FLATTEN_INDEX_VALUES": false,
              "GENERATE_DEX_METADATA": false,
              "HTML_TABLE_SCHEMA": false,
              "LOG_LEVEL": 30,
              "MAX_RENDER_SIZE_BYTES": 104857600,
              "MAX_STRING_LENGTH": 250,
              "NUM_PAST_SAMPLES_TRACKED": 3,
              "RANDOM_STATE": 12648430,
              "RESET_INDEX_VALUES": false,
              "ROW_SAMPLING_METHOD": "random",
              "SAMPLING_FACTOR": 0.1,
              "SAMPLING_METHOD": "random",
              "STRINGIFY_COLUMN_VALUES": true,
              "STRINGIFY_INDEX_VALUES": false
            },
            "sample_history": [],
            "sampling_time": "2023-06-07T17:18:30.150422",
            "user_variable_name": null,
            "variable_name": "unk_dataframe_8f10dbf667d64ab99a0c486ff5d8686a"
          }
        }
      },
      "outputs": [],
      "source": "penguins_meta = pl.read_csv('data/penguins_meta.csv')\npenguins_meta",
      "id": "d84870e6"
    },
    {
      "cell_type": "markdown",
      "metadata": {
        "tags": []
      },
      "source": "Notre information est organisée en deux tableaux, liés par la colonne `species`. Comment fusionner l'information pour que l'info soit être utilisée dans son ensemble ? Par des opérations de jointure. La plus commune est la jointure à gauche, où le tableau de droit vient se coller au tableau de gauche.",
      "id": "19e5117e"
    },
    {
      "id": "255fcc92-d3b0-48df-ba8e-b529aabc5914",
      "cell_type": "code",
      "metadata": {
        "noteable": {
          "cell_type": "python",
          "output_collection_id": "e2782d01-e27e-42de-a0f7-de6fa3b9cf3f"
        },
        "ExecuteTime": {
          "end_time": "2023-06-07T17:24:09.644235+00:00",
          "start_time": "2023-06-07T17:24:09.398946+00:00"
        },
        "datalink": {
          "483d5a8f-a53f-40f7-820a-a3c61e0513d3": {
            "applied_filters": [],
            "dataframe_info": {
              "default_index_used": true,
              "orig_num_cols": 9,
              "orig_num_rows": 344,
              "orig_size_bytes": 27520,
              "truncated_num_cols": 9,
              "truncated_num_rows": 344,
              "truncated_size_bytes": 27520,
              "truncated_string_columns": []
            },
            "display_id": "483d5a8f-a53f-40f7-820a-a3c61e0513d3",
            "dx_settings": {
              "ALLOW_NOTEABLE_ATTRS": true,
              "COLUMN_SAMPLING_METHOD": "outer",
              "DB_LOCATION": ":memory:",
              "DEV_MODE": false,
              "DISPLAY_MAX_COLUMNS": 100,
              "DISPLAY_MAX_ROWS": 50000,
              "DISPLAY_MODE": "simple",
              "ENABLE_ASSIGNMENT": true,
              "ENABLE_DATALINK": true,
              "FLATTEN_COLUMN_VALUES": true,
              "FLATTEN_INDEX_VALUES": false,
              "GENERATE_DEX_METADATA": false,
              "HTML_TABLE_SCHEMA": false,
              "LOG_LEVEL": 30,
              "MAX_RENDER_SIZE_BYTES": 104857600,
              "MAX_STRING_LENGTH": 250,
              "NUM_PAST_SAMPLES_TRACKED": 3,
              "RANDOM_STATE": 12648430,
              "RESET_INDEX_VALUES": false,
              "ROW_SAMPLING_METHOD": "random",
              "SAMPLING_FACTOR": 0.1,
              "SAMPLING_METHOD": "random",
              "STRINGIFY_COLUMN_VALUES": true,
              "STRINGIFY_INDEX_VALUES": false
            },
            "sample_history": [],
            "sampling_time": "2023-06-07T17:23:09.570678",
            "user_variable_name": null,
            "variable_name": "unk_dataframe_e59b90eb85454fa3951ea5bcdebe0755"
          },
          "f4ca89bc-8ed2-4927-b9c8-877461e69606": {
            "applied_filters": [],
            "dataframe_info": {
              "default_index_used": true,
              "orig_num_cols": 11,
              "orig_num_rows": 344,
              "orig_size_bytes": 33024,
              "truncated_num_cols": 11,
              "truncated_num_rows": 344,
              "truncated_size_bytes": 33024,
              "truncated_string_columns": []
            },
            "display_id": "f4ca89bc-8ed2-4927-b9c8-877461e69606",
            "dx_settings": {
              "ALLOW_NOTEABLE_ATTRS": true,
              "COLUMN_SAMPLING_METHOD": "outer",
              "DB_LOCATION": ":memory:",
              "DEV_MODE": false,
              "DISPLAY_MAX_COLUMNS": 100,
              "DISPLAY_MAX_ROWS": 50000,
              "DISPLAY_MODE": "simple",
              "ENABLE_ASSIGNMENT": true,
              "ENABLE_DATALINK": true,
              "FLATTEN_COLUMN_VALUES": true,
              "FLATTEN_INDEX_VALUES": false,
              "GENERATE_DEX_METADATA": false,
              "HTML_TABLE_SCHEMA": false,
              "LOG_LEVEL": 30,
              "MAX_RENDER_SIZE_BYTES": 104857600,
              "MAX_STRING_LENGTH": 250,
              "NUM_PAST_SAMPLES_TRACKED": 3,
              "RANDOM_STATE": 12648430,
              "RESET_INDEX_VALUES": false,
              "ROW_SAMPLING_METHOD": "random",
              "SAMPLING_FACTOR": 0.1,
              "SAMPLING_METHOD": "random",
              "STRINGIFY_COLUMN_VALUES": true,
              "STRINGIFY_INDEX_VALUES": false
            },
            "sample_history": [],
            "sampling_time": "2023-06-07T17:24:09.482174",
            "user_variable_name": null,
            "variable_name": "unk_dataframe_985f984240b04973af14f467a319d3e4"
          }
        }
      },
      "execution_count": null,
      "source": "(\n    penguins # tableau de gauche\n    .join(penguins_meta, on='species', how='left')\n)",
      "outputs": []
    },
    {
      "id": "56e713cc-bb2f-4389-a8cf-fd08b968b72b",
      "cell_type": "markdown",
      "source": "Ainsi, les informations sont combinées. Plusieurs [types de jointure](https://en.wikipedia.org/wiki/Join_(SQL)) peuvent être effectuées.\n\nPar ailleurs, je n'ai présenté que les opérations les plus importantes. Pour aller plus loin, le [guide d'utilisation de *Polars*](https://pola-rs.github.io/polars-book/user-guide/index.html#) est bourré d'exemples!",
      "metadata": {
        "noteable": {
          "cell_type": "markdown"
        }
      }
    }
  ],
  "metadata": {
    "kernel_info": {
      "name": "python3"
    },
    "kernelspec": {
      "display_name": "Python 3",
      "language": "python",
      "name": "python3"
    },
    "language_info": {
      "codemirror_mode": {
        "name": "ipython",
        "version": 3
      },
      "file_extension": ".py",
      "mimetype": "text/x-python",
      "name": "python",
      "nbconvert_exporter": "python",
      "pygments_lexer": "ipython3",
      "version": "3.6.4"
    },
    "noteable": {
      "last_transaction_id": "2663ae24-8ef1-4b2e-b60e-c2539780d2f8",
      "db_connection": "@noteable"
    },
    "selected_hardware_size": "small"
  },
  "nbformat": 4,
  "nbformat_minor": 5
}